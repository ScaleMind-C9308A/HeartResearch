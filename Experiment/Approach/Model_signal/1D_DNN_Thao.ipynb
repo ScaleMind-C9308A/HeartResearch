{
 "cells": [
  {
   "cell_type": "code",
   "execution_count": 1,
   "id": "07f2ca83",
   "metadata": {},
   "outputs": [],
   "source": [
    "import os\n",
    "import pandas as pd\n",
    "import matplotlib.pyplot as plt\n",
    "import numpy as np\n",
    "import seaborn as sns\n",
    "\n",
    "import random\n",
    "from glob import glob\n",
    "from tqdm import tqdm\n",
    "from scipy.io import loadmat\n",
    "\n",
    "import torch\n",
    "from torch import nn\n",
    "from torch.optim import Adam\n",
    "from torch.optim.lr_scheduler import CosineAnnealingLR\n",
    "from torch.utils.data import Dataset, DataLoader\n",
    "import torch.nn.functional as F"
   ]
  },
  {
   "cell_type": "code",
   "execution_count": 2,
   "id": "ebf4df94",
   "metadata": {},
   "outputs": [
    {
     "name": "stdout",
     "output_type": "stream",
     "text": [
      "['TrainingSet3', 'Label.csv', 'alldata', 'TrainingSet1', 'single_label.csv', 'TrainingSet2']\n"
     ]
    }
   ],
   "source": [
    "data_dir = \"/media/mountHDD2/khoibaocon\"\n",
    "print(os.listdir(data_dir))"
   ]
  },
  {
   "cell_type": "code",
   "execution_count": 3,
   "id": "002eda91",
   "metadata": {},
   "outputs": [
    {
     "data": {
      "text/plain": [
       "(6877, 4)"
      ]
     },
     "execution_count": 3,
     "metadata": {},
     "output_type": "execute_result"
    }
   ],
   "source": [
    "main_df = pd.read_csv(data_dir + \"/Label.csv\")\n",
    "main_df.shape"
   ]
  },
  {
   "cell_type": "code",
   "execution_count": 4,
   "id": "5b269b99",
   "metadata": {},
   "outputs": [
    {
     "data": {
      "text/plain": [
       "First_label\n",
       "5    1695\n",
       "2    1098\n",
       "1     918\n",
       "8     826\n",
       "3     704\n",
       "7     653\n",
       "6     574\n",
       "4     207\n",
       "9     202\n",
       "Name: count, dtype: int64"
      ]
     },
     "execution_count": 4,
     "metadata": {},
     "output_type": "execute_result"
    }
   ],
   "source": [
    "main_df[\"First_label\"].value_counts()"
   ]
  },
  {
   "cell_type": "code",
   "execution_count": 5,
   "id": "d07dbb02",
   "metadata": {},
   "outputs": [
    {
     "data": {
      "text/plain": [
       "Second_label\n",
       "5.0    162\n",
       "2.0    123\n",
       "7.0     47\n",
       "6.0     42\n",
       "8.0     41\n",
       "4.0     28\n",
       "3.0     18\n",
       "9.0     16\n",
       "Name: count, dtype: int64"
      ]
     },
     "execution_count": 5,
     "metadata": {},
     "output_type": "execute_result"
    }
   ],
   "source": [
    "main_df[\"Second_label\"].value_counts()"
   ]
  },
  {
   "cell_type": "code",
   "execution_count": 6,
   "id": "a1ee96da",
   "metadata": {},
   "outputs": [
    {
     "data": {
      "text/plain": [
       "Third_label\n",
       "9.0    2\n",
       "8.0    2\n",
       "6.0    1\n",
       "4.0    1\n",
       "Name: count, dtype: int64"
      ]
     },
     "execution_count": 6,
     "metadata": {},
     "output_type": "execute_result"
    }
   ],
   "source": [
    "main_df[\"Third_label\"].value_counts()"
   ]
  },
  {
   "cell_type": "code",
   "execution_count": 7,
   "id": "006fe890",
   "metadata": {},
   "outputs": [
    {
     "name": "stdout",
     "output_type": "stream",
     "text": [
      "6877\n"
     ]
    }
   ],
   "source": [
    "d = (os.listdir(\"/media/mountHDD2/khoibaocon/alldata\"))\n",
    "print(len(d))"
   ]
  },
  {
   "cell_type": "code",
   "execution_count": 8,
   "id": "84b02c00",
   "metadata": {},
   "outputs": [],
   "source": [
    "first_lb_df = main_df[main_df[\"First_label\"].notnull()]\n",
    "first_fns = first_lb_df[\"Recording\"].values.tolist()"
   ]
  },
  {
   "cell_type": "code",
   "execution_count": 9,
   "id": "1a58138f",
   "metadata": {},
   "outputs": [],
   "source": [
    "second_lb_df = main_df[main_df[\"Second_label\"].notnull()]\n",
    "second_fns = second_lb_df[\"Recording\"].values.tolist()\n",
    "\n",
    "third_lb_df = main_df[main_df[\"Third_label\"].notnull()]\n",
    "third_fns = third_lb_df[\"Recording\"].values.tolist()"
   ]
  },
  {
   "cell_type": "code",
   "execution_count": 10,
   "id": "896a3177",
   "metadata": {},
   "outputs": [
    {
     "name": "stdout",
     "output_type": "stream",
     "text": [
      "7360\n"
     ]
    }
   ],
   "source": [
    "first_mat_paths = [data_dir + f\"/alldata/{x}.mat\" for x in first_fns]\n",
    "second_mat_paths = [data_dir + f\"/alldata/{x}.mat\" for x in second_fns]\n",
    "third_mat_paths = [data_dir + f\"/alldata/{x}.mat\" for x in third_fns]\n",
    "all_mat_paths = first_mat_paths + second_mat_paths + third_mat_paths\n",
    "print(len(all_mat_paths))"
   ]
  },
  {
   "cell_type": "code",
   "execution_count": 11,
   "id": "c92ba860",
   "metadata": {},
   "outputs": [],
   "source": [
    "class Redu(nn.Module):\n",
    "    def __init__(self, in_channel, out_channel, kernel_size):\n",
    "        super().__init__()\n",
    "        \n",
    "        self.in_channel = in_channel\n",
    "        self.out_channel = out_channel\n",
    "        self.kernel_size = kernel_size\n",
    "        \n",
    "        self.conv1 = nn.Sequential(\n",
    "            nn.MaxPool1d(4),\n",
    "            nn.Conv1d(self.in_channel, self.out_channel, 1, 1)\n",
    "        )\n",
    "        self.conv2 = nn.Sequential(\n",
    "            nn.Conv1d(self.in_channel, self.out_channel, self.kernel_size, 1),\n",
    "            nn.LeakyReLU(),\n",
    "            nn.BatchNorm1d(self.out_channel),\n",
    "            nn.Dropout(0.2),\n",
    "            nn.Conv1d(self.out_channel, self.out_channel, self.kernel_size, 4, )\n",
    "        )\n",
    "        self.conv3 = nn.Sequential(\n",
    "            nn.LeakyReLU(),\n",
    "            nn.BatchNorm1d(self.out_channel),\n",
    "            nn.Dropout(0.2),\n",
    "        )\n",
    "    \n",
    "    def forward(self, x):\n",
    "        x1 = self.conv1(x)\n",
    "        x2 = self.conv2(x)\n",
    "        x_res = x1 + x2\n",
    "        x3 = self.conv3(x_res)\n",
    "        \n",
    "        return x3, x_res"
   ]
  },
  {
   "cell_type": "code",
   "execution_count": 12,
   "id": "4c675dd1",
   "metadata": {},
   "outputs": [],
   "source": [
    "conv_block1 = nn.Sequential(\n",
    "\t\t\tnn.Conv1d(12, 64, 16, stride=1),\n",
    "\t\t\tnn.LeakyReLU(0.3),\n",
    "\t\t\tnn.BatchNorm1d(64),\n",
    "\t\t)"
   ]
  },
  {
   "cell_type": "code",
   "execution_count": 21,
   "id": "7ba935f8",
   "metadata": {},
   "outputs": [
    {
     "name": "stdout",
     "output_type": "stream",
     "text": [
      "128\n"
     ]
    }
   ],
   "source": [
    "test = torch.randn(1, 12, 1400)\n",
    "test = conv_block1(test)\n",
    "model = Redu(64, 128, 3)\n",
    "a = model(test)\n",
    "print(len(a[1][0]))"
   ]
  },
  {
   "cell_type": "code",
   "execution_count": 22,
   "id": "d8290b3a",
   "metadata": {},
   "outputs": [],
   "source": [
    "class LSAT(nn.Module):\n",
    "    def __init__(self, in_channel, out_channel):\n",
    "        super().__init__()\n",
    "        \n",
    "        self.in_channel = in_channel\n",
    "        self.out_channel = out_channel\n",
    "        \n",
    "        self.conv1 = nn.Sequential(\n",
    "            nn.LSTM(320, ),\n",
    "            nn.BatchNorm1d(self.out_channel),\n",
    "            nn.Dropout(0.5),\n",
    "            nn.LSTM(),\n",
    "            nn.BatchNorm1d(self.out_channel),\n",
    "            nn.Dropout(0.5),                 \n",
    "        )\n",
    "        \n",
    "        self.conv2 = nn.Sequential(\n",
    "            nn.Attention(),\n",
    "            nn.BatchNorm1d(self.out_channel),\n",
    "            nn.Dropout(0.5),\n",
    "        )\n",
    "        \n",
    "        self.conv3 = nn.Sequential(\n",
    "            nn.Linear(128, 64),\n",
    "            nn.LeakyReLU(0.3),\n",
    "            nn.Linear(64, 32),\n",
    "            nn.LeakyReLU(0.3),\n",
    "            nn.Linear(32, 9),\n",
    "            nn.Sigmoid(),\n",
    "        )\n",
    "    \n",
    "    def forward(self, x):\n",
    "        x1 = self.conv1(x)\n",
    "        x2 = self.conv2(x1)\n",
    "        x3 = self.conv3(x2)\n",
    "        \n",
    "        return x3    \n",
    "    "
   ]
  },
  {
   "cell_type": "code",
   "execution_count": null,
   "id": "77b7d5a1",
   "metadata": {},
   "outputs": [],
   "source": []
  }
 ],
 "metadata": {
  "kernelspec": {
   "display_name": "Python 3 (ipykernel)",
   "language": "python",
   "name": "python3"
  },
  "language_info": {
   "codemirror_mode": {
    "name": "ipython",
    "version": 3
   },
   "file_extension": ".py",
   "mimetype": "text/x-python",
   "name": "python",
   "nbconvert_exporter": "python",
   "pygments_lexer": "ipython3",
   "version": "3.10.7"
  }
 },
 "nbformat": 4,
 "nbformat_minor": 5
}
