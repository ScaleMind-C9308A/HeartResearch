{
 "cells": [
  {
   "cell_type": "code",
   "execution_count": 1,
   "id": "505a5a5a",
   "metadata": {},
   "outputs": [],
   "source": [
    "import torch\n",
    "from torch import nn\n",
    "import random\n",
    "from torchvision import datasets\n",
    "from torchvision.transforms import ToTensor\n",
    "from tqdm import tqdm\n",
    "import json\n",
    "import scipy.io\n",
    "from torchmetrics import Accuracy\n",
    "\n",
    "from sklearn.metrics import confusion_matrix, ConfusionMatrixDisplay\n",
    "from sklearn.metrics import classification_report\n",
    "from sklearn.metrics import roc_curve, auc\n",
    "from sklearn.metrics import roc_auc_score\n",
    "\n",
    "from IPython.display import clear_output\n",
    "import os, sys, shutil\n",
    "import pandas as pd\n",
    "import matplotlib.pyplot as plt\n",
    "import seaborn as sns\n",
    "import numpy as np\n",
    "# from tqdm import tqdm, trange\n",
    "from glob import glob\n",
    "import random\n",
    "import cv2 as cv\n",
    "# from audiomentations import *"
   ]
  },
  {
   "cell_type": "code",
   "execution_count": 2,
   "id": "23ce5ada",
   "metadata": {},
   "outputs": [
    {
     "name": "stdout",
     "output_type": "stream",
     "text": [
      "/home/thaobeo/git/HeartResearch/Experiment/Approach/Model_signal\n",
      "/home/thaobeo/git/HeartResearch\n"
     ]
    }
   ],
   "source": [
    "print(os.getcwd())\n",
    "\n",
    "for i in range (3):\n",
    "    os.chdir(\"..\")\n",
    "    \n",
    "print(os.getcwd())"
   ]
  },
  {
   "cell_type": "code",
   "execution_count": null,
   "id": "47c326ba",
   "metadata": {},
   "outputs": [],
   "source": [
    "dataset_dir = os.getcwd() + \"/Data set\"\n",
    "data_paths = glob(dataset_dir + \"/TrainingSet*/*\")\n",
    "\n",
    "label_path = dataset_dir + \"/Label.csv\"\n",
    "label_df = pd.read_csv(label_path)\n",
    "\n",
    "single_main_df = label_df[label_df[\"Second_label\"].isnull()]"
   ]
  },
  {
   "cell_type": "code",
   "execution_count": null,
   "id": "a81b9a87",
   "metadata": {},
   "outputs": [],
   "source": [
    "class HeartData(Dataset):\n",
    "    def __init__(self, label_df, data_path):\n",
    "        self.label_df = label_df\n",
    "        self.data_paths = data_path\n",
    "        \n",
    "    def __getitem__(self, index):\n",
    "        data_path = self.data_paths[idx]        \n",
    "        data = loadmat(data_path)['ECG'][0][0][2]\n",
    "        clip_data = data[:, 300:3000]\n",
    "\n",
    "        filename = data_path.split(\"/\")[-1].split(\".\")[0]\n",
    "        label = self.label_df[self.label_df[\"Recording\"] == filename][\"First_label\"].values.item()\n",
    "\n",
    "        torch_data = torch.from_numpy(clip_data)\n",
    "\n",
    "        return torch_data.float(), label-1"
   ]
  },
  {
   "cell_type": "code",
   "execution_count": null,
   "id": "6b347afe",
   "metadata": {},
   "outputs": [],
   "source": [
    "train_index = int(len(data_mat_list)*ratio[0])\n",
    "valid_index = int(len(data_mat_list)*(ratio[0]+ratio[1]))\n",
    "\n",
    "train_signal_paths = data_mat_list[:train_index]\n",
    "valid_signal_paths = data_mat_list[train_index:valid_index]\n",
    "test_signal_paths = data_mat_list[valid_index:]"
   ]
  },
  {
   "cell_type": "code",
   "execution_count": null,
   "id": "e53789d3",
   "metadata": {},
   "outputs": [],
   "source": [
    "train_dataset = HeartData(label_df, train_signal_paths)\n",
    "valid_dataset = HeartData(label_df, valid_signal_paths)\n",
    "test_dataset = HeartData(label_df, test_signal_paths)"
   ]
  },
  {
   "cell_type": "code",
   "execution_count": null,
   "id": "37bad11d",
   "metadata": {},
   "outputs": [],
   "source": [
    "train_dataloader = DataLoader(train_dataset, batch_size = 128, shuffle = True, pin_memory = True, num_workers = 48)\n",
    "valid_dataloader = DataLoader(valid_dataset, batch_size = 128, shuffle = True, pin_memory = True, num_workers = 48)\n",
    "test_dataloader = DataLoader(test_dataset, batch_size = 128, shuffle = True, pin_memory = True, num_workers = 48)"
   ]
  },
  {
   "cell_type": "code",
   "execution_count": null,
   "id": "e19ded32",
   "metadata": {},
   "outputs": [],
   "source": []
  }
 ],
 "metadata": {
  "kernelspec": {
   "display_name": "Python 3 (ipykernel)",
   "language": "python",
   "name": "python3"
  },
  "language_info": {
   "codemirror_mode": {
    "name": "ipython",
    "version": 3
   },
   "file_extension": ".py",
   "mimetype": "text/x-python",
   "name": "python",
   "nbconvert_exporter": "python",
   "pygments_lexer": "ipython3",
   "version": "3.10.7"
  }
 },
 "nbformat": 4,
 "nbformat_minor": 5
}
