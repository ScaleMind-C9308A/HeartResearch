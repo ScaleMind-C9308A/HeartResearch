{
 "cells": [
  {
   "cell_type": "code",
   "execution_count": 1,
   "id": "44ddf287-4125-4d02-a3db-09a4f358b8f3",
   "metadata": {},
   "outputs": [],
   "source": [
    "import os\n",
    "import pandas as pd\n",
    "import matplotlib.pyplot as plt\n",
    "import numpy as np\n",
    "import seaborn as sns\n",
    "\n",
    "import random\n",
    "from glob import glob\n",
    "from tqdm import tqdm\n",
    "from scipy.io import loadmat\n",
    "\n",
    "import torch\n",
    "from torch import nn\n",
    "from torch.optim import Adam\n",
    "from torch.optim.lr_scheduler import CosineAnnealingLR\n",
    "from torch.utils.data import Dataset, DataLoader\n",
    "import torch.nn.functional as F\n",
    "\n",
    "import os, sys\n",
    "from typing import *\n",
    "import torch\n",
    "import random\n",
    "import copy"
   ]
  },
  {
   "cell_type": "code",
   "execution_count": 2,
   "id": "201d3bee",
   "metadata": {},
   "outputs": [],
   "source": [
    "def detach(\n",
    "    batch_dict: Dict[int, List[torch.Tensor]] = None, \n",
    "    k_shot:int = None, \n",
    "    k_query:int = None\n",
    "    ) -> Tuple[Dict[int, List[torch.Tensor]]]:\n",
    "    sample_len = len(batch_dict[list(batch_dict.keys())[0]])\n",
    "    \n",
    "    if k_shot + k_query > sample_len:\n",
    "        raise ValueError(f\"Many data to unpack. Since #sample in support set: k_shot and #sample \\\n",
    "            in query set k_query must satisfy the condition: k_shot + k_query == #sample \\\n",
    "                in a batch per task.\")\n",
    "    elif k_shot + k_query < sample_len:\n",
    "        raise UserWarning(f\"the #sample in support set: k_shot and #sample in query set: k_query \\\n",
    "            totally are less than the #sample available in batch task dict. The redundant samples are \\\n",
    "                used in automatically used in query set.\")\n",
    "    \n",
    "    support_dct = {\n",
    "        _cls : batch_dict[_cls][:k_shot] for _cls in batch_dict\n",
    "    }\n",
    "    \n",
    "    query_dct = {\n",
    "        _cls : batch_dict[_cls][k_shot:] for _cls in batch_dict\n",
    "    }\n",
    "    \n",
    "    return (support_dct, query_dct)\n",
    "\n",
    "def maml_detach(\n",
    "    batch_dict: Dict[int, List[torch.Tensor]] = None, \n",
    "    k_shot:int = None, \n",
    "    k_query:int = None,\n",
    "    task:int = None\n",
    "    ) -> Tuple[torch.Tensor]:\n",
    "    \n",
    "    support_dct, query_dct = detach(\n",
    "        batch_dict=batch_dict,\n",
    "        k_shot=k_shot,\n",
    "        k_query=k_query\n",
    "    )\n",
    "    \n",
    "    if not isinstance(task, int):\n",
    "        raise ValueError(f\"task arg must be integer type but found {type(task)} instead\")\n",
    "    elif task not in batch_dict.keys():\n",
    "        raise Exception(f\"Found no task {task} in batch dict\")\n",
    "    \n",
    "    tasks = list(batch_dict.keys())\n",
    "    \n",
    "    support_x, support_y, query_x, query_y = [], [], [], []\n",
    "    for _task in tasks:\n",
    "        support_x.extend(support_dct[_task])\n",
    "        query_x.extend(query_dct[_task])\n",
    "        if _task == task:\n",
    "            support_y.extend([1]*k_shot)\n",
    "            query_y.extend([1]*k_query)\n",
    "        else:\n",
    "            support_y.extend([0]*k_shot)\n",
    "            query_y.extend([0]*k_query)\n",
    "    \n",
    "    support_x = torch.stack(support_x)\n",
    "    support_y = torch.FloatTensor(support_y)\n",
    "    query_x = torch.stack(query_x)\n",
    "    query_y = torch.FloatTensor(query_y)\n",
    "    \n",
    "    return (support_x, support_y, query_x, query_y)\n",
    "\n",
    "def single_task_detach(\n",
    "    batch_dict: Dict[int, List[torch.Tensor]] = None, \n",
    "    k_shot:int = None, \n",
    "    k_query:int = None,\n",
    "    task:int = None\n",
    "    ):\n",
    "    \n",
    "    support_dct, query_dct = detach(\n",
    "        batch_dict=batch_dict,\n",
    "        k_shot=k_shot,\n",
    "        k_query=k_query\n",
    "    )\n",
    "    \n",
    "    if not isinstance(task, int):\n",
    "        raise ValueError(f\"task arg must be integer type but found {type(task)} instead\")\n",
    "    elif task not in batch_dict.keys():\n",
    "        raise Exception(f\"Found no task {task} in batch dict\")\n",
    "    \n",
    "    support_x, support_y, query_x, query_y = [], [], [], []\n",
    "    \n",
    "    support_x.extend(support_dct[task])\n",
    "    support_y.extend([task]*len(support_dct[task]))\n",
    "    query_x.extend(query_dct[task])\n",
    "    query_y.extend([task]*len(query_dct[task]))\n",
    "    \n",
    "    support_x = torch.stack(support_x)\n",
    "    support_y = torch.LongTensor(support_y)\n",
    "    query_x = torch.stack(query_x)\n",
    "    query_y = torch.LongTensor(query_y)\n",
    "    \n",
    "    return (support_x, support_y, query_x, query_y)\n"
   ]
  },
  {
   "cell_type": "code",
   "execution_count": 3,
   "id": "f5357c9d",
   "metadata": {},
   "outputs": [
    {
     "name": "stdout",
     "output_type": "stream",
     "text": [
      "/home/thaobeo/git/HeartResearch/Experiment/Approach/Model_signal\n"
     ]
    }
   ],
   "source": [
    "print(os.getcwd())\n",
    "\n",
    "for i in range (3):\n",
    "    os.chdir(\"..\")\n",
    "    \n",
    "main_data_dir = os.getcwd() + \"/Data set\""
   ]
  },
  {
   "cell_type": "code",
   "execution_count": 4,
   "id": "e2868d4b-ebc6-40e5-8242-80fdb12670df",
   "metadata": {},
   "outputs": [
    {
     "name": "stdout",
     "output_type": "stream",
     "text": [
      "['TrainingSet3', 'Label.csv', 'alldata', 'TrainingSet1', 'single_label.csv', 'TrainingSet2']\n"
     ]
    }
   ],
   "source": [
    "data_dir = \"/media/mountHDD2/khoibaocon\"\n",
    "print(os.listdir(data_dir))"
   ]
  },
  {
   "cell_type": "code",
   "execution_count": 5,
   "id": "2f3c37b5-d09e-467c-8ee3-c2bb3fce5555",
   "metadata": {},
   "outputs": [
    {
     "data": {
      "text/plain": [
       "(6877, 4)"
      ]
     },
     "execution_count": 5,
     "metadata": {},
     "output_type": "execute_result"
    }
   ],
   "source": [
    "main_df = pd.read_csv(data_dir + \"/Label.csv\")\n",
    "main_df.shape"
   ]
  },
  {
   "cell_type": "code",
   "execution_count": 6,
   "id": "a4f1e0f7-99a0-4a5a-8ba5-7cab7e5d354b",
   "metadata": {},
   "outputs": [
    {
     "data": {
      "text/html": [
       "<div>\n",
       "<style scoped>\n",
       "    .dataframe tbody tr th:only-of-type {\n",
       "        vertical-align: middle;\n",
       "    }\n",
       "\n",
       "    .dataframe tbody tr th {\n",
       "        vertical-align: top;\n",
       "    }\n",
       "\n",
       "    .dataframe thead th {\n",
       "        text-align: right;\n",
       "    }\n",
       "</style>\n",
       "<table border=\"1\" class=\"dataframe\">\n",
       "  <thead>\n",
       "    <tr style=\"text-align: right;\">\n",
       "      <th></th>\n",
       "      <th>Recording</th>\n",
       "      <th>First_label</th>\n",
       "      <th>Second_label</th>\n",
       "      <th>Third_label</th>\n",
       "    </tr>\n",
       "  </thead>\n",
       "  <tbody>\n",
       "    <tr>\n",
       "      <th>0</th>\n",
       "      <td>A0001</td>\n",
       "      <td>5</td>\n",
       "      <td>NaN</td>\n",
       "      <td>NaN</td>\n",
       "    </tr>\n",
       "    <tr>\n",
       "      <th>1</th>\n",
       "      <td>A0002</td>\n",
       "      <td>1</td>\n",
       "      <td>NaN</td>\n",
       "      <td>NaN</td>\n",
       "    </tr>\n",
       "    <tr>\n",
       "      <th>2</th>\n",
       "      <td>A0003</td>\n",
       "      <td>2</td>\n",
       "      <td>NaN</td>\n",
       "      <td>NaN</td>\n",
       "    </tr>\n",
       "    <tr>\n",
       "      <th>3</th>\n",
       "      <td>A0004</td>\n",
       "      <td>2</td>\n",
       "      <td>NaN</td>\n",
       "      <td>NaN</td>\n",
       "    </tr>\n",
       "    <tr>\n",
       "      <th>4</th>\n",
       "      <td>A0005</td>\n",
       "      <td>7</td>\n",
       "      <td>NaN</td>\n",
       "      <td>NaN</td>\n",
       "    </tr>\n",
       "  </tbody>\n",
       "</table>\n",
       "</div>"
      ],
      "text/plain": [
       "  Recording  First_label  Second_label  Third_label\n",
       "0     A0001            5           NaN          NaN\n",
       "1     A0002            1           NaN          NaN\n",
       "2     A0003            2           NaN          NaN\n",
       "3     A0004            2           NaN          NaN\n",
       "4     A0005            7           NaN          NaN"
      ]
     },
     "execution_count": 6,
     "metadata": {},
     "output_type": "execute_result"
    }
   ],
   "source": [
    "main_df.head()"
   ]
  },
  {
   "cell_type": "code",
   "execution_count": 7,
   "id": "e460e120-cf80-48b0-b2d6-cfbfc30cc08c",
   "metadata": {},
   "outputs": [
    {
     "data": {
      "text/plain": [
       "First_label\n",
       "5    1695\n",
       "2    1098\n",
       "1     918\n",
       "8     826\n",
       "3     704\n",
       "7     653\n",
       "6     574\n",
       "4     207\n",
       "9     202\n",
       "Name: count, dtype: int64"
      ]
     },
     "execution_count": 7,
     "metadata": {},
     "output_type": "execute_result"
    }
   ],
   "source": [
    "main_df[\"First_label\"].value_counts()"
   ]
  },
  {
   "cell_type": "code",
   "execution_count": 8,
   "id": "946947c7-a713-4ba1-8184-2fef44eba6cc",
   "metadata": {},
   "outputs": [
    {
     "data": {
      "text/plain": [
       "Second_label\n",
       "5.0    162\n",
       "2.0    123\n",
       "7.0     47\n",
       "6.0     42\n",
       "8.0     41\n",
       "4.0     28\n",
       "3.0     18\n",
       "9.0     16\n",
       "Name: count, dtype: int64"
      ]
     },
     "execution_count": 8,
     "metadata": {},
     "output_type": "execute_result"
    }
   ],
   "source": [
    "main_df[\"Second_label\"].value_counts()"
   ]
  },
  {
   "cell_type": "code",
   "execution_count": 9,
   "id": "982de563-1cc2-44d7-8ff8-f8096b9e7115",
   "metadata": {},
   "outputs": [
    {
     "data": {
      "text/plain": [
       "Third_label\n",
       "9.0    2\n",
       "8.0    2\n",
       "6.0    1\n",
       "4.0    1\n",
       "Name: count, dtype: int64"
      ]
     },
     "execution_count": 9,
     "metadata": {},
     "output_type": "execute_result"
    }
   ],
   "source": [
    "main_df[\"Third_label\"].value_counts()"
   ]
  },
  {
   "cell_type": "code",
   "execution_count": 10,
   "id": "e55bab59-4461-434b-9f39-ca1413ae7ed6",
   "metadata": {},
   "outputs": [
    {
     "data": {
      "text/plain": [
       "(6400, 4)"
      ]
     },
     "execution_count": 10,
     "metadata": {},
     "output_type": "execute_result"
    }
   ],
   "source": [
    "single_main_df = main_df[main_df[\"Second_label\"].isnull()]\n",
    "single_main_df.shape"
   ]
  },
  {
   "cell_type": "code",
   "execution_count": 11,
   "id": "7c439e8c-8f9c-4237-9e6a-c0939efe403b",
   "metadata": {},
   "outputs": [],
   "source": [
    "single_main_df.to_csv(main_data_dir + \"/single_label.csv\")"
   ]
  },
  {
   "cell_type": "code",
   "execution_count": 12,
   "id": "069eddeb-73ab-40de-8a4f-2b4cae764db6",
   "metadata": {},
   "outputs": [
    {
     "name": "stdout",
     "output_type": "stream",
     "text": [
      "6877\n"
     ]
    }
   ],
   "source": [
    "mat_files = glob(data_dir + \"/alldata/*\")\n",
    "print(len(mat_files))"
   ]
  },
  {
   "cell_type": "code",
   "execution_count": 13,
   "id": "6235c55f-7003-4eba-9dc7-a7c107721c22",
   "metadata": {},
   "outputs": [
    {
     "name": "stdout",
     "output_type": "stream",
     "text": [
      "6400\n"
     ]
    }
   ],
   "source": [
    "single_fns = single_main_df[\"Recording\"].values.tolist()\n",
    "print(len(single_fns))"
   ]
  },
  {
   "cell_type": "code",
   "execution_count": 14,
   "id": "cf74da3f-b040-4514-b9e3-642b8c501dba",
   "metadata": {},
   "outputs": [
    {
     "name": "stdout",
     "output_type": "stream",
     "text": [
      "True\n"
     ]
    }
   ],
   "source": [
    "single_mat_paths = [data_dir + f\"/alldata/{x}.mat\" for x in single_fns]\n",
    "print(os.path.exists(single_mat_paths[0]))"
   ]
  },
  {
   "cell_type": "code",
   "execution_count": 15,
   "id": "bb59505a-ddb3-4835-8673-354e15b764e9",
   "metadata": {},
   "outputs": [
    {
     "data": {
      "text/plain": [
       "dict_keys(['__header__', '__version__', '__globals__', 'ECG'])"
      ]
     },
     "execution_count": 15,
     "metadata": {},
     "output_type": "execute_result"
    }
   ],
   "source": [
    "sample_data = loadmat(single_mat_paths[0])\n",
    "sample_data.keys()"
   ]
  },
  {
   "cell_type": "code",
   "execution_count": 16,
   "id": "db6cff39-d48b-49d3-80c7-e9d6888b62dd",
   "metadata": {},
   "outputs": [
    {
     "data": {
      "text/plain": [
       "(12, 7500)"
      ]
     },
     "execution_count": 16,
     "metadata": {},
     "output_type": "execute_result"
    }
   ],
   "source": [
    "sample_signal_data = sample_data['ECG'][0][0][2]\n",
    "sample_signal_data.shape"
   ]
  },
  {
   "cell_type": "code",
   "execution_count": 17,
   "id": "3f0e4742",
   "metadata": {},
   "outputs": [
    {
     "name": "stdout",
     "output_type": "stream",
     "text": [
      "6400\n"
     ]
    }
   ],
   "source": [
    "print(len(single_mat_paths))"
   ]
  },
  {
   "cell_type": "code",
   "execution_count": 18,
   "id": "c74162e9-da4b-43fe-802c-59e884bf9f98",
   "metadata": {},
   "outputs": [],
   "source": [
    "# plt.plot(sample_signal_data[0])"
   ]
  },
  {
   "cell_type": "code",
   "execution_count": 19,
   "id": "7978703e-8bd0-464d-a4d5-08abc919c38a",
   "metadata": {},
   "outputs": [
    {
     "name": "stdout",
     "output_type": "stream",
     "text": [
      "torch.Size([1, 12, 32])\n"
     ]
    }
   ],
   "source": [
    "sample_sig = torch.randn(1, 12, 32)\n",
    "conv_test = nn.Conv1d(12, 12, 3, 1, 1)\n",
    "print(conv_test(sample_sig).shape)"
   ]
  },
  {
   "cell_type": "code",
   "execution_count": 20,
   "id": "b553864b-76e1-4a92-aa92-ecb7410840ac",
   "metadata": {},
   "outputs": [
    {
     "name": "stdout",
     "output_type": "stream",
     "text": [
      "MAX: 72000\n",
      "MIN: 3000\n",
      "AVG: 7946.03703125\n"
     ]
    }
   ],
   "source": [
    "len_lst = [loadmat(x)['ECG'][0][0][2].shape[1] for x in single_mat_paths]\n",
    "print(f\"MAX: {max(len_lst)}\")\n",
    "print(f\"MIN: {min(len_lst)}\")\n",
    "print(f\"AVG: {sum(len_lst)/len(len_lst)}\")"
   ]
  },
  {
   "cell_type": "code",
   "execution_count": 21,
   "id": "949a0ef3-5be8-4e8e-b087-fa05e95f6fb8",
   "metadata": {},
   "outputs": [],
   "source": [
    "class BasicBlock(nn.Module):\n",
    "    def __init__(self, channel_num):\n",
    "        super(BasicBlock, self).__init__()\n",
    "        self.conv_block1 = nn.Sequential(\n",
    "            nn.Conv1d(channel_num, channel_num, 3, padding=1),\n",
    "            nn.BatchNorm1d(channel_num),\n",
    "            nn.ReLU())\n",
    "        \n",
    "        self.conv_block2 = nn.Sequential(\n",
    "            nn.Conv1d(channel_num, channel_num, 3, padding=1),\n",
    "            nn.BatchNorm1d(channel_num),\n",
    "        )\n",
    "        self.relu = nn.ReLU()\n",
    "        torch.nn.init.kaiming_normal_(self.conv_block1[0].weight)\n",
    "        torch.nn.init.kaiming_normal_(self.conv_block2[0].weight)\n",
    "        \n",
    "    def forward(self, x):\n",
    "        residual = x\n",
    "        x = self.conv_block1(x)\n",
    "        x = self.conv_block2(x)\n",
    "        x = x + residual\n",
    "        out = self.relu(x)\n",
    "        return out"
   ]
  },
  {
   "cell_type": "code",
   "execution_count": 22,
   "id": "dbdfa702-b20a-4fe3-80e6-e28fa4ac0e6f",
   "metadata": {},
   "outputs": [
    {
     "name": "stdout",
     "output_type": "stream",
     "text": [
      "torch.Size([1, 2, 32])\n"
     ]
    }
   ],
   "source": [
    "test_basic_block = BasicBlock(2)\n",
    "sample_sig = torch.randn(1, 2, 32)\n",
    "print(test_basic_block(sample_sig).shape)"
   ]
  },
  {
   "cell_type": "code",
   "execution_count": 23,
   "id": "e07a7549-965d-49b4-b498-ff00f4014167",
   "metadata": {},
   "outputs": [],
   "source": [
    "class ResNet(nn.Module):\n",
    "    def __init__(self, in_channels = 12, type = 18, num_classes = 9):\n",
    "        super(ResNet, self).__init__()\n",
    "        self.struc_dict = {\n",
    "            18: {\n",
    "                \"num_channels\" : [64, 128, 256, 512],\n",
    "                \"counts\" : [2, 2, 2, 2]\n",
    "            }\n",
    "        }\n",
    "        self.conv1 = nn.Conv1d(in_channels=in_channels, out_channels=64, kernel_size=7, stride=2)\n",
    "        torch.nn.init.kaiming_normal_(self.conv1.weight)\n",
    "        self.max1 = nn.MaxPool1d(kernel_size=3, stride=2)\n",
    "        self.main = nn.Sequential()\n",
    "        for idx, struc in enumerate(\n",
    "            zip(\n",
    "                self.struc_dict[type][\"num_channels\"], \n",
    "                self.struc_dict[type][\"counts\"]\n",
    "            )\n",
    "        ):\n",
    "            num_channel, cnt = struc\n",
    "            for i in range(cnt):\n",
    "                self.main.add_module(f\"conv{idx+1}_{i}\", BasicBlock(num_channel))\n",
    "            if idx < len(self.struc_dict[type][\"num_channels\"]) - 1:\n",
    "                self.main.add_module(f\"ext_{idx}\", nn.Conv1d(num_channel, self.struc_dict[type][\"num_channels\"][idx+1], 3, 1))\n",
    "                self.main.add_module(f\"extbn_{idx}\", nn.BatchNorm1d(self.struc_dict[type][\"num_channels\"][idx+1]))\n",
    "                                     \n",
    "        self.avg = torch.nn.AdaptiveAvgPool1d((1))\n",
    "        self.lin = nn.Linear(self.struc_dict[type][\"num_channels\"][-1], num_classes)\n",
    "        torch.nn.init.kaiming_normal_(self.lin.weight)\n",
    "    def forward(self, x):\n",
    "        x = self.conv1(x)\n",
    "        x = self.max1(x)\n",
    "        x = self.main(x)\n",
    "        x = self.avg(x)\n",
    "        x = x.reshape(x.shape[0], -1)\n",
    "        x = self.lin(x)\n",
    "        return x"
   ]
  },
  {
   "cell_type": "code",
   "execution_count": 24,
   "id": "182b31c1-94b6-4c83-837e-f8aa593a1324",
   "metadata": {},
   "outputs": [
    {
     "data": {
      "text/plain": [
       "torch.Size([1, 9])"
      ]
     },
     "execution_count": 24,
     "metadata": {},
     "output_type": "execute_result"
    }
   ],
   "source": [
    "model = ResNet()\n",
    "sample_sig = torch.randn(1, 12, 3000)\n",
    "model(sample_sig).shape"
   ]
  },
  {
   "cell_type": "code",
   "execution_count": 25,
   "id": "c7dd7940-7c95-4edf-b39e-0de905f24dc5",
   "metadata": {},
   "outputs": [],
   "source": [
    "# class ECG(Dataset):\n",
    "#     def __init__(self, data_paths, label_df):\n",
    "#         self.data_paths = data_paths\n",
    "#         random.shuffle(self.data_paths)\n",
    "#         self.label_df = label_df\n",
    "\n",
    "#     def __getitem__(self, idx):\n",
    "#         data_path = self.data_paths[idx]        \n",
    "#         data = loadmat(data_path)['ECG'][0][0][2]\n",
    "#         clip_data = data[:, 300:3000]\n",
    "\n",
    "#         filename = data_path.split(\"/\")[-1].split(\".\")[0]\n",
    "#         label = self.label_df[self.label_df[\"Recording\"] == filename][\"First_label\"].values.item()\n",
    "\n",
    "#         torch_data = torch.from_numpy(clip_data)\n",
    "\n",
    "#         return torch_data.float(), label-1\n",
    "\n",
    "#     def __len__(self):\n",
    "#         return len(self.data_paths)"
   ]
  },
  {
   "cell_type": "code",
   "execution_count": 26,
   "id": "8c515354",
   "metadata": {},
   "outputs": [],
   "source": [
    "ratio = [0.8, 0.1, 0.1]\n",
    "\n",
    "train_index = int(len(single_mat_paths)*ratio[0])\n",
    "valid_index = int(len(single_mat_paths)*(ratio[0]+ratio[1]))\n",
    "\n",
    "train_image_paths = single_mat_paths[:train_index]\n",
    "valid_image_paths = single_mat_paths[train_index:valid_index]\n",
    "test_image_paths = single_mat_paths[valid_index:]"
   ]
  },
  {
   "cell_type": "code",
   "execution_count": 27,
   "id": "87a2b8ef",
   "metadata": {},
   "outputs": [
    {
     "name": "stdout",
     "output_type": "stream",
     "text": [
      "{0: [], 1: [], 2: [], 3: [], 4: [], 5: [], 6: [], 7: [], 8: []}\n"
     ]
    }
   ],
   "source": [
    "sig_dict = {i : [] for i in range(9)} \n",
    "print(sig_dict)\n",
    "sig_dict[1].append(1)"
   ]
  },
  {
   "cell_type": "code",
   "execution_count": 28,
   "id": "e49fa9b1",
   "metadata": {},
   "outputs": [
    {
     "name": "stdout",
     "output_type": "stream",
     "text": [
      "1\n"
     ]
    }
   ],
   "source": [
    "max_sample = max([len(sig_dict[i]) for i in range(9)])\n",
    "print(max_sample)"
   ]
  },
  {
   "cell_type": "code",
   "execution_count": 29,
   "id": "57b2634b",
   "metadata": {},
   "outputs": [],
   "source": [
    "sig_dict[1] = sig_dict[1] + random.sample(sig_dict[1], k = 1)"
   ]
  },
  {
   "cell_type": "code",
   "execution_count": 30,
   "id": "27f97fdc",
   "metadata": {},
   "outputs": [
    {
     "name": "stdout",
     "output_type": "stream",
     "text": [
      "{0: [], 1: [1, 1], 2: [], 3: [], 4: [], 5: [], 6: [], 7: [], 8: []}\n"
     ]
    }
   ],
   "source": [
    "print(sig_dict)"
   ]
  },
  {
   "cell_type": "code",
   "execution_count": 31,
   "id": "6b312721",
   "metadata": {},
   "outputs": [],
   "source": [
    "ks = 32\n",
    "kq = 32\n",
    "\n",
    "def set_dataset(mat_path):\n",
    "    sig_dict = {i : [] for i in range(9)}    \n",
    "\n",
    "    for data_path in mat_path:\n",
    "        filename = data_path.split(\"/\")[-1].split(\".\")[0]\n",
    "        _cls = single_main_df[single_main_df[\"Recording\"] == filename][\"First_label\"].values.item()\n",
    "        data = loadmat(data_path)['ECG'][0][0][2]\n",
    "        clip_data = data[:, 300:3000]\n",
    "        torch_data = torch.from_numpy(clip_data)\n",
    "\n",
    "        sig_dict[_cls-1].append(clip_data)\n",
    "\n",
    "    max_sample = max([len(sig_dict[i]) for i in range(9)])\n",
    "    sample_cls_cnt = max_sample + ((ks + kq) - max_sample % (ks + kq))\n",
    "    \n",
    "    for i in range(9):\n",
    "\n",
    "        a = sample_cls_cnt/len(sig_dict[i])\n",
    "\n",
    "        if a < 1:\n",
    "            sig_dict[i] = sig_dict[i] + random.sample(sig_dict[i], k = sample_cls_cnt - len(sig_dict[i]))\n",
    "        else:\n",
    "            sig_dict[i] = (int(np.floor(sample_cls_cnt/len(sig_dict[i]))))*sig_dict[i]\n",
    "            sig_dict[i] = sig_dict[i] + random.sample(sig_dict[i], k = sample_cls_cnt - len(sig_dict[i]))\n",
    "            \n",
    "    return sig_dict"
   ]
  },
  {
   "cell_type": "code",
   "execution_count": 32,
   "id": "d530d2d4",
   "metadata": {},
   "outputs": [],
   "source": [
    "class HeartData(Dataset):\n",
    "    def __init__(self, data_path):\n",
    "        self.data_path = data_path\n",
    "\n",
    "    def __len__(self):\n",
    "        return len(self.data_path)\n",
    "        \n",
    "    def __getitem__(self, index):\n",
    "        filename = self.data_path.split(\"/\")[-1].split(\".\")[0]\n",
    "        label = single_main_df[single_main_df[\"Recording\"] == filename][\"First_label\"].values.item()\n",
    "        data = loadmat(data_path)['ECG'][0][0][2]\n",
    "        signal = data[:, 300:3000]\n",
    "        \n",
    "        return signal, label"
   ]
  },
  {
   "cell_type": "code",
   "execution_count": 33,
   "id": "688e338e",
   "metadata": {},
   "outputs": [],
   "source": [
    "train_dataset = set_dataset(train_image_paths)\n",
    "# valid_dataset = HearData(valid_image_paths)"
   ]
  },
  {
   "cell_type": "code",
   "execution_count": 34,
   "id": "a9aa6a70",
   "metadata": {},
   "outputs": [],
   "source": [
    "valid_dataset = HeartData(valid_image_paths)"
   ]
  },
  {
   "cell_type": "code",
   "execution_count": 35,
   "id": "ee2c1c23",
   "metadata": {},
   "outputs": [],
   "source": [
    "class ECG(Dataset):\n",
    "    def __init__(self, dict_ds):\n",
    "        self.dict_ds = dict_ds\n",
    "\n",
    "    def __getitem__(self, idx):\n",
    "        selected_dict = { _cls : self.dict_ds[_cls][idx] for _cls in range(9)}\n",
    "\n",
    "        return selected_dict\n",
    "\n",
    "    def __len__(self):\n",
    "        \n",
    "        return len(self.dict_ds[1])"
   ]
  },
  {
   "cell_type": "code",
   "execution_count": 36,
   "id": "4e01d387-99b1-416e-83a7-cb1d3a664179",
   "metadata": {},
   "outputs": [],
   "source": [
    "# check_ds = ECG(data_paths=single_mat_paths, label_df=single_main_df)\n",
    "# sample, lbl = check_ds[0]\n",
    "# print(sample.shape, lbl)"
   ]
  },
  {
   "cell_type": "code",
   "execution_count": 37,
   "id": "68e75806-1788-4302-a883-2a1e6401ea00",
   "metadata": {},
   "outputs": [],
   "source": [
    "# model(sample.unsqueeze(dim=0)).shape"
   ]
  },
  {
   "cell_type": "code",
   "execution_count": 38,
   "id": "07cf3c4b-a69a-4c74-8d60-a841345c04a0",
   "metadata": {},
   "outputs": [],
   "source": [
    "# data_dict = {\n",
    "#     idx : [] for idx in range(9)\n",
    "# }\n",
    "\n",
    "# for data_path in single_mat_paths:\n",
    "#     filename = data_path.split(\"/\")[-1].split(\".\")[0]\n",
    "#     _cls = single_main_df[single_main_df[\"Recording\"] == filename][\"First_label\"].values.item()\n",
    "\n",
    "#     data_dict[_cls-1].append(data_path)\n",
    "\n",
    "# for key in data_dict:\n",
    "#     print(f\"{key}->{len(data_dict[key])}\")"
   ]
  },
  {
   "cell_type": "code",
   "execution_count": 39,
   "id": "ef039dff-5ef3-4f80-9d7b-df982fe4b0f5",
   "metadata": {},
   "outputs": [],
   "source": [
    "# train_data_dict = {\n",
    "#     _cls : data_dict[_cls][:int(0.9*len(data_dict[_cls]))] for _cls in data_dict\n",
    "# }\n",
    "\n",
    "# valid_data_dict = {\n",
    "#     _cls : data_dict[_cls][int(0.9*len(data_dict[_cls])):] for _cls in data_dict\n",
    "# }\n",
    "\n",
    "# for key in train_data_dict:\n",
    "#     print(f\"{key}->{len(train_data_dict[key])}--{len(valid_data_dict[key])}\")"
   ]
  },
  {
   "cell_type": "code",
   "execution_count": 40,
   "id": "4fa08ec9-2dc6-4690-ab1b-f653d3a8d10d",
   "metadata": {},
   "outputs": [],
   "source": [
    "# train_data_paths = []\n",
    "# for key in train_data_dict:\n",
    "#     train_data_paths.extend(train_data_dict[key])\n",
    "# valid_data_paths = []\n",
    "# for key in valid_data_dict:\n",
    "#     valid_data_paths.extend(valid_data_dict[key])\n",
    "# print(len(train_data_paths))\n",
    "# print(len(valid_data_paths))"
   ]
  },
  {
   "cell_type": "code",
   "execution_count": 41,
   "id": "bcb8e138",
   "metadata": {},
   "outputs": [],
   "source": [
    "# sig_dict = {\n",
    "#     idx : [] for idx in range(9)\n",
    "# }    \n",
    "\n",
    "# for data_path in single_mat_paths:\n",
    "#     filename = data_path.split(\"/\")[-1].split(\".\")[0]\n",
    "#     _cls = single_main_df[single_main_df[\"Recording\"] == filename][\"First_label\"].values.item()\n",
    "#     data = loadmat(data_path)['ECG'][0][0][2]\n",
    "#     sig_dict[_cls-1].append(data)"
   ]
  },
  {
   "cell_type": "code",
   "execution_count": 42,
   "id": "89829c08",
   "metadata": {},
   "outputs": [],
   "source": [
    "# print(sig_dict[0][0].shape)"
   ]
  },
  {
   "cell_type": "code",
   "execution_count": 43,
   "id": "5e92b032-fb47-4b7c-b675-9ea3ae5d8a45",
   "metadata": {},
   "outputs": [
    {
     "name": "stdout",
     "output_type": "stream",
     "text": [
      "1280\n"
     ]
    }
   ],
   "source": [
    "train_ds = ECG(train_dataset)\n",
    "# valid_ds = ECG(valid_dataset)\n",
    "\n",
    "print(len(train_ds))\n",
    "# print(len(valid_ds))"
   ]
  },
  {
   "cell_type": "code",
   "execution_count": 45,
   "id": "701f345f-bc5e-434d-ab2f-ece864f14b99",
   "metadata": {},
   "outputs": [
    {
     "name": "stdout",
     "output_type": "stream",
     "text": [
      "20\n",
      "640\n"
     ]
    }
   ],
   "source": [
    "device = torch.device(\"cuda\" if torch.cuda.is_available() else \"cpu\", index = 1)\n",
    "batch_size = 64\n",
    "\n",
    "traindl = DataLoader(\n",
    "    train_ds,\n",
    "    batch_size=batch_size, \n",
    "    shuffle=True, \n",
    "    pin_memory=True, \n",
    "    num_workers=os.cpu_count()//2\n",
    ")\n",
    "\n",
    "validdl = DataLoader(\n",
    "    valid_dataset,\n",
    "    batch_size=1, \n",
    "    shuffle=True, \n",
    "    pin_memory=True, \n",
    "    num_workers=os.cpu_count()//2\n",
    ")\n",
    "\n",
    "print(len(traindl))\n",
    "print(len(validdl))"
   ]
  },
  {
   "cell_type": "code",
   "execution_count": 46,
   "id": "0e3fd1ae-3394-4ecb-9681-c34210dcbd05",
   "metadata": {},
   "outputs": [],
   "source": [
    "epoch = 100\n",
    "lr = 0.0001\n",
    "inner_epoch = 100\n",
    "\n",
    "model.to(device)\n",
    "optimizer = Adam(model.parameters(), lr=lr)\n",
    "scheduler = CosineAnnealingLR(optimizer=optimizer, T_max=epoch)\n",
    "loss_fn = nn.CrossEntropyLoss()"
   ]
  },
  {
   "cell_type": "code",
   "execution_count": null,
   "id": "d172aded-4332-40ad-9206-d2ea45c5b545",
   "metadata": {},
   "outputs": [
    {
     "name": "stdout",
     "output_type": "stream",
     "text": [
      "Epoch: 0\n"
     ]
    }
   ],
   "source": [
    "for e in range(epoch):\n",
    "    model.train()\n",
    "    print(f\"Epoch: {e}\")\n",
    "    batch_cnt = 0\n",
    "    total_loss = 0\n",
    "    correct = 0\n",
    "    for train_idx, train_data_dict in enumerate(traindl):\n",
    "        metaloss = 0\n",
    "        for task in train_data_dict:\n",
    "            task_model = copy.deepcopy(model)\n",
    "            task_optimizer = Adam(task_model.parameters(), lr=lr, weight_decay=1e-4)\n",
    "            sp_x, sp_y, qr_x, qr_y = single_task_detach(batch_dict=train_data_dict,\n",
    "                                                        k_shot=32,\n",
    "                                                        k_query=32,\n",
    "                                                        task=task)\n",
    "        \n",
    "            for in_e in range (inner_epoch):\n",
    "                sp_x, sp_y = sp_x.to(device, dtype = torch.float), sp_y.to(device)\n",
    "                sp_logits = task_model(sp_x)\n",
    "                sp_loss = loss_fn(sp_logits, sp_y)\n",
    "                task_optimizer.zero_grad()\n",
    "                sp_loss.backward()\n",
    "                task_optimizer.step() \n",
    "                \n",
    "            qr_x, qr_y = qr_x.to(device, dtype = torch.float), qr_y.to(device)\n",
    "            qr_logits = task_model(qr_x)\n",
    "            qr_loss = loss_fn(qr_logits, qr_y)\n",
    "            metaloss += qr_loss.item()\n",
    "            qr_loss.backward()            \n",
    "\n",
    "            for w_global, w_local in zip(model.parameters(), task_model.parameters()):\n",
    "                if w_global.grad is None:\n",
    "                    w_global.grad = w_local.grad\n",
    "                else:\n",
    "                    w_global.grad += w_local.grad  \n",
    "        optimizer.step()\n",
    "        optimizer.zero_grad()            \n",
    "\n",
    "    model.eval()\n",
    "    with torch.no_grad():\n",
    "        test_loss = 0\n",
    "        correct = 0\n",
    "        total = 0\n",
    "        batch_count = 0\n",
    "        for test_idx, (test_sigs, test_labels) in enumerate(validdl):\n",
    "            batch_count = test_idx\n",
    "            test_sigs = test_sigs.to(device, dtype = torch.float)\n",
    "            test_labels = test_labels.to(device)\n",
    "            test_logits = model(test_sigs)                \n",
    "\n",
    "            test_loss += loss_fn(test_logits, test_labels).item()\n",
    "            _, predicted = test_logits.max(1)\n",
    "            total += test_labels.size(0)\n",
    "            correct += predicted.eq(test_labels).sum().item()\n",
    "\n",
    "    print(f\"Epoch: {epoch} - MetaLoss: {metaloss/num_task} - Test Loss: {test_loss/batch_count} - Test Acc: {100*correct/total}%\") \n",
    "    "
   ]
  },
  {
   "cell_type": "code",
   "execution_count": null,
   "id": "6c26e7b7",
   "metadata": {},
   "outputs": [],
   "source": [
    "#         batch_cnt = batch\n",
    "#         train_sig = train_sig.to(device)\n",
    "#         train_label = train_label.to(device)\n",
    "        \n",
    "#         pred = model(train_sig)\n",
    "#         loss = loss_fn(pred, train_label)\n",
    "        \n",
    "#         optimizer.zero_grad()\n",
    "#         loss.backward()\n",
    "#         optimizer.step()\n",
    "        \n",
    "#         scheduler.step()\n",
    "        \n",
    "#         total_loss += loss.item()\n",
    "#         correct += (pred.argmax(1) == train_label).type(torch.float).sum().item()\n",
    "    \n",
    "#     total_loss /= batch_cnt\n",
    "#     correct /= len(traindl.dataset)\n",
    "    \n",
    "#     print(f\"train loss: {total_loss} - train acc: {100*correct}\")\n",
    "    \n",
    "#     batch_cnt = 0\n",
    "#     val_total_loss = 0\n",
    "#     val_correct = 0\n",
    "#     model.eval()\n",
    "#     with torch.no_grad():\n",
    "#         for batch, (valid_sig, valid_label) in tqdm(enumerate(validdl)):\n",
    "#             batch_cnt = batch\n",
    "#             valid_sig = valid_sig.to(device)\n",
    "#             valid_label = valid_label.to(device)\n",
    "            \n",
    "#             pred = model(valid_sig)\n",
    "#             loss = loss_fn(pred, valid_label)\n",
    "            \n",
    "#             val_total_loss += loss.item()\n",
    "#             val_correct += (pred.argmax(1) == valid_label).type(torch.float).sum().item()\n",
    "    \n",
    "#         val_total_loss /= batch_cnt\n",
    "#         val_correct /= len(validdl.dataset)\n",
    "        \n",
    "#         print(f\"valid loss: {val_total_loss} - valid acc: {100*val_correct}\")"
   ]
  }
 ],
 "metadata": {
  "kernelspec": {
   "display_name": "Python 3 (ipykernel)",
   "language": "python",
   "name": "python3"
  },
  "language_info": {
   "codemirror_mode": {
    "name": "ipython",
    "version": 3
   },
   "file_extension": ".py",
   "mimetype": "text/x-python",
   "name": "python",
   "nbconvert_exporter": "python",
   "pygments_lexer": "ipython3",
   "version": "3.10.7"
  },
  "widgets": {
   "application/vnd.jupyter.widget-state+json": {
    "state": {},
    "version_major": 2,
    "version_minor": 0
   }
  }
 },
 "nbformat": 4,
 "nbformat_minor": 5
}
