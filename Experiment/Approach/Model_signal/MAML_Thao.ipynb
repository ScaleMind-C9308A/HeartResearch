{
 "cells": [
  {
   "cell_type": "code",
   "execution_count": 1,
   "id": "44ddf287-4125-4d02-a3db-09a4f358b8f3",
   "metadata": {
    "execution": {
     "iopub.execute_input": "2023-09-30T11:29:27.392293Z",
     "iopub.status.busy": "2023-09-30T11:29:27.391931Z",
     "iopub.status.idle": "2023-09-30T11:29:28.925883Z",
     "shell.execute_reply": "2023-09-30T11:29:28.925469Z"
    }
   },
   "outputs": [],
   "source": [
    "import os\n",
    "import pandas as pd\n",
    "import matplotlib.pyplot as plt\n",
    "import numpy as np\n",
    "import seaborn as sns\n",
    "\n",
    "import random\n",
    "from glob import glob\n",
    "from tqdm import tqdm\n",
    "from scipy.io import loadmat\n",
    "\n",
    "import torch\n",
    "from torch import nn\n",
    "from torch.optim import Adam\n",
    "from torch.optim.lr_scheduler import CosineAnnealingLR\n",
    "from torch.utils.data import Dataset, DataLoader\n",
    "import torch.nn.functional as F\n",
    "\n",
    "import os, sys\n",
    "from typing import *\n",
    "import torch\n",
    "import random\n",
    "import copy"
   ]
  },
  {
   "cell_type": "code",
   "execution_count": 2,
   "id": "201d3bee",
   "metadata": {
    "execution": {
     "iopub.execute_input": "2023-09-30T11:29:28.928014Z",
     "iopub.status.busy": "2023-09-30T11:29:28.927795Z",
     "iopub.status.idle": "2023-09-30T11:29:28.936318Z",
     "shell.execute_reply": "2023-09-30T11:29:28.935910Z"
    }
   },
   "outputs": [],
   "source": [
    "def detach(\n",
    "    batch_dict: Dict[int, List[torch.Tensor]] = None, \n",
    "    k_shot:int = None, \n",
    "    k_query:int = None\n",
    "    ) -> Tuple[Dict[int, List[torch.Tensor]]]:\n",
    "    sample_len = len(batch_dict[list(batch_dict.keys())[0]])\n",
    "    \n",
    "    if k_shot + k_query > sample_len:\n",
    "        raise ValueError(f\"Many data to unpack. Since #sample in support set: k_shot and #sample \\\n",
    "            in query set k_query must satisfy the condition: k_shot + k_query == #sample \\\n",
    "                in a batch per task.\")\n",
    "    elif k_shot + k_query < sample_len:\n",
    "        raise UserWarning(f\"the #sample in support set: k_shot and #sample in query set: k_query \\\n",
    "            totally are less than the #sample available in batch task dict. The redundant samples are \\\n",
    "                used in automatically used in query set.\")\n",
    "    \n",
    "    support_dct = {\n",
    "        _cls : batch_dict[_cls][:k_shot] for _cls in batch_dict\n",
    "    }\n",
    "    \n",
    "    query_dct = {\n",
    "        _cls : batch_dict[_cls][k_shot:] for _cls in batch_dict\n",
    "    }\n",
    "    \n",
    "    return (support_dct, query_dct)\n",
    "\n",
    "def maml_detach(\n",
    "    batch_dict: Dict[int, List[torch.Tensor]] = None, \n",
    "    k_shot:int = None, \n",
    "    k_query:int = None,\n",
    "    task:int = None\n",
    "    ) -> Tuple[torch.Tensor]:\n",
    "    \n",
    "    support_dct, query_dct = detach(\n",
    "        batch_dict=batch_dict,\n",
    "        k_shot=k_shot,\n",
    "        k_query=k_query\n",
    "    )\n",
    "    \n",
    "    if not isinstance(task, int):\n",
    "        raise ValueError(f\"task arg must be integer type but found {type(task)} instead\")\n",
    "    elif task not in batch_dict.keys():\n",
    "        raise Exception(f\"Found no task {task} in batch dict\")\n",
    "    \n",
    "    tasks = list(batch_dict.keys())\n",
    "    \n",
    "    support_x, support_y, query_x, query_y = [], [], [], []\n",
    "    for _task in tasks:\n",
    "        support_x.extend(support_dct[_task])\n",
    "        query_x.extend(query_dct[_task])\n",
    "        if _task == task:\n",
    "            support_y.extend([1]*k_shot)\n",
    "            query_y.extend([1]*k_query)\n",
    "        else:\n",
    "            support_y.extend([0]*k_shot)\n",
    "            query_y.extend([0]*k_query)\n",
    "    \n",
    "    support_x = torch.stack(support_x)\n",
    "    support_y = torch.FloatTensor(support_y)\n",
    "    query_x = torch.stack(query_x)\n",
    "    query_y = torch.FloatTensor(query_y)\n",
    "    \n",
    "    return (support_x, support_y, query_x, query_y)\n",
    "\n",
    "def single_task_detach(\n",
    "    batch_dict: Dict[int, List[torch.Tensor]] = None, \n",
    "    k_shot:int = None, \n",
    "    k_query:int = None,\n",
    "    task:int = None\n",
    "    ):\n",
    "    \n",
    "    support_dct, query_dct = detach(\n",
    "        batch_dict=batch_dict,\n",
    "        k_shot=k_shot,\n",
    "        k_query=k_query\n",
    "    )\n",
    "    \n",
    "    if not isinstance(task, int):\n",
    "        raise ValueError(f\"task arg must be integer type but found {type(task)} instead\")\n",
    "    elif task not in batch_dict.keys():\n",
    "        raise Exception(f\"Found no task {task} in batch dict\")\n",
    "    \n",
    "    support_x, support_y, query_x, query_y = [], [], [], []\n",
    "    \n",
    "    support_x.extend(support_dct[task])\n",
    "    support_y.extend([task]*len(support_dct[task]))\n",
    "    query_x.extend(query_dct[task])\n",
    "    query_y.extend([task]*len(query_dct[task]))\n",
    "    \n",
    "    support_x = torch.stack(support_x)\n",
    "    support_y = torch.LongTensor(support_y)\n",
    "    query_x = torch.stack(query_x)\n",
    "    query_y = torch.LongTensor(query_y)\n",
    "    \n",
    "    return (support_x, support_y, query_x, query_y)\n"
   ]
  },
  {
   "cell_type": "code",
   "execution_count": 3,
   "id": "f5357c9d",
   "metadata": {
    "execution": {
     "iopub.execute_input": "2023-09-30T11:29:28.938107Z",
     "iopub.status.busy": "2023-09-30T11:29:28.937977Z",
     "iopub.status.idle": "2023-09-30T11:29:28.940944Z",
     "shell.execute_reply": "2023-09-30T11:29:28.940549Z"
    }
   },
   "outputs": [
    {
     "name": "stdout",
     "output_type": "stream",
     "text": [
      "/home/thaobeo/git/HeartResearch/Experiment/Approach/Model_signal\n"
     ]
    }
   ],
   "source": [
    "print(os.getcwd())\n",
    "\n",
    "for i in range (3):\n",
    "    os.chdir(\"..\")\n",
    "    \n",
    "main_data_dir = os.getcwd() + \"/Data set\""
   ]
  },
  {
   "cell_type": "code",
   "execution_count": 4,
   "id": "e2868d4b-ebc6-40e5-8242-80fdb12670df",
   "metadata": {
    "execution": {
     "iopub.execute_input": "2023-09-30T11:29:28.943334Z",
     "iopub.status.busy": "2023-09-30T11:29:28.943211Z",
     "iopub.status.idle": "2023-09-30T11:29:28.946063Z",
     "shell.execute_reply": "2023-09-30T11:29:28.945627Z"
    }
   },
   "outputs": [
    {
     "name": "stdout",
     "output_type": "stream",
     "text": [
      "['TrainingSet3', 'Label.csv', 'alldata', 'TrainingSet1', 'single_label.csv', 'TrainingSet2']\n"
     ]
    }
   ],
   "source": [
    "data_dir = \"/media/mountHDD2/khoibaocon\"\n",
    "print(os.listdir(data_dir))"
   ]
  },
  {
   "cell_type": "code",
   "execution_count": 5,
   "id": "2f3c37b5-d09e-467c-8ee3-c2bb3fce5555",
   "metadata": {
    "execution": {
     "iopub.execute_input": "2023-09-30T11:29:28.948320Z",
     "iopub.status.busy": "2023-09-30T11:29:28.948198Z",
     "iopub.status.idle": "2023-09-30T11:29:28.956241Z",
     "shell.execute_reply": "2023-09-30T11:29:28.955755Z"
    }
   },
   "outputs": [
    {
     "data": {
      "text/plain": [
       "(6877, 4)"
      ]
     },
     "execution_count": 5,
     "metadata": {},
     "output_type": "execute_result"
    }
   ],
   "source": [
    "main_df = pd.read_csv(data_dir + \"/Label.csv\")\n",
    "main_df.shape"
   ]
  },
  {
   "cell_type": "code",
   "execution_count": 6,
   "id": "a4f1e0f7-99a0-4a5a-8ba5-7cab7e5d354b",
   "metadata": {
    "execution": {
     "iopub.execute_input": "2023-09-30T11:29:28.958518Z",
     "iopub.status.busy": "2023-09-30T11:29:28.958393Z",
     "iopub.status.idle": "2023-09-30T11:29:28.964502Z",
     "shell.execute_reply": "2023-09-30T11:29:28.964052Z"
    }
   },
   "outputs": [
    {
     "data": {
      "text/html": [
       "<div>\n",
       "<style scoped>\n",
       "    .dataframe tbody tr th:only-of-type {\n",
       "        vertical-align: middle;\n",
       "    }\n",
       "\n",
       "    .dataframe tbody tr th {\n",
       "        vertical-align: top;\n",
       "    }\n",
       "\n",
       "    .dataframe thead th {\n",
       "        text-align: right;\n",
       "    }\n",
       "</style>\n",
       "<table border=\"1\" class=\"dataframe\">\n",
       "  <thead>\n",
       "    <tr style=\"text-align: right;\">\n",
       "      <th></th>\n",
       "      <th>Recording</th>\n",
       "      <th>First_label</th>\n",
       "      <th>Second_label</th>\n",
       "      <th>Third_label</th>\n",
       "    </tr>\n",
       "  </thead>\n",
       "  <tbody>\n",
       "    <tr>\n",
       "      <th>0</th>\n",
       "      <td>A0001</td>\n",
       "      <td>5</td>\n",
       "      <td>NaN</td>\n",
       "      <td>NaN</td>\n",
       "    </tr>\n",
       "    <tr>\n",
       "      <th>1</th>\n",
       "      <td>A0002</td>\n",
       "      <td>1</td>\n",
       "      <td>NaN</td>\n",
       "      <td>NaN</td>\n",
       "    </tr>\n",
       "    <tr>\n",
       "      <th>2</th>\n",
       "      <td>A0003</td>\n",
       "      <td>2</td>\n",
       "      <td>NaN</td>\n",
       "      <td>NaN</td>\n",
       "    </tr>\n",
       "    <tr>\n",
       "      <th>3</th>\n",
       "      <td>A0004</td>\n",
       "      <td>2</td>\n",
       "      <td>NaN</td>\n",
       "      <td>NaN</td>\n",
       "    </tr>\n",
       "    <tr>\n",
       "      <th>4</th>\n",
       "      <td>A0005</td>\n",
       "      <td>7</td>\n",
       "      <td>NaN</td>\n",
       "      <td>NaN</td>\n",
       "    </tr>\n",
       "  </tbody>\n",
       "</table>\n",
       "</div>"
      ],
      "text/plain": [
       "  Recording  First_label  Second_label  Third_label\n",
       "0     A0001            5           NaN          NaN\n",
       "1     A0002            1           NaN          NaN\n",
       "2     A0003            2           NaN          NaN\n",
       "3     A0004            2           NaN          NaN\n",
       "4     A0005            7           NaN          NaN"
      ]
     },
     "execution_count": 6,
     "metadata": {},
     "output_type": "execute_result"
    }
   ],
   "source": [
    "main_df.head()"
   ]
  },
  {
   "cell_type": "code",
   "execution_count": 7,
   "id": "e460e120-cf80-48b0-b2d6-cfbfc30cc08c",
   "metadata": {
    "execution": {
     "iopub.execute_input": "2023-09-30T11:29:28.966693Z",
     "iopub.status.busy": "2023-09-30T11:29:28.966580Z",
     "iopub.status.idle": "2023-09-30T11:29:28.970482Z",
     "shell.execute_reply": "2023-09-30T11:29:28.970036Z"
    }
   },
   "outputs": [
    {
     "data": {
      "text/plain": [
       "First_label\n",
       "5    1695\n",
       "2    1098\n",
       "1     918\n",
       "8     826\n",
       "3     704\n",
       "7     653\n",
       "6     574\n",
       "4     207\n",
       "9     202\n",
       "Name: count, dtype: int64"
      ]
     },
     "execution_count": 7,
     "metadata": {},
     "output_type": "execute_result"
    }
   ],
   "source": [
    "main_df[\"First_label\"].value_counts()"
   ]
  },
  {
   "cell_type": "code",
   "execution_count": 8,
   "id": "946947c7-a713-4ba1-8184-2fef44eba6cc",
   "metadata": {
    "execution": {
     "iopub.execute_input": "2023-09-30T11:29:28.972697Z",
     "iopub.status.busy": "2023-09-30T11:29:28.972574Z",
     "iopub.status.idle": "2023-09-30T11:29:28.976567Z",
     "shell.execute_reply": "2023-09-30T11:29:28.976124Z"
    }
   },
   "outputs": [
    {
     "data": {
      "text/plain": [
       "Second_label\n",
       "5.0    162\n",
       "2.0    123\n",
       "7.0     47\n",
       "6.0     42\n",
       "8.0     41\n",
       "4.0     28\n",
       "3.0     18\n",
       "9.0     16\n",
       "Name: count, dtype: int64"
      ]
     },
     "execution_count": 8,
     "metadata": {},
     "output_type": "execute_result"
    }
   ],
   "source": [
    "main_df[\"Second_label\"].value_counts()"
   ]
  },
  {
   "cell_type": "code",
   "execution_count": 9,
   "id": "982de563-1cc2-44d7-8ff8-f8096b9e7115",
   "metadata": {
    "execution": {
     "iopub.execute_input": "2023-09-30T11:29:28.978736Z",
     "iopub.status.busy": "2023-09-30T11:29:28.978616Z",
     "iopub.status.idle": "2023-09-30T11:29:28.982602Z",
     "shell.execute_reply": "2023-09-30T11:29:28.982174Z"
    }
   },
   "outputs": [
    {
     "data": {
      "text/plain": [
       "Third_label\n",
       "9.0    2\n",
       "8.0    2\n",
       "6.0    1\n",
       "4.0    1\n",
       "Name: count, dtype: int64"
      ]
     },
     "execution_count": 9,
     "metadata": {},
     "output_type": "execute_result"
    }
   ],
   "source": [
    "main_df[\"Third_label\"].value_counts()"
   ]
  },
  {
   "cell_type": "code",
   "execution_count": 10,
   "id": "e55bab59-4461-434b-9f39-ca1413ae7ed6",
   "metadata": {
    "execution": {
     "iopub.execute_input": "2023-09-30T11:29:28.984811Z",
     "iopub.status.busy": "2023-09-30T11:29:28.984689Z",
     "iopub.status.idle": "2023-09-30T11:29:28.988537Z",
     "shell.execute_reply": "2023-09-30T11:29:28.988090Z"
    }
   },
   "outputs": [
    {
     "data": {
      "text/plain": [
       "(6400, 4)"
      ]
     },
     "execution_count": 10,
     "metadata": {},
     "output_type": "execute_result"
    }
   ],
   "source": [
    "single_main_df = main_df[main_df[\"Second_label\"].isnull()]\n",
    "single_main_df.shape"
   ]
  },
  {
   "cell_type": "code",
   "execution_count": 11,
   "id": "7c439e8c-8f9c-4237-9e6a-c0939efe403b",
   "metadata": {
    "execution": {
     "iopub.execute_input": "2023-09-30T11:29:28.990669Z",
     "iopub.status.busy": "2023-09-30T11:29:28.990559Z",
     "iopub.status.idle": "2023-09-30T11:29:29.000976Z",
     "shell.execute_reply": "2023-09-30T11:29:29.000506Z"
    }
   },
   "outputs": [],
   "source": [
    "single_main_df.to_csv(main_data_dir + \"/single_label.csv\")"
   ]
  },
  {
   "cell_type": "code",
   "execution_count": 12,
   "id": "069eddeb-73ab-40de-8a4f-2b4cae764db6",
   "metadata": {
    "execution": {
     "iopub.execute_input": "2023-09-30T11:29:29.003218Z",
     "iopub.status.busy": "2023-09-30T11:29:29.003093Z",
     "iopub.status.idle": "2023-09-30T11:29:29.015715Z",
     "shell.execute_reply": "2023-09-30T11:29:29.015389Z"
    }
   },
   "outputs": [
    {
     "name": "stdout",
     "output_type": "stream",
     "text": [
      "6877\n"
     ]
    }
   ],
   "source": [
    "mat_files = glob(data_dir + \"/alldata/*\")\n",
    "print(len(mat_files))"
   ]
  },
  {
   "cell_type": "code",
   "execution_count": 13,
   "id": "6235c55f-7003-4eba-9dc7-a7c107721c22",
   "metadata": {
    "execution": {
     "iopub.execute_input": "2023-09-30T11:29:29.017126Z",
     "iopub.status.busy": "2023-09-30T11:29:29.017004Z",
     "iopub.status.idle": "2023-09-30T11:29:29.019413Z",
     "shell.execute_reply": "2023-09-30T11:29:29.019126Z"
    }
   },
   "outputs": [
    {
     "name": "stdout",
     "output_type": "stream",
     "text": [
      "6400\n"
     ]
    }
   ],
   "source": [
    "single_fns = single_main_df[\"Recording\"].values.tolist()\n",
    "print(len(single_fns))"
   ]
  },
  {
   "cell_type": "code",
   "execution_count": 14,
   "id": "cf74da3f-b040-4514-b9e3-642b8c501dba",
   "metadata": {
    "execution": {
     "iopub.execute_input": "2023-09-30T11:29:29.020894Z",
     "iopub.status.busy": "2023-09-30T11:29:29.020588Z",
     "iopub.status.idle": "2023-09-30T11:29:29.023611Z",
     "shell.execute_reply": "2023-09-30T11:29:29.023292Z"
    }
   },
   "outputs": [
    {
     "name": "stdout",
     "output_type": "stream",
     "text": [
      "True\n"
     ]
    }
   ],
   "source": [
    "single_mat_paths = [data_dir + f\"/alldata/{x}.mat\" for x in single_fns]\n",
    "print(os.path.exists(single_mat_paths[0]))"
   ]
  },
  {
   "cell_type": "code",
   "execution_count": 15,
   "id": "bb59505a-ddb3-4835-8673-354e15b764e9",
   "metadata": {
    "execution": {
     "iopub.execute_input": "2023-09-30T11:29:29.025015Z",
     "iopub.status.busy": "2023-09-30T11:29:29.024890Z",
     "iopub.status.idle": "2023-09-30T11:29:29.030766Z",
     "shell.execute_reply": "2023-09-30T11:29:29.030452Z"
    }
   },
   "outputs": [
    {
     "data": {
      "text/plain": [
       "dict_keys(['__header__', '__version__', '__globals__', 'ECG'])"
      ]
     },
     "execution_count": 15,
     "metadata": {},
     "output_type": "execute_result"
    }
   ],
   "source": [
    "sample_data = loadmat(single_mat_paths[0])\n",
    "sample_data.keys()"
   ]
  },
  {
   "cell_type": "code",
   "execution_count": 16,
   "id": "db6cff39-d48b-49d3-80c7-e9d6888b62dd",
   "metadata": {
    "execution": {
     "iopub.execute_input": "2023-09-30T11:29:29.032188Z",
     "iopub.status.busy": "2023-09-30T11:29:29.032064Z",
     "iopub.status.idle": "2023-09-30T11:29:29.034725Z",
     "shell.execute_reply": "2023-09-30T11:29:29.034448Z"
    }
   },
   "outputs": [
    {
     "data": {
      "text/plain": [
       "(12, 7500)"
      ]
     },
     "execution_count": 16,
     "metadata": {},
     "output_type": "execute_result"
    }
   ],
   "source": [
    "sample_signal_data = sample_data['ECG'][0][0][2]\n",
    "sample_signal_data.shape"
   ]
  },
  {
   "cell_type": "code",
   "execution_count": 17,
   "id": "3f0e4742",
   "metadata": {
    "execution": {
     "iopub.execute_input": "2023-09-30T11:29:29.035985Z",
     "iopub.status.busy": "2023-09-30T11:29:29.035874Z",
     "iopub.status.idle": "2023-09-30T11:29:29.037899Z",
     "shell.execute_reply": "2023-09-30T11:29:29.037578Z"
    }
   },
   "outputs": [
    {
     "name": "stdout",
     "output_type": "stream",
     "text": [
      "6400\n"
     ]
    }
   ],
   "source": [
    "print(len(single_mat_paths))"
   ]
  },
  {
   "cell_type": "code",
   "execution_count": 18,
   "id": "c74162e9-da4b-43fe-802c-59e884bf9f98",
   "metadata": {
    "execution": {
     "iopub.execute_input": "2023-09-30T11:29:29.039407Z",
     "iopub.status.busy": "2023-09-30T11:29:29.039165Z",
     "iopub.status.idle": "2023-09-30T11:29:29.041051Z",
     "shell.execute_reply": "2023-09-30T11:29:29.040733Z"
    }
   },
   "outputs": [],
   "source": [
    "# plt.plot(sample_signal_data[0])"
   ]
  },
  {
   "cell_type": "code",
   "execution_count": 19,
   "id": "7978703e-8bd0-464d-a4d5-08abc919c38a",
   "metadata": {
    "execution": {
     "iopub.execute_input": "2023-09-30T11:29:29.042531Z",
     "iopub.status.busy": "2023-09-30T11:29:29.042266Z",
     "iopub.status.idle": "2023-09-30T11:29:29.051737Z",
     "shell.execute_reply": "2023-09-30T11:29:29.051445Z"
    }
   },
   "outputs": [
    {
     "name": "stdout",
     "output_type": "stream",
     "text": [
      "torch.Size([1, 12, 32])\n"
     ]
    }
   ],
   "source": [
    "sample_sig = torch.randn(1, 12, 32)\n",
    "conv_test = nn.Conv1d(12, 12, 3, 1, 1)\n",
    "print(conv_test(sample_sig).shape)"
   ]
  },
  {
   "cell_type": "code",
   "execution_count": 20,
   "id": "b553864b-76e1-4a92-aa92-ecb7410840ac",
   "metadata": {
    "execution": {
     "iopub.execute_input": "2023-09-30T11:29:29.053274Z",
     "iopub.status.busy": "2023-09-30T11:29:29.053137Z",
     "iopub.status.idle": "2023-09-30T11:29:47.574835Z",
     "shell.execute_reply": "2023-09-30T11:29:47.574484Z"
    }
   },
   "outputs": [
    {
     "name": "stdout",
     "output_type": "stream",
     "text": [
      "MAX: 72000\n",
      "MIN: 3000\n",
      "AVG: 7946.03703125\n"
     ]
    }
   ],
   "source": [
    "len_lst = [loadmat(x)['ECG'][0][0][2].shape[1] for x in single_mat_paths]\n",
    "print(f\"MAX: {max(len_lst)}\")\n",
    "print(f\"MIN: {min(len_lst)}\")\n",
    "print(f\"AVG: {sum(len_lst)/len(len_lst)}\")"
   ]
  },
  {
   "cell_type": "code",
   "execution_count": 21,
   "id": "949a0ef3-5be8-4e8e-b087-fa05e95f6fb8",
   "metadata": {
    "execution": {
     "iopub.execute_input": "2023-09-30T11:29:47.576429Z",
     "iopub.status.busy": "2023-09-30T11:29:47.576281Z",
     "iopub.status.idle": "2023-09-30T11:29:47.579691Z",
     "shell.execute_reply": "2023-09-30T11:29:47.579386Z"
    }
   },
   "outputs": [],
   "source": [
    "class BasicBlock(nn.Module):\n",
    "    def __init__(self, channel_num):\n",
    "        super(BasicBlock, self).__init__()\n",
    "        self.conv_block1 = nn.Sequential(\n",
    "            nn.Conv1d(channel_num, channel_num, 3, padding=1),\n",
    "            nn.BatchNorm1d(channel_num),\n",
    "            nn.ReLU())\n",
    "        \n",
    "        self.conv_block2 = nn.Sequential(\n",
    "            nn.Conv1d(channel_num, channel_num, 3, padding=1),\n",
    "            nn.BatchNorm1d(channel_num),\n",
    "        )\n",
    "        self.relu = nn.ReLU()\n",
    "        torch.nn.init.kaiming_normal_(self.conv_block1[0].weight)\n",
    "        torch.nn.init.kaiming_normal_(self.conv_block2[0].weight)\n",
    "        \n",
    "    def forward(self, x):\n",
    "        residual = x\n",
    "        x = self.conv_block1(x)\n",
    "        x = self.conv_block2(x)\n",
    "        x = x + residual\n",
    "        out = self.relu(x)\n",
    "        return out"
   ]
  },
  {
   "cell_type": "code",
   "execution_count": 22,
   "id": "dbdfa702-b20a-4fe3-80e6-e28fa4ac0e6f",
   "metadata": {
    "execution": {
     "iopub.execute_input": "2023-09-30T11:29:47.581036Z",
     "iopub.status.busy": "2023-09-30T11:29:47.580870Z",
     "iopub.status.idle": "2023-09-30T11:29:47.584731Z",
     "shell.execute_reply": "2023-09-30T11:29:47.584378Z"
    }
   },
   "outputs": [
    {
     "name": "stdout",
     "output_type": "stream",
     "text": [
      "torch.Size([1, 2, 32])\n"
     ]
    }
   ],
   "source": [
    "test_basic_block = BasicBlock(2)\n",
    "sample_sig = torch.randn(1, 2, 32)\n",
    "print(test_basic_block(sample_sig).shape)"
   ]
  },
  {
   "cell_type": "code",
   "execution_count": 23,
   "id": "e07a7549-965d-49b4-b498-ff00f4014167",
   "metadata": {
    "execution": {
     "iopub.execute_input": "2023-09-30T11:29:47.587300Z",
     "iopub.status.busy": "2023-09-30T11:29:47.586588Z",
     "iopub.status.idle": "2023-09-30T11:29:47.593162Z",
     "shell.execute_reply": "2023-09-30T11:29:47.592862Z"
    }
   },
   "outputs": [],
   "source": [
    "class ResNet(nn.Module):\n",
    "    def __init__(self, in_channels = 12, type = 18, num_classes = 9):\n",
    "        super(ResNet, self).__init__()\n",
    "        self.struc_dict = {\n",
    "            18: {\n",
    "                \"num_channels\" : [64, 128, 256, 512],\n",
    "                \"counts\" : [2, 2, 2, 2]\n",
    "            }\n",
    "        }\n",
    "        self.conv1 = nn.Conv1d(in_channels=in_channels, out_channels=64, kernel_size=7, stride=2)\n",
    "        torch.nn.init.kaiming_normal_(self.conv1.weight)\n",
    "        self.max1 = nn.MaxPool1d(kernel_size=3, stride=2)\n",
    "        self.main = nn.Sequential()\n",
    "        for idx, struc in enumerate(\n",
    "            zip(\n",
    "                self.struc_dict[type][\"num_channels\"], \n",
    "                self.struc_dict[type][\"counts\"]\n",
    "            )\n",
    "        ):\n",
    "            num_channel, cnt = struc\n",
    "            for i in range(cnt):\n",
    "                self.main.add_module(f\"conv{idx+1}_{i}\", BasicBlock(num_channel))\n",
    "            if idx < len(self.struc_dict[type][\"num_channels\"]) - 1:\n",
    "                self.main.add_module(f\"ext_{idx}\", nn.Conv1d(num_channel, self.struc_dict[type][\"num_channels\"][idx+1], 3, 1))\n",
    "                self.main.add_module(f\"extbn_{idx}\", nn.BatchNorm1d(self.struc_dict[type][\"num_channels\"][idx+1]))\n",
    "                                     \n",
    "        self.avg = torch.nn.AdaptiveAvgPool1d((1))\n",
    "        self.lin = nn.Linear(self.struc_dict[type][\"num_channels\"][-1], num_classes)\n",
    "        torch.nn.init.kaiming_normal_(self.lin.weight)\n",
    "    def forward(self, x):\n",
    "        x = self.conv1(x)\n",
    "        x = self.max1(x)\n",
    "        x = self.main(x)\n",
    "        x = self.avg(x)\n",
    "        x = x.reshape(x.shape[0], -1)\n",
    "        x = self.lin(x)\n",
    "        return x"
   ]
  },
  {
   "cell_type": "code",
   "execution_count": 24,
   "id": "182b31c1-94b6-4c83-837e-f8aa593a1324",
   "metadata": {
    "execution": {
     "iopub.execute_input": "2023-09-30T11:29:47.594602Z",
     "iopub.status.busy": "2023-09-30T11:29:47.594382Z",
     "iopub.status.idle": "2023-09-30T11:29:47.676417Z",
     "shell.execute_reply": "2023-09-30T11:29:47.676062Z"
    }
   },
   "outputs": [
    {
     "data": {
      "text/plain": [
       "torch.Size([1, 9])"
      ]
     },
     "execution_count": 24,
     "metadata": {},
     "output_type": "execute_result"
    }
   ],
   "source": [
    "model = ResNet()\n",
    "sample_sig = torch.randn(1, 12, 3000)\n",
    "model(sample_sig).shape"
   ]
  },
  {
   "cell_type": "code",
   "execution_count": 25,
   "id": "c7dd7940-7c95-4edf-b39e-0de905f24dc5",
   "metadata": {
    "execution": {
     "iopub.execute_input": "2023-09-30T11:29:47.677992Z",
     "iopub.status.busy": "2023-09-30T11:29:47.677753Z",
     "iopub.status.idle": "2023-09-30T11:29:47.679973Z",
     "shell.execute_reply": "2023-09-30T11:29:47.679616Z"
    }
   },
   "outputs": [],
   "source": [
    "# class ECG(Dataset):\n",
    "#     def __init__(self, data_paths, label_df):\n",
    "#         self.data_paths = data_paths\n",
    "#         random.shuffle(self.data_paths)\n",
    "#         self.label_df = label_df\n",
    "\n",
    "#     def __getitem__(self, idx):\n",
    "#         data_path = self.data_paths[idx]        \n",
    "#         data = loadmat(data_path)['ECG'][0][0][2]\n",
    "#         clip_data = data[:, 300:3000]\n",
    "\n",
    "#         filename = data_path.split(\"/\")[-1].split(\".\")[0]\n",
    "#         label = self.label_df[self.label_df[\"Recording\"] == filename][\"First_label\"].values.item()\n",
    "\n",
    "#         torch_data = torch.from_numpy(clip_data)\n",
    "\n",
    "#         return torch_data.float(), label-1\n",
    "\n",
    "#     def __len__(self):\n",
    "#         return len(self.data_paths)"
   ]
  },
  {
   "cell_type": "code",
   "execution_count": 26,
   "id": "8c515354",
   "metadata": {
    "execution": {
     "iopub.execute_input": "2023-09-30T11:29:47.681815Z",
     "iopub.status.busy": "2023-09-30T11:29:47.681573Z",
     "iopub.status.idle": "2023-09-30T11:29:47.684810Z",
     "shell.execute_reply": "2023-09-30T11:29:47.684499Z"
    }
   },
   "outputs": [],
   "source": [
    "ratio = [0.8, 0.1, 0.1]\n",
    "\n",
    "train_index = int(len(single_mat_paths)*ratio[0])\n",
    "valid_index = int(len(single_mat_paths)*(ratio[0]+ratio[1]))\n",
    "\n",
    "train_image_paths = single_mat_paths[:train_index]\n",
    "valid_image_paths = single_mat_paths[train_index:valid_index]\n",
    "test_image_paths = single_mat_paths[valid_index:]"
   ]
  },
  {
   "cell_type": "code",
   "execution_count": 27,
   "id": "6b312721",
   "metadata": {
    "execution": {
     "iopub.execute_input": "2023-09-30T11:29:47.686285Z",
     "iopub.status.busy": "2023-09-30T11:29:47.686060Z",
     "iopub.status.idle": "2023-09-30T11:29:47.690558Z",
     "shell.execute_reply": "2023-09-30T11:29:47.690213Z"
    }
   },
   "outputs": [],
   "source": [
    "ks = 1\n",
    "kq = 5\n",
    "\n",
    "def set_dataset(mat_path):\n",
    "    sig_dict = {i : [] for i in range(9)}    \n",
    "\n",
    "    for data_path in mat_path:\n",
    "        filename = data_path.split(\"/\")[-1].split(\".\")[0]\n",
    "        _cls = single_main_df[single_main_df[\"Recording\"] == filename][\"First_label\"].values.item()\n",
    "        data = loadmat(data_path)['ECG'][0][0][2]\n",
    "        clip_data = data[:, 300:3000]\n",
    "        torch_data = torch.from_numpy(clip_data)\n",
    "\n",
    "        sig_dict[_cls-1].append(clip_data)\n",
    "\n",
    "    max_sample = max([len(sig_dict[i]) for i in range(9)])\n",
    "    sample_cls_cnt = max_sample + ((ks + kq) - max_sample % (ks + kq))\n",
    "    \n",
    "    for i in range(9):\n",
    "\n",
    "        a = sample_cls_cnt/len(sig_dict[i])\n",
    "\n",
    "        if a < 1:\n",
    "            sig_dict[i] = sig_dict[i] + random.sample(sig_dict[i], k = sample_cls_cnt - len(sig_dict[i]))\n",
    "        else:\n",
    "            sig_dict[i] = (int(np.floor(sample_cls_cnt/len(sig_dict[i]))))*sig_dict[i]\n",
    "            sig_dict[i] = sig_dict[i] + random.sample(sig_dict[i], k = sample_cls_cnt - len(sig_dict[i]))\n",
    "            \n",
    "    return sig_dict"
   ]
  },
  {
   "cell_type": "code",
   "execution_count": 28,
   "id": "0e283305",
   "metadata": {
    "execution": {
     "iopub.execute_input": "2023-09-30T11:29:47.692221Z",
     "iopub.status.busy": "2023-09-30T11:29:47.691928Z",
     "iopub.status.idle": "2023-09-30T11:29:47.694011Z",
     "shell.execute_reply": "2023-09-30T11:29:47.693724Z"
    }
   },
   "outputs": [],
   "source": [
    "# class HeartData(Dataset):\n",
    "#     def __init__(self, data_path):\n",
    "#         self.data_path = data_path\n",
    "\n",
    "#     def __len__(self):\n",
    "#         return len(self.data_path)\n",
    "        \n",
    "#     def __getitem__(self, index):\n",
    "#         filename = self.data_path[index].split(\"/\")[-1].split(\".\")[0]\n",
    "#         label = single_main_df[single_main_df[\"Recording\"] == filename][\"First_label\"].values.item() - 1\n",
    "#         data = loadmat(self.data_path[index])['ECG'][0][0][2]\n",
    "#         signal = data[:, 300:3000]\n",
    "        \n",
    "#         return signal, label"
   ]
  },
  {
   "cell_type": "code",
   "execution_count": 29,
   "id": "4a25f728",
   "metadata": {
    "execution": {
     "iopub.execute_input": "2023-09-30T11:29:47.695499Z",
     "iopub.status.busy": "2023-09-30T11:29:47.695320Z",
     "iopub.status.idle": "2023-09-30T11:29:47.698682Z",
     "shell.execute_reply": "2023-09-30T11:29:47.698354Z"
    }
   },
   "outputs": [],
   "source": [
    "class HeartData(Dataset):\n",
    "    def __init__(self, data_paths):\n",
    "        self.data_paths = data_paths\n",
    "        random.shuffle(self.data_paths)\n",
    "\n",
    "    def __getitem__(self, idx):\n",
    "        data_path = self.data_paths[idx]        \n",
    "        data = loadmat(data_path)['ECG'][0][0][2]\n",
    "        clip_data = data[:, 300:3000]\n",
    "\n",
    "        filename = data_path.split(\"/\")[-1].split(\".\")[0]\n",
    "        label = single_main_df[single_main_df[\"Recording\"] == filename][\"First_label\"].values.item()\n",
    "\n",
    "        torch_data = torch.from_numpy(clip_data)\n",
    "\n",
    "        return torch_data.float(), label-1\n",
    "\n",
    "    def __len__(self):\n",
    "        return len(self.data_paths)"
   ]
  },
  {
   "cell_type": "code",
   "execution_count": 30,
   "id": "688e338e",
   "metadata": {
    "execution": {
     "iopub.execute_input": "2023-09-30T11:29:47.700134Z",
     "iopub.status.busy": "2023-09-30T11:29:47.699966Z",
     "iopub.status.idle": "2023-09-30T11:30:06.126952Z",
     "shell.execute_reply": "2023-09-30T11:30:06.126502Z"
    }
   },
   "outputs": [],
   "source": [
    "train_dataset = set_dataset(train_image_paths)\n",
    "# valid_dataset = HearData(valid_image_paths)"
   ]
  },
  {
   "cell_type": "code",
   "execution_count": 31,
   "id": "88f8b2ec",
   "metadata": {
    "execution": {
     "iopub.execute_input": "2023-09-30T11:30:06.129079Z",
     "iopub.status.busy": "2023-09-30T11:30:06.128754Z",
     "iopub.status.idle": "2023-09-30T11:30:06.131101Z",
     "shell.execute_reply": "2023-09-30T11:30:06.130805Z"
    }
   },
   "outputs": [],
   "source": [
    "valid_dataset = HeartData(valid_image_paths)"
   ]
  },
  {
   "cell_type": "code",
   "execution_count": 32,
   "id": "ee2c1c23",
   "metadata": {
    "execution": {
     "iopub.execute_input": "2023-09-30T11:30:06.132736Z",
     "iopub.status.busy": "2023-09-30T11:30:06.132420Z",
     "iopub.status.idle": "2023-09-30T11:30:06.135212Z",
     "shell.execute_reply": "2023-09-30T11:30:06.134853Z"
    }
   },
   "outputs": [],
   "source": [
    "class ECG(Dataset):\n",
    "    def __init__(self, dict_ds):\n",
    "        self.dict_ds = dict_ds\n",
    "\n",
    "    def __getitem__(self, idx):\n",
    "        selected_dict = { _cls : self.dict_ds[_cls][idx] for _cls in range(9)}\n",
    "\n",
    "        return selected_dict\n",
    "\n",
    "    def __len__(self):\n",
    "        \n",
    "        return len(self.dict_ds[1])"
   ]
  },
  {
   "cell_type": "code",
   "execution_count": 33,
   "id": "4e01d387-99b1-416e-83a7-cb1d3a664179",
   "metadata": {
    "execution": {
     "iopub.execute_input": "2023-09-30T11:30:06.136740Z",
     "iopub.status.busy": "2023-09-30T11:30:06.136566Z",
     "iopub.status.idle": "2023-09-30T11:30:06.138379Z",
     "shell.execute_reply": "2023-09-30T11:30:06.138071Z"
    }
   },
   "outputs": [],
   "source": [
    "# check_ds = ECG(data_paths=single_mat_paths, label_df=single_main_df)\n",
    "# sample, lbl = check_ds[0]\n",
    "# print(sample.shape, lbl)"
   ]
  },
  {
   "cell_type": "code",
   "execution_count": 34,
   "id": "68e75806-1788-4302-a883-2a1e6401ea00",
   "metadata": {
    "execution": {
     "iopub.execute_input": "2023-09-30T11:30:06.139941Z",
     "iopub.status.busy": "2023-09-30T11:30:06.139617Z",
     "iopub.status.idle": "2023-09-30T11:30:06.141512Z",
     "shell.execute_reply": "2023-09-30T11:30:06.141200Z"
    }
   },
   "outputs": [],
   "source": [
    "# model(sample.unsqueeze(dim=0)).shape"
   ]
  },
  {
   "cell_type": "code",
   "execution_count": 35,
   "id": "07cf3c4b-a69a-4c74-8d60-a841345c04a0",
   "metadata": {
    "execution": {
     "iopub.execute_input": "2023-09-30T11:30:06.143022Z",
     "iopub.status.busy": "2023-09-30T11:30:06.142728Z",
     "iopub.status.idle": "2023-09-30T11:30:06.144833Z",
     "shell.execute_reply": "2023-09-30T11:30:06.144533Z"
    }
   },
   "outputs": [],
   "source": [
    "# data_dict = {\n",
    "#     idx : [] for idx in range(9)\n",
    "# }\n",
    "\n",
    "# for data_path in single_mat_paths:\n",
    "#     filename = data_path.split(\"/\")[-1].split(\".\")[0]\n",
    "#     _cls = single_main_df[single_main_df[\"Recording\"] == filename][\"First_label\"].values.item()\n",
    "\n",
    "#     data_dict[_cls-1].append(data_path)\n",
    "\n",
    "# for key in data_dict:\n",
    "#     print(f\"{key}->{len(data_dict[key])}\")"
   ]
  },
  {
   "cell_type": "code",
   "execution_count": 36,
   "id": "ef039dff-5ef3-4f80-9d7b-df982fe4b0f5",
   "metadata": {
    "execution": {
     "iopub.execute_input": "2023-09-30T11:30:06.146359Z",
     "iopub.status.busy": "2023-09-30T11:30:06.146129Z",
     "iopub.status.idle": "2023-09-30T11:30:06.148089Z",
     "shell.execute_reply": "2023-09-30T11:30:06.147768Z"
    }
   },
   "outputs": [],
   "source": [
    "# train_data_dict = {\n",
    "#     _cls : data_dict[_cls][:int(0.9*len(data_dict[_cls]))] for _cls in data_dict\n",
    "# }\n",
    "\n",
    "# valid_data_dict = {\n",
    "#     _cls : data_dict[_cls][int(0.9*len(data_dict[_cls])):] for _cls in data_dict\n",
    "# }\n",
    "\n",
    "# for key in train_data_dict:\n",
    "#     print(f\"{key}->{len(train_data_dict[key])}--{len(valid_data_dict[key])}\")"
   ]
  },
  {
   "cell_type": "code",
   "execution_count": 37,
   "id": "4fa08ec9-2dc6-4690-ab1b-f653d3a8d10d",
   "metadata": {
    "execution": {
     "iopub.execute_input": "2023-09-30T11:30:06.149533Z",
     "iopub.status.busy": "2023-09-30T11:30:06.149356Z",
     "iopub.status.idle": "2023-09-30T11:30:06.151163Z",
     "shell.execute_reply": "2023-09-30T11:30:06.150857Z"
    }
   },
   "outputs": [],
   "source": [
    "# train_data_paths = []\n",
    "# for key in train_data_dict:\n",
    "#     train_data_paths.extend(train_data_dict[key])\n",
    "# valid_data_paths = []\n",
    "# for key in valid_data_dict:\n",
    "#     valid_data_paths.extend(valid_data_dict[key])\n",
    "# print(len(train_data_paths))\n",
    "# print(len(valid_data_paths))"
   ]
  },
  {
   "cell_type": "code",
   "execution_count": 38,
   "id": "bcb8e138",
   "metadata": {
    "execution": {
     "iopub.execute_input": "2023-09-30T11:30:06.152652Z",
     "iopub.status.busy": "2023-09-30T11:30:06.152461Z",
     "iopub.status.idle": "2023-09-30T11:30:06.154275Z",
     "shell.execute_reply": "2023-09-30T11:30:06.153980Z"
    }
   },
   "outputs": [],
   "source": [
    "# sig_dict = {\n",
    "#     idx : [] for idx in range(9)\n",
    "# }    \n",
    "\n",
    "# for data_path in single_mat_paths:\n",
    "#     filename = data_path.split(\"/\")[-1].split(\".\")[0]\n",
    "#     _cls = single_main_df[single_main_df[\"Recording\"] == filename][\"First_label\"].values.item()\n",
    "#     data = loadmat(data_path)['ECG'][0][0][2]\n",
    "#     sig_dict[_cls-1].append(data)"
   ]
  },
  {
   "cell_type": "code",
   "execution_count": 39,
   "id": "89829c08",
   "metadata": {
    "execution": {
     "iopub.execute_input": "2023-09-30T11:30:06.155754Z",
     "iopub.status.busy": "2023-09-30T11:30:06.155566Z",
     "iopub.status.idle": "2023-09-30T11:30:06.157325Z",
     "shell.execute_reply": "2023-09-30T11:30:06.157025Z"
    }
   },
   "outputs": [],
   "source": [
    "# print(sig_dict[0][0].shape)"
   ]
  },
  {
   "cell_type": "code",
   "execution_count": 40,
   "id": "5e92b032-fb47-4b7c-b675-9ea3ae5d8a45",
   "metadata": {
    "execution": {
     "iopub.execute_input": "2023-09-30T11:30:06.158843Z",
     "iopub.status.busy": "2023-09-30T11:30:06.158594Z",
     "iopub.status.idle": "2023-09-30T11:30:06.160696Z",
     "shell.execute_reply": "2023-09-30T11:30:06.160403Z"
    }
   },
   "outputs": [
    {
     "name": "stdout",
     "output_type": "stream",
     "text": [
      "1248\n"
     ]
    }
   ],
   "source": [
    "train_ds = ECG(train_dataset)\n",
    "# valid_ds = ECG(valid_dataset)\n",
    "\n",
    "print(len(train_ds))\n",
    "# print(len(valid_ds))"
   ]
  },
  {
   "cell_type": "code",
   "execution_count": 41,
   "id": "701f345f-bc5e-434d-ab2f-ece864f14b99",
   "metadata": {
    "execution": {
     "iopub.execute_input": "2023-09-30T11:30:06.162164Z",
     "iopub.status.busy": "2023-09-30T11:30:06.161920Z",
     "iopub.status.idle": "2023-09-30T11:30:06.170404Z",
     "shell.execute_reply": "2023-09-30T11:30:06.170072Z"
    }
   },
   "outputs": [
    {
     "name": "stdout",
     "output_type": "stream",
     "text": [
      "208\n",
      "640\n"
     ]
    }
   ],
   "source": [
    "device = torch.device(\"cuda\" if torch.cuda.is_available() else \"cpu\", index = 1)\n",
    "batch_size = ks + kq\n",
    "\n",
    "traindl = DataLoader(\n",
    "    train_ds,\n",
    "    batch_size=batch_size, \n",
    "    shuffle=True, \n",
    "    pin_memory=True, \n",
    "    num_workers=os.cpu_count()//2\n",
    ")\n",
    "\n",
    "validdl = DataLoader(\n",
    "    valid_dataset,\n",
    "    batch_size=1, \n",
    "    shuffle=True, \n",
    "    pin_memory=True, \n",
    "    num_workers=os.cpu_count()//2\n",
    ")\n",
    "\n",
    "print(len(traindl))\n",
    "print(len(validdl))"
   ]
  },
  {
   "cell_type": "code",
   "execution_count": 42,
   "id": "cb638518",
   "metadata": {
    "execution": {
     "iopub.execute_input": "2023-09-30T11:30:06.173500Z",
     "iopub.status.busy": "2023-09-30T11:30:06.173265Z",
     "iopub.status.idle": "2023-09-30T11:30:06.175477Z",
     "shell.execute_reply": "2023-09-30T11:30:06.175117Z"
    }
   },
   "outputs": [
    {
     "name": "stdout",
     "output_type": "stream",
     "text": [
      "cuda:1\n"
     ]
    }
   ],
   "source": [
    "print(device)"
   ]
  },
  {
   "cell_type": "code",
   "execution_count": 43,
   "id": "0e3fd1ae-3394-4ecb-9681-c34210dcbd05",
   "metadata": {
    "execution": {
     "iopub.execute_input": "2023-09-30T11:30:06.178326Z",
     "iopub.status.busy": "2023-09-30T11:30:06.178049Z",
     "iopub.status.idle": "2023-09-30T11:30:06.933614Z",
     "shell.execute_reply": "2023-09-30T11:30:06.933228Z"
    }
   },
   "outputs": [],
   "source": [
    "epoch = 100\n",
    "lr = 0.0001\n",
    "inner_epoch = 1\n",
    "\n",
    "model.to(device)\n",
    "optimizer = Adam(model.parameters(), lr=lr)\n",
    "scheduler = CosineAnnealingLR(optimizer=optimizer, T_max=epoch)\n",
    "loss_fn = nn.CrossEntropyLoss()"
   ]
  },
  {
   "cell_type": "code",
   "execution_count": null,
   "id": "d172aded-4332-40ad-9206-d2ea45c5b545",
   "metadata": {
    "execution": {
     "iopub.execute_input": "2023-09-30T11:30:06.935555Z",
     "iopub.status.busy": "2023-09-30T11:30:06.935400Z",
     "iopub.status.idle": "2023-10-02T20:40:24.715428Z",
     "shell.execute_reply": "2023-10-02T20:40:24.714811Z"
    }
   },
   "outputs": [
    {
     "name": "stdout",
     "output_type": "stream",
     "text": [
      "Epoch: 0\n"
     ]
    },
    {
     "name": "stderr",
     "output_type": "stream",
     "text": [
      "640it [00:01, 332.97it/s]"
     ]
    },
    {
     "name": "stdout",
     "output_type": "stream",
     "text": [
      "Epoch: 0 - MetaLoss: 0.08939669219156106 - Test Loss: 13.638493604916986 - Test Acc: 17.03125%\n",
      "Epoch: 1\n"
     ]
    },
    {
     "name": "stderr",
     "output_type": "stream",
     "text": [
      "\n",
      "640it [00:01, 331.36it/s]"
     ]
    },
    {
     "name": "stdout",
     "output_type": "stream",
     "text": [
      "Epoch: 1 - MetaLoss: 0.04670681359453334 - Test Loss: 13.261530585522896 - Test Acc: 17.03125%\n",
      "Epoch: 2\n"
     ]
    },
    {
     "name": "stderr",
     "output_type": "stream",
     "text": [
      "\n",
      "640it [00:02, 314.61it/s]"
     ]
    },
    {
     "name": "stdout",
     "output_type": "stream",
     "text": [
      "Epoch: 2 - MetaLoss: 0.061318441604574524 - Test Loss: 8.58577856491411 - Test Acc: 17.03125%\n",
      "Epoch: 3\n"
     ]
    },
    {
     "name": "stderr",
     "output_type": "stream",
     "text": [
      "\n",
      "640it [00:01, 322.24it/s]"
     ]
    },
    {
     "name": "stdout",
     "output_type": "stream",
     "text": [
      "Epoch: 3 - MetaLoss: 0.028517675715395145 - Test Loss: 14.200269855523892 - Test Acc: 13.4375%\n",
      "Epoch: 4\n"
     ]
    },
    {
     "name": "stderr",
     "output_type": "stream",
     "text": [
      "\n",
      "640it [00:01, 326.71it/s]"
     ]
    },
    {
     "name": "stdout",
     "output_type": "stream",
     "text": [
      "Epoch: 4 - MetaLoss: 0.029498849995434284 - Test Loss: 14.497840355707574 - Test Acc: 17.03125%\n",
      "Epoch: 5\n"
     ]
    },
    {
     "name": "stderr",
     "output_type": "stream",
     "text": [
      "\n",
      "640it [00:01, 327.35it/s]"
     ]
    },
    {
     "name": "stdout",
     "output_type": "stream",
     "text": [
      "Epoch: 5 - MetaLoss: 0.03803380560647282 - Test Loss: 11.984705242472636 - Test Acc: 13.4375%\n",
      "Epoch: 6\n"
     ]
    },
    {
     "name": "stderr",
     "output_type": "stream",
     "text": [
      "\n",
      "640it [00:02, 319.57it/s]"
     ]
    },
    {
     "name": "stdout",
     "output_type": "stream",
     "text": [
      "Epoch: 6 - MetaLoss: 0.04611928229375432 - Test Loss: 9.2911780169394 - Test Acc: 13.4375%\n",
      "Epoch: 7\n"
     ]
    },
    {
     "name": "stderr",
     "output_type": "stream",
     "text": [
      "\n",
      "640it [00:01, 320.18it/s]"
     ]
    },
    {
     "name": "stdout",
     "output_type": "stream",
     "text": [
      "Epoch: 7 - MetaLoss: 0.029211038671847846 - Test Loss: 8.783220217634629 - Test Acc: 15.15625%\n",
      "Epoch: 8\n"
     ]
    },
    {
     "name": "stderr",
     "output_type": "stream",
     "text": [
      "\n",
      "640it [00:02, 316.31it/s]"
     ]
    },
    {
     "name": "stdout",
     "output_type": "stream",
     "text": [
      "Epoch: 8 - MetaLoss: 0.01921009396513303 - Test Loss: 10.055898709371336 - Test Acc: 13.4375%\n",
      "Epoch: 9\n"
     ]
    },
    {
     "name": "stderr",
     "output_type": "stream",
     "text": [
      "\n",
      "640it [00:01, 321.20it/s]"
     ]
    },
    {
     "name": "stdout",
     "output_type": "stream",
     "text": [
      "Epoch: 9 - MetaLoss: 0.028489939894320235 - Test Loss: 7.549764797861028 - Test Acc: 13.4375%\n",
      "Epoch: 10\n"
     ]
    },
    {
     "name": "stderr",
     "output_type": "stream",
     "text": [
      "\n",
      "640it [00:02, 314.93it/s]"
     ]
    },
    {
     "name": "stdout",
     "output_type": "stream",
     "text": [
      "Epoch: 10 - MetaLoss: 0.009574218420311809 - Test Loss: 7.074091498869732 - Test Acc: 13.4375%\n",
      "Epoch: 11\n"
     ]
    },
    {
     "name": "stderr",
     "output_type": "stream",
     "text": [
      "\n",
      "640it [00:01, 323.92it/s]"
     ]
    },
    {
     "name": "stdout",
     "output_type": "stream",
     "text": [
      "Epoch: 11 - MetaLoss: 0.0374773307186034 - Test Loss: 10.643665140749807 - Test Acc: 13.4375%\n",
      "Epoch: 12\n"
     ]
    },
    {
     "name": "stderr",
     "output_type": "stream",
     "text": [
      "\n",
      "640it [00:01, 329.78it/s]"
     ]
    },
    {
     "name": "stdout",
     "output_type": "stream",
     "text": [
      "Epoch: 12 - MetaLoss: 0.026148395276524954 - Test Loss: 7.500314531098696 - Test Acc: 17.03125%\n",
      "Epoch: 13\n"
     ]
    },
    {
     "name": "stderr",
     "output_type": "stream",
     "text": [
      "\n",
      "640it [00:02, 316.39it/s]"
     ]
    },
    {
     "name": "stdout",
     "output_type": "stream",
     "text": [
      "Epoch: 13 - MetaLoss: 0.0356681920044745 - Test Loss: 9.385736420434439 - Test Acc: 17.03125%\n",
      "Epoch: 14\n"
     ]
    },
    {
     "name": "stderr",
     "output_type": "stream",
     "text": [
      "\n",
      "640it [00:01, 331.49it/s]"
     ]
    },
    {
     "name": "stdout",
     "output_type": "stream",
     "text": [
      "Epoch: 14 - MetaLoss: 0.006270249878677229 - Test Loss: 7.412292716205586 - Test Acc: 15.9375%\n",
      "Epoch: 15\n"
     ]
    },
    {
     "name": "stderr",
     "output_type": "stream",
     "text": [
      "\n",
      "640it [00:01, 321.99it/s]"
     ]
    },
    {
     "name": "stdout",
     "output_type": "stream",
     "text": [
      "Epoch: 15 - MetaLoss: 0.01302759428249879 - Test Loss: 7.574366318414655 - Test Acc: 16.875%\n",
      "Epoch: 16\n"
     ]
    },
    {
     "name": "stderr",
     "output_type": "stream",
     "text": [
      "\n",
      "640it [00:01, 322.63it/s]"
     ]
    },
    {
     "name": "stdout",
     "output_type": "stream",
     "text": [
      "Epoch: 16 - MetaLoss: 0.020841238865007956 - Test Loss: 9.004754348035686 - Test Acc: 13.4375%\n",
      "Epoch: 17\n"
     ]
    },
    {
     "name": "stderr",
     "output_type": "stream",
     "text": [
      "\n",
      "640it [00:01, 320.43it/s]"
     ]
    },
    {
     "name": "stdout",
     "output_type": "stream",
     "text": [
      "Epoch: 17 - MetaLoss: 0.010658516289873255 - Test Loss: 10.532537056992162 - Test Acc: 17.03125%\n",
      "Epoch: 18\n"
     ]
    },
    {
     "name": "stderr",
     "output_type": "stream",
     "text": [
      "\n",
      "640it [00:02, 319.92it/s]"
     ]
    },
    {
     "name": "stdout",
     "output_type": "stream",
     "text": [
      "Epoch: 18 - MetaLoss: 0.01353944473925771 - Test Loss: 4.9274738039442445 - Test Acc: 13.28125%\n",
      "Epoch: 19\n"
     ]
    },
    {
     "name": "stderr",
     "output_type": "stream",
     "text": [
      "\n",
      "640it [00:01, 322.94it/s]"
     ]
    },
    {
     "name": "stdout",
     "output_type": "stream",
     "text": [
      "Epoch: 19 - MetaLoss: 0.04195714798859424 - Test Loss: 6.66797097552865 - Test Acc: 16.875%\n",
      "Epoch: 20\n"
     ]
    },
    {
     "name": "stderr",
     "output_type": "stream",
     "text": [
      "\n",
      "640it [00:01, 321.54it/s]"
     ]
    },
    {
     "name": "stdout",
     "output_type": "stream",
     "text": [
      "Epoch: 20 - MetaLoss: 0.007034535468038585 - Test Loss: 9.018517810714473 - Test Acc: 17.03125%\n",
      "Epoch: 21\n"
     ]
    },
    {
     "name": "stderr",
     "output_type": "stream",
     "text": [
      "\n",
      "640it [00:02, 319.67it/s]"
     ]
    },
    {
     "name": "stdout",
     "output_type": "stream",
     "text": [
      "Epoch: 21 - MetaLoss: 0.005246155959967937 - Test Loss: 6.088466988296389 - Test Acc: 16.25%\n",
      "Epoch: 22\n"
     ]
    },
    {
     "name": "stderr",
     "output_type": "stream",
     "text": [
      "\n",
      "640it [00:04, 131.69it/s]"
     ]
    },
    {
     "name": "stdout",
     "output_type": "stream",
     "text": [
      "Epoch: 22 - MetaLoss: 0.011135696135978732 - Test Loss: 7.284234023989646 - Test Acc: 11.25%\n",
      "Epoch: 23\n"
     ]
    },
    {
     "name": "stderr",
     "output_type": "stream",
     "text": [
      "\n",
      "640it [00:02, 276.56it/s]"
     ]
    },
    {
     "name": "stdout",
     "output_type": "stream",
     "text": [
      "Epoch: 23 - MetaLoss: 0.0024269526701472285 - Test Loss: 7.536974912331511 - Test Acc: 8.59375%\n",
      "Epoch: 24\n"
     ]
    },
    {
     "name": "stderr",
     "output_type": "stream",
     "text": [
      "\n",
      "640it [00:02, 273.75it/s]"
     ]
    },
    {
     "name": "stdout",
     "output_type": "stream",
     "text": [
      "Epoch: 24 - MetaLoss: 0.0047368327246254515 - Test Loss: 6.143697755367543 - Test Acc: 9.53125%\n",
      "Epoch: 25\n"
     ]
    },
    {
     "name": "stderr",
     "output_type": "stream",
     "text": [
      "\n",
      "640it [00:03, 208.73it/s]"
     ]
    },
    {
     "name": "stdout",
     "output_type": "stream",
     "text": [
      "Epoch: 25 - MetaLoss: 0.021033506009391405 - Test Loss: 5.708271020820076 - Test Acc: 17.03125%\n",
      "Epoch: 26\n"
     ]
    },
    {
     "name": "stderr",
     "output_type": "stream",
     "text": [
      "\n",
      "640it [00:05, 123.03it/s]"
     ]
    },
    {
     "name": "stdout",
     "output_type": "stream",
     "text": [
      "Epoch: 26 - MetaLoss: 0.0036897114284026125 - Test Loss: 6.223067693479347 - Test Acc: 16.5625%\n",
      "Epoch: 27\n"
     ]
    },
    {
     "name": "stderr",
     "output_type": "stream",
     "text": [
      "\n",
      "640it [00:02, 256.84it/s]"
     ]
    },
    {
     "name": "stdout",
     "output_type": "stream",
     "text": [
      "Epoch: 27 - MetaLoss: 0.0030363864619478895 - Test Loss: 7.348534596017788 - Test Acc: 13.4375%\n",
      "Epoch: 28\n"
     ]
    },
    {
     "name": "stderr",
     "output_type": "stream",
     "text": [
      "\n",
      "640it [00:02, 274.53it/s]"
     ]
    },
    {
     "name": "stdout",
     "output_type": "stream",
     "text": [
      "Epoch: 28 - MetaLoss: 0.043553299314226024 - Test Loss: 6.415330081385253 - Test Acc: 9.84375%\n",
      "Epoch: 29\n"
     ]
    },
    {
     "name": "stderr",
     "output_type": "stream",
     "text": [
      "\n",
      "640it [00:03, 208.84it/s]"
     ]
    },
    {
     "name": "stdout",
     "output_type": "stream",
     "text": [
      "Epoch: 29 - MetaLoss: 0.012843783202697523 - Test Loss: 13.646325879429197 - Test Acc: 13.4375%\n",
      "Epoch: 30\n"
     ]
    },
    {
     "name": "stderr",
     "output_type": "stream",
     "text": [
      "\n",
      "640it [00:05, 123.07it/s]"
     ]
    },
    {
     "name": "stdout",
     "output_type": "stream",
     "text": [
      "Epoch: 30 - MetaLoss: 0.010643162738738788 - Test Loss: 7.199783072443985 - Test Acc: 13.4375%\n",
      "Epoch: 31\n"
     ]
    },
    {
     "name": "stderr",
     "output_type": "stream",
     "text": [
      "\n",
      "640it [00:02, 297.82it/s]"
     ]
    },
    {
     "name": "stdout",
     "output_type": "stream",
     "text": [
      "Epoch: 31 - MetaLoss: 0.007447969420657803 - Test Loss: 10.38109100020581 - Test Acc: 13.4375%\n",
      "Epoch: 32\n"
     ]
    },
    {
     "name": "stderr",
     "output_type": "stream",
     "text": [
      "\n"
     ]
    }
   ],
   "source": [
    "for e in range(epoch):\n",
    "    num_task = 9\n",
    "    model.train()\n",
    "    print(f\"Epoch: {e}\")\n",
    "    batch_cnt = 0\n",
    "    total_loss = 0\n",
    "    correct = 0\n",
    "    for train_idx, train_data_dict in tqdm(enumerate(traindl)):\n",
    "        metaloss = 0\n",
    "        for task in train_data_dict:\n",
    "            task_model = copy.deepcopy(model)\n",
    "            task_optimizer = Adam(task_model.parameters(), lr=lr, weight_decay=1e-4)\n",
    "            sp_x, sp_y, qr_x, qr_y = single_task_detach(batch_dict=train_data_dict,\n",
    "                                                        k_shot=ks,\n",
    "                                                        k_query=kq,\n",
    "                                                        task=task)\n",
    "        \n",
    "            for in_e in range (inner_epoch):\n",
    "                sp_x, sp_y = sp_x.to(device, dtype = torch.float), sp_y.to(device)\n",
    "                sp_logits = task_model(sp_x)\n",
    "                sp_loss = loss_fn(sp_logits, sp_y)\n",
    "                task_optimizer.zero_grad()\n",
    "                sp_loss.backward()\n",
    "                task_optimizer.step() \n",
    "                \n",
    "            qr_x, qr_y = qr_x.to(device, dtype = torch.float), qr_y.to(device)\n",
    "            qr_logits = task_model(qr_x)\n",
    "            qr_loss = loss_fn(qr_logits, qr_y)\n",
    "            metaloss += qr_loss.item()\n",
    "            qr_loss.backward()            \n",
    "\n",
    "            for w_global, w_local in zip(model.parameters(), task_model.parameters()):\n",
    "                if w_global.grad is None:\n",
    "                    w_global.grad = w_local.grad\n",
    "                else:\n",
    "                    w_global.grad += w_local.grad  \n",
    "        optimizer.step()\n",
    "        optimizer.zero_grad()            \n",
    "\n",
    "    model.eval()\n",
    "    with torch.no_grad():\n",
    "        test_loss = 0\n",
    "        correct = 0\n",
    "        total = 0\n",
    "        batch_count = 0\n",
    "        for test_idx, (test_sigs, test_labels) in tqdm(enumerate(validdl)):\n",
    "            batch_count = test_idx\n",
    "            test_sigs = test_sigs.to(device, dtype = torch.float)\n",
    "            test_labels = test_labels.to(device)\n",
    "            test_logits = model(test_sigs)                \n",
    "\n",
    "            test_loss += loss_fn(test_logits, test_labels).item()\n",
    "            _, predicted = test_logits.max(1)\n",
    "            total += test_labels.size(0)\n",
    "            correct += predicted.eq(test_labels).sum().item()\n",
    "\n",
    "    print(f\"Epoch: {e} - MetaLoss: {metaloss/num_task} - Test Loss: {test_loss/batch_count} - Test Acc: {100*correct/total}%\") "
   ]
  },
  {
   "cell_type": "code",
   "execution_count": null,
   "id": "6c26e7b7",
   "metadata": {
    "execution": {
     "iopub.execute_input": "2023-10-02T20:40:24.717127Z",
     "iopub.status.busy": "2023-10-02T20:40:24.716994Z",
     "iopub.status.idle": "2023-10-02T20:40:24.720242Z",
     "shell.execute_reply": "2023-10-02T20:40:24.719768Z"
    }
   },
   "outputs": [],
   "source": [
    "#         batch_cnt = batch\n",
    "#         train_sig = train_sig.to(device)\n",
    "#         train_label = train_label.to(device)\n",
    "        \n",
    "#         pred = model(train_sig)\n",
    "#         loss = loss_fn(pred, train_label)\n",
    "        \n",
    "#         optimizer.zero_grad()\n",
    "#         loss.backward()\n",
    "#         optimizer.step()\n",
    "        \n",
    "#         scheduler.step()\n",
    "        \n",
    "#         total_loss += loss.item()\n",
    "#         correct += (pred.argmax(1) == train_label).type(torch.float).sum().item()\n",
    "    \n",
    "#     total_loss /= batch_cnt\n",
    "#     correct /= len(traindl.dataset)\n",
    "    \n",
    "#     print(f\"train loss: {total_loss} - train acc: {100*correct}\")\n",
    "    \n",
    "#     batch_cnt = 0\n",
    "#     val_total_loss = 0\n",
    "#     val_correct = 0\n",
    "#     model.eval()\n",
    "#     with torch.no_grad():\n",
    "#         for batch, (valid_sig, valid_label) in tqdm(enumerate(validdl)):\n",
    "#             batch_cnt = batch\n",
    "#             valid_sig = valid_sig.to(device)\n",
    "#             valid_label = valid_label.to(device)\n",
    "            \n",
    "#             pred = model(valid_sig)\n",
    "#             loss = loss_fn(pred, valid_label)\n",
    "            \n",
    "#             val_total_loss += loss.item()\n",
    "#             val_correct += (pred.argmax(1) == valid_label).type(torch.float).sum().item()\n",
    "    \n",
    "#         val_total_loss /= batch_cnt\n",
    "#         val_correct /= len(validdl.dataset)\n",
    "        \n",
    "#         print(f\"valid loss: {val_total_loss} - valid acc: {100*val_correct}\")"
   ]
  }
 ],
 "metadata": {
  "kernelspec": {
   "display_name": "Python 3 (ipykernel)",
   "language": "python",
   "name": "python3"
  },
  "language_info": {
   "codemirror_mode": {
    "name": "ipython",
    "version": 3
   },
   "file_extension": ".py",
   "mimetype": "text/x-python",
   "name": "python",
   "nbconvert_exporter": "python",
   "pygments_lexer": "ipython3",
   "version": "3.10.7"
  },
  "widgets": {
   "application/vnd.jupyter.widget-state+json": {
    "state": {},
    "version_major": 2,
    "version_minor": 0
   }
  }
 },
 "nbformat": 4,
 "nbformat_minor": 5
}
