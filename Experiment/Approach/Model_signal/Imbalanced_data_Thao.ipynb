{
 "cells": [
  {
   "cell_type": "code",
   "execution_count": 39,
   "id": "92a99f7a",
   "metadata": {},
   "outputs": [],
   "source": [
    "import os\n",
    "import pandas as pd\n",
    "import matplotlib.pyplot as plt\n",
    "import numpy as np\n",
    "import seaborn as sns\n",
    "import math as m\n",
    "import scipy\n",
    "\n",
    "import random\n",
    "from glob import glob\n",
    "from tqdm import tqdm\n",
    "from scipy.io import loadmat\n",
    "\n",
    "import torch\n",
    "from torch import nn\n",
    "from torch.optim import Adam\n",
    "from torch.optim.lr_scheduler import CosineAnnealingLR\n",
    "from torch.utils.data import Dataset, DataLoader\n",
    "import torch.nn.functional as F"
   ]
  },
  {
   "cell_type": "code",
   "execution_count": 58,
   "id": "362d0c73",
   "metadata": {},
   "outputs": [],
   "source": [
    "data_dir = \"/media/mountHDD2/khoibaocon\"\n",
    "data_seg_dir = \"/media/mountHDD2/thao/Segmentation\"\n",
    "lsdir = os.listdir(data_seg_dir)"
   ]
  },
  {
   "cell_type": "code",
   "execution_count": 29,
   "id": "2469f1fb",
   "metadata": {},
   "outputs": [
    {
     "name": "stdout",
     "output_type": "stream",
     "text": [
      "6400\n"
     ]
    }
   ],
   "source": [
    "main_df = pd.read_csv(data_dir + \"/Label.csv\")\n",
    "main_df.shape\n",
    "\n",
    "single_main_df = main_df[main_df[\"Second_label\"].isnull()]\n",
    "single_main_df.shape\n",
    "\n",
    "single_fns = single_main_df[\"Recording\"].values.tolist()\n",
    "single_mat_paths = [data_dir + f\"/alldata/{x}.mat\" for x in single_fns]\n",
    "print(len(single_mat_paths))"
   ]
  },
  {
   "cell_type": "code",
   "execution_count": 49,
   "id": "2771c170",
   "metadata": {},
   "outputs": [
    {
     "name": "stdout",
     "output_type": "stream",
     "text": [
      "0\n"
     ]
    }
   ],
   "source": [
    "print(len(t))"
   ]
  },
  {
   "cell_type": "code",
   "execution_count": 30,
   "id": "059a5692",
   "metadata": {},
   "outputs": [
    {
     "data": {
      "text/plain": [
       "First_label\n",
       "5    1695\n",
       "2    1098\n",
       "1     918\n",
       "8     826\n",
       "3     704\n",
       "7     653\n",
       "6     574\n",
       "4     207\n",
       "9     202\n",
       "Name: count, dtype: int64"
      ]
     },
     "execution_count": 30,
     "metadata": {},
     "output_type": "execute_result"
    }
   ],
   "source": [
    "main_df[\"First_label\"].value_counts()"
   ]
  },
  {
   "cell_type": "code",
   "execution_count": 37,
   "id": "e1208536",
   "metadata": {},
   "outputs": [
    {
     "name": "stdout",
     "output_type": "stream",
     "text": [
      "A0001\n"
     ]
    }
   ],
   "source": [
    "data = loadmat(single_mat_paths[0])['ECG'][0][0][2]\n",
    "clip_data = data[:, 500:3000]\n",
    "save_dic_data = {\"ECG_segment\": clip_data}\n",
    "\n",
    "# scipy.io.savemat(data_seg_dir + \"\\Segmentation\\{}_seg{}.mat\".format(filename, w), save_dic_data)\n",
    "print (filename)"
   ]
  },
  {
   "cell_type": "code",
   "execution_count": 54,
   "id": "99646e8a",
   "metadata": {},
   "outputs": [],
   "source": [
    "seg_len = 2500\n",
    "\n",
    "for i in range(len(single_mat_paths)):\n",
    "    sample_data = loadmat(single_mat_paths[i])['ECG'][0][0][2]\n",
    "    sig_len = len(sample_data[0][500:])\n",
    "    seg_num = m.floor(sig_len/seg_len)\n",
    "    filename = single_mat_paths[i].split(\"/\")[-1].split(\".\")[0]\n",
    "\n",
    "    for w in range(1,seg_num+1):\n",
    "        x = seg_len*(w-1)\n",
    "        x = x + 500\n",
    "        segment = sample_data[:, x:x+2500]\n",
    "        save_dic_data = {\"ECG_segment\": segment}\n",
    "\n",
    "        scipy.io.savemat(\"/media/mountHDD2/thao/Segmentation/{}_seg{}.mat\".format(filename, w), save_dic_data)"
   ]
  },
  {
   "cell_type": "code",
   "execution_count": 64,
   "id": "0a054dab",
   "metadata": {},
   "outputs": [],
   "source": [
    "label_ls = []\n",
    "for i in range (len(lsdir)):\n",
    "    filename = lsdir[i].split(\".\")[0].split(\"_\")[0]\n",
    "    label = single_main_df[single_main_df[\"Recording\"] == filename][\"First_label\"].values.item()\n",
    "    label_ls.append(label)"
   ]
  },
  {
   "cell_type": "code",
   "execution_count": 66,
   "id": "405419d8",
   "metadata": {},
   "outputs": [
    {
     "name": "stdout",
     "output_type": "stream",
     "text": [
      "2135\n",
      "2167\n",
      "1415\n",
      "391\n",
      "3270\n",
      "1697\n",
      "2111\n",
      "1885\n",
      "486\n"
     ]
    }
   ],
   "source": [
    "for i in range (1,10):\n",
    "    print(label_ls.count(i))"
   ]
  },
  {
   "cell_type": "code",
   "execution_count": null,
   "id": "b45f449c",
   "metadata": {},
   "outputs": [],
   "source": []
  }
 ],
 "metadata": {
  "kernelspec": {
   "display_name": "Python 3 (ipykernel)",
   "language": "python",
   "name": "python3"
  },
  "language_info": {
   "codemirror_mode": {
    "name": "ipython",
    "version": 3
   },
   "file_extension": ".py",
   "mimetype": "text/x-python",
   "name": "python",
   "nbconvert_exporter": "python",
   "pygments_lexer": "ipython3",
   "version": "3.10.7"
  }
 },
 "nbformat": 4,
 "nbformat_minor": 5
}
