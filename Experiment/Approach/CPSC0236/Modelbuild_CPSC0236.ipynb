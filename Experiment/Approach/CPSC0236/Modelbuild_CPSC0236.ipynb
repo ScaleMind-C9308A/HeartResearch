{
 "cells": [
  {
   "cell_type": "code",
   "execution_count": 35,
   "id": "b42063cc",
   "metadata": {},
   "outputs": [],
   "source": [
    "import torch\n",
    "from torch import nn\n",
    "import torch.nn.functional as F"
   ]
  },
  {
   "cell_type": "code",
   "execution_count": 61,
   "id": "fc4fc379",
   "metadata": {},
   "outputs": [],
   "source": [
    "class CustomModel(nn.Module):\n",
    "    def __init__(self, num_classes):\n",
    "        super(CustomModel, self).__init__()\n",
    "        \n",
    "        self.conv1 = nn.Conv1d(in_channels=12, out_channels=12, kernel_size=3, padding=1)\n",
    "        self.conv2 = nn.Conv1d(in_channels=12, out_channels=12, kernel_size=3, padding=1)\n",
    "        self.conv3 = nn.Conv1d(in_channels=12, out_channels=12, kernel_size=24, stride=2, padding=12)\n",
    "        self.conv4 = nn.Conv1d(in_channels=12, out_channels=12, kernel_size=3, padding=1)\n",
    "        self.conv5 = nn.Conv1d(in_channels=12, out_channels=12, kernel_size=3, padding=1)\n",
    "        self.conv6 = nn.Conv1d(in_channels=12, out_channels=12, kernel_size=24, stride=2, padding=12)\n",
    "        self.conv7 = nn.Conv1d(in_channels=12, out_channels=12, kernel_size=3, padding=1)\n",
    "        self.conv8 = nn.Conv1d(in_channels=12, out_channels=12, kernel_size=3, padding=1)\n",
    "        self.conv9 = nn.Conv1d(in_channels=12, out_channels=12, kernel_size=24, stride=2, padding=12)\n",
    "        self.conv10 = nn.Conv1d(in_channels=12, out_channels=12, kernel_size=3, padding=1)\n",
    "        self.conv11 = nn.Conv1d(in_channels=12, out_channels=12, kernel_size=3, padding=1)\n",
    "        self.conv12 = nn.Conv1d(in_channels=12, out_channels=12, kernel_size=24, stride=2, padding=12)\n",
    "        self.conv13 = nn.Conv1d(in_channels=12, out_channels=12, kernel_size=3, padding=1)\n",
    "        self.conv14 = nn.Conv1d(in_channels=12, out_channels=12, kernel_size=3, padding=1)\n",
    "        self.conv15 = nn.Conv1d(in_channels=12, out_channels=48, kernel_size=24, stride=2, padding=12)\n",
    "        \n",
    "        self.biGRU = nn.GRU(input_size=12, hidden_size=12, batch_first=True, bidirectional=True)\n",
    "#        self.attention = AttentionWithContext()\n",
    "        self.batchnorm = nn.BatchNorm1d(2250)\n",
    "        self.dense = nn.Linear(12, num_classes)\n",
    "        \n",
    "    def forward(self, x):\n",
    "        x = nn.LeakyReLU()(self.conv1(x))\n",
    "        x = nn.LeakyReLU()(self.conv2(x))\n",
    "        x = nn.LeakyReLU()(self.conv3(x))\n",
    "        x = nn.Dropout(p=0.2)(x)\n",
    "        x = nn.LeakyReLU()(self.conv4(x))\n",
    "        x = nn.LeakyReLU()(self.conv5(x))\n",
    "        x = nn.LeakyReLU()(self.conv6(x))\n",
    "        x = nn.Dropout(p=0.2)(x)\n",
    "        x = nn.LeakyReLU()(self.conv7(x))\n",
    "        x = nn.LeakyReLU()(self.conv8(x))\n",
    "        x = nn.LeakyReLU()(self.conv9(x))\n",
    "        x = nn.Dropout(p=0.2)(x)\n",
    "        x = nn.LeakyReLU()(self.conv10(x))\n",
    "        x = nn.LeakyReLU()(self.conv11(x))\n",
    "        x = nn.LeakyReLU()(self.conv12(x))\n",
    "        x = nn.Dropout(p=0.2)(x)\n",
    "        x = nn.LeakyReLU()(self.conv13(x))\n",
    "        x = nn.LeakyReLU()(self.conv14(x))\n",
    "        x = nn.LeakyReLU()(self.conv15(x))\n",
    "        x = nn.Dropout(p=0.2)(x)\n",
    "        \n",
    "#        x, _ = self.biGRU(cnnout)\n",
    "        x = nn.LeakyReLU()(x)\n",
    "        x = nn.Dropout(p=0.2)(x)\n",
    "#        x = self.attention(x)\n",
    "#        x = self.batchnorm(x)\n",
    "        x = nn.LeakyReLU()(x)\n",
    "        x = nn.Dropout(p=0.2)(x)\n",
    "        main_output = nn.Linear()\n",
    "        \n",
    "        return torch.sigmoid(main_output)"
   ]
  },
  {
   "cell_type": "code",
   "execution_count": 62,
   "id": "c0de0355",
   "metadata": {},
   "outputs": [
    {
     "ename": "RuntimeError",
     "evalue": "mat1 and mat2 shapes cannot be multiplied (1440000x3 and 12x9)",
     "output_type": "error",
     "traceback": [
      "\u001b[0;31m---------------------------------------------------------------------------\u001b[0m",
      "\u001b[0;31mRuntimeError\u001b[0m                              Traceback (most recent call last)",
      "Cell \u001b[0;32mIn[62], line 3\u001b[0m\n\u001b[1;32m      1\u001b[0m model \u001b[38;5;241m=\u001b[39m CustomModel(num_classes\u001b[38;5;241m=\u001b[39m\u001b[38;5;241m9\u001b[39m)\n\u001b[1;32m      2\u001b[0m x \u001b[38;5;241m=\u001b[39m torch\u001b[38;5;241m.\u001b[39mrandn(\u001b[38;5;241m30000\u001b[39m, \u001b[38;5;241m12\u001b[39m, \u001b[38;5;241m50\u001b[39m)\n\u001b[0;32m----> 3\u001b[0m out \u001b[38;5;241m=\u001b[39m \u001b[43mmodel\u001b[49m\u001b[43m(\u001b[49m\u001b[43mx\u001b[49m\u001b[43m)\u001b[49m\n",
      "File \u001b[0;32m~/git/.env/lib/python3.10/site-packages/torch/nn/modules/module.py:1501\u001b[0m, in \u001b[0;36mModule._call_impl\u001b[0;34m(self, *args, **kwargs)\u001b[0m\n\u001b[1;32m   1496\u001b[0m \u001b[38;5;66;03m# If we don't have any hooks, we want to skip the rest of the logic in\u001b[39;00m\n\u001b[1;32m   1497\u001b[0m \u001b[38;5;66;03m# this function, and just call forward.\u001b[39;00m\n\u001b[1;32m   1498\u001b[0m \u001b[38;5;28;01mif\u001b[39;00m \u001b[38;5;129;01mnot\u001b[39;00m (\u001b[38;5;28mself\u001b[39m\u001b[38;5;241m.\u001b[39m_backward_hooks \u001b[38;5;129;01mor\u001b[39;00m \u001b[38;5;28mself\u001b[39m\u001b[38;5;241m.\u001b[39m_backward_pre_hooks \u001b[38;5;129;01mor\u001b[39;00m \u001b[38;5;28mself\u001b[39m\u001b[38;5;241m.\u001b[39m_forward_hooks \u001b[38;5;129;01mor\u001b[39;00m \u001b[38;5;28mself\u001b[39m\u001b[38;5;241m.\u001b[39m_forward_pre_hooks\n\u001b[1;32m   1499\u001b[0m         \u001b[38;5;129;01mor\u001b[39;00m _global_backward_pre_hooks \u001b[38;5;129;01mor\u001b[39;00m _global_backward_hooks\n\u001b[1;32m   1500\u001b[0m         \u001b[38;5;129;01mor\u001b[39;00m _global_forward_hooks \u001b[38;5;129;01mor\u001b[39;00m _global_forward_pre_hooks):\n\u001b[0;32m-> 1501\u001b[0m     \u001b[38;5;28;01mreturn\u001b[39;00m \u001b[43mforward_call\u001b[49m\u001b[43m(\u001b[49m\u001b[38;5;241;43m*\u001b[39;49m\u001b[43margs\u001b[49m\u001b[43m,\u001b[49m\u001b[43m \u001b[49m\u001b[38;5;241;43m*\u001b[39;49m\u001b[38;5;241;43m*\u001b[39;49m\u001b[43mkwargs\u001b[49m\u001b[43m)\u001b[49m\n\u001b[1;32m   1502\u001b[0m \u001b[38;5;66;03m# Do not call functions when jit is used\u001b[39;00m\n\u001b[1;32m   1503\u001b[0m full_backward_hooks, non_full_backward_hooks \u001b[38;5;241m=\u001b[39m [], []\n",
      "Cell \u001b[0;32mIn[61], line 55\u001b[0m, in \u001b[0;36mCustomModel.forward\u001b[0;34m(self, x)\u001b[0m\n\u001b[1;32m     53\u001b[0m x \u001b[38;5;241m=\u001b[39m nn\u001b[38;5;241m.\u001b[39mLeakyReLU()(x)\n\u001b[1;32m     54\u001b[0m x \u001b[38;5;241m=\u001b[39m nn\u001b[38;5;241m.\u001b[39mDropout(p\u001b[38;5;241m=\u001b[39m\u001b[38;5;241m0.2\u001b[39m)(x)\n\u001b[0;32m---> 55\u001b[0m main_output \u001b[38;5;241m=\u001b[39m \u001b[38;5;28;43mself\u001b[39;49m\u001b[38;5;241;43m.\u001b[39;49m\u001b[43mdense\u001b[49m\u001b[43m(\u001b[49m\u001b[43mx\u001b[49m\u001b[43m)\u001b[49m\n\u001b[1;32m     57\u001b[0m \u001b[38;5;28;01mreturn\u001b[39;00m torch\u001b[38;5;241m.\u001b[39msigmoid(main_output)\n",
      "File \u001b[0;32m~/git/.env/lib/python3.10/site-packages/torch/nn/modules/module.py:1501\u001b[0m, in \u001b[0;36mModule._call_impl\u001b[0;34m(self, *args, **kwargs)\u001b[0m\n\u001b[1;32m   1496\u001b[0m \u001b[38;5;66;03m# If we don't have any hooks, we want to skip the rest of the logic in\u001b[39;00m\n\u001b[1;32m   1497\u001b[0m \u001b[38;5;66;03m# this function, and just call forward.\u001b[39;00m\n\u001b[1;32m   1498\u001b[0m \u001b[38;5;28;01mif\u001b[39;00m \u001b[38;5;129;01mnot\u001b[39;00m (\u001b[38;5;28mself\u001b[39m\u001b[38;5;241m.\u001b[39m_backward_hooks \u001b[38;5;129;01mor\u001b[39;00m \u001b[38;5;28mself\u001b[39m\u001b[38;5;241m.\u001b[39m_backward_pre_hooks \u001b[38;5;129;01mor\u001b[39;00m \u001b[38;5;28mself\u001b[39m\u001b[38;5;241m.\u001b[39m_forward_hooks \u001b[38;5;129;01mor\u001b[39;00m \u001b[38;5;28mself\u001b[39m\u001b[38;5;241m.\u001b[39m_forward_pre_hooks\n\u001b[1;32m   1499\u001b[0m         \u001b[38;5;129;01mor\u001b[39;00m _global_backward_pre_hooks \u001b[38;5;129;01mor\u001b[39;00m _global_backward_hooks\n\u001b[1;32m   1500\u001b[0m         \u001b[38;5;129;01mor\u001b[39;00m _global_forward_hooks \u001b[38;5;129;01mor\u001b[39;00m _global_forward_pre_hooks):\n\u001b[0;32m-> 1501\u001b[0m     \u001b[38;5;28;01mreturn\u001b[39;00m \u001b[43mforward_call\u001b[49m\u001b[43m(\u001b[49m\u001b[38;5;241;43m*\u001b[39;49m\u001b[43margs\u001b[49m\u001b[43m,\u001b[49m\u001b[43m \u001b[49m\u001b[38;5;241;43m*\u001b[39;49m\u001b[38;5;241;43m*\u001b[39;49m\u001b[43mkwargs\u001b[49m\u001b[43m)\u001b[49m\n\u001b[1;32m   1502\u001b[0m \u001b[38;5;66;03m# Do not call functions when jit is used\u001b[39;00m\n\u001b[1;32m   1503\u001b[0m full_backward_hooks, non_full_backward_hooks \u001b[38;5;241m=\u001b[39m [], []\n",
      "File \u001b[0;32m~/git/.env/lib/python3.10/site-packages/torch/nn/modules/linear.py:114\u001b[0m, in \u001b[0;36mLinear.forward\u001b[0;34m(self, input)\u001b[0m\n\u001b[1;32m    113\u001b[0m \u001b[38;5;28;01mdef\u001b[39;00m \u001b[38;5;21mforward\u001b[39m(\u001b[38;5;28mself\u001b[39m, \u001b[38;5;28minput\u001b[39m: Tensor) \u001b[38;5;241m-\u001b[39m\u001b[38;5;241m>\u001b[39m Tensor:\n\u001b[0;32m--> 114\u001b[0m     \u001b[38;5;28;01mreturn\u001b[39;00m \u001b[43mF\u001b[49m\u001b[38;5;241;43m.\u001b[39;49m\u001b[43mlinear\u001b[49m\u001b[43m(\u001b[49m\u001b[38;5;28;43minput\u001b[39;49m\u001b[43m,\u001b[49m\u001b[43m \u001b[49m\u001b[38;5;28;43mself\u001b[39;49m\u001b[38;5;241;43m.\u001b[39;49m\u001b[43mweight\u001b[49m\u001b[43m,\u001b[49m\u001b[43m \u001b[49m\u001b[38;5;28;43mself\u001b[39;49m\u001b[38;5;241;43m.\u001b[39;49m\u001b[43mbias\u001b[49m\u001b[43m)\u001b[49m\n",
      "\u001b[0;31mRuntimeError\u001b[0m: mat1 and mat2 shapes cannot be multiplied (1440000x3 and 12x9)"
     ]
    }
   ],
   "source": [
    "model = CustomModel(num_classes=9)\n",
    "x = torch.randn(30000, 12, 50)\n",
    "out = model(x)"
   ]
  },
  {
   "cell_type": "code",
   "execution_count": 39,
   "id": "d73c00b6",
   "metadata": {},
   "outputs": [],
   "source": [
    "conv = nn.Conv1d(in_channels=12, out_channels=12, kernel_size=3, padding=1)\n",
    "act = nn.LeakyReLU()\n",
    "input = torch.randn(20, 12, 50)\n",
    "output = act(conv(input))"
   ]
  },
  {
   "cell_type": "code",
   "execution_count": null,
   "id": "2aaf00d7",
   "metadata": {},
   "outputs": [],
   "source": []
  }
 ],
 "metadata": {
  "kernelspec": {
   "display_name": "Python 3 (ipykernel)",
   "language": "python",
   "name": "python3"
  },
  "language_info": {
   "codemirror_mode": {
    "name": "ipython",
    "version": 3
   },
   "file_extension": ".py",
   "mimetype": "text/x-python",
   "name": "python",
   "nbconvert_exporter": "python",
   "pygments_lexer": "ipython3",
   "version": "3.10.7"
  }
 },
 "nbformat": 4,
 "nbformat_minor": 5
}
