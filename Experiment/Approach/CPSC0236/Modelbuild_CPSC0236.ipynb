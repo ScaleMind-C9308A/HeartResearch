{
 "cells": [
  {
   "cell_type": "code",
   "execution_count": 95,
   "id": "b42063cc",
   "metadata": {},
   "outputs": [],
   "source": [
    "import torch\n",
    "from torch import nn\n",
    "import torch.nn.functional as F\n",
    "from torch.utils.data import Dataset, DataLoader\n",
    "from torch.optim import Adam\n",
    "from torch.optim.lr_scheduler import CosineAnnealingLR\n",
    "\n",
    "import os\n",
    "import pandas as pd\n",
    "import matplotlib.pyplot as plt\n",
    "import numpy as np\n",
    "import seaborn as sns\n",
    "\n",
    "import random\n",
    "from glob import glob\n",
    "from tqdm import tqdm\n",
    "from scipy.io import loadmat"
   ]
  },
  {
   "cell_type": "code",
   "execution_count": 73,
   "id": "d3240c81",
   "metadata": {},
   "outputs": [
    {
     "name": "stdout",
     "output_type": "stream",
     "text": [
      "['TrainingSet3', 'Label.csv', 'alldata', 'TrainingSet1', 'single_label.csv', 'TrainingSet2']\n"
     ]
    }
   ],
   "source": [
    "data_dir = \"/media/mountHDD2/khoibaocon\"\n",
    "print(os.listdir(data_dir))"
   ]
  },
  {
   "cell_type": "code",
   "execution_count": null,
   "id": "d5bbb28e",
   "metadata": {},
   "outputs": [],
   "source": [
    "main_df = pd.read_csv(data_dir + \"/Label.csv\")"
   ]
  },
  {
   "cell_type": "code",
   "execution_count": 124,
   "id": "fc4fc379",
   "metadata": {},
   "outputs": [],
   "source": [
    "class CustomModel(nn.Module):\n",
    "    def __init__(self, num_classes):\n",
    "        super(CustomModel, self).__init__()\n",
    "        \n",
    "        self.conv1 = nn.Conv1d(in_channels=12, out_channels=12, kernel_size=3, padding=1)\n",
    "        self.conv2 = nn.Conv1d(in_channels=12, out_channels=12, kernel_size=3, padding=1)\n",
    "        self.conv3 = nn.Conv1d(in_channels=12, out_channels=12, kernel_size=24, stride=2, padding=12)\n",
    "        self.conv4 = nn.Conv1d(in_channels=12, out_channels=12, kernel_size=3, padding=1)\n",
    "        self.conv5 = nn.Conv1d(in_channels=12, out_channels=12, kernel_size=3, padding=1)\n",
    "        self.conv6 = nn.Conv1d(in_channels=12, out_channels=12, kernel_size=24, stride=2, padding=12)\n",
    "        self.conv7 = nn.Conv1d(in_channels=12, out_channels=12, kernel_size=3, padding=1)\n",
    "        self.conv8 = nn.Conv1d(in_channels=12, out_channels=12, kernel_size=3, padding=1)\n",
    "        self.conv9 = nn.Conv1d(in_channels=12, out_channels=12, kernel_size=24, stride=2, padding=12)\n",
    "        self.conv10 = nn.Conv1d(in_channels=12, out_channels=12, kernel_size=3, padding=1)\n",
    "        self.conv11 = nn.Conv1d(in_channels=12, out_channels=12, kernel_size=3, padding=1)\n",
    "        self.conv12 = nn.Conv1d(in_channels=12, out_channels=12, kernel_size=24, stride=2, padding=12)\n",
    "        self.conv13 = nn.Conv1d(in_channels=12, out_channels=12, kernel_size=3, padding=1)\n",
    "        self.conv14 = nn.Conv1d(in_channels=12, out_channels=12, kernel_size=3, padding=1)\n",
    "        self.conv15 = nn.Conv1d(in_channels=12, out_channels=48, kernel_size=24, stride=2, padding=12)\n",
    "        \n",
    "        self.biGRU = nn.GRU(input_size=12, hidden_size=12, batch_first=True, bidirectional=True)\n",
    "#        self.attention = AttentionWithContext()\n",
    "        self.batchnorm = nn.BatchNorm1d(2250)\n",
    "        self.dense = nn.Linear(95, num_classes)\n",
    "        \n",
    "    def forward(self, x):\n",
    "        x = nn.LeakyReLU()(self.conv1(x))\n",
    "        x = nn.LeakyReLU()(self.conv2(x))\n",
    "        x = nn.LeakyReLU()(self.conv3(x))\n",
    "        x = nn.Dropout(p=0.2)(x)\n",
    "        x = nn.LeakyReLU()(self.conv4(x))\n",
    "        x = nn.LeakyReLU()(self.conv5(x))\n",
    "        x = nn.LeakyReLU()(self.conv6(x))\n",
    "        x = nn.Dropout(p=0.2)(x)\n",
    "        x = nn.LeakyReLU()(self.conv7(x))\n",
    "        x = nn.LeakyReLU()(self.conv8(x))\n",
    "        x = nn.LeakyReLU()(self.conv9(x))\n",
    "        x = nn.Dropout(p=0.2)(x)\n",
    "        x = nn.LeakyReLU()(self.conv10(x))\n",
    "        x = nn.LeakyReLU()(self.conv11(x))\n",
    "        x = nn.LeakyReLU()(self.conv12(x))\n",
    "        x = nn.Dropout(p=0.2)(x)\n",
    "        x = nn.LeakyReLU()(self.conv13(x))\n",
    "        x = nn.LeakyReLU()(self.conv14(x))\n",
    "        x = nn.LeakyReLU()(self.conv15(x))\n",
    "        x = nn.Dropout(p=0.2)(x)\n",
    "        \n",
    "#        x, _ = self.biGRU(cnnout)\n",
    "        x = nn.LeakyReLU()(x)\n",
    "        x = nn.Dropout(p=0.2)(x)\n",
    "#        x = self.attention(x)\n",
    "#        x = self.batchnorm(x)\n",
    "        x = nn.LeakyReLU()(x)\n",
    "        x = nn.Dropout(p=0.2)(x)\n",
    "        main_output = self.dense(x)\n",
    "        \n",
    "        return torch.sigmoid(main_output)\n",
    "    \n",
    "model = CustomModel(num_classes=9)"
   ]
  },
  {
   "cell_type": "code",
   "execution_count": 125,
   "id": "412807b2",
   "metadata": {},
   "outputs": [],
   "source": [
    "x = torch.randn(32, 12, 3000)\n",
    "x = model(x)"
   ]
  },
  {
   "cell_type": "code",
   "execution_count": 76,
   "id": "2aaf00d7",
   "metadata": {},
   "outputs": [],
   "source": [
    "# List vấn đề tồn đọng trong file train và hướng giải quyết kèm lý do"
   ]
  },
  {
   "cell_type": "code",
   "execution_count": 79,
   "id": "01bf2df7",
   "metadata": {},
   "outputs": [
    {
     "name": "stdout",
     "output_type": "stream",
     "text": [
      "6400\n"
     ]
    }
   ],
   "source": [
    "single_main_df = pd.read_csv(data_dir + \"/single_label.csv\")\n",
    "single_fns = single_main_df[\"Recording\"].values.tolist()\n",
    "print(len(single_fns))\n",
    "single_mat_paths = [data_dir + f\"/alldata/{x}.mat\" for x in single_fns]"
   ]
  },
  {
   "cell_type": "code",
   "execution_count": 85,
   "id": "f176966a",
   "metadata": {},
   "outputs": [],
   "source": [
    "class ECG(Dataset):\n",
    "    def __init__(self, data_paths, label_df):\n",
    "        self.data_paths = data_paths\n",
    "        random.shuffle(self.data_paths)\n",
    "        self.label_df = label_df\n",
    "\n",
    "    def __getitem__(self, idx):\n",
    "        data_path = self.data_paths[idx]        \n",
    "        data = loadmat(data_path)['ECG'][0][0][2]\n",
    "        clip_data = data[:, 300:3000]\n",
    "\n",
    "        filename = data_path.split(\"/\")[-1].split(\".\")[0]\n",
    "        label = self.label_df[self.label_df[\"Recording\"] == filename][\"First_label\"].values.item()\n",
    "\n",
    "        torch_data = torch.from_numpy(clip_data)\n",
    "\n",
    "        return torch_data.float(), label-1\n",
    "\n",
    "    def __len__(self):\n",
    "        return len(self.data_paths)"
   ]
  },
  {
   "cell_type": "code",
   "execution_count": 87,
   "id": "f6bd09ef",
   "metadata": {},
   "outputs": [
    {
     "name": "stdout",
     "output_type": "stream",
     "text": [
      "0->918\n",
      "1->976\n",
      "2->686\n",
      "3->179\n",
      "4->1533\n",
      "5->532\n",
      "6->607\n",
      "7->784\n",
      "8->185\n"
     ]
    }
   ],
   "source": [
    "data_dict = {\n",
    "    idx : [] for idx in range(9)\n",
    "}\n",
    "\n",
    "for data_path in single_mat_paths:\n",
    "    filename = data_path.split(\"/\")[-1].split(\".\")[0]\n",
    "    _cls = single_main_df[single_main_df[\"Recording\"] == filename][\"First_label\"].values.item()\n",
    "\n",
    "    data_dict[_cls-1].append(data_path)\n",
    "\n",
    "for key in data_dict:\n",
    "    print(f\"{key}->{len(data_dict[key])}\")"
   ]
  },
  {
   "cell_type": "code",
   "execution_count": 88,
   "id": "15d14a61",
   "metadata": {},
   "outputs": [
    {
     "name": "stdout",
     "output_type": "stream",
     "text": [
      "0->826--92\n",
      "1->878--98\n",
      "2->617--69\n",
      "3->161--18\n",
      "4->1379--154\n",
      "5->478--54\n",
      "6->546--61\n",
      "7->705--79\n",
      "8->166--19\n"
     ]
    }
   ],
   "source": [
    "train_data_dict = {\n",
    "    _cls : data_dict[_cls][:int(0.9*len(data_dict[_cls]))] for _cls in data_dict\n",
    "}\n",
    "\n",
    "valid_data_dict = {\n",
    "    _cls : data_dict[_cls][int(0.9*len(data_dict[_cls])):] for _cls in data_dict\n",
    "}\n",
    "\n",
    "for key in train_data_dict:\n",
    "    print(f\"{key}->{len(train_data_dict[key])}--{len(valid_data_dict[key])}\")"
   ]
  },
  {
   "cell_type": "code",
   "execution_count": 89,
   "id": "e134ffde",
   "metadata": {},
   "outputs": [
    {
     "name": "stdout",
     "output_type": "stream",
     "text": [
      "5756\n",
      "644\n"
     ]
    }
   ],
   "source": [
    "train_data_paths = []\n",
    "for key in train_data_dict:\n",
    "    train_data_paths.extend(train_data_dict[key])\n",
    "valid_data_paths = []\n",
    "for key in valid_data_dict:\n",
    "    valid_data_paths.extend(valid_data_dict[key])\n",
    "print(len(train_data_paths))\n",
    "print(len(valid_data_paths))"
   ]
  },
  {
   "cell_type": "code",
   "execution_count": 91,
   "id": "69a48a58",
   "metadata": {},
   "outputs": [],
   "source": [
    "train_ds = ECG(train_data_paths, single_main_df)\n",
    "valid_ds = ECG(valid_data_paths, single_main_df)\n",
    "\n",
    "traindl = DataLoader(\n",
    "    train_ds,\n",
    "    batch_size=32, \n",
    "    shuffle=True, \n",
    "    pin_memory=True, \n",
    "    num_workers=os.cpu_count()//2\n",
    ")\n",
    "\n",
    "validdl = DataLoader(\n",
    "    valid_ds,\n",
    "    batch_size=1, \n",
    "    shuffle=True, \n",
    "    pin_memory=True, \n",
    "    num_workers=os.cpu_count()//2\n",
    ")"
   ]
  },
  {
   "cell_type": "code",
   "execution_count": 120,
   "id": "f3b4aefe",
   "metadata": {},
   "outputs": [],
   "source": [
    "device = torch.device(\"cuda\" if torch.cuda.is_available() else \"cpu\", index = 1)\n",
    "epoch = 100\n",
    "lr = 0.0001\n",
    "\n",
    "model.to(device)\n",
    "optimizer = Adam(model.parameters(), lr=lr)\n",
    "scheduler = CosineAnnealingLR(optimizer=optimizer, T_max=epoch)\n",
    "loss_fn = nn.CrossEntropyLoss()"
   ]
  },
  {
   "cell_type": "code",
   "execution_count": 111,
   "id": "b08f64cc",
   "metadata": {},
   "outputs": [
    {
     "name": "stdout",
     "output_type": "stream",
     "text": [
      "Epoch: 0\n"
     ]
    },
    {
     "name": "stderr",
     "output_type": "stream",
     "text": [
      "0it [00:00, ?it/s]\n"
     ]
    },
    {
     "ename": "RuntimeError",
     "evalue": "Expected target size [32, 9], got [32]",
     "output_type": "error",
     "traceback": [
      "\u001b[0;31m---------------------------------------------------------------------------\u001b[0m",
      "\u001b[0;31mRuntimeError\u001b[0m                              Traceback (most recent call last)",
      "Cell \u001b[0;32mIn[111], line 13\u001b[0m\n\u001b[1;32m     10\u001b[0m train_label \u001b[38;5;241m=\u001b[39m train_label\u001b[38;5;241m.\u001b[39mto(device)\n\u001b[1;32m     12\u001b[0m pred \u001b[38;5;241m=\u001b[39m model(train_sig)\n\u001b[0;32m---> 13\u001b[0m loss \u001b[38;5;241m=\u001b[39m \u001b[43mloss_fn\u001b[49m\u001b[43m(\u001b[49m\u001b[43mpred\u001b[49m\u001b[43m,\u001b[49m\u001b[43m \u001b[49m\u001b[43mtrain_label\u001b[49m\u001b[43m)\u001b[49m\n\u001b[1;32m     15\u001b[0m optimizer\u001b[38;5;241m.\u001b[39mzero_grad()\n\u001b[1;32m     16\u001b[0m loss\u001b[38;5;241m.\u001b[39mbackward()\n",
      "File \u001b[0;32m~/git/.env/lib/python3.10/site-packages/torch/nn/modules/module.py:1501\u001b[0m, in \u001b[0;36mModule._call_impl\u001b[0;34m(self, *args, **kwargs)\u001b[0m\n\u001b[1;32m   1496\u001b[0m \u001b[38;5;66;03m# If we don't have any hooks, we want to skip the rest of the logic in\u001b[39;00m\n\u001b[1;32m   1497\u001b[0m \u001b[38;5;66;03m# this function, and just call forward.\u001b[39;00m\n\u001b[1;32m   1498\u001b[0m \u001b[38;5;28;01mif\u001b[39;00m \u001b[38;5;129;01mnot\u001b[39;00m (\u001b[38;5;28mself\u001b[39m\u001b[38;5;241m.\u001b[39m_backward_hooks \u001b[38;5;129;01mor\u001b[39;00m \u001b[38;5;28mself\u001b[39m\u001b[38;5;241m.\u001b[39m_backward_pre_hooks \u001b[38;5;129;01mor\u001b[39;00m \u001b[38;5;28mself\u001b[39m\u001b[38;5;241m.\u001b[39m_forward_hooks \u001b[38;5;129;01mor\u001b[39;00m \u001b[38;5;28mself\u001b[39m\u001b[38;5;241m.\u001b[39m_forward_pre_hooks\n\u001b[1;32m   1499\u001b[0m         \u001b[38;5;129;01mor\u001b[39;00m _global_backward_pre_hooks \u001b[38;5;129;01mor\u001b[39;00m _global_backward_hooks\n\u001b[1;32m   1500\u001b[0m         \u001b[38;5;129;01mor\u001b[39;00m _global_forward_hooks \u001b[38;5;129;01mor\u001b[39;00m _global_forward_pre_hooks):\n\u001b[0;32m-> 1501\u001b[0m     \u001b[38;5;28;01mreturn\u001b[39;00m \u001b[43mforward_call\u001b[49m\u001b[43m(\u001b[49m\u001b[38;5;241;43m*\u001b[39;49m\u001b[43margs\u001b[49m\u001b[43m,\u001b[49m\u001b[43m \u001b[49m\u001b[38;5;241;43m*\u001b[39;49m\u001b[38;5;241;43m*\u001b[39;49m\u001b[43mkwargs\u001b[49m\u001b[43m)\u001b[49m\n\u001b[1;32m   1502\u001b[0m \u001b[38;5;66;03m# Do not call functions when jit is used\u001b[39;00m\n\u001b[1;32m   1503\u001b[0m full_backward_hooks, non_full_backward_hooks \u001b[38;5;241m=\u001b[39m [], []\n",
      "File \u001b[0;32m~/git/.env/lib/python3.10/site-packages/torch/nn/modules/loss.py:1174\u001b[0m, in \u001b[0;36mCrossEntropyLoss.forward\u001b[0;34m(self, input, target)\u001b[0m\n\u001b[1;32m   1173\u001b[0m \u001b[38;5;28;01mdef\u001b[39;00m \u001b[38;5;21mforward\u001b[39m(\u001b[38;5;28mself\u001b[39m, \u001b[38;5;28minput\u001b[39m: Tensor, target: Tensor) \u001b[38;5;241m-\u001b[39m\u001b[38;5;241m>\u001b[39m Tensor:\n\u001b[0;32m-> 1174\u001b[0m     \u001b[38;5;28;01mreturn\u001b[39;00m \u001b[43mF\u001b[49m\u001b[38;5;241;43m.\u001b[39;49m\u001b[43mcross_entropy\u001b[49m\u001b[43m(\u001b[49m\u001b[38;5;28;43minput\u001b[39;49m\u001b[43m,\u001b[49m\u001b[43m \u001b[49m\u001b[43mtarget\u001b[49m\u001b[43m,\u001b[49m\u001b[43m \u001b[49m\u001b[43mweight\u001b[49m\u001b[38;5;241;43m=\u001b[39;49m\u001b[38;5;28;43mself\u001b[39;49m\u001b[38;5;241;43m.\u001b[39;49m\u001b[43mweight\u001b[49m\u001b[43m,\u001b[49m\n\u001b[1;32m   1175\u001b[0m \u001b[43m                           \u001b[49m\u001b[43mignore_index\u001b[49m\u001b[38;5;241;43m=\u001b[39;49m\u001b[38;5;28;43mself\u001b[39;49m\u001b[38;5;241;43m.\u001b[39;49m\u001b[43mignore_index\u001b[49m\u001b[43m,\u001b[49m\u001b[43m \u001b[49m\u001b[43mreduction\u001b[49m\u001b[38;5;241;43m=\u001b[39;49m\u001b[38;5;28;43mself\u001b[39;49m\u001b[38;5;241;43m.\u001b[39;49m\u001b[43mreduction\u001b[49m\u001b[43m,\u001b[49m\n\u001b[1;32m   1176\u001b[0m \u001b[43m                           \u001b[49m\u001b[43mlabel_smoothing\u001b[49m\u001b[38;5;241;43m=\u001b[39;49m\u001b[38;5;28;43mself\u001b[39;49m\u001b[38;5;241;43m.\u001b[39;49m\u001b[43mlabel_smoothing\u001b[49m\u001b[43m)\u001b[49m\n",
      "File \u001b[0;32m~/git/.env/lib/python3.10/site-packages/torch/nn/functional.py:3029\u001b[0m, in \u001b[0;36mcross_entropy\u001b[0;34m(input, target, weight, size_average, ignore_index, reduce, reduction, label_smoothing)\u001b[0m\n\u001b[1;32m   3027\u001b[0m \u001b[38;5;28;01mif\u001b[39;00m size_average \u001b[38;5;129;01mis\u001b[39;00m \u001b[38;5;129;01mnot\u001b[39;00m \u001b[38;5;28;01mNone\u001b[39;00m \u001b[38;5;129;01mor\u001b[39;00m reduce \u001b[38;5;129;01mis\u001b[39;00m \u001b[38;5;129;01mnot\u001b[39;00m \u001b[38;5;28;01mNone\u001b[39;00m:\n\u001b[1;32m   3028\u001b[0m     reduction \u001b[38;5;241m=\u001b[39m _Reduction\u001b[38;5;241m.\u001b[39mlegacy_get_string(size_average, reduce)\n\u001b[0;32m-> 3029\u001b[0m \u001b[38;5;28;01mreturn\u001b[39;00m \u001b[43mtorch\u001b[49m\u001b[38;5;241;43m.\u001b[39;49m\u001b[43m_C\u001b[49m\u001b[38;5;241;43m.\u001b[39;49m\u001b[43m_nn\u001b[49m\u001b[38;5;241;43m.\u001b[39;49m\u001b[43mcross_entropy_loss\u001b[49m\u001b[43m(\u001b[49m\u001b[38;5;28;43minput\u001b[39;49m\u001b[43m,\u001b[49m\u001b[43m \u001b[49m\u001b[43mtarget\u001b[49m\u001b[43m,\u001b[49m\u001b[43m \u001b[49m\u001b[43mweight\u001b[49m\u001b[43m,\u001b[49m\u001b[43m \u001b[49m\u001b[43m_Reduction\u001b[49m\u001b[38;5;241;43m.\u001b[39;49m\u001b[43mget_enum\u001b[49m\u001b[43m(\u001b[49m\u001b[43mreduction\u001b[49m\u001b[43m)\u001b[49m\u001b[43m,\u001b[49m\u001b[43m \u001b[49m\u001b[43mignore_index\u001b[49m\u001b[43m,\u001b[49m\u001b[43m \u001b[49m\u001b[43mlabel_smoothing\u001b[49m\u001b[43m)\u001b[49m\n",
      "\u001b[0;31mRuntimeError\u001b[0m: Expected target size [32, 9], got [32]"
     ]
    }
   ],
   "source": [
    "for e in range(epoch):\n",
    "    model.train()\n",
    "    print(f\"Epoch: {e}\")\n",
    "    batch_cnt = 0\n",
    "    total_loss = 0\n",
    "    correct = 0\n",
    "    for batch, (train_sig, train_label) in tqdm(enumerate(traindl)):\n",
    "        batch_cnt = batch\n",
    "        train_sig = train_sig.to(device)\n",
    "        train_label = train_label.to(device)\n",
    "        \n",
    "        pred = model(train_sig)\n",
    "        print\n",
    "        loss = loss_fn(pred, train_label)\n",
    "        \n",
    "        optimizer.zero_grad()\n",
    "        loss.backward()\n",
    "        optimizer.step()\n",
    "        \n",
    "        scheduler.step()\n",
    "        \n",
    "        total_loss += loss.item()\n",
    "        correct += (pred.argmax(1) == train_label).type(torch.float).sum().item()\n",
    "    \n",
    "    total_loss /= batch_cnt\n",
    "    correct /= len(traindl.dataset)\n",
    "    \n",
    "    print(f\"train loss: {total_loss} - train acc: {100*correct}\")\n",
    "    \n",
    "    batch_cnt = 0\n",
    "    val_total_loss = 0\n",
    "    val_correct = 0\n",
    "    model.eval()\n",
    "    with torch.no_grad():\n",
    "        for batch, (valid_sig, valid_label) in tqdm(enumerate(validdl)):\n",
    "            batch_cnt = batch\n",
    "            valid_sig = valid_sig.to(device)\n",
    "            valid_label = valid_label.to(device)\n",
    "            \n",
    "            pred = model(valid_sig)\n",
    "            loss = loss_fn(pred, valid_label)\n",
    "            \n",
    "            val_total_loss += loss.item()\n",
    "            val_correct += (pred.argmax(1) == valid_label).type(torch.float).sum().item()\n",
    "    \n",
    "        val_total_loss /= batch_cnt\n",
    "        val_correct /= len(validdl.dataset)\n",
    "        \n",
    "        print(f\"valid loss: {val_total_loss} - valid acc: {100*val_correct}\")"
   ]
  },
  {
   "cell_type": "code",
   "execution_count": null,
   "id": "2a4e45e9",
   "metadata": {},
   "outputs": [],
   "source": []
  }
 ],
 "metadata": {
  "kernelspec": {
   "display_name": "Python 3 (ipykernel)",
   "language": "python",
   "name": "python3"
  },
  "language_info": {
   "codemirror_mode": {
    "name": "ipython",
    "version": 3
   },
   "file_extension": ".py",
   "mimetype": "text/x-python",
   "name": "python",
   "nbconvert_exporter": "python",
   "pygments_lexer": "ipython3",
   "version": "3.10.7"
  }
 },
 "nbformat": 4,
 "nbformat_minor": 5
}
