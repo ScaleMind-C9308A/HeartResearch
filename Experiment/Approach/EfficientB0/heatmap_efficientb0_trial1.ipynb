{
 "cells": [
  {
   "cell_type": "markdown",
   "id": "d6169743",
   "metadata": {},
   "source": [
    "# Setup"
   ]
  },
  {
   "cell_type": "code",
   "execution_count": 1,
   "id": "038e91c8",
   "metadata": {
    "execution": {
     "iopub.execute_input": "2023-12-13T09:13:58.848270Z",
     "iopub.status.busy": "2023-12-13T09:13:58.848047Z",
     "iopub.status.idle": "2023-12-13T09:14:00.088012Z",
     "shell.execute_reply": "2023-12-13T09:14:00.087543Z"
    }
   },
   "outputs": [],
   "source": [
    "import torch\n",
    "from torch import nn\n",
    "from torch.utils.data import DataLoader\n",
    "from torchvision import datasets\n",
    "from torchvision.transforms import ToTensor\n",
    "\n",
    "from torchmetrics import Accuracy\n",
    "from torch.optim import Adam\n",
    "from torch.optim.lr_scheduler import CosineAnnealingLR\n",
    "\n",
    "from sklearn.metrics import classification_report"
   ]
  },
  {
   "cell_type": "code",
   "execution_count": 2,
   "id": "acaa0560",
   "metadata": {
    "execution": {
     "iopub.execute_input": "2023-12-13T09:14:00.089909Z",
     "iopub.status.busy": "2023-12-13T09:14:00.089600Z",
     "iopub.status.idle": "2023-12-13T09:14:00.470962Z",
     "shell.execute_reply": "2023-12-13T09:14:00.470319Z"
    }
   },
   "outputs": [],
   "source": [
    "import os\n",
    "import pandas as pd\n",
    "import matplotlib.pyplot as plt\n",
    "import numpy as np\n",
    "import seaborn as sns\n",
    "\n",
    "import random\n",
    "from glob import glob\n",
    "from tqdm import tqdm\n",
    "from scipy.io import loadmat\n",
    "\n",
    "import torch\n",
    "from torch import nn\n",
    "from torch.optim import Adam\n",
    "from torch.optim.lr_scheduler import CosineAnnealingLR\n",
    "from torch.utils.data import Dataset, DataLoader\n",
    "import torch.nn.functional as F"
   ]
  },
  {
   "cell_type": "code",
   "execution_count": 3,
   "id": "7302e46c",
   "metadata": {
    "execution": {
     "iopub.execute_input": "2023-12-13T09:14:00.473543Z",
     "iopub.status.busy": "2023-12-13T09:14:00.473329Z",
     "iopub.status.idle": "2023-12-13T09:14:00.492239Z",
     "shell.execute_reply": "2023-12-13T09:14:00.491594Z"
    }
   },
   "outputs": [],
   "source": [
    "from IPython.display import clear_output\n",
    "import os, sys, shutil\n",
    "import pandas as pd\n",
    "import matplotlib.pyplot as plt\n",
    "import seaborn as sns\n",
    "import numpy as np\n",
    "from tqdm import tqdm, trange\n",
    "from glob import glob\n",
    "import random\n",
    "import cv2 as cv\n",
    "import torch.nn.functional as F"
   ]
  },
  {
   "cell_type": "code",
   "execution_count": 4,
   "id": "82a9d0eb",
   "metadata": {
    "execution": {
     "iopub.execute_input": "2023-12-13T09:14:00.494757Z",
     "iopub.status.busy": "2023-12-13T09:14:00.494545Z",
     "iopub.status.idle": "2023-12-13T09:14:00.497547Z",
     "shell.execute_reply": "2023-12-13T09:14:00.497069Z"
    }
   },
   "outputs": [
    {
     "name": "stdout",
     "output_type": "stream",
     "text": [
      "['TrainingSet3', 'Label.csv', 'alldata', 'TrainingSet1', 'single_label.csv', 'TrainingSet2']\n"
     ]
    }
   ],
   "source": [
    "data_dir = \"/media/mountHDD2/khoibaocon\"\n",
    "print(os.listdir(data_dir))"
   ]
  },
  {
   "cell_type": "code",
   "execution_count": 5,
   "id": "7f58c040",
   "metadata": {
    "execution": {
     "iopub.execute_input": "2023-12-13T09:14:00.499948Z",
     "iopub.status.busy": "2023-12-13T09:14:00.499738Z",
     "iopub.status.idle": "2023-12-13T09:14:00.507025Z",
     "shell.execute_reply": "2023-12-13T09:14:00.506572Z"
    }
   },
   "outputs": [
    {
     "data": {
      "text/plain": [
       "(6877, 4)"
      ]
     },
     "execution_count": 5,
     "metadata": {},
     "output_type": "execute_result"
    }
   ],
   "source": [
    "main_df = pd.read_csv(data_dir + \"/Label.csv\")\n",
    "main_df.shape"
   ]
  },
  {
   "cell_type": "code",
   "execution_count": 6,
   "id": "1410107a",
   "metadata": {
    "execution": {
     "iopub.execute_input": "2023-12-13T09:14:00.509297Z",
     "iopub.status.busy": "2023-12-13T09:14:00.509121Z",
     "iopub.status.idle": "2023-12-13T09:14:00.512815Z",
     "shell.execute_reply": "2023-12-13T09:14:00.512352Z"
    }
   },
   "outputs": [],
   "source": [
    "single_main_df = main_df[main_df[\"Second_label\"].isnull()]\n",
    "single_fns = single_main_df[\"Recording\"].values.tolist()\n",
    "single_mat_paths = [data_dir + f\"/alldata/{x}.mat\" for x in single_fns]"
   ]
  },
  {
   "cell_type": "code",
   "execution_count": 7,
   "id": "10056b92",
   "metadata": {
    "execution": {
     "iopub.execute_input": "2023-12-13T09:14:00.514970Z",
     "iopub.status.busy": "2023-12-13T09:14:00.514799Z",
     "iopub.status.idle": "2023-12-13T09:14:00.518014Z",
     "shell.execute_reply": "2023-12-13T09:14:00.517552Z"
    }
   },
   "outputs": [],
   "source": [
    "ratio = [0.8, 0.1, 0.1]\n",
    "\n",
    "train_index = int(len(single_mat_paths)*ratio[0])\n",
    "valid_index = int(len(single_mat_paths)*(ratio[0]+ratio[1]))\n",
    "\n",
    "train_mat_paths = single_mat_paths[:train_index]\n",
    "valid_mat_paths = single_mat_paths[train_index:valid_index]\n",
    "test_mat_paths = single_mat_paths[valid_index:]\n",
    "\n",
    "train_label = single_main_df.iloc[:train_index,:]\n",
    "valid_label = single_main_df.iloc[train_index:valid_index,:]\n",
    "test_label = single_main_df.iloc[valid_index:,:]"
   ]
  },
  {
   "cell_type": "code",
   "execution_count": 8,
   "id": "0f8be969",
   "metadata": {
    "execution": {
     "iopub.execute_input": "2023-12-13T09:14:00.520163Z",
     "iopub.status.busy": "2023-12-13T09:14:00.519898Z",
     "iopub.status.idle": "2023-12-13T09:14:00.525996Z",
     "shell.execute_reply": "2023-12-13T09:14:00.525517Z"
    }
   },
   "outputs": [
    {
     "name": "stdout",
     "output_type": "stream",
     "text": [
      "['/media/mountHDD2/khoibaocon/alldata/A0001.mat', '/media/mountHDD2/khoibaocon/alldata/A0002.mat', '/media/mountHDD2/khoibaocon/alldata/A0003.mat', '/media/mountHDD2/khoibaocon/alldata/A0004.mat', '/media/mountHDD2/khoibaocon/alldata/A0005.mat', '/media/mountHDD2/khoibaocon/alldata/A0006.mat', '/media/mountHDD2/khoibaocon/alldata/A0007.mat', '/media/mountHDD2/khoibaocon/alldata/A0008.mat', '/media/mountHDD2/khoibaocon/alldata/A0009.mat', '/media/mountHDD2/khoibaocon/alldata/A0010.mat', '/media/mountHDD2/khoibaocon/alldata/A0011.mat', '/media/mountHDD2/khoibaocon/alldata/A0012.mat', '/media/mountHDD2/khoibaocon/alldata/A0013.mat', '/media/mountHDD2/khoibaocon/alldata/A0014.mat', '/media/mountHDD2/khoibaocon/alldata/A0015.mat', '/media/mountHDD2/khoibaocon/alldata/A0016.mat', '/media/mountHDD2/khoibaocon/alldata/A0017.mat', '/media/mountHDD2/khoibaocon/alldata/A0018.mat', '/media/mountHDD2/khoibaocon/alldata/A0019.mat', '/media/mountHDD2/khoibaocon/alldata/A0020.mat', '/media/mountHDD2/khoibaocon/alldata/A0021.mat', '/media/mountHDD2/khoibaocon/alldata/A0022.mat', '/media/mountHDD2/khoibaocon/alldata/A0023.mat', '/media/mountHDD2/khoibaocon/alldata/A0024.mat', '/media/mountHDD2/khoibaocon/alldata/A0025.mat', '/media/mountHDD2/khoibaocon/alldata/A0026.mat', '/media/mountHDD2/khoibaocon/alldata/A0027.mat', '/media/mountHDD2/khoibaocon/alldata/A0028.mat', '/media/mountHDD2/khoibaocon/alldata/A0029.mat', '/media/mountHDD2/khoibaocon/alldata/A0030.mat', '/media/mountHDD2/khoibaocon/alldata/A0031.mat', '/media/mountHDD2/khoibaocon/alldata/A0032.mat', '/media/mountHDD2/khoibaocon/alldata/A0033.mat', '/media/mountHDD2/khoibaocon/alldata/A0034.mat', '/media/mountHDD2/khoibaocon/alldata/A0035.mat', '/media/mountHDD2/khoibaocon/alldata/A0036.mat', '/media/mountHDD2/khoibaocon/alldata/A0037.mat', '/media/mountHDD2/khoibaocon/alldata/A0038.mat', '/media/mountHDD2/khoibaocon/alldata/A0039.mat', '/media/mountHDD2/khoibaocon/alldata/A0040.mat', '/media/mountHDD2/khoibaocon/alldata/A0041.mat', '/media/mountHDD2/khoibaocon/alldata/A0042.mat', '/media/mountHDD2/khoibaocon/alldata/A0044.mat', '/media/mountHDD2/khoibaocon/alldata/A0045.mat', '/media/mountHDD2/khoibaocon/alldata/A0046.mat', '/media/mountHDD2/khoibaocon/alldata/A0047.mat', '/media/mountHDD2/khoibaocon/alldata/A0048.mat', '/media/mountHDD2/khoibaocon/alldata/A0049.mat', '/media/mountHDD2/khoibaocon/alldata/A0050.mat', '/media/mountHDD2/khoibaocon/alldata/A0051.mat', '/media/mountHDD2/khoibaocon/alldata/A0052.mat', '/media/mountHDD2/khoibaocon/alldata/A0053.mat', '/media/mountHDD2/khoibaocon/alldata/A0054.mat', '/media/mountHDD2/khoibaocon/alldata/A0055.mat', '/media/mountHDD2/khoibaocon/alldata/A0056.mat', '/media/mountHDD2/khoibaocon/alldata/A0057.mat', '/media/mountHDD2/khoibaocon/alldata/A0058.mat', '/media/mountHDD2/khoibaocon/alldata/A0059.mat', '/media/mountHDD2/khoibaocon/alldata/A0060.mat', '/media/mountHDD2/khoibaocon/alldata/A0061.mat', '/media/mountHDD2/khoibaocon/alldata/A0062.mat', '/media/mountHDD2/khoibaocon/alldata/A0063.mat', '/media/mountHDD2/khoibaocon/alldata/A0064.mat', '/media/mountHDD2/khoibaocon/alldata/A0065.mat', '/media/mountHDD2/khoibaocon/alldata/A0066.mat', '/media/mountHDD2/khoibaocon/alldata/A0067.mat', '/media/mountHDD2/khoibaocon/alldata/A0068.mat', '/media/mountHDD2/khoibaocon/alldata/A0069.mat', '/media/mountHDD2/khoibaocon/alldata/A0070.mat', '/media/mountHDD2/khoibaocon/alldata/A0071.mat', '/media/mountHDD2/khoibaocon/alldata/A0072.mat', '/media/mountHDD2/khoibaocon/alldata/A0073.mat', '/media/mountHDD2/khoibaocon/alldata/A0074.mat', '/media/mountHDD2/khoibaocon/alldata/A0075.mat', '/media/mountHDD2/khoibaocon/alldata/A0076.mat', '/media/mountHDD2/khoibaocon/alldata/A0077.mat', '/media/mountHDD2/khoibaocon/alldata/A0078.mat', '/media/mountHDD2/khoibaocon/alldata/A0080.mat', '/media/mountHDD2/khoibaocon/alldata/A0081.mat', '/media/mountHDD2/khoibaocon/alldata/A0082.mat', '/media/mountHDD2/khoibaocon/alldata/A0083.mat', '/media/mountHDD2/khoibaocon/alldata/A0084.mat', '/media/mountHDD2/khoibaocon/alldata/A0085.mat', '/media/mountHDD2/khoibaocon/alldata/A0086.mat', '/media/mountHDD2/khoibaocon/alldata/A0087.mat', '/media/mountHDD2/khoibaocon/alldata/A0088.mat', '/media/mountHDD2/khoibaocon/alldata/A0089.mat', '/media/mountHDD2/khoibaocon/alldata/A0090.mat', '/media/mountHDD2/khoibaocon/alldata/A0091.mat', '/media/mountHDD2/khoibaocon/alldata/A0092.mat', '/media/mountHDD2/khoibaocon/alldata/A0093.mat', '/media/mountHDD2/khoibaocon/alldata/A0094.mat', '/media/mountHDD2/khoibaocon/alldata/A0095.mat', '/media/mountHDD2/khoibaocon/alldata/A0096.mat', '/media/mountHDD2/khoibaocon/alldata/A0097.mat', '/media/mountHDD2/khoibaocon/alldata/A0098.mat', '/media/mountHDD2/khoibaocon/alldata/A0099.mat', '/media/mountHDD2/khoibaocon/alldata/A0100.mat', '/media/mountHDD2/khoibaocon/alldata/A0101.mat', '/media/mountHDD2/khoibaocon/alldata/A0102.mat', '/media/mountHDD2/khoibaocon/alldata/A0103.mat', '/media/mountHDD2/khoibaocon/alldata/A0104.mat', '/media/mountHDD2/khoibaocon/alldata/A0105.mat', '/media/mountHDD2/khoibaocon/alldata/A0106.mat', '/media/mountHDD2/khoibaocon/alldata/A0107.mat', '/media/mountHDD2/khoibaocon/alldata/A0108.mat', '/media/mountHDD2/khoibaocon/alldata/A0110.mat', '/media/mountHDD2/khoibaocon/alldata/A0111.mat', '/media/mountHDD2/khoibaocon/alldata/A0113.mat', '/media/mountHDD2/khoibaocon/alldata/A0114.mat', '/media/mountHDD2/khoibaocon/alldata/A0115.mat', '/media/mountHDD2/khoibaocon/alldata/A0116.mat', '/media/mountHDD2/khoibaocon/alldata/A0117.mat', '/media/mountHDD2/khoibaocon/alldata/A0118.mat', '/media/mountHDD2/khoibaocon/alldata/A0119.mat', '/media/mountHDD2/khoibaocon/alldata/A0120.mat', '/media/mountHDD2/khoibaocon/alldata/A0121.mat', '/media/mountHDD2/khoibaocon/alldata/A0122.mat', '/media/mountHDD2/khoibaocon/alldata/A0123.mat', '/media/mountHDD2/khoibaocon/alldata/A0124.mat', '/media/mountHDD2/khoibaocon/alldata/A0125.mat', '/media/mountHDD2/khoibaocon/alldata/A0126.mat', '/media/mountHDD2/khoibaocon/alldata/A0127.mat', '/media/mountHDD2/khoibaocon/alldata/A0128.mat', '/media/mountHDD2/khoibaocon/alldata/A0129.mat', '/media/mountHDD2/khoibaocon/alldata/A0130.mat', '/media/mountHDD2/khoibaocon/alldata/A0131.mat', '/media/mountHDD2/khoibaocon/alldata/A0132.mat', '/media/mountHDD2/khoibaocon/alldata/A0133.mat', '/media/mountHDD2/khoibaocon/alldata/A0134.mat', '/media/mountHDD2/khoibaocon/alldata/A0135.mat', '/media/mountHDD2/khoibaocon/alldata/A0136.mat', '/media/mountHDD2/khoibaocon/alldata/A0137.mat', '/media/mountHDD2/khoibaocon/alldata/A0138.mat', '/media/mountHDD2/khoibaocon/alldata/A0139.mat', '/media/mountHDD2/khoibaocon/alldata/A0140.mat', '/media/mountHDD2/khoibaocon/alldata/A0141.mat', '/media/mountHDD2/khoibaocon/alldata/A0142.mat', '/media/mountHDD2/khoibaocon/alldata/A0143.mat', '/media/mountHDD2/khoibaocon/alldata/A0144.mat', '/media/mountHDD2/khoibaocon/alldata/A0145.mat', '/media/mountHDD2/khoibaocon/alldata/A0146.mat', '/media/mountHDD2/khoibaocon/alldata/A0147.mat', '/media/mountHDD2/khoibaocon/alldata/A0148.mat', '/media/mountHDD2/khoibaocon/alldata/A0149.mat', '/media/mountHDD2/khoibaocon/alldata/A0150.mat', '/media/mountHDD2/khoibaocon/alldata/A0151.mat', '/media/mountHDD2/khoibaocon/alldata/A0153.mat', '/media/mountHDD2/khoibaocon/alldata/A0154.mat', '/media/mountHDD2/khoibaocon/alldata/A0155.mat', '/media/mountHDD2/khoibaocon/alldata/A0156.mat', '/media/mountHDD2/khoibaocon/alldata/A0157.mat', '/media/mountHDD2/khoibaocon/alldata/A0158.mat', '/media/mountHDD2/khoibaocon/alldata/A0159.mat', '/media/mountHDD2/khoibaocon/alldata/A0160.mat', '/media/mountHDD2/khoibaocon/alldata/A0161.mat', '/media/mountHDD2/khoibaocon/alldata/A0162.mat', '/media/mountHDD2/khoibaocon/alldata/A0164.mat', '/media/mountHDD2/khoibaocon/alldata/A0165.mat', '/media/mountHDD2/khoibaocon/alldata/A0166.mat', '/media/mountHDD2/khoibaocon/alldata/A0167.mat', '/media/mountHDD2/khoibaocon/alldata/A0168.mat', '/media/mountHDD2/khoibaocon/alldata/A0169.mat', '/media/mountHDD2/khoibaocon/alldata/A0170.mat', '/media/mountHDD2/khoibaocon/alldata/A0171.mat', '/media/mountHDD2/khoibaocon/alldata/A0172.mat', '/media/mountHDD2/khoibaocon/alldata/A0173.mat', '/media/mountHDD2/khoibaocon/alldata/A0174.mat', '/media/mountHDD2/khoibaocon/alldata/A0175.mat', '/media/mountHDD2/khoibaocon/alldata/A0176.mat', '/media/mountHDD2/khoibaocon/alldata/A0177.mat', '/media/mountHDD2/khoibaocon/alldata/A0178.mat', '/media/mountHDD2/khoibaocon/alldata/A0179.mat', '/media/mountHDD2/khoibaocon/alldata/A0180.mat', '/media/mountHDD2/khoibaocon/alldata/A0181.mat', '/media/mountHDD2/khoibaocon/alldata/A0183.mat', '/media/mountHDD2/khoibaocon/alldata/A0184.mat', '/media/mountHDD2/khoibaocon/alldata/A0185.mat', '/media/mountHDD2/khoibaocon/alldata/A0186.mat', '/media/mountHDD2/khoibaocon/alldata/A0187.mat', '/media/mountHDD2/khoibaocon/alldata/A0188.mat', '/media/mountHDD2/khoibaocon/alldata/A0189.mat', '/media/mountHDD2/khoibaocon/alldata/A0190.mat', '/media/mountHDD2/khoibaocon/alldata/A0191.mat', '/media/mountHDD2/khoibaocon/alldata/A0192.mat', '/media/mountHDD2/khoibaocon/alldata/A0193.mat', '/media/mountHDD2/khoibaocon/alldata/A0194.mat', '/media/mountHDD2/khoibaocon/alldata/A0195.mat', '/media/mountHDD2/khoibaocon/alldata/A0196.mat', '/media/mountHDD2/khoibaocon/alldata/A0197.mat', '/media/mountHDD2/khoibaocon/alldata/A0198.mat', '/media/mountHDD2/khoibaocon/alldata/A0199.mat', '/media/mountHDD2/khoibaocon/alldata/A0200.mat', '/media/mountHDD2/khoibaocon/alldata/A0201.mat', '/media/mountHDD2/khoibaocon/alldata/A1497.mat', '/media/mountHDD2/khoibaocon/alldata/A0203.mat', '/media/mountHDD2/khoibaocon/alldata/A0204.mat', '/media/mountHDD2/khoibaocon/alldata/A0205.mat', '/media/mountHDD2/khoibaocon/alldata/A0206.mat', '/media/mountHDD2/khoibaocon/alldata/A0207.mat', '/media/mountHDD2/khoibaocon/alldata/A0208.mat', '/media/mountHDD2/khoibaocon/alldata/A0209.mat', '/media/mountHDD2/khoibaocon/alldata/A0210.mat', '/media/mountHDD2/khoibaocon/alldata/A0211.mat', '/media/mountHDD2/khoibaocon/alldata/A0212.mat', '/media/mountHDD2/khoibaocon/alldata/A0214.mat', '/media/mountHDD2/khoibaocon/alldata/A0215.mat', '/media/mountHDD2/khoibaocon/alldata/A0216.mat', '/media/mountHDD2/khoibaocon/alldata/A0217.mat', '/media/mountHDD2/khoibaocon/alldata/A0219.mat', '/media/mountHDD2/khoibaocon/alldata/A0220.mat', '/media/mountHDD2/khoibaocon/alldata/A0221.mat', '/media/mountHDD2/khoibaocon/alldata/A0222.mat', '/media/mountHDD2/khoibaocon/alldata/A0223.mat', '/media/mountHDD2/khoibaocon/alldata/A0225.mat', '/media/mountHDD2/khoibaocon/alldata/A0226.mat', '/media/mountHDD2/khoibaocon/alldata/A0227.mat', '/media/mountHDD2/khoibaocon/alldata/A0228.mat', '/media/mountHDD2/khoibaocon/alldata/A0229.mat', '/media/mountHDD2/khoibaocon/alldata/A0230.mat', '/media/mountHDD2/khoibaocon/alldata/A0231.mat', '/media/mountHDD2/khoibaocon/alldata/A0232.mat', '/media/mountHDD2/khoibaocon/alldata/A0233.mat', '/media/mountHDD2/khoibaocon/alldata/A0234.mat', '/media/mountHDD2/khoibaocon/alldata/A0235.mat', '/media/mountHDD2/khoibaocon/alldata/A0236.mat', '/media/mountHDD2/khoibaocon/alldata/A0238.mat', '/media/mountHDD2/khoibaocon/alldata/A0239.mat', '/media/mountHDD2/khoibaocon/alldata/A0240.mat', '/media/mountHDD2/khoibaocon/alldata/A0241.mat', '/media/mountHDD2/khoibaocon/alldata/A0242.mat', '/media/mountHDD2/khoibaocon/alldata/A0243.mat', '/media/mountHDD2/khoibaocon/alldata/A0244.mat', '/media/mountHDD2/khoibaocon/alldata/A0245.mat', '/media/mountHDD2/khoibaocon/alldata/A0246.mat', '/media/mountHDD2/khoibaocon/alldata/A0247.mat', '/media/mountHDD2/khoibaocon/alldata/A0248.mat', '/media/mountHDD2/khoibaocon/alldata/A0249.mat', '/media/mountHDD2/khoibaocon/alldata/A0250.mat', '/media/mountHDD2/khoibaocon/alldata/A0252.mat', '/media/mountHDD2/khoibaocon/alldata/A0253.mat', '/media/mountHDD2/khoibaocon/alldata/A0254.mat', '/media/mountHDD2/khoibaocon/alldata/A0255.mat', '/media/mountHDD2/khoibaocon/alldata/A0256.mat', '/media/mountHDD2/khoibaocon/alldata/A0257.mat', '/media/mountHDD2/khoibaocon/alldata/A0258.mat', '/media/mountHDD2/khoibaocon/alldata/A0259.mat', '/media/mountHDD2/khoibaocon/alldata/A0260.mat', '/media/mountHDD2/khoibaocon/alldata/A0261.mat', '/media/mountHDD2/khoibaocon/alldata/A0262.mat', '/media/mountHDD2/khoibaocon/alldata/A0263.mat', '/media/mountHDD2/khoibaocon/alldata/A0264.mat', '/media/mountHDD2/khoibaocon/alldata/A0265.mat', '/media/mountHDD2/khoibaocon/alldata/A0266.mat', '/media/mountHDD2/khoibaocon/alldata/A0267.mat', '/media/mountHDD2/khoibaocon/alldata/A0268.mat', '/media/mountHDD2/khoibaocon/alldata/A0269.mat', '/media/mountHDD2/khoibaocon/alldata/A0270.mat', '/media/mountHDD2/khoibaocon/alldata/A0271.mat', '/media/mountHDD2/khoibaocon/alldata/A0272.mat', '/media/mountHDD2/khoibaocon/alldata/A0273.mat', '/media/mountHDD2/khoibaocon/alldata/A0274.mat', '/media/mountHDD2/khoibaocon/alldata/A0275.mat', '/media/mountHDD2/khoibaocon/alldata/A0276.mat', '/media/mountHDD2/khoibaocon/alldata/A0278.mat', '/media/mountHDD2/khoibaocon/alldata/A0279.mat', '/media/mountHDD2/khoibaocon/alldata/A0280.mat', '/media/mountHDD2/khoibaocon/alldata/A0281.mat', '/media/mountHDD2/khoibaocon/alldata/A0282.mat', '/media/mountHDD2/khoibaocon/alldata/A0283.mat', '/media/mountHDD2/khoibaocon/alldata/A0284.mat', '/media/mountHDD2/khoibaocon/alldata/A0285.mat', '/media/mountHDD2/khoibaocon/alldata/A0286.mat', '/media/mountHDD2/khoibaocon/alldata/A0287.mat', '/media/mountHDD2/khoibaocon/alldata/A0288.mat', '/media/mountHDD2/khoibaocon/alldata/A0289.mat', '/media/mountHDD2/khoibaocon/alldata/A0290.mat', '/media/mountHDD2/khoibaocon/alldata/A0291.mat', '/media/mountHDD2/khoibaocon/alldata/A0292.mat', '/media/mountHDD2/khoibaocon/alldata/A0293.mat', '/media/mountHDD2/khoibaocon/alldata/A0294.mat', '/media/mountHDD2/khoibaocon/alldata/A0295.mat', '/media/mountHDD2/khoibaocon/alldata/A0296.mat', '/media/mountHDD2/khoibaocon/alldata/A0297.mat', '/media/mountHDD2/khoibaocon/alldata/A0298.mat', '/media/mountHDD2/khoibaocon/alldata/A0299.mat', '/media/mountHDD2/khoibaocon/alldata/A0301.mat', '/media/mountHDD2/khoibaocon/alldata/A0302.mat', '/media/mountHDD2/khoibaocon/alldata/A0303.mat', '/media/mountHDD2/khoibaocon/alldata/A0304.mat', '/media/mountHDD2/khoibaocon/alldata/A0305.mat', '/media/mountHDD2/khoibaocon/alldata/A0306.mat', '/media/mountHDD2/khoibaocon/alldata/A0307.mat', '/media/mountHDD2/khoibaocon/alldata/A0309.mat', '/media/mountHDD2/khoibaocon/alldata/A0310.mat', '/media/mountHDD2/khoibaocon/alldata/A0311.mat', '/media/mountHDD2/khoibaocon/alldata/A0312.mat', '/media/mountHDD2/khoibaocon/alldata/A0313.mat', '/media/mountHDD2/khoibaocon/alldata/A0314.mat', '/media/mountHDD2/khoibaocon/alldata/A0315.mat', '/media/mountHDD2/khoibaocon/alldata/A0316.mat', '/media/mountHDD2/khoibaocon/alldata/A0317.mat', '/media/mountHDD2/khoibaocon/alldata/A0318.mat', '/media/mountHDD2/khoibaocon/alldata/A1727.mat', '/media/mountHDD2/khoibaocon/alldata/A0320.mat', '/media/mountHDD2/khoibaocon/alldata/A0321.mat', '/media/mountHDD2/khoibaocon/alldata/A0323.mat', '/media/mountHDD2/khoibaocon/alldata/A0324.mat', '/media/mountHDD2/khoibaocon/alldata/A0325.mat', '/media/mountHDD2/khoibaocon/alldata/A0326.mat', '/media/mountHDD2/khoibaocon/alldata/A0327.mat', '/media/mountHDD2/khoibaocon/alldata/A0328.mat', '/media/mountHDD2/khoibaocon/alldata/A0329.mat', '/media/mountHDD2/khoibaocon/alldata/A0330.mat', '/media/mountHDD2/khoibaocon/alldata/A0331.mat', '/media/mountHDD2/khoibaocon/alldata/A0332.mat', '/media/mountHDD2/khoibaocon/alldata/A0333.mat', '/media/mountHDD2/khoibaocon/alldata/A0334.mat', '/media/mountHDD2/khoibaocon/alldata/A0335.mat', '/media/mountHDD2/khoibaocon/alldata/A0336.mat', '/media/mountHDD2/khoibaocon/alldata/A0337.mat', '/media/mountHDD2/khoibaocon/alldata/A0338.mat', '/media/mountHDD2/khoibaocon/alldata/A0339.mat', '/media/mountHDD2/khoibaocon/alldata/A0340.mat', '/media/mountHDD2/khoibaocon/alldata/A0341.mat', '/media/mountHDD2/khoibaocon/alldata/A0342.mat', '/media/mountHDD2/khoibaocon/alldata/A0343.mat', '/media/mountHDD2/khoibaocon/alldata/A0344.mat', '/media/mountHDD2/khoibaocon/alldata/A0345.mat', '/media/mountHDD2/khoibaocon/alldata/A0346.mat', '/media/mountHDD2/khoibaocon/alldata/A1135.mat', '/media/mountHDD2/khoibaocon/alldata/A0348.mat', '/media/mountHDD2/khoibaocon/alldata/A0349.mat', '/media/mountHDD2/khoibaocon/alldata/A0350.mat', '/media/mountHDD2/khoibaocon/alldata/A0351.mat', '/media/mountHDD2/khoibaocon/alldata/A0352.mat', '/media/mountHDD2/khoibaocon/alldata/A0354.mat', '/media/mountHDD2/khoibaocon/alldata/A0355.mat', '/media/mountHDD2/khoibaocon/alldata/A0356.mat', '/media/mountHDD2/khoibaocon/alldata/A0357.mat', '/media/mountHDD2/khoibaocon/alldata/A0358.mat', '/media/mountHDD2/khoibaocon/alldata/A0359.mat', '/media/mountHDD2/khoibaocon/alldata/A0360.mat', '/media/mountHDD2/khoibaocon/alldata/A0361.mat', '/media/mountHDD2/khoibaocon/alldata/A0362.mat', '/media/mountHDD2/khoibaocon/alldata/A0363.mat', '/media/mountHDD2/khoibaocon/alldata/A0364.mat', '/media/mountHDD2/khoibaocon/alldata/A0365.mat', '/media/mountHDD2/khoibaocon/alldata/A0366.mat', '/media/mountHDD2/khoibaocon/alldata/A0367.mat', '/media/mountHDD2/khoibaocon/alldata/A0368.mat', '/media/mountHDD2/khoibaocon/alldata/A0369.mat', '/media/mountHDD2/khoibaocon/alldata/A0370.mat', '/media/mountHDD2/khoibaocon/alldata/A0371.mat', '/media/mountHDD2/khoibaocon/alldata/A0372.mat', '/media/mountHDD2/khoibaocon/alldata/A0373.mat', '/media/mountHDD2/khoibaocon/alldata/A0375.mat', '/media/mountHDD2/khoibaocon/alldata/A0376.mat', '/media/mountHDD2/khoibaocon/alldata/A0377.mat', '/media/mountHDD2/khoibaocon/alldata/A0378.mat', '/media/mountHDD2/khoibaocon/alldata/A0379.mat', '/media/mountHDD2/khoibaocon/alldata/A0380.mat', '/media/mountHDD2/khoibaocon/alldata/A0381.mat', '/media/mountHDD2/khoibaocon/alldata/A0382.mat', '/media/mountHDD2/khoibaocon/alldata/A0383.mat', '/media/mountHDD2/khoibaocon/alldata/A0386.mat', '/media/mountHDD2/khoibaocon/alldata/A0387.mat', '/media/mountHDD2/khoibaocon/alldata/A0388.mat', '/media/mountHDD2/khoibaocon/alldata/A0389.mat', '/media/mountHDD2/khoibaocon/alldata/A0390.mat', '/media/mountHDD2/khoibaocon/alldata/A0391.mat', '/media/mountHDD2/khoibaocon/alldata/A0392.mat', '/media/mountHDD2/khoibaocon/alldata/A0393.mat', '/media/mountHDD2/khoibaocon/alldata/A0394.mat', '/media/mountHDD2/khoibaocon/alldata/A0395.mat', '/media/mountHDD2/khoibaocon/alldata/A0396.mat', '/media/mountHDD2/khoibaocon/alldata/A0397.mat', '/media/mountHDD2/khoibaocon/alldata/A0398.mat', '/media/mountHDD2/khoibaocon/alldata/A0399.mat', '/media/mountHDD2/khoibaocon/alldata/A0400.mat', '/media/mountHDD2/khoibaocon/alldata/A0401.mat', '/media/mountHDD2/khoibaocon/alldata/A0402.mat', '/media/mountHDD2/khoibaocon/alldata/A0403.mat', '/media/mountHDD2/khoibaocon/alldata/A0404.mat', '/media/mountHDD2/khoibaocon/alldata/A0405.mat', '/media/mountHDD2/khoibaocon/alldata/A0406.mat', '/media/mountHDD2/khoibaocon/alldata/A0408.mat', '/media/mountHDD2/khoibaocon/alldata/A0409.mat', '/media/mountHDD2/khoibaocon/alldata/A0410.mat', '/media/mountHDD2/khoibaocon/alldata/A0411.mat', '/media/mountHDD2/khoibaocon/alldata/A0413.mat', '/media/mountHDD2/khoibaocon/alldata/A0415.mat', '/media/mountHDD2/khoibaocon/alldata/A0416.mat', '/media/mountHDD2/khoibaocon/alldata/A0417.mat', '/media/mountHDD2/khoibaocon/alldata/A0418.mat', '/media/mountHDD2/khoibaocon/alldata/A0419.mat', '/media/mountHDD2/khoibaocon/alldata/A0420.mat', '/media/mountHDD2/khoibaocon/alldata/A0421.mat', '/media/mountHDD2/khoibaocon/alldata/A0422.mat', '/media/mountHDD2/khoibaocon/alldata/A0423.mat', '/media/mountHDD2/khoibaocon/alldata/A0424.mat', '/media/mountHDD2/khoibaocon/alldata/A0425.mat', '/media/mountHDD2/khoibaocon/alldata/A0426.mat', '/media/mountHDD2/khoibaocon/alldata/A0427.mat', '/media/mountHDD2/khoibaocon/alldata/A0428.mat', '/media/mountHDD2/khoibaocon/alldata/A0429.mat', '/media/mountHDD2/khoibaocon/alldata/A0430.mat', '/media/mountHDD2/khoibaocon/alldata/A0432.mat', '/media/mountHDD2/khoibaocon/alldata/A0433.mat', '/media/mountHDD2/khoibaocon/alldata/A0434.mat', '/media/mountHDD2/khoibaocon/alldata/A0435.mat', '/media/mountHDD2/khoibaocon/alldata/A0436.mat', '/media/mountHDD2/khoibaocon/alldata/A0437.mat', '/media/mountHDD2/khoibaocon/alldata/A0438.mat', '/media/mountHDD2/khoibaocon/alldata/A0440.mat', '/media/mountHDD2/khoibaocon/alldata/A0441.mat', '/media/mountHDD2/khoibaocon/alldata/A0442.mat', '/media/mountHDD2/khoibaocon/alldata/A0443.mat', '/media/mountHDD2/khoibaocon/alldata/A0444.mat', '/media/mountHDD2/khoibaocon/alldata/A0445.mat', '/media/mountHDD2/khoibaocon/alldata/A0446.mat', '/media/mountHDD2/khoibaocon/alldata/A0447.mat', '/media/mountHDD2/khoibaocon/alldata/A0448.mat', '/media/mountHDD2/khoibaocon/alldata/A0449.mat', '/media/mountHDD2/khoibaocon/alldata/A0450.mat', '/media/mountHDD2/khoibaocon/alldata/A0451.mat', '/media/mountHDD2/khoibaocon/alldata/A0452.mat', '/media/mountHDD2/khoibaocon/alldata/A0453.mat', '/media/mountHDD2/khoibaocon/alldata/A0454.mat', '/media/mountHDD2/khoibaocon/alldata/A0455.mat', '/media/mountHDD2/khoibaocon/alldata/A0456.mat', '/media/mountHDD2/khoibaocon/alldata/A0457.mat', '/media/mountHDD2/khoibaocon/alldata/A0458.mat', '/media/mountHDD2/khoibaocon/alldata/A0459.mat', '/media/mountHDD2/khoibaocon/alldata/A0460.mat', '/media/mountHDD2/khoibaocon/alldata/A0461.mat', '/media/mountHDD2/khoibaocon/alldata/A0462.mat', '/media/mountHDD2/khoibaocon/alldata/A0463.mat', '/media/mountHDD2/khoibaocon/alldata/A0465.mat', '/media/mountHDD2/khoibaocon/alldata/A0466.mat', '/media/mountHDD2/khoibaocon/alldata/A0467.mat', '/media/mountHDD2/khoibaocon/alldata/A0468.mat', '/media/mountHDD2/khoibaocon/alldata/A0469.mat', '/media/mountHDD2/khoibaocon/alldata/A0470.mat', '/media/mountHDD2/khoibaocon/alldata/A0471.mat', '/media/mountHDD2/khoibaocon/alldata/A0472.mat', '/media/mountHDD2/khoibaocon/alldata/A0473.mat', '/media/mountHDD2/khoibaocon/alldata/A0474.mat', '/media/mountHDD2/khoibaocon/alldata/A0475.mat', '/media/mountHDD2/khoibaocon/alldata/A0476.mat', '/media/mountHDD2/khoibaocon/alldata/A0477.mat', '/media/mountHDD2/khoibaocon/alldata/A0479.mat', '/media/mountHDD2/khoibaocon/alldata/A0480.mat', '/media/mountHDD2/khoibaocon/alldata/A0481.mat', '/media/mountHDD2/khoibaocon/alldata/A0482.mat', '/media/mountHDD2/khoibaocon/alldata/A0483.mat', '/media/mountHDD2/khoibaocon/alldata/A0484.mat', '/media/mountHDD2/khoibaocon/alldata/A0485.mat', '/media/mountHDD2/khoibaocon/alldata/A0486.mat', '/media/mountHDD2/khoibaocon/alldata/A0487.mat', '/media/mountHDD2/khoibaocon/alldata/A0488.mat', '/media/mountHDD2/khoibaocon/alldata/A0489.mat', '/media/mountHDD2/khoibaocon/alldata/A0490.mat', '/media/mountHDD2/khoibaocon/alldata/A0491.mat', '/media/mountHDD2/khoibaocon/alldata/A0492.mat', '/media/mountHDD2/khoibaocon/alldata/A0493.mat', '/media/mountHDD2/khoibaocon/alldata/A0494.mat', '/media/mountHDD2/khoibaocon/alldata/A0495.mat', '/media/mountHDD2/khoibaocon/alldata/A0496.mat', '/media/mountHDD2/khoibaocon/alldata/A0497.mat', '/media/mountHDD2/khoibaocon/alldata/A0498.mat', '/media/mountHDD2/khoibaocon/alldata/A0499.mat', '/media/mountHDD2/khoibaocon/alldata/A0500.mat', '/media/mountHDD2/khoibaocon/alldata/A0501.mat', '/media/mountHDD2/khoibaocon/alldata/A0504.mat', '/media/mountHDD2/khoibaocon/alldata/A0505.mat', '/media/mountHDD2/khoibaocon/alldata/A0506.mat', '/media/mountHDD2/khoibaocon/alldata/A0507.mat', '/media/mountHDD2/khoibaocon/alldata/A0508.mat', '/media/mountHDD2/khoibaocon/alldata/A0509.mat', '/media/mountHDD2/khoibaocon/alldata/A0510.mat', '/media/mountHDD2/khoibaocon/alldata/A0511.mat', '/media/mountHDD2/khoibaocon/alldata/A0512.mat', '/media/mountHDD2/khoibaocon/alldata/A0513.mat', '/media/mountHDD2/khoibaocon/alldata/A0514.mat', '/media/mountHDD2/khoibaocon/alldata/A0515.mat', '/media/mountHDD2/khoibaocon/alldata/A0516.mat', '/media/mountHDD2/khoibaocon/alldata/A0517.mat', '/media/mountHDD2/khoibaocon/alldata/A0518.mat', '/media/mountHDD2/khoibaocon/alldata/A0519.mat', '/media/mountHDD2/khoibaocon/alldata/A0520.mat', '/media/mountHDD2/khoibaocon/alldata/A0521.mat', '/media/mountHDD2/khoibaocon/alldata/A0522.mat', '/media/mountHDD2/khoibaocon/alldata/A0523.mat', '/media/mountHDD2/khoibaocon/alldata/A0524.mat', '/media/mountHDD2/khoibaocon/alldata/A0525.mat', '/media/mountHDD2/khoibaocon/alldata/A0526.mat', '/media/mountHDD2/khoibaocon/alldata/A0527.mat', '/media/mountHDD2/khoibaocon/alldata/A0528.mat', '/media/mountHDD2/khoibaocon/alldata/A0529.mat', '/media/mountHDD2/khoibaocon/alldata/A0530.mat', '/media/mountHDD2/khoibaocon/alldata/A0531.mat', '/media/mountHDD2/khoibaocon/alldata/A0532.mat', '/media/mountHDD2/khoibaocon/alldata/A0533.mat', '/media/mountHDD2/khoibaocon/alldata/A0534.mat', '/media/mountHDD2/khoibaocon/alldata/A0535.mat', '/media/mountHDD2/khoibaocon/alldata/A0536.mat', '/media/mountHDD2/khoibaocon/alldata/A0537.mat', '/media/mountHDD2/khoibaocon/alldata/A0538.mat', '/media/mountHDD2/khoibaocon/alldata/A0539.mat', '/media/mountHDD2/khoibaocon/alldata/A0540.mat', '/media/mountHDD2/khoibaocon/alldata/A0541.mat', '/media/mountHDD2/khoibaocon/alldata/A0542.mat', '/media/mountHDD2/khoibaocon/alldata/A0543.mat', '/media/mountHDD2/khoibaocon/alldata/A0544.mat', '/media/mountHDD2/khoibaocon/alldata/A0545.mat', '/media/mountHDD2/khoibaocon/alldata/A0546.mat', '/media/mountHDD2/khoibaocon/alldata/A0547.mat', '/media/mountHDD2/khoibaocon/alldata/A0548.mat', '/media/mountHDD2/khoibaocon/alldata/A0549.mat', '/media/mountHDD2/khoibaocon/alldata/A0550.mat', '/media/mountHDD2/khoibaocon/alldata/A0551.mat', '/media/mountHDD2/khoibaocon/alldata/A0552.mat', '/media/mountHDD2/khoibaocon/alldata/A0553.mat', '/media/mountHDD2/khoibaocon/alldata/A0554.mat', '/media/mountHDD2/khoibaocon/alldata/A0555.mat', '/media/mountHDD2/khoibaocon/alldata/A0556.mat', '/media/mountHDD2/khoibaocon/alldata/A0558.mat', '/media/mountHDD2/khoibaocon/alldata/A0559.mat', '/media/mountHDD2/khoibaocon/alldata/A0560.mat', '/media/mountHDD2/khoibaocon/alldata/A0561.mat', '/media/mountHDD2/khoibaocon/alldata/A0562.mat', '/media/mountHDD2/khoibaocon/alldata/A0564.mat', '/media/mountHDD2/khoibaocon/alldata/A0565.mat', '/media/mountHDD2/khoibaocon/alldata/A0566.mat', '/media/mountHDD2/khoibaocon/alldata/A0567.mat', '/media/mountHDD2/khoibaocon/alldata/A0568.mat', '/media/mountHDD2/khoibaocon/alldata/A0569.mat', '/media/mountHDD2/khoibaocon/alldata/A0570.mat', '/media/mountHDD2/khoibaocon/alldata/A0571.mat', '/media/mountHDD2/khoibaocon/alldata/A0572.mat', '/media/mountHDD2/khoibaocon/alldata/A0573.mat', '/media/mountHDD2/khoibaocon/alldata/A0574.mat', '/media/mountHDD2/khoibaocon/alldata/A3252.mat', '/media/mountHDD2/khoibaocon/alldata/A0576.mat', '/media/mountHDD2/khoibaocon/alldata/A0577.mat', '/media/mountHDD2/khoibaocon/alldata/A0578.mat', '/media/mountHDD2/khoibaocon/alldata/A0579.mat', '/media/mountHDD2/khoibaocon/alldata/A0580.mat', '/media/mountHDD2/khoibaocon/alldata/A0581.mat', '/media/mountHDD2/khoibaocon/alldata/A0582.mat', '/media/mountHDD2/khoibaocon/alldata/A0583.mat', '/media/mountHDD2/khoibaocon/alldata/A0584.mat', '/media/mountHDD2/khoibaocon/alldata/A0585.mat', '/media/mountHDD2/khoibaocon/alldata/A0586.mat', '/media/mountHDD2/khoibaocon/alldata/A0587.mat', '/media/mountHDD2/khoibaocon/alldata/A0588.mat', '/media/mountHDD2/khoibaocon/alldata/A0589.mat', '/media/mountHDD2/khoibaocon/alldata/A0590.mat', '/media/mountHDD2/khoibaocon/alldata/A0591.mat', '/media/mountHDD2/khoibaocon/alldata/A0592.mat', '/media/mountHDD2/khoibaocon/alldata/A0594.mat', '/media/mountHDD2/khoibaocon/alldata/A0595.mat', '/media/mountHDD2/khoibaocon/alldata/A0596.mat', '/media/mountHDD2/khoibaocon/alldata/A0597.mat', '/media/mountHDD2/khoibaocon/alldata/A0598.mat', '/media/mountHDD2/khoibaocon/alldata/A0599.mat', '/media/mountHDD2/khoibaocon/alldata/A0600.mat', '/media/mountHDD2/khoibaocon/alldata/A0601.mat', '/media/mountHDD2/khoibaocon/alldata/A0602.mat', '/media/mountHDD2/khoibaocon/alldata/A4128.mat', '/media/mountHDD2/khoibaocon/alldata/A0604.mat', '/media/mountHDD2/khoibaocon/alldata/A0605.mat', '/media/mountHDD2/khoibaocon/alldata/A0606.mat', '/media/mountHDD2/khoibaocon/alldata/A0608.mat', '/media/mountHDD2/khoibaocon/alldata/A0609.mat', '/media/mountHDD2/khoibaocon/alldata/A0610.mat', '/media/mountHDD2/khoibaocon/alldata/A0611.mat', '/media/mountHDD2/khoibaocon/alldata/A0612.mat', '/media/mountHDD2/khoibaocon/alldata/A0613.mat', '/media/mountHDD2/khoibaocon/alldata/A0614.mat', '/media/mountHDD2/khoibaocon/alldata/A0615.mat', '/media/mountHDD2/khoibaocon/alldata/A0616.mat', '/media/mountHDD2/khoibaocon/alldata/A0617.mat', '/media/mountHDD2/khoibaocon/alldata/A0618.mat', '/media/mountHDD2/khoibaocon/alldata/A0619.mat', '/media/mountHDD2/khoibaocon/alldata/A0620.mat', '/media/mountHDD2/khoibaocon/alldata/A0621.mat', '/media/mountHDD2/khoibaocon/alldata/A0622.mat', '/media/mountHDD2/khoibaocon/alldata/A0623.mat', '/media/mountHDD2/khoibaocon/alldata/A0624.mat', '/media/mountHDD2/khoibaocon/alldata/A0625.mat', '/media/mountHDD2/khoibaocon/alldata/A0626.mat', '/media/mountHDD2/khoibaocon/alldata/A0627.mat', '/media/mountHDD2/khoibaocon/alldata/A0628.mat', '/media/mountHDD2/khoibaocon/alldata/A0629.mat', '/media/mountHDD2/khoibaocon/alldata/A0630.mat', '/media/mountHDD2/khoibaocon/alldata/A0631.mat', '/media/mountHDD2/khoibaocon/alldata/A0632.mat', '/media/mountHDD2/khoibaocon/alldata/A0633.mat', '/media/mountHDD2/khoibaocon/alldata/A0634.mat', '/media/mountHDD2/khoibaocon/alldata/A0635.mat', '/media/mountHDD2/khoibaocon/alldata/A0636.mat', '/media/mountHDD2/khoibaocon/alldata/A0637.mat', '/media/mountHDD2/khoibaocon/alldata/A0638.mat', '/media/mountHDD2/khoibaocon/alldata/A0639.mat', '/media/mountHDD2/khoibaocon/alldata/A0640.mat', '/media/mountHDD2/khoibaocon/alldata/A0641.mat', '/media/mountHDD2/khoibaocon/alldata/A0642.mat', '/media/mountHDD2/khoibaocon/alldata/A0644.mat', '/media/mountHDD2/khoibaocon/alldata/A0645.mat', '/media/mountHDD2/khoibaocon/alldata/A0646.mat', '/media/mountHDD2/khoibaocon/alldata/A0647.mat', '/media/mountHDD2/khoibaocon/alldata/A0648.mat', '/media/mountHDD2/khoibaocon/alldata/A0650.mat', '/media/mountHDD2/khoibaocon/alldata/A0651.mat', '/media/mountHDD2/khoibaocon/alldata/A0652.mat', '/media/mountHDD2/khoibaocon/alldata/A0653.mat', '/media/mountHDD2/khoibaocon/alldata/A0654.mat', '/media/mountHDD2/khoibaocon/alldata/A0655.mat', '/media/mountHDD2/khoibaocon/alldata/A0656.mat', '/media/mountHDD2/khoibaocon/alldata/A0657.mat', '/media/mountHDD2/khoibaocon/alldata/A0659.mat', '/media/mountHDD2/khoibaocon/alldata/A0660.mat', '/media/mountHDD2/khoibaocon/alldata/A0662.mat', '/media/mountHDD2/khoibaocon/alldata/A0663.mat', '/media/mountHDD2/khoibaocon/alldata/A0664.mat', '/media/mountHDD2/khoibaocon/alldata/A0665.mat', '/media/mountHDD2/khoibaocon/alldata/A0666.mat', '/media/mountHDD2/khoibaocon/alldata/A0668.mat', '/media/mountHDD2/khoibaocon/alldata/A0669.mat', '/media/mountHDD2/khoibaocon/alldata/A0671.mat', '/media/mountHDD2/khoibaocon/alldata/A0672.mat', '/media/mountHDD2/khoibaocon/alldata/A0673.mat', '/media/mountHDD2/khoibaocon/alldata/A0674.mat', '/media/mountHDD2/khoibaocon/alldata/A0676.mat', '/media/mountHDD2/khoibaocon/alldata/A0677.mat', '/media/mountHDD2/khoibaocon/alldata/A0678.mat', '/media/mountHDD2/khoibaocon/alldata/A0679.mat', '/media/mountHDD2/khoibaocon/alldata/A0680.mat', '/media/mountHDD2/khoibaocon/alldata/A0681.mat', '/media/mountHDD2/khoibaocon/alldata/A0682.mat', '/media/mountHDD2/khoibaocon/alldata/A0683.mat', '/media/mountHDD2/khoibaocon/alldata/A0684.mat', '/media/mountHDD2/khoibaocon/alldata/A0686.mat', '/media/mountHDD2/khoibaocon/alldata/A0687.mat', '/media/mountHDD2/khoibaocon/alldata/A0688.mat', '/media/mountHDD2/khoibaocon/alldata/A0689.mat', '/media/mountHDD2/khoibaocon/alldata/A0690.mat', '/media/mountHDD2/khoibaocon/alldata/A0691.mat', '/media/mountHDD2/khoibaocon/alldata/A0693.mat', '/media/mountHDD2/khoibaocon/alldata/A0694.mat', '/media/mountHDD2/khoibaocon/alldata/A0696.mat', '/media/mountHDD2/khoibaocon/alldata/A0697.mat', '/media/mountHDD2/khoibaocon/alldata/A0698.mat', '/media/mountHDD2/khoibaocon/alldata/A0699.mat', '/media/mountHDD2/khoibaocon/alldata/A0700.mat', '/media/mountHDD2/khoibaocon/alldata/A0701.mat', '/media/mountHDD2/khoibaocon/alldata/A0702.mat', '/media/mountHDD2/khoibaocon/alldata/A0703.mat', '/media/mountHDD2/khoibaocon/alldata/A0704.mat', '/media/mountHDD2/khoibaocon/alldata/A0705.mat', '/media/mountHDD2/khoibaocon/alldata/A0706.mat', '/media/mountHDD2/khoibaocon/alldata/A0707.mat', '/media/mountHDD2/khoibaocon/alldata/A0708.mat', '/media/mountHDD2/khoibaocon/alldata/A0709.mat', '/media/mountHDD2/khoibaocon/alldata/A0710.mat', '/media/mountHDD2/khoibaocon/alldata/A0711.mat', '/media/mountHDD2/khoibaocon/alldata/A0712.mat', '/media/mountHDD2/khoibaocon/alldata/A0713.mat', '/media/mountHDD2/khoibaocon/alldata/A0714.mat', '/media/mountHDD2/khoibaocon/alldata/A0715.mat', '/media/mountHDD2/khoibaocon/alldata/A0716.mat', '/media/mountHDD2/khoibaocon/alldata/A0717.mat', '/media/mountHDD2/khoibaocon/alldata/A0718.mat', '/media/mountHDD2/khoibaocon/alldata/A0719.mat', '/media/mountHDD2/khoibaocon/alldata/A0720.mat', '/media/mountHDD2/khoibaocon/alldata/A0721.mat', '/media/mountHDD2/khoibaocon/alldata/A0722.mat', '/media/mountHDD2/khoibaocon/alldata/A0723.mat', '/media/mountHDD2/khoibaocon/alldata/A0724.mat', '/media/mountHDD2/khoibaocon/alldata/A0725.mat', '/media/mountHDD2/khoibaocon/alldata/A0726.mat', '/media/mountHDD2/khoibaocon/alldata/A0727.mat', '/media/mountHDD2/khoibaocon/alldata/A0728.mat', '/media/mountHDD2/khoibaocon/alldata/A0729.mat', '/media/mountHDD2/khoibaocon/alldata/A0730.mat', '/media/mountHDD2/khoibaocon/alldata/A0731.mat', '/media/mountHDD2/khoibaocon/alldata/A0732.mat', '/media/mountHDD2/khoibaocon/alldata/A0733.mat', '/media/mountHDD2/khoibaocon/alldata/A0734.mat', '/media/mountHDD2/khoibaocon/alldata/A0735.mat', '/media/mountHDD2/khoibaocon/alldata/A0736.mat', '/media/mountHDD2/khoibaocon/alldata/A0737.mat', '/media/mountHDD2/khoibaocon/alldata/A0738.mat', '/media/mountHDD2/khoibaocon/alldata/A0739.mat', '/media/mountHDD2/khoibaocon/alldata/A0740.mat', '/media/mountHDD2/khoibaocon/alldata/A0741.mat', '/media/mountHDD2/khoibaocon/alldata/A0742.mat', '/media/mountHDD2/khoibaocon/alldata/A0743.mat', '/media/mountHDD2/khoibaocon/alldata/A0744.mat', '/media/mountHDD2/khoibaocon/alldata/A0745.mat', '/media/mountHDD2/khoibaocon/alldata/A0746.mat', '/media/mountHDD2/khoibaocon/alldata/A0747.mat', '/media/mountHDD2/khoibaocon/alldata/A0748.mat', '/media/mountHDD2/khoibaocon/alldata/A0749.mat', '/media/mountHDD2/khoibaocon/alldata/A0750.mat', '/media/mountHDD2/khoibaocon/alldata/A0751.mat', '/media/mountHDD2/khoibaocon/alldata/A0752.mat', '/media/mountHDD2/khoibaocon/alldata/A0753.mat', '/media/mountHDD2/khoibaocon/alldata/A0754.mat', '/media/mountHDD2/khoibaocon/alldata/A0755.mat', '/media/mountHDD2/khoibaocon/alldata/A0756.mat', '/media/mountHDD2/khoibaocon/alldata/A0757.mat', '/media/mountHDD2/khoibaocon/alldata/A0758.mat', '/media/mountHDD2/khoibaocon/alldata/A0759.mat', '/media/mountHDD2/khoibaocon/alldata/A0760.mat', '/media/mountHDD2/khoibaocon/alldata/A0761.mat', '/media/mountHDD2/khoibaocon/alldata/A0762.mat', '/media/mountHDD2/khoibaocon/alldata/A0763.mat', '/media/mountHDD2/khoibaocon/alldata/A0764.mat', '/media/mountHDD2/khoibaocon/alldata/A0765.mat', '/media/mountHDD2/khoibaocon/alldata/A0766.mat', '/media/mountHDD2/khoibaocon/alldata/A0767.mat', '/media/mountHDD2/khoibaocon/alldata/A0768.mat', '/media/mountHDD2/khoibaocon/alldata/A0769.mat', '/media/mountHDD2/khoibaocon/alldata/A0770.mat', '/media/mountHDD2/khoibaocon/alldata/A0771.mat', '/media/mountHDD2/khoibaocon/alldata/A0772.mat', '/media/mountHDD2/khoibaocon/alldata/A0773.mat', '/media/mountHDD2/khoibaocon/alldata/A0774.mat', '/media/mountHDD2/khoibaocon/alldata/A0775.mat', '/media/mountHDD2/khoibaocon/alldata/A0776.mat', '/media/mountHDD2/khoibaocon/alldata/A0777.mat', '/media/mountHDD2/khoibaocon/alldata/A0778.mat', '/media/mountHDD2/khoibaocon/alldata/A0779.mat', '/media/mountHDD2/khoibaocon/alldata/A0780.mat', '/media/mountHDD2/khoibaocon/alldata/A0781.mat', '/media/mountHDD2/khoibaocon/alldata/A0783.mat', '/media/mountHDD2/khoibaocon/alldata/A0784.mat', '/media/mountHDD2/khoibaocon/alldata/A0785.mat', '/media/mountHDD2/khoibaocon/alldata/A0786.mat', '/media/mountHDD2/khoibaocon/alldata/A0787.mat', '/media/mountHDD2/khoibaocon/alldata/A0788.mat', '/media/mountHDD2/khoibaocon/alldata/A0789.mat', '/media/mountHDD2/khoibaocon/alldata/A0790.mat', '/media/mountHDD2/khoibaocon/alldata/A0791.mat', '/media/mountHDD2/khoibaocon/alldata/A0792.mat', '/media/mountHDD2/khoibaocon/alldata/A0793.mat', '/media/mountHDD2/khoibaocon/alldata/A0794.mat', '/media/mountHDD2/khoibaocon/alldata/A0795.mat', '/media/mountHDD2/khoibaocon/alldata/A0797.mat', '/media/mountHDD2/khoibaocon/alldata/A0798.mat', '/media/mountHDD2/khoibaocon/alldata/A0799.mat', '/media/mountHDD2/khoibaocon/alldata/A0800.mat', '/media/mountHDD2/khoibaocon/alldata/A0801.mat', '/media/mountHDD2/khoibaocon/alldata/A0802.mat', '/media/mountHDD2/khoibaocon/alldata/A0803.mat', '/media/mountHDD2/khoibaocon/alldata/A0805.mat', '/media/mountHDD2/khoibaocon/alldata/A0806.mat', '/media/mountHDD2/khoibaocon/alldata/A0807.mat', '/media/mountHDD2/khoibaocon/alldata/A0808.mat', '/media/mountHDD2/khoibaocon/alldata/A0809.mat', '/media/mountHDD2/khoibaocon/alldata/A0810.mat', '/media/mountHDD2/khoibaocon/alldata/A0811.mat', '/media/mountHDD2/khoibaocon/alldata/A0812.mat', '/media/mountHDD2/khoibaocon/alldata/A6564.mat', '/media/mountHDD2/khoibaocon/alldata/A0814.mat', '/media/mountHDD2/khoibaocon/alldata/A0815.mat', '/media/mountHDD2/khoibaocon/alldata/A0816.mat', '/media/mountHDD2/khoibaocon/alldata/A0817.mat', '/media/mountHDD2/khoibaocon/alldata/A0818.mat', '/media/mountHDD2/khoibaocon/alldata/A0819.mat', '/media/mountHDD2/khoibaocon/alldata/A0820.mat', '/media/mountHDD2/khoibaocon/alldata/A0821.mat', '/media/mountHDD2/khoibaocon/alldata/A0822.mat', '/media/mountHDD2/khoibaocon/alldata/A0823.mat', '/media/mountHDD2/khoibaocon/alldata/A0824.mat', '/media/mountHDD2/khoibaocon/alldata/A0825.mat', '/media/mountHDD2/khoibaocon/alldata/A0826.mat', '/media/mountHDD2/khoibaocon/alldata/A0827.mat', '/media/mountHDD2/khoibaocon/alldata/A0828.mat', '/media/mountHDD2/khoibaocon/alldata/A0829.mat', '/media/mountHDD2/khoibaocon/alldata/A0830.mat', '/media/mountHDD2/khoibaocon/alldata/A0831.mat', '/media/mountHDD2/khoibaocon/alldata/A0832.mat', '/media/mountHDD2/khoibaocon/alldata/A0836.mat', '/media/mountHDD2/khoibaocon/alldata/A0837.mat', '/media/mountHDD2/khoibaocon/alldata/A0838.mat', '/media/mountHDD2/khoibaocon/alldata/A0839.mat', '/media/mountHDD2/khoibaocon/alldata/A0840.mat', '/media/mountHDD2/khoibaocon/alldata/A0841.mat', '/media/mountHDD2/khoibaocon/alldata/A0842.mat', '/media/mountHDD2/khoibaocon/alldata/A0843.mat', '/media/mountHDD2/khoibaocon/alldata/A0844.mat', '/media/mountHDD2/khoibaocon/alldata/A0845.mat', '/media/mountHDD2/khoibaocon/alldata/A0846.mat', '/media/mountHDD2/khoibaocon/alldata/A0847.mat', '/media/mountHDD2/khoibaocon/alldata/A0849.mat', '/media/mountHDD2/khoibaocon/alldata/A0850.mat', '/media/mountHDD2/khoibaocon/alldata/A0851.mat', '/media/mountHDD2/khoibaocon/alldata/A0852.mat', '/media/mountHDD2/khoibaocon/alldata/A0853.mat', '/media/mountHDD2/khoibaocon/alldata/A0855.mat', '/media/mountHDD2/khoibaocon/alldata/A0856.mat', '/media/mountHDD2/khoibaocon/alldata/A0858.mat', '/media/mountHDD2/khoibaocon/alldata/A0859.mat', '/media/mountHDD2/khoibaocon/alldata/A0860.mat', '/media/mountHDD2/khoibaocon/alldata/A0861.mat', '/media/mountHDD2/khoibaocon/alldata/A0863.mat', '/media/mountHDD2/khoibaocon/alldata/A0864.mat', '/media/mountHDD2/khoibaocon/alldata/A0865.mat', '/media/mountHDD2/khoibaocon/alldata/A0866.mat', '/media/mountHDD2/khoibaocon/alldata/A0867.mat', '/media/mountHDD2/khoibaocon/alldata/A0868.mat', '/media/mountHDD2/khoibaocon/alldata/A0869.mat', '/media/mountHDD2/khoibaocon/alldata/A0870.mat', '/media/mountHDD2/khoibaocon/alldata/A0871.mat', '/media/mountHDD2/khoibaocon/alldata/A0872.mat', '/media/mountHDD2/khoibaocon/alldata/A0873.mat', '/media/mountHDD2/khoibaocon/alldata/A0874.mat', '/media/mountHDD2/khoibaocon/alldata/A0875.mat', '/media/mountHDD2/khoibaocon/alldata/A0876.mat', '/media/mountHDD2/khoibaocon/alldata/A3389.mat', '/media/mountHDD2/khoibaocon/alldata/A0878.mat', '/media/mountHDD2/khoibaocon/alldata/A0879.mat', '/media/mountHDD2/khoibaocon/alldata/A0880.mat', '/media/mountHDD2/khoibaocon/alldata/A0882.mat', '/media/mountHDD2/khoibaocon/alldata/A0885.mat', '/media/mountHDD2/khoibaocon/alldata/A0886.mat', '/media/mountHDD2/khoibaocon/alldata/A0887.mat', '/media/mountHDD2/khoibaocon/alldata/A0888.mat', '/media/mountHDD2/khoibaocon/alldata/A0889.mat', '/media/mountHDD2/khoibaocon/alldata/A0890.mat', '/media/mountHDD2/khoibaocon/alldata/A0891.mat', '/media/mountHDD2/khoibaocon/alldata/A0892.mat', '/media/mountHDD2/khoibaocon/alldata/A0893.mat', '/media/mountHDD2/khoibaocon/alldata/A0894.mat', '/media/mountHDD2/khoibaocon/alldata/A0895.mat', '/media/mountHDD2/khoibaocon/alldata/A0896.mat', '/media/mountHDD2/khoibaocon/alldata/A0897.mat', '/media/mountHDD2/khoibaocon/alldata/A0898.mat', '/media/mountHDD2/khoibaocon/alldata/A0899.mat', '/media/mountHDD2/khoibaocon/alldata/A0900.mat', '/media/mountHDD2/khoibaocon/alldata/A0901.mat', '/media/mountHDD2/khoibaocon/alldata/A0902.mat', '/media/mountHDD2/khoibaocon/alldata/A0903.mat', '/media/mountHDD2/khoibaocon/alldata/A0904.mat', '/media/mountHDD2/khoibaocon/alldata/A0905.mat', '/media/mountHDD2/khoibaocon/alldata/A0906.mat', '/media/mountHDD2/khoibaocon/alldata/A0907.mat', '/media/mountHDD2/khoibaocon/alldata/A0908.mat', '/media/mountHDD2/khoibaocon/alldata/A0909.mat', '/media/mountHDD2/khoibaocon/alldata/A0911.mat', '/media/mountHDD2/khoibaocon/alldata/A0912.mat', '/media/mountHDD2/khoibaocon/alldata/A0913.mat', '/media/mountHDD2/khoibaocon/alldata/A0914.mat', '/media/mountHDD2/khoibaocon/alldata/A0915.mat', '/media/mountHDD2/khoibaocon/alldata/A0916.mat', '/media/mountHDD2/khoibaocon/alldata/A0917.mat', '/media/mountHDD2/khoibaocon/alldata/A0918.mat', '/media/mountHDD2/khoibaocon/alldata/A0920.mat', '/media/mountHDD2/khoibaocon/alldata/A0921.mat', '/media/mountHDD2/khoibaocon/alldata/A0922.mat', '/media/mountHDD2/khoibaocon/alldata/A0923.mat', '/media/mountHDD2/khoibaocon/alldata/A0924.mat', '/media/mountHDD2/khoibaocon/alldata/A0925.mat', '/media/mountHDD2/khoibaocon/alldata/A0926.mat', '/media/mountHDD2/khoibaocon/alldata/A0927.mat', '/media/mountHDD2/khoibaocon/alldata/A0928.mat', '/media/mountHDD2/khoibaocon/alldata/A0929.mat', '/media/mountHDD2/khoibaocon/alldata/A0930.mat', '/media/mountHDD2/khoibaocon/alldata/A0931.mat', '/media/mountHDD2/khoibaocon/alldata/A0933.mat', '/media/mountHDD2/khoibaocon/alldata/A0934.mat', '/media/mountHDD2/khoibaocon/alldata/A0935.mat', '/media/mountHDD2/khoibaocon/alldata/A0936.mat', '/media/mountHDD2/khoibaocon/alldata/A0937.mat', '/media/mountHDD2/khoibaocon/alldata/A0938.mat', '/media/mountHDD2/khoibaocon/alldata/A0939.mat', '/media/mountHDD2/khoibaocon/alldata/A0940.mat', '/media/mountHDD2/khoibaocon/alldata/A0941.mat', '/media/mountHDD2/khoibaocon/alldata/A0942.mat', '/media/mountHDD2/khoibaocon/alldata/A0943.mat', '/media/mountHDD2/khoibaocon/alldata/A0944.mat', '/media/mountHDD2/khoibaocon/alldata/A0945.mat', '/media/mountHDD2/khoibaocon/alldata/A0946.mat', '/media/mountHDD2/khoibaocon/alldata/A0947.mat', '/media/mountHDD2/khoibaocon/alldata/A0948.mat', '/media/mountHDD2/khoibaocon/alldata/A0949.mat', '/media/mountHDD2/khoibaocon/alldata/A0950.mat', '/media/mountHDD2/khoibaocon/alldata/A0951.mat', '/media/mountHDD2/khoibaocon/alldata/A0952.mat', '/media/mountHDD2/khoibaocon/alldata/A0954.mat', '/media/mountHDD2/khoibaocon/alldata/A0955.mat', '/media/mountHDD2/khoibaocon/alldata/A0956.mat', '/media/mountHDD2/khoibaocon/alldata/A0957.mat', '/media/mountHDD2/khoibaocon/alldata/A0958.mat', '/media/mountHDD2/khoibaocon/alldata/A0959.mat', '/media/mountHDD2/khoibaocon/alldata/A0960.mat', '/media/mountHDD2/khoibaocon/alldata/A0961.mat', '/media/mountHDD2/khoibaocon/alldata/A0962.mat', '/media/mountHDD2/khoibaocon/alldata/A0963.mat', '/media/mountHDD2/khoibaocon/alldata/A0964.mat', '/media/mountHDD2/khoibaocon/alldata/A0965.mat', '/media/mountHDD2/khoibaocon/alldata/A0966.mat', '/media/mountHDD2/khoibaocon/alldata/A0967.mat', '/media/mountHDD2/khoibaocon/alldata/A0968.mat', '/media/mountHDD2/khoibaocon/alldata/A0969.mat', '/media/mountHDD2/khoibaocon/alldata/A0970.mat', '/media/mountHDD2/khoibaocon/alldata/A0972.mat', '/media/mountHDD2/khoibaocon/alldata/A0973.mat', '/media/mountHDD2/khoibaocon/alldata/A0974.mat', '/media/mountHDD2/khoibaocon/alldata/A0975.mat', '/media/mountHDD2/khoibaocon/alldata/A0976.mat', '/media/mountHDD2/khoibaocon/alldata/A0977.mat', '/media/mountHDD2/khoibaocon/alldata/A0978.mat', '/media/mountHDD2/khoibaocon/alldata/A0980.mat', '/media/mountHDD2/khoibaocon/alldata/A0981.mat', '/media/mountHDD2/khoibaocon/alldata/A0982.mat', '/media/mountHDD2/khoibaocon/alldata/A0983.mat', '/media/mountHDD2/khoibaocon/alldata/A0984.mat', '/media/mountHDD2/khoibaocon/alldata/A0985.mat', '/media/mountHDD2/khoibaocon/alldata/A0986.mat', '/media/mountHDD2/khoibaocon/alldata/A0987.mat', '/media/mountHDD2/khoibaocon/alldata/A0988.mat', '/media/mountHDD2/khoibaocon/alldata/A0989.mat', '/media/mountHDD2/khoibaocon/alldata/A0990.mat', '/media/mountHDD2/khoibaocon/alldata/A0991.mat', '/media/mountHDD2/khoibaocon/alldata/A0992.mat', '/media/mountHDD2/khoibaocon/alldata/A0993.mat', '/media/mountHDD2/khoibaocon/alldata/A0994.mat', '/media/mountHDD2/khoibaocon/alldata/A0995.mat', '/media/mountHDD2/khoibaocon/alldata/A0996.mat', '/media/mountHDD2/khoibaocon/alldata/A0997.mat', '/media/mountHDD2/khoibaocon/alldata/A0998.mat', '/media/mountHDD2/khoibaocon/alldata/A0999.mat', '/media/mountHDD2/khoibaocon/alldata/A1000.mat', '/media/mountHDD2/khoibaocon/alldata/A1001.mat', '/media/mountHDD2/khoibaocon/alldata/A1002.mat', '/media/mountHDD2/khoibaocon/alldata/A1004.mat', '/media/mountHDD2/khoibaocon/alldata/A1005.mat', '/media/mountHDD2/khoibaocon/alldata/A1006.mat', '/media/mountHDD2/khoibaocon/alldata/A1007.mat', '/media/mountHDD2/khoibaocon/alldata/A1008.mat', '/media/mountHDD2/khoibaocon/alldata/A1009.mat', '/media/mountHDD2/khoibaocon/alldata/A1010.mat', '/media/mountHDD2/khoibaocon/alldata/A1011.mat', '/media/mountHDD2/khoibaocon/alldata/A1012.mat', '/media/mountHDD2/khoibaocon/alldata/A1013.mat', '/media/mountHDD2/khoibaocon/alldata/A1014.mat', '/media/mountHDD2/khoibaocon/alldata/A1015.mat', '/media/mountHDD2/khoibaocon/alldata/A1016.mat', '/media/mountHDD2/khoibaocon/alldata/A1017.mat', '/media/mountHDD2/khoibaocon/alldata/A1018.mat', '/media/mountHDD2/khoibaocon/alldata/A1019.mat', '/media/mountHDD2/khoibaocon/alldata/A1020.mat', '/media/mountHDD2/khoibaocon/alldata/A1021.mat', '/media/mountHDD2/khoibaocon/alldata/A1022.mat', '/media/mountHDD2/khoibaocon/alldata/A1023.mat', '/media/mountHDD2/khoibaocon/alldata/A1024.mat', '/media/mountHDD2/khoibaocon/alldata/A1025.mat', '/media/mountHDD2/khoibaocon/alldata/A1026.mat', '/media/mountHDD2/khoibaocon/alldata/A1028.mat', '/media/mountHDD2/khoibaocon/alldata/A1030.mat', '/media/mountHDD2/khoibaocon/alldata/A1031.mat', '/media/mountHDD2/khoibaocon/alldata/A1032.mat', '/media/mountHDD2/khoibaocon/alldata/A1033.mat', '/media/mountHDD2/khoibaocon/alldata/A1034.mat', '/media/mountHDD2/khoibaocon/alldata/A1035.mat', '/media/mountHDD2/khoibaocon/alldata/A1036.mat', '/media/mountHDD2/khoibaocon/alldata/A1037.mat', '/media/mountHDD2/khoibaocon/alldata/A1038.mat', '/media/mountHDD2/khoibaocon/alldata/A1039.mat', '/media/mountHDD2/khoibaocon/alldata/A1040.mat', '/media/mountHDD2/khoibaocon/alldata/A1042.mat', '/media/mountHDD2/khoibaocon/alldata/A1045.mat', '/media/mountHDD2/khoibaocon/alldata/A1046.mat', '/media/mountHDD2/khoibaocon/alldata/A1048.mat', '/media/mountHDD2/khoibaocon/alldata/A1049.mat', '/media/mountHDD2/khoibaocon/alldata/A1050.mat', '/media/mountHDD2/khoibaocon/alldata/A1051.mat', '/media/mountHDD2/khoibaocon/alldata/A1052.mat', '/media/mountHDD2/khoibaocon/alldata/A1053.mat', '/media/mountHDD2/khoibaocon/alldata/A1054.mat', '/media/mountHDD2/khoibaocon/alldata/A1056.mat', '/media/mountHDD2/khoibaocon/alldata/A1057.mat', '/media/mountHDD2/khoibaocon/alldata/A1058.mat', '/media/mountHDD2/khoibaocon/alldata/A1059.mat', '/media/mountHDD2/khoibaocon/alldata/A1060.mat', '/media/mountHDD2/khoibaocon/alldata/A1062.mat', '/media/mountHDD2/khoibaocon/alldata/A1063.mat', '/media/mountHDD2/khoibaocon/alldata/A1064.mat', '/media/mountHDD2/khoibaocon/alldata/A1066.mat', '/media/mountHDD2/khoibaocon/alldata/A1067.mat', '/media/mountHDD2/khoibaocon/alldata/A1068.mat', '/media/mountHDD2/khoibaocon/alldata/A1069.mat', '/media/mountHDD2/khoibaocon/alldata/A1070.mat', '/media/mountHDD2/khoibaocon/alldata/A1071.mat', '/media/mountHDD2/khoibaocon/alldata/A1072.mat', '/media/mountHDD2/khoibaocon/alldata/A1075.mat', '/media/mountHDD2/khoibaocon/alldata/A1076.mat', '/media/mountHDD2/khoibaocon/alldata/A1077.mat', '/media/mountHDD2/khoibaocon/alldata/A1078.mat', '/media/mountHDD2/khoibaocon/alldata/A1079.mat', '/media/mountHDD2/khoibaocon/alldata/A1080.mat', '/media/mountHDD2/khoibaocon/alldata/A1081.mat', '/media/mountHDD2/khoibaocon/alldata/A1082.mat', '/media/mountHDD2/khoibaocon/alldata/A1083.mat', '/media/mountHDD2/khoibaocon/alldata/A1084.mat', '/media/mountHDD2/khoibaocon/alldata/A1085.mat', '/media/mountHDD2/khoibaocon/alldata/A1086.mat', '/media/mountHDD2/khoibaocon/alldata/A1087.mat', '/media/mountHDD2/khoibaocon/alldata/A1088.mat', '/media/mountHDD2/khoibaocon/alldata/A1089.mat', '/media/mountHDD2/khoibaocon/alldata/A1090.mat', '/media/mountHDD2/khoibaocon/alldata/A1091.mat', '/media/mountHDD2/khoibaocon/alldata/A1092.mat', '/media/mountHDD2/khoibaocon/alldata/A1093.mat', '/media/mountHDD2/khoibaocon/alldata/A1095.mat', '/media/mountHDD2/khoibaocon/alldata/A1096.mat', '/media/mountHDD2/khoibaocon/alldata/A1097.mat', '/media/mountHDD2/khoibaocon/alldata/A1098.mat', '/media/mountHDD2/khoibaocon/alldata/A1099.mat', '/media/mountHDD2/khoibaocon/alldata/A1100.mat', '/media/mountHDD2/khoibaocon/alldata/A1101.mat', '/media/mountHDD2/khoibaocon/alldata/A1102.mat', '/media/mountHDD2/khoibaocon/alldata/A1103.mat', '/media/mountHDD2/khoibaocon/alldata/A1104.mat', '/media/mountHDD2/khoibaocon/alldata/A1105.mat', '/media/mountHDD2/khoibaocon/alldata/A1106.mat', '/media/mountHDD2/khoibaocon/alldata/A1107.mat', '/media/mountHDD2/khoibaocon/alldata/A1109.mat', '/media/mountHDD2/khoibaocon/alldata/A1110.mat', '/media/mountHDD2/khoibaocon/alldata/A1111.mat', '/media/mountHDD2/khoibaocon/alldata/A1112.mat', '/media/mountHDD2/khoibaocon/alldata/A1113.mat', '/media/mountHDD2/khoibaocon/alldata/A1114.mat', '/media/mountHDD2/khoibaocon/alldata/A1115.mat', '/media/mountHDD2/khoibaocon/alldata/A1116.mat', '/media/mountHDD2/khoibaocon/alldata/A1117.mat', '/media/mountHDD2/khoibaocon/alldata/A1119.mat', '/media/mountHDD2/khoibaocon/alldata/A1120.mat', '/media/mountHDD2/khoibaocon/alldata/A1121.mat', '/media/mountHDD2/khoibaocon/alldata/A1122.mat', '/media/mountHDD2/khoibaocon/alldata/A1123.mat', '/media/mountHDD2/khoibaocon/alldata/A1124.mat', '/media/mountHDD2/khoibaocon/alldata/A1125.mat', '/media/mountHDD2/khoibaocon/alldata/A1126.mat', '/media/mountHDD2/khoibaocon/alldata/A1127.mat', '/media/mountHDD2/khoibaocon/alldata/A1128.mat', '/media/mountHDD2/khoibaocon/alldata/A1129.mat', '/media/mountHDD2/khoibaocon/alldata/A1130.mat', '/media/mountHDD2/khoibaocon/alldata/A1131.mat', '/media/mountHDD2/khoibaocon/alldata/A1132.mat', '/media/mountHDD2/khoibaocon/alldata/A1133.mat', '/media/mountHDD2/khoibaocon/alldata/A1134.mat', '/media/mountHDD2/khoibaocon/alldata/A6408.mat', '/media/mountHDD2/khoibaocon/alldata/A1136.mat', '/media/mountHDD2/khoibaocon/alldata/A1137.mat', '/media/mountHDD2/khoibaocon/alldata/A1138.mat', '/media/mountHDD2/khoibaocon/alldata/A1139.mat', '/media/mountHDD2/khoibaocon/alldata/A1140.mat', '/media/mountHDD2/khoibaocon/alldata/A1141.mat', '/media/mountHDD2/khoibaocon/alldata/A1142.mat', '/media/mountHDD2/khoibaocon/alldata/A1143.mat', '/media/mountHDD2/khoibaocon/alldata/A1144.mat', '/media/mountHDD2/khoibaocon/alldata/A1145.mat', '/media/mountHDD2/khoibaocon/alldata/A1146.mat', '/media/mountHDD2/khoibaocon/alldata/A1147.mat', '/media/mountHDD2/khoibaocon/alldata/A1148.mat', '/media/mountHDD2/khoibaocon/alldata/A1149.mat', '/media/mountHDD2/khoibaocon/alldata/A1150.mat', '/media/mountHDD2/khoibaocon/alldata/A1151.mat', '/media/mountHDD2/khoibaocon/alldata/A1152.mat', '/media/mountHDD2/khoibaocon/alldata/A1153.mat', '/media/mountHDD2/khoibaocon/alldata/A1154.mat', '/media/mountHDD2/khoibaocon/alldata/A1155.mat', '/media/mountHDD2/khoibaocon/alldata/A1156.mat', '/media/mountHDD2/khoibaocon/alldata/A1157.mat', '/media/mountHDD2/khoibaocon/alldata/A1158.mat', '/media/mountHDD2/khoibaocon/alldata/A1159.mat', '/media/mountHDD2/khoibaocon/alldata/A1160.mat', '/media/mountHDD2/khoibaocon/alldata/A1161.mat', '/media/mountHDD2/khoibaocon/alldata/A1162.mat', '/media/mountHDD2/khoibaocon/alldata/A1163.mat', '/media/mountHDD2/khoibaocon/alldata/A1165.mat', '/media/mountHDD2/khoibaocon/alldata/A1166.mat', '/media/mountHDD2/khoibaocon/alldata/A1167.mat', '/media/mountHDD2/khoibaocon/alldata/A1168.mat', '/media/mountHDD2/khoibaocon/alldata/A1169.mat', '/media/mountHDD2/khoibaocon/alldata/A1170.mat', '/media/mountHDD2/khoibaocon/alldata/A1172.mat', '/media/mountHDD2/khoibaocon/alldata/A1173.mat', '/media/mountHDD2/khoibaocon/alldata/A1174.mat', '/media/mountHDD2/khoibaocon/alldata/A1175.mat', '/media/mountHDD2/khoibaocon/alldata/A1176.mat', '/media/mountHDD2/khoibaocon/alldata/A1177.mat', '/media/mountHDD2/khoibaocon/alldata/A1178.mat', '/media/mountHDD2/khoibaocon/alldata/A1179.mat', '/media/mountHDD2/khoibaocon/alldata/A1180.mat', '/media/mountHDD2/khoibaocon/alldata/A1181.mat', '/media/mountHDD2/khoibaocon/alldata/A1182.mat', '/media/mountHDD2/khoibaocon/alldata/A1183.mat', '/media/mountHDD2/khoibaocon/alldata/A1184.mat', '/media/mountHDD2/khoibaocon/alldata/A1186.mat', '/media/mountHDD2/khoibaocon/alldata/A1187.mat', '/media/mountHDD2/khoibaocon/alldata/A1188.mat', '/media/mountHDD2/khoibaocon/alldata/A1189.mat', '/media/mountHDD2/khoibaocon/alldata/A1190.mat', '/media/mountHDD2/khoibaocon/alldata/A1191.mat', '/media/mountHDD2/khoibaocon/alldata/A1192.mat', '/media/mountHDD2/khoibaocon/alldata/A1194.mat', '/media/mountHDD2/khoibaocon/alldata/A1195.mat', '/media/mountHDD2/khoibaocon/alldata/A1196.mat', '/media/mountHDD2/khoibaocon/alldata/A1197.mat', '/media/mountHDD2/khoibaocon/alldata/A1198.mat', '/media/mountHDD2/khoibaocon/alldata/A1199.mat', '/media/mountHDD2/khoibaocon/alldata/A1200.mat', '/media/mountHDD2/khoibaocon/alldata/A1201.mat', '/media/mountHDD2/khoibaocon/alldata/A1202.mat', '/media/mountHDD2/khoibaocon/alldata/A1203.mat', '/media/mountHDD2/khoibaocon/alldata/A1204.mat', '/media/mountHDD2/khoibaocon/alldata/A1205.mat', '/media/mountHDD2/khoibaocon/alldata/A1206.mat', '/media/mountHDD2/khoibaocon/alldata/A1207.mat', '/media/mountHDD2/khoibaocon/alldata/A1208.mat', '/media/mountHDD2/khoibaocon/alldata/A1209.mat', '/media/mountHDD2/khoibaocon/alldata/A1210.mat', '/media/mountHDD2/khoibaocon/alldata/A1211.mat', '/media/mountHDD2/khoibaocon/alldata/A1212.mat', '/media/mountHDD2/khoibaocon/alldata/A1213.mat', '/media/mountHDD2/khoibaocon/alldata/A1214.mat', '/media/mountHDD2/khoibaocon/alldata/A1215.mat', '/media/mountHDD2/khoibaocon/alldata/A1216.mat', '/media/mountHDD2/khoibaocon/alldata/A1217.mat', '/media/mountHDD2/khoibaocon/alldata/A1218.mat', '/media/mountHDD2/khoibaocon/alldata/A1219.mat', '/media/mountHDD2/khoibaocon/alldata/A1220.mat', '/media/mountHDD2/khoibaocon/alldata/A1221.mat', '/media/mountHDD2/khoibaocon/alldata/A1222.mat', '/media/mountHDD2/khoibaocon/alldata/A1223.mat', '/media/mountHDD2/khoibaocon/alldata/A1224.mat', '/media/mountHDD2/khoibaocon/alldata/A1225.mat', '/media/mountHDD2/khoibaocon/alldata/A1226.mat', '/media/mountHDD2/khoibaocon/alldata/A1227.mat', '/media/mountHDD2/khoibaocon/alldata/A1229.mat', '/media/mountHDD2/khoibaocon/alldata/A1230.mat', '/media/mountHDD2/khoibaocon/alldata/A1231.mat', '/media/mountHDD2/khoibaocon/alldata/A1232.mat', '/media/mountHDD2/khoibaocon/alldata/A1234.mat', '/media/mountHDD2/khoibaocon/alldata/A1235.mat', '/media/mountHDD2/khoibaocon/alldata/A1237.mat', '/media/mountHDD2/khoibaocon/alldata/A1238.mat', '/media/mountHDD2/khoibaocon/alldata/A1239.mat', '/media/mountHDD2/khoibaocon/alldata/A1240.mat', '/media/mountHDD2/khoibaocon/alldata/A1241.mat', '/media/mountHDD2/khoibaocon/alldata/A1242.mat', '/media/mountHDD2/khoibaocon/alldata/A1243.mat', '/media/mountHDD2/khoibaocon/alldata/A1244.mat', '/media/mountHDD2/khoibaocon/alldata/A1245.mat', '/media/mountHDD2/khoibaocon/alldata/A1246.mat', '/media/mountHDD2/khoibaocon/alldata/A1247.mat', '/media/mountHDD2/khoibaocon/alldata/A1248.mat', '/media/mountHDD2/khoibaocon/alldata/A1249.mat', '/media/mountHDD2/khoibaocon/alldata/A1250.mat', '/media/mountHDD2/khoibaocon/alldata/A1251.mat', '/media/mountHDD2/khoibaocon/alldata/A1252.mat', '/media/mountHDD2/khoibaocon/alldata/A1253.mat', '/media/mountHDD2/khoibaocon/alldata/A1254.mat', '/media/mountHDD2/khoibaocon/alldata/A1255.mat', '/media/mountHDD2/khoibaocon/alldata/A1256.mat', '/media/mountHDD2/khoibaocon/alldata/A1257.mat', '/media/mountHDD2/khoibaocon/alldata/A1258.mat', '/media/mountHDD2/khoibaocon/alldata/A1259.mat', '/media/mountHDD2/khoibaocon/alldata/A1260.mat', '/media/mountHDD2/khoibaocon/alldata/A1261.mat', '/media/mountHDD2/khoibaocon/alldata/A1263.mat', '/media/mountHDD2/khoibaocon/alldata/A1264.mat', '/media/mountHDD2/khoibaocon/alldata/A1265.mat', '/media/mountHDD2/khoibaocon/alldata/A1266.mat', '/media/mountHDD2/khoibaocon/alldata/A1267.mat', '/media/mountHDD2/khoibaocon/alldata/A1268.mat', '/media/mountHDD2/khoibaocon/alldata/A1269.mat', '/media/mountHDD2/khoibaocon/alldata/A1270.mat', '/media/mountHDD2/khoibaocon/alldata/A1271.mat', '/media/mountHDD2/khoibaocon/alldata/A1272.mat', '/media/mountHDD2/khoibaocon/alldata/A1273.mat', '/media/mountHDD2/khoibaocon/alldata/A1274.mat', '/media/mountHDD2/khoibaocon/alldata/A1275.mat', '/media/mountHDD2/khoibaocon/alldata/A1276.mat', '/media/mountHDD2/khoibaocon/alldata/A1277.mat', '/media/mountHDD2/khoibaocon/alldata/A1279.mat', '/media/mountHDD2/khoibaocon/alldata/A1280.mat', '/media/mountHDD2/khoibaocon/alldata/A1281.mat', '/media/mountHDD2/khoibaocon/alldata/A1282.mat', '/media/mountHDD2/khoibaocon/alldata/A1283.mat', '/media/mountHDD2/khoibaocon/alldata/A1284.mat', '/media/mountHDD2/khoibaocon/alldata/A1285.mat', '/media/mountHDD2/khoibaocon/alldata/A1286.mat', '/media/mountHDD2/khoibaocon/alldata/A1287.mat', '/media/mountHDD2/khoibaocon/alldata/A1288.mat', '/media/mountHDD2/khoibaocon/alldata/A1289.mat', '/media/mountHDD2/khoibaocon/alldata/A1290.mat', '/media/mountHDD2/khoibaocon/alldata/A1291.mat', '/media/mountHDD2/khoibaocon/alldata/A1292.mat', '/media/mountHDD2/khoibaocon/alldata/A1293.mat', '/media/mountHDD2/khoibaocon/alldata/A1294.mat', '/media/mountHDD2/khoibaocon/alldata/A1295.mat', '/media/mountHDD2/khoibaocon/alldata/A1296.mat', '/media/mountHDD2/khoibaocon/alldata/A1297.mat', '/media/mountHDD2/khoibaocon/alldata/A1299.mat', '/media/mountHDD2/khoibaocon/alldata/A1300.mat', '/media/mountHDD2/khoibaocon/alldata/A1301.mat', '/media/mountHDD2/khoibaocon/alldata/A1302.mat', '/media/mountHDD2/khoibaocon/alldata/A1303.mat', '/media/mountHDD2/khoibaocon/alldata/A1304.mat', '/media/mountHDD2/khoibaocon/alldata/A1305.mat', '/media/mountHDD2/khoibaocon/alldata/A1307.mat', '/media/mountHDD2/khoibaocon/alldata/A1308.mat', '/media/mountHDD2/khoibaocon/alldata/A1309.mat', '/media/mountHDD2/khoibaocon/alldata/A1310.mat', '/media/mountHDD2/khoibaocon/alldata/A1311.mat', '/media/mountHDD2/khoibaocon/alldata/A1312.mat', '/media/mountHDD2/khoibaocon/alldata/A1313.mat', '/media/mountHDD2/khoibaocon/alldata/A1314.mat', '/media/mountHDD2/khoibaocon/alldata/A1315.mat', '/media/mountHDD2/khoibaocon/alldata/A1316.mat', '/media/mountHDD2/khoibaocon/alldata/A1318.mat', '/media/mountHDD2/khoibaocon/alldata/A1319.mat', '/media/mountHDD2/khoibaocon/alldata/A1320.mat', '/media/mountHDD2/khoibaocon/alldata/A1321.mat', '/media/mountHDD2/khoibaocon/alldata/A1322.mat', '/media/mountHDD2/khoibaocon/alldata/A1323.mat', '/media/mountHDD2/khoibaocon/alldata/A1325.mat', '/media/mountHDD2/khoibaocon/alldata/A1327.mat', '/media/mountHDD2/khoibaocon/alldata/A1329.mat', '/media/mountHDD2/khoibaocon/alldata/A1330.mat', '/media/mountHDD2/khoibaocon/alldata/A1331.mat', '/media/mountHDD2/khoibaocon/alldata/A1332.mat', '/media/mountHDD2/khoibaocon/alldata/A1333.mat', '/media/mountHDD2/khoibaocon/alldata/A1334.mat', '/media/mountHDD2/khoibaocon/alldata/A1335.mat', '/media/mountHDD2/khoibaocon/alldata/A1336.mat', '/media/mountHDD2/khoibaocon/alldata/A1337.mat', '/media/mountHDD2/khoibaocon/alldata/A1338.mat', '/media/mountHDD2/khoibaocon/alldata/A1339.mat', '/media/mountHDD2/khoibaocon/alldata/A1341.mat', '/media/mountHDD2/khoibaocon/alldata/A1342.mat', '/media/mountHDD2/khoibaocon/alldata/A1343.mat', '/media/mountHDD2/khoibaocon/alldata/A1345.mat', '/media/mountHDD2/khoibaocon/alldata/A1346.mat', '/media/mountHDD2/khoibaocon/alldata/A2077.mat', '/media/mountHDD2/khoibaocon/alldata/A1348.mat', '/media/mountHDD2/khoibaocon/alldata/A1349.mat', '/media/mountHDD2/khoibaocon/alldata/A1350.mat', '/media/mountHDD2/khoibaocon/alldata/A1351.mat', '/media/mountHDD2/khoibaocon/alldata/A1352.mat', '/media/mountHDD2/khoibaocon/alldata/A1353.mat', '/media/mountHDD2/khoibaocon/alldata/A1354.mat', '/media/mountHDD2/khoibaocon/alldata/A1355.mat', '/media/mountHDD2/khoibaocon/alldata/A1356.mat', '/media/mountHDD2/khoibaocon/alldata/A1357.mat', '/media/mountHDD2/khoibaocon/alldata/A1358.mat', '/media/mountHDD2/khoibaocon/alldata/A1359.mat', '/media/mountHDD2/khoibaocon/alldata/A1360.mat', '/media/mountHDD2/khoibaocon/alldata/A1361.mat', '/media/mountHDD2/khoibaocon/alldata/A1362.mat', '/media/mountHDD2/khoibaocon/alldata/A1363.mat', '/media/mountHDD2/khoibaocon/alldata/A1364.mat', '/media/mountHDD2/khoibaocon/alldata/A1365.mat', '/media/mountHDD2/khoibaocon/alldata/A1366.mat', '/media/mountHDD2/khoibaocon/alldata/A1367.mat', '/media/mountHDD2/khoibaocon/alldata/A1368.mat', '/media/mountHDD2/khoibaocon/alldata/A1369.mat', '/media/mountHDD2/khoibaocon/alldata/A1370.mat', '/media/mountHDD2/khoibaocon/alldata/A1371.mat', '/media/mountHDD2/khoibaocon/alldata/A1372.mat', '/media/mountHDD2/khoibaocon/alldata/A1373.mat', '/media/mountHDD2/khoibaocon/alldata/A1374.mat', '/media/mountHDD2/khoibaocon/alldata/A1375.mat', '/media/mountHDD2/khoibaocon/alldata/A1376.mat', '/media/mountHDD2/khoibaocon/alldata/A1377.mat', '/media/mountHDD2/khoibaocon/alldata/A1379.mat', '/media/mountHDD2/khoibaocon/alldata/A1380.mat', '/media/mountHDD2/khoibaocon/alldata/A1381.mat', '/media/mountHDD2/khoibaocon/alldata/A1382.mat', '/media/mountHDD2/khoibaocon/alldata/A1383.mat', '/media/mountHDD2/khoibaocon/alldata/A1384.mat', '/media/mountHDD2/khoibaocon/alldata/A1385.mat', '/media/mountHDD2/khoibaocon/alldata/A1386.mat', '/media/mountHDD2/khoibaocon/alldata/A1387.mat', '/media/mountHDD2/khoibaocon/alldata/A1388.mat', '/media/mountHDD2/khoibaocon/alldata/A1390.mat', '/media/mountHDD2/khoibaocon/alldata/A1391.mat', '/media/mountHDD2/khoibaocon/alldata/A1392.mat', '/media/mountHDD2/khoibaocon/alldata/A1393.mat', '/media/mountHDD2/khoibaocon/alldata/A1394.mat', '/media/mountHDD2/khoibaocon/alldata/A1395.mat', '/media/mountHDD2/khoibaocon/alldata/A1396.mat', '/media/mountHDD2/khoibaocon/alldata/A1397.mat', '/media/mountHDD2/khoibaocon/alldata/A1398.mat', '/media/mountHDD2/khoibaocon/alldata/A1399.mat', '/media/mountHDD2/khoibaocon/alldata/A1400.mat', '/media/mountHDD2/khoibaocon/alldata/A1401.mat', '/media/mountHDD2/khoibaocon/alldata/A1402.mat', '/media/mountHDD2/khoibaocon/alldata/A1403.mat', '/media/mountHDD2/khoibaocon/alldata/A1404.mat', '/media/mountHDD2/khoibaocon/alldata/A1405.mat', '/media/mountHDD2/khoibaocon/alldata/A1406.mat', '/media/mountHDD2/khoibaocon/alldata/A1407.mat', '/media/mountHDD2/khoibaocon/alldata/A4218.mat', '/media/mountHDD2/khoibaocon/alldata/A1409.mat', '/media/mountHDD2/khoibaocon/alldata/A1411.mat', '/media/mountHDD2/khoibaocon/alldata/A1412.mat', '/media/mountHDD2/khoibaocon/alldata/A1413.mat', '/media/mountHDD2/khoibaocon/alldata/A1414.mat', '/media/mountHDD2/khoibaocon/alldata/A1415.mat', '/media/mountHDD2/khoibaocon/alldata/A1416.mat', '/media/mountHDD2/khoibaocon/alldata/A1417.mat', '/media/mountHDD2/khoibaocon/alldata/A1418.mat', '/media/mountHDD2/khoibaocon/alldata/A1419.mat', '/media/mountHDD2/khoibaocon/alldata/A1420.mat', '/media/mountHDD2/khoibaocon/alldata/A1421.mat', '/media/mountHDD2/khoibaocon/alldata/A1422.mat', '/media/mountHDD2/khoibaocon/alldata/A1423.mat', '/media/mountHDD2/khoibaocon/alldata/A1424.mat', '/media/mountHDD2/khoibaocon/alldata/A1425.mat', '/media/mountHDD2/khoibaocon/alldata/A1426.mat', '/media/mountHDD2/khoibaocon/alldata/A1427.mat', '/media/mountHDD2/khoibaocon/alldata/A1428.mat', '/media/mountHDD2/khoibaocon/alldata/A1429.mat', '/media/mountHDD2/khoibaocon/alldata/A1430.mat', '/media/mountHDD2/khoibaocon/alldata/A1431.mat', '/media/mountHDD2/khoibaocon/alldata/A1432.mat', '/media/mountHDD2/khoibaocon/alldata/A1433.mat', '/media/mountHDD2/khoibaocon/alldata/A1435.mat', '/media/mountHDD2/khoibaocon/alldata/A1436.mat', '/media/mountHDD2/khoibaocon/alldata/A1437.mat', '/media/mountHDD2/khoibaocon/alldata/A1438.mat', '/media/mountHDD2/khoibaocon/alldata/A1439.mat', '/media/mountHDD2/khoibaocon/alldata/A1440.mat', '/media/mountHDD2/khoibaocon/alldata/A1441.mat', '/media/mountHDD2/khoibaocon/alldata/A1442.mat', '/media/mountHDD2/khoibaocon/alldata/A1443.mat', '/media/mountHDD2/khoibaocon/alldata/A1444.mat', '/media/mountHDD2/khoibaocon/alldata/A1445.mat', '/media/mountHDD2/khoibaocon/alldata/A1446.mat', '/media/mountHDD2/khoibaocon/alldata/A1447.mat', '/media/mountHDD2/khoibaocon/alldata/A1448.mat', '/media/mountHDD2/khoibaocon/alldata/A1449.mat', '/media/mountHDD2/khoibaocon/alldata/A1450.mat', '/media/mountHDD2/khoibaocon/alldata/A1451.mat', '/media/mountHDD2/khoibaocon/alldata/A1897.mat', '/media/mountHDD2/khoibaocon/alldata/A1453.mat', '/media/mountHDD2/khoibaocon/alldata/A1454.mat', '/media/mountHDD2/khoibaocon/alldata/A1455.mat', '/media/mountHDD2/khoibaocon/alldata/A1456.mat', '/media/mountHDD2/khoibaocon/alldata/A1457.mat', '/media/mountHDD2/khoibaocon/alldata/A1458.mat', '/media/mountHDD2/khoibaocon/alldata/A1459.mat', '/media/mountHDD2/khoibaocon/alldata/A1460.mat', '/media/mountHDD2/khoibaocon/alldata/A1461.mat', '/media/mountHDD2/khoibaocon/alldata/A1462.mat', '/media/mountHDD2/khoibaocon/alldata/A1463.mat', '/media/mountHDD2/khoibaocon/alldata/A1464.mat', '/media/mountHDD2/khoibaocon/alldata/A1465.mat', '/media/mountHDD2/khoibaocon/alldata/A1466.mat', '/media/mountHDD2/khoibaocon/alldata/A1467.mat', '/media/mountHDD2/khoibaocon/alldata/A1468.mat', '/media/mountHDD2/khoibaocon/alldata/A1469.mat', '/media/mountHDD2/khoibaocon/alldata/A1470.mat', '/media/mountHDD2/khoibaocon/alldata/A1471.mat', '/media/mountHDD2/khoibaocon/alldata/A1472.mat', '/media/mountHDD2/khoibaocon/alldata/A1473.mat', '/media/mountHDD2/khoibaocon/alldata/A1474.mat', '/media/mountHDD2/khoibaocon/alldata/A1475.mat', '/media/mountHDD2/khoibaocon/alldata/A1476.mat', '/media/mountHDD2/khoibaocon/alldata/A1477.mat', '/media/mountHDD2/khoibaocon/alldata/A1478.mat', '/media/mountHDD2/khoibaocon/alldata/A1479.mat', '/media/mountHDD2/khoibaocon/alldata/A1480.mat', '/media/mountHDD2/khoibaocon/alldata/A1481.mat', '/media/mountHDD2/khoibaocon/alldata/A1482.mat', '/media/mountHDD2/khoibaocon/alldata/A1483.mat', '/media/mountHDD2/khoibaocon/alldata/A1484.mat', '/media/mountHDD2/khoibaocon/alldata/A1485.mat', '/media/mountHDD2/khoibaocon/alldata/A1486.mat', '/media/mountHDD2/khoibaocon/alldata/A1488.mat', '/media/mountHDD2/khoibaocon/alldata/A1489.mat', '/media/mountHDD2/khoibaocon/alldata/A1490.mat', '/media/mountHDD2/khoibaocon/alldata/A1491.mat', '/media/mountHDD2/khoibaocon/alldata/A1492.mat', '/media/mountHDD2/khoibaocon/alldata/A1493.mat', '/media/mountHDD2/khoibaocon/alldata/A1494.mat', '/media/mountHDD2/khoibaocon/alldata/A1495.mat', '/media/mountHDD2/khoibaocon/alldata/A1496.mat', '/media/mountHDD2/khoibaocon/alldata/A5554.mat', '/media/mountHDD2/khoibaocon/alldata/A1498.mat', '/media/mountHDD2/khoibaocon/alldata/A1499.mat', '/media/mountHDD2/khoibaocon/alldata/A1500.mat', '/media/mountHDD2/khoibaocon/alldata/A1501.mat', '/media/mountHDD2/khoibaocon/alldata/A1502.mat', '/media/mountHDD2/khoibaocon/alldata/A1503.mat', '/media/mountHDD2/khoibaocon/alldata/A1504.mat', '/media/mountHDD2/khoibaocon/alldata/A1506.mat', '/media/mountHDD2/khoibaocon/alldata/A1507.mat', '/media/mountHDD2/khoibaocon/alldata/A1508.mat', '/media/mountHDD2/khoibaocon/alldata/A1509.mat', '/media/mountHDD2/khoibaocon/alldata/A1510.mat', '/media/mountHDD2/khoibaocon/alldata/A1511.mat', '/media/mountHDD2/khoibaocon/alldata/A1512.mat', '/media/mountHDD2/khoibaocon/alldata/A1513.mat', '/media/mountHDD2/khoibaocon/alldata/A1515.mat', '/media/mountHDD2/khoibaocon/alldata/A1516.mat', '/media/mountHDD2/khoibaocon/alldata/A1517.mat', '/media/mountHDD2/khoibaocon/alldata/A1518.mat', '/media/mountHDD2/khoibaocon/alldata/A1519.mat', '/media/mountHDD2/khoibaocon/alldata/A1520.mat', '/media/mountHDD2/khoibaocon/alldata/A1521.mat', '/media/mountHDD2/khoibaocon/alldata/A1522.mat', '/media/mountHDD2/khoibaocon/alldata/A1523.mat', '/media/mountHDD2/khoibaocon/alldata/A1524.mat', '/media/mountHDD2/khoibaocon/alldata/A1525.mat', '/media/mountHDD2/khoibaocon/alldata/A1526.mat', '/media/mountHDD2/khoibaocon/alldata/A1528.mat', '/media/mountHDD2/khoibaocon/alldata/A1529.mat', '/media/mountHDD2/khoibaocon/alldata/A1530.mat', '/media/mountHDD2/khoibaocon/alldata/A1531.mat', '/media/mountHDD2/khoibaocon/alldata/A1533.mat', '/media/mountHDD2/khoibaocon/alldata/A1534.mat', '/media/mountHDD2/khoibaocon/alldata/A1535.mat', '/media/mountHDD2/khoibaocon/alldata/A1536.mat', '/media/mountHDD2/khoibaocon/alldata/A1537.mat', '/media/mountHDD2/khoibaocon/alldata/A1538.mat', '/media/mountHDD2/khoibaocon/alldata/A1540.mat', '/media/mountHDD2/khoibaocon/alldata/A1541.mat', '/media/mountHDD2/khoibaocon/alldata/A1542.mat', '/media/mountHDD2/khoibaocon/alldata/A1543.mat', '/media/mountHDD2/khoibaocon/alldata/A1545.mat', '/media/mountHDD2/khoibaocon/alldata/A1546.mat', '/media/mountHDD2/khoibaocon/alldata/A1547.mat', '/media/mountHDD2/khoibaocon/alldata/A1548.mat', '/media/mountHDD2/khoibaocon/alldata/A1549.mat', '/media/mountHDD2/khoibaocon/alldata/A1550.mat', '/media/mountHDD2/khoibaocon/alldata/A1551.mat', '/media/mountHDD2/khoibaocon/alldata/A1552.mat', '/media/mountHDD2/khoibaocon/alldata/A1553.mat', '/media/mountHDD2/khoibaocon/alldata/A1554.mat', '/media/mountHDD2/khoibaocon/alldata/A1555.mat', '/media/mountHDD2/khoibaocon/alldata/A1556.mat', '/media/mountHDD2/khoibaocon/alldata/A1557.mat', '/media/mountHDD2/khoibaocon/alldata/A1558.mat', '/media/mountHDD2/khoibaocon/alldata/A1560.mat', '/media/mountHDD2/khoibaocon/alldata/A1561.mat', '/media/mountHDD2/khoibaocon/alldata/A1563.mat', '/media/mountHDD2/khoibaocon/alldata/A1564.mat', '/media/mountHDD2/khoibaocon/alldata/A1565.mat', '/media/mountHDD2/khoibaocon/alldata/A1566.mat', '/media/mountHDD2/khoibaocon/alldata/A1567.mat', '/media/mountHDD2/khoibaocon/alldata/A1568.mat', '/media/mountHDD2/khoibaocon/alldata/A1569.mat', '/media/mountHDD2/khoibaocon/alldata/A1570.mat', '/media/mountHDD2/khoibaocon/alldata/A1571.mat', '/media/mountHDD2/khoibaocon/alldata/A1572.mat', '/media/mountHDD2/khoibaocon/alldata/A1573.mat', '/media/mountHDD2/khoibaocon/alldata/A1574.mat', '/media/mountHDD2/khoibaocon/alldata/A1575.mat', '/media/mountHDD2/khoibaocon/alldata/A1577.mat', '/media/mountHDD2/khoibaocon/alldata/A1578.mat', '/media/mountHDD2/khoibaocon/alldata/A1579.mat', '/media/mountHDD2/khoibaocon/alldata/A1580.mat', '/media/mountHDD2/khoibaocon/alldata/A1581.mat', '/media/mountHDD2/khoibaocon/alldata/A1582.mat', '/media/mountHDD2/khoibaocon/alldata/A1583.mat', '/media/mountHDD2/khoibaocon/alldata/A1584.mat', '/media/mountHDD2/khoibaocon/alldata/A1585.mat', '/media/mountHDD2/khoibaocon/alldata/A1586.mat', '/media/mountHDD2/khoibaocon/alldata/A1587.mat', '/media/mountHDD2/khoibaocon/alldata/A1588.mat', '/media/mountHDD2/khoibaocon/alldata/A1589.mat', '/media/mountHDD2/khoibaocon/alldata/A1590.mat', '/media/mountHDD2/khoibaocon/alldata/A1591.mat', '/media/mountHDD2/khoibaocon/alldata/A1593.mat', '/media/mountHDD2/khoibaocon/alldata/A1594.mat', '/media/mountHDD2/khoibaocon/alldata/A1595.mat', '/media/mountHDD2/khoibaocon/alldata/A1596.mat', '/media/mountHDD2/khoibaocon/alldata/A1597.mat', '/media/mountHDD2/khoibaocon/alldata/A1598.mat', '/media/mountHDD2/khoibaocon/alldata/A1599.mat', '/media/mountHDD2/khoibaocon/alldata/A1600.mat', '/media/mountHDD2/khoibaocon/alldata/A1601.mat', '/media/mountHDD2/khoibaocon/alldata/A1602.mat', '/media/mountHDD2/khoibaocon/alldata/A1603.mat', '/media/mountHDD2/khoibaocon/alldata/A1604.mat', '/media/mountHDD2/khoibaocon/alldata/A1605.mat', '/media/mountHDD2/khoibaocon/alldata/A1606.mat', '/media/mountHDD2/khoibaocon/alldata/A1607.mat', '/media/mountHDD2/khoibaocon/alldata/A1608.mat', '/media/mountHDD2/khoibaocon/alldata/A1609.mat', '/media/mountHDD2/khoibaocon/alldata/A1610.mat', '/media/mountHDD2/khoibaocon/alldata/A1611.mat', '/media/mountHDD2/khoibaocon/alldata/A1612.mat', '/media/mountHDD2/khoibaocon/alldata/A1613.mat', '/media/mountHDD2/khoibaocon/alldata/A1614.mat', '/media/mountHDD2/khoibaocon/alldata/A1615.mat', '/media/mountHDD2/khoibaocon/alldata/A1616.mat', '/media/mountHDD2/khoibaocon/alldata/A1617.mat', '/media/mountHDD2/khoibaocon/alldata/A1618.mat', '/media/mountHDD2/khoibaocon/alldata/A1619.mat', '/media/mountHDD2/khoibaocon/alldata/A1620.mat', '/media/mountHDD2/khoibaocon/alldata/A1622.mat', '/media/mountHDD2/khoibaocon/alldata/A1623.mat', '/media/mountHDD2/khoibaocon/alldata/A1625.mat', '/media/mountHDD2/khoibaocon/alldata/A1626.mat', '/media/mountHDD2/khoibaocon/alldata/A1627.mat', '/media/mountHDD2/khoibaocon/alldata/A1628.mat', '/media/mountHDD2/khoibaocon/alldata/A1629.mat', '/media/mountHDD2/khoibaocon/alldata/A1630.mat', '/media/mountHDD2/khoibaocon/alldata/A1631.mat', '/media/mountHDD2/khoibaocon/alldata/A1632.mat', '/media/mountHDD2/khoibaocon/alldata/A1633.mat', '/media/mountHDD2/khoibaocon/alldata/A1634.mat', '/media/mountHDD2/khoibaocon/alldata/A1635.mat', '/media/mountHDD2/khoibaocon/alldata/A1636.mat', '/media/mountHDD2/khoibaocon/alldata/A1637.mat', '/media/mountHDD2/khoibaocon/alldata/A1638.mat', '/media/mountHDD2/khoibaocon/alldata/A1639.mat', '/media/mountHDD2/khoibaocon/alldata/A1640.mat', '/media/mountHDD2/khoibaocon/alldata/A1641.mat', '/media/mountHDD2/khoibaocon/alldata/A1642.mat', '/media/mountHDD2/khoibaocon/alldata/A1643.mat', '/media/mountHDD2/khoibaocon/alldata/A1644.mat', '/media/mountHDD2/khoibaocon/alldata/A1645.mat', '/media/mountHDD2/khoibaocon/alldata/A1646.mat', '/media/mountHDD2/khoibaocon/alldata/A1647.mat', '/media/mountHDD2/khoibaocon/alldata/A1649.mat', '/media/mountHDD2/khoibaocon/alldata/A1650.mat', '/media/mountHDD2/khoibaocon/alldata/A1651.mat', '/media/mountHDD2/khoibaocon/alldata/A1652.mat', '/media/mountHDD2/khoibaocon/alldata/A1653.mat', '/media/mountHDD2/khoibaocon/alldata/A1655.mat', '/media/mountHDD2/khoibaocon/alldata/A1657.mat', '/media/mountHDD2/khoibaocon/alldata/A1658.mat', '/media/mountHDD2/khoibaocon/alldata/A1659.mat', '/media/mountHDD2/khoibaocon/alldata/A1660.mat', '/media/mountHDD2/khoibaocon/alldata/A1661.mat', '/media/mountHDD2/khoibaocon/alldata/A1662.mat', '/media/mountHDD2/khoibaocon/alldata/A1663.mat', '/media/mountHDD2/khoibaocon/alldata/A1664.mat', '/media/mountHDD2/khoibaocon/alldata/A1665.mat', '/media/mountHDD2/khoibaocon/alldata/A1667.mat', '/media/mountHDD2/khoibaocon/alldata/A1668.mat', '/media/mountHDD2/khoibaocon/alldata/A1669.mat', '/media/mountHDD2/khoibaocon/alldata/A1670.mat', '/media/mountHDD2/khoibaocon/alldata/A1671.mat', '/media/mountHDD2/khoibaocon/alldata/A1672.mat', '/media/mountHDD2/khoibaocon/alldata/A1673.mat', '/media/mountHDD2/khoibaocon/alldata/A1674.mat', '/media/mountHDD2/khoibaocon/alldata/A1675.mat', '/media/mountHDD2/khoibaocon/alldata/A1676.mat', '/media/mountHDD2/khoibaocon/alldata/A1677.mat', '/media/mountHDD2/khoibaocon/alldata/A1679.mat', '/media/mountHDD2/khoibaocon/alldata/A1680.mat', '/media/mountHDD2/khoibaocon/alldata/A1681.mat', '/media/mountHDD2/khoibaocon/alldata/A1682.mat', '/media/mountHDD2/khoibaocon/alldata/A1683.mat', '/media/mountHDD2/khoibaocon/alldata/A1684.mat', '/media/mountHDD2/khoibaocon/alldata/A1685.mat', '/media/mountHDD2/khoibaocon/alldata/A1686.mat', '/media/mountHDD2/khoibaocon/alldata/A1687.mat', '/media/mountHDD2/khoibaocon/alldata/A1688.mat', '/media/mountHDD2/khoibaocon/alldata/A1690.mat', '/media/mountHDD2/khoibaocon/alldata/A1691.mat', '/media/mountHDD2/khoibaocon/alldata/A1692.mat', '/media/mountHDD2/khoibaocon/alldata/A1693.mat', '/media/mountHDD2/khoibaocon/alldata/A1694.mat', '/media/mountHDD2/khoibaocon/alldata/A1695.mat', '/media/mountHDD2/khoibaocon/alldata/A1696.mat', '/media/mountHDD2/khoibaocon/alldata/A1697.mat', '/media/mountHDD2/khoibaocon/alldata/A1698.mat', '/media/mountHDD2/khoibaocon/alldata/A1699.mat', '/media/mountHDD2/khoibaocon/alldata/A1700.mat', '/media/mountHDD2/khoibaocon/alldata/A1701.mat', '/media/mountHDD2/khoibaocon/alldata/A1702.mat', '/media/mountHDD2/khoibaocon/alldata/A1703.mat', '/media/mountHDD2/khoibaocon/alldata/A1704.mat', '/media/mountHDD2/khoibaocon/alldata/A1705.mat', '/media/mountHDD2/khoibaocon/alldata/A1706.mat', '/media/mountHDD2/khoibaocon/alldata/A1707.mat', '/media/mountHDD2/khoibaocon/alldata/A1708.mat', '/media/mountHDD2/khoibaocon/alldata/A1709.mat', '/media/mountHDD2/khoibaocon/alldata/A1710.mat', '/media/mountHDD2/khoibaocon/alldata/A1711.mat', '/media/mountHDD2/khoibaocon/alldata/A1712.mat', '/media/mountHDD2/khoibaocon/alldata/A1713.mat', '/media/mountHDD2/khoibaocon/alldata/A1714.mat', '/media/mountHDD2/khoibaocon/alldata/A1715.mat', '/media/mountHDD2/khoibaocon/alldata/A1716.mat', '/media/mountHDD2/khoibaocon/alldata/A1717.mat', '/media/mountHDD2/khoibaocon/alldata/A1718.mat', '/media/mountHDD2/khoibaocon/alldata/A1719.mat', '/media/mountHDD2/khoibaocon/alldata/A1720.mat', '/media/mountHDD2/khoibaocon/alldata/A1721.mat', '/media/mountHDD2/khoibaocon/alldata/A1722.mat', '/media/mountHDD2/khoibaocon/alldata/A1723.mat', '/media/mountHDD2/khoibaocon/alldata/A1724.mat', '/media/mountHDD2/khoibaocon/alldata/A1725.mat', '/media/mountHDD2/khoibaocon/alldata/A1726.mat', '/media/mountHDD2/khoibaocon/alldata/A5946.mat', '/media/mountHDD2/khoibaocon/alldata/A1728.mat', '/media/mountHDD2/khoibaocon/alldata/A1729.mat', '/media/mountHDD2/khoibaocon/alldata/A1730.mat', '/media/mountHDD2/khoibaocon/alldata/A1731.mat', '/media/mountHDD2/khoibaocon/alldata/A1733.mat', '/media/mountHDD2/khoibaocon/alldata/A1734.mat', '/media/mountHDD2/khoibaocon/alldata/A1735.mat', '/media/mountHDD2/khoibaocon/alldata/A1736.mat', '/media/mountHDD2/khoibaocon/alldata/A1737.mat', '/media/mountHDD2/khoibaocon/alldata/A1738.mat', '/media/mountHDD2/khoibaocon/alldata/A1739.mat', '/media/mountHDD2/khoibaocon/alldata/A1741.mat', '/media/mountHDD2/khoibaocon/alldata/A1742.mat', '/media/mountHDD2/khoibaocon/alldata/A1743.mat', '/media/mountHDD2/khoibaocon/alldata/A1744.mat', '/media/mountHDD2/khoibaocon/alldata/A1745.mat', '/media/mountHDD2/khoibaocon/alldata/A1746.mat', '/media/mountHDD2/khoibaocon/alldata/A1747.mat', '/media/mountHDD2/khoibaocon/alldata/A1748.mat', '/media/mountHDD2/khoibaocon/alldata/A1749.mat', '/media/mountHDD2/khoibaocon/alldata/A1750.mat', '/media/mountHDD2/khoibaocon/alldata/A1751.mat', '/media/mountHDD2/khoibaocon/alldata/A1752.mat', '/media/mountHDD2/khoibaocon/alldata/A1753.mat', '/media/mountHDD2/khoibaocon/alldata/A1754.mat', '/media/mountHDD2/khoibaocon/alldata/A1755.mat', '/media/mountHDD2/khoibaocon/alldata/A1756.mat', '/media/mountHDD2/khoibaocon/alldata/A1757.mat', '/media/mountHDD2/khoibaocon/alldata/A1758.mat', '/media/mountHDD2/khoibaocon/alldata/A1759.mat', '/media/mountHDD2/khoibaocon/alldata/A1760.mat', '/media/mountHDD2/khoibaocon/alldata/A1761.mat', '/media/mountHDD2/khoibaocon/alldata/A1762.mat', '/media/mountHDD2/khoibaocon/alldata/A1763.mat', '/media/mountHDD2/khoibaocon/alldata/A1764.mat', '/media/mountHDD2/khoibaocon/alldata/A1765.mat', '/media/mountHDD2/khoibaocon/alldata/A1766.mat', '/media/mountHDD2/khoibaocon/alldata/A1767.mat', '/media/mountHDD2/khoibaocon/alldata/A1768.mat', '/media/mountHDD2/khoibaocon/alldata/A1769.mat', '/media/mountHDD2/khoibaocon/alldata/A1770.mat', '/media/mountHDD2/khoibaocon/alldata/A1771.mat', '/media/mountHDD2/khoibaocon/alldata/A1772.mat', '/media/mountHDD2/khoibaocon/alldata/A1773.mat', '/media/mountHDD2/khoibaocon/alldata/A1775.mat', '/media/mountHDD2/khoibaocon/alldata/A1776.mat', '/media/mountHDD2/khoibaocon/alldata/A1777.mat', '/media/mountHDD2/khoibaocon/alldata/A1778.mat', '/media/mountHDD2/khoibaocon/alldata/A1779.mat', '/media/mountHDD2/khoibaocon/alldata/A1781.mat', '/media/mountHDD2/khoibaocon/alldata/A1782.mat', '/media/mountHDD2/khoibaocon/alldata/A1783.mat', '/media/mountHDD2/khoibaocon/alldata/A1784.mat', '/media/mountHDD2/khoibaocon/alldata/A1785.mat', '/media/mountHDD2/khoibaocon/alldata/A1786.mat', '/media/mountHDD2/khoibaocon/alldata/A1787.mat', '/media/mountHDD2/khoibaocon/alldata/A1788.mat', '/media/mountHDD2/khoibaocon/alldata/A1789.mat', '/media/mountHDD2/khoibaocon/alldata/A1790.mat', '/media/mountHDD2/khoibaocon/alldata/A1791.mat', '/media/mountHDD2/khoibaocon/alldata/A1792.mat', '/media/mountHDD2/khoibaocon/alldata/A1793.mat', '/media/mountHDD2/khoibaocon/alldata/A1795.mat', '/media/mountHDD2/khoibaocon/alldata/A1796.mat', '/media/mountHDD2/khoibaocon/alldata/A1797.mat', '/media/mountHDD2/khoibaocon/alldata/A1798.mat', '/media/mountHDD2/khoibaocon/alldata/A1799.mat', '/media/mountHDD2/khoibaocon/alldata/A1800.mat', '/media/mountHDD2/khoibaocon/alldata/A1801.mat', '/media/mountHDD2/khoibaocon/alldata/A1802.mat', '/media/mountHDD2/khoibaocon/alldata/A1803.mat', '/media/mountHDD2/khoibaocon/alldata/A1804.mat', '/media/mountHDD2/khoibaocon/alldata/A1805.mat', '/media/mountHDD2/khoibaocon/alldata/A1806.mat', '/media/mountHDD2/khoibaocon/alldata/A1807.mat', '/media/mountHDD2/khoibaocon/alldata/A1808.mat', '/media/mountHDD2/khoibaocon/alldata/A1809.mat', '/media/mountHDD2/khoibaocon/alldata/A1810.mat', '/media/mountHDD2/khoibaocon/alldata/A1811.mat', '/media/mountHDD2/khoibaocon/alldata/A1812.mat', '/media/mountHDD2/khoibaocon/alldata/A1813.mat', '/media/mountHDD2/khoibaocon/alldata/A1814.mat', '/media/mountHDD2/khoibaocon/alldata/A1815.mat', '/media/mountHDD2/khoibaocon/alldata/A1816.mat', '/media/mountHDD2/khoibaocon/alldata/A1817.mat', '/media/mountHDD2/khoibaocon/alldata/A1819.mat', '/media/mountHDD2/khoibaocon/alldata/A1820.mat', '/media/mountHDD2/khoibaocon/alldata/A1821.mat', '/media/mountHDD2/khoibaocon/alldata/A1822.mat', '/media/mountHDD2/khoibaocon/alldata/A1823.mat', '/media/mountHDD2/khoibaocon/alldata/A1824.mat', '/media/mountHDD2/khoibaocon/alldata/A1825.mat', '/media/mountHDD2/khoibaocon/alldata/A1826.mat', '/media/mountHDD2/khoibaocon/alldata/A1827.mat', '/media/mountHDD2/khoibaocon/alldata/A1828.mat', '/media/mountHDD2/khoibaocon/alldata/A1829.mat', '/media/mountHDD2/khoibaocon/alldata/A1830.mat', '/media/mountHDD2/khoibaocon/alldata/A1831.mat', '/media/mountHDD2/khoibaocon/alldata/A1832.mat', '/media/mountHDD2/khoibaocon/alldata/A1833.mat', '/media/mountHDD2/khoibaocon/alldata/A1834.mat', '/media/mountHDD2/khoibaocon/alldata/A1835.mat', '/media/mountHDD2/khoibaocon/alldata/A1836.mat', '/media/mountHDD2/khoibaocon/alldata/A1837.mat', '/media/mountHDD2/khoibaocon/alldata/A1838.mat', '/media/mountHDD2/khoibaocon/alldata/A1839.mat', '/media/mountHDD2/khoibaocon/alldata/A1840.mat', '/media/mountHDD2/khoibaocon/alldata/A1842.mat', '/media/mountHDD2/khoibaocon/alldata/A1843.mat', '/media/mountHDD2/khoibaocon/alldata/A1844.mat', '/media/mountHDD2/khoibaocon/alldata/A1845.mat', '/media/mountHDD2/khoibaocon/alldata/A1846.mat', '/media/mountHDD2/khoibaocon/alldata/A1847.mat', '/media/mountHDD2/khoibaocon/alldata/A1848.mat', '/media/mountHDD2/khoibaocon/alldata/A1849.mat', '/media/mountHDD2/khoibaocon/alldata/A1850.mat', '/media/mountHDD2/khoibaocon/alldata/A1851.mat', '/media/mountHDD2/khoibaocon/alldata/A1853.mat', '/media/mountHDD2/khoibaocon/alldata/A1854.mat', '/media/mountHDD2/khoibaocon/alldata/A1855.mat', '/media/mountHDD2/khoibaocon/alldata/A1856.mat', '/media/mountHDD2/khoibaocon/alldata/A1857.mat', '/media/mountHDD2/khoibaocon/alldata/A1858.mat', '/media/mountHDD2/khoibaocon/alldata/A1861.mat', '/media/mountHDD2/khoibaocon/alldata/A1862.mat', '/media/mountHDD2/khoibaocon/alldata/A1863.mat', '/media/mountHDD2/khoibaocon/alldata/A1864.mat', '/media/mountHDD2/khoibaocon/alldata/A1865.mat', '/media/mountHDD2/khoibaocon/alldata/A1866.mat', '/media/mountHDD2/khoibaocon/alldata/A1867.mat', '/media/mountHDD2/khoibaocon/alldata/A1868.mat', '/media/mountHDD2/khoibaocon/alldata/A1869.mat', '/media/mountHDD2/khoibaocon/alldata/A1872.mat', '/media/mountHDD2/khoibaocon/alldata/A1873.mat', '/media/mountHDD2/khoibaocon/alldata/A1874.mat', '/media/mountHDD2/khoibaocon/alldata/A1875.mat', '/media/mountHDD2/khoibaocon/alldata/A1876.mat', '/media/mountHDD2/khoibaocon/alldata/A1877.mat', '/media/mountHDD2/khoibaocon/alldata/A1878.mat', '/media/mountHDD2/khoibaocon/alldata/A1879.mat', '/media/mountHDD2/khoibaocon/alldata/A1880.mat', '/media/mountHDD2/khoibaocon/alldata/A1881.mat', '/media/mountHDD2/khoibaocon/alldata/A1882.mat', '/media/mountHDD2/khoibaocon/alldata/A1883.mat', '/media/mountHDD2/khoibaocon/alldata/A1884.mat', '/media/mountHDD2/khoibaocon/alldata/A1885.mat', '/media/mountHDD2/khoibaocon/alldata/A1886.mat', '/media/mountHDD2/khoibaocon/alldata/A1887.mat', '/media/mountHDD2/khoibaocon/alldata/A1888.mat', '/media/mountHDD2/khoibaocon/alldata/A1889.mat', '/media/mountHDD2/khoibaocon/alldata/A1891.mat', '/media/mountHDD2/khoibaocon/alldata/A1892.mat', '/media/mountHDD2/khoibaocon/alldata/A1893.mat', '/media/mountHDD2/khoibaocon/alldata/A1894.mat', '/media/mountHDD2/khoibaocon/alldata/A1895.mat', '/media/mountHDD2/khoibaocon/alldata/A1896.mat', '/media/mountHDD2/khoibaocon/alldata/A3720.mat', '/media/mountHDD2/khoibaocon/alldata/A1898.mat', '/media/mountHDD2/khoibaocon/alldata/A1899.mat', '/media/mountHDD2/khoibaocon/alldata/A1900.mat', '/media/mountHDD2/khoibaocon/alldata/A1901.mat', '/media/mountHDD2/khoibaocon/alldata/A1902.mat', '/media/mountHDD2/khoibaocon/alldata/A1903.mat', '/media/mountHDD2/khoibaocon/alldata/A1904.mat', '/media/mountHDD2/khoibaocon/alldata/A1905.mat', '/media/mountHDD2/khoibaocon/alldata/A1906.mat', '/media/mountHDD2/khoibaocon/alldata/A1907.mat', '/media/mountHDD2/khoibaocon/alldata/A1908.mat', '/media/mountHDD2/khoibaocon/alldata/A1909.mat', '/media/mountHDD2/khoibaocon/alldata/A1910.mat', '/media/mountHDD2/khoibaocon/alldata/A1911.mat', '/media/mountHDD2/khoibaocon/alldata/A1912.mat', '/media/mountHDD2/khoibaocon/alldata/A1913.mat', '/media/mountHDD2/khoibaocon/alldata/A1914.mat', '/media/mountHDD2/khoibaocon/alldata/A1915.mat', '/media/mountHDD2/khoibaocon/alldata/A1916.mat', '/media/mountHDD2/khoibaocon/alldata/A1917.mat', '/media/mountHDD2/khoibaocon/alldata/A1918.mat', '/media/mountHDD2/khoibaocon/alldata/A1919.mat', '/media/mountHDD2/khoibaocon/alldata/A1920.mat', '/media/mountHDD2/khoibaocon/alldata/A1921.mat', '/media/mountHDD2/khoibaocon/alldata/A1922.mat', '/media/mountHDD2/khoibaocon/alldata/A1923.mat', '/media/mountHDD2/khoibaocon/alldata/A1924.mat', '/media/mountHDD2/khoibaocon/alldata/A1925.mat', '/media/mountHDD2/khoibaocon/alldata/A1926.mat', '/media/mountHDD2/khoibaocon/alldata/A1927.mat', '/media/mountHDD2/khoibaocon/alldata/A1928.mat', '/media/mountHDD2/khoibaocon/alldata/A1929.mat', '/media/mountHDD2/khoibaocon/alldata/A1930.mat', '/media/mountHDD2/khoibaocon/alldata/A1931.mat', '/media/mountHDD2/khoibaocon/alldata/A1932.mat', '/media/mountHDD2/khoibaocon/alldata/A1933.mat', '/media/mountHDD2/khoibaocon/alldata/A1934.mat', '/media/mountHDD2/khoibaocon/alldata/A1935.mat', '/media/mountHDD2/khoibaocon/alldata/A1936.mat', '/media/mountHDD2/khoibaocon/alldata/A1938.mat', '/media/mountHDD2/khoibaocon/alldata/A1939.mat', '/media/mountHDD2/khoibaocon/alldata/A1940.mat', '/media/mountHDD2/khoibaocon/alldata/A1941.mat', '/media/mountHDD2/khoibaocon/alldata/A1942.mat', '/media/mountHDD2/khoibaocon/alldata/A1943.mat', '/media/mountHDD2/khoibaocon/alldata/A1944.mat', '/media/mountHDD2/khoibaocon/alldata/A1945.mat', '/media/mountHDD2/khoibaocon/alldata/A1946.mat', '/media/mountHDD2/khoibaocon/alldata/A1947.mat', '/media/mountHDD2/khoibaocon/alldata/A1948.mat', '/media/mountHDD2/khoibaocon/alldata/A1949.mat', '/media/mountHDD2/khoibaocon/alldata/A1951.mat', '/media/mountHDD2/khoibaocon/alldata/A1952.mat', '/media/mountHDD2/khoibaocon/alldata/A1953.mat', '/media/mountHDD2/khoibaocon/alldata/A1954.mat', '/media/mountHDD2/khoibaocon/alldata/A1955.mat', '/media/mountHDD2/khoibaocon/alldata/A1956.mat', '/media/mountHDD2/khoibaocon/alldata/A1957.mat', '/media/mountHDD2/khoibaocon/alldata/A1958.mat', '/media/mountHDD2/khoibaocon/alldata/A1959.mat', '/media/mountHDD2/khoibaocon/alldata/A1960.mat', '/media/mountHDD2/khoibaocon/alldata/A1961.mat', '/media/mountHDD2/khoibaocon/alldata/A1963.mat', '/media/mountHDD2/khoibaocon/alldata/A1964.mat', '/media/mountHDD2/khoibaocon/alldata/A1965.mat', '/media/mountHDD2/khoibaocon/alldata/A1966.mat', '/media/mountHDD2/khoibaocon/alldata/A1967.mat', '/media/mountHDD2/khoibaocon/alldata/A1968.mat', '/media/mountHDD2/khoibaocon/alldata/A1969.mat', '/media/mountHDD2/khoibaocon/alldata/A1970.mat', '/media/mountHDD2/khoibaocon/alldata/A1971.mat', '/media/mountHDD2/khoibaocon/alldata/A1972.mat', '/media/mountHDD2/khoibaocon/alldata/A1973.mat', '/media/mountHDD2/khoibaocon/alldata/A1974.mat', '/media/mountHDD2/khoibaocon/alldata/A1975.mat', '/media/mountHDD2/khoibaocon/alldata/A1976.mat', '/media/mountHDD2/khoibaocon/alldata/A1977.mat', '/media/mountHDD2/khoibaocon/alldata/A1978.mat', '/media/mountHDD2/khoibaocon/alldata/A1979.mat', '/media/mountHDD2/khoibaocon/alldata/A1980.mat', '/media/mountHDD2/khoibaocon/alldata/A1981.mat', '/media/mountHDD2/khoibaocon/alldata/A1982.mat', '/media/mountHDD2/khoibaocon/alldata/A1983.mat', '/media/mountHDD2/khoibaocon/alldata/A1984.mat', '/media/mountHDD2/khoibaocon/alldata/A1985.mat', '/media/mountHDD2/khoibaocon/alldata/A1986.mat', '/media/mountHDD2/khoibaocon/alldata/A1987.mat', '/media/mountHDD2/khoibaocon/alldata/A1988.mat', '/media/mountHDD2/khoibaocon/alldata/A1989.mat', '/media/mountHDD2/khoibaocon/alldata/A1990.mat', '/media/mountHDD2/khoibaocon/alldata/A1991.mat', '/media/mountHDD2/khoibaocon/alldata/A1992.mat', '/media/mountHDD2/khoibaocon/alldata/A1993.mat', '/media/mountHDD2/khoibaocon/alldata/A1994.mat', '/media/mountHDD2/khoibaocon/alldata/A1995.mat', '/media/mountHDD2/khoibaocon/alldata/A1996.mat', '/media/mountHDD2/khoibaocon/alldata/A1997.mat', '/media/mountHDD2/khoibaocon/alldata/A1998.mat', '/media/mountHDD2/khoibaocon/alldata/A1999.mat', '/media/mountHDD2/khoibaocon/alldata/A2000.mat', '/media/mountHDD2/khoibaocon/alldata/A2001.mat', '/media/mountHDD2/khoibaocon/alldata/A2002.mat', '/media/mountHDD2/khoibaocon/alldata/A2003.mat', '/media/mountHDD2/khoibaocon/alldata/A2004.mat', '/media/mountHDD2/khoibaocon/alldata/A2005.mat', '/media/mountHDD2/khoibaocon/alldata/A2006.mat', '/media/mountHDD2/khoibaocon/alldata/A2007.mat', '/media/mountHDD2/khoibaocon/alldata/A2008.mat', '/media/mountHDD2/khoibaocon/alldata/A2009.mat', '/media/mountHDD2/khoibaocon/alldata/A2010.mat', '/media/mountHDD2/khoibaocon/alldata/A2012.mat', '/media/mountHDD2/khoibaocon/alldata/A2014.mat', '/media/mountHDD2/khoibaocon/alldata/A2015.mat', '/media/mountHDD2/khoibaocon/alldata/A2016.mat', '/media/mountHDD2/khoibaocon/alldata/A2017.mat', '/media/mountHDD2/khoibaocon/alldata/A2018.mat', '/media/mountHDD2/khoibaocon/alldata/A2019.mat', '/media/mountHDD2/khoibaocon/alldata/A2020.mat', '/media/mountHDD2/khoibaocon/alldata/A2021.mat', '/media/mountHDD2/khoibaocon/alldata/A2022.mat', '/media/mountHDD2/khoibaocon/alldata/A2023.mat', '/media/mountHDD2/khoibaocon/alldata/A2024.mat', '/media/mountHDD2/khoibaocon/alldata/A2025.mat', '/media/mountHDD2/khoibaocon/alldata/A2026.mat', '/media/mountHDD2/khoibaocon/alldata/A2028.mat', '/media/mountHDD2/khoibaocon/alldata/A2029.mat', '/media/mountHDD2/khoibaocon/alldata/A2030.mat', '/media/mountHDD2/khoibaocon/alldata/A2031.mat', '/media/mountHDD2/khoibaocon/alldata/A2032.mat', '/media/mountHDD2/khoibaocon/alldata/A2033.mat', '/media/mountHDD2/khoibaocon/alldata/A2034.mat', '/media/mountHDD2/khoibaocon/alldata/A2035.mat', '/media/mountHDD2/khoibaocon/alldata/A2036.mat', '/media/mountHDD2/khoibaocon/alldata/A2037.mat', '/media/mountHDD2/khoibaocon/alldata/A2038.mat', '/media/mountHDD2/khoibaocon/alldata/A2039.mat', '/media/mountHDD2/khoibaocon/alldata/A2040.mat', '/media/mountHDD2/khoibaocon/alldata/A2041.mat', '/media/mountHDD2/khoibaocon/alldata/A2042.mat', '/media/mountHDD2/khoibaocon/alldata/A2043.mat', '/media/mountHDD2/khoibaocon/alldata/A2044.mat', '/media/mountHDD2/khoibaocon/alldata/A2045.mat', '/media/mountHDD2/khoibaocon/alldata/A2046.mat', '/media/mountHDD2/khoibaocon/alldata/A2047.mat', '/media/mountHDD2/khoibaocon/alldata/A2048.mat', '/media/mountHDD2/khoibaocon/alldata/A2049.mat', '/media/mountHDD2/khoibaocon/alldata/A2050.mat', '/media/mountHDD2/khoibaocon/alldata/A2051.mat', '/media/mountHDD2/khoibaocon/alldata/A2052.mat', '/media/mountHDD2/khoibaocon/alldata/A2053.mat', '/media/mountHDD2/khoibaocon/alldata/A2054.mat', '/media/mountHDD2/khoibaocon/alldata/A2055.mat', '/media/mountHDD2/khoibaocon/alldata/A2056.mat', '/media/mountHDD2/khoibaocon/alldata/A2057.mat', '/media/mountHDD2/khoibaocon/alldata/A2058.mat', '/media/mountHDD2/khoibaocon/alldata/A2059.mat', '/media/mountHDD2/khoibaocon/alldata/A2060.mat', '/media/mountHDD2/khoibaocon/alldata/A2061.mat', '/media/mountHDD2/khoibaocon/alldata/A2062.mat', '/media/mountHDD2/khoibaocon/alldata/A2063.mat', '/media/mountHDD2/khoibaocon/alldata/A2064.mat', '/media/mountHDD2/khoibaocon/alldata/A2065.mat', '/media/mountHDD2/khoibaocon/alldata/A2066.mat', '/media/mountHDD2/khoibaocon/alldata/A2067.mat', '/media/mountHDD2/khoibaocon/alldata/A2068.mat', '/media/mountHDD2/khoibaocon/alldata/A2070.mat', '/media/mountHDD2/khoibaocon/alldata/A2071.mat', '/media/mountHDD2/khoibaocon/alldata/A2072.mat', '/media/mountHDD2/khoibaocon/alldata/A2073.mat', '/media/mountHDD2/khoibaocon/alldata/A2074.mat', '/media/mountHDD2/khoibaocon/alldata/A2075.mat', '/media/mountHDD2/khoibaocon/alldata/A2076.mat', '/media/mountHDD2/khoibaocon/alldata/A2081.mat', '/media/mountHDD2/khoibaocon/alldata/A2082.mat', '/media/mountHDD2/khoibaocon/alldata/A2083.mat', '/media/mountHDD2/khoibaocon/alldata/A2084.mat', '/media/mountHDD2/khoibaocon/alldata/A2085.mat', '/media/mountHDD2/khoibaocon/alldata/A2086.mat', '/media/mountHDD2/khoibaocon/alldata/A2087.mat', '/media/mountHDD2/khoibaocon/alldata/A2088.mat', '/media/mountHDD2/khoibaocon/alldata/A2089.mat', '/media/mountHDD2/khoibaocon/alldata/A2090.mat', '/media/mountHDD2/khoibaocon/alldata/A2091.mat', '/media/mountHDD2/khoibaocon/alldata/A2092.mat', '/media/mountHDD2/khoibaocon/alldata/A2093.mat', '/media/mountHDD2/khoibaocon/alldata/A2094.mat', '/media/mountHDD2/khoibaocon/alldata/A2095.mat', '/media/mountHDD2/khoibaocon/alldata/A2097.mat', '/media/mountHDD2/khoibaocon/alldata/A2098.mat', '/media/mountHDD2/khoibaocon/alldata/A2099.mat', '/media/mountHDD2/khoibaocon/alldata/A2101.mat', '/media/mountHDD2/khoibaocon/alldata/A2102.mat', '/media/mountHDD2/khoibaocon/alldata/A2103.mat', '/media/mountHDD2/khoibaocon/alldata/A2104.mat', '/media/mountHDD2/khoibaocon/alldata/A2105.mat', '/media/mountHDD2/khoibaocon/alldata/A2108.mat', '/media/mountHDD2/khoibaocon/alldata/A2109.mat', '/media/mountHDD2/khoibaocon/alldata/A2110.mat', '/media/mountHDD2/khoibaocon/alldata/A2111.mat', '/media/mountHDD2/khoibaocon/alldata/A2112.mat', '/media/mountHDD2/khoibaocon/alldata/A2113.mat', '/media/mountHDD2/khoibaocon/alldata/A2115.mat', '/media/mountHDD2/khoibaocon/alldata/A2116.mat', '/media/mountHDD2/khoibaocon/alldata/A2117.mat', '/media/mountHDD2/khoibaocon/alldata/A2118.mat', '/media/mountHDD2/khoibaocon/alldata/A2119.mat', '/media/mountHDD2/khoibaocon/alldata/A2120.mat', '/media/mountHDD2/khoibaocon/alldata/A2121.mat', '/media/mountHDD2/khoibaocon/alldata/A2122.mat', '/media/mountHDD2/khoibaocon/alldata/A2123.mat', '/media/mountHDD2/khoibaocon/alldata/A2124.mat', '/media/mountHDD2/khoibaocon/alldata/A2125.mat', '/media/mountHDD2/khoibaocon/alldata/A2126.mat', '/media/mountHDD2/khoibaocon/alldata/A2127.mat', '/media/mountHDD2/khoibaocon/alldata/A2128.mat', '/media/mountHDD2/khoibaocon/alldata/A2129.mat', '/media/mountHDD2/khoibaocon/alldata/A2130.mat', '/media/mountHDD2/khoibaocon/alldata/A2131.mat', '/media/mountHDD2/khoibaocon/alldata/A2132.mat', '/media/mountHDD2/khoibaocon/alldata/A2133.mat', '/media/mountHDD2/khoibaocon/alldata/A2134.mat', '/media/mountHDD2/khoibaocon/alldata/A2135.mat', '/media/mountHDD2/khoibaocon/alldata/A2136.mat', '/media/mountHDD2/khoibaocon/alldata/A2137.mat', '/media/mountHDD2/khoibaocon/alldata/A2138.mat', '/media/mountHDD2/khoibaocon/alldata/A2139.mat', '/media/mountHDD2/khoibaocon/alldata/A2140.mat', '/media/mountHDD2/khoibaocon/alldata/A2141.mat', '/media/mountHDD2/khoibaocon/alldata/A2142.mat', '/media/mountHDD2/khoibaocon/alldata/A2143.mat', '/media/mountHDD2/khoibaocon/alldata/A2144.mat', '/media/mountHDD2/khoibaocon/alldata/A2145.mat', '/media/mountHDD2/khoibaocon/alldata/A2146.mat', '/media/mountHDD2/khoibaocon/alldata/A2147.mat', '/media/mountHDD2/khoibaocon/alldata/A2148.mat', '/media/mountHDD2/khoibaocon/alldata/A2149.mat', '/media/mountHDD2/khoibaocon/alldata/A2150.mat', '/media/mountHDD2/khoibaocon/alldata/A2151.mat', '/media/mountHDD2/khoibaocon/alldata/A2152.mat', '/media/mountHDD2/khoibaocon/alldata/A2153.mat', '/media/mountHDD2/khoibaocon/alldata/A2154.mat', '/media/mountHDD2/khoibaocon/alldata/A2155.mat', '/media/mountHDD2/khoibaocon/alldata/A2156.mat', '/media/mountHDD2/khoibaocon/alldata/A2157.mat', '/media/mountHDD2/khoibaocon/alldata/A2159.mat', '/media/mountHDD2/khoibaocon/alldata/A2160.mat', '/media/mountHDD2/khoibaocon/alldata/A2162.mat', '/media/mountHDD2/khoibaocon/alldata/A2163.mat', '/media/mountHDD2/khoibaocon/alldata/A2164.mat', '/media/mountHDD2/khoibaocon/alldata/A2165.mat', '/media/mountHDD2/khoibaocon/alldata/A2167.mat', '/media/mountHDD2/khoibaocon/alldata/A2168.mat', '/media/mountHDD2/khoibaocon/alldata/A2169.mat', '/media/mountHDD2/khoibaocon/alldata/A2170.mat', '/media/mountHDD2/khoibaocon/alldata/A2171.mat', '/media/mountHDD2/khoibaocon/alldata/A2172.mat', '/media/mountHDD2/khoibaocon/alldata/A2174.mat', '/media/mountHDD2/khoibaocon/alldata/A2177.mat', '/media/mountHDD2/khoibaocon/alldata/A2178.mat', '/media/mountHDD2/khoibaocon/alldata/A2179.mat', '/media/mountHDD2/khoibaocon/alldata/A2180.mat', '/media/mountHDD2/khoibaocon/alldata/A2181.mat', '/media/mountHDD2/khoibaocon/alldata/A2182.mat', '/media/mountHDD2/khoibaocon/alldata/A2183.mat', '/media/mountHDD2/khoibaocon/alldata/A2184.mat', '/media/mountHDD2/khoibaocon/alldata/A2185.mat', '/media/mountHDD2/khoibaocon/alldata/A2186.mat', '/media/mountHDD2/khoibaocon/alldata/A2187.mat', '/media/mountHDD2/khoibaocon/alldata/A2188.mat', '/media/mountHDD2/khoibaocon/alldata/A2189.mat', '/media/mountHDD2/khoibaocon/alldata/A2190.mat', '/media/mountHDD2/khoibaocon/alldata/A2191.mat', '/media/mountHDD2/khoibaocon/alldata/A2192.mat', '/media/mountHDD2/khoibaocon/alldata/A2193.mat', '/media/mountHDD2/khoibaocon/alldata/A2194.mat', '/media/mountHDD2/khoibaocon/alldata/A2195.mat', '/media/mountHDD2/khoibaocon/alldata/A2196.mat', '/media/mountHDD2/khoibaocon/alldata/A2197.mat', '/media/mountHDD2/khoibaocon/alldata/A2198.mat', '/media/mountHDD2/khoibaocon/alldata/A2199.mat', '/media/mountHDD2/khoibaocon/alldata/A2200.mat', '/media/mountHDD2/khoibaocon/alldata/A2201.mat', '/media/mountHDD2/khoibaocon/alldata/A2202.mat', '/media/mountHDD2/khoibaocon/alldata/A2203.mat', '/media/mountHDD2/khoibaocon/alldata/A2204.mat', '/media/mountHDD2/khoibaocon/alldata/A2205.mat', '/media/mountHDD2/khoibaocon/alldata/A2206.mat', '/media/mountHDD2/khoibaocon/alldata/A2207.mat', '/media/mountHDD2/khoibaocon/alldata/A2208.mat', '/media/mountHDD2/khoibaocon/alldata/A2209.mat', '/media/mountHDD2/khoibaocon/alldata/A2210.mat', '/media/mountHDD2/khoibaocon/alldata/A2211.mat', '/media/mountHDD2/khoibaocon/alldata/A2212.mat', '/media/mountHDD2/khoibaocon/alldata/A2213.mat', '/media/mountHDD2/khoibaocon/alldata/A2215.mat', '/media/mountHDD2/khoibaocon/alldata/A2216.mat', '/media/mountHDD2/khoibaocon/alldata/A2217.mat', '/media/mountHDD2/khoibaocon/alldata/A2218.mat', '/media/mountHDD2/khoibaocon/alldata/A2219.mat', '/media/mountHDD2/khoibaocon/alldata/A2220.mat', '/media/mountHDD2/khoibaocon/alldata/A2222.mat', '/media/mountHDD2/khoibaocon/alldata/A2223.mat', '/media/mountHDD2/khoibaocon/alldata/A2224.mat', '/media/mountHDD2/khoibaocon/alldata/A2225.mat', '/media/mountHDD2/khoibaocon/alldata/A2226.mat', '/media/mountHDD2/khoibaocon/alldata/A2227.mat', '/media/mountHDD2/khoibaocon/alldata/A2228.mat', '/media/mountHDD2/khoibaocon/alldata/A2229.mat', '/media/mountHDD2/khoibaocon/alldata/A2230.mat', '/media/mountHDD2/khoibaocon/alldata/A2231.mat', '/media/mountHDD2/khoibaocon/alldata/A2233.mat', '/media/mountHDD2/khoibaocon/alldata/A2234.mat', '/media/mountHDD2/khoibaocon/alldata/A2235.mat', '/media/mountHDD2/khoibaocon/alldata/A2236.mat', '/media/mountHDD2/khoibaocon/alldata/A2237.mat', '/media/mountHDD2/khoibaocon/alldata/A2238.mat', '/media/mountHDD2/khoibaocon/alldata/A2239.mat', '/media/mountHDD2/khoibaocon/alldata/A2240.mat', '/media/mountHDD2/khoibaocon/alldata/A2241.mat', '/media/mountHDD2/khoibaocon/alldata/A2242.mat', '/media/mountHDD2/khoibaocon/alldata/A2243.mat', '/media/mountHDD2/khoibaocon/alldata/A2244.mat', '/media/mountHDD2/khoibaocon/alldata/A2245.mat', '/media/mountHDD2/khoibaocon/alldata/A2246.mat', '/media/mountHDD2/khoibaocon/alldata/A2247.mat', '/media/mountHDD2/khoibaocon/alldata/A2248.mat', '/media/mountHDD2/khoibaocon/alldata/A2249.mat', '/media/mountHDD2/khoibaocon/alldata/A2250.mat', '/media/mountHDD2/khoibaocon/alldata/A2251.mat', '/media/mountHDD2/khoibaocon/alldata/A2252.mat', '/media/mountHDD2/khoibaocon/alldata/A2253.mat', '/media/mountHDD2/khoibaocon/alldata/A2254.mat', '/media/mountHDD2/khoibaocon/alldata/A2255.mat', '/media/mountHDD2/khoibaocon/alldata/A2257.mat', '/media/mountHDD2/khoibaocon/alldata/A2258.mat', '/media/mountHDD2/khoibaocon/alldata/A2259.mat', '/media/mountHDD2/khoibaocon/alldata/A2260.mat', '/media/mountHDD2/khoibaocon/alldata/A2261.mat', '/media/mountHDD2/khoibaocon/alldata/A2262.mat', '/media/mountHDD2/khoibaocon/alldata/A2263.mat', '/media/mountHDD2/khoibaocon/alldata/A2264.mat', '/media/mountHDD2/khoibaocon/alldata/A2266.mat', '/media/mountHDD2/khoibaocon/alldata/A3896.mat', '/media/mountHDD2/khoibaocon/alldata/A2268.mat', '/media/mountHDD2/khoibaocon/alldata/A2269.mat', '/media/mountHDD2/khoibaocon/alldata/A2270.mat', '/media/mountHDD2/khoibaocon/alldata/A2271.mat', '/media/mountHDD2/khoibaocon/alldata/A2272.mat', '/media/mountHDD2/khoibaocon/alldata/A2273.mat', '/media/mountHDD2/khoibaocon/alldata/A2274.mat', '/media/mountHDD2/khoibaocon/alldata/A2275.mat', '/media/mountHDD2/khoibaocon/alldata/A2276.mat', '/media/mountHDD2/khoibaocon/alldata/A2277.mat', '/media/mountHDD2/khoibaocon/alldata/A2279.mat', '/media/mountHDD2/khoibaocon/alldata/A2280.mat', '/media/mountHDD2/khoibaocon/alldata/A2281.mat', '/media/mountHDD2/khoibaocon/alldata/A2283.mat', '/media/mountHDD2/khoibaocon/alldata/A2284.mat', '/media/mountHDD2/khoibaocon/alldata/A2285.mat', '/media/mountHDD2/khoibaocon/alldata/A2286.mat', '/media/mountHDD2/khoibaocon/alldata/A2287.mat', '/media/mountHDD2/khoibaocon/alldata/A2288.mat', '/media/mountHDD2/khoibaocon/alldata/A2289.mat', '/media/mountHDD2/khoibaocon/alldata/A0603.mat', '/media/mountHDD2/khoibaocon/alldata/A2291.mat', '/media/mountHDD2/khoibaocon/alldata/A2292.mat', '/media/mountHDD2/khoibaocon/alldata/A2293.mat', '/media/mountHDD2/khoibaocon/alldata/A2294.mat', '/media/mountHDD2/khoibaocon/alldata/A2295.mat', '/media/mountHDD2/khoibaocon/alldata/A2298.mat', '/media/mountHDD2/khoibaocon/alldata/A2299.mat', '/media/mountHDD2/khoibaocon/alldata/A2300.mat', '/media/mountHDD2/khoibaocon/alldata/A2301.mat', '/media/mountHDD2/khoibaocon/alldata/A2302.mat', '/media/mountHDD2/khoibaocon/alldata/A2303.mat', '/media/mountHDD2/khoibaocon/alldata/A2304.mat', '/media/mountHDD2/khoibaocon/alldata/A2305.mat', '/media/mountHDD2/khoibaocon/alldata/A2306.mat', '/media/mountHDD2/khoibaocon/alldata/A2307.mat', '/media/mountHDD2/khoibaocon/alldata/A2308.mat', '/media/mountHDD2/khoibaocon/alldata/A2311.mat', '/media/mountHDD2/khoibaocon/alldata/A2312.mat', '/media/mountHDD2/khoibaocon/alldata/A2313.mat', '/media/mountHDD2/khoibaocon/alldata/A2314.mat', '/media/mountHDD2/khoibaocon/alldata/A2315.mat', '/media/mountHDD2/khoibaocon/alldata/A2316.mat', '/media/mountHDD2/khoibaocon/alldata/A2317.mat', '/media/mountHDD2/khoibaocon/alldata/A2318.mat', '/media/mountHDD2/khoibaocon/alldata/A2319.mat', '/media/mountHDD2/khoibaocon/alldata/A2320.mat', '/media/mountHDD2/khoibaocon/alldata/A2321.mat', '/media/mountHDD2/khoibaocon/alldata/A2322.mat', '/media/mountHDD2/khoibaocon/alldata/A2323.mat', '/media/mountHDD2/khoibaocon/alldata/A2324.mat', '/media/mountHDD2/khoibaocon/alldata/A2325.mat', '/media/mountHDD2/khoibaocon/alldata/A2326.mat', '/media/mountHDD2/khoibaocon/alldata/A2327.mat', '/media/mountHDD2/khoibaocon/alldata/A2328.mat', '/media/mountHDD2/khoibaocon/alldata/A2329.mat', '/media/mountHDD2/khoibaocon/alldata/A2331.mat', '/media/mountHDD2/khoibaocon/alldata/A2332.mat', '/media/mountHDD2/khoibaocon/alldata/A2333.mat', '/media/mountHDD2/khoibaocon/alldata/A2334.mat', '/media/mountHDD2/khoibaocon/alldata/A2335.mat', '/media/mountHDD2/khoibaocon/alldata/A2336.mat', '/media/mountHDD2/khoibaocon/alldata/A2337.mat', '/media/mountHDD2/khoibaocon/alldata/A2338.mat', '/media/mountHDD2/khoibaocon/alldata/A2340.mat', '/media/mountHDD2/khoibaocon/alldata/A2341.mat', '/media/mountHDD2/khoibaocon/alldata/A2342.mat', '/media/mountHDD2/khoibaocon/alldata/A2343.mat', '/media/mountHDD2/khoibaocon/alldata/A2344.mat', '/media/mountHDD2/khoibaocon/alldata/A2345.mat', '/media/mountHDD2/khoibaocon/alldata/A2346.mat', '/media/mountHDD2/khoibaocon/alldata/A2347.mat', '/media/mountHDD2/khoibaocon/alldata/A2348.mat', '/media/mountHDD2/khoibaocon/alldata/A2349.mat', '/media/mountHDD2/khoibaocon/alldata/A2350.mat', '/media/mountHDD2/khoibaocon/alldata/A2351.mat', '/media/mountHDD2/khoibaocon/alldata/A2352.mat', '/media/mountHDD2/khoibaocon/alldata/A2353.mat', '/media/mountHDD2/khoibaocon/alldata/A2354.mat', '/media/mountHDD2/khoibaocon/alldata/A2355.mat', '/media/mountHDD2/khoibaocon/alldata/A2356.mat', '/media/mountHDD2/khoibaocon/alldata/A2358.mat', '/media/mountHDD2/khoibaocon/alldata/A2359.mat', '/media/mountHDD2/khoibaocon/alldata/A2360.mat', '/media/mountHDD2/khoibaocon/alldata/A2361.mat', '/media/mountHDD2/khoibaocon/alldata/A2362.mat', '/media/mountHDD2/khoibaocon/alldata/A2363.mat', '/media/mountHDD2/khoibaocon/alldata/A2364.mat', '/media/mountHDD2/khoibaocon/alldata/A2365.mat', '/media/mountHDD2/khoibaocon/alldata/A2366.mat', '/media/mountHDD2/khoibaocon/alldata/A2367.mat', '/media/mountHDD2/khoibaocon/alldata/A2368.mat', '/media/mountHDD2/khoibaocon/alldata/A2369.mat', '/media/mountHDD2/khoibaocon/alldata/A2370.mat', '/media/mountHDD2/khoibaocon/alldata/A2371.mat', '/media/mountHDD2/khoibaocon/alldata/A2372.mat', '/media/mountHDD2/khoibaocon/alldata/A2373.mat', '/media/mountHDD2/khoibaocon/alldata/A2375.mat', '/media/mountHDD2/khoibaocon/alldata/A2376.mat', '/media/mountHDD2/khoibaocon/alldata/A2377.mat', '/media/mountHDD2/khoibaocon/alldata/A2378.mat', '/media/mountHDD2/khoibaocon/alldata/A2379.mat', '/media/mountHDD2/khoibaocon/alldata/A2380.mat', '/media/mountHDD2/khoibaocon/alldata/A2381.mat', '/media/mountHDD2/khoibaocon/alldata/A2382.mat', '/media/mountHDD2/khoibaocon/alldata/A2383.mat', '/media/mountHDD2/khoibaocon/alldata/A2384.mat', '/media/mountHDD2/khoibaocon/alldata/A2385.mat', '/media/mountHDD2/khoibaocon/alldata/A2386.mat', '/media/mountHDD2/khoibaocon/alldata/A2387.mat', '/media/mountHDD2/khoibaocon/alldata/A2388.mat', '/media/mountHDD2/khoibaocon/alldata/A2389.mat', '/media/mountHDD2/khoibaocon/alldata/A2390.mat', '/media/mountHDD2/khoibaocon/alldata/A2391.mat', '/media/mountHDD2/khoibaocon/alldata/A2393.mat', '/media/mountHDD2/khoibaocon/alldata/A2394.mat', '/media/mountHDD2/khoibaocon/alldata/A2395.mat', '/media/mountHDD2/khoibaocon/alldata/A2396.mat', '/media/mountHDD2/khoibaocon/alldata/A2397.mat', '/media/mountHDD2/khoibaocon/alldata/A2398.mat', '/media/mountHDD2/khoibaocon/alldata/A2399.mat', '/media/mountHDD2/khoibaocon/alldata/A2400.mat', '/media/mountHDD2/khoibaocon/alldata/A2401.mat', '/media/mountHDD2/khoibaocon/alldata/A2402.mat', '/media/mountHDD2/khoibaocon/alldata/A2403.mat', '/media/mountHDD2/khoibaocon/alldata/A2404.mat', '/media/mountHDD2/khoibaocon/alldata/A2405.mat', '/media/mountHDD2/khoibaocon/alldata/A2406.mat', '/media/mountHDD2/khoibaocon/alldata/A2407.mat', '/media/mountHDD2/khoibaocon/alldata/A2408.mat', '/media/mountHDD2/khoibaocon/alldata/A2409.mat', '/media/mountHDD2/khoibaocon/alldata/A2410.mat', '/media/mountHDD2/khoibaocon/alldata/A2411.mat', '/media/mountHDD2/khoibaocon/alldata/A2412.mat', '/media/mountHDD2/khoibaocon/alldata/A2413.mat', '/media/mountHDD2/khoibaocon/alldata/A2414.mat', '/media/mountHDD2/khoibaocon/alldata/A2415.mat', '/media/mountHDD2/khoibaocon/alldata/A2416.mat', '/media/mountHDD2/khoibaocon/alldata/A2417.mat', '/media/mountHDD2/khoibaocon/alldata/A2418.mat', '/media/mountHDD2/khoibaocon/alldata/A2419.mat', '/media/mountHDD2/khoibaocon/alldata/A2420.mat', '/media/mountHDD2/khoibaocon/alldata/A2421.mat', '/media/mountHDD2/khoibaocon/alldata/A2422.mat', '/media/mountHDD2/khoibaocon/alldata/A2423.mat', '/media/mountHDD2/khoibaocon/alldata/A2424.mat', '/media/mountHDD2/khoibaocon/alldata/A2425.mat', '/media/mountHDD2/khoibaocon/alldata/A2426.mat', '/media/mountHDD2/khoibaocon/alldata/A2427.mat', '/media/mountHDD2/khoibaocon/alldata/A2428.mat', '/media/mountHDD2/khoibaocon/alldata/A2429.mat', '/media/mountHDD2/khoibaocon/alldata/A2432.mat', '/media/mountHDD2/khoibaocon/alldata/A2433.mat', '/media/mountHDD2/khoibaocon/alldata/A2434.mat', '/media/mountHDD2/khoibaocon/alldata/A2435.mat', '/media/mountHDD2/khoibaocon/alldata/A2437.mat', '/media/mountHDD2/khoibaocon/alldata/A2439.mat', '/media/mountHDD2/khoibaocon/alldata/A2440.mat', '/media/mountHDD2/khoibaocon/alldata/A2441.mat', '/media/mountHDD2/khoibaocon/alldata/A2442.mat', '/media/mountHDD2/khoibaocon/alldata/A2443.mat', '/media/mountHDD2/khoibaocon/alldata/A2444.mat', '/media/mountHDD2/khoibaocon/alldata/A2445.mat', '/media/mountHDD2/khoibaocon/alldata/A2446.mat', '/media/mountHDD2/khoibaocon/alldata/A2447.mat', '/media/mountHDD2/khoibaocon/alldata/A2448.mat', '/media/mountHDD2/khoibaocon/alldata/A2449.mat', '/media/mountHDD2/khoibaocon/alldata/A2450.mat', '/media/mountHDD2/khoibaocon/alldata/A2451.mat', '/media/mountHDD2/khoibaocon/alldata/A2452.mat', '/media/mountHDD2/khoibaocon/alldata/A2453.mat', '/media/mountHDD2/khoibaocon/alldata/A2454.mat', '/media/mountHDD2/khoibaocon/alldata/A2455.mat', '/media/mountHDD2/khoibaocon/alldata/A2456.mat', '/media/mountHDD2/khoibaocon/alldata/A2457.mat', '/media/mountHDD2/khoibaocon/alldata/A2458.mat', '/media/mountHDD2/khoibaocon/alldata/A2459.mat', '/media/mountHDD2/khoibaocon/alldata/A2460.mat', '/media/mountHDD2/khoibaocon/alldata/A2461.mat', '/media/mountHDD2/khoibaocon/alldata/A2462.mat', '/media/mountHDD2/khoibaocon/alldata/A2463.mat', '/media/mountHDD2/khoibaocon/alldata/A2464.mat', '/media/mountHDD2/khoibaocon/alldata/A2465.mat', '/media/mountHDD2/khoibaocon/alldata/A2466.mat', '/media/mountHDD2/khoibaocon/alldata/A2467.mat', '/media/mountHDD2/khoibaocon/alldata/A2468.mat', '/media/mountHDD2/khoibaocon/alldata/A2469.mat', '/media/mountHDD2/khoibaocon/alldata/A2470.mat', '/media/mountHDD2/khoibaocon/alldata/A2471.mat', '/media/mountHDD2/khoibaocon/alldata/A2472.mat', '/media/mountHDD2/khoibaocon/alldata/A2473.mat', '/media/mountHDD2/khoibaocon/alldata/A2474.mat', '/media/mountHDD2/khoibaocon/alldata/A2475.mat', '/media/mountHDD2/khoibaocon/alldata/A2476.mat', '/media/mountHDD2/khoibaocon/alldata/A2477.mat', '/media/mountHDD2/khoibaocon/alldata/A2478.mat', '/media/mountHDD2/khoibaocon/alldata/A2479.mat', '/media/mountHDD2/khoibaocon/alldata/A2480.mat', '/media/mountHDD2/khoibaocon/alldata/A2481.mat', '/media/mountHDD2/khoibaocon/alldata/A2482.mat', '/media/mountHDD2/khoibaocon/alldata/A2483.mat', '/media/mountHDD2/khoibaocon/alldata/A2484.mat', '/media/mountHDD2/khoibaocon/alldata/A2485.mat', '/media/mountHDD2/khoibaocon/alldata/A2487.mat', '/media/mountHDD2/khoibaocon/alldata/A2488.mat', '/media/mountHDD2/khoibaocon/alldata/A2489.mat', '/media/mountHDD2/khoibaocon/alldata/A2490.mat', '/media/mountHDD2/khoibaocon/alldata/A2491.mat', '/media/mountHDD2/khoibaocon/alldata/A2492.mat', '/media/mountHDD2/khoibaocon/alldata/A2493.mat', '/media/mountHDD2/khoibaocon/alldata/A2494.mat', '/media/mountHDD2/khoibaocon/alldata/A2495.mat', '/media/mountHDD2/khoibaocon/alldata/A2496.mat', '/media/mountHDD2/khoibaocon/alldata/A2497.mat', '/media/mountHDD2/khoibaocon/alldata/A2498.mat', '/media/mountHDD2/khoibaocon/alldata/A2499.mat', '/media/mountHDD2/khoibaocon/alldata/A2500.mat', '/media/mountHDD2/khoibaocon/alldata/A2501.mat', '/media/mountHDD2/khoibaocon/alldata/A2502.mat', '/media/mountHDD2/khoibaocon/alldata/A2504.mat', '/media/mountHDD2/khoibaocon/alldata/A2505.mat', '/media/mountHDD2/khoibaocon/alldata/A2506.mat', '/media/mountHDD2/khoibaocon/alldata/A2507.mat', '/media/mountHDD2/khoibaocon/alldata/A2508.mat', '/media/mountHDD2/khoibaocon/alldata/A2509.mat', '/media/mountHDD2/khoibaocon/alldata/A2510.mat', '/media/mountHDD2/khoibaocon/alldata/A2511.mat', '/media/mountHDD2/khoibaocon/alldata/A2512.mat', '/media/mountHDD2/khoibaocon/alldata/A2513.mat', '/media/mountHDD2/khoibaocon/alldata/A2515.mat', '/media/mountHDD2/khoibaocon/alldata/A2516.mat', '/media/mountHDD2/khoibaocon/alldata/A2517.mat', '/media/mountHDD2/khoibaocon/alldata/A2518.mat', '/media/mountHDD2/khoibaocon/alldata/A2519.mat', '/media/mountHDD2/khoibaocon/alldata/A2521.mat', '/media/mountHDD2/khoibaocon/alldata/A2522.mat', '/media/mountHDD2/khoibaocon/alldata/A2523.mat', '/media/mountHDD2/khoibaocon/alldata/A2524.mat', '/media/mountHDD2/khoibaocon/alldata/A2525.mat', '/media/mountHDD2/khoibaocon/alldata/A2526.mat', '/media/mountHDD2/khoibaocon/alldata/A2527.mat', '/media/mountHDD2/khoibaocon/alldata/A2528.mat', '/media/mountHDD2/khoibaocon/alldata/A2529.mat', '/media/mountHDD2/khoibaocon/alldata/A2530.mat', '/media/mountHDD2/khoibaocon/alldata/A2531.mat', '/media/mountHDD2/khoibaocon/alldata/A2532.mat', '/media/mountHDD2/khoibaocon/alldata/A2533.mat', '/media/mountHDD2/khoibaocon/alldata/A2534.mat', '/media/mountHDD2/khoibaocon/alldata/A2536.mat', '/media/mountHDD2/khoibaocon/alldata/A2537.mat', '/media/mountHDD2/khoibaocon/alldata/A2538.mat', '/media/mountHDD2/khoibaocon/alldata/A2539.mat', '/media/mountHDD2/khoibaocon/alldata/A2540.mat', '/media/mountHDD2/khoibaocon/alldata/A2541.mat', '/media/mountHDD2/khoibaocon/alldata/A2542.mat', '/media/mountHDD2/khoibaocon/alldata/A2543.mat', '/media/mountHDD2/khoibaocon/alldata/A2544.mat', '/media/mountHDD2/khoibaocon/alldata/A2545.mat', '/media/mountHDD2/khoibaocon/alldata/A2546.mat', '/media/mountHDD2/khoibaocon/alldata/A2547.mat', '/media/mountHDD2/khoibaocon/alldata/A2548.mat', '/media/mountHDD2/khoibaocon/alldata/A2549.mat', '/media/mountHDD2/khoibaocon/alldata/A2550.mat', '/media/mountHDD2/khoibaocon/alldata/A2551.mat', '/media/mountHDD2/khoibaocon/alldata/A2552.mat', '/media/mountHDD2/khoibaocon/alldata/A2554.mat', '/media/mountHDD2/khoibaocon/alldata/A2555.mat', '/media/mountHDD2/khoibaocon/alldata/A2556.mat', '/media/mountHDD2/khoibaocon/alldata/A2557.mat', '/media/mountHDD2/khoibaocon/alldata/A2558.mat', '/media/mountHDD2/khoibaocon/alldata/A2559.mat', '/media/mountHDD2/khoibaocon/alldata/A2560.mat', '/media/mountHDD2/khoibaocon/alldata/A2561.mat', '/media/mountHDD2/khoibaocon/alldata/A2562.mat', '/media/mountHDD2/khoibaocon/alldata/A2563.mat', '/media/mountHDD2/khoibaocon/alldata/A2564.mat', '/media/mountHDD2/khoibaocon/alldata/A2566.mat', '/media/mountHDD2/khoibaocon/alldata/A2567.mat', '/media/mountHDD2/khoibaocon/alldata/A2568.mat', '/media/mountHDD2/khoibaocon/alldata/A2569.mat', '/media/mountHDD2/khoibaocon/alldata/A2570.mat', '/media/mountHDD2/khoibaocon/alldata/A2571.mat', '/media/mountHDD2/khoibaocon/alldata/A2573.mat', '/media/mountHDD2/khoibaocon/alldata/A2574.mat', '/media/mountHDD2/khoibaocon/alldata/A2575.mat', '/media/mountHDD2/khoibaocon/alldata/A2576.mat', '/media/mountHDD2/khoibaocon/alldata/A2577.mat', '/media/mountHDD2/khoibaocon/alldata/A2578.mat', '/media/mountHDD2/khoibaocon/alldata/A2579.mat', '/media/mountHDD2/khoibaocon/alldata/A2580.mat', '/media/mountHDD2/khoibaocon/alldata/A2582.mat', '/media/mountHDD2/khoibaocon/alldata/A2583.mat', '/media/mountHDD2/khoibaocon/alldata/A2584.mat', '/media/mountHDD2/khoibaocon/alldata/A2585.mat', '/media/mountHDD2/khoibaocon/alldata/A2586.mat', '/media/mountHDD2/khoibaocon/alldata/A2587.mat', '/media/mountHDD2/khoibaocon/alldata/A2588.mat', '/media/mountHDD2/khoibaocon/alldata/A2589.mat', '/media/mountHDD2/khoibaocon/alldata/A2590.mat', '/media/mountHDD2/khoibaocon/alldata/A2591.mat', '/media/mountHDD2/khoibaocon/alldata/A2592.mat', '/media/mountHDD2/khoibaocon/alldata/A2593.mat', '/media/mountHDD2/khoibaocon/alldata/A2594.mat', '/media/mountHDD2/khoibaocon/alldata/A2595.mat', '/media/mountHDD2/khoibaocon/alldata/A2596.mat', '/media/mountHDD2/khoibaocon/alldata/A2597.mat', '/media/mountHDD2/khoibaocon/alldata/A2598.mat', '/media/mountHDD2/khoibaocon/alldata/A2599.mat', '/media/mountHDD2/khoibaocon/alldata/A2600.mat', '/media/mountHDD2/khoibaocon/alldata/A2601.mat', '/media/mountHDD2/khoibaocon/alldata/A2603.mat', '/media/mountHDD2/khoibaocon/alldata/A2604.mat', '/media/mountHDD2/khoibaocon/alldata/A2605.mat', '/media/mountHDD2/khoibaocon/alldata/A2606.mat', '/media/mountHDD2/khoibaocon/alldata/A2608.mat', '/media/mountHDD2/khoibaocon/alldata/A2609.mat', '/media/mountHDD2/khoibaocon/alldata/A2610.mat', '/media/mountHDD2/khoibaocon/alldata/A2611.mat', '/media/mountHDD2/khoibaocon/alldata/A2612.mat', '/media/mountHDD2/khoibaocon/alldata/A2613.mat', '/media/mountHDD2/khoibaocon/alldata/A2614.mat', '/media/mountHDD2/khoibaocon/alldata/A2615.mat', '/media/mountHDD2/khoibaocon/alldata/A2616.mat', '/media/mountHDD2/khoibaocon/alldata/A2617.mat', '/media/mountHDD2/khoibaocon/alldata/A2619.mat', '/media/mountHDD2/khoibaocon/alldata/A2620.mat', '/media/mountHDD2/khoibaocon/alldata/A2621.mat', '/media/mountHDD2/khoibaocon/alldata/A2622.mat', '/media/mountHDD2/khoibaocon/alldata/A2623.mat', '/media/mountHDD2/khoibaocon/alldata/A2626.mat', '/media/mountHDD2/khoibaocon/alldata/A2627.mat', '/media/mountHDD2/khoibaocon/alldata/A2628.mat', '/media/mountHDD2/khoibaocon/alldata/A2629.mat', '/media/mountHDD2/khoibaocon/alldata/A2630.mat', '/media/mountHDD2/khoibaocon/alldata/A2631.mat', '/media/mountHDD2/khoibaocon/alldata/A2632.mat', '/media/mountHDD2/khoibaocon/alldata/A2633.mat', '/media/mountHDD2/khoibaocon/alldata/A2634.mat', '/media/mountHDD2/khoibaocon/alldata/A2635.mat', '/media/mountHDD2/khoibaocon/alldata/A2636.mat', '/media/mountHDD2/khoibaocon/alldata/A2637.mat', '/media/mountHDD2/khoibaocon/alldata/A2638.mat', '/media/mountHDD2/khoibaocon/alldata/A2639.mat', '/media/mountHDD2/khoibaocon/alldata/A2640.mat', '/media/mountHDD2/khoibaocon/alldata/A2641.mat', '/media/mountHDD2/khoibaocon/alldata/A2642.mat', '/media/mountHDD2/khoibaocon/alldata/A2643.mat', '/media/mountHDD2/khoibaocon/alldata/A2644.mat', '/media/mountHDD2/khoibaocon/alldata/A2645.mat', '/media/mountHDD2/khoibaocon/alldata/A2646.mat', '/media/mountHDD2/khoibaocon/alldata/A2647.mat', '/media/mountHDD2/khoibaocon/alldata/A2648.mat', '/media/mountHDD2/khoibaocon/alldata/A2649.mat', '/media/mountHDD2/khoibaocon/alldata/A2650.mat', '/media/mountHDD2/khoibaocon/alldata/A2651.mat', '/media/mountHDD2/khoibaocon/alldata/A2655.mat', '/media/mountHDD2/khoibaocon/alldata/A2656.mat', '/media/mountHDD2/khoibaocon/alldata/A2657.mat', '/media/mountHDD2/khoibaocon/alldata/A2658.mat', '/media/mountHDD2/khoibaocon/alldata/A2659.mat', '/media/mountHDD2/khoibaocon/alldata/A2660.mat', '/media/mountHDD2/khoibaocon/alldata/A2661.mat', '/media/mountHDD2/khoibaocon/alldata/A2662.mat', '/media/mountHDD2/khoibaocon/alldata/A2663.mat', '/media/mountHDD2/khoibaocon/alldata/A2664.mat', '/media/mountHDD2/khoibaocon/alldata/A2665.mat', '/media/mountHDD2/khoibaocon/alldata/A2666.mat', '/media/mountHDD2/khoibaocon/alldata/A2667.mat', '/media/mountHDD2/khoibaocon/alldata/A2668.mat', '/media/mountHDD2/khoibaocon/alldata/A2669.mat', '/media/mountHDD2/khoibaocon/alldata/A2670.mat', '/media/mountHDD2/khoibaocon/alldata/A2671.mat', '/media/mountHDD2/khoibaocon/alldata/A2672.mat', '/media/mountHDD2/khoibaocon/alldata/A2673.mat', '/media/mountHDD2/khoibaocon/alldata/A2674.mat', '/media/mountHDD2/khoibaocon/alldata/A2675.mat', '/media/mountHDD2/khoibaocon/alldata/A2676.mat', '/media/mountHDD2/khoibaocon/alldata/A2677.mat', '/media/mountHDD2/khoibaocon/alldata/A2678.mat', '/media/mountHDD2/khoibaocon/alldata/A2679.mat', '/media/mountHDD2/khoibaocon/alldata/A2680.mat', '/media/mountHDD2/khoibaocon/alldata/A2681.mat', '/media/mountHDD2/khoibaocon/alldata/A2682.mat', '/media/mountHDD2/khoibaocon/alldata/A2683.mat', '/media/mountHDD2/khoibaocon/alldata/A2684.mat', '/media/mountHDD2/khoibaocon/alldata/A2685.mat', '/media/mountHDD2/khoibaocon/alldata/A2686.mat', '/media/mountHDD2/khoibaocon/alldata/A2687.mat', '/media/mountHDD2/khoibaocon/alldata/A2688.mat', '/media/mountHDD2/khoibaocon/alldata/A2689.mat', '/media/mountHDD2/khoibaocon/alldata/A2690.mat', '/media/mountHDD2/khoibaocon/alldata/A2691.mat', '/media/mountHDD2/khoibaocon/alldata/A2692.mat', '/media/mountHDD2/khoibaocon/alldata/A2693.mat', '/media/mountHDD2/khoibaocon/alldata/A2694.mat', '/media/mountHDD2/khoibaocon/alldata/A2695.mat', '/media/mountHDD2/khoibaocon/alldata/A2696.mat', '/media/mountHDD2/khoibaocon/alldata/A2697.mat', '/media/mountHDD2/khoibaocon/alldata/A2698.mat', '/media/mountHDD2/khoibaocon/alldata/A2700.mat', '/media/mountHDD2/khoibaocon/alldata/A2701.mat', '/media/mountHDD2/khoibaocon/alldata/A2702.mat', '/media/mountHDD2/khoibaocon/alldata/A2703.mat', '/media/mountHDD2/khoibaocon/alldata/A2704.mat', '/media/mountHDD2/khoibaocon/alldata/A2705.mat', '/media/mountHDD2/khoibaocon/alldata/A2706.mat', '/media/mountHDD2/khoibaocon/alldata/A2707.mat', '/media/mountHDD2/khoibaocon/alldata/A2708.mat', '/media/mountHDD2/khoibaocon/alldata/A2709.mat', '/media/mountHDD2/khoibaocon/alldata/A2710.mat', '/media/mountHDD2/khoibaocon/alldata/A2711.mat', '/media/mountHDD2/khoibaocon/alldata/A2712.mat', '/media/mountHDD2/khoibaocon/alldata/A2713.mat', '/media/mountHDD2/khoibaocon/alldata/A2714.mat', '/media/mountHDD2/khoibaocon/alldata/A2715.mat', '/media/mountHDD2/khoibaocon/alldata/A2716.mat', '/media/mountHDD2/khoibaocon/alldata/A2717.mat', '/media/mountHDD2/khoibaocon/alldata/A2718.mat', '/media/mountHDD2/khoibaocon/alldata/A2719.mat', '/media/mountHDD2/khoibaocon/alldata/A2720.mat', '/media/mountHDD2/khoibaocon/alldata/A2721.mat', '/media/mountHDD2/khoibaocon/alldata/A2722.mat', '/media/mountHDD2/khoibaocon/alldata/A2723.mat', '/media/mountHDD2/khoibaocon/alldata/A2724.mat', '/media/mountHDD2/khoibaocon/alldata/A2725.mat', '/media/mountHDD2/khoibaocon/alldata/A2726.mat', '/media/mountHDD2/khoibaocon/alldata/A2727.mat', '/media/mountHDD2/khoibaocon/alldata/A2728.mat', '/media/mountHDD2/khoibaocon/alldata/A2729.mat', '/media/mountHDD2/khoibaocon/alldata/A2730.mat', '/media/mountHDD2/khoibaocon/alldata/A2731.mat', '/media/mountHDD2/khoibaocon/alldata/A2733.mat', '/media/mountHDD2/khoibaocon/alldata/A2734.mat', '/media/mountHDD2/khoibaocon/alldata/A2735.mat', '/media/mountHDD2/khoibaocon/alldata/A2736.mat', '/media/mountHDD2/khoibaocon/alldata/A2737.mat', '/media/mountHDD2/khoibaocon/alldata/A2738.mat', '/media/mountHDD2/khoibaocon/alldata/A2739.mat', '/media/mountHDD2/khoibaocon/alldata/A2740.mat', '/media/mountHDD2/khoibaocon/alldata/A2741.mat', '/media/mountHDD2/khoibaocon/alldata/A2742.mat', '/media/mountHDD2/khoibaocon/alldata/A2743.mat', '/media/mountHDD2/khoibaocon/alldata/A2744.mat', '/media/mountHDD2/khoibaocon/alldata/A2745.mat', '/media/mountHDD2/khoibaocon/alldata/A2746.mat', '/media/mountHDD2/khoibaocon/alldata/A0347.mat', '/media/mountHDD2/khoibaocon/alldata/A2748.mat', '/media/mountHDD2/khoibaocon/alldata/A2749.mat', '/media/mountHDD2/khoibaocon/alldata/A2750.mat', '/media/mountHDD2/khoibaocon/alldata/A2751.mat', '/media/mountHDD2/khoibaocon/alldata/A2752.mat', '/media/mountHDD2/khoibaocon/alldata/A2753.mat', '/media/mountHDD2/khoibaocon/alldata/A2754.mat', '/media/mountHDD2/khoibaocon/alldata/A2755.mat', '/media/mountHDD2/khoibaocon/alldata/A2756.mat', '/media/mountHDD2/khoibaocon/alldata/A2757.mat', '/media/mountHDD2/khoibaocon/alldata/A2758.mat', '/media/mountHDD2/khoibaocon/alldata/A2759.mat', '/media/mountHDD2/khoibaocon/alldata/A2760.mat', '/media/mountHDD2/khoibaocon/alldata/A2761.mat', '/media/mountHDD2/khoibaocon/alldata/A2762.mat', '/media/mountHDD2/khoibaocon/alldata/A2763.mat', '/media/mountHDD2/khoibaocon/alldata/A2764.mat', '/media/mountHDD2/khoibaocon/alldata/A2765.mat', '/media/mountHDD2/khoibaocon/alldata/A2766.mat', '/media/mountHDD2/khoibaocon/alldata/A2767.mat', '/media/mountHDD2/khoibaocon/alldata/A2768.mat', '/media/mountHDD2/khoibaocon/alldata/A2769.mat', '/media/mountHDD2/khoibaocon/alldata/A2770.mat', '/media/mountHDD2/khoibaocon/alldata/A2771.mat', '/media/mountHDD2/khoibaocon/alldata/A2772.mat', '/media/mountHDD2/khoibaocon/alldata/A2773.mat', '/media/mountHDD2/khoibaocon/alldata/A2774.mat', '/media/mountHDD2/khoibaocon/alldata/A2775.mat', '/media/mountHDD2/khoibaocon/alldata/A2776.mat', '/media/mountHDD2/khoibaocon/alldata/A2777.mat', '/media/mountHDD2/khoibaocon/alldata/A2778.mat', '/media/mountHDD2/khoibaocon/alldata/A2779.mat', '/media/mountHDD2/khoibaocon/alldata/A2780.mat', '/media/mountHDD2/khoibaocon/alldata/A2781.mat', '/media/mountHDD2/khoibaocon/alldata/A2782.mat', '/media/mountHDD2/khoibaocon/alldata/A2783.mat', '/media/mountHDD2/khoibaocon/alldata/A2784.mat', '/media/mountHDD2/khoibaocon/alldata/A2785.mat', '/media/mountHDD2/khoibaocon/alldata/A2786.mat', '/media/mountHDD2/khoibaocon/alldata/A2787.mat', '/media/mountHDD2/khoibaocon/alldata/A2788.mat', '/media/mountHDD2/khoibaocon/alldata/A2790.mat', '/media/mountHDD2/khoibaocon/alldata/A2792.mat', '/media/mountHDD2/khoibaocon/alldata/A2793.mat', '/media/mountHDD2/khoibaocon/alldata/A2796.mat', '/media/mountHDD2/khoibaocon/alldata/A2797.mat', '/media/mountHDD2/khoibaocon/alldata/A2798.mat', '/media/mountHDD2/khoibaocon/alldata/A2799.mat', '/media/mountHDD2/khoibaocon/alldata/A2800.mat', '/media/mountHDD2/khoibaocon/alldata/A2801.mat', '/media/mountHDD2/khoibaocon/alldata/A2802.mat', '/media/mountHDD2/khoibaocon/alldata/A2803.mat', '/media/mountHDD2/khoibaocon/alldata/A2804.mat', '/media/mountHDD2/khoibaocon/alldata/A2805.mat', '/media/mountHDD2/khoibaocon/alldata/A2806.mat', '/media/mountHDD2/khoibaocon/alldata/A2807.mat', '/media/mountHDD2/khoibaocon/alldata/A2808.mat', '/media/mountHDD2/khoibaocon/alldata/A2809.mat', '/media/mountHDD2/khoibaocon/alldata/A2810.mat', '/media/mountHDD2/khoibaocon/alldata/A2811.mat', '/media/mountHDD2/khoibaocon/alldata/A2812.mat', '/media/mountHDD2/khoibaocon/alldata/A2813.mat', '/media/mountHDD2/khoibaocon/alldata/A2814.mat', '/media/mountHDD2/khoibaocon/alldata/A2815.mat', '/media/mountHDD2/khoibaocon/alldata/A2816.mat', '/media/mountHDD2/khoibaocon/alldata/A2817.mat', '/media/mountHDD2/khoibaocon/alldata/A2818.mat', '/media/mountHDD2/khoibaocon/alldata/A2819.mat', '/media/mountHDD2/khoibaocon/alldata/A2820.mat', '/media/mountHDD2/khoibaocon/alldata/A2821.mat', '/media/mountHDD2/khoibaocon/alldata/A2822.mat', '/media/mountHDD2/khoibaocon/alldata/A2823.mat', '/media/mountHDD2/khoibaocon/alldata/A2824.mat', '/media/mountHDD2/khoibaocon/alldata/A2825.mat', '/media/mountHDD2/khoibaocon/alldata/A2826.mat', '/media/mountHDD2/khoibaocon/alldata/A2827.mat', '/media/mountHDD2/khoibaocon/alldata/A2828.mat', '/media/mountHDD2/khoibaocon/alldata/A2829.mat', '/media/mountHDD2/khoibaocon/alldata/A2830.mat', '/media/mountHDD2/khoibaocon/alldata/A2831.mat', '/media/mountHDD2/khoibaocon/alldata/A2832.mat', '/media/mountHDD2/khoibaocon/alldata/A2833.mat', '/media/mountHDD2/khoibaocon/alldata/A2834.mat', '/media/mountHDD2/khoibaocon/alldata/A2835.mat', '/media/mountHDD2/khoibaocon/alldata/A2836.mat', '/media/mountHDD2/khoibaocon/alldata/A2837.mat', '/media/mountHDD2/khoibaocon/alldata/A2838.mat', '/media/mountHDD2/khoibaocon/alldata/A2839.mat', '/media/mountHDD2/khoibaocon/alldata/A2840.mat', '/media/mountHDD2/khoibaocon/alldata/A2841.mat', '/media/mountHDD2/khoibaocon/alldata/A2842.mat', '/media/mountHDD2/khoibaocon/alldata/A2843.mat', '/media/mountHDD2/khoibaocon/alldata/A2844.mat', '/media/mountHDD2/khoibaocon/alldata/A2845.mat', '/media/mountHDD2/khoibaocon/alldata/A2846.mat', '/media/mountHDD2/khoibaocon/alldata/A2847.mat', '/media/mountHDD2/khoibaocon/alldata/A2848.mat', '/media/mountHDD2/khoibaocon/alldata/A2849.mat', '/media/mountHDD2/khoibaocon/alldata/A2850.mat', '/media/mountHDD2/khoibaocon/alldata/A2851.mat', '/media/mountHDD2/khoibaocon/alldata/A2852.mat', '/media/mountHDD2/khoibaocon/alldata/A2853.mat', '/media/mountHDD2/khoibaocon/alldata/A2854.mat', '/media/mountHDD2/khoibaocon/alldata/A2855.mat', '/media/mountHDD2/khoibaocon/alldata/A2856.mat', '/media/mountHDD2/khoibaocon/alldata/A2857.mat', '/media/mountHDD2/khoibaocon/alldata/A2858.mat', '/media/mountHDD2/khoibaocon/alldata/A2859.mat', '/media/mountHDD2/khoibaocon/alldata/A2860.mat', '/media/mountHDD2/khoibaocon/alldata/A2861.mat', '/media/mountHDD2/khoibaocon/alldata/A2862.mat', '/media/mountHDD2/khoibaocon/alldata/A2863.mat', '/media/mountHDD2/khoibaocon/alldata/A2864.mat', '/media/mountHDD2/khoibaocon/alldata/A2865.mat', '/media/mountHDD2/khoibaocon/alldata/A2866.mat', '/media/mountHDD2/khoibaocon/alldata/A2867.mat', '/media/mountHDD2/khoibaocon/alldata/A2868.mat', '/media/mountHDD2/khoibaocon/alldata/A2869.mat', '/media/mountHDD2/khoibaocon/alldata/A2870.mat', '/media/mountHDD2/khoibaocon/alldata/A2871.mat', '/media/mountHDD2/khoibaocon/alldata/A2873.mat', '/media/mountHDD2/khoibaocon/alldata/A2874.mat', '/media/mountHDD2/khoibaocon/alldata/A2875.mat', '/media/mountHDD2/khoibaocon/alldata/A2876.mat', '/media/mountHDD2/khoibaocon/alldata/A2879.mat', '/media/mountHDD2/khoibaocon/alldata/A2880.mat', '/media/mountHDD2/khoibaocon/alldata/A2881.mat', '/media/mountHDD2/khoibaocon/alldata/A2882.mat', '/media/mountHDD2/khoibaocon/alldata/A2883.mat', '/media/mountHDD2/khoibaocon/alldata/A2884.mat', '/media/mountHDD2/khoibaocon/alldata/A2885.mat', '/media/mountHDD2/khoibaocon/alldata/A2886.mat', '/media/mountHDD2/khoibaocon/alldata/A2887.mat', '/media/mountHDD2/khoibaocon/alldata/A2888.mat', '/media/mountHDD2/khoibaocon/alldata/A2889.mat', '/media/mountHDD2/khoibaocon/alldata/A2890.mat', '/media/mountHDD2/khoibaocon/alldata/A2891.mat', '/media/mountHDD2/khoibaocon/alldata/A2892.mat', '/media/mountHDD2/khoibaocon/alldata/A2893.mat', '/media/mountHDD2/khoibaocon/alldata/A2894.mat', '/media/mountHDD2/khoibaocon/alldata/A2895.mat', '/media/mountHDD2/khoibaocon/alldata/A2896.mat', '/media/mountHDD2/khoibaocon/alldata/A2897.mat', '/media/mountHDD2/khoibaocon/alldata/A2899.mat', '/media/mountHDD2/khoibaocon/alldata/A2900.mat', '/media/mountHDD2/khoibaocon/alldata/A2901.mat', '/media/mountHDD2/khoibaocon/alldata/A2902.mat', '/media/mountHDD2/khoibaocon/alldata/A2903.mat', '/media/mountHDD2/khoibaocon/alldata/A2904.mat', '/media/mountHDD2/khoibaocon/alldata/A2905.mat', '/media/mountHDD2/khoibaocon/alldata/A2906.mat', '/media/mountHDD2/khoibaocon/alldata/A2907.mat', '/media/mountHDD2/khoibaocon/alldata/A2908.mat', '/media/mountHDD2/khoibaocon/alldata/A2909.mat', '/media/mountHDD2/khoibaocon/alldata/A2910.mat', '/media/mountHDD2/khoibaocon/alldata/A2911.mat', '/media/mountHDD2/khoibaocon/alldata/A2912.mat', '/media/mountHDD2/khoibaocon/alldata/A2913.mat', '/media/mountHDD2/khoibaocon/alldata/A2914.mat', '/media/mountHDD2/khoibaocon/alldata/A2915.mat', '/media/mountHDD2/khoibaocon/alldata/A2916.mat', '/media/mountHDD2/khoibaocon/alldata/A2917.mat', '/media/mountHDD2/khoibaocon/alldata/A2918.mat', '/media/mountHDD2/khoibaocon/alldata/A2919.mat', '/media/mountHDD2/khoibaocon/alldata/A2920.mat', '/media/mountHDD2/khoibaocon/alldata/A2921.mat', '/media/mountHDD2/khoibaocon/alldata/A2922.mat', '/media/mountHDD2/khoibaocon/alldata/A2923.mat', '/media/mountHDD2/khoibaocon/alldata/A2924.mat', '/media/mountHDD2/khoibaocon/alldata/A2925.mat', '/media/mountHDD2/khoibaocon/alldata/A2926.mat', '/media/mountHDD2/khoibaocon/alldata/A2927.mat', '/media/mountHDD2/khoibaocon/alldata/A2928.mat', '/media/mountHDD2/khoibaocon/alldata/A2929.mat', '/media/mountHDD2/khoibaocon/alldata/A2930.mat', '/media/mountHDD2/khoibaocon/alldata/A2931.mat', '/media/mountHDD2/khoibaocon/alldata/A2932.mat', '/media/mountHDD2/khoibaocon/alldata/A2933.mat', '/media/mountHDD2/khoibaocon/alldata/A2934.mat', '/media/mountHDD2/khoibaocon/alldata/A2936.mat', '/media/mountHDD2/khoibaocon/alldata/A2937.mat', '/media/mountHDD2/khoibaocon/alldata/A2938.mat', '/media/mountHDD2/khoibaocon/alldata/A2939.mat', '/media/mountHDD2/khoibaocon/alldata/A2940.mat', '/media/mountHDD2/khoibaocon/alldata/A2941.mat', '/media/mountHDD2/khoibaocon/alldata/A2942.mat', '/media/mountHDD2/khoibaocon/alldata/A2943.mat', '/media/mountHDD2/khoibaocon/alldata/A2944.mat', '/media/mountHDD2/khoibaocon/alldata/A2945.mat', '/media/mountHDD2/khoibaocon/alldata/A2946.mat', '/media/mountHDD2/khoibaocon/alldata/A2947.mat', '/media/mountHDD2/khoibaocon/alldata/A2948.mat', '/media/mountHDD2/khoibaocon/alldata/A2949.mat', '/media/mountHDD2/khoibaocon/alldata/A2950.mat', '/media/mountHDD2/khoibaocon/alldata/A2951.mat', '/media/mountHDD2/khoibaocon/alldata/A2952.mat', '/media/mountHDD2/khoibaocon/alldata/A2953.mat', '/media/mountHDD2/khoibaocon/alldata/A2954.mat', '/media/mountHDD2/khoibaocon/alldata/A2955.mat', '/media/mountHDD2/khoibaocon/alldata/A2956.mat', '/media/mountHDD2/khoibaocon/alldata/A2957.mat', '/media/mountHDD2/khoibaocon/alldata/A2958.mat', '/media/mountHDD2/khoibaocon/alldata/A2959.mat', '/media/mountHDD2/khoibaocon/alldata/A2960.mat', '/media/mountHDD2/khoibaocon/alldata/A2961.mat', '/media/mountHDD2/khoibaocon/alldata/A2962.mat', '/media/mountHDD2/khoibaocon/alldata/A2963.mat', '/media/mountHDD2/khoibaocon/alldata/A2965.mat', '/media/mountHDD2/khoibaocon/alldata/A2966.mat', '/media/mountHDD2/khoibaocon/alldata/A2967.mat', '/media/mountHDD2/khoibaocon/alldata/A2968.mat', '/media/mountHDD2/khoibaocon/alldata/A2969.mat', '/media/mountHDD2/khoibaocon/alldata/A2970.mat', '/media/mountHDD2/khoibaocon/alldata/A2971.mat', '/media/mountHDD2/khoibaocon/alldata/A2972.mat', '/media/mountHDD2/khoibaocon/alldata/A2973.mat', '/media/mountHDD2/khoibaocon/alldata/A2974.mat', '/media/mountHDD2/khoibaocon/alldata/A2975.mat', '/media/mountHDD2/khoibaocon/alldata/A2976.mat', '/media/mountHDD2/khoibaocon/alldata/A2977.mat', '/media/mountHDD2/khoibaocon/alldata/A2978.mat', '/media/mountHDD2/khoibaocon/alldata/A2979.mat', '/media/mountHDD2/khoibaocon/alldata/A2980.mat', '/media/mountHDD2/khoibaocon/alldata/A2981.mat', '/media/mountHDD2/khoibaocon/alldata/A2982.mat', '/media/mountHDD2/khoibaocon/alldata/A2983.mat', '/media/mountHDD2/khoibaocon/alldata/A2984.mat', '/media/mountHDD2/khoibaocon/alldata/A2985.mat', '/media/mountHDD2/khoibaocon/alldata/A2986.mat', '/media/mountHDD2/khoibaocon/alldata/A2987.mat', '/media/mountHDD2/khoibaocon/alldata/A2988.mat', '/media/mountHDD2/khoibaocon/alldata/A2989.mat', '/media/mountHDD2/khoibaocon/alldata/A2990.mat', '/media/mountHDD2/khoibaocon/alldata/A2991.mat', '/media/mountHDD2/khoibaocon/alldata/A2992.mat', '/media/mountHDD2/khoibaocon/alldata/A2993.mat', '/media/mountHDD2/khoibaocon/alldata/A2994.mat', '/media/mountHDD2/khoibaocon/alldata/A2995.mat', '/media/mountHDD2/khoibaocon/alldata/A2996.mat', '/media/mountHDD2/khoibaocon/alldata/A2997.mat', '/media/mountHDD2/khoibaocon/alldata/A2998.mat', '/media/mountHDD2/khoibaocon/alldata/A2999.mat', '/media/mountHDD2/khoibaocon/alldata/A3000.mat', '/media/mountHDD2/khoibaocon/alldata/A3001.mat', '/media/mountHDD2/khoibaocon/alldata/A3002.mat', '/media/mountHDD2/khoibaocon/alldata/A3003.mat', '/media/mountHDD2/khoibaocon/alldata/A3004.mat', '/media/mountHDD2/khoibaocon/alldata/A3005.mat', '/media/mountHDD2/khoibaocon/alldata/A3006.mat', '/media/mountHDD2/khoibaocon/alldata/A3007.mat', '/media/mountHDD2/khoibaocon/alldata/A3008.mat', '/media/mountHDD2/khoibaocon/alldata/A1347.mat', '/media/mountHDD2/khoibaocon/alldata/A3010.mat', '/media/mountHDD2/khoibaocon/alldata/A3011.mat', '/media/mountHDD2/khoibaocon/alldata/A3012.mat', '/media/mountHDD2/khoibaocon/alldata/A3013.mat', '/media/mountHDD2/khoibaocon/alldata/A3014.mat', '/media/mountHDD2/khoibaocon/alldata/A3015.mat', '/media/mountHDD2/khoibaocon/alldata/A3016.mat', '/media/mountHDD2/khoibaocon/alldata/A3017.mat', '/media/mountHDD2/khoibaocon/alldata/A3018.mat', '/media/mountHDD2/khoibaocon/alldata/A3019.mat', '/media/mountHDD2/khoibaocon/alldata/A3020.mat', '/media/mountHDD2/khoibaocon/alldata/A3021.mat', '/media/mountHDD2/khoibaocon/alldata/A3022.mat', '/media/mountHDD2/khoibaocon/alldata/A3023.mat', '/media/mountHDD2/khoibaocon/alldata/A3025.mat', '/media/mountHDD2/khoibaocon/alldata/A3027.mat', '/media/mountHDD2/khoibaocon/alldata/A3028.mat', '/media/mountHDD2/khoibaocon/alldata/A3029.mat', '/media/mountHDD2/khoibaocon/alldata/A3030.mat', '/media/mountHDD2/khoibaocon/alldata/A3031.mat', '/media/mountHDD2/khoibaocon/alldata/A3032.mat', '/media/mountHDD2/khoibaocon/alldata/A3033.mat', '/media/mountHDD2/khoibaocon/alldata/A3034.mat', '/media/mountHDD2/khoibaocon/alldata/A3035.mat', '/media/mountHDD2/khoibaocon/alldata/A3036.mat', '/media/mountHDD2/khoibaocon/alldata/A3037.mat', '/media/mountHDD2/khoibaocon/alldata/A3038.mat', '/media/mountHDD2/khoibaocon/alldata/A3039.mat', '/media/mountHDD2/khoibaocon/alldata/A3041.mat', '/media/mountHDD2/khoibaocon/alldata/A3042.mat', '/media/mountHDD2/khoibaocon/alldata/A3043.mat', '/media/mountHDD2/khoibaocon/alldata/A3044.mat', '/media/mountHDD2/khoibaocon/alldata/A3045.mat', '/media/mountHDD2/khoibaocon/alldata/A3046.mat', '/media/mountHDD2/khoibaocon/alldata/A3047.mat', '/media/mountHDD2/khoibaocon/alldata/A3048.mat', '/media/mountHDD2/khoibaocon/alldata/A3049.mat', '/media/mountHDD2/khoibaocon/alldata/A3050.mat', '/media/mountHDD2/khoibaocon/alldata/A3051.mat', '/media/mountHDD2/khoibaocon/alldata/A3052.mat', '/media/mountHDD2/khoibaocon/alldata/A3053.mat', '/media/mountHDD2/khoibaocon/alldata/A3054.mat', '/media/mountHDD2/khoibaocon/alldata/A3055.mat', '/media/mountHDD2/khoibaocon/alldata/A3056.mat', '/media/mountHDD2/khoibaocon/alldata/A3057.mat', '/media/mountHDD2/khoibaocon/alldata/A3058.mat', '/media/mountHDD2/khoibaocon/alldata/A3059.mat', '/media/mountHDD2/khoibaocon/alldata/A3060.mat', '/media/mountHDD2/khoibaocon/alldata/A3061.mat', '/media/mountHDD2/khoibaocon/alldata/A3062.mat', '/media/mountHDD2/khoibaocon/alldata/A3064.mat', '/media/mountHDD2/khoibaocon/alldata/A3066.mat', '/media/mountHDD2/khoibaocon/alldata/A3067.mat', '/media/mountHDD2/khoibaocon/alldata/A3068.mat', '/media/mountHDD2/khoibaocon/alldata/A3069.mat', '/media/mountHDD2/khoibaocon/alldata/A3070.mat', '/media/mountHDD2/khoibaocon/alldata/A3071.mat', '/media/mountHDD2/khoibaocon/alldata/A3073.mat', '/media/mountHDD2/khoibaocon/alldata/A3074.mat', '/media/mountHDD2/khoibaocon/alldata/A3075.mat', '/media/mountHDD2/khoibaocon/alldata/A3076.mat', '/media/mountHDD2/khoibaocon/alldata/A3077.mat', '/media/mountHDD2/khoibaocon/alldata/A3078.mat', '/media/mountHDD2/khoibaocon/alldata/A3079.mat', '/media/mountHDD2/khoibaocon/alldata/A3080.mat', '/media/mountHDD2/khoibaocon/alldata/A3081.mat', '/media/mountHDD2/khoibaocon/alldata/A3082.mat', '/media/mountHDD2/khoibaocon/alldata/A3083.mat', '/media/mountHDD2/khoibaocon/alldata/A3084.mat', '/media/mountHDD2/khoibaocon/alldata/A3085.mat', '/media/mountHDD2/khoibaocon/alldata/A3086.mat', '/media/mountHDD2/khoibaocon/alldata/A3087.mat', '/media/mountHDD2/khoibaocon/alldata/A3088.mat', '/media/mountHDD2/khoibaocon/alldata/A3090.mat', '/media/mountHDD2/khoibaocon/alldata/A3091.mat', '/media/mountHDD2/khoibaocon/alldata/A3092.mat', '/media/mountHDD2/khoibaocon/alldata/A3093.mat', '/media/mountHDD2/khoibaocon/alldata/A3094.mat', '/media/mountHDD2/khoibaocon/alldata/A3095.mat', '/media/mountHDD2/khoibaocon/alldata/A3096.mat', '/media/mountHDD2/khoibaocon/alldata/A3097.mat', '/media/mountHDD2/khoibaocon/alldata/A3098.mat', '/media/mountHDD2/khoibaocon/alldata/A3099.mat', '/media/mountHDD2/khoibaocon/alldata/A3100.mat', '/media/mountHDD2/khoibaocon/alldata/A3101.mat', '/media/mountHDD2/khoibaocon/alldata/A3102.mat', '/media/mountHDD2/khoibaocon/alldata/A3103.mat', '/media/mountHDD2/khoibaocon/alldata/A3104.mat', '/media/mountHDD2/khoibaocon/alldata/A3105.mat', '/media/mountHDD2/khoibaocon/alldata/A3106.mat', '/media/mountHDD2/khoibaocon/alldata/A6346.mat', '/media/mountHDD2/khoibaocon/alldata/A3108.mat', '/media/mountHDD2/khoibaocon/alldata/A3109.mat', '/media/mountHDD2/khoibaocon/alldata/A3110.mat', '/media/mountHDD2/khoibaocon/alldata/A3111.mat', '/media/mountHDD2/khoibaocon/alldata/A3112.mat', '/media/mountHDD2/khoibaocon/alldata/A3113.mat', '/media/mountHDD2/khoibaocon/alldata/A3114.mat', '/media/mountHDD2/khoibaocon/alldata/A3115.mat', '/media/mountHDD2/khoibaocon/alldata/A3116.mat', '/media/mountHDD2/khoibaocon/alldata/A3117.mat', '/media/mountHDD2/khoibaocon/alldata/A3118.mat', '/media/mountHDD2/khoibaocon/alldata/A3120.mat', '/media/mountHDD2/khoibaocon/alldata/A3121.mat', '/media/mountHDD2/khoibaocon/alldata/A3122.mat', '/media/mountHDD2/khoibaocon/alldata/A3123.mat', '/media/mountHDD2/khoibaocon/alldata/A3124.mat', '/media/mountHDD2/khoibaocon/alldata/A3125.mat', '/media/mountHDD2/khoibaocon/alldata/A3127.mat', '/media/mountHDD2/khoibaocon/alldata/A3128.mat', '/media/mountHDD2/khoibaocon/alldata/A3129.mat', '/media/mountHDD2/khoibaocon/alldata/A3130.mat', '/media/mountHDD2/khoibaocon/alldata/A3131.mat', '/media/mountHDD2/khoibaocon/alldata/A3132.mat', '/media/mountHDD2/khoibaocon/alldata/A3133.mat', '/media/mountHDD2/khoibaocon/alldata/A3134.mat', '/media/mountHDD2/khoibaocon/alldata/A3135.mat', '/media/mountHDD2/khoibaocon/alldata/A3136.mat', '/media/mountHDD2/khoibaocon/alldata/A3137.mat', '/media/mountHDD2/khoibaocon/alldata/A3138.mat', '/media/mountHDD2/khoibaocon/alldata/A3139.mat', '/media/mountHDD2/khoibaocon/alldata/A3141.mat', '/media/mountHDD2/khoibaocon/alldata/A3142.mat', '/media/mountHDD2/khoibaocon/alldata/A3143.mat', '/media/mountHDD2/khoibaocon/alldata/A3144.mat', '/media/mountHDD2/khoibaocon/alldata/A3145.mat', '/media/mountHDD2/khoibaocon/alldata/A3146.mat', '/media/mountHDD2/khoibaocon/alldata/A3147.mat', '/media/mountHDD2/khoibaocon/alldata/A3148.mat', '/media/mountHDD2/khoibaocon/alldata/A3149.mat', '/media/mountHDD2/khoibaocon/alldata/A3150.mat', '/media/mountHDD2/khoibaocon/alldata/A3151.mat', '/media/mountHDD2/khoibaocon/alldata/A3152.mat', '/media/mountHDD2/khoibaocon/alldata/A3153.mat', '/media/mountHDD2/khoibaocon/alldata/A3154.mat', '/media/mountHDD2/khoibaocon/alldata/A3155.mat', '/media/mountHDD2/khoibaocon/alldata/A3156.mat', '/media/mountHDD2/khoibaocon/alldata/A3157.mat', '/media/mountHDD2/khoibaocon/alldata/A3158.mat', '/media/mountHDD2/khoibaocon/alldata/A3159.mat', '/media/mountHDD2/khoibaocon/alldata/A3160.mat', '/media/mountHDD2/khoibaocon/alldata/A3161.mat', '/media/mountHDD2/khoibaocon/alldata/A3162.mat', '/media/mountHDD2/khoibaocon/alldata/A3163.mat', '/media/mountHDD2/khoibaocon/alldata/A3164.mat', '/media/mountHDD2/khoibaocon/alldata/A3165.mat', '/media/mountHDD2/khoibaocon/alldata/A3166.mat', '/media/mountHDD2/khoibaocon/alldata/A3168.mat', '/media/mountHDD2/khoibaocon/alldata/A3169.mat', '/media/mountHDD2/khoibaocon/alldata/A3170.mat', '/media/mountHDD2/khoibaocon/alldata/A3171.mat', '/media/mountHDD2/khoibaocon/alldata/A3172.mat', '/media/mountHDD2/khoibaocon/alldata/A3173.mat', '/media/mountHDD2/khoibaocon/alldata/A3174.mat', '/media/mountHDD2/khoibaocon/alldata/A3175.mat', '/media/mountHDD2/khoibaocon/alldata/A3176.mat', '/media/mountHDD2/khoibaocon/alldata/A3177.mat', '/media/mountHDD2/khoibaocon/alldata/A3178.mat', '/media/mountHDD2/khoibaocon/alldata/A3179.mat', '/media/mountHDD2/khoibaocon/alldata/A3180.mat', '/media/mountHDD2/khoibaocon/alldata/A3181.mat', '/media/mountHDD2/khoibaocon/alldata/A3182.mat', '/media/mountHDD2/khoibaocon/alldata/A3183.mat', '/media/mountHDD2/khoibaocon/alldata/A3184.mat', '/media/mountHDD2/khoibaocon/alldata/A3185.mat', '/media/mountHDD2/khoibaocon/alldata/A3186.mat', '/media/mountHDD2/khoibaocon/alldata/A3187.mat', '/media/mountHDD2/khoibaocon/alldata/A3293.mat', '/media/mountHDD2/khoibaocon/alldata/A3189.mat', '/media/mountHDD2/khoibaocon/alldata/A3190.mat', '/media/mountHDD2/khoibaocon/alldata/A3191.mat', '/media/mountHDD2/khoibaocon/alldata/A3192.mat', '/media/mountHDD2/khoibaocon/alldata/A3193.mat', '/media/mountHDD2/khoibaocon/alldata/A3194.mat', '/media/mountHDD2/khoibaocon/alldata/A3195.mat', '/media/mountHDD2/khoibaocon/alldata/A3196.mat', '/media/mountHDD2/khoibaocon/alldata/A3197.mat', '/media/mountHDD2/khoibaocon/alldata/A3198.mat', '/media/mountHDD2/khoibaocon/alldata/A3199.mat', '/media/mountHDD2/khoibaocon/alldata/A3200.mat', '/media/mountHDD2/khoibaocon/alldata/A3201.mat', '/media/mountHDD2/khoibaocon/alldata/A3202.mat', '/media/mountHDD2/khoibaocon/alldata/A3203.mat', '/media/mountHDD2/khoibaocon/alldata/A3204.mat', '/media/mountHDD2/khoibaocon/alldata/A3206.mat', '/media/mountHDD2/khoibaocon/alldata/A3207.mat', '/media/mountHDD2/khoibaocon/alldata/A3208.mat', '/media/mountHDD2/khoibaocon/alldata/A3210.mat', '/media/mountHDD2/khoibaocon/alldata/A3211.mat', '/media/mountHDD2/khoibaocon/alldata/A3212.mat', '/media/mountHDD2/khoibaocon/alldata/A3213.mat', '/media/mountHDD2/khoibaocon/alldata/A3214.mat', '/media/mountHDD2/khoibaocon/alldata/A3215.mat', '/media/mountHDD2/khoibaocon/alldata/A3216.mat', '/media/mountHDD2/khoibaocon/alldata/A3217.mat', '/media/mountHDD2/khoibaocon/alldata/A3218.mat', '/media/mountHDD2/khoibaocon/alldata/A3219.mat', '/media/mountHDD2/khoibaocon/alldata/A3220.mat', '/media/mountHDD2/khoibaocon/alldata/A3221.mat', '/media/mountHDD2/khoibaocon/alldata/A3222.mat', '/media/mountHDD2/khoibaocon/alldata/A3223.mat', '/media/mountHDD2/khoibaocon/alldata/A3225.mat', '/media/mountHDD2/khoibaocon/alldata/A3226.mat', '/media/mountHDD2/khoibaocon/alldata/A3227.mat', '/media/mountHDD2/khoibaocon/alldata/A3228.mat', '/media/mountHDD2/khoibaocon/alldata/A3229.mat', '/media/mountHDD2/khoibaocon/alldata/A3230.mat', '/media/mountHDD2/khoibaocon/alldata/A3232.mat', '/media/mountHDD2/khoibaocon/alldata/A3233.mat', '/media/mountHDD2/khoibaocon/alldata/A3234.mat', '/media/mountHDD2/khoibaocon/alldata/A3235.mat', '/media/mountHDD2/khoibaocon/alldata/A3236.mat', '/media/mountHDD2/khoibaocon/alldata/A3237.mat', '/media/mountHDD2/khoibaocon/alldata/A3238.mat', '/media/mountHDD2/khoibaocon/alldata/A3239.mat', '/media/mountHDD2/khoibaocon/alldata/A3240.mat', '/media/mountHDD2/khoibaocon/alldata/A3241.mat', '/media/mountHDD2/khoibaocon/alldata/A3242.mat', '/media/mountHDD2/khoibaocon/alldata/A3243.mat', '/media/mountHDD2/khoibaocon/alldata/A3244.mat', '/media/mountHDD2/khoibaocon/alldata/A3245.mat', '/media/mountHDD2/khoibaocon/alldata/A3246.mat', '/media/mountHDD2/khoibaocon/alldata/A3247.mat', '/media/mountHDD2/khoibaocon/alldata/A3248.mat', '/media/mountHDD2/khoibaocon/alldata/A3249.mat', '/media/mountHDD2/khoibaocon/alldata/A3250.mat', '/media/mountHDD2/khoibaocon/alldata/A3251.mat', '/media/mountHDD2/khoibaocon/alldata/A6112.mat', '/media/mountHDD2/khoibaocon/alldata/A3253.mat', '/media/mountHDD2/khoibaocon/alldata/A3254.mat', '/media/mountHDD2/khoibaocon/alldata/A3255.mat', '/media/mountHDD2/khoibaocon/alldata/A3256.mat', '/media/mountHDD2/khoibaocon/alldata/A3257.mat', '/media/mountHDD2/khoibaocon/alldata/A3258.mat', '/media/mountHDD2/khoibaocon/alldata/A3259.mat', '/media/mountHDD2/khoibaocon/alldata/A3260.mat', '/media/mountHDD2/khoibaocon/alldata/A3261.mat', '/media/mountHDD2/khoibaocon/alldata/A3263.mat', '/media/mountHDD2/khoibaocon/alldata/A3265.mat', '/media/mountHDD2/khoibaocon/alldata/A3266.mat', '/media/mountHDD2/khoibaocon/alldata/A3267.mat', '/media/mountHDD2/khoibaocon/alldata/A3268.mat', '/media/mountHDD2/khoibaocon/alldata/A3269.mat', '/media/mountHDD2/khoibaocon/alldata/A3270.mat', '/media/mountHDD2/khoibaocon/alldata/A3271.mat', '/media/mountHDD2/khoibaocon/alldata/A3272.mat', '/media/mountHDD2/khoibaocon/alldata/A3273.mat', '/media/mountHDD2/khoibaocon/alldata/A3274.mat', '/media/mountHDD2/khoibaocon/alldata/A3275.mat', '/media/mountHDD2/khoibaocon/alldata/A3276.mat', '/media/mountHDD2/khoibaocon/alldata/A3277.mat', '/media/mountHDD2/khoibaocon/alldata/A3278.mat', '/media/mountHDD2/khoibaocon/alldata/A3279.mat', '/media/mountHDD2/khoibaocon/alldata/A3280.mat', '/media/mountHDD2/khoibaocon/alldata/A3281.mat', '/media/mountHDD2/khoibaocon/alldata/A3282.mat', '/media/mountHDD2/khoibaocon/alldata/A3283.mat', '/media/mountHDD2/khoibaocon/alldata/A3284.mat', '/media/mountHDD2/khoibaocon/alldata/A3285.mat', '/media/mountHDD2/khoibaocon/alldata/A3286.mat', '/media/mountHDD2/khoibaocon/alldata/A3287.mat', '/media/mountHDD2/khoibaocon/alldata/A3288.mat', '/media/mountHDD2/khoibaocon/alldata/A3289.mat', '/media/mountHDD2/khoibaocon/alldata/A3290.mat', '/media/mountHDD2/khoibaocon/alldata/A3291.mat', '/media/mountHDD2/khoibaocon/alldata/A3292.mat', '/media/mountHDD2/khoibaocon/alldata/A0813.mat', '/media/mountHDD2/khoibaocon/alldata/A3295.mat', '/media/mountHDD2/khoibaocon/alldata/A3296.mat', '/media/mountHDD2/khoibaocon/alldata/A3297.mat', '/media/mountHDD2/khoibaocon/alldata/A3298.mat', '/media/mountHDD2/khoibaocon/alldata/A3300.mat', '/media/mountHDD2/khoibaocon/alldata/A3301.mat', '/media/mountHDD2/khoibaocon/alldata/A3302.mat', '/media/mountHDD2/khoibaocon/alldata/A3303.mat', '/media/mountHDD2/khoibaocon/alldata/A3304.mat', '/media/mountHDD2/khoibaocon/alldata/A3305.mat', '/media/mountHDD2/khoibaocon/alldata/A3306.mat', '/media/mountHDD2/khoibaocon/alldata/A3307.mat', '/media/mountHDD2/khoibaocon/alldata/A3308.mat', '/media/mountHDD2/khoibaocon/alldata/A3310.mat', '/media/mountHDD2/khoibaocon/alldata/A3311.mat', '/media/mountHDD2/khoibaocon/alldata/A3312.mat', '/media/mountHDD2/khoibaocon/alldata/A3313.mat', '/media/mountHDD2/khoibaocon/alldata/A3314.mat', '/media/mountHDD2/khoibaocon/alldata/A3315.mat', '/media/mountHDD2/khoibaocon/alldata/A3316.mat', '/media/mountHDD2/khoibaocon/alldata/A3317.mat', '/media/mountHDD2/khoibaocon/alldata/A3318.mat', '/media/mountHDD2/khoibaocon/alldata/A3319.mat', '/media/mountHDD2/khoibaocon/alldata/A3320.mat', '/media/mountHDD2/khoibaocon/alldata/A3321.mat', '/media/mountHDD2/khoibaocon/alldata/A3322.mat', '/media/mountHDD2/khoibaocon/alldata/A3323.mat', '/media/mountHDD2/khoibaocon/alldata/A3325.mat', '/media/mountHDD2/khoibaocon/alldata/A3326.mat', '/media/mountHDD2/khoibaocon/alldata/A3327.mat', '/media/mountHDD2/khoibaocon/alldata/A3328.mat', '/media/mountHDD2/khoibaocon/alldata/A3329.mat', '/media/mountHDD2/khoibaocon/alldata/A3331.mat', '/media/mountHDD2/khoibaocon/alldata/A3332.mat', '/media/mountHDD2/khoibaocon/alldata/A3333.mat', '/media/mountHDD2/khoibaocon/alldata/A3334.mat', '/media/mountHDD2/khoibaocon/alldata/A3335.mat', '/media/mountHDD2/khoibaocon/alldata/A3336.mat', '/media/mountHDD2/khoibaocon/alldata/A3337.mat', '/media/mountHDD2/khoibaocon/alldata/A3338.mat', '/media/mountHDD2/khoibaocon/alldata/A3339.mat', '/media/mountHDD2/khoibaocon/alldata/A3340.mat', '/media/mountHDD2/khoibaocon/alldata/A3341.mat', '/media/mountHDD2/khoibaocon/alldata/A3342.mat', '/media/mountHDD2/khoibaocon/alldata/A3343.mat', '/media/mountHDD2/khoibaocon/alldata/A3344.mat', '/media/mountHDD2/khoibaocon/alldata/A3345.mat', '/media/mountHDD2/khoibaocon/alldata/A3346.mat', '/media/mountHDD2/khoibaocon/alldata/A3347.mat', '/media/mountHDD2/khoibaocon/alldata/A3348.mat', '/media/mountHDD2/khoibaocon/alldata/A3349.mat', '/media/mountHDD2/khoibaocon/alldata/A3350.mat', '/media/mountHDD2/khoibaocon/alldata/A3351.mat', '/media/mountHDD2/khoibaocon/alldata/A3352.mat', '/media/mountHDD2/khoibaocon/alldata/A3353.mat', '/media/mountHDD2/khoibaocon/alldata/A3354.mat', '/media/mountHDD2/khoibaocon/alldata/A3355.mat', '/media/mountHDD2/khoibaocon/alldata/A3356.mat', '/media/mountHDD2/khoibaocon/alldata/A3357.mat', '/media/mountHDD2/khoibaocon/alldata/A3358.mat', '/media/mountHDD2/khoibaocon/alldata/A3359.mat', '/media/mountHDD2/khoibaocon/alldata/A3361.mat', '/media/mountHDD2/khoibaocon/alldata/A3362.mat', '/media/mountHDD2/khoibaocon/alldata/A3363.mat', '/media/mountHDD2/khoibaocon/alldata/A3364.mat', '/media/mountHDD2/khoibaocon/alldata/A3365.mat', '/media/mountHDD2/khoibaocon/alldata/A3366.mat', '/media/mountHDD2/khoibaocon/alldata/A3367.mat', '/media/mountHDD2/khoibaocon/alldata/A3368.mat', '/media/mountHDD2/khoibaocon/alldata/A3369.mat', '/media/mountHDD2/khoibaocon/alldata/A3370.mat', '/media/mountHDD2/khoibaocon/alldata/A3372.mat', '/media/mountHDD2/khoibaocon/alldata/A3373.mat', '/media/mountHDD2/khoibaocon/alldata/A3374.mat', '/media/mountHDD2/khoibaocon/alldata/A3375.mat', '/media/mountHDD2/khoibaocon/alldata/A3376.mat', '/media/mountHDD2/khoibaocon/alldata/A3377.mat', '/media/mountHDD2/khoibaocon/alldata/A3378.mat', '/media/mountHDD2/khoibaocon/alldata/A3379.mat', '/media/mountHDD2/khoibaocon/alldata/A3380.mat', '/media/mountHDD2/khoibaocon/alldata/A3381.mat', '/media/mountHDD2/khoibaocon/alldata/A3382.mat', '/media/mountHDD2/khoibaocon/alldata/A3383.mat', '/media/mountHDD2/khoibaocon/alldata/A3384.mat', '/media/mountHDD2/khoibaocon/alldata/A3385.mat', '/media/mountHDD2/khoibaocon/alldata/A3386.mat', '/media/mountHDD2/khoibaocon/alldata/A3387.mat', '/media/mountHDD2/khoibaocon/alldata/A3388.mat', '/media/mountHDD2/khoibaocon/alldata/A3188.mat', '/media/mountHDD2/khoibaocon/alldata/A3390.mat', '/media/mountHDD2/khoibaocon/alldata/A3392.mat', '/media/mountHDD2/khoibaocon/alldata/A3393.mat', '/media/mountHDD2/khoibaocon/alldata/A3394.mat', '/media/mountHDD2/khoibaocon/alldata/A3395.mat', '/media/mountHDD2/khoibaocon/alldata/A3396.mat', '/media/mountHDD2/khoibaocon/alldata/A3397.mat', '/media/mountHDD2/khoibaocon/alldata/A3398.mat', '/media/mountHDD2/khoibaocon/alldata/A3399.mat', '/media/mountHDD2/khoibaocon/alldata/A3400.mat', '/media/mountHDD2/khoibaocon/alldata/A3401.mat', '/media/mountHDD2/khoibaocon/alldata/A3402.mat', '/media/mountHDD2/khoibaocon/alldata/A3403.mat', '/media/mountHDD2/khoibaocon/alldata/A3404.mat', '/media/mountHDD2/khoibaocon/alldata/A3405.mat', '/media/mountHDD2/khoibaocon/alldata/A3406.mat', '/media/mountHDD2/khoibaocon/alldata/A3408.mat', '/media/mountHDD2/khoibaocon/alldata/A3409.mat', '/media/mountHDD2/khoibaocon/alldata/A3410.mat', '/media/mountHDD2/khoibaocon/alldata/A3411.mat', '/media/mountHDD2/khoibaocon/alldata/A3412.mat', '/media/mountHDD2/khoibaocon/alldata/A3413.mat', '/media/mountHDD2/khoibaocon/alldata/A3414.mat', '/media/mountHDD2/khoibaocon/alldata/A3415.mat', '/media/mountHDD2/khoibaocon/alldata/A3416.mat', '/media/mountHDD2/khoibaocon/alldata/A3417.mat', '/media/mountHDD2/khoibaocon/alldata/A3418.mat', '/media/mountHDD2/khoibaocon/alldata/A3419.mat', '/media/mountHDD2/khoibaocon/alldata/A3420.mat', '/media/mountHDD2/khoibaocon/alldata/A3421.mat', '/media/mountHDD2/khoibaocon/alldata/A3422.mat', '/media/mountHDD2/khoibaocon/alldata/A3423.mat', '/media/mountHDD2/khoibaocon/alldata/A3424.mat', '/media/mountHDD2/khoibaocon/alldata/A3425.mat', '/media/mountHDD2/khoibaocon/alldata/A3426.mat', '/media/mountHDD2/khoibaocon/alldata/A3427.mat', '/media/mountHDD2/khoibaocon/alldata/A3428.mat', '/media/mountHDD2/khoibaocon/alldata/A3429.mat', '/media/mountHDD2/khoibaocon/alldata/A3430.mat', '/media/mountHDD2/khoibaocon/alldata/A3431.mat', '/media/mountHDD2/khoibaocon/alldata/A3432.mat', '/media/mountHDD2/khoibaocon/alldata/A3433.mat', '/media/mountHDD2/khoibaocon/alldata/A3434.mat', '/media/mountHDD2/khoibaocon/alldata/A3435.mat', '/media/mountHDD2/khoibaocon/alldata/A3436.mat', '/media/mountHDD2/khoibaocon/alldata/A3437.mat', '/media/mountHDD2/khoibaocon/alldata/A3438.mat', '/media/mountHDD2/khoibaocon/alldata/A3439.mat', '/media/mountHDD2/khoibaocon/alldata/A3440.mat', '/media/mountHDD2/khoibaocon/alldata/A3441.mat', '/media/mountHDD2/khoibaocon/alldata/A3442.mat', '/media/mountHDD2/khoibaocon/alldata/A3443.mat', '/media/mountHDD2/khoibaocon/alldata/A3444.mat', '/media/mountHDD2/khoibaocon/alldata/A3445.mat', '/media/mountHDD2/khoibaocon/alldata/A3446.mat', '/media/mountHDD2/khoibaocon/alldata/A3447.mat', '/media/mountHDD2/khoibaocon/alldata/A3448.mat', '/media/mountHDD2/khoibaocon/alldata/A3449.mat', '/media/mountHDD2/khoibaocon/alldata/A3450.mat', '/media/mountHDD2/khoibaocon/alldata/A3451.mat', '/media/mountHDD2/khoibaocon/alldata/A3452.mat', '/media/mountHDD2/khoibaocon/alldata/A3453.mat', '/media/mountHDD2/khoibaocon/alldata/A3454.mat', '/media/mountHDD2/khoibaocon/alldata/A3455.mat', '/media/mountHDD2/khoibaocon/alldata/A3456.mat', '/media/mountHDD2/khoibaocon/alldata/A3457.mat', '/media/mountHDD2/khoibaocon/alldata/A3458.mat', '/media/mountHDD2/khoibaocon/alldata/A3459.mat', '/media/mountHDD2/khoibaocon/alldata/A3461.mat', '/media/mountHDD2/khoibaocon/alldata/A3462.mat', '/media/mountHDD2/khoibaocon/alldata/A3463.mat', '/media/mountHDD2/khoibaocon/alldata/A3464.mat', '/media/mountHDD2/khoibaocon/alldata/A3465.mat', '/media/mountHDD2/khoibaocon/alldata/A3466.mat', '/media/mountHDD2/khoibaocon/alldata/A3467.mat', '/media/mountHDD2/khoibaocon/alldata/A3468.mat', '/media/mountHDD2/khoibaocon/alldata/A3469.mat', '/media/mountHDD2/khoibaocon/alldata/A3470.mat', '/media/mountHDD2/khoibaocon/alldata/A3471.mat', '/media/mountHDD2/khoibaocon/alldata/A3472.mat', '/media/mountHDD2/khoibaocon/alldata/A3473.mat', '/media/mountHDD2/khoibaocon/alldata/A3474.mat', '/media/mountHDD2/khoibaocon/alldata/A3475.mat', '/media/mountHDD2/khoibaocon/alldata/A3476.mat', '/media/mountHDD2/khoibaocon/alldata/A3477.mat', '/media/mountHDD2/khoibaocon/alldata/A3478.mat', '/media/mountHDD2/khoibaocon/alldata/A3479.mat', '/media/mountHDD2/khoibaocon/alldata/A3480.mat', '/media/mountHDD2/khoibaocon/alldata/A3481.mat', '/media/mountHDD2/khoibaocon/alldata/A3482.mat', '/media/mountHDD2/khoibaocon/alldata/A3484.mat', '/media/mountHDD2/khoibaocon/alldata/A3485.mat', '/media/mountHDD2/khoibaocon/alldata/A3486.mat', '/media/mountHDD2/khoibaocon/alldata/A3487.mat', '/media/mountHDD2/khoibaocon/alldata/A3488.mat', '/media/mountHDD2/khoibaocon/alldata/A3489.mat', '/media/mountHDD2/khoibaocon/alldata/A3490.mat', '/media/mountHDD2/khoibaocon/alldata/A3492.mat', '/media/mountHDD2/khoibaocon/alldata/A3494.mat', '/media/mountHDD2/khoibaocon/alldata/A3495.mat', '/media/mountHDD2/khoibaocon/alldata/A3496.mat', '/media/mountHDD2/khoibaocon/alldata/A3497.mat', '/media/mountHDD2/khoibaocon/alldata/A3498.mat', '/media/mountHDD2/khoibaocon/alldata/A3499.mat', '/media/mountHDD2/khoibaocon/alldata/A3500.mat', '/media/mountHDD2/khoibaocon/alldata/A3501.mat', '/media/mountHDD2/khoibaocon/alldata/A3502.mat', '/media/mountHDD2/khoibaocon/alldata/A3503.mat', '/media/mountHDD2/khoibaocon/alldata/A3504.mat', '/media/mountHDD2/khoibaocon/alldata/A3505.mat', '/media/mountHDD2/khoibaocon/alldata/A3506.mat', '/media/mountHDD2/khoibaocon/alldata/A3508.mat', '/media/mountHDD2/khoibaocon/alldata/A3509.mat', '/media/mountHDD2/khoibaocon/alldata/A3510.mat', '/media/mountHDD2/khoibaocon/alldata/A3511.mat', '/media/mountHDD2/khoibaocon/alldata/A3513.mat', '/media/mountHDD2/khoibaocon/alldata/A3514.mat', '/media/mountHDD2/khoibaocon/alldata/A3515.mat', '/media/mountHDD2/khoibaocon/alldata/A3516.mat', '/media/mountHDD2/khoibaocon/alldata/A3517.mat', '/media/mountHDD2/khoibaocon/alldata/A3518.mat', '/media/mountHDD2/khoibaocon/alldata/A3519.mat', '/media/mountHDD2/khoibaocon/alldata/A3520.mat', '/media/mountHDD2/khoibaocon/alldata/A3521.mat', '/media/mountHDD2/khoibaocon/alldata/A3522.mat', '/media/mountHDD2/khoibaocon/alldata/A3523.mat', '/media/mountHDD2/khoibaocon/alldata/A3524.mat', '/media/mountHDD2/khoibaocon/alldata/A3525.mat', '/media/mountHDD2/khoibaocon/alldata/A3526.mat', '/media/mountHDD2/khoibaocon/alldata/A3527.mat', '/media/mountHDD2/khoibaocon/alldata/A3528.mat', '/media/mountHDD2/khoibaocon/alldata/A3529.mat', '/media/mountHDD2/khoibaocon/alldata/A3530.mat', '/media/mountHDD2/khoibaocon/alldata/A3531.mat', '/media/mountHDD2/khoibaocon/alldata/A3532.mat', '/media/mountHDD2/khoibaocon/alldata/A3533.mat', '/media/mountHDD2/khoibaocon/alldata/A3534.mat', '/media/mountHDD2/khoibaocon/alldata/A3535.mat', '/media/mountHDD2/khoibaocon/alldata/A3537.mat', '/media/mountHDD2/khoibaocon/alldata/A3538.mat', '/media/mountHDD2/khoibaocon/alldata/A3539.mat', '/media/mountHDD2/khoibaocon/alldata/A3540.mat', '/media/mountHDD2/khoibaocon/alldata/A3541.mat', '/media/mountHDD2/khoibaocon/alldata/A3542.mat', '/media/mountHDD2/khoibaocon/alldata/A3543.mat', '/media/mountHDD2/khoibaocon/alldata/A3544.mat', '/media/mountHDD2/khoibaocon/alldata/A3545.mat', '/media/mountHDD2/khoibaocon/alldata/A3546.mat', '/media/mountHDD2/khoibaocon/alldata/A3547.mat', '/media/mountHDD2/khoibaocon/alldata/A3548.mat', '/media/mountHDD2/khoibaocon/alldata/A3549.mat', '/media/mountHDD2/khoibaocon/alldata/A3550.mat', '/media/mountHDD2/khoibaocon/alldata/A3551.mat', '/media/mountHDD2/khoibaocon/alldata/A3552.mat', '/media/mountHDD2/khoibaocon/alldata/A3553.mat', '/media/mountHDD2/khoibaocon/alldata/A3554.mat', '/media/mountHDD2/khoibaocon/alldata/A3555.mat', '/media/mountHDD2/khoibaocon/alldata/A3556.mat', '/media/mountHDD2/khoibaocon/alldata/A3557.mat', '/media/mountHDD2/khoibaocon/alldata/A3558.mat', '/media/mountHDD2/khoibaocon/alldata/A3559.mat', '/media/mountHDD2/khoibaocon/alldata/A3560.mat', '/media/mountHDD2/khoibaocon/alldata/A3561.mat', '/media/mountHDD2/khoibaocon/alldata/A3562.mat', '/media/mountHDD2/khoibaocon/alldata/A3563.mat', '/media/mountHDD2/khoibaocon/alldata/A3564.mat', '/media/mountHDD2/khoibaocon/alldata/A3565.mat', '/media/mountHDD2/khoibaocon/alldata/A3566.mat', '/media/mountHDD2/khoibaocon/alldata/A3567.mat', '/media/mountHDD2/khoibaocon/alldata/A3568.mat', '/media/mountHDD2/khoibaocon/alldata/A3569.mat', '/media/mountHDD2/khoibaocon/alldata/A3570.mat', '/media/mountHDD2/khoibaocon/alldata/A3571.mat', '/media/mountHDD2/khoibaocon/alldata/A3572.mat', '/media/mountHDD2/khoibaocon/alldata/A3573.mat', '/media/mountHDD2/khoibaocon/alldata/A3574.mat', '/media/mountHDD2/khoibaocon/alldata/A3575.mat', '/media/mountHDD2/khoibaocon/alldata/A3576.mat', '/media/mountHDD2/khoibaocon/alldata/A3577.mat', '/media/mountHDD2/khoibaocon/alldata/A3578.mat', '/media/mountHDD2/khoibaocon/alldata/A3579.mat', '/media/mountHDD2/khoibaocon/alldata/A3580.mat', '/media/mountHDD2/khoibaocon/alldata/A3581.mat', '/media/mountHDD2/khoibaocon/alldata/A3582.mat', '/media/mountHDD2/khoibaocon/alldata/A3583.mat', '/media/mountHDD2/khoibaocon/alldata/A3584.mat', '/media/mountHDD2/khoibaocon/alldata/A3585.mat', '/media/mountHDD2/khoibaocon/alldata/A3586.mat', '/media/mountHDD2/khoibaocon/alldata/A3587.mat', '/media/mountHDD2/khoibaocon/alldata/A3588.mat', '/media/mountHDD2/khoibaocon/alldata/A3590.mat', '/media/mountHDD2/khoibaocon/alldata/A3591.mat', '/media/mountHDD2/khoibaocon/alldata/A3592.mat', '/media/mountHDD2/khoibaocon/alldata/A3593.mat', '/media/mountHDD2/khoibaocon/alldata/A3594.mat', '/media/mountHDD2/khoibaocon/alldata/A3597.mat', '/media/mountHDD2/khoibaocon/alldata/A3598.mat', '/media/mountHDD2/khoibaocon/alldata/A3599.mat', '/media/mountHDD2/khoibaocon/alldata/A3600.mat', '/media/mountHDD2/khoibaocon/alldata/A3601.mat', '/media/mountHDD2/khoibaocon/alldata/A3602.mat', '/media/mountHDD2/khoibaocon/alldata/A3603.mat', '/media/mountHDD2/khoibaocon/alldata/A3604.mat', '/media/mountHDD2/khoibaocon/alldata/A3605.mat', '/media/mountHDD2/khoibaocon/alldata/A3606.mat', '/media/mountHDD2/khoibaocon/alldata/A3607.mat', '/media/mountHDD2/khoibaocon/alldata/A3608.mat', '/media/mountHDD2/khoibaocon/alldata/A3609.mat', '/media/mountHDD2/khoibaocon/alldata/A3610.mat', '/media/mountHDD2/khoibaocon/alldata/A3611.mat', '/media/mountHDD2/khoibaocon/alldata/A3612.mat', '/media/mountHDD2/khoibaocon/alldata/A3613.mat', '/media/mountHDD2/khoibaocon/alldata/A3614.mat', '/media/mountHDD2/khoibaocon/alldata/A3615.mat', '/media/mountHDD2/khoibaocon/alldata/A3616.mat', '/media/mountHDD2/khoibaocon/alldata/A3617.mat', '/media/mountHDD2/khoibaocon/alldata/A3619.mat', '/media/mountHDD2/khoibaocon/alldata/A3621.mat', '/media/mountHDD2/khoibaocon/alldata/A3622.mat', '/media/mountHDD2/khoibaocon/alldata/A3623.mat', '/media/mountHDD2/khoibaocon/alldata/A3624.mat', '/media/mountHDD2/khoibaocon/alldata/A3625.mat', '/media/mountHDD2/khoibaocon/alldata/A3627.mat', '/media/mountHDD2/khoibaocon/alldata/A3628.mat', '/media/mountHDD2/khoibaocon/alldata/A3629.mat', '/media/mountHDD2/khoibaocon/alldata/A3630.mat', '/media/mountHDD2/khoibaocon/alldata/A3631.mat', '/media/mountHDD2/khoibaocon/alldata/A3632.mat', '/media/mountHDD2/khoibaocon/alldata/A3633.mat', '/media/mountHDD2/khoibaocon/alldata/A3634.mat', '/media/mountHDD2/khoibaocon/alldata/A3635.mat', '/media/mountHDD2/khoibaocon/alldata/A3636.mat', '/media/mountHDD2/khoibaocon/alldata/A3637.mat', '/media/mountHDD2/khoibaocon/alldata/A3638.mat', '/media/mountHDD2/khoibaocon/alldata/A3639.mat', '/media/mountHDD2/khoibaocon/alldata/A3641.mat', '/media/mountHDD2/khoibaocon/alldata/A3642.mat', '/media/mountHDD2/khoibaocon/alldata/A3643.mat', '/media/mountHDD2/khoibaocon/alldata/A3644.mat', '/media/mountHDD2/khoibaocon/alldata/A3645.mat', '/media/mountHDD2/khoibaocon/alldata/A3646.mat', '/media/mountHDD2/khoibaocon/alldata/A3647.mat', '/media/mountHDD2/khoibaocon/alldata/A3648.mat', '/media/mountHDD2/khoibaocon/alldata/A3649.mat', '/media/mountHDD2/khoibaocon/alldata/A3650.mat', '/media/mountHDD2/khoibaocon/alldata/A3651.mat', '/media/mountHDD2/khoibaocon/alldata/A3653.mat', '/media/mountHDD2/khoibaocon/alldata/A3654.mat', '/media/mountHDD2/khoibaocon/alldata/A3655.mat', '/media/mountHDD2/khoibaocon/alldata/A3656.mat', '/media/mountHDD2/khoibaocon/alldata/A3657.mat', '/media/mountHDD2/khoibaocon/alldata/A3658.mat', '/media/mountHDD2/khoibaocon/alldata/A3659.mat', '/media/mountHDD2/khoibaocon/alldata/A3660.mat', '/media/mountHDD2/khoibaocon/alldata/A3661.mat', '/media/mountHDD2/khoibaocon/alldata/A3662.mat', '/media/mountHDD2/khoibaocon/alldata/A3663.mat', '/media/mountHDD2/khoibaocon/alldata/A3664.mat', '/media/mountHDD2/khoibaocon/alldata/A3665.mat', '/media/mountHDD2/khoibaocon/alldata/A3666.mat', '/media/mountHDD2/khoibaocon/alldata/A3667.mat', '/media/mountHDD2/khoibaocon/alldata/A3668.mat', '/media/mountHDD2/khoibaocon/alldata/A3669.mat', '/media/mountHDD2/khoibaocon/alldata/A3670.mat', '/media/mountHDD2/khoibaocon/alldata/A3671.mat', '/media/mountHDD2/khoibaocon/alldata/A3672.mat', '/media/mountHDD2/khoibaocon/alldata/A3673.mat', '/media/mountHDD2/khoibaocon/alldata/A3674.mat', '/media/mountHDD2/khoibaocon/alldata/A3675.mat', '/media/mountHDD2/khoibaocon/alldata/A3676.mat', '/media/mountHDD2/khoibaocon/alldata/A3677.mat', '/media/mountHDD2/khoibaocon/alldata/A3679.mat', '/media/mountHDD2/khoibaocon/alldata/A3680.mat', '/media/mountHDD2/khoibaocon/alldata/A3682.mat', '/media/mountHDD2/khoibaocon/alldata/A3683.mat', '/media/mountHDD2/khoibaocon/alldata/A3684.mat', '/media/mountHDD2/khoibaocon/alldata/A3685.mat', '/media/mountHDD2/khoibaocon/alldata/A3686.mat', '/media/mountHDD2/khoibaocon/alldata/A3687.mat', '/media/mountHDD2/khoibaocon/alldata/A3688.mat', '/media/mountHDD2/khoibaocon/alldata/A3689.mat', '/media/mountHDD2/khoibaocon/alldata/A3690.mat', '/media/mountHDD2/khoibaocon/alldata/A3691.mat', '/media/mountHDD2/khoibaocon/alldata/A3692.mat', '/media/mountHDD2/khoibaocon/alldata/A3693.mat', '/media/mountHDD2/khoibaocon/alldata/A3694.mat', '/media/mountHDD2/khoibaocon/alldata/A3695.mat', '/media/mountHDD2/khoibaocon/alldata/A3696.mat', '/media/mountHDD2/khoibaocon/alldata/A3697.mat', '/media/mountHDD2/khoibaocon/alldata/A3698.mat', '/media/mountHDD2/khoibaocon/alldata/A3699.mat', '/media/mountHDD2/khoibaocon/alldata/A3700.mat', '/media/mountHDD2/khoibaocon/alldata/A3701.mat', '/media/mountHDD2/khoibaocon/alldata/A3702.mat', '/media/mountHDD2/khoibaocon/alldata/A3703.mat', '/media/mountHDD2/khoibaocon/alldata/A3704.mat', '/media/mountHDD2/khoibaocon/alldata/A3705.mat', '/media/mountHDD2/khoibaocon/alldata/A3706.mat', '/media/mountHDD2/khoibaocon/alldata/A3707.mat', '/media/mountHDD2/khoibaocon/alldata/A3708.mat', '/media/mountHDD2/khoibaocon/alldata/A3709.mat', '/media/mountHDD2/khoibaocon/alldata/A3710.mat', '/media/mountHDD2/khoibaocon/alldata/A3711.mat', '/media/mountHDD2/khoibaocon/alldata/A3712.mat', '/media/mountHDD2/khoibaocon/alldata/A3713.mat', '/media/mountHDD2/khoibaocon/alldata/A3714.mat', '/media/mountHDD2/khoibaocon/alldata/A3715.mat', '/media/mountHDD2/khoibaocon/alldata/A3716.mat', '/media/mountHDD2/khoibaocon/alldata/A3717.mat', '/media/mountHDD2/khoibaocon/alldata/A3718.mat', '/media/mountHDD2/khoibaocon/alldata/A3719.mat', '/media/mountHDD2/khoibaocon/alldata/A6181.mat', '/media/mountHDD2/khoibaocon/alldata/A3721.mat', '/media/mountHDD2/khoibaocon/alldata/A3722.mat', '/media/mountHDD2/khoibaocon/alldata/A3723.mat', '/media/mountHDD2/khoibaocon/alldata/A3724.mat', '/media/mountHDD2/khoibaocon/alldata/A3725.mat', '/media/mountHDD2/khoibaocon/alldata/A3726.mat', '/media/mountHDD2/khoibaocon/alldata/A3727.mat', '/media/mountHDD2/khoibaocon/alldata/A3728.mat', '/media/mountHDD2/khoibaocon/alldata/A3729.mat', '/media/mountHDD2/khoibaocon/alldata/A3730.mat', '/media/mountHDD2/khoibaocon/alldata/A3731.mat', '/media/mountHDD2/khoibaocon/alldata/A3732.mat', '/media/mountHDD2/khoibaocon/alldata/A3733.mat', '/media/mountHDD2/khoibaocon/alldata/A3734.mat', '/media/mountHDD2/khoibaocon/alldata/A3735.mat', '/media/mountHDD2/khoibaocon/alldata/A3736.mat', '/media/mountHDD2/khoibaocon/alldata/A3737.mat', '/media/mountHDD2/khoibaocon/alldata/A3738.mat', '/media/mountHDD2/khoibaocon/alldata/A3739.mat', '/media/mountHDD2/khoibaocon/alldata/A3742.mat', '/media/mountHDD2/khoibaocon/alldata/A3743.mat', '/media/mountHDD2/khoibaocon/alldata/A3744.mat', '/media/mountHDD2/khoibaocon/alldata/A3745.mat', '/media/mountHDD2/khoibaocon/alldata/A3746.mat', '/media/mountHDD2/khoibaocon/alldata/A3747.mat', '/media/mountHDD2/khoibaocon/alldata/A3748.mat', '/media/mountHDD2/khoibaocon/alldata/A3749.mat', '/media/mountHDD2/khoibaocon/alldata/A3750.mat', '/media/mountHDD2/khoibaocon/alldata/A3751.mat', '/media/mountHDD2/khoibaocon/alldata/A3752.mat', '/media/mountHDD2/khoibaocon/alldata/A3753.mat', '/media/mountHDD2/khoibaocon/alldata/A3754.mat', '/media/mountHDD2/khoibaocon/alldata/A3755.mat', '/media/mountHDD2/khoibaocon/alldata/A3756.mat', '/media/mountHDD2/khoibaocon/alldata/A3757.mat', '/media/mountHDD2/khoibaocon/alldata/A3758.mat', '/media/mountHDD2/khoibaocon/alldata/A3759.mat', '/media/mountHDD2/khoibaocon/alldata/A3762.mat', '/media/mountHDD2/khoibaocon/alldata/A3763.mat', '/media/mountHDD2/khoibaocon/alldata/A3764.mat', '/media/mountHDD2/khoibaocon/alldata/A3765.mat', '/media/mountHDD2/khoibaocon/alldata/A3766.mat', '/media/mountHDD2/khoibaocon/alldata/A3767.mat', '/media/mountHDD2/khoibaocon/alldata/A3768.mat', '/media/mountHDD2/khoibaocon/alldata/A3769.mat', '/media/mountHDD2/khoibaocon/alldata/A3770.mat', '/media/mountHDD2/khoibaocon/alldata/A3771.mat', '/media/mountHDD2/khoibaocon/alldata/A3772.mat', '/media/mountHDD2/khoibaocon/alldata/A3773.mat', '/media/mountHDD2/khoibaocon/alldata/A3774.mat', '/media/mountHDD2/khoibaocon/alldata/A3775.mat', '/media/mountHDD2/khoibaocon/alldata/A3776.mat', '/media/mountHDD2/khoibaocon/alldata/A3777.mat', '/media/mountHDD2/khoibaocon/alldata/A3778.mat', '/media/mountHDD2/khoibaocon/alldata/A3779.mat', '/media/mountHDD2/khoibaocon/alldata/A3780.mat', '/media/mountHDD2/khoibaocon/alldata/A3781.mat', '/media/mountHDD2/khoibaocon/alldata/A3782.mat', '/media/mountHDD2/khoibaocon/alldata/A3783.mat', '/media/mountHDD2/khoibaocon/alldata/A3784.mat', '/media/mountHDD2/khoibaocon/alldata/A3785.mat', '/media/mountHDD2/khoibaocon/alldata/A3786.mat', '/media/mountHDD2/khoibaocon/alldata/A3787.mat', '/media/mountHDD2/khoibaocon/alldata/A3788.mat', '/media/mountHDD2/khoibaocon/alldata/A3789.mat', '/media/mountHDD2/khoibaocon/alldata/A3790.mat', '/media/mountHDD2/khoibaocon/alldata/A3791.mat', '/media/mountHDD2/khoibaocon/alldata/A3792.mat', '/media/mountHDD2/khoibaocon/alldata/A3793.mat', '/media/mountHDD2/khoibaocon/alldata/A3794.mat', '/media/mountHDD2/khoibaocon/alldata/A3795.mat', '/media/mountHDD2/khoibaocon/alldata/A3796.mat', '/media/mountHDD2/khoibaocon/alldata/A3797.mat', '/media/mountHDD2/khoibaocon/alldata/A3799.mat', '/media/mountHDD2/khoibaocon/alldata/A3800.mat', '/media/mountHDD2/khoibaocon/alldata/A3801.mat', '/media/mountHDD2/khoibaocon/alldata/A3802.mat', '/media/mountHDD2/khoibaocon/alldata/A3803.mat', '/media/mountHDD2/khoibaocon/alldata/A3804.mat', '/media/mountHDD2/khoibaocon/alldata/A3805.mat', '/media/mountHDD2/khoibaocon/alldata/A3806.mat', '/media/mountHDD2/khoibaocon/alldata/A3807.mat', '/media/mountHDD2/khoibaocon/alldata/A3808.mat', '/media/mountHDD2/khoibaocon/alldata/A3809.mat', '/media/mountHDD2/khoibaocon/alldata/A3810.mat', '/media/mountHDD2/khoibaocon/alldata/A3811.mat', '/media/mountHDD2/khoibaocon/alldata/A3812.mat', '/media/mountHDD2/khoibaocon/alldata/A3813.mat', '/media/mountHDD2/khoibaocon/alldata/A3814.mat', '/media/mountHDD2/khoibaocon/alldata/A3815.mat', '/media/mountHDD2/khoibaocon/alldata/A3816.mat', '/media/mountHDD2/khoibaocon/alldata/A3817.mat', '/media/mountHDD2/khoibaocon/alldata/A3818.mat', '/media/mountHDD2/khoibaocon/alldata/A3819.mat', '/media/mountHDD2/khoibaocon/alldata/A3820.mat', '/media/mountHDD2/khoibaocon/alldata/A3821.mat', '/media/mountHDD2/khoibaocon/alldata/A3822.mat', '/media/mountHDD2/khoibaocon/alldata/A3824.mat', '/media/mountHDD2/khoibaocon/alldata/A3825.mat', '/media/mountHDD2/khoibaocon/alldata/A3826.mat', '/media/mountHDD2/khoibaocon/alldata/A3827.mat', '/media/mountHDD2/khoibaocon/alldata/A3828.mat', '/media/mountHDD2/khoibaocon/alldata/A3829.mat', '/media/mountHDD2/khoibaocon/alldata/A3830.mat', '/media/mountHDD2/khoibaocon/alldata/A3831.mat', '/media/mountHDD2/khoibaocon/alldata/A3832.mat', '/media/mountHDD2/khoibaocon/alldata/A3833.mat', '/media/mountHDD2/khoibaocon/alldata/A3834.mat', '/media/mountHDD2/khoibaocon/alldata/A3835.mat', '/media/mountHDD2/khoibaocon/alldata/A3836.mat', '/media/mountHDD2/khoibaocon/alldata/A3838.mat', '/media/mountHDD2/khoibaocon/alldata/A3839.mat', '/media/mountHDD2/khoibaocon/alldata/A3840.mat', '/media/mountHDD2/khoibaocon/alldata/A3841.mat', '/media/mountHDD2/khoibaocon/alldata/A3842.mat', '/media/mountHDD2/khoibaocon/alldata/A3843.mat', '/media/mountHDD2/khoibaocon/alldata/A3844.mat', '/media/mountHDD2/khoibaocon/alldata/A3845.mat', '/media/mountHDD2/khoibaocon/alldata/A3846.mat', '/media/mountHDD2/khoibaocon/alldata/A3847.mat', '/media/mountHDD2/khoibaocon/alldata/A3848.mat', '/media/mountHDD2/khoibaocon/alldata/A3849.mat', '/media/mountHDD2/khoibaocon/alldata/A3850.mat', '/media/mountHDD2/khoibaocon/alldata/A3851.mat', '/media/mountHDD2/khoibaocon/alldata/A3852.mat', '/media/mountHDD2/khoibaocon/alldata/A3853.mat', '/media/mountHDD2/khoibaocon/alldata/A3854.mat', '/media/mountHDD2/khoibaocon/alldata/A3855.mat', '/media/mountHDD2/khoibaocon/alldata/A3856.mat', '/media/mountHDD2/khoibaocon/alldata/A3857.mat', '/media/mountHDD2/khoibaocon/alldata/A3858.mat', '/media/mountHDD2/khoibaocon/alldata/A3859.mat', '/media/mountHDD2/khoibaocon/alldata/A3860.mat', '/media/mountHDD2/khoibaocon/alldata/A3861.mat', '/media/mountHDD2/khoibaocon/alldata/A3862.mat', '/media/mountHDD2/khoibaocon/alldata/A3863.mat', '/media/mountHDD2/khoibaocon/alldata/A3864.mat', '/media/mountHDD2/khoibaocon/alldata/A3865.mat', '/media/mountHDD2/khoibaocon/alldata/A3866.mat', '/media/mountHDD2/khoibaocon/alldata/A3867.mat', '/media/mountHDD2/khoibaocon/alldata/A3868.mat', '/media/mountHDD2/khoibaocon/alldata/A3869.mat', '/media/mountHDD2/khoibaocon/alldata/A3870.mat', '/media/mountHDD2/khoibaocon/alldata/A3871.mat', '/media/mountHDD2/khoibaocon/alldata/A3872.mat', '/media/mountHDD2/khoibaocon/alldata/A3873.mat', '/media/mountHDD2/khoibaocon/alldata/A3874.mat', '/media/mountHDD2/khoibaocon/alldata/A3875.mat', '/media/mountHDD2/khoibaocon/alldata/A3876.mat', '/media/mountHDD2/khoibaocon/alldata/A3877.mat', '/media/mountHDD2/khoibaocon/alldata/A3878.mat', '/media/mountHDD2/khoibaocon/alldata/A3879.mat', '/media/mountHDD2/khoibaocon/alldata/A3880.mat', '/media/mountHDD2/khoibaocon/alldata/A3881.mat', '/media/mountHDD2/khoibaocon/alldata/A3882.mat', '/media/mountHDD2/khoibaocon/alldata/A3883.mat', '/media/mountHDD2/khoibaocon/alldata/A3884.mat', '/media/mountHDD2/khoibaocon/alldata/A3885.mat', '/media/mountHDD2/khoibaocon/alldata/A3886.mat', '/media/mountHDD2/khoibaocon/alldata/A3887.mat', '/media/mountHDD2/khoibaocon/alldata/A3888.mat', '/media/mountHDD2/khoibaocon/alldata/A3889.mat', '/media/mountHDD2/khoibaocon/alldata/A3890.mat', '/media/mountHDD2/khoibaocon/alldata/A3891.mat', '/media/mountHDD2/khoibaocon/alldata/A3892.mat', '/media/mountHDD2/khoibaocon/alldata/A3893.mat', '/media/mountHDD2/khoibaocon/alldata/A3894.mat', '/media/mountHDD2/khoibaocon/alldata/A6804.mat', '/media/mountHDD2/khoibaocon/alldata/A3898.mat', '/media/mountHDD2/khoibaocon/alldata/A3899.mat', '/media/mountHDD2/khoibaocon/alldata/A3900.mat', '/media/mountHDD2/khoibaocon/alldata/A3901.mat', '/media/mountHDD2/khoibaocon/alldata/A3902.mat', '/media/mountHDD2/khoibaocon/alldata/A3903.mat', '/media/mountHDD2/khoibaocon/alldata/A3904.mat', '/media/mountHDD2/khoibaocon/alldata/A3905.mat', '/media/mountHDD2/khoibaocon/alldata/A3906.mat', '/media/mountHDD2/khoibaocon/alldata/A3907.mat', '/media/mountHDD2/khoibaocon/alldata/A3908.mat', '/media/mountHDD2/khoibaocon/alldata/A3909.mat', '/media/mountHDD2/khoibaocon/alldata/A3910.mat', '/media/mountHDD2/khoibaocon/alldata/A3912.mat', '/media/mountHDD2/khoibaocon/alldata/A3913.mat', '/media/mountHDD2/khoibaocon/alldata/A3914.mat', '/media/mountHDD2/khoibaocon/alldata/A3915.mat', '/media/mountHDD2/khoibaocon/alldata/A3916.mat', '/media/mountHDD2/khoibaocon/alldata/A3917.mat', '/media/mountHDD2/khoibaocon/alldata/A3918.mat', '/media/mountHDD2/khoibaocon/alldata/A3919.mat', '/media/mountHDD2/khoibaocon/alldata/A3920.mat', '/media/mountHDD2/khoibaocon/alldata/A3921.mat', '/media/mountHDD2/khoibaocon/alldata/A3922.mat', '/media/mountHDD2/khoibaocon/alldata/A3923.mat', '/media/mountHDD2/khoibaocon/alldata/A3924.mat', '/media/mountHDD2/khoibaocon/alldata/A3925.mat', '/media/mountHDD2/khoibaocon/alldata/A3926.mat', '/media/mountHDD2/khoibaocon/alldata/A3927.mat', '/media/mountHDD2/khoibaocon/alldata/A3928.mat', '/media/mountHDD2/khoibaocon/alldata/A3929.mat', '/media/mountHDD2/khoibaocon/alldata/A3930.mat', '/media/mountHDD2/khoibaocon/alldata/A3931.mat', '/media/mountHDD2/khoibaocon/alldata/A3932.mat', '/media/mountHDD2/khoibaocon/alldata/A3933.mat', '/media/mountHDD2/khoibaocon/alldata/A3934.mat', '/media/mountHDD2/khoibaocon/alldata/A3935.mat', '/media/mountHDD2/khoibaocon/alldata/A3936.mat', '/media/mountHDD2/khoibaocon/alldata/A3937.mat', '/media/mountHDD2/khoibaocon/alldata/A3938.mat', '/media/mountHDD2/khoibaocon/alldata/A3939.mat', '/media/mountHDD2/khoibaocon/alldata/A3940.mat', '/media/mountHDD2/khoibaocon/alldata/A3941.mat', '/media/mountHDD2/khoibaocon/alldata/A3942.mat', '/media/mountHDD2/khoibaocon/alldata/A3943.mat', '/media/mountHDD2/khoibaocon/alldata/A3944.mat', '/media/mountHDD2/khoibaocon/alldata/A3945.mat', '/media/mountHDD2/khoibaocon/alldata/A3946.mat', '/media/mountHDD2/khoibaocon/alldata/A3947.mat', '/media/mountHDD2/khoibaocon/alldata/A3948.mat', '/media/mountHDD2/khoibaocon/alldata/A3950.mat', '/media/mountHDD2/khoibaocon/alldata/A3951.mat', '/media/mountHDD2/khoibaocon/alldata/A3952.mat', '/media/mountHDD2/khoibaocon/alldata/A3953.mat', '/media/mountHDD2/khoibaocon/alldata/A3954.mat', '/media/mountHDD2/khoibaocon/alldata/A3956.mat', '/media/mountHDD2/khoibaocon/alldata/A3957.mat', '/media/mountHDD2/khoibaocon/alldata/A3958.mat', '/media/mountHDD2/khoibaocon/alldata/A3959.mat', '/media/mountHDD2/khoibaocon/alldata/A3960.mat', '/media/mountHDD2/khoibaocon/alldata/A3961.mat', '/media/mountHDD2/khoibaocon/alldata/A3962.mat', '/media/mountHDD2/khoibaocon/alldata/A3963.mat', '/media/mountHDD2/khoibaocon/alldata/A3964.mat', '/media/mountHDD2/khoibaocon/alldata/A3965.mat', '/media/mountHDD2/khoibaocon/alldata/A3966.mat', '/media/mountHDD2/khoibaocon/alldata/A3968.mat', '/media/mountHDD2/khoibaocon/alldata/A3969.mat', '/media/mountHDD2/khoibaocon/alldata/A3970.mat', '/media/mountHDD2/khoibaocon/alldata/A3971.mat', '/media/mountHDD2/khoibaocon/alldata/A3972.mat', '/media/mountHDD2/khoibaocon/alldata/A3973.mat', '/media/mountHDD2/khoibaocon/alldata/A3974.mat', '/media/mountHDD2/khoibaocon/alldata/A3975.mat', '/media/mountHDD2/khoibaocon/alldata/A3976.mat', '/media/mountHDD2/khoibaocon/alldata/A3977.mat', '/media/mountHDD2/khoibaocon/alldata/A3978.mat', '/media/mountHDD2/khoibaocon/alldata/A3980.mat', '/media/mountHDD2/khoibaocon/alldata/A3981.mat', '/media/mountHDD2/khoibaocon/alldata/A3982.mat', '/media/mountHDD2/khoibaocon/alldata/A3983.mat', '/media/mountHDD2/khoibaocon/alldata/A3984.mat', '/media/mountHDD2/khoibaocon/alldata/A3985.mat', '/media/mountHDD2/khoibaocon/alldata/A3986.mat', '/media/mountHDD2/khoibaocon/alldata/A3987.mat', '/media/mountHDD2/khoibaocon/alldata/A3988.mat', '/media/mountHDD2/khoibaocon/alldata/A3989.mat', '/media/mountHDD2/khoibaocon/alldata/A3990.mat', '/media/mountHDD2/khoibaocon/alldata/A3991.mat', '/media/mountHDD2/khoibaocon/alldata/A3992.mat', '/media/mountHDD2/khoibaocon/alldata/A3993.mat', '/media/mountHDD2/khoibaocon/alldata/A3994.mat', '/media/mountHDD2/khoibaocon/alldata/A3996.mat', '/media/mountHDD2/khoibaocon/alldata/A3997.mat', '/media/mountHDD2/khoibaocon/alldata/A3998.mat', '/media/mountHDD2/khoibaocon/alldata/A3999.mat', '/media/mountHDD2/khoibaocon/alldata/A4000.mat', '/media/mountHDD2/khoibaocon/alldata/A4001.mat', '/media/mountHDD2/khoibaocon/alldata/A4002.mat', '/media/mountHDD2/khoibaocon/alldata/A4003.mat', '/media/mountHDD2/khoibaocon/alldata/A4004.mat', '/media/mountHDD2/khoibaocon/alldata/A4005.mat', '/media/mountHDD2/khoibaocon/alldata/A4006.mat', '/media/mountHDD2/khoibaocon/alldata/A4007.mat', '/media/mountHDD2/khoibaocon/alldata/A4008.mat', '/media/mountHDD2/khoibaocon/alldata/A4009.mat', '/media/mountHDD2/khoibaocon/alldata/A4010.mat', '/media/mountHDD2/khoibaocon/alldata/A4011.mat', '/media/mountHDD2/khoibaocon/alldata/A4012.mat', '/media/mountHDD2/khoibaocon/alldata/A4013.mat', '/media/mountHDD2/khoibaocon/alldata/A4014.mat', '/media/mountHDD2/khoibaocon/alldata/A4015.mat', '/media/mountHDD2/khoibaocon/alldata/A4016.mat', '/media/mountHDD2/khoibaocon/alldata/A4017.mat', '/media/mountHDD2/khoibaocon/alldata/A4018.mat', '/media/mountHDD2/khoibaocon/alldata/A4019.mat', '/media/mountHDD2/khoibaocon/alldata/A4020.mat', '/media/mountHDD2/khoibaocon/alldata/A4021.mat', '/media/mountHDD2/khoibaocon/alldata/A4022.mat', '/media/mountHDD2/khoibaocon/alldata/A4023.mat', '/media/mountHDD2/khoibaocon/alldata/A4024.mat', '/media/mountHDD2/khoibaocon/alldata/A4025.mat', '/media/mountHDD2/khoibaocon/alldata/A4026.mat', '/media/mountHDD2/khoibaocon/alldata/A4027.mat', '/media/mountHDD2/khoibaocon/alldata/A4029.mat', '/media/mountHDD2/khoibaocon/alldata/A4030.mat', '/media/mountHDD2/khoibaocon/alldata/A4031.mat', '/media/mountHDD2/khoibaocon/alldata/A4032.mat', '/media/mountHDD2/khoibaocon/alldata/A4033.mat', '/media/mountHDD2/khoibaocon/alldata/A4034.mat', '/media/mountHDD2/khoibaocon/alldata/A4035.mat', '/media/mountHDD2/khoibaocon/alldata/A4036.mat', '/media/mountHDD2/khoibaocon/alldata/A4037.mat', '/media/mountHDD2/khoibaocon/alldata/A4038.mat', '/media/mountHDD2/khoibaocon/alldata/A4040.mat', '/media/mountHDD2/khoibaocon/alldata/A4041.mat', '/media/mountHDD2/khoibaocon/alldata/A4042.mat', '/media/mountHDD2/khoibaocon/alldata/A4043.mat', '/media/mountHDD2/khoibaocon/alldata/A4044.mat', '/media/mountHDD2/khoibaocon/alldata/A4045.mat', '/media/mountHDD2/khoibaocon/alldata/A4046.mat', '/media/mountHDD2/khoibaocon/alldata/A4047.mat', '/media/mountHDD2/khoibaocon/alldata/A4048.mat', '/media/mountHDD2/khoibaocon/alldata/A4049.mat', '/media/mountHDD2/khoibaocon/alldata/A4050.mat', '/media/mountHDD2/khoibaocon/alldata/A4051.mat', '/media/mountHDD2/khoibaocon/alldata/A4052.mat', '/media/mountHDD2/khoibaocon/alldata/A4053.mat', '/media/mountHDD2/khoibaocon/alldata/A4054.mat', '/media/mountHDD2/khoibaocon/alldata/A4055.mat', '/media/mountHDD2/khoibaocon/alldata/A4056.mat', '/media/mountHDD2/khoibaocon/alldata/A4057.mat', '/media/mountHDD2/khoibaocon/alldata/A4058.mat', '/media/mountHDD2/khoibaocon/alldata/A4059.mat', '/media/mountHDD2/khoibaocon/alldata/A4060.mat', '/media/mountHDD2/khoibaocon/alldata/A4061.mat', '/media/mountHDD2/khoibaocon/alldata/A4062.mat', '/media/mountHDD2/khoibaocon/alldata/A4063.mat', '/media/mountHDD2/khoibaocon/alldata/A4064.mat', '/media/mountHDD2/khoibaocon/alldata/A4065.mat', '/media/mountHDD2/khoibaocon/alldata/A4066.mat', '/media/mountHDD2/khoibaocon/alldata/A4067.mat', '/media/mountHDD2/khoibaocon/alldata/A4068.mat', '/media/mountHDD2/khoibaocon/alldata/A4069.mat', '/media/mountHDD2/khoibaocon/alldata/A4070.mat', '/media/mountHDD2/khoibaocon/alldata/A4071.mat', '/media/mountHDD2/khoibaocon/alldata/A4072.mat', '/media/mountHDD2/khoibaocon/alldata/A4073.mat', '/media/mountHDD2/khoibaocon/alldata/A4074.mat', '/media/mountHDD2/khoibaocon/alldata/A4076.mat', '/media/mountHDD2/khoibaocon/alldata/A4077.mat', '/media/mountHDD2/khoibaocon/alldata/A4078.mat', '/media/mountHDD2/khoibaocon/alldata/A4079.mat', '/media/mountHDD2/khoibaocon/alldata/A4081.mat', '/media/mountHDD2/khoibaocon/alldata/A4082.mat', '/media/mountHDD2/khoibaocon/alldata/A4083.mat', '/media/mountHDD2/khoibaocon/alldata/A4084.mat', '/media/mountHDD2/khoibaocon/alldata/A4085.mat', '/media/mountHDD2/khoibaocon/alldata/A4086.mat', '/media/mountHDD2/khoibaocon/alldata/A4087.mat', '/media/mountHDD2/khoibaocon/alldata/A4088.mat', '/media/mountHDD2/khoibaocon/alldata/A4089.mat', '/media/mountHDD2/khoibaocon/alldata/A4090.mat', '/media/mountHDD2/khoibaocon/alldata/A4091.mat', '/media/mountHDD2/khoibaocon/alldata/A4092.mat', '/media/mountHDD2/khoibaocon/alldata/A4093.mat', '/media/mountHDD2/khoibaocon/alldata/A4094.mat', '/media/mountHDD2/khoibaocon/alldata/A4095.mat', '/media/mountHDD2/khoibaocon/alldata/A4096.mat', '/media/mountHDD2/khoibaocon/alldata/A4097.mat', '/media/mountHDD2/khoibaocon/alldata/A4098.mat', '/media/mountHDD2/khoibaocon/alldata/A4099.mat', '/media/mountHDD2/khoibaocon/alldata/A4100.mat', '/media/mountHDD2/khoibaocon/alldata/A4101.mat', '/media/mountHDD2/khoibaocon/alldata/A4102.mat', '/media/mountHDD2/khoibaocon/alldata/A4103.mat', '/media/mountHDD2/khoibaocon/alldata/A4104.mat', '/media/mountHDD2/khoibaocon/alldata/A4105.mat', '/media/mountHDD2/khoibaocon/alldata/A4106.mat', '/media/mountHDD2/khoibaocon/alldata/A4107.mat', '/media/mountHDD2/khoibaocon/alldata/A4108.mat', '/media/mountHDD2/khoibaocon/alldata/A4109.mat', '/media/mountHDD2/khoibaocon/alldata/A4110.mat', '/media/mountHDD2/khoibaocon/alldata/A4111.mat', '/media/mountHDD2/khoibaocon/alldata/A4113.mat', '/media/mountHDD2/khoibaocon/alldata/A4114.mat', '/media/mountHDD2/khoibaocon/alldata/A4115.mat', '/media/mountHDD2/khoibaocon/alldata/A4116.mat', '/media/mountHDD2/khoibaocon/alldata/A4117.mat', '/media/mountHDD2/khoibaocon/alldata/A4118.mat', '/media/mountHDD2/khoibaocon/alldata/A4119.mat', '/media/mountHDD2/khoibaocon/alldata/A4120.mat', '/media/mountHDD2/khoibaocon/alldata/A4121.mat', '/media/mountHDD2/khoibaocon/alldata/A4122.mat', '/media/mountHDD2/khoibaocon/alldata/A4123.mat', '/media/mountHDD2/khoibaocon/alldata/A4124.mat', '/media/mountHDD2/khoibaocon/alldata/A4125.mat', '/media/mountHDD2/khoibaocon/alldata/A4126.mat', '/media/mountHDD2/khoibaocon/alldata/A4127.mat', '/media/mountHDD2/khoibaocon/alldata/A4129.mat', '/media/mountHDD2/khoibaocon/alldata/A4130.mat', '/media/mountHDD2/khoibaocon/alldata/A4131.mat', '/media/mountHDD2/khoibaocon/alldata/A4132.mat', '/media/mountHDD2/khoibaocon/alldata/A4133.mat', '/media/mountHDD2/khoibaocon/alldata/A4134.mat', '/media/mountHDD2/khoibaocon/alldata/A4135.mat', '/media/mountHDD2/khoibaocon/alldata/A4136.mat', '/media/mountHDD2/khoibaocon/alldata/A4137.mat', '/media/mountHDD2/khoibaocon/alldata/A4138.mat', '/media/mountHDD2/khoibaocon/alldata/A4139.mat', '/media/mountHDD2/khoibaocon/alldata/A4140.mat', '/media/mountHDD2/khoibaocon/alldata/A4141.mat', '/media/mountHDD2/khoibaocon/alldata/A4143.mat', '/media/mountHDD2/khoibaocon/alldata/A4144.mat', '/media/mountHDD2/khoibaocon/alldata/A4145.mat', '/media/mountHDD2/khoibaocon/alldata/A4146.mat', '/media/mountHDD2/khoibaocon/alldata/A4147.mat', '/media/mountHDD2/khoibaocon/alldata/A4148.mat', '/media/mountHDD2/khoibaocon/alldata/A4149.mat', '/media/mountHDD2/khoibaocon/alldata/A4150.mat', '/media/mountHDD2/khoibaocon/alldata/A4151.mat', '/media/mountHDD2/khoibaocon/alldata/A4152.mat', '/media/mountHDD2/khoibaocon/alldata/A4153.mat', '/media/mountHDD2/khoibaocon/alldata/A4154.mat', '/media/mountHDD2/khoibaocon/alldata/A4155.mat', '/media/mountHDD2/khoibaocon/alldata/A4156.mat', '/media/mountHDD2/khoibaocon/alldata/A4157.mat', '/media/mountHDD2/khoibaocon/alldata/A4158.mat', '/media/mountHDD2/khoibaocon/alldata/A4159.mat', '/media/mountHDD2/khoibaocon/alldata/A4160.mat', '/media/mountHDD2/khoibaocon/alldata/A4161.mat', '/media/mountHDD2/khoibaocon/alldata/A4162.mat', '/media/mountHDD2/khoibaocon/alldata/A4163.mat', '/media/mountHDD2/khoibaocon/alldata/A4164.mat', '/media/mountHDD2/khoibaocon/alldata/A4165.mat', '/media/mountHDD2/khoibaocon/alldata/A4166.mat', '/media/mountHDD2/khoibaocon/alldata/A4167.mat', '/media/mountHDD2/khoibaocon/alldata/A4168.mat', '/media/mountHDD2/khoibaocon/alldata/A4169.mat', '/media/mountHDD2/khoibaocon/alldata/A4170.mat', '/media/mountHDD2/khoibaocon/alldata/A4171.mat', '/media/mountHDD2/khoibaocon/alldata/A4172.mat', '/media/mountHDD2/khoibaocon/alldata/A4173.mat', '/media/mountHDD2/khoibaocon/alldata/A4174.mat', '/media/mountHDD2/khoibaocon/alldata/A4175.mat', '/media/mountHDD2/khoibaocon/alldata/A4176.mat', '/media/mountHDD2/khoibaocon/alldata/A4177.mat', '/media/mountHDD2/khoibaocon/alldata/A4179.mat', '/media/mountHDD2/khoibaocon/alldata/A4180.mat', '/media/mountHDD2/khoibaocon/alldata/A4182.mat', '/media/mountHDD2/khoibaocon/alldata/A4183.mat', '/media/mountHDD2/khoibaocon/alldata/A4184.mat', '/media/mountHDD2/khoibaocon/alldata/A4185.mat', '/media/mountHDD2/khoibaocon/alldata/A4186.mat', '/media/mountHDD2/khoibaocon/alldata/A4187.mat', '/media/mountHDD2/khoibaocon/alldata/A4188.mat', '/media/mountHDD2/khoibaocon/alldata/A4189.mat', '/media/mountHDD2/khoibaocon/alldata/A4190.mat', '/media/mountHDD2/khoibaocon/alldata/A4191.mat', '/media/mountHDD2/khoibaocon/alldata/A4192.mat', '/media/mountHDD2/khoibaocon/alldata/A4193.mat', '/media/mountHDD2/khoibaocon/alldata/A4194.mat', '/media/mountHDD2/khoibaocon/alldata/A4195.mat', '/media/mountHDD2/khoibaocon/alldata/A4196.mat', '/media/mountHDD2/khoibaocon/alldata/A4197.mat', '/media/mountHDD2/khoibaocon/alldata/A4198.mat', '/media/mountHDD2/khoibaocon/alldata/A4200.mat', '/media/mountHDD2/khoibaocon/alldata/A4201.mat', '/media/mountHDD2/khoibaocon/alldata/A4202.mat', '/media/mountHDD2/khoibaocon/alldata/A4203.mat', '/media/mountHDD2/khoibaocon/alldata/A4204.mat', '/media/mountHDD2/khoibaocon/alldata/A4205.mat', '/media/mountHDD2/khoibaocon/alldata/A4206.mat', '/media/mountHDD2/khoibaocon/alldata/A4207.mat', '/media/mountHDD2/khoibaocon/alldata/A4208.mat', '/media/mountHDD2/khoibaocon/alldata/A4209.mat', '/media/mountHDD2/khoibaocon/alldata/A4210.mat', '/media/mountHDD2/khoibaocon/alldata/A4211.mat', '/media/mountHDD2/khoibaocon/alldata/A4212.mat', '/media/mountHDD2/khoibaocon/alldata/A4213.mat', '/media/mountHDD2/khoibaocon/alldata/A4214.mat', '/media/mountHDD2/khoibaocon/alldata/A4215.mat', '/media/mountHDD2/khoibaocon/alldata/A4216.mat', '/media/mountHDD2/khoibaocon/alldata/A4217.mat', '/media/mountHDD2/khoibaocon/alldata/A4219.mat', '/media/mountHDD2/khoibaocon/alldata/A4220.mat', '/media/mountHDD2/khoibaocon/alldata/A4221.mat', '/media/mountHDD2/khoibaocon/alldata/A4222.mat', '/media/mountHDD2/khoibaocon/alldata/A4224.mat', '/media/mountHDD2/khoibaocon/alldata/A4225.mat', '/media/mountHDD2/khoibaocon/alldata/A4226.mat', '/media/mountHDD2/khoibaocon/alldata/A4227.mat', '/media/mountHDD2/khoibaocon/alldata/A4228.mat', '/media/mountHDD2/khoibaocon/alldata/A4229.mat', '/media/mountHDD2/khoibaocon/alldata/A4230.mat', '/media/mountHDD2/khoibaocon/alldata/A4232.mat', '/media/mountHDD2/khoibaocon/alldata/A4233.mat', '/media/mountHDD2/khoibaocon/alldata/A4234.mat', '/media/mountHDD2/khoibaocon/alldata/A4235.mat', '/media/mountHDD2/khoibaocon/alldata/A4236.mat', '/media/mountHDD2/khoibaocon/alldata/A4237.mat', '/media/mountHDD2/khoibaocon/alldata/A4238.mat', '/media/mountHDD2/khoibaocon/alldata/A4239.mat', '/media/mountHDD2/khoibaocon/alldata/A4240.mat', '/media/mountHDD2/khoibaocon/alldata/A4241.mat', '/media/mountHDD2/khoibaocon/alldata/A4242.mat', '/media/mountHDD2/khoibaocon/alldata/A4243.mat', '/media/mountHDD2/khoibaocon/alldata/A4244.mat', '/media/mountHDD2/khoibaocon/alldata/A4246.mat', '/media/mountHDD2/khoibaocon/alldata/A4247.mat', '/media/mountHDD2/khoibaocon/alldata/A4248.mat', '/media/mountHDD2/khoibaocon/alldata/A4249.mat', '/media/mountHDD2/khoibaocon/alldata/A4250.mat', '/media/mountHDD2/khoibaocon/alldata/A4251.mat', '/media/mountHDD2/khoibaocon/alldata/A4252.mat', '/media/mountHDD2/khoibaocon/alldata/A4253.mat', '/media/mountHDD2/khoibaocon/alldata/A4254.mat', '/media/mountHDD2/khoibaocon/alldata/A4255.mat', '/media/mountHDD2/khoibaocon/alldata/A4256.mat', '/media/mountHDD2/khoibaocon/alldata/A4257.mat', '/media/mountHDD2/khoibaocon/alldata/A4258.mat', '/media/mountHDD2/khoibaocon/alldata/A4259.mat', '/media/mountHDD2/khoibaocon/alldata/A4260.mat', '/media/mountHDD2/khoibaocon/alldata/A4261.mat', '/media/mountHDD2/khoibaocon/alldata/A4262.mat', '/media/mountHDD2/khoibaocon/alldata/A4263.mat', '/media/mountHDD2/khoibaocon/alldata/A4264.mat', '/media/mountHDD2/khoibaocon/alldata/A4265.mat', '/media/mountHDD2/khoibaocon/alldata/A4266.mat', '/media/mountHDD2/khoibaocon/alldata/A4267.mat', '/media/mountHDD2/khoibaocon/alldata/A4268.mat', '/media/mountHDD2/khoibaocon/alldata/A4269.mat', '/media/mountHDD2/khoibaocon/alldata/A4270.mat', '/media/mountHDD2/khoibaocon/alldata/A4272.mat', '/media/mountHDD2/khoibaocon/alldata/A4273.mat', '/media/mountHDD2/khoibaocon/alldata/A4274.mat', '/media/mountHDD2/khoibaocon/alldata/A4275.mat', '/media/mountHDD2/khoibaocon/alldata/A4276.mat', '/media/mountHDD2/khoibaocon/alldata/A5890.mat', '/media/mountHDD2/khoibaocon/alldata/A4278.mat', '/media/mountHDD2/khoibaocon/alldata/A4279.mat', '/media/mountHDD2/khoibaocon/alldata/A4280.mat', '/media/mountHDD2/khoibaocon/alldata/A4281.mat', '/media/mountHDD2/khoibaocon/alldata/A4282.mat', '/media/mountHDD2/khoibaocon/alldata/A4283.mat', '/media/mountHDD2/khoibaocon/alldata/A4284.mat', '/media/mountHDD2/khoibaocon/alldata/A4285.mat', '/media/mountHDD2/khoibaocon/alldata/A4286.mat', '/media/mountHDD2/khoibaocon/alldata/A4287.mat', '/media/mountHDD2/khoibaocon/alldata/A4288.mat', '/media/mountHDD2/khoibaocon/alldata/A4289.mat', '/media/mountHDD2/khoibaocon/alldata/A4290.mat', '/media/mountHDD2/khoibaocon/alldata/A4291.mat', '/media/mountHDD2/khoibaocon/alldata/A4293.mat', '/media/mountHDD2/khoibaocon/alldata/A4294.mat', '/media/mountHDD2/khoibaocon/alldata/A4295.mat', '/media/mountHDD2/khoibaocon/alldata/A4296.mat', '/media/mountHDD2/khoibaocon/alldata/A4297.mat', '/media/mountHDD2/khoibaocon/alldata/A4298.mat', '/media/mountHDD2/khoibaocon/alldata/A4299.mat', '/media/mountHDD2/khoibaocon/alldata/A4301.mat', '/media/mountHDD2/khoibaocon/alldata/A4302.mat', '/media/mountHDD2/khoibaocon/alldata/A4303.mat', '/media/mountHDD2/khoibaocon/alldata/A4304.mat', '/media/mountHDD2/khoibaocon/alldata/A4305.mat', '/media/mountHDD2/khoibaocon/alldata/A4307.mat', '/media/mountHDD2/khoibaocon/alldata/A4309.mat', '/media/mountHDD2/khoibaocon/alldata/A4310.mat', '/media/mountHDD2/khoibaocon/alldata/A4311.mat', '/media/mountHDD2/khoibaocon/alldata/A4312.mat', '/media/mountHDD2/khoibaocon/alldata/A4313.mat', '/media/mountHDD2/khoibaocon/alldata/A4314.mat', '/media/mountHDD2/khoibaocon/alldata/A4315.mat', '/media/mountHDD2/khoibaocon/alldata/A4316.mat', '/media/mountHDD2/khoibaocon/alldata/A4317.mat', '/media/mountHDD2/khoibaocon/alldata/A4318.mat', '/media/mountHDD2/khoibaocon/alldata/A4319.mat', '/media/mountHDD2/khoibaocon/alldata/A4320.mat', '/media/mountHDD2/khoibaocon/alldata/A4321.mat', '/media/mountHDD2/khoibaocon/alldata/A4322.mat', '/media/mountHDD2/khoibaocon/alldata/A4323.mat', '/media/mountHDD2/khoibaocon/alldata/A4324.mat', '/media/mountHDD2/khoibaocon/alldata/A4325.mat', '/media/mountHDD2/khoibaocon/alldata/A4326.mat', '/media/mountHDD2/khoibaocon/alldata/A4327.mat', '/media/mountHDD2/khoibaocon/alldata/A4328.mat', '/media/mountHDD2/khoibaocon/alldata/A4329.mat', '/media/mountHDD2/khoibaocon/alldata/A4330.mat', '/media/mountHDD2/khoibaocon/alldata/A4332.mat', '/media/mountHDD2/khoibaocon/alldata/A4333.mat', '/media/mountHDD2/khoibaocon/alldata/A4334.mat', '/media/mountHDD2/khoibaocon/alldata/A4335.mat', '/media/mountHDD2/khoibaocon/alldata/A4336.mat', '/media/mountHDD2/khoibaocon/alldata/A4337.mat', '/media/mountHDD2/khoibaocon/alldata/A4338.mat', '/media/mountHDD2/khoibaocon/alldata/A4340.mat', '/media/mountHDD2/khoibaocon/alldata/A4341.mat', '/media/mountHDD2/khoibaocon/alldata/A4342.mat', '/media/mountHDD2/khoibaocon/alldata/A4343.mat', '/media/mountHDD2/khoibaocon/alldata/A4345.mat', '/media/mountHDD2/khoibaocon/alldata/A4346.mat', '/media/mountHDD2/khoibaocon/alldata/A4347.mat', '/media/mountHDD2/khoibaocon/alldata/A4348.mat', '/media/mountHDD2/khoibaocon/alldata/A4349.mat', '/media/mountHDD2/khoibaocon/alldata/A4350.mat', '/media/mountHDD2/khoibaocon/alldata/A4351.mat', '/media/mountHDD2/khoibaocon/alldata/A4354.mat', '/media/mountHDD2/khoibaocon/alldata/A4355.mat', '/media/mountHDD2/khoibaocon/alldata/A4357.mat', '/media/mountHDD2/khoibaocon/alldata/A4358.mat', '/media/mountHDD2/khoibaocon/alldata/A4360.mat', '/media/mountHDD2/khoibaocon/alldata/A4361.mat', '/media/mountHDD2/khoibaocon/alldata/A4362.mat', '/media/mountHDD2/khoibaocon/alldata/A4363.mat', '/media/mountHDD2/khoibaocon/alldata/A4364.mat', '/media/mountHDD2/khoibaocon/alldata/A4365.mat', '/media/mountHDD2/khoibaocon/alldata/A4366.mat', '/media/mountHDD2/khoibaocon/alldata/A4367.mat', '/media/mountHDD2/khoibaocon/alldata/A4368.mat', '/media/mountHDD2/khoibaocon/alldata/A4369.mat', '/media/mountHDD2/khoibaocon/alldata/A4370.mat', '/media/mountHDD2/khoibaocon/alldata/A4371.mat', '/media/mountHDD2/khoibaocon/alldata/A4372.mat', '/media/mountHDD2/khoibaocon/alldata/A4373.mat', '/media/mountHDD2/khoibaocon/alldata/A4374.mat', '/media/mountHDD2/khoibaocon/alldata/A4375.mat', '/media/mountHDD2/khoibaocon/alldata/A4376.mat', '/media/mountHDD2/khoibaocon/alldata/A4377.mat', '/media/mountHDD2/khoibaocon/alldata/A4378.mat', '/media/mountHDD2/khoibaocon/alldata/A4379.mat', '/media/mountHDD2/khoibaocon/alldata/A4380.mat', '/media/mountHDD2/khoibaocon/alldata/A4381.mat', '/media/mountHDD2/khoibaocon/alldata/A4382.mat', '/media/mountHDD2/khoibaocon/alldata/A4383.mat', '/media/mountHDD2/khoibaocon/alldata/A4384.mat', '/media/mountHDD2/khoibaocon/alldata/A4385.mat', '/media/mountHDD2/khoibaocon/alldata/A4386.mat', '/media/mountHDD2/khoibaocon/alldata/A4387.mat', '/media/mountHDD2/khoibaocon/alldata/A4389.mat', '/media/mountHDD2/khoibaocon/alldata/A4390.mat', '/media/mountHDD2/khoibaocon/alldata/A4391.mat', '/media/mountHDD2/khoibaocon/alldata/A4393.mat', '/media/mountHDD2/khoibaocon/alldata/A4394.mat', '/media/mountHDD2/khoibaocon/alldata/A4395.mat', '/media/mountHDD2/khoibaocon/alldata/A4396.mat', '/media/mountHDD2/khoibaocon/alldata/A4397.mat', '/media/mountHDD2/khoibaocon/alldata/A4398.mat', '/media/mountHDD2/khoibaocon/alldata/A4399.mat', '/media/mountHDD2/khoibaocon/alldata/A4400.mat', '/media/mountHDD2/khoibaocon/alldata/A4401.mat', '/media/mountHDD2/khoibaocon/alldata/A4402.mat', '/media/mountHDD2/khoibaocon/alldata/A4403.mat', '/media/mountHDD2/khoibaocon/alldata/A4404.mat', '/media/mountHDD2/khoibaocon/alldata/A4405.mat', '/media/mountHDD2/khoibaocon/alldata/A4406.mat', '/media/mountHDD2/khoibaocon/alldata/A4407.mat', '/media/mountHDD2/khoibaocon/alldata/A4409.mat', '/media/mountHDD2/khoibaocon/alldata/A4410.mat', '/media/mountHDD2/khoibaocon/alldata/A4411.mat', '/media/mountHDD2/khoibaocon/alldata/A4412.mat', '/media/mountHDD2/khoibaocon/alldata/A4413.mat', '/media/mountHDD2/khoibaocon/alldata/A4414.mat', '/media/mountHDD2/khoibaocon/alldata/A4415.mat', '/media/mountHDD2/khoibaocon/alldata/A4416.mat', '/media/mountHDD2/khoibaocon/alldata/A4417.mat', '/media/mountHDD2/khoibaocon/alldata/A4418.mat', '/media/mountHDD2/khoibaocon/alldata/A4419.mat', '/media/mountHDD2/khoibaocon/alldata/A4420.mat', '/media/mountHDD2/khoibaocon/alldata/A4421.mat', '/media/mountHDD2/khoibaocon/alldata/A4422.mat', '/media/mountHDD2/khoibaocon/alldata/A4423.mat', '/media/mountHDD2/khoibaocon/alldata/A4424.mat', '/media/mountHDD2/khoibaocon/alldata/A4425.mat', '/media/mountHDD2/khoibaocon/alldata/A4426.mat', '/media/mountHDD2/khoibaocon/alldata/A4427.mat', '/media/mountHDD2/khoibaocon/alldata/A4428.mat', '/media/mountHDD2/khoibaocon/alldata/A4429.mat', '/media/mountHDD2/khoibaocon/alldata/A4431.mat', '/media/mountHDD2/khoibaocon/alldata/A4432.mat', '/media/mountHDD2/khoibaocon/alldata/A4433.mat', '/media/mountHDD2/khoibaocon/alldata/A4434.mat', '/media/mountHDD2/khoibaocon/alldata/A4435.mat', '/media/mountHDD2/khoibaocon/alldata/A4436.mat', '/media/mountHDD2/khoibaocon/alldata/A4437.mat', '/media/mountHDD2/khoibaocon/alldata/A4438.mat', '/media/mountHDD2/khoibaocon/alldata/A4439.mat', '/media/mountHDD2/khoibaocon/alldata/A4440.mat', '/media/mountHDD2/khoibaocon/alldata/A4441.mat', '/media/mountHDD2/khoibaocon/alldata/A4442.mat', '/media/mountHDD2/khoibaocon/alldata/A4443.mat', '/media/mountHDD2/khoibaocon/alldata/A4444.mat', '/media/mountHDD2/khoibaocon/alldata/A4445.mat', '/media/mountHDD2/khoibaocon/alldata/A4446.mat', '/media/mountHDD2/khoibaocon/alldata/A4447.mat', '/media/mountHDD2/khoibaocon/alldata/A4448.mat', '/media/mountHDD2/khoibaocon/alldata/A4449.mat', '/media/mountHDD2/khoibaocon/alldata/A4450.mat', '/media/mountHDD2/khoibaocon/alldata/A4451.mat', '/media/mountHDD2/khoibaocon/alldata/A4452.mat', '/media/mountHDD2/khoibaocon/alldata/A4453.mat', '/media/mountHDD2/khoibaocon/alldata/A4454.mat', '/media/mountHDD2/khoibaocon/alldata/A4455.mat', '/media/mountHDD2/khoibaocon/alldata/A4456.mat', '/media/mountHDD2/khoibaocon/alldata/A4457.mat', '/media/mountHDD2/khoibaocon/alldata/A4458.mat', '/media/mountHDD2/khoibaocon/alldata/A4460.mat', '/media/mountHDD2/khoibaocon/alldata/A4461.mat', '/media/mountHDD2/khoibaocon/alldata/A4462.mat', '/media/mountHDD2/khoibaocon/alldata/A4463.mat', '/media/mountHDD2/khoibaocon/alldata/A4464.mat', '/media/mountHDD2/khoibaocon/alldata/A4465.mat', '/media/mountHDD2/khoibaocon/alldata/A4466.mat', '/media/mountHDD2/khoibaocon/alldata/A4467.mat', '/media/mountHDD2/khoibaocon/alldata/A4468.mat', '/media/mountHDD2/khoibaocon/alldata/A4469.mat', '/media/mountHDD2/khoibaocon/alldata/A4470.mat', '/media/mountHDD2/khoibaocon/alldata/A4471.mat', '/media/mountHDD2/khoibaocon/alldata/A4472.mat', '/media/mountHDD2/khoibaocon/alldata/A4473.mat', '/media/mountHDD2/khoibaocon/alldata/A4474.mat', '/media/mountHDD2/khoibaocon/alldata/A4476.mat', '/media/mountHDD2/khoibaocon/alldata/A4477.mat', '/media/mountHDD2/khoibaocon/alldata/A4478.mat', '/media/mountHDD2/khoibaocon/alldata/A4479.mat', '/media/mountHDD2/khoibaocon/alldata/A4480.mat', '/media/mountHDD2/khoibaocon/alldata/A4482.mat', '/media/mountHDD2/khoibaocon/alldata/A4483.mat', '/media/mountHDD2/khoibaocon/alldata/A4484.mat', '/media/mountHDD2/khoibaocon/alldata/A4485.mat', '/media/mountHDD2/khoibaocon/alldata/A4486.mat', '/media/mountHDD2/khoibaocon/alldata/A4487.mat', '/media/mountHDD2/khoibaocon/alldata/A4488.mat', '/media/mountHDD2/khoibaocon/alldata/A4489.mat', '/media/mountHDD2/khoibaocon/alldata/A4490.mat', '/media/mountHDD2/khoibaocon/alldata/A4491.mat', '/media/mountHDD2/khoibaocon/alldata/A4492.mat', '/media/mountHDD2/khoibaocon/alldata/A4493.mat', '/media/mountHDD2/khoibaocon/alldata/A4494.mat', '/media/mountHDD2/khoibaocon/alldata/A4495.mat', '/media/mountHDD2/khoibaocon/alldata/A4496.mat', '/media/mountHDD2/khoibaocon/alldata/A4497.mat', '/media/mountHDD2/khoibaocon/alldata/A4498.mat', '/media/mountHDD2/khoibaocon/alldata/A4500.mat', '/media/mountHDD2/khoibaocon/alldata/A4502.mat', '/media/mountHDD2/khoibaocon/alldata/A4503.mat', '/media/mountHDD2/khoibaocon/alldata/A4504.mat', '/media/mountHDD2/khoibaocon/alldata/A4505.mat', '/media/mountHDD2/khoibaocon/alldata/A4506.mat', '/media/mountHDD2/khoibaocon/alldata/A4507.mat', '/media/mountHDD2/khoibaocon/alldata/A4508.mat', '/media/mountHDD2/khoibaocon/alldata/A4509.mat', '/media/mountHDD2/khoibaocon/alldata/A4510.mat', '/media/mountHDD2/khoibaocon/alldata/A4511.mat', '/media/mountHDD2/khoibaocon/alldata/A4512.mat', '/media/mountHDD2/khoibaocon/alldata/A4513.mat', '/media/mountHDD2/khoibaocon/alldata/A4514.mat', '/media/mountHDD2/khoibaocon/alldata/A4515.mat', '/media/mountHDD2/khoibaocon/alldata/A4516.mat', '/media/mountHDD2/khoibaocon/alldata/A4517.mat', '/media/mountHDD2/khoibaocon/alldata/A4519.mat', '/media/mountHDD2/khoibaocon/alldata/A4520.mat', '/media/mountHDD2/khoibaocon/alldata/A4521.mat', '/media/mountHDD2/khoibaocon/alldata/A4522.mat', '/media/mountHDD2/khoibaocon/alldata/A4523.mat', '/media/mountHDD2/khoibaocon/alldata/A4524.mat', '/media/mountHDD2/khoibaocon/alldata/A4525.mat', '/media/mountHDD2/khoibaocon/alldata/A4526.mat', '/media/mountHDD2/khoibaocon/alldata/A4527.mat', '/media/mountHDD2/khoibaocon/alldata/A4528.mat', '/media/mountHDD2/khoibaocon/alldata/A4529.mat', '/media/mountHDD2/khoibaocon/alldata/A4530.mat', '/media/mountHDD2/khoibaocon/alldata/A4531.mat', '/media/mountHDD2/khoibaocon/alldata/A4532.mat', '/media/mountHDD2/khoibaocon/alldata/A4533.mat', '/media/mountHDD2/khoibaocon/alldata/A4534.mat', '/media/mountHDD2/khoibaocon/alldata/A4535.mat', '/media/mountHDD2/khoibaocon/alldata/A4537.mat', '/media/mountHDD2/khoibaocon/alldata/A4538.mat', '/media/mountHDD2/khoibaocon/alldata/A4539.mat', '/media/mountHDD2/khoibaocon/alldata/A4540.mat', '/media/mountHDD2/khoibaocon/alldata/A4541.mat', '/media/mountHDD2/khoibaocon/alldata/A4542.mat', '/media/mountHDD2/khoibaocon/alldata/A4543.mat', '/media/mountHDD2/khoibaocon/alldata/A4544.mat', '/media/mountHDD2/khoibaocon/alldata/A4545.mat', '/media/mountHDD2/khoibaocon/alldata/A4546.mat', '/media/mountHDD2/khoibaocon/alldata/A4547.mat', '/media/mountHDD2/khoibaocon/alldata/A4548.mat', '/media/mountHDD2/khoibaocon/alldata/A4549.mat', '/media/mountHDD2/khoibaocon/alldata/A4550.mat', '/media/mountHDD2/khoibaocon/alldata/A4551.mat', '/media/mountHDD2/khoibaocon/alldata/A4552.mat', '/media/mountHDD2/khoibaocon/alldata/A4553.mat', '/media/mountHDD2/khoibaocon/alldata/A4554.mat', '/media/mountHDD2/khoibaocon/alldata/A4555.mat', '/media/mountHDD2/khoibaocon/alldata/A4556.mat', '/media/mountHDD2/khoibaocon/alldata/A4557.mat', '/media/mountHDD2/khoibaocon/alldata/A4558.mat', '/media/mountHDD2/khoibaocon/alldata/A4559.mat', '/media/mountHDD2/khoibaocon/alldata/A4560.mat', '/media/mountHDD2/khoibaocon/alldata/A4561.mat', '/media/mountHDD2/khoibaocon/alldata/A4562.mat', '/media/mountHDD2/khoibaocon/alldata/A4563.mat', '/media/mountHDD2/khoibaocon/alldata/A4564.mat', '/media/mountHDD2/khoibaocon/alldata/A4566.mat', '/media/mountHDD2/khoibaocon/alldata/A4568.mat', '/media/mountHDD2/khoibaocon/alldata/A4569.mat', '/media/mountHDD2/khoibaocon/alldata/A4570.mat', '/media/mountHDD2/khoibaocon/alldata/A4571.mat', '/media/mountHDD2/khoibaocon/alldata/A4572.mat', '/media/mountHDD2/khoibaocon/alldata/A4573.mat', '/media/mountHDD2/khoibaocon/alldata/A4574.mat', '/media/mountHDD2/khoibaocon/alldata/A4575.mat', '/media/mountHDD2/khoibaocon/alldata/A4576.mat', '/media/mountHDD2/khoibaocon/alldata/A4577.mat', '/media/mountHDD2/khoibaocon/alldata/A4579.mat', '/media/mountHDD2/khoibaocon/alldata/A4580.mat', '/media/mountHDD2/khoibaocon/alldata/A4581.mat', '/media/mountHDD2/khoibaocon/alldata/A4582.mat', '/media/mountHDD2/khoibaocon/alldata/A4583.mat', '/media/mountHDD2/khoibaocon/alldata/A4584.mat', '/media/mountHDD2/khoibaocon/alldata/A4585.mat', '/media/mountHDD2/khoibaocon/alldata/A4586.mat', '/media/mountHDD2/khoibaocon/alldata/A4587.mat', '/media/mountHDD2/khoibaocon/alldata/A4588.mat', '/media/mountHDD2/khoibaocon/alldata/A4589.mat', '/media/mountHDD2/khoibaocon/alldata/A4590.mat', '/media/mountHDD2/khoibaocon/alldata/A4591.mat', '/media/mountHDD2/khoibaocon/alldata/A4592.mat', '/media/mountHDD2/khoibaocon/alldata/A4593.mat', '/media/mountHDD2/khoibaocon/alldata/A4594.mat', '/media/mountHDD2/khoibaocon/alldata/A4595.mat', '/media/mountHDD2/khoibaocon/alldata/A4596.mat', '/media/mountHDD2/khoibaocon/alldata/A4597.mat', '/media/mountHDD2/khoibaocon/alldata/A4598.mat', '/media/mountHDD2/khoibaocon/alldata/A4599.mat', '/media/mountHDD2/khoibaocon/alldata/A4600.mat', '/media/mountHDD2/khoibaocon/alldata/A4601.mat', '/media/mountHDD2/khoibaocon/alldata/A4602.mat', '/media/mountHDD2/khoibaocon/alldata/A4603.mat', '/media/mountHDD2/khoibaocon/alldata/A4604.mat', '/media/mountHDD2/khoibaocon/alldata/A4605.mat', '/media/mountHDD2/khoibaocon/alldata/A4606.mat', '/media/mountHDD2/khoibaocon/alldata/A4607.mat', '/media/mountHDD2/khoibaocon/alldata/A4608.mat', '/media/mountHDD2/khoibaocon/alldata/A4609.mat', '/media/mountHDD2/khoibaocon/alldata/A4610.mat', '/media/mountHDD2/khoibaocon/alldata/A4611.mat', '/media/mountHDD2/khoibaocon/alldata/A4612.mat', '/media/mountHDD2/khoibaocon/alldata/A4613.mat', '/media/mountHDD2/khoibaocon/alldata/A4617.mat', '/media/mountHDD2/khoibaocon/alldata/A4618.mat', '/media/mountHDD2/khoibaocon/alldata/A4619.mat', '/media/mountHDD2/khoibaocon/alldata/A4620.mat', '/media/mountHDD2/khoibaocon/alldata/A4621.mat', '/media/mountHDD2/khoibaocon/alldata/A4622.mat', '/media/mountHDD2/khoibaocon/alldata/A4623.mat', '/media/mountHDD2/khoibaocon/alldata/A4624.mat', '/media/mountHDD2/khoibaocon/alldata/A4625.mat', '/media/mountHDD2/khoibaocon/alldata/A4626.mat', '/media/mountHDD2/khoibaocon/alldata/A4627.mat', '/media/mountHDD2/khoibaocon/alldata/A4628.mat', '/media/mountHDD2/khoibaocon/alldata/A4630.mat', '/media/mountHDD2/khoibaocon/alldata/A4631.mat', '/media/mountHDD2/khoibaocon/alldata/A4632.mat', '/media/mountHDD2/khoibaocon/alldata/A4633.mat', '/media/mountHDD2/khoibaocon/alldata/A4634.mat', '/media/mountHDD2/khoibaocon/alldata/A4635.mat', '/media/mountHDD2/khoibaocon/alldata/A4636.mat', '/media/mountHDD2/khoibaocon/alldata/A4637.mat', '/media/mountHDD2/khoibaocon/alldata/A4638.mat', '/media/mountHDD2/khoibaocon/alldata/A4639.mat', '/media/mountHDD2/khoibaocon/alldata/A4640.mat', '/media/mountHDD2/khoibaocon/alldata/A4641.mat', '/media/mountHDD2/khoibaocon/alldata/A4642.mat', '/media/mountHDD2/khoibaocon/alldata/A4643.mat', '/media/mountHDD2/khoibaocon/alldata/A4644.mat', '/media/mountHDD2/khoibaocon/alldata/A4645.mat', '/media/mountHDD2/khoibaocon/alldata/A4646.mat', '/media/mountHDD2/khoibaocon/alldata/A4647.mat', '/media/mountHDD2/khoibaocon/alldata/A4649.mat', '/media/mountHDD2/khoibaocon/alldata/A4650.mat', '/media/mountHDD2/khoibaocon/alldata/A4651.mat', '/media/mountHDD2/khoibaocon/alldata/A4653.mat', '/media/mountHDD2/khoibaocon/alldata/A4654.mat', '/media/mountHDD2/khoibaocon/alldata/A4655.mat', '/media/mountHDD2/khoibaocon/alldata/A4656.mat', '/media/mountHDD2/khoibaocon/alldata/A4657.mat', '/media/mountHDD2/khoibaocon/alldata/A4658.mat', '/media/mountHDD2/khoibaocon/alldata/A4659.mat', '/media/mountHDD2/khoibaocon/alldata/A4660.mat', '/media/mountHDD2/khoibaocon/alldata/A4661.mat', '/media/mountHDD2/khoibaocon/alldata/A4662.mat', '/media/mountHDD2/khoibaocon/alldata/A4663.mat', '/media/mountHDD2/khoibaocon/alldata/A4664.mat', '/media/mountHDD2/khoibaocon/alldata/A4665.mat', '/media/mountHDD2/khoibaocon/alldata/A4666.mat', '/media/mountHDD2/khoibaocon/alldata/A4667.mat', '/media/mountHDD2/khoibaocon/alldata/A4668.mat', '/media/mountHDD2/khoibaocon/alldata/A4669.mat', '/media/mountHDD2/khoibaocon/alldata/A4670.mat', '/media/mountHDD2/khoibaocon/alldata/A4671.mat', '/media/mountHDD2/khoibaocon/alldata/A4672.mat', '/media/mountHDD2/khoibaocon/alldata/A4674.mat', '/media/mountHDD2/khoibaocon/alldata/A4675.mat', '/media/mountHDD2/khoibaocon/alldata/A4676.mat', '/media/mountHDD2/khoibaocon/alldata/A4677.mat', '/media/mountHDD2/khoibaocon/alldata/A4678.mat', '/media/mountHDD2/khoibaocon/alldata/A4679.mat', '/media/mountHDD2/khoibaocon/alldata/A4680.mat', '/media/mountHDD2/khoibaocon/alldata/A4681.mat', '/media/mountHDD2/khoibaocon/alldata/A4682.mat', '/media/mountHDD2/khoibaocon/alldata/A4683.mat', '/media/mountHDD2/khoibaocon/alldata/A4684.mat', '/media/mountHDD2/khoibaocon/alldata/A4685.mat', '/media/mountHDD2/khoibaocon/alldata/A4686.mat', '/media/mountHDD2/khoibaocon/alldata/A4687.mat', '/media/mountHDD2/khoibaocon/alldata/A4688.mat', '/media/mountHDD2/khoibaocon/alldata/A4689.mat', '/media/mountHDD2/khoibaocon/alldata/A4690.mat', '/media/mountHDD2/khoibaocon/alldata/A4691.mat', '/media/mountHDD2/khoibaocon/alldata/A4692.mat', '/media/mountHDD2/khoibaocon/alldata/A4693.mat', '/media/mountHDD2/khoibaocon/alldata/A4694.mat', '/media/mountHDD2/khoibaocon/alldata/A4695.mat', '/media/mountHDD2/khoibaocon/alldata/A4696.mat', '/media/mountHDD2/khoibaocon/alldata/A4697.mat', '/media/mountHDD2/khoibaocon/alldata/A4698.mat', '/media/mountHDD2/khoibaocon/alldata/A4699.mat', '/media/mountHDD2/khoibaocon/alldata/A4700.mat', '/media/mountHDD2/khoibaocon/alldata/A4701.mat', '/media/mountHDD2/khoibaocon/alldata/A4702.mat', '/media/mountHDD2/khoibaocon/alldata/A4703.mat', '/media/mountHDD2/khoibaocon/alldata/A4704.mat', '/media/mountHDD2/khoibaocon/alldata/A4705.mat', '/media/mountHDD2/khoibaocon/alldata/A4706.mat', '/media/mountHDD2/khoibaocon/alldata/A4707.mat', '/media/mountHDD2/khoibaocon/alldata/A4708.mat', '/media/mountHDD2/khoibaocon/alldata/A4709.mat', '/media/mountHDD2/khoibaocon/alldata/A4711.mat', '/media/mountHDD2/khoibaocon/alldata/A4712.mat', '/media/mountHDD2/khoibaocon/alldata/A4714.mat', '/media/mountHDD2/khoibaocon/alldata/A4715.mat', '/media/mountHDD2/khoibaocon/alldata/A4717.mat', '/media/mountHDD2/khoibaocon/alldata/A4718.mat', '/media/mountHDD2/khoibaocon/alldata/A4719.mat', '/media/mountHDD2/khoibaocon/alldata/A4720.mat', '/media/mountHDD2/khoibaocon/alldata/A4721.mat', '/media/mountHDD2/khoibaocon/alldata/A4722.mat', '/media/mountHDD2/khoibaocon/alldata/A4723.mat', '/media/mountHDD2/khoibaocon/alldata/A4724.mat', '/media/mountHDD2/khoibaocon/alldata/A4725.mat', '/media/mountHDD2/khoibaocon/alldata/A4726.mat', '/media/mountHDD2/khoibaocon/alldata/A4727.mat', '/media/mountHDD2/khoibaocon/alldata/A4728.mat', '/media/mountHDD2/khoibaocon/alldata/A4729.mat', '/media/mountHDD2/khoibaocon/alldata/A4730.mat', '/media/mountHDD2/khoibaocon/alldata/A4731.mat', '/media/mountHDD2/khoibaocon/alldata/A4732.mat', '/media/mountHDD2/khoibaocon/alldata/A4733.mat', '/media/mountHDD2/khoibaocon/alldata/A4734.mat', '/media/mountHDD2/khoibaocon/alldata/A4735.mat', '/media/mountHDD2/khoibaocon/alldata/A4736.mat', '/media/mountHDD2/khoibaocon/alldata/A4737.mat', '/media/mountHDD2/khoibaocon/alldata/A4738.mat', '/media/mountHDD2/khoibaocon/alldata/A4739.mat', '/media/mountHDD2/khoibaocon/alldata/A4740.mat', '/media/mountHDD2/khoibaocon/alldata/A4741.mat', '/media/mountHDD2/khoibaocon/alldata/A4742.mat', '/media/mountHDD2/khoibaocon/alldata/A4743.mat', '/media/mountHDD2/khoibaocon/alldata/A4744.mat', '/media/mountHDD2/khoibaocon/alldata/A4745.mat', '/media/mountHDD2/khoibaocon/alldata/A4746.mat', '/media/mountHDD2/khoibaocon/alldata/A4747.mat', '/media/mountHDD2/khoibaocon/alldata/A4748.mat', '/media/mountHDD2/khoibaocon/alldata/A4749.mat', '/media/mountHDD2/khoibaocon/alldata/A4750.mat', '/media/mountHDD2/khoibaocon/alldata/A4751.mat', '/media/mountHDD2/khoibaocon/alldata/A4752.mat', '/media/mountHDD2/khoibaocon/alldata/A4754.mat', '/media/mountHDD2/khoibaocon/alldata/A4755.mat', '/media/mountHDD2/khoibaocon/alldata/A4757.mat', '/media/mountHDD2/khoibaocon/alldata/A4758.mat', '/media/mountHDD2/khoibaocon/alldata/A4759.mat', '/media/mountHDD2/khoibaocon/alldata/A4760.mat', '/media/mountHDD2/khoibaocon/alldata/A4761.mat', '/media/mountHDD2/khoibaocon/alldata/A4762.mat', '/media/mountHDD2/khoibaocon/alldata/A4763.mat', '/media/mountHDD2/khoibaocon/alldata/A4764.mat', '/media/mountHDD2/khoibaocon/alldata/A4765.mat', '/media/mountHDD2/khoibaocon/alldata/A4766.mat', '/media/mountHDD2/khoibaocon/alldata/A4767.mat', '/media/mountHDD2/khoibaocon/alldata/A4768.mat', '/media/mountHDD2/khoibaocon/alldata/A4769.mat', '/media/mountHDD2/khoibaocon/alldata/A4770.mat', '/media/mountHDD2/khoibaocon/alldata/A4771.mat', '/media/mountHDD2/khoibaocon/alldata/A4772.mat', '/media/mountHDD2/khoibaocon/alldata/A4773.mat', '/media/mountHDD2/khoibaocon/alldata/A4774.mat', '/media/mountHDD2/khoibaocon/alldata/A4775.mat', '/media/mountHDD2/khoibaocon/alldata/A4776.mat', '/media/mountHDD2/khoibaocon/alldata/A4777.mat', '/media/mountHDD2/khoibaocon/alldata/A4778.mat', '/media/mountHDD2/khoibaocon/alldata/A4779.mat', '/media/mountHDD2/khoibaocon/alldata/A4780.mat', '/media/mountHDD2/khoibaocon/alldata/A4781.mat', '/media/mountHDD2/khoibaocon/alldata/A4782.mat', '/media/mountHDD2/khoibaocon/alldata/A4783.mat', '/media/mountHDD2/khoibaocon/alldata/A4784.mat', '/media/mountHDD2/khoibaocon/alldata/A4785.mat', '/media/mountHDD2/khoibaocon/alldata/A4786.mat', '/media/mountHDD2/khoibaocon/alldata/A4787.mat', '/media/mountHDD2/khoibaocon/alldata/A4788.mat', '/media/mountHDD2/khoibaocon/alldata/A4789.mat', '/media/mountHDD2/khoibaocon/alldata/A4790.mat', '/media/mountHDD2/khoibaocon/alldata/A4791.mat', '/media/mountHDD2/khoibaocon/alldata/A4792.mat', '/media/mountHDD2/khoibaocon/alldata/A4793.mat', '/media/mountHDD2/khoibaocon/alldata/A4794.mat', '/media/mountHDD2/khoibaocon/alldata/A4795.mat', '/media/mountHDD2/khoibaocon/alldata/A4796.mat', '/media/mountHDD2/khoibaocon/alldata/A4797.mat', '/media/mountHDD2/khoibaocon/alldata/A4798.mat', '/media/mountHDD2/khoibaocon/alldata/A4799.mat', '/media/mountHDD2/khoibaocon/alldata/A4800.mat', '/media/mountHDD2/khoibaocon/alldata/A4801.mat', '/media/mountHDD2/khoibaocon/alldata/A4802.mat', '/media/mountHDD2/khoibaocon/alldata/A4803.mat', '/media/mountHDD2/khoibaocon/alldata/A4804.mat', '/media/mountHDD2/khoibaocon/alldata/A4805.mat', '/media/mountHDD2/khoibaocon/alldata/A4806.mat', '/media/mountHDD2/khoibaocon/alldata/A4807.mat', '/media/mountHDD2/khoibaocon/alldata/A4808.mat', '/media/mountHDD2/khoibaocon/alldata/A4809.mat', '/media/mountHDD2/khoibaocon/alldata/A4810.mat', '/media/mountHDD2/khoibaocon/alldata/A4811.mat', '/media/mountHDD2/khoibaocon/alldata/A4812.mat', '/media/mountHDD2/khoibaocon/alldata/A4813.mat', '/media/mountHDD2/khoibaocon/alldata/A4814.mat', '/media/mountHDD2/khoibaocon/alldata/A4816.mat', '/media/mountHDD2/khoibaocon/alldata/A4818.mat', '/media/mountHDD2/khoibaocon/alldata/A4819.mat', '/media/mountHDD2/khoibaocon/alldata/A4820.mat', '/media/mountHDD2/khoibaocon/alldata/A4821.mat', '/media/mountHDD2/khoibaocon/alldata/A4822.mat', '/media/mountHDD2/khoibaocon/alldata/A4823.mat', '/media/mountHDD2/khoibaocon/alldata/A4824.mat', '/media/mountHDD2/khoibaocon/alldata/A4825.mat', '/media/mountHDD2/khoibaocon/alldata/A4826.mat', '/media/mountHDD2/khoibaocon/alldata/A4827.mat', '/media/mountHDD2/khoibaocon/alldata/A4828.mat', '/media/mountHDD2/khoibaocon/alldata/A4830.mat', '/media/mountHDD2/khoibaocon/alldata/A4831.mat', '/media/mountHDD2/khoibaocon/alldata/A4832.mat', '/media/mountHDD2/khoibaocon/alldata/A4833.mat', '/media/mountHDD2/khoibaocon/alldata/A4834.mat', '/media/mountHDD2/khoibaocon/alldata/A4835.mat', '/media/mountHDD2/khoibaocon/alldata/A4836.mat', '/media/mountHDD2/khoibaocon/alldata/A4837.mat', '/media/mountHDD2/khoibaocon/alldata/A4838.mat', '/media/mountHDD2/khoibaocon/alldata/A4839.mat', '/media/mountHDD2/khoibaocon/alldata/A4840.mat', '/media/mountHDD2/khoibaocon/alldata/A4841.mat', '/media/mountHDD2/khoibaocon/alldata/A4842.mat', '/media/mountHDD2/khoibaocon/alldata/A4843.mat', '/media/mountHDD2/khoibaocon/alldata/A4844.mat', '/media/mountHDD2/khoibaocon/alldata/A4845.mat', '/media/mountHDD2/khoibaocon/alldata/A4846.mat', '/media/mountHDD2/khoibaocon/alldata/A4847.mat', '/media/mountHDD2/khoibaocon/alldata/A4848.mat', '/media/mountHDD2/khoibaocon/alldata/A4849.mat', '/media/mountHDD2/khoibaocon/alldata/A4850.mat', '/media/mountHDD2/khoibaocon/alldata/A4851.mat', '/media/mountHDD2/khoibaocon/alldata/A4852.mat', '/media/mountHDD2/khoibaocon/alldata/A4853.mat', '/media/mountHDD2/khoibaocon/alldata/A4854.mat', '/media/mountHDD2/khoibaocon/alldata/A4855.mat', '/media/mountHDD2/khoibaocon/alldata/A4856.mat', '/media/mountHDD2/khoibaocon/alldata/A4857.mat', '/media/mountHDD2/khoibaocon/alldata/A4858.mat', '/media/mountHDD2/khoibaocon/alldata/A4859.mat', '/media/mountHDD2/khoibaocon/alldata/A4860.mat', '/media/mountHDD2/khoibaocon/alldata/A4861.mat', '/media/mountHDD2/khoibaocon/alldata/A4862.mat', '/media/mountHDD2/khoibaocon/alldata/A4863.mat', '/media/mountHDD2/khoibaocon/alldata/A4864.mat', '/media/mountHDD2/khoibaocon/alldata/A4865.mat', '/media/mountHDD2/khoibaocon/alldata/A4866.mat', '/media/mountHDD2/khoibaocon/alldata/A4867.mat', '/media/mountHDD2/khoibaocon/alldata/A4868.mat', '/media/mountHDD2/khoibaocon/alldata/A4869.mat', '/media/mountHDD2/khoibaocon/alldata/A4870.mat', '/media/mountHDD2/khoibaocon/alldata/A4871.mat', '/media/mountHDD2/khoibaocon/alldata/A4872.mat', '/media/mountHDD2/khoibaocon/alldata/A4874.mat', '/media/mountHDD2/khoibaocon/alldata/A4875.mat', '/media/mountHDD2/khoibaocon/alldata/A4876.mat', '/media/mountHDD2/khoibaocon/alldata/A4877.mat', '/media/mountHDD2/khoibaocon/alldata/A4878.mat', '/media/mountHDD2/khoibaocon/alldata/A4880.mat', '/media/mountHDD2/khoibaocon/alldata/A4881.mat', '/media/mountHDD2/khoibaocon/alldata/A4882.mat', '/media/mountHDD2/khoibaocon/alldata/A4883.mat', '/media/mountHDD2/khoibaocon/alldata/A4884.mat', '/media/mountHDD2/khoibaocon/alldata/A4885.mat', '/media/mountHDD2/khoibaocon/alldata/A4886.mat', '/media/mountHDD2/khoibaocon/alldata/A4887.mat', '/media/mountHDD2/khoibaocon/alldata/A4888.mat', '/media/mountHDD2/khoibaocon/alldata/A4889.mat', '/media/mountHDD2/khoibaocon/alldata/A4890.mat', '/media/mountHDD2/khoibaocon/alldata/A4891.mat', '/media/mountHDD2/khoibaocon/alldata/A4892.mat', '/media/mountHDD2/khoibaocon/alldata/A4893.mat', '/media/mountHDD2/khoibaocon/alldata/A4894.mat', '/media/mountHDD2/khoibaocon/alldata/A4895.mat', '/media/mountHDD2/khoibaocon/alldata/A4896.mat', '/media/mountHDD2/khoibaocon/alldata/A4897.mat', '/media/mountHDD2/khoibaocon/alldata/A4899.mat', '/media/mountHDD2/khoibaocon/alldata/A4900.mat', '/media/mountHDD2/khoibaocon/alldata/A4901.mat', '/media/mountHDD2/khoibaocon/alldata/A4902.mat', '/media/mountHDD2/khoibaocon/alldata/A4903.mat', '/media/mountHDD2/khoibaocon/alldata/A4904.mat', '/media/mountHDD2/khoibaocon/alldata/A4905.mat', '/media/mountHDD2/khoibaocon/alldata/A4906.mat', '/media/mountHDD2/khoibaocon/alldata/A4907.mat', '/media/mountHDD2/khoibaocon/alldata/A4908.mat', '/media/mountHDD2/khoibaocon/alldata/A4909.mat', '/media/mountHDD2/khoibaocon/alldata/A4910.mat', '/media/mountHDD2/khoibaocon/alldata/A4911.mat', '/media/mountHDD2/khoibaocon/alldata/A4912.mat', '/media/mountHDD2/khoibaocon/alldata/A4913.mat', '/media/mountHDD2/khoibaocon/alldata/A4914.mat', '/media/mountHDD2/khoibaocon/alldata/A4915.mat', '/media/mountHDD2/khoibaocon/alldata/A4916.mat', '/media/mountHDD2/khoibaocon/alldata/A4917.mat', '/media/mountHDD2/khoibaocon/alldata/A4918.mat', '/media/mountHDD2/khoibaocon/alldata/A4920.mat', '/media/mountHDD2/khoibaocon/alldata/A4921.mat', '/media/mountHDD2/khoibaocon/alldata/A4922.mat', '/media/mountHDD2/khoibaocon/alldata/A4923.mat', '/media/mountHDD2/khoibaocon/alldata/A4924.mat', '/media/mountHDD2/khoibaocon/alldata/A4925.mat', '/media/mountHDD2/khoibaocon/alldata/A4926.mat', '/media/mountHDD2/khoibaocon/alldata/A4927.mat', '/media/mountHDD2/khoibaocon/alldata/A4928.mat', '/media/mountHDD2/khoibaocon/alldata/A4929.mat', '/media/mountHDD2/khoibaocon/alldata/A4930.mat', '/media/mountHDD2/khoibaocon/alldata/A4931.mat', '/media/mountHDD2/khoibaocon/alldata/A4932.mat', '/media/mountHDD2/khoibaocon/alldata/A4933.mat', '/media/mountHDD2/khoibaocon/alldata/A4934.mat', '/media/mountHDD2/khoibaocon/alldata/A4935.mat', '/media/mountHDD2/khoibaocon/alldata/A4936.mat', '/media/mountHDD2/khoibaocon/alldata/A4937.mat', '/media/mountHDD2/khoibaocon/alldata/A4938.mat', '/media/mountHDD2/khoibaocon/alldata/A4939.mat', '/media/mountHDD2/khoibaocon/alldata/A4940.mat', '/media/mountHDD2/khoibaocon/alldata/A4941.mat', '/media/mountHDD2/khoibaocon/alldata/A4942.mat', '/media/mountHDD2/khoibaocon/alldata/A4943.mat', '/media/mountHDD2/khoibaocon/alldata/A4944.mat', '/media/mountHDD2/khoibaocon/alldata/A4945.mat', '/media/mountHDD2/khoibaocon/alldata/A4946.mat', '/media/mountHDD2/khoibaocon/alldata/A4947.mat', '/media/mountHDD2/khoibaocon/alldata/A4948.mat', '/media/mountHDD2/khoibaocon/alldata/A4949.mat', '/media/mountHDD2/khoibaocon/alldata/A4950.mat', '/media/mountHDD2/khoibaocon/alldata/A4951.mat', '/media/mountHDD2/khoibaocon/alldata/A4952.mat', '/media/mountHDD2/khoibaocon/alldata/A4953.mat', '/media/mountHDD2/khoibaocon/alldata/A4954.mat', '/media/mountHDD2/khoibaocon/alldata/A4955.mat', '/media/mountHDD2/khoibaocon/alldata/A4956.mat', '/media/mountHDD2/khoibaocon/alldata/A4957.mat', '/media/mountHDD2/khoibaocon/alldata/A4958.mat', '/media/mountHDD2/khoibaocon/alldata/A4959.mat', '/media/mountHDD2/khoibaocon/alldata/A4961.mat', '/media/mountHDD2/khoibaocon/alldata/A4962.mat', '/media/mountHDD2/khoibaocon/alldata/A4963.mat', '/media/mountHDD2/khoibaocon/alldata/A4965.mat', '/media/mountHDD2/khoibaocon/alldata/A4966.mat', '/media/mountHDD2/khoibaocon/alldata/A4967.mat', '/media/mountHDD2/khoibaocon/alldata/A4968.mat', '/media/mountHDD2/khoibaocon/alldata/A4969.mat', '/media/mountHDD2/khoibaocon/alldata/A4970.mat', '/media/mountHDD2/khoibaocon/alldata/A4971.mat', '/media/mountHDD2/khoibaocon/alldata/A4972.mat', '/media/mountHDD2/khoibaocon/alldata/A4973.mat', '/media/mountHDD2/khoibaocon/alldata/A4974.mat', '/media/mountHDD2/khoibaocon/alldata/A4975.mat', '/media/mountHDD2/khoibaocon/alldata/A4976.mat', '/media/mountHDD2/khoibaocon/alldata/A4977.mat', '/media/mountHDD2/khoibaocon/alldata/A4978.mat', '/media/mountHDD2/khoibaocon/alldata/A4979.mat', '/media/mountHDD2/khoibaocon/alldata/A4980.mat', '/media/mountHDD2/khoibaocon/alldata/A4981.mat', '/media/mountHDD2/khoibaocon/alldata/A4982.mat', '/media/mountHDD2/khoibaocon/alldata/A4983.mat', '/media/mountHDD2/khoibaocon/alldata/A4984.mat', '/media/mountHDD2/khoibaocon/alldata/A4985.mat', '/media/mountHDD2/khoibaocon/alldata/A4986.mat', '/media/mountHDD2/khoibaocon/alldata/A4987.mat', '/media/mountHDD2/khoibaocon/alldata/A4988.mat', '/media/mountHDD2/khoibaocon/alldata/A4989.mat', '/media/mountHDD2/khoibaocon/alldata/A4994.mat', '/media/mountHDD2/khoibaocon/alldata/A4995.mat', '/media/mountHDD2/khoibaocon/alldata/A4996.mat', '/media/mountHDD2/khoibaocon/alldata/A4997.mat', '/media/mountHDD2/khoibaocon/alldata/A4999.mat', '/media/mountHDD2/khoibaocon/alldata/A5000.mat', '/media/mountHDD2/khoibaocon/alldata/A5001.mat', '/media/mountHDD2/khoibaocon/alldata/A5002.mat', '/media/mountHDD2/khoibaocon/alldata/A5003.mat', '/media/mountHDD2/khoibaocon/alldata/A5004.mat', '/media/mountHDD2/khoibaocon/alldata/A5005.mat', '/media/mountHDD2/khoibaocon/alldata/A5006.mat', '/media/mountHDD2/khoibaocon/alldata/A5007.mat', '/media/mountHDD2/khoibaocon/alldata/A5008.mat', '/media/mountHDD2/khoibaocon/alldata/A5009.mat', '/media/mountHDD2/khoibaocon/alldata/A5011.mat', '/media/mountHDD2/khoibaocon/alldata/A5012.mat', '/media/mountHDD2/khoibaocon/alldata/A5013.mat', '/media/mountHDD2/khoibaocon/alldata/A5014.mat', '/media/mountHDD2/khoibaocon/alldata/A5015.mat', '/media/mountHDD2/khoibaocon/alldata/A5016.mat', '/media/mountHDD2/khoibaocon/alldata/A5017.mat', '/media/mountHDD2/khoibaocon/alldata/A5018.mat', '/media/mountHDD2/khoibaocon/alldata/A5019.mat', '/media/mountHDD2/khoibaocon/alldata/A5020.mat', '/media/mountHDD2/khoibaocon/alldata/A5021.mat', '/media/mountHDD2/khoibaocon/alldata/A5022.mat', '/media/mountHDD2/khoibaocon/alldata/A5023.mat', '/media/mountHDD2/khoibaocon/alldata/A5024.mat', '/media/mountHDD2/khoibaocon/alldata/A5025.mat', '/media/mountHDD2/khoibaocon/alldata/A5026.mat', '/media/mountHDD2/khoibaocon/alldata/A5027.mat', '/media/mountHDD2/khoibaocon/alldata/A5028.mat', '/media/mountHDD2/khoibaocon/alldata/A5030.mat', '/media/mountHDD2/khoibaocon/alldata/A5031.mat', '/media/mountHDD2/khoibaocon/alldata/A5032.mat', '/media/mountHDD2/khoibaocon/alldata/A5033.mat', '/media/mountHDD2/khoibaocon/alldata/A5034.mat', '/media/mountHDD2/khoibaocon/alldata/A5035.mat', '/media/mountHDD2/khoibaocon/alldata/A5036.mat', '/media/mountHDD2/khoibaocon/alldata/A5038.mat', '/media/mountHDD2/khoibaocon/alldata/A5039.mat', '/media/mountHDD2/khoibaocon/alldata/A5040.mat', '/media/mountHDD2/khoibaocon/alldata/A5041.mat', '/media/mountHDD2/khoibaocon/alldata/A5043.mat', '/media/mountHDD2/khoibaocon/alldata/A5044.mat', '/media/mountHDD2/khoibaocon/alldata/A5045.mat', '/media/mountHDD2/khoibaocon/alldata/A5046.mat', '/media/mountHDD2/khoibaocon/alldata/A5047.mat', '/media/mountHDD2/khoibaocon/alldata/A5048.mat', '/media/mountHDD2/khoibaocon/alldata/A5049.mat', '/media/mountHDD2/khoibaocon/alldata/A5050.mat', '/media/mountHDD2/khoibaocon/alldata/A5052.mat', '/media/mountHDD2/khoibaocon/alldata/A5053.mat', '/media/mountHDD2/khoibaocon/alldata/A5054.mat', '/media/mountHDD2/khoibaocon/alldata/A5055.mat', '/media/mountHDD2/khoibaocon/alldata/A5056.mat', '/media/mountHDD2/khoibaocon/alldata/A5057.mat', '/media/mountHDD2/khoibaocon/alldata/A5058.mat', '/media/mountHDD2/khoibaocon/alldata/A5059.mat', '/media/mountHDD2/khoibaocon/alldata/A5061.mat', '/media/mountHDD2/khoibaocon/alldata/A5062.mat', '/media/mountHDD2/khoibaocon/alldata/A5063.mat', '/media/mountHDD2/khoibaocon/alldata/A5064.mat', '/media/mountHDD2/khoibaocon/alldata/A5065.mat', '/media/mountHDD2/khoibaocon/alldata/A5066.mat', '/media/mountHDD2/khoibaocon/alldata/A5067.mat', '/media/mountHDD2/khoibaocon/alldata/A5068.mat', '/media/mountHDD2/khoibaocon/alldata/A5069.mat', '/media/mountHDD2/khoibaocon/alldata/A5070.mat', '/media/mountHDD2/khoibaocon/alldata/A5071.mat', '/media/mountHDD2/khoibaocon/alldata/A5072.mat', '/media/mountHDD2/khoibaocon/alldata/A5073.mat', '/media/mountHDD2/khoibaocon/alldata/A5075.mat', '/media/mountHDD2/khoibaocon/alldata/A5076.mat', '/media/mountHDD2/khoibaocon/alldata/A5077.mat', '/media/mountHDD2/khoibaocon/alldata/A5078.mat', '/media/mountHDD2/khoibaocon/alldata/A5079.mat', '/media/mountHDD2/khoibaocon/alldata/A5080.mat', '/media/mountHDD2/khoibaocon/alldata/A5081.mat', '/media/mountHDD2/khoibaocon/alldata/A5082.mat', '/media/mountHDD2/khoibaocon/alldata/A5083.mat', '/media/mountHDD2/khoibaocon/alldata/A5084.mat', '/media/mountHDD2/khoibaocon/alldata/A5086.mat', '/media/mountHDD2/khoibaocon/alldata/A5088.mat', '/media/mountHDD2/khoibaocon/alldata/A5089.mat', '/media/mountHDD2/khoibaocon/alldata/A5090.mat', '/media/mountHDD2/khoibaocon/alldata/A5091.mat', '/media/mountHDD2/khoibaocon/alldata/A5092.mat', '/media/mountHDD2/khoibaocon/alldata/A5094.mat', '/media/mountHDD2/khoibaocon/alldata/A5096.mat', '/media/mountHDD2/khoibaocon/alldata/A5097.mat', '/media/mountHDD2/khoibaocon/alldata/A5098.mat', '/media/mountHDD2/khoibaocon/alldata/A5099.mat', '/media/mountHDD2/khoibaocon/alldata/A5101.mat', '/media/mountHDD2/khoibaocon/alldata/A5102.mat', '/media/mountHDD2/khoibaocon/alldata/A5103.mat', '/media/mountHDD2/khoibaocon/alldata/A5104.mat', '/media/mountHDD2/khoibaocon/alldata/A5105.mat', '/media/mountHDD2/khoibaocon/alldata/A5106.mat', '/media/mountHDD2/khoibaocon/alldata/A5107.mat', '/media/mountHDD2/khoibaocon/alldata/A5108.mat', '/media/mountHDD2/khoibaocon/alldata/A5109.mat', '/media/mountHDD2/khoibaocon/alldata/A5110.mat', '/media/mountHDD2/khoibaocon/alldata/A5111.mat', '/media/mountHDD2/khoibaocon/alldata/A5112.mat', '/media/mountHDD2/khoibaocon/alldata/A5114.mat', '/media/mountHDD2/khoibaocon/alldata/A5116.mat', '/media/mountHDD2/khoibaocon/alldata/A5117.mat', '/media/mountHDD2/khoibaocon/alldata/A5118.mat', '/media/mountHDD2/khoibaocon/alldata/A5119.mat', '/media/mountHDD2/khoibaocon/alldata/A5120.mat', '/media/mountHDD2/khoibaocon/alldata/A5121.mat', '/media/mountHDD2/khoibaocon/alldata/A5122.mat', '/media/mountHDD2/khoibaocon/alldata/A5123.mat', '/media/mountHDD2/khoibaocon/alldata/A5124.mat', '/media/mountHDD2/khoibaocon/alldata/A5125.mat', '/media/mountHDD2/khoibaocon/alldata/A5126.mat', '/media/mountHDD2/khoibaocon/alldata/A5128.mat', '/media/mountHDD2/khoibaocon/alldata/A5130.mat', '/media/mountHDD2/khoibaocon/alldata/A5131.mat', '/media/mountHDD2/khoibaocon/alldata/A5132.mat', '/media/mountHDD2/khoibaocon/alldata/A5133.mat', '/media/mountHDD2/khoibaocon/alldata/A3897.mat', '/media/mountHDD2/khoibaocon/alldata/A5136.mat', '/media/mountHDD2/khoibaocon/alldata/A5137.mat', '/media/mountHDD2/khoibaocon/alldata/A5138.mat', '/media/mountHDD2/khoibaocon/alldata/A5139.mat', '/media/mountHDD2/khoibaocon/alldata/A5140.mat', '/media/mountHDD2/khoibaocon/alldata/A2166.mat', '/media/mountHDD2/khoibaocon/alldata/A5143.mat', '/media/mountHDD2/khoibaocon/alldata/A5144.mat', '/media/mountHDD2/khoibaocon/alldata/A5146.mat', '/media/mountHDD2/khoibaocon/alldata/A5147.mat', '/media/mountHDD2/khoibaocon/alldata/A5148.mat', '/media/mountHDD2/khoibaocon/alldata/A5149.mat', '/media/mountHDD2/khoibaocon/alldata/A5150.mat', '/media/mountHDD2/khoibaocon/alldata/A5151.mat', '/media/mountHDD2/khoibaocon/alldata/A5152.mat', '/media/mountHDD2/khoibaocon/alldata/A5153.mat', '/media/mountHDD2/khoibaocon/alldata/A5154.mat', '/media/mountHDD2/khoibaocon/alldata/A5155.mat', '/media/mountHDD2/khoibaocon/alldata/A5156.mat', '/media/mountHDD2/khoibaocon/alldata/A5157.mat', '/media/mountHDD2/khoibaocon/alldata/A5158.mat', '/media/mountHDD2/khoibaocon/alldata/A5159.mat', '/media/mountHDD2/khoibaocon/alldata/A5160.mat', '/media/mountHDD2/khoibaocon/alldata/A5161.mat', '/media/mountHDD2/khoibaocon/alldata/A5162.mat', '/media/mountHDD2/khoibaocon/alldata/A5163.mat', '/media/mountHDD2/khoibaocon/alldata/A5164.mat', '/media/mountHDD2/khoibaocon/alldata/A5165.mat', '/media/mountHDD2/khoibaocon/alldata/A5166.mat', '/media/mountHDD2/khoibaocon/alldata/A5167.mat', '/media/mountHDD2/khoibaocon/alldata/A5168.mat', '/media/mountHDD2/khoibaocon/alldata/A5169.mat', '/media/mountHDD2/khoibaocon/alldata/A5170.mat', '/media/mountHDD2/khoibaocon/alldata/A5171.mat', '/media/mountHDD2/khoibaocon/alldata/A5172.mat', '/media/mountHDD2/khoibaocon/alldata/A5173.mat', '/media/mountHDD2/khoibaocon/alldata/A5174.mat', '/media/mountHDD2/khoibaocon/alldata/A5175.mat', '/media/mountHDD2/khoibaocon/alldata/A5176.mat', '/media/mountHDD2/khoibaocon/alldata/A5177.mat', '/media/mountHDD2/khoibaocon/alldata/A5178.mat', '/media/mountHDD2/khoibaocon/alldata/A5179.mat', '/media/mountHDD2/khoibaocon/alldata/A5180.mat', '/media/mountHDD2/khoibaocon/alldata/A5182.mat', '/media/mountHDD2/khoibaocon/alldata/A5183.mat', '/media/mountHDD2/khoibaocon/alldata/A5184.mat', '/media/mountHDD2/khoibaocon/alldata/A5185.mat', '/media/mountHDD2/khoibaocon/alldata/A5186.mat', '/media/mountHDD2/khoibaocon/alldata/A5187.mat', '/media/mountHDD2/khoibaocon/alldata/A5189.mat', '/media/mountHDD2/khoibaocon/alldata/A5191.mat', '/media/mountHDD2/khoibaocon/alldata/A5192.mat', '/media/mountHDD2/khoibaocon/alldata/A5194.mat', '/media/mountHDD2/khoibaocon/alldata/A5195.mat', '/media/mountHDD2/khoibaocon/alldata/A5196.mat', '/media/mountHDD2/khoibaocon/alldata/A5197.mat', '/media/mountHDD2/khoibaocon/alldata/A5198.mat', '/media/mountHDD2/khoibaocon/alldata/A5199.mat', '/media/mountHDD2/khoibaocon/alldata/A5200.mat', '/media/mountHDD2/khoibaocon/alldata/A5201.mat', '/media/mountHDD2/khoibaocon/alldata/A5202.mat', '/media/mountHDD2/khoibaocon/alldata/A5203.mat', '/media/mountHDD2/khoibaocon/alldata/A5204.mat', '/media/mountHDD2/khoibaocon/alldata/A5205.mat', '/media/mountHDD2/khoibaocon/alldata/A5206.mat', '/media/mountHDD2/khoibaocon/alldata/A5207.mat', '/media/mountHDD2/khoibaocon/alldata/A5208.mat', '/media/mountHDD2/khoibaocon/alldata/A5209.mat', '/media/mountHDD2/khoibaocon/alldata/A5210.mat', '/media/mountHDD2/khoibaocon/alldata/A5212.mat', '/media/mountHDD2/khoibaocon/alldata/A5213.mat', '/media/mountHDD2/khoibaocon/alldata/A5214.mat', '/media/mountHDD2/khoibaocon/alldata/A5216.mat', '/media/mountHDD2/khoibaocon/alldata/A5217.mat', '/media/mountHDD2/khoibaocon/alldata/A5218.mat', '/media/mountHDD2/khoibaocon/alldata/A5219.mat', '/media/mountHDD2/khoibaocon/alldata/A5220.mat', '/media/mountHDD2/khoibaocon/alldata/A5221.mat', '/media/mountHDD2/khoibaocon/alldata/A5223.mat', '/media/mountHDD2/khoibaocon/alldata/A5224.mat', '/media/mountHDD2/khoibaocon/alldata/A5225.mat', '/media/mountHDD2/khoibaocon/alldata/A5226.mat', '/media/mountHDD2/khoibaocon/alldata/A5227.mat', '/media/mountHDD2/khoibaocon/alldata/A5228.mat', '/media/mountHDD2/khoibaocon/alldata/A5229.mat', '/media/mountHDD2/khoibaocon/alldata/A5230.mat', '/media/mountHDD2/khoibaocon/alldata/A5232.mat', '/media/mountHDD2/khoibaocon/alldata/A5233.mat', '/media/mountHDD2/khoibaocon/alldata/A5234.mat', '/media/mountHDD2/khoibaocon/alldata/A5235.mat', '/media/mountHDD2/khoibaocon/alldata/A5236.mat', '/media/mountHDD2/khoibaocon/alldata/A5237.mat', '/media/mountHDD2/khoibaocon/alldata/A5238.mat', '/media/mountHDD2/khoibaocon/alldata/A5239.mat', '/media/mountHDD2/khoibaocon/alldata/A5240.mat', '/media/mountHDD2/khoibaocon/alldata/A5241.mat', '/media/mountHDD2/khoibaocon/alldata/A5242.mat', '/media/mountHDD2/khoibaocon/alldata/A5243.mat', '/media/mountHDD2/khoibaocon/alldata/A5244.mat', '/media/mountHDD2/khoibaocon/alldata/A5245.mat', '/media/mountHDD2/khoibaocon/alldata/A5246.mat', '/media/mountHDD2/khoibaocon/alldata/A5247.mat', '/media/mountHDD2/khoibaocon/alldata/A5248.mat', '/media/mountHDD2/khoibaocon/alldata/A5249.mat', '/media/mountHDD2/khoibaocon/alldata/A5250.mat', '/media/mountHDD2/khoibaocon/alldata/A5252.mat', '/media/mountHDD2/khoibaocon/alldata/A5253.mat', '/media/mountHDD2/khoibaocon/alldata/A5254.mat', '/media/mountHDD2/khoibaocon/alldata/A5255.mat', '/media/mountHDD2/khoibaocon/alldata/A5256.mat', '/media/mountHDD2/khoibaocon/alldata/A5257.mat', '/media/mountHDD2/khoibaocon/alldata/A5258.mat', '/media/mountHDD2/khoibaocon/alldata/A5259.mat', '/media/mountHDD2/khoibaocon/alldata/A5260.mat', '/media/mountHDD2/khoibaocon/alldata/A5261.mat', '/media/mountHDD2/khoibaocon/alldata/A5262.mat', '/media/mountHDD2/khoibaocon/alldata/A5264.mat', '/media/mountHDD2/khoibaocon/alldata/A5265.mat', '/media/mountHDD2/khoibaocon/alldata/A5266.mat', '/media/mountHDD2/khoibaocon/alldata/A5267.mat', '/media/mountHDD2/khoibaocon/alldata/A5268.mat', '/media/mountHDD2/khoibaocon/alldata/A5269.mat', '/media/mountHDD2/khoibaocon/alldata/A5270.mat', '/media/mountHDD2/khoibaocon/alldata/A5271.mat', '/media/mountHDD2/khoibaocon/alldata/A5272.mat', '/media/mountHDD2/khoibaocon/alldata/A5273.mat', '/media/mountHDD2/khoibaocon/alldata/A5274.mat', '/media/mountHDD2/khoibaocon/alldata/A5275.mat', '/media/mountHDD2/khoibaocon/alldata/A5276.mat', '/media/mountHDD2/khoibaocon/alldata/A5277.mat', '/media/mountHDD2/khoibaocon/alldata/A5278.mat', '/media/mountHDD2/khoibaocon/alldata/A5279.mat', '/media/mountHDD2/khoibaocon/alldata/A5280.mat', '/media/mountHDD2/khoibaocon/alldata/A5281.mat', '/media/mountHDD2/khoibaocon/alldata/A5283.mat', '/media/mountHDD2/khoibaocon/alldata/A5284.mat', '/media/mountHDD2/khoibaocon/alldata/A5285.mat', '/media/mountHDD2/khoibaocon/alldata/A5286.mat', '/media/mountHDD2/khoibaocon/alldata/A5287.mat', '/media/mountHDD2/khoibaocon/alldata/A5288.mat', '/media/mountHDD2/khoibaocon/alldata/A5289.mat', '/media/mountHDD2/khoibaocon/alldata/A5290.mat', '/media/mountHDD2/khoibaocon/alldata/A5291.mat', '/media/mountHDD2/khoibaocon/alldata/A5292.mat', '/media/mountHDD2/khoibaocon/alldata/A5293.mat', '/media/mountHDD2/khoibaocon/alldata/A5294.mat', '/media/mountHDD2/khoibaocon/alldata/A5295.mat', '/media/mountHDD2/khoibaocon/alldata/A5296.mat', '/media/mountHDD2/khoibaocon/alldata/A5297.mat', '/media/mountHDD2/khoibaocon/alldata/A5298.mat', '/media/mountHDD2/khoibaocon/alldata/A5299.mat', '/media/mountHDD2/khoibaocon/alldata/A5300.mat', '/media/mountHDD2/khoibaocon/alldata/A5301.mat', '/media/mountHDD2/khoibaocon/alldata/A5302.mat', '/media/mountHDD2/khoibaocon/alldata/A5303.mat', '/media/mountHDD2/khoibaocon/alldata/A5305.mat', '/media/mountHDD2/khoibaocon/alldata/A5306.mat', '/media/mountHDD2/khoibaocon/alldata/A5307.mat', '/media/mountHDD2/khoibaocon/alldata/A5310.mat', '/media/mountHDD2/khoibaocon/alldata/A5311.mat', '/media/mountHDD2/khoibaocon/alldata/A5312.mat', '/media/mountHDD2/khoibaocon/alldata/A5313.mat', '/media/mountHDD2/khoibaocon/alldata/A5314.mat', '/media/mountHDD2/khoibaocon/alldata/A5315.mat', '/media/mountHDD2/khoibaocon/alldata/A5316.mat', '/media/mountHDD2/khoibaocon/alldata/A5317.mat', '/media/mountHDD2/khoibaocon/alldata/A5318.mat', '/media/mountHDD2/khoibaocon/alldata/A5319.mat', '/media/mountHDD2/khoibaocon/alldata/A5320.mat', '/media/mountHDD2/khoibaocon/alldata/A5321.mat', '/media/mountHDD2/khoibaocon/alldata/A5322.mat', '/media/mountHDD2/khoibaocon/alldata/A5323.mat', '/media/mountHDD2/khoibaocon/alldata/A5324.mat', '/media/mountHDD2/khoibaocon/alldata/A5325.mat', '/media/mountHDD2/khoibaocon/alldata/A5326.mat', '/media/mountHDD2/khoibaocon/alldata/A5327.mat', '/media/mountHDD2/khoibaocon/alldata/A5328.mat', '/media/mountHDD2/khoibaocon/alldata/A5329.mat', '/media/mountHDD2/khoibaocon/alldata/A5330.mat', '/media/mountHDD2/khoibaocon/alldata/A5331.mat', '/media/mountHDD2/khoibaocon/alldata/A5332.mat', '/media/mountHDD2/khoibaocon/alldata/A5333.mat', '/media/mountHDD2/khoibaocon/alldata/A5334.mat', '/media/mountHDD2/khoibaocon/alldata/A5335.mat', '/media/mountHDD2/khoibaocon/alldata/A5336.mat', '/media/mountHDD2/khoibaocon/alldata/A5337.mat', '/media/mountHDD2/khoibaocon/alldata/A5338.mat', '/media/mountHDD2/khoibaocon/alldata/A5339.mat', '/media/mountHDD2/khoibaocon/alldata/A5340.mat', '/media/mountHDD2/khoibaocon/alldata/A5341.mat', '/media/mountHDD2/khoibaocon/alldata/A5342.mat', '/media/mountHDD2/khoibaocon/alldata/A5343.mat', '/media/mountHDD2/khoibaocon/alldata/A5344.mat', '/media/mountHDD2/khoibaocon/alldata/A5345.mat', '/media/mountHDD2/khoibaocon/alldata/A5346.mat', '/media/mountHDD2/khoibaocon/alldata/A5347.mat', '/media/mountHDD2/khoibaocon/alldata/A5348.mat', '/media/mountHDD2/khoibaocon/alldata/A5349.mat', '/media/mountHDD2/khoibaocon/alldata/A5350.mat', '/media/mountHDD2/khoibaocon/alldata/A5351.mat', '/media/mountHDD2/khoibaocon/alldata/A5352.mat', '/media/mountHDD2/khoibaocon/alldata/A5353.mat', '/media/mountHDD2/khoibaocon/alldata/A5354.mat', '/media/mountHDD2/khoibaocon/alldata/A5355.mat', '/media/mountHDD2/khoibaocon/alldata/A5356.mat', '/media/mountHDD2/khoibaocon/alldata/A5357.mat', '/media/mountHDD2/khoibaocon/alldata/A5358.mat', '/media/mountHDD2/khoibaocon/alldata/A5359.mat', '/media/mountHDD2/khoibaocon/alldata/A5360.mat', '/media/mountHDD2/khoibaocon/alldata/A5361.mat', '/media/mountHDD2/khoibaocon/alldata/A5363.mat', '/media/mountHDD2/khoibaocon/alldata/A5364.mat', '/media/mountHDD2/khoibaocon/alldata/A5365.mat', '/media/mountHDD2/khoibaocon/alldata/A5366.mat', '/media/mountHDD2/khoibaocon/alldata/A5367.mat', '/media/mountHDD2/khoibaocon/alldata/A5368.mat', '/media/mountHDD2/khoibaocon/alldata/A5369.mat', '/media/mountHDD2/khoibaocon/alldata/A5371.mat', '/media/mountHDD2/khoibaocon/alldata/A5372.mat', '/media/mountHDD2/khoibaocon/alldata/A5373.mat', '/media/mountHDD2/khoibaocon/alldata/A5374.mat', '/media/mountHDD2/khoibaocon/alldata/A5375.mat', '/media/mountHDD2/khoibaocon/alldata/A5376.mat', '/media/mountHDD2/khoibaocon/alldata/A5377.mat', '/media/mountHDD2/khoibaocon/alldata/A5378.mat', '/media/mountHDD2/khoibaocon/alldata/A5379.mat', '/media/mountHDD2/khoibaocon/alldata/A5380.mat', '/media/mountHDD2/khoibaocon/alldata/A5381.mat', '/media/mountHDD2/khoibaocon/alldata/A5382.mat', '/media/mountHDD2/khoibaocon/alldata/A5383.mat', '/media/mountHDD2/khoibaocon/alldata/A5384.mat', '/media/mountHDD2/khoibaocon/alldata/A5385.mat', '/media/mountHDD2/khoibaocon/alldata/A5386.mat', '/media/mountHDD2/khoibaocon/alldata/A5387.mat', '/media/mountHDD2/khoibaocon/alldata/A5388.mat', '/media/mountHDD2/khoibaocon/alldata/A5389.mat', '/media/mountHDD2/khoibaocon/alldata/A5390.mat', '/media/mountHDD2/khoibaocon/alldata/A5391.mat', '/media/mountHDD2/khoibaocon/alldata/A5393.mat', '/media/mountHDD2/khoibaocon/alldata/A5394.mat', '/media/mountHDD2/khoibaocon/alldata/A5395.mat', '/media/mountHDD2/khoibaocon/alldata/A5396.mat', '/media/mountHDD2/khoibaocon/alldata/A5397.mat', '/media/mountHDD2/khoibaocon/alldata/A5398.mat', '/media/mountHDD2/khoibaocon/alldata/A5399.mat', '/media/mountHDD2/khoibaocon/alldata/A5400.mat', '/media/mountHDD2/khoibaocon/alldata/A5401.mat', '/media/mountHDD2/khoibaocon/alldata/A5402.mat', '/media/mountHDD2/khoibaocon/alldata/A5403.mat', '/media/mountHDD2/khoibaocon/alldata/A5404.mat', '/media/mountHDD2/khoibaocon/alldata/A5405.mat', '/media/mountHDD2/khoibaocon/alldata/A5406.mat', '/media/mountHDD2/khoibaocon/alldata/A5407.mat', '/media/mountHDD2/khoibaocon/alldata/A5409.mat', '/media/mountHDD2/khoibaocon/alldata/A5410.mat', '/media/mountHDD2/khoibaocon/alldata/A5411.mat', '/media/mountHDD2/khoibaocon/alldata/A5414.mat', '/media/mountHDD2/khoibaocon/alldata/A5415.mat', '/media/mountHDD2/khoibaocon/alldata/A5416.mat', '/media/mountHDD2/khoibaocon/alldata/A5417.mat', '/media/mountHDD2/khoibaocon/alldata/A5418.mat', '/media/mountHDD2/khoibaocon/alldata/A5419.mat', '/media/mountHDD2/khoibaocon/alldata/A5420.mat', '/media/mountHDD2/khoibaocon/alldata/A5421.mat', '/media/mountHDD2/khoibaocon/alldata/A5422.mat', '/media/mountHDD2/khoibaocon/alldata/A5423.mat', '/media/mountHDD2/khoibaocon/alldata/A5424.mat', '/media/mountHDD2/khoibaocon/alldata/A5425.mat', '/media/mountHDD2/khoibaocon/alldata/A5426.mat', '/media/mountHDD2/khoibaocon/alldata/A5427.mat', '/media/mountHDD2/khoibaocon/alldata/A5428.mat', '/media/mountHDD2/khoibaocon/alldata/A5429.mat', '/media/mountHDD2/khoibaocon/alldata/A5430.mat', '/media/mountHDD2/khoibaocon/alldata/A5431.mat', '/media/mountHDD2/khoibaocon/alldata/A5432.mat', '/media/mountHDD2/khoibaocon/alldata/A5433.mat', '/media/mountHDD2/khoibaocon/alldata/A5434.mat', '/media/mountHDD2/khoibaocon/alldata/A5435.mat', '/media/mountHDD2/khoibaocon/alldata/A5436.mat', '/media/mountHDD2/khoibaocon/alldata/A5437.mat', '/media/mountHDD2/khoibaocon/alldata/A5438.mat', '/media/mountHDD2/khoibaocon/alldata/A5439.mat', '/media/mountHDD2/khoibaocon/alldata/A5440.mat', '/media/mountHDD2/khoibaocon/alldata/A5442.mat', '/media/mountHDD2/khoibaocon/alldata/A5444.mat', '/media/mountHDD2/khoibaocon/alldata/A5446.mat', '/media/mountHDD2/khoibaocon/alldata/A5447.mat', '/media/mountHDD2/khoibaocon/alldata/A5448.mat', '/media/mountHDD2/khoibaocon/alldata/A5449.mat', '/media/mountHDD2/khoibaocon/alldata/A5450.mat', '/media/mountHDD2/khoibaocon/alldata/A5451.mat', '/media/mountHDD2/khoibaocon/alldata/A5452.mat', '/media/mountHDD2/khoibaocon/alldata/A5453.mat', '/media/mountHDD2/khoibaocon/alldata/A5454.mat', '/media/mountHDD2/khoibaocon/alldata/A5455.mat', '/media/mountHDD2/khoibaocon/alldata/A5456.mat', '/media/mountHDD2/khoibaocon/alldata/A5457.mat', '/media/mountHDD2/khoibaocon/alldata/A5458.mat', '/media/mountHDD2/khoibaocon/alldata/A5459.mat', '/media/mountHDD2/khoibaocon/alldata/A5460.mat', '/media/mountHDD2/khoibaocon/alldata/A5461.mat', '/media/mountHDD2/khoibaocon/alldata/A5462.mat', '/media/mountHDD2/khoibaocon/alldata/A5463.mat', '/media/mountHDD2/khoibaocon/alldata/A5464.mat', '/media/mountHDD2/khoibaocon/alldata/A5465.mat', '/media/mountHDD2/khoibaocon/alldata/A5466.mat', '/media/mountHDD2/khoibaocon/alldata/A5467.mat', '/media/mountHDD2/khoibaocon/alldata/A5468.mat', '/media/mountHDD2/khoibaocon/alldata/A5469.mat', '/media/mountHDD2/khoibaocon/alldata/A5470.mat', '/media/mountHDD2/khoibaocon/alldata/A5471.mat', '/media/mountHDD2/khoibaocon/alldata/A5472.mat', '/media/mountHDD2/khoibaocon/alldata/A5473.mat', '/media/mountHDD2/khoibaocon/alldata/A5474.mat', '/media/mountHDD2/khoibaocon/alldata/A5475.mat', '/media/mountHDD2/khoibaocon/alldata/A5476.mat', '/media/mountHDD2/khoibaocon/alldata/A5477.mat', '/media/mountHDD2/khoibaocon/alldata/A5478.mat', '/media/mountHDD2/khoibaocon/alldata/A5479.mat', '/media/mountHDD2/khoibaocon/alldata/A5480.mat', '/media/mountHDD2/khoibaocon/alldata/A5481.mat', '/media/mountHDD2/khoibaocon/alldata/A5482.mat', '/media/mountHDD2/khoibaocon/alldata/A5483.mat', '/media/mountHDD2/khoibaocon/alldata/A5484.mat', '/media/mountHDD2/khoibaocon/alldata/A5485.mat', '/media/mountHDD2/khoibaocon/alldata/A5486.mat', '/media/mountHDD2/khoibaocon/alldata/A5487.mat']\n"
     ]
    }
   ],
   "source": [
    "print(train_mat_paths)"
   ]
  },
  {
   "cell_type": "markdown",
   "id": "189b94c0",
   "metadata": {},
   "source": [
    " # Data Loader"
   ]
  },
  {
   "cell_type": "code",
   "execution_count": 9,
   "id": "39c47eb6",
   "metadata": {
    "execution": {
     "iopub.execute_input": "2023-12-13T09:14:00.530035Z",
     "iopub.status.busy": "2023-12-13T09:14:00.529878Z",
     "iopub.status.idle": "2023-12-13T09:14:00.532236Z",
     "shell.execute_reply": "2023-12-13T09:14:00.531764Z"
    }
   },
   "outputs": [],
   "source": [
    "from torch.utils.data import Dataset, DataLoader\n",
    "from torchvision import transforms, utils\n",
    "from torch.nn.functional import one_hot"
   ]
  },
  {
   "cell_type": "code",
   "execution_count": 10,
   "id": "1c33309b",
   "metadata": {
    "execution": {
     "iopub.execute_input": "2023-12-13T09:14:00.534426Z",
     "iopub.status.busy": "2023-12-13T09:14:00.534225Z",
     "iopub.status.idle": "2023-12-13T09:14:00.539294Z",
     "shell.execute_reply": "2023-12-13T09:14:00.538838Z"
    }
   },
   "outputs": [],
   "source": [
    "class HeartData(Dataset):\n",
    "    def __init__(self, data_paths, label_df):\n",
    "        self.data_paths = data_paths\n",
    "        random.shuffle(self.data_paths)\n",
    "        self.label_df = label_df\n",
    "        normalize = transforms.Normalize(mean=[0.485, 0.456, 0.406],\n",
    "                                     std=[0.229, 0.224, 0.225])\n",
    "        self.transform = transforms.Compose([\n",
    "            transforms.Resize((224, 224), antialias=None),\n",
    "            normalize\n",
    "        ])\n",
    "\n",
    "    def __getitem__(self, idx):\n",
    "        data_path = self.data_paths[idx]        \n",
    "        data = loadmat(data_path)['ECG'][0][0][2]\n",
    "        clip_data = data[:, 500:3000]\n",
    "        clip_data = torch.tensor(clip_data, dtype=torch.float32)\n",
    "        normalized_data = (clip_data - clip_data.min()) / (clip_data.max() - clip_data.min())\n",
    "        grayscale_images = (normalized_data * 255)\n",
    "        grayscale_images = grayscale_images.unsqueeze(0).unsqueeze(0) # (1, 1, h, w)\n",
    "        resized_images = F.interpolate(grayscale_images, size=(12*200,2500), mode='bilinear', align_corners=True)\n",
    "        resized_images = resized_images.squeeze(0).squeeze(0)\n",
    "        torch_data = resized_images.unsqueeze(0).repeat(3, 1, 1)\n",
    "        torch_data_resize = self.transform(torch_data)\n",
    "\n",
    "        filename = data_path.split(\"/\")[-1].split(\".\")[0]\n",
    "        label = self.label_df[self.label_df[\"Recording\"] == filename][\"First_label\"].values.item()\n",
    "\n",
    "        # torch_data = torch.from_numpy(resized_images)\n",
    "\n",
    "        return torch_data_resize, label-1\n",
    "\n",
    "    def __len__(self):\n",
    "        return len(self.data_paths)    \n"
   ]
  },
  {
   "cell_type": "code",
   "execution_count": 11,
   "id": "7adad047",
   "metadata": {
    "execution": {
     "iopub.execute_input": "2023-12-13T09:14:00.541447Z",
     "iopub.status.busy": "2023-12-13T09:14:00.541248Z",
     "iopub.status.idle": "2023-12-13T09:14:00.545313Z",
     "shell.execute_reply": "2023-12-13T09:14:00.544858Z"
    }
   },
   "outputs": [],
   "source": [
    "train_ds = HeartData(train_mat_paths, single_main_df)\n",
    "valid_ds = HeartData(valid_mat_paths, single_main_df)"
   ]
  },
  {
   "cell_type": "code",
   "execution_count": 12,
   "id": "75847351",
   "metadata": {
    "execution": {
     "iopub.execute_input": "2023-12-13T09:14:00.547454Z",
     "iopub.status.busy": "2023-12-13T09:14:00.547257Z",
     "iopub.status.idle": "2023-12-13T09:14:00.604120Z",
     "shell.execute_reply": "2023-12-13T09:14:00.603540Z"
    }
   },
   "outputs": [],
   "source": [
    "device = torch.device(\"cuda\" if torch.cuda.is_available() else \"cpu\", index = 1)\n",
    "batch_size = 64\n",
    "\n",
    "traindl = DataLoader(\n",
    "    train_ds,\n",
    "    batch_size=batch_size, \n",
    "    shuffle=True, \n",
    "    pin_memory=True, \n",
    "    num_workers=os.cpu_count()//2\n",
    ")\n",
    "\n",
    "validdl = DataLoader(\n",
    "    valid_ds,\n",
    "    batch_size=1, \n",
    "    shuffle=True, \n",
    "    pin_memory=True, \n",
    "    num_workers=os.cpu_count()//2\n",
    ")"
   ]
  },
  {
   "cell_type": "markdown",
   "id": "dad0e825",
   "metadata": {},
   "source": [
    "# Model "
   ]
  },
  {
   "cell_type": "code",
   "execution_count": 13,
   "id": "651dfeb8",
   "metadata": {
    "execution": {
     "iopub.execute_input": "2023-12-13T09:14:00.606335Z",
     "iopub.status.busy": "2023-12-13T09:14:00.606185Z",
     "iopub.status.idle": "2023-12-13T09:14:00.687837Z",
     "shell.execute_reply": "2023-12-13T09:14:00.687316Z"
    },
    "scrolled": false
   },
   "outputs": [],
   "source": [
    "from torchvision.models import efficientnet_b0, EfficientNet_B0_Weights\n",
    "from torch import nn\n",
    "\n",
    "class HeartModel(nn.Module):\n",
    "    def __init__(self):\n",
    "        super().__init__()\n",
    "        self.ori_model = efficientnet_b0(weights = EfficientNet_B0_Weights.IMAGENET1K_V1)\n",
    "        self.ori_model.classifier = nn.Sequential(\n",
    "            nn.Dropout(0.2),\n",
    "            nn.Linear(1280, 9),\n",
    "            nn.Softmax(dim = 1)\n",
    "        )\n",
    "        \n",
    "    def forward(self, x):        \n",
    "        x = self.ori_model(x)\n",
    "        return x\n",
    "\n",
    "model = HeartModel()\n",
    "# x = torch.randn((1, 3, 256, 512)).to(\"cuda\")\n",
    "# out = model(x)\n",
    "# print(out.shape)"
   ]
  },
  {
   "cell_type": "code",
   "execution_count": 14,
   "id": "3843ece2",
   "metadata": {
    "execution": {
     "iopub.execute_input": "2023-12-13T09:14:00.689775Z",
     "iopub.status.busy": "2023-12-13T09:14:00.689657Z",
     "iopub.status.idle": "2023-12-13T09:14:00.695046Z",
     "shell.execute_reply": "2023-12-13T09:14:00.694649Z"
    }
   },
   "outputs": [
    {
     "data": {
      "text/plain": [
       "HeartModel(\n",
       "  (ori_model): EfficientNet(\n",
       "    (features): Sequential(\n",
       "      (0): Conv2dNormActivation(\n",
       "        (0): Conv2d(3, 32, kernel_size=(3, 3), stride=(2, 2), padding=(1, 1), bias=False)\n",
       "        (1): BatchNorm2d(32, eps=1e-05, momentum=0.1, affine=True, track_running_stats=True)\n",
       "        (2): SiLU(inplace=True)\n",
       "      )\n",
       "      (1): Sequential(\n",
       "        (0): MBConv(\n",
       "          (block): Sequential(\n",
       "            (0): Conv2dNormActivation(\n",
       "              (0): Conv2d(32, 32, kernel_size=(3, 3), stride=(1, 1), padding=(1, 1), groups=32, bias=False)\n",
       "              (1): BatchNorm2d(32, eps=1e-05, momentum=0.1, affine=True, track_running_stats=True)\n",
       "              (2): SiLU(inplace=True)\n",
       "            )\n",
       "            (1): SqueezeExcitation(\n",
       "              (avgpool): AdaptiveAvgPool2d(output_size=1)\n",
       "              (fc1): Conv2d(32, 8, kernel_size=(1, 1), stride=(1, 1))\n",
       "              (fc2): Conv2d(8, 32, kernel_size=(1, 1), stride=(1, 1))\n",
       "              (activation): SiLU(inplace=True)\n",
       "              (scale_activation): Sigmoid()\n",
       "            )\n",
       "            (2): Conv2dNormActivation(\n",
       "              (0): Conv2d(32, 16, kernel_size=(1, 1), stride=(1, 1), bias=False)\n",
       "              (1): BatchNorm2d(16, eps=1e-05, momentum=0.1, affine=True, track_running_stats=True)\n",
       "            )\n",
       "          )\n",
       "          (stochastic_depth): StochasticDepth(p=0.0, mode=row)\n",
       "        )\n",
       "      )\n",
       "      (2): Sequential(\n",
       "        (0): MBConv(\n",
       "          (block): Sequential(\n",
       "            (0): Conv2dNormActivation(\n",
       "              (0): Conv2d(16, 96, kernel_size=(1, 1), stride=(1, 1), bias=False)\n",
       "              (1): BatchNorm2d(96, eps=1e-05, momentum=0.1, affine=True, track_running_stats=True)\n",
       "              (2): SiLU(inplace=True)\n",
       "            )\n",
       "            (1): Conv2dNormActivation(\n",
       "              (0): Conv2d(96, 96, kernel_size=(3, 3), stride=(2, 2), padding=(1, 1), groups=96, bias=False)\n",
       "              (1): BatchNorm2d(96, eps=1e-05, momentum=0.1, affine=True, track_running_stats=True)\n",
       "              (2): SiLU(inplace=True)\n",
       "            )\n",
       "            (2): SqueezeExcitation(\n",
       "              (avgpool): AdaptiveAvgPool2d(output_size=1)\n",
       "              (fc1): Conv2d(96, 4, kernel_size=(1, 1), stride=(1, 1))\n",
       "              (fc2): Conv2d(4, 96, kernel_size=(1, 1), stride=(1, 1))\n",
       "              (activation): SiLU(inplace=True)\n",
       "              (scale_activation): Sigmoid()\n",
       "            )\n",
       "            (3): Conv2dNormActivation(\n",
       "              (0): Conv2d(96, 24, kernel_size=(1, 1), stride=(1, 1), bias=False)\n",
       "              (1): BatchNorm2d(24, eps=1e-05, momentum=0.1, affine=True, track_running_stats=True)\n",
       "            )\n",
       "          )\n",
       "          (stochastic_depth): StochasticDepth(p=0.0125, mode=row)\n",
       "        )\n",
       "        (1): MBConv(\n",
       "          (block): Sequential(\n",
       "            (0): Conv2dNormActivation(\n",
       "              (0): Conv2d(24, 144, kernel_size=(1, 1), stride=(1, 1), bias=False)\n",
       "              (1): BatchNorm2d(144, eps=1e-05, momentum=0.1, affine=True, track_running_stats=True)\n",
       "              (2): SiLU(inplace=True)\n",
       "            )\n",
       "            (1): Conv2dNormActivation(\n",
       "              (0): Conv2d(144, 144, kernel_size=(3, 3), stride=(1, 1), padding=(1, 1), groups=144, bias=False)\n",
       "              (1): BatchNorm2d(144, eps=1e-05, momentum=0.1, affine=True, track_running_stats=True)\n",
       "              (2): SiLU(inplace=True)\n",
       "            )\n",
       "            (2): SqueezeExcitation(\n",
       "              (avgpool): AdaptiveAvgPool2d(output_size=1)\n",
       "              (fc1): Conv2d(144, 6, kernel_size=(1, 1), stride=(1, 1))\n",
       "              (fc2): Conv2d(6, 144, kernel_size=(1, 1), stride=(1, 1))\n",
       "              (activation): SiLU(inplace=True)\n",
       "              (scale_activation): Sigmoid()\n",
       "            )\n",
       "            (3): Conv2dNormActivation(\n",
       "              (0): Conv2d(144, 24, kernel_size=(1, 1), stride=(1, 1), bias=False)\n",
       "              (1): BatchNorm2d(24, eps=1e-05, momentum=0.1, affine=True, track_running_stats=True)\n",
       "            )\n",
       "          )\n",
       "          (stochastic_depth): StochasticDepth(p=0.025, mode=row)\n",
       "        )\n",
       "      )\n",
       "      (3): Sequential(\n",
       "        (0): MBConv(\n",
       "          (block): Sequential(\n",
       "            (0): Conv2dNormActivation(\n",
       "              (0): Conv2d(24, 144, kernel_size=(1, 1), stride=(1, 1), bias=False)\n",
       "              (1): BatchNorm2d(144, eps=1e-05, momentum=0.1, affine=True, track_running_stats=True)\n",
       "              (2): SiLU(inplace=True)\n",
       "            )\n",
       "            (1): Conv2dNormActivation(\n",
       "              (0): Conv2d(144, 144, kernel_size=(5, 5), stride=(2, 2), padding=(2, 2), groups=144, bias=False)\n",
       "              (1): BatchNorm2d(144, eps=1e-05, momentum=0.1, affine=True, track_running_stats=True)\n",
       "              (2): SiLU(inplace=True)\n",
       "            )\n",
       "            (2): SqueezeExcitation(\n",
       "              (avgpool): AdaptiveAvgPool2d(output_size=1)\n",
       "              (fc1): Conv2d(144, 6, kernel_size=(1, 1), stride=(1, 1))\n",
       "              (fc2): Conv2d(6, 144, kernel_size=(1, 1), stride=(1, 1))\n",
       "              (activation): SiLU(inplace=True)\n",
       "              (scale_activation): Sigmoid()\n",
       "            )\n",
       "            (3): Conv2dNormActivation(\n",
       "              (0): Conv2d(144, 40, kernel_size=(1, 1), stride=(1, 1), bias=False)\n",
       "              (1): BatchNorm2d(40, eps=1e-05, momentum=0.1, affine=True, track_running_stats=True)\n",
       "            )\n",
       "          )\n",
       "          (stochastic_depth): StochasticDepth(p=0.037500000000000006, mode=row)\n",
       "        )\n",
       "        (1): MBConv(\n",
       "          (block): Sequential(\n",
       "            (0): Conv2dNormActivation(\n",
       "              (0): Conv2d(40, 240, kernel_size=(1, 1), stride=(1, 1), bias=False)\n",
       "              (1): BatchNorm2d(240, eps=1e-05, momentum=0.1, affine=True, track_running_stats=True)\n",
       "              (2): SiLU(inplace=True)\n",
       "            )\n",
       "            (1): Conv2dNormActivation(\n",
       "              (0): Conv2d(240, 240, kernel_size=(5, 5), stride=(1, 1), padding=(2, 2), groups=240, bias=False)\n",
       "              (1): BatchNorm2d(240, eps=1e-05, momentum=0.1, affine=True, track_running_stats=True)\n",
       "              (2): SiLU(inplace=True)\n",
       "            )\n",
       "            (2): SqueezeExcitation(\n",
       "              (avgpool): AdaptiveAvgPool2d(output_size=1)\n",
       "              (fc1): Conv2d(240, 10, kernel_size=(1, 1), stride=(1, 1))\n",
       "              (fc2): Conv2d(10, 240, kernel_size=(1, 1), stride=(1, 1))\n",
       "              (activation): SiLU(inplace=True)\n",
       "              (scale_activation): Sigmoid()\n",
       "            )\n",
       "            (3): Conv2dNormActivation(\n",
       "              (0): Conv2d(240, 40, kernel_size=(1, 1), stride=(1, 1), bias=False)\n",
       "              (1): BatchNorm2d(40, eps=1e-05, momentum=0.1, affine=True, track_running_stats=True)\n",
       "            )\n",
       "          )\n",
       "          (stochastic_depth): StochasticDepth(p=0.05, mode=row)\n",
       "        )\n",
       "      )\n",
       "      (4): Sequential(\n",
       "        (0): MBConv(\n",
       "          (block): Sequential(\n",
       "            (0): Conv2dNormActivation(\n",
       "              (0): Conv2d(40, 240, kernel_size=(1, 1), stride=(1, 1), bias=False)\n",
       "              (1): BatchNorm2d(240, eps=1e-05, momentum=0.1, affine=True, track_running_stats=True)\n",
       "              (2): SiLU(inplace=True)\n",
       "            )\n",
       "            (1): Conv2dNormActivation(\n",
       "              (0): Conv2d(240, 240, kernel_size=(3, 3), stride=(2, 2), padding=(1, 1), groups=240, bias=False)\n",
       "              (1): BatchNorm2d(240, eps=1e-05, momentum=0.1, affine=True, track_running_stats=True)\n",
       "              (2): SiLU(inplace=True)\n",
       "            )\n",
       "            (2): SqueezeExcitation(\n",
       "              (avgpool): AdaptiveAvgPool2d(output_size=1)\n",
       "              (fc1): Conv2d(240, 10, kernel_size=(1, 1), stride=(1, 1))\n",
       "              (fc2): Conv2d(10, 240, kernel_size=(1, 1), stride=(1, 1))\n",
       "              (activation): SiLU(inplace=True)\n",
       "              (scale_activation): Sigmoid()\n",
       "            )\n",
       "            (3): Conv2dNormActivation(\n",
       "              (0): Conv2d(240, 80, kernel_size=(1, 1), stride=(1, 1), bias=False)\n",
       "              (1): BatchNorm2d(80, eps=1e-05, momentum=0.1, affine=True, track_running_stats=True)\n",
       "            )\n",
       "          )\n",
       "          (stochastic_depth): StochasticDepth(p=0.0625, mode=row)\n",
       "        )\n",
       "        (1): MBConv(\n",
       "          (block): Sequential(\n",
       "            (0): Conv2dNormActivation(\n",
       "              (0): Conv2d(80, 480, kernel_size=(1, 1), stride=(1, 1), bias=False)\n",
       "              (1): BatchNorm2d(480, eps=1e-05, momentum=0.1, affine=True, track_running_stats=True)\n",
       "              (2): SiLU(inplace=True)\n",
       "            )\n",
       "            (1): Conv2dNormActivation(\n",
       "              (0): Conv2d(480, 480, kernel_size=(3, 3), stride=(1, 1), padding=(1, 1), groups=480, bias=False)\n",
       "              (1): BatchNorm2d(480, eps=1e-05, momentum=0.1, affine=True, track_running_stats=True)\n",
       "              (2): SiLU(inplace=True)\n",
       "            )\n",
       "            (2): SqueezeExcitation(\n",
       "              (avgpool): AdaptiveAvgPool2d(output_size=1)\n",
       "              (fc1): Conv2d(480, 20, kernel_size=(1, 1), stride=(1, 1))\n",
       "              (fc2): Conv2d(20, 480, kernel_size=(1, 1), stride=(1, 1))\n",
       "              (activation): SiLU(inplace=True)\n",
       "              (scale_activation): Sigmoid()\n",
       "            )\n",
       "            (3): Conv2dNormActivation(\n",
       "              (0): Conv2d(480, 80, kernel_size=(1, 1), stride=(1, 1), bias=False)\n",
       "              (1): BatchNorm2d(80, eps=1e-05, momentum=0.1, affine=True, track_running_stats=True)\n",
       "            )\n",
       "          )\n",
       "          (stochastic_depth): StochasticDepth(p=0.07500000000000001, mode=row)\n",
       "        )\n",
       "        (2): MBConv(\n",
       "          (block): Sequential(\n",
       "            (0): Conv2dNormActivation(\n",
       "              (0): Conv2d(80, 480, kernel_size=(1, 1), stride=(1, 1), bias=False)\n",
       "              (1): BatchNorm2d(480, eps=1e-05, momentum=0.1, affine=True, track_running_stats=True)\n",
       "              (2): SiLU(inplace=True)\n",
       "            )\n",
       "            (1): Conv2dNormActivation(\n",
       "              (0): Conv2d(480, 480, kernel_size=(3, 3), stride=(1, 1), padding=(1, 1), groups=480, bias=False)\n",
       "              (1): BatchNorm2d(480, eps=1e-05, momentum=0.1, affine=True, track_running_stats=True)\n",
       "              (2): SiLU(inplace=True)\n",
       "            )\n",
       "            (2): SqueezeExcitation(\n",
       "              (avgpool): AdaptiveAvgPool2d(output_size=1)\n",
       "              (fc1): Conv2d(480, 20, kernel_size=(1, 1), stride=(1, 1))\n",
       "              (fc2): Conv2d(20, 480, kernel_size=(1, 1), stride=(1, 1))\n",
       "              (activation): SiLU(inplace=True)\n",
       "              (scale_activation): Sigmoid()\n",
       "            )\n",
       "            (3): Conv2dNormActivation(\n",
       "              (0): Conv2d(480, 80, kernel_size=(1, 1), stride=(1, 1), bias=False)\n",
       "              (1): BatchNorm2d(80, eps=1e-05, momentum=0.1, affine=True, track_running_stats=True)\n",
       "            )\n",
       "          )\n",
       "          (stochastic_depth): StochasticDepth(p=0.08750000000000001, mode=row)\n",
       "        )\n",
       "      )\n",
       "      (5): Sequential(\n",
       "        (0): MBConv(\n",
       "          (block): Sequential(\n",
       "            (0): Conv2dNormActivation(\n",
       "              (0): Conv2d(80, 480, kernel_size=(1, 1), stride=(1, 1), bias=False)\n",
       "              (1): BatchNorm2d(480, eps=1e-05, momentum=0.1, affine=True, track_running_stats=True)\n",
       "              (2): SiLU(inplace=True)\n",
       "            )\n",
       "            (1): Conv2dNormActivation(\n",
       "              (0): Conv2d(480, 480, kernel_size=(5, 5), stride=(1, 1), padding=(2, 2), groups=480, bias=False)\n",
       "              (1): BatchNorm2d(480, eps=1e-05, momentum=0.1, affine=True, track_running_stats=True)\n",
       "              (2): SiLU(inplace=True)\n",
       "            )\n",
       "            (2): SqueezeExcitation(\n",
       "              (avgpool): AdaptiveAvgPool2d(output_size=1)\n",
       "              (fc1): Conv2d(480, 20, kernel_size=(1, 1), stride=(1, 1))\n",
       "              (fc2): Conv2d(20, 480, kernel_size=(1, 1), stride=(1, 1))\n",
       "              (activation): SiLU(inplace=True)\n",
       "              (scale_activation): Sigmoid()\n",
       "            )\n",
       "            (3): Conv2dNormActivation(\n",
       "              (0): Conv2d(480, 112, kernel_size=(1, 1), stride=(1, 1), bias=False)\n",
       "              (1): BatchNorm2d(112, eps=1e-05, momentum=0.1, affine=True, track_running_stats=True)\n",
       "            )\n",
       "          )\n",
       "          (stochastic_depth): StochasticDepth(p=0.1, mode=row)\n",
       "        )\n",
       "        (1): MBConv(\n",
       "          (block): Sequential(\n",
       "            (0): Conv2dNormActivation(\n",
       "              (0): Conv2d(112, 672, kernel_size=(1, 1), stride=(1, 1), bias=False)\n",
       "              (1): BatchNorm2d(672, eps=1e-05, momentum=0.1, affine=True, track_running_stats=True)\n",
       "              (2): SiLU(inplace=True)\n",
       "            )\n",
       "            (1): Conv2dNormActivation(\n",
       "              (0): Conv2d(672, 672, kernel_size=(5, 5), stride=(1, 1), padding=(2, 2), groups=672, bias=False)\n",
       "              (1): BatchNorm2d(672, eps=1e-05, momentum=0.1, affine=True, track_running_stats=True)\n",
       "              (2): SiLU(inplace=True)\n",
       "            )\n",
       "            (2): SqueezeExcitation(\n",
       "              (avgpool): AdaptiveAvgPool2d(output_size=1)\n",
       "              (fc1): Conv2d(672, 28, kernel_size=(1, 1), stride=(1, 1))\n",
       "              (fc2): Conv2d(28, 672, kernel_size=(1, 1), stride=(1, 1))\n",
       "              (activation): SiLU(inplace=True)\n",
       "              (scale_activation): Sigmoid()\n",
       "            )\n",
       "            (3): Conv2dNormActivation(\n",
       "              (0): Conv2d(672, 112, kernel_size=(1, 1), stride=(1, 1), bias=False)\n",
       "              (1): BatchNorm2d(112, eps=1e-05, momentum=0.1, affine=True, track_running_stats=True)\n",
       "            )\n",
       "          )\n",
       "          (stochastic_depth): StochasticDepth(p=0.1125, mode=row)\n",
       "        )\n",
       "        (2): MBConv(\n",
       "          (block): Sequential(\n",
       "            (0): Conv2dNormActivation(\n",
       "              (0): Conv2d(112, 672, kernel_size=(1, 1), stride=(1, 1), bias=False)\n",
       "              (1): BatchNorm2d(672, eps=1e-05, momentum=0.1, affine=True, track_running_stats=True)\n",
       "              (2): SiLU(inplace=True)\n",
       "            )\n",
       "            (1): Conv2dNormActivation(\n",
       "              (0): Conv2d(672, 672, kernel_size=(5, 5), stride=(1, 1), padding=(2, 2), groups=672, bias=False)\n",
       "              (1): BatchNorm2d(672, eps=1e-05, momentum=0.1, affine=True, track_running_stats=True)\n",
       "              (2): SiLU(inplace=True)\n",
       "            )\n",
       "            (2): SqueezeExcitation(\n",
       "              (avgpool): AdaptiveAvgPool2d(output_size=1)\n",
       "              (fc1): Conv2d(672, 28, kernel_size=(1, 1), stride=(1, 1))\n",
       "              (fc2): Conv2d(28, 672, kernel_size=(1, 1), stride=(1, 1))\n",
       "              (activation): SiLU(inplace=True)\n",
       "              (scale_activation): Sigmoid()\n",
       "            )\n",
       "            (3): Conv2dNormActivation(\n",
       "              (0): Conv2d(672, 112, kernel_size=(1, 1), stride=(1, 1), bias=False)\n",
       "              (1): BatchNorm2d(112, eps=1e-05, momentum=0.1, affine=True, track_running_stats=True)\n",
       "            )\n",
       "          )\n",
       "          (stochastic_depth): StochasticDepth(p=0.125, mode=row)\n",
       "        )\n",
       "      )\n",
       "      (6): Sequential(\n",
       "        (0): MBConv(\n",
       "          (block): Sequential(\n",
       "            (0): Conv2dNormActivation(\n",
       "              (0): Conv2d(112, 672, kernel_size=(1, 1), stride=(1, 1), bias=False)\n",
       "              (1): BatchNorm2d(672, eps=1e-05, momentum=0.1, affine=True, track_running_stats=True)\n",
       "              (2): SiLU(inplace=True)\n",
       "            )\n",
       "            (1): Conv2dNormActivation(\n",
       "              (0): Conv2d(672, 672, kernel_size=(5, 5), stride=(2, 2), padding=(2, 2), groups=672, bias=False)\n",
       "              (1): BatchNorm2d(672, eps=1e-05, momentum=0.1, affine=True, track_running_stats=True)\n",
       "              (2): SiLU(inplace=True)\n",
       "            )\n",
       "            (2): SqueezeExcitation(\n",
       "              (avgpool): AdaptiveAvgPool2d(output_size=1)\n",
       "              (fc1): Conv2d(672, 28, kernel_size=(1, 1), stride=(1, 1))\n",
       "              (fc2): Conv2d(28, 672, kernel_size=(1, 1), stride=(1, 1))\n",
       "              (activation): SiLU(inplace=True)\n",
       "              (scale_activation): Sigmoid()\n",
       "            )\n",
       "            (3): Conv2dNormActivation(\n",
       "              (0): Conv2d(672, 192, kernel_size=(1, 1), stride=(1, 1), bias=False)\n",
       "              (1): BatchNorm2d(192, eps=1e-05, momentum=0.1, affine=True, track_running_stats=True)\n",
       "            )\n",
       "          )\n",
       "          (stochastic_depth): StochasticDepth(p=0.1375, mode=row)\n",
       "        )\n",
       "        (1): MBConv(\n",
       "          (block): Sequential(\n",
       "            (0): Conv2dNormActivation(\n",
       "              (0): Conv2d(192, 1152, kernel_size=(1, 1), stride=(1, 1), bias=False)\n",
       "              (1): BatchNorm2d(1152, eps=1e-05, momentum=0.1, affine=True, track_running_stats=True)\n",
       "              (2): SiLU(inplace=True)\n",
       "            )\n",
       "            (1): Conv2dNormActivation(\n",
       "              (0): Conv2d(1152, 1152, kernel_size=(5, 5), stride=(1, 1), padding=(2, 2), groups=1152, bias=False)\n",
       "              (1): BatchNorm2d(1152, eps=1e-05, momentum=0.1, affine=True, track_running_stats=True)\n",
       "              (2): SiLU(inplace=True)\n",
       "            )\n",
       "            (2): SqueezeExcitation(\n",
       "              (avgpool): AdaptiveAvgPool2d(output_size=1)\n",
       "              (fc1): Conv2d(1152, 48, kernel_size=(1, 1), stride=(1, 1))\n",
       "              (fc2): Conv2d(48, 1152, kernel_size=(1, 1), stride=(1, 1))\n",
       "              (activation): SiLU(inplace=True)\n",
       "              (scale_activation): Sigmoid()\n",
       "            )\n",
       "            (3): Conv2dNormActivation(\n",
       "              (0): Conv2d(1152, 192, kernel_size=(1, 1), stride=(1, 1), bias=False)\n",
       "              (1): BatchNorm2d(192, eps=1e-05, momentum=0.1, affine=True, track_running_stats=True)\n",
       "            )\n",
       "          )\n",
       "          (stochastic_depth): StochasticDepth(p=0.15000000000000002, mode=row)\n",
       "        )\n",
       "        (2): MBConv(\n",
       "          (block): Sequential(\n",
       "            (0): Conv2dNormActivation(\n",
       "              (0): Conv2d(192, 1152, kernel_size=(1, 1), stride=(1, 1), bias=False)\n",
       "              (1): BatchNorm2d(1152, eps=1e-05, momentum=0.1, affine=True, track_running_stats=True)\n",
       "              (2): SiLU(inplace=True)\n",
       "            )\n",
       "            (1): Conv2dNormActivation(\n",
       "              (0): Conv2d(1152, 1152, kernel_size=(5, 5), stride=(1, 1), padding=(2, 2), groups=1152, bias=False)\n",
       "              (1): BatchNorm2d(1152, eps=1e-05, momentum=0.1, affine=True, track_running_stats=True)\n",
       "              (2): SiLU(inplace=True)\n",
       "            )\n",
       "            (2): SqueezeExcitation(\n",
       "              (avgpool): AdaptiveAvgPool2d(output_size=1)\n",
       "              (fc1): Conv2d(1152, 48, kernel_size=(1, 1), stride=(1, 1))\n",
       "              (fc2): Conv2d(48, 1152, kernel_size=(1, 1), stride=(1, 1))\n",
       "              (activation): SiLU(inplace=True)\n",
       "              (scale_activation): Sigmoid()\n",
       "            )\n",
       "            (3): Conv2dNormActivation(\n",
       "              (0): Conv2d(1152, 192, kernel_size=(1, 1), stride=(1, 1), bias=False)\n",
       "              (1): BatchNorm2d(192, eps=1e-05, momentum=0.1, affine=True, track_running_stats=True)\n",
       "            )\n",
       "          )\n",
       "          (stochastic_depth): StochasticDepth(p=0.1625, mode=row)\n",
       "        )\n",
       "        (3): MBConv(\n",
       "          (block): Sequential(\n",
       "            (0): Conv2dNormActivation(\n",
       "              (0): Conv2d(192, 1152, kernel_size=(1, 1), stride=(1, 1), bias=False)\n",
       "              (1): BatchNorm2d(1152, eps=1e-05, momentum=0.1, affine=True, track_running_stats=True)\n",
       "              (2): SiLU(inplace=True)\n",
       "            )\n",
       "            (1): Conv2dNormActivation(\n",
       "              (0): Conv2d(1152, 1152, kernel_size=(5, 5), stride=(1, 1), padding=(2, 2), groups=1152, bias=False)\n",
       "              (1): BatchNorm2d(1152, eps=1e-05, momentum=0.1, affine=True, track_running_stats=True)\n",
       "              (2): SiLU(inplace=True)\n",
       "            )\n",
       "            (2): SqueezeExcitation(\n",
       "              (avgpool): AdaptiveAvgPool2d(output_size=1)\n",
       "              (fc1): Conv2d(1152, 48, kernel_size=(1, 1), stride=(1, 1))\n",
       "              (fc2): Conv2d(48, 1152, kernel_size=(1, 1), stride=(1, 1))\n",
       "              (activation): SiLU(inplace=True)\n",
       "              (scale_activation): Sigmoid()\n",
       "            )\n",
       "            (3): Conv2dNormActivation(\n",
       "              (0): Conv2d(1152, 192, kernel_size=(1, 1), stride=(1, 1), bias=False)\n",
       "              (1): BatchNorm2d(192, eps=1e-05, momentum=0.1, affine=True, track_running_stats=True)\n",
       "            )\n",
       "          )\n",
       "          (stochastic_depth): StochasticDepth(p=0.17500000000000002, mode=row)\n",
       "        )\n",
       "      )\n",
       "      (7): Sequential(\n",
       "        (0): MBConv(\n",
       "          (block): Sequential(\n",
       "            (0): Conv2dNormActivation(\n",
       "              (0): Conv2d(192, 1152, kernel_size=(1, 1), stride=(1, 1), bias=False)\n",
       "              (1): BatchNorm2d(1152, eps=1e-05, momentum=0.1, affine=True, track_running_stats=True)\n",
       "              (2): SiLU(inplace=True)\n",
       "            )\n",
       "            (1): Conv2dNormActivation(\n",
       "              (0): Conv2d(1152, 1152, kernel_size=(3, 3), stride=(1, 1), padding=(1, 1), groups=1152, bias=False)\n",
       "              (1): BatchNorm2d(1152, eps=1e-05, momentum=0.1, affine=True, track_running_stats=True)\n",
       "              (2): SiLU(inplace=True)\n",
       "            )\n",
       "            (2): SqueezeExcitation(\n",
       "              (avgpool): AdaptiveAvgPool2d(output_size=1)\n",
       "              (fc1): Conv2d(1152, 48, kernel_size=(1, 1), stride=(1, 1))\n",
       "              (fc2): Conv2d(48, 1152, kernel_size=(1, 1), stride=(1, 1))\n",
       "              (activation): SiLU(inplace=True)\n",
       "              (scale_activation): Sigmoid()\n",
       "            )\n",
       "            (3): Conv2dNormActivation(\n",
       "              (0): Conv2d(1152, 320, kernel_size=(1, 1), stride=(1, 1), bias=False)\n",
       "              (1): BatchNorm2d(320, eps=1e-05, momentum=0.1, affine=True, track_running_stats=True)\n",
       "            )\n",
       "          )\n",
       "          (stochastic_depth): StochasticDepth(p=0.1875, mode=row)\n",
       "        )\n",
       "      )\n",
       "      (8): Conv2dNormActivation(\n",
       "        (0): Conv2d(320, 1280, kernel_size=(1, 1), stride=(1, 1), bias=False)\n",
       "        (1): BatchNorm2d(1280, eps=1e-05, momentum=0.1, affine=True, track_running_stats=True)\n",
       "        (2): SiLU(inplace=True)\n",
       "      )\n",
       "    )\n",
       "    (avgpool): AdaptiveAvgPool2d(output_size=1)\n",
       "    (classifier): Sequential(\n",
       "      (0): Dropout(p=0.2, inplace=False)\n",
       "      (1): Linear(in_features=1280, out_features=9, bias=True)\n",
       "      (2): Softmax(dim=1)\n",
       "    )\n",
       "  )\n",
       ")"
      ]
     },
     "execution_count": 14,
     "metadata": {},
     "output_type": "execute_result"
    }
   ],
   "source": [
    "model"
   ]
  },
  {
   "cell_type": "markdown",
   "id": "8dbe4995",
   "metadata": {},
   "source": [
    "# Training"
   ]
  },
  {
   "cell_type": "code",
   "execution_count": 15,
   "id": "0f66b6a6",
   "metadata": {
    "execution": {
     "iopub.execute_input": "2023-12-13T09:14:00.696726Z",
     "iopub.status.busy": "2023-12-13T09:14:00.696402Z",
     "iopub.status.idle": "2023-12-13T09:14:01.375824Z",
     "shell.execute_reply": "2023-12-13T09:14:01.375344Z"
    }
   },
   "outputs": [],
   "source": [
    "epoch = 100\n",
    "lr = 0.0001 # lr = 0.001 Acc: 0.821875 lr = 0.0005 Acc: 0.825\n",
    "best_acc = 0\n",
    "best_ep = 0\n",
    "\n",
    "model.to(device)\n",
    "optimizer = Adam(model.parameters(), lr=lr)\n",
    "scheduler = CosineAnnealingLR(optimizer=optimizer, T_max=epoch*len(traindl))\n",
    "loss_fn = nn.CrossEntropyLoss()"
   ]
  },
  {
   "cell_type": "code",
   "execution_count": 16,
   "id": "8989c016",
   "metadata": {
    "execution": {
     "iopub.execute_input": "2023-12-13T09:14:01.378230Z",
     "iopub.status.busy": "2023-12-13T09:14:01.378118Z",
     "iopub.status.idle": "2023-12-13T10:45:38.904136Z",
     "shell.execute_reply": "2023-12-13T10:45:38.903594Z"
    }
   },
   "outputs": [
    {
     "name": "stdout",
     "output_type": "stream",
     "text": [
      "Epoch: 0\n"
     ]
    },
    {
     "name": "stderr",
     "output_type": "stream",
     "text": [
      "80it [00:45,  1.75it/s]"
     ]
    },
    {
     "name": "stdout",
     "output_type": "stream",
     "text": [
      "train loss: 2.0657879883729957 - train acc: 41.42578125\n"
     ]
    },
    {
     "name": "stderr",
     "output_type": "stream",
     "text": [
      "\n",
      "640it [00:06, 105.97it/s]"
     ]
    },
    {
     "name": "stdout",
     "output_type": "stream",
     "text": [
      "valid loss: 1.893142476141546 - valid acc: 51.71875\n",
      "Epoch: 1\n"
     ]
    },
    {
     "name": "stderr",
     "output_type": "stream",
     "text": [
      "\n",
      "80it [00:46,  1.72it/s]"
     ]
    },
    {
     "name": "stdout",
     "output_type": "stream",
     "text": [
      "train loss: 1.8155296226091022 - train acc: 60.68359375\n"
     ]
    },
    {
     "name": "stderr",
     "output_type": "stream",
     "text": [
      "\n",
      "640it [00:05, 106.83it/s]"
     ]
    },
    {
     "name": "stdout",
     "output_type": "stream",
     "text": [
      "valid loss: 1.73745385843077 - valid acc: 65.0\n",
      "Epoch: 2\n"
     ]
    },
    {
     "name": "stderr",
     "output_type": "stream",
     "text": [
      "\n",
      "80it [00:45,  1.76it/s]"
     ]
    },
    {
     "name": "stdout",
     "output_type": "stream",
     "text": [
      "train loss: 1.7022461679917347 - train acc: 70.13671875\n"
     ]
    },
    {
     "name": "stderr",
     "output_type": "stream",
     "text": [
      "\n",
      "640it [00:06, 105.92it/s]"
     ]
    },
    {
     "name": "stdout",
     "output_type": "stream",
     "text": [
      "valid loss: 1.7023175107854447 - valid acc: 67.65625\n",
      "Epoch: 3\n"
     ]
    },
    {
     "name": "stderr",
     "output_type": "stream",
     "text": [
      "\n",
      "80it [00:45,  1.75it/s]"
     ]
    },
    {
     "name": "stdout",
     "output_type": "stream",
     "text": [
      "train loss: 1.6662023203282417 - train acc: 73.10546875\n"
     ]
    },
    {
     "name": "stderr",
     "output_type": "stream",
     "text": [
      "\n",
      "640it [00:06, 106.29it/s]"
     ]
    },
    {
     "name": "stdout",
     "output_type": "stream",
     "text": [
      "valid loss: 1.6853254639859863 - valid acc: 67.96875\n",
      "Epoch: 4\n"
     ]
    },
    {
     "name": "stderr",
     "output_type": "stream",
     "text": [
      "\n",
      "80it [00:45,  1.76it/s]"
     ]
    },
    {
     "name": "stdout",
     "output_type": "stream",
     "text": [
      "train loss: 1.6393756519390057 - train acc: 75.6640625\n"
     ]
    },
    {
     "name": "stderr",
     "output_type": "stream",
     "text": [
      "\n",
      "640it [00:06, 106.47it/s]"
     ]
    },
    {
     "name": "stdout",
     "output_type": "stream",
     "text": [
      "valid loss: 1.6880094551704299 - valid acc: 68.28125\n",
      "Epoch: 5\n"
     ]
    },
    {
     "name": "stderr",
     "output_type": "stream",
     "text": [
      "\n",
      "80it [00:45,  1.77it/s]"
     ]
    },
    {
     "name": "stdout",
     "output_type": "stream",
     "text": [
      "train loss: 1.6176120208788523 - train acc: 77.83203125\n"
     ]
    },
    {
     "name": "stderr",
     "output_type": "stream",
     "text": [
      "\n",
      "640it [00:05, 107.00it/s]"
     ]
    },
    {
     "name": "stdout",
     "output_type": "stream",
     "text": [
      "valid loss: 1.6686228517448771 - valid acc: 70.46875\n",
      "Epoch: 6\n"
     ]
    },
    {
     "name": "stderr",
     "output_type": "stream",
     "text": [
      "\n",
      "80it [00:45,  1.74it/s]"
     ]
    },
    {
     "name": "stdout",
     "output_type": "stream",
     "text": [
      "train loss: 1.601300671130796 - train acc: 79.39453125\n"
     ]
    },
    {
     "name": "stderr",
     "output_type": "stream",
     "text": [
      "\n",
      "640it [00:06, 106.62it/s]"
     ]
    },
    {
     "name": "stdout",
     "output_type": "stream",
     "text": [
      "valid loss: 1.6545247975649409 - valid acc: 71.5625\n",
      "Epoch: 7\n"
     ]
    },
    {
     "name": "stderr",
     "output_type": "stream",
     "text": [
      "\n",
      "80it [00:46,  1.73it/s]"
     ]
    },
    {
     "name": "stdout",
     "output_type": "stream",
     "text": [
      "train loss: 1.575249952606008 - train acc: 82.20703125\n"
     ]
    },
    {
     "name": "stderr",
     "output_type": "stream",
     "text": [
      "\n",
      "640it [00:06, 105.07it/s]"
     ]
    },
    {
     "name": "stdout",
     "output_type": "stream",
     "text": [
      "valid loss: 1.6648456619379106 - valid acc: 70.15625\n",
      "Epoch: 8\n"
     ]
    },
    {
     "name": "stderr",
     "output_type": "stream",
     "text": [
      "\n",
      "80it [00:45,  1.74it/s]"
     ]
    },
    {
     "name": "stdout",
     "output_type": "stream",
     "text": [
      "train loss: 1.564400254925595 - train acc: 83.33984375\n"
     ]
    },
    {
     "name": "stderr",
     "output_type": "stream",
     "text": [
      "\n",
      "640it [00:06, 106.13it/s]"
     ]
    },
    {
     "name": "stdout",
     "output_type": "stream",
     "text": [
      "valid loss: 1.6568076153502964 - valid acc: 70.9375\n",
      "Epoch: 9\n"
     ]
    },
    {
     "name": "stderr",
     "output_type": "stream",
     "text": [
      "\n",
      "80it [00:45,  1.74it/s]"
     ]
    },
    {
     "name": "stdout",
     "output_type": "stream",
     "text": [
      "train loss: 1.5522116830077353 - train acc: 84.51171875\n"
     ]
    },
    {
     "name": "stderr",
     "output_type": "stream",
     "text": [
      "\n",
      "640it [00:06, 105.35it/s]"
     ]
    },
    {
     "name": "stdout",
     "output_type": "stream",
     "text": [
      "valid loss: 1.6377156879607127 - valid acc: 73.59375\n",
      "Epoch: 10\n"
     ]
    },
    {
     "name": "stderr",
     "output_type": "stream",
     "text": [
      "\n",
      "80it [00:45,  1.75it/s]"
     ]
    },
    {
     "name": "stdout",
     "output_type": "stream",
     "text": [
      "train loss: 1.5402077617524546 - train acc: 85.60546875\n"
     ]
    },
    {
     "name": "stderr",
     "output_type": "stream",
     "text": [
      "\n",
      "640it [00:06, 105.95it/s]"
     ]
    },
    {
     "name": "stdout",
     "output_type": "stream",
     "text": [
      "valid loss: 1.629146375380025 - valid acc: 74.375\n",
      "Epoch: 11\n"
     ]
    },
    {
     "name": "stderr",
     "output_type": "stream",
     "text": [
      "\n",
      "80it [00:46,  1.73it/s]"
     ]
    },
    {
     "name": "stdout",
     "output_type": "stream",
     "text": [
      "train loss: 1.524338485319403 - train acc: 87.20703125\n"
     ]
    },
    {
     "name": "stderr",
     "output_type": "stream",
     "text": [
      "\n",
      "640it [00:06, 105.20it/s]"
     ]
    },
    {
     "name": "stdout",
     "output_type": "stream",
     "text": [
      "valid loss: 1.6245061957593627 - valid acc: 75.9375\n",
      "Epoch: 12\n"
     ]
    },
    {
     "name": "stderr",
     "output_type": "stream",
     "text": [
      "\n",
      "80it [00:46,  1.74it/s]"
     ]
    },
    {
     "name": "stdout",
     "output_type": "stream",
     "text": [
      "train loss: 1.5163502119764496 - train acc: 87.79296875\n"
     ]
    },
    {
     "name": "stderr",
     "output_type": "stream",
     "text": [
      "\n",
      "640it [00:06, 104.99it/s]"
     ]
    },
    {
     "name": "stdout",
     "output_type": "stream",
     "text": [
      "valid loss: 1.6299285892402995 - valid acc: 74.375\n",
      "Epoch: 13\n"
     ]
    },
    {
     "name": "stderr",
     "output_type": "stream",
     "text": [
      "\n",
      "80it [00:45,  1.76it/s]"
     ]
    },
    {
     "name": "stdout",
     "output_type": "stream",
     "text": [
      "train loss: 1.5101995362511165 - train acc: 88.37890625\n"
     ]
    },
    {
     "name": "stderr",
     "output_type": "stream",
     "text": [
      "\n",
      "640it [00:06, 104.43it/s]"
     ]
    },
    {
     "name": "stdout",
     "output_type": "stream",
     "text": [
      "valid loss: 1.6303882787298523 - valid acc: 74.53125\n",
      "Epoch: 14\n"
     ]
    },
    {
     "name": "stderr",
     "output_type": "stream",
     "text": [
      "\n",
      "80it [00:45,  1.74it/s]"
     ]
    },
    {
     "name": "stdout",
     "output_type": "stream",
     "text": [
      "train loss: 1.5040868913071066 - train acc: 89.12109375\n"
     ]
    },
    {
     "name": "stderr",
     "output_type": "stream",
     "text": [
      "\n",
      "640it [00:06, 105.78it/s]"
     ]
    },
    {
     "name": "stdout",
     "output_type": "stream",
     "text": [
      "valid loss: 1.6304182371996192 - valid acc: 74.6875\n",
      "Epoch: 15\n"
     ]
    },
    {
     "name": "stderr",
     "output_type": "stream",
     "text": [
      "\n",
      "80it [00:45,  1.76it/s]"
     ]
    },
    {
     "name": "stdout",
     "output_type": "stream",
     "text": [
      "train loss: 1.5007604707645466 - train acc: 89.296875\n"
     ]
    },
    {
     "name": "stderr",
     "output_type": "stream",
     "text": [
      "\n",
      "640it [00:06, 106.20it/s]"
     ]
    },
    {
     "name": "stdout",
     "output_type": "stream",
     "text": [
      "valid loss: 1.6313178406821356 - valid acc: 73.75\n",
      "Epoch: 16\n"
     ]
    },
    {
     "name": "stderr",
     "output_type": "stream",
     "text": [
      "\n",
      "80it [00:45,  1.74it/s]"
     ]
    },
    {
     "name": "stdout",
     "output_type": "stream",
     "text": [
      "train loss: 1.4898221070253397 - train acc: 90.46875\n"
     ]
    },
    {
     "name": "stderr",
     "output_type": "stream",
     "text": [
      "\n",
      "640it [00:06, 104.47it/s]"
     ]
    },
    {
     "name": "stdout",
     "output_type": "stream",
     "text": [
      "valid loss: 1.6198299975835475 - valid acc: 75.46875\n",
      "Epoch: 17\n"
     ]
    },
    {
     "name": "stderr",
     "output_type": "stream",
     "text": [
      "\n",
      "80it [00:46,  1.73it/s]"
     ]
    },
    {
     "name": "stdout",
     "output_type": "stream",
     "text": [
      "train loss: 1.4905742255947259 - train acc: 90.37109375\n"
     ]
    },
    {
     "name": "stderr",
     "output_type": "stream",
     "text": [
      "\n",
      "640it [00:06, 104.09it/s]"
     ]
    },
    {
     "name": "stdout",
     "output_type": "stream",
     "text": [
      "valid loss: 1.627959431990025 - valid acc: 75.0\n",
      "Epoch: 18\n"
     ]
    },
    {
     "name": "stderr",
     "output_type": "stream",
     "text": [
      "\n",
      "80it [00:45,  1.74it/s]"
     ]
    },
    {
     "name": "stdout",
     "output_type": "stream",
     "text": [
      "train loss: 1.4834114811088466 - train acc: 91.11328125\n"
     ]
    },
    {
     "name": "stderr",
     "output_type": "stream",
     "text": [
      "\n",
      "640it [00:06, 104.78it/s]"
     ]
    },
    {
     "name": "stdout",
     "output_type": "stream",
     "text": [
      "valid loss: 1.6175956235431916 - valid acc: 75.625\n",
      "Epoch: 19\n"
     ]
    },
    {
     "name": "stderr",
     "output_type": "stream",
     "text": [
      "\n",
      "80it [00:45,  1.74it/s]"
     ]
    },
    {
     "name": "stdout",
     "output_type": "stream",
     "text": [
      "train loss: 1.482801758790318 - train acc: 91.09375\n"
     ]
    },
    {
     "name": "stderr",
     "output_type": "stream",
     "text": [
      "\n",
      "640it [00:06, 106.10it/s]"
     ]
    },
    {
     "name": "stdout",
     "output_type": "stream",
     "text": [
      "valid loss: 1.6249374740746847 - valid acc: 75.0\n",
      "Epoch: 20\n"
     ]
    },
    {
     "name": "stderr",
     "output_type": "stream",
     "text": [
      "\n",
      "80it [00:45,  1.75it/s]"
     ]
    },
    {
     "name": "stdout",
     "output_type": "stream",
     "text": [
      "train loss: 1.4780457231062878 - train acc: 91.38671875\n"
     ]
    },
    {
     "name": "stderr",
     "output_type": "stream",
     "text": [
      "\n",
      "640it [00:06, 103.81it/s]"
     ]
    },
    {
     "name": "stdout",
     "output_type": "stream",
     "text": [
      "valid loss: 1.63345154555564 - valid acc: 74.0625\n",
      "Epoch: 21\n"
     ]
    },
    {
     "name": "stderr",
     "output_type": "stream",
     "text": [
      "\n",
      "80it [00:46,  1.74it/s]"
     ]
    },
    {
     "name": "stdout",
     "output_type": "stream",
     "text": [
      "train loss: 1.4742427641832376 - train acc: 91.85546875\n"
     ]
    },
    {
     "name": "stderr",
     "output_type": "stream",
     "text": [
      "\n",
      "640it [00:06, 104.00it/s]"
     ]
    },
    {
     "name": "stdout",
     "output_type": "stream",
     "text": [
      "valid loss: 1.6305445294611518 - valid acc: 74.84375\n",
      "Epoch: 22\n"
     ]
    },
    {
     "name": "stderr",
     "output_type": "stream",
     "text": [
      "\n",
      "80it [00:45,  1.76it/s]"
     ]
    },
    {
     "name": "stdout",
     "output_type": "stream",
     "text": [
      "train loss: 1.4705525998827778 - train acc: 92.1875\n"
     ]
    },
    {
     "name": "stderr",
     "output_type": "stream",
     "text": [
      "\n",
      "640it [00:06, 104.58it/s]"
     ]
    },
    {
     "name": "stdout",
     "output_type": "stream",
     "text": [
      "valid loss: 1.6328275438765405 - valid acc: 74.21875\n",
      "Epoch: 23\n"
     ]
    },
    {
     "name": "stderr",
     "output_type": "stream",
     "text": [
      "\n",
      "80it [00:46,  1.71it/s]"
     ]
    },
    {
     "name": "stdout",
     "output_type": "stream",
     "text": [
      "train loss: 1.4670758458632458 - train acc: 92.65625\n"
     ]
    },
    {
     "name": "stderr",
     "output_type": "stream",
     "text": [
      "\n",
      "640it [00:06, 103.54it/s]"
     ]
    },
    {
     "name": "stdout",
     "output_type": "stream",
     "text": [
      "valid loss: 1.6290140247121103 - valid acc: 74.375\n",
      "Epoch: 24\n"
     ]
    },
    {
     "name": "stderr",
     "output_type": "stream",
     "text": [
      "\n",
      "80it [00:45,  1.74it/s]"
     ]
    },
    {
     "name": "stdout",
     "output_type": "stream",
     "text": [
      "train loss: 1.4673729425744166 - train acc: 92.59765625\n"
     ]
    },
    {
     "name": "stderr",
     "output_type": "stream",
     "text": [
      "\n",
      "640it [00:06, 104.73it/s]"
     ]
    },
    {
     "name": "stdout",
     "output_type": "stream",
     "text": [
      "valid loss: 1.6208986252872783 - valid acc: 74.53125\n",
      "Epoch: 25\n"
     ]
    },
    {
     "name": "stderr",
     "output_type": "stream",
     "text": [
      "\n",
      "80it [00:47,  1.68it/s]"
     ]
    },
    {
     "name": "stdout",
     "output_type": "stream",
     "text": [
      "train loss: 1.465891079057621 - train acc: 92.65625\n"
     ]
    },
    {
     "name": "stderr",
     "output_type": "stream",
     "text": [
      "\n",
      "640it [00:06, 104.84it/s]"
     ]
    },
    {
     "name": "stdout",
     "output_type": "stream",
     "text": [
      "valid loss: 1.6136381919022085 - valid acc: 75.3125\n",
      "Epoch: 26\n"
     ]
    },
    {
     "name": "stderr",
     "output_type": "stream",
     "text": [
      "\n",
      "80it [00:45,  1.74it/s]"
     ]
    },
    {
     "name": "stdout",
     "output_type": "stream",
     "text": [
      "train loss: 1.4611269597765766 - train acc: 93.0078125\n"
     ]
    },
    {
     "name": "stderr",
     "output_type": "stream",
     "text": [
      "\n",
      "640it [00:06, 102.97it/s]"
     ]
    },
    {
     "name": "stdout",
     "output_type": "stream",
     "text": [
      "valid loss: 1.607399798335044 - valid acc: 76.875\n",
      "Epoch: 27\n"
     ]
    },
    {
     "name": "stderr",
     "output_type": "stream",
     "text": [
      "\n",
      "80it [00:47,  1.68it/s]"
     ]
    },
    {
     "name": "stdout",
     "output_type": "stream",
     "text": [
      "train loss: 1.4591112016122552 - train acc: 93.37890625\n"
     ]
    },
    {
     "name": "stderr",
     "output_type": "stream",
     "text": [
      "\n",
      "640it [00:06, 101.46it/s]"
     ]
    },
    {
     "name": "stdout",
     "output_type": "stream",
     "text": [
      "valid loss: 1.6130239713546441 - valid acc: 75.625\n",
      "Epoch: 28\n"
     ]
    },
    {
     "name": "stderr",
     "output_type": "stream",
     "text": [
      "\n",
      "80it [00:46,  1.74it/s]"
     ]
    },
    {
     "name": "stdout",
     "output_type": "stream",
     "text": [
      "train loss: 1.4584102208101297 - train acc: 93.45703125\n"
     ]
    },
    {
     "name": "stderr",
     "output_type": "stream",
     "text": [
      "\n",
      "640it [00:06, 104.42it/s]"
     ]
    },
    {
     "name": "stdout",
     "output_type": "stream",
     "text": [
      "valid loss: 1.6072592893863136 - valid acc: 76.875\n",
      "Epoch: 29\n"
     ]
    },
    {
     "name": "stderr",
     "output_type": "stream",
     "text": [
      "\n",
      "80it [00:46,  1.72it/s]"
     ]
    },
    {
     "name": "stdout",
     "output_type": "stream",
     "text": [
      "train loss: 1.456967307042472 - train acc: 93.6328125\n"
     ]
    },
    {
     "name": "stderr",
     "output_type": "stream",
     "text": [
      "\n",
      "640it [00:06, 103.31it/s]"
     ]
    },
    {
     "name": "stdout",
     "output_type": "stream",
     "text": [
      "valid loss: 1.6080497025697258 - valid acc: 76.71875\n",
      "Epoch: 30\n"
     ]
    },
    {
     "name": "stderr",
     "output_type": "stream",
     "text": [
      "\n",
      "80it [00:46,  1.72it/s]"
     ]
    },
    {
     "name": "stdout",
     "output_type": "stream",
     "text": [
      "train loss: 1.453944681565973 - train acc: 93.7890625\n"
     ]
    },
    {
     "name": "stderr",
     "output_type": "stream",
     "text": [
      "\n",
      "640it [00:06, 102.89it/s]"
     ]
    },
    {
     "name": "stdout",
     "output_type": "stream",
     "text": [
      "valid loss: 1.6111856227003165 - valid acc: 76.09375\n",
      "Epoch: 31\n"
     ]
    },
    {
     "name": "stderr",
     "output_type": "stream",
     "text": [
      "\n",
      "80it [00:46,  1.71it/s]"
     ]
    },
    {
     "name": "stdout",
     "output_type": "stream",
     "text": [
      "train loss: 1.4541326353821573 - train acc: 93.8671875\n"
     ]
    },
    {
     "name": "stderr",
     "output_type": "stream",
     "text": [
      "\n",
      "640it [00:06, 102.06it/s]"
     ]
    },
    {
     "name": "stdout",
     "output_type": "stream",
     "text": [
      "valid loss: 1.6157385623884126 - valid acc: 76.40625\n",
      "Epoch: 32\n"
     ]
    },
    {
     "name": "stderr",
     "output_type": "stream",
     "text": [
      "\n",
      "80it [00:46,  1.72it/s]"
     ]
    },
    {
     "name": "stdout",
     "output_type": "stream",
     "text": [
      "train loss: 1.4525836359096478 - train acc: 93.88671875\n"
     ]
    },
    {
     "name": "stderr",
     "output_type": "stream",
     "text": [
      "\n",
      "640it [00:06, 103.73it/s]"
     ]
    },
    {
     "name": "stdout",
     "output_type": "stream",
     "text": [
      "valid loss: 1.6224865105603596 - valid acc: 75.15625\n",
      "Epoch: 33\n"
     ]
    },
    {
     "name": "stderr",
     "output_type": "stream",
     "text": [
      "\n",
      "80it [00:46,  1.71it/s]"
     ]
    },
    {
     "name": "stdout",
     "output_type": "stream",
     "text": [
      "train loss: 1.4489312187025818 - train acc: 94.296875\n"
     ]
    },
    {
     "name": "stderr",
     "output_type": "stream",
     "text": [
      "\n",
      "640it [00:06, 102.65it/s]"
     ]
    },
    {
     "name": "stdout",
     "output_type": "stream",
     "text": [
      "valid loss: 1.610343573052372 - valid acc: 77.03125\n",
      "Epoch: 34\n"
     ]
    },
    {
     "name": "stderr",
     "output_type": "stream",
     "text": [
      "\n",
      "80it [00:46,  1.74it/s]"
     ]
    },
    {
     "name": "stdout",
     "output_type": "stream",
     "text": [
      "train loss: 1.4494195240962355 - train acc: 94.27734375\n"
     ]
    },
    {
     "name": "stderr",
     "output_type": "stream",
     "text": [
      "\n",
      "640it [00:06, 103.84it/s]"
     ]
    },
    {
     "name": "stdout",
     "output_type": "stream",
     "text": [
      "valid loss: 1.6003573149769146 - valid acc: 77.34375\n",
      "Epoch: 35\n"
     ]
    },
    {
     "name": "stderr",
     "output_type": "stream",
     "text": [
      "\n",
      "80it [00:46,  1.72it/s]"
     ]
    },
    {
     "name": "stdout",
     "output_type": "stream",
     "text": [
      "train loss: 1.4467341069933735 - train acc: 94.51171875\n"
     ]
    },
    {
     "name": "stderr",
     "output_type": "stream",
     "text": [
      "\n",
      "640it [00:06, 105.14it/s]"
     ]
    },
    {
     "name": "stdout",
     "output_type": "stream",
     "text": [
      "valid loss: 1.6064545955269922 - valid acc: 76.71875\n",
      "Epoch: 36\n"
     ]
    },
    {
     "name": "stderr",
     "output_type": "stream",
     "text": [
      "\n",
      "80it [00:46,  1.73it/s]"
     ]
    },
    {
     "name": "stdout",
     "output_type": "stream",
     "text": [
      "train loss: 1.4443859963477412 - train acc: 94.765625\n"
     ]
    },
    {
     "name": "stderr",
     "output_type": "stream",
     "text": [
      "\n",
      "640it [00:06, 102.97it/s]"
     ]
    },
    {
     "name": "stdout",
     "output_type": "stream",
     "text": [
      "valid loss: 1.6081912478370846 - valid acc: 76.5625\n",
      "Epoch: 37\n"
     ]
    },
    {
     "name": "stderr",
     "output_type": "stream",
     "text": [
      "\n",
      "80it [00:46,  1.73it/s]"
     ]
    },
    {
     "name": "stdout",
     "output_type": "stream",
     "text": [
      "train loss: 1.443164283716226 - train acc: 94.74609375\n"
     ]
    },
    {
     "name": "stderr",
     "output_type": "stream",
     "text": [
      "\n",
      "640it [00:06, 103.70it/s]"
     ]
    },
    {
     "name": "stdout",
     "output_type": "stream",
     "text": [
      "valid loss: 1.613927874020381 - valid acc: 76.40625\n",
      "Epoch: 38\n"
     ]
    },
    {
     "name": "stderr",
     "output_type": "stream",
     "text": [
      "\n",
      "80it [00:46,  1.73it/s]"
     ]
    },
    {
     "name": "stdout",
     "output_type": "stream",
     "text": [
      "train loss: 1.4402296739288523 - train acc: 95.17578125\n"
     ]
    },
    {
     "name": "stderr",
     "output_type": "stream",
     "text": [
      "\n",
      "640it [00:06, 104.49it/s]"
     ]
    },
    {
     "name": "stdout",
     "output_type": "stream",
     "text": [
      "valid loss: 1.6113612705926195 - valid acc: 76.09375\n",
      "Epoch: 39\n"
     ]
    },
    {
     "name": "stderr",
     "output_type": "stream",
     "text": [
      "\n",
      "80it [00:46,  1.72it/s]"
     ]
    },
    {
     "name": "stdout",
     "output_type": "stream",
     "text": [
      "train loss: 1.443280482593971 - train acc: 94.86328125\n"
     ]
    },
    {
     "name": "stderr",
     "output_type": "stream",
     "text": [
      "\n",
      "640it [00:06, 103.62it/s]"
     ]
    },
    {
     "name": "stdout",
     "output_type": "stream",
     "text": [
      "valid loss: 1.6132065606229182 - valid acc: 76.09375\n",
      "Epoch: 40\n"
     ]
    },
    {
     "name": "stderr",
     "output_type": "stream",
     "text": [
      "\n",
      "80it [00:46,  1.71it/s]"
     ]
    },
    {
     "name": "stdout",
     "output_type": "stream",
     "text": [
      "train loss: 1.4407441103005711 - train acc: 95.078125\n"
     ]
    },
    {
     "name": "stderr",
     "output_type": "stream",
     "text": [
      "\n",
      "640it [00:06, 103.65it/s]"
     ]
    },
    {
     "name": "stdout",
     "output_type": "stream",
     "text": [
      "valid loss: 1.6145839150149683 - valid acc: 75.78125\n",
      "Epoch: 41\n"
     ]
    },
    {
     "name": "stderr",
     "output_type": "stream",
     "text": [
      "\n",
      "80it [00:46,  1.74it/s]"
     ]
    },
    {
     "name": "stdout",
     "output_type": "stream",
     "text": [
      "train loss: 1.4397527552858185 - train acc: 95.01953125\n"
     ]
    },
    {
     "name": "stderr",
     "output_type": "stream",
     "text": [
      "\n",
      "640it [00:06, 104.27it/s]\n"
     ]
    },
    {
     "name": "stdout",
     "output_type": "stream",
     "text": [
      "valid loss: 1.6143600506028846 - valid acc: 75.9375\n",
      "Epoch: 42\n"
     ]
    },
    {
     "name": "stderr",
     "output_type": "stream",
     "text": [
      "80it [00:46,  1.73it/s]"
     ]
    },
    {
     "name": "stdout",
     "output_type": "stream",
     "text": [
      "train loss: 1.4394465322735943 - train acc: 95.1171875\n"
     ]
    },
    {
     "name": "stderr",
     "output_type": "stream",
     "text": [
      "\n",
      "640it [00:06, 103.60it/s]"
     ]
    },
    {
     "name": "stdout",
     "output_type": "stream",
     "text": [
      "valid loss: 1.6158137237521963 - valid acc: 75.9375\n",
      "Epoch: 43\n"
     ]
    },
    {
     "name": "stderr",
     "output_type": "stream",
     "text": [
      "\n",
      "80it [00:46,  1.72it/s]"
     ]
    },
    {
     "name": "stdout",
     "output_type": "stream",
     "text": [
      "train loss: 1.4377949268003054 - train acc: 95.25390625\n"
     ]
    },
    {
     "name": "stderr",
     "output_type": "stream",
     "text": [
      "\n",
      "640it [00:06, 101.67it/s]"
     ]
    },
    {
     "name": "stdout",
     "output_type": "stream",
     "text": [
      "valid loss: 1.6163729906828377 - valid acc: 75.46875\n",
      "Epoch: 44\n"
     ]
    },
    {
     "name": "stderr",
     "output_type": "stream",
     "text": [
      "\n",
      "80it [00:46,  1.73it/s]"
     ]
    },
    {
     "name": "stdout",
     "output_type": "stream",
     "text": [
      "train loss: 1.4379026225850553 - train acc: 95.4296875\n"
     ]
    },
    {
     "name": "stderr",
     "output_type": "stream",
     "text": [
      "\n",
      "640it [00:06, 103.09it/s]"
     ]
    },
    {
     "name": "stdout",
     "output_type": "stream",
     "text": [
      "valid loss: 1.62371096084935 - valid acc: 75.0\n",
      "Epoch: 45\n"
     ]
    },
    {
     "name": "stderr",
     "output_type": "stream",
     "text": [
      "\n",
      "80it [00:46,  1.73it/s]"
     ]
    },
    {
     "name": "stdout",
     "output_type": "stream",
     "text": [
      "train loss: 1.4343444033514094 - train acc: 95.60546875\n"
     ]
    },
    {
     "name": "stderr",
     "output_type": "stream",
     "text": [
      "\n",
      "640it [00:06, 103.60it/s]"
     ]
    },
    {
     "name": "stdout",
     "output_type": "stream",
     "text": [
      "valid loss: 1.6188714084490923 - valid acc: 76.25\n",
      "Epoch: 46\n"
     ]
    },
    {
     "name": "stderr",
     "output_type": "stream",
     "text": [
      "\n",
      "80it [00:46,  1.71it/s]"
     ]
    },
    {
     "name": "stdout",
     "output_type": "stream",
     "text": [
      "train loss: 1.4359380067149294 - train acc: 95.5078125\n"
     ]
    },
    {
     "name": "stderr",
     "output_type": "stream",
     "text": [
      "\n",
      "640it [00:06, 102.00it/s]"
     ]
    },
    {
     "name": "stdout",
     "output_type": "stream",
     "text": [
      "valid loss: 1.6264589640642741 - valid acc: 74.6875\n",
      "Epoch: 47\n"
     ]
    },
    {
     "name": "stderr",
     "output_type": "stream",
     "text": [
      "\n",
      "80it [00:46,  1.73it/s]"
     ]
    },
    {
     "name": "stdout",
     "output_type": "stream",
     "text": [
      "train loss: 1.4341834677925593 - train acc: 95.703125\n"
     ]
    },
    {
     "name": "stderr",
     "output_type": "stream",
     "text": [
      "\n",
      "640it [00:06, 102.49it/s]"
     ]
    },
    {
     "name": "stdout",
     "output_type": "stream",
     "text": [
      "valid loss: 1.6213008600034997 - valid acc: 75.15625\n",
      "Epoch: 48\n"
     ]
    },
    {
     "name": "stderr",
     "output_type": "stream",
     "text": [
      "\n",
      "80it [00:46,  1.71it/s]"
     ]
    },
    {
     "name": "stdout",
     "output_type": "stream",
     "text": [
      "train loss: 1.4343804302094858 - train acc: 95.60546875\n"
     ]
    },
    {
     "name": "stderr",
     "output_type": "stream",
     "text": [
      "\n",
      "640it [00:06, 103.98it/s]"
     ]
    },
    {
     "name": "stdout",
     "output_type": "stream",
     "text": [
      "valid loss: 1.6140768688422786 - valid acc: 75.78125\n",
      "Epoch: 49\n"
     ]
    },
    {
     "name": "stderr",
     "output_type": "stream",
     "text": [
      "\n",
      "80it [00:46,  1.73it/s]"
     ]
    },
    {
     "name": "stdout",
     "output_type": "stream",
     "text": [
      "train loss: 1.4355611770967893 - train acc: 95.41015625\n"
     ]
    },
    {
     "name": "stderr",
     "output_type": "stream",
     "text": [
      "\n",
      "640it [00:06, 102.43it/s]"
     ]
    },
    {
     "name": "stdout",
     "output_type": "stream",
     "text": [
      "valid loss: 1.6171790139402769 - valid acc: 75.46875\n",
      "Epoch: 50\n"
     ]
    },
    {
     "name": "stderr",
     "output_type": "stream",
     "text": [
      "\n",
      "80it [00:46,  1.70it/s]"
     ]
    },
    {
     "name": "stdout",
     "output_type": "stream",
     "text": [
      "train loss: 1.431476743915413 - train acc: 95.95703125\n"
     ]
    },
    {
     "name": "stderr",
     "output_type": "stream",
     "text": [
      "\n",
      "640it [00:06, 101.57it/s]"
     ]
    },
    {
     "name": "stdout",
     "output_type": "stream",
     "text": [
      "valid loss: 1.609584112309141 - valid acc: 76.40625\n",
      "Epoch: 51\n"
     ]
    },
    {
     "name": "stderr",
     "output_type": "stream",
     "text": [
      "\n",
      "80it [00:46,  1.72it/s]"
     ]
    },
    {
     "name": "stdout",
     "output_type": "stream",
     "text": [
      "train loss: 1.4333774107920974 - train acc: 95.7421875\n"
     ]
    },
    {
     "name": "stderr",
     "output_type": "stream",
     "text": [
      "\n",
      "640it [00:06, 103.73it/s]"
     ]
    },
    {
     "name": "stdout",
     "output_type": "stream",
     "text": [
      "valid loss: 1.605666264122081 - valid acc: 76.5625\n",
      "Epoch: 52\n"
     ]
    },
    {
     "name": "stderr",
     "output_type": "stream",
     "text": [
      "\n",
      "80it [00:46,  1.72it/s]"
     ]
    },
    {
     "name": "stdout",
     "output_type": "stream",
     "text": [
      "train loss: 1.4298648698420464 - train acc: 96.171875\n"
     ]
    },
    {
     "name": "stderr",
     "output_type": "stream",
     "text": [
      "\n",
      "640it [00:06, 101.87it/s]"
     ]
    },
    {
     "name": "stdout",
     "output_type": "stream",
     "text": [
      "valid loss: 1.606142217004803 - valid acc: 77.03125\n",
      "Epoch: 53\n"
     ]
    },
    {
     "name": "stderr",
     "output_type": "stream",
     "text": [
      "\n",
      "80it [00:46,  1.73it/s]"
     ]
    },
    {
     "name": "stdout",
     "output_type": "stream",
     "text": [
      "train loss: 1.42883904825283 - train acc: 96.15234375\n"
     ]
    },
    {
     "name": "stderr",
     "output_type": "stream",
     "text": [
      "\n",
      "640it [00:06, 104.00it/s]"
     ]
    },
    {
     "name": "stdout",
     "output_type": "stream",
     "text": [
      "valid loss: 1.607131304315558 - valid acc: 76.71875\n",
      "Epoch: 54\n"
     ]
    },
    {
     "name": "stderr",
     "output_type": "stream",
     "text": [
      "\n",
      "80it [00:46,  1.72it/s]"
     ]
    },
    {
     "name": "stdout",
     "output_type": "stream",
     "text": [
      "train loss: 1.4287982575501068 - train acc: 96.23046875\n"
     ]
    },
    {
     "name": "stderr",
     "output_type": "stream",
     "text": [
      "\n",
      "640it [00:06, 103.15it/s]"
     ]
    },
    {
     "name": "stdout",
     "output_type": "stream",
     "text": [
      "valid loss: 1.6035623319085588 - valid acc: 77.8125\n",
      "Epoch: 55\n"
     ]
    },
    {
     "name": "stderr",
     "output_type": "stream",
     "text": [
      "\n",
      "80it [00:46,  1.73it/s]"
     ]
    },
    {
     "name": "stdout",
     "output_type": "stream",
     "text": [
      "train loss: 1.426080904429472 - train acc: 96.484375\n"
     ]
    },
    {
     "name": "stderr",
     "output_type": "stream",
     "text": [
      "\n",
      "640it [00:06, 103.28it/s]"
     ]
    },
    {
     "name": "stdout",
     "output_type": "stream",
     "text": [
      "valid loss: 1.5968914558070366 - valid acc: 77.96875\n",
      "Epoch: 56\n"
     ]
    },
    {
     "name": "stderr",
     "output_type": "stream",
     "text": [
      "\n",
      "80it [00:46,  1.71it/s]"
     ]
    },
    {
     "name": "stdout",
     "output_type": "stream",
     "text": [
      "train loss: 1.4263289638712435 - train acc: 96.38671875\n"
     ]
    },
    {
     "name": "stderr",
     "output_type": "stream",
     "text": [
      "\n",
      "640it [00:06, 103.24it/s]"
     ]
    },
    {
     "name": "stdout",
     "output_type": "stream",
     "text": [
      "valid loss: 1.6052280130893786 - valid acc: 76.5625\n",
      "Epoch: 57\n"
     ]
    },
    {
     "name": "stderr",
     "output_type": "stream",
     "text": [
      "\n",
      "80it [00:46,  1.72it/s]"
     ]
    },
    {
     "name": "stdout",
     "output_type": "stream",
     "text": [
      "train loss: 1.428463425817369 - train acc: 96.15234375\n"
     ]
    },
    {
     "name": "stderr",
     "output_type": "stream",
     "text": [
      "\n",
      "640it [00:06, 103.75it/s]"
     ]
    },
    {
     "name": "stdout",
     "output_type": "stream",
     "text": [
      "valid loss: 1.6049395501147228 - valid acc: 76.71875\n",
      "Epoch: 58\n"
     ]
    },
    {
     "name": "stderr",
     "output_type": "stream",
     "text": [
      "\n",
      "80it [00:46,  1.74it/s]"
     ]
    },
    {
     "name": "stdout",
     "output_type": "stream",
     "text": [
      "train loss: 1.4252474353283267 - train acc: 96.50390625\n"
     ]
    },
    {
     "name": "stderr",
     "output_type": "stream",
     "text": [
      "\n",
      "640it [00:06, 103.10it/s]"
     ]
    },
    {
     "name": "stdout",
     "output_type": "stream",
     "text": [
      "valid loss: 1.6014485346132974 - valid acc: 77.8125\n",
      "Epoch: 59\n"
     ]
    },
    {
     "name": "stderr",
     "output_type": "stream",
     "text": [
      "\n",
      "80it [00:47,  1.70it/s]"
     ]
    },
    {
     "name": "stdout",
     "output_type": "stream",
     "text": [
      "train loss: 1.425164417375492 - train acc: 96.5625\n"
     ]
    },
    {
     "name": "stderr",
     "output_type": "stream",
     "text": [
      "\n",
      "640it [00:06, 101.89it/s]"
     ]
    },
    {
     "name": "stdout",
     "output_type": "stream",
     "text": [
      "valid loss: 1.5988558111056475 - valid acc: 77.8125\n",
      "Epoch: 60\n"
     ]
    },
    {
     "name": "stderr",
     "output_type": "stream",
     "text": [
      "\n",
      "80it [00:46,  1.70it/s]"
     ]
    },
    {
     "name": "stdout",
     "output_type": "stream",
     "text": [
      "train loss: 1.4256900443306453 - train acc: 96.50390625\n"
     ]
    },
    {
     "name": "stderr",
     "output_type": "stream",
     "text": [
      "\n",
      "640it [00:06, 103.65it/s]"
     ]
    },
    {
     "name": "stdout",
     "output_type": "stream",
     "text": [
      "valid loss: 1.6065313043728682 - valid acc: 77.1875\n",
      "Epoch: 61\n"
     ]
    },
    {
     "name": "stderr",
     "output_type": "stream",
     "text": [
      "\n",
      "80it [00:46,  1.70it/s]"
     ]
    },
    {
     "name": "stdout",
     "output_type": "stream",
     "text": [
      "train loss: 1.4258771304842792 - train acc: 96.46484375\n"
     ]
    },
    {
     "name": "stderr",
     "output_type": "stream",
     "text": [
      "\n",
      "640it [00:06, 102.06it/s]"
     ]
    },
    {
     "name": "stdout",
     "output_type": "stream",
     "text": [
      "valid loss: 1.6013247061969715 - valid acc: 77.34375\n",
      "Epoch: 62\n"
     ]
    },
    {
     "name": "stderr",
     "output_type": "stream",
     "text": [
      "\n",
      "80it [00:46,  1.71it/s]"
     ]
    },
    {
     "name": "stdout",
     "output_type": "stream",
     "text": [
      "train loss: 1.423435571827466 - train acc: 96.7578125\n"
     ]
    },
    {
     "name": "stderr",
     "output_type": "stream",
     "text": [
      "\n",
      "640it [00:06, 102.21it/s]"
     ]
    },
    {
     "name": "stdout",
     "output_type": "stream",
     "text": [
      "valid loss: 1.604987085518516 - valid acc: 77.03125\n",
      "Epoch: 63\n"
     ]
    },
    {
     "name": "stderr",
     "output_type": "stream",
     "text": [
      "\n",
      "80it [00:47,  1.70it/s]"
     ]
    },
    {
     "name": "stdout",
     "output_type": "stream",
     "text": [
      "train loss: 1.4242451975617227 - train acc: 96.62109375\n"
     ]
    },
    {
     "name": "stderr",
     "output_type": "stream",
     "text": [
      "\n",
      "640it [00:06, 102.21it/s]"
     ]
    },
    {
     "name": "stdout",
     "output_type": "stream",
     "text": [
      "valid loss: 1.6100558678682235 - valid acc: 76.5625\n",
      "Epoch: 64\n"
     ]
    },
    {
     "name": "stderr",
     "output_type": "stream",
     "text": [
      "\n",
      "80it [00:46,  1.71it/s]"
     ]
    },
    {
     "name": "stdout",
     "output_type": "stream",
     "text": [
      "train loss: 1.4233374007140533 - train acc: 96.796875\n"
     ]
    },
    {
     "name": "stderr",
     "output_type": "stream",
     "text": [
      "\n",
      "640it [00:06, 102.26it/s]"
     ]
    },
    {
     "name": "stdout",
     "output_type": "stream",
     "text": [
      "valid loss: 1.6058076347730157 - valid acc: 77.03125\n",
      "Epoch: 65\n"
     ]
    },
    {
     "name": "stderr",
     "output_type": "stream",
     "text": [
      "\n",
      "80it [00:46,  1.72it/s]"
     ]
    },
    {
     "name": "stdout",
     "output_type": "stream",
     "text": [
      "train loss: 1.4240367880350426 - train acc: 96.6796875\n"
     ]
    },
    {
     "name": "stderr",
     "output_type": "stream",
     "text": [
      "\n",
      "640it [00:06, 102.42it/s]"
     ]
    },
    {
     "name": "stdout",
     "output_type": "stream",
     "text": [
      "valid loss: 1.606197196366455 - valid acc: 76.71875\n",
      "Epoch: 66\n"
     ]
    },
    {
     "name": "stderr",
     "output_type": "stream",
     "text": [
      "\n",
      "80it [00:47,  1.70it/s]"
     ]
    },
    {
     "name": "stdout",
     "output_type": "stream",
     "text": [
      "train loss: 1.4224561181249498 - train acc: 96.85546875\n"
     ]
    },
    {
     "name": "stderr",
     "output_type": "stream",
     "text": [
      "\n",
      "640it [00:06, 102.93it/s]"
     ]
    },
    {
     "name": "stdout",
     "output_type": "stream",
     "text": [
      "valid loss: 1.6028238937888346 - valid acc: 77.03125\n",
      "Epoch: 67\n"
     ]
    },
    {
     "name": "stderr",
     "output_type": "stream",
     "text": [
      "\n",
      "80it [00:46,  1.70it/s]"
     ]
    },
    {
     "name": "stdout",
     "output_type": "stream",
     "text": [
      "train loss: 1.4231926791275604 - train acc: 96.69921875\n"
     ]
    },
    {
     "name": "stderr",
     "output_type": "stream",
     "text": [
      "\n",
      "640it [00:06, 102.21it/s]"
     ]
    },
    {
     "name": "stdout",
     "output_type": "stream",
     "text": [
      "valid loss: 1.610842268978113 - valid acc: 75.3125\n",
      "Epoch: 68\n"
     ]
    },
    {
     "name": "stderr",
     "output_type": "stream",
     "text": [
      "\n",
      "80it [00:46,  1.71it/s]"
     ]
    },
    {
     "name": "stdout",
     "output_type": "stream",
     "text": [
      "train loss: 1.4222084842150724 - train acc: 96.85546875\n"
     ]
    },
    {
     "name": "stderr",
     "output_type": "stream",
     "text": [
      "\n",
      "640it [00:06, 102.03it/s]"
     ]
    },
    {
     "name": "stdout",
     "output_type": "stream",
     "text": [
      "valid loss: 1.6039418705938755 - valid acc: 77.03125\n",
      "Epoch: 69\n"
     ]
    },
    {
     "name": "stderr",
     "output_type": "stream",
     "text": [
      "\n",
      "80it [00:46,  1.72it/s]"
     ]
    },
    {
     "name": "stdout",
     "output_type": "stream",
     "text": [
      "train loss: 1.4219760789146907 - train acc: 96.875\n"
     ]
    },
    {
     "name": "stderr",
     "output_type": "stream",
     "text": [
      "\n",
      "640it [00:06, 101.19it/s]"
     ]
    },
    {
     "name": "stdout",
     "output_type": "stream",
     "text": [
      "valid loss: 1.6089858497625598 - valid acc: 76.25\n",
      "Epoch: 70\n"
     ]
    },
    {
     "name": "stderr",
     "output_type": "stream",
     "text": [
      "\n",
      "80it [00:46,  1.72it/s]"
     ]
    },
    {
     "name": "stdout",
     "output_type": "stream",
     "text": [
      "train loss: 1.4217515519902677 - train acc: 96.89453125\n"
     ]
    },
    {
     "name": "stderr",
     "output_type": "stream",
     "text": [
      "\n",
      "640it [00:06, 101.69it/s]"
     ]
    },
    {
     "name": "stdout",
     "output_type": "stream",
     "text": [
      "valid loss: 1.6056915777203435 - valid acc: 76.71875\n",
      "Epoch: 71\n"
     ]
    },
    {
     "name": "stderr",
     "output_type": "stream",
     "text": [
      "\n",
      "80it [00:46,  1.73it/s]"
     ]
    },
    {
     "name": "stdout",
     "output_type": "stream",
     "text": [
      "train loss: 1.4229864108411572 - train acc: 96.7578125\n"
     ]
    },
    {
     "name": "stderr",
     "output_type": "stream",
     "text": [
      "\n",
      "640it [00:06, 102.16it/s]"
     ]
    },
    {
     "name": "stdout",
     "output_type": "stream",
     "text": [
      "valid loss: 1.6058977234158345 - valid acc: 77.1875\n",
      "Epoch: 72\n"
     ]
    },
    {
     "name": "stderr",
     "output_type": "stream",
     "text": [
      "\n",
      "80it [00:47,  1.69it/s]"
     ]
    },
    {
     "name": "stdout",
     "output_type": "stream",
     "text": [
      "train loss: 1.422524643849723 - train acc: 96.81640625\n"
     ]
    },
    {
     "name": "stderr",
     "output_type": "stream",
     "text": [
      "\n",
      "640it [00:06, 101.53it/s]"
     ]
    },
    {
     "name": "stdout",
     "output_type": "stream",
     "text": [
      "valid loss: 1.6020013606977388 - valid acc: 77.5\n",
      "Epoch: 73\n"
     ]
    },
    {
     "name": "stderr",
     "output_type": "stream",
     "text": [
      "\n",
      "80it [00:47,  1.70it/s]"
     ]
    },
    {
     "name": "stdout",
     "output_type": "stream",
     "text": [
      "train loss: 1.4208909514584118 - train acc: 96.93359375\n"
     ]
    },
    {
     "name": "stderr",
     "output_type": "stream",
     "text": [
      "\n",
      "640it [00:06, 100.70it/s]"
     ]
    },
    {
     "name": "stdout",
     "output_type": "stream",
     "text": [
      "valid loss: 1.6010098087955529 - valid acc: 77.5\n",
      "Epoch: 74\n"
     ]
    },
    {
     "name": "stderr",
     "output_type": "stream",
     "text": [
      "\n",
      "80it [00:47,  1.69it/s]"
     ]
    },
    {
     "name": "stdout",
     "output_type": "stream",
     "text": [
      "train loss: 1.4226162554342536 - train acc: 96.796875\n"
     ]
    },
    {
     "name": "stderr",
     "output_type": "stream",
     "text": [
      "\n",
      "640it [00:06, 100.51it/s]"
     ]
    },
    {
     "name": "stdout",
     "output_type": "stream",
     "text": [
      "valid loss: 1.6005927383992966 - valid acc: 77.34375\n",
      "Epoch: 75\n"
     ]
    },
    {
     "name": "stderr",
     "output_type": "stream",
     "text": [
      "\n",
      "80it [00:47,  1.69it/s]"
     ]
    },
    {
     "name": "stdout",
     "output_type": "stream",
     "text": [
      "train loss: 1.421043323565133 - train acc: 96.97265625\n"
     ]
    },
    {
     "name": "stderr",
     "output_type": "stream",
     "text": [
      "\n",
      "640it [00:06, 101.19it/s]"
     ]
    },
    {
     "name": "stdout",
     "output_type": "stream",
     "text": [
      "valid loss: 1.5962471743704567 - valid acc: 78.125\n",
      "Epoch: 76\n"
     ]
    },
    {
     "name": "stderr",
     "output_type": "stream",
     "text": [
      "\n",
      "80it [00:47,  1.69it/s]"
     ]
    },
    {
     "name": "stdout",
     "output_type": "stream",
     "text": [
      "train loss: 1.4213158933422234 - train acc: 96.953125\n"
     ]
    },
    {
     "name": "stderr",
     "output_type": "stream",
     "text": [
      "\n",
      "640it [00:06, 100.91it/s]"
     ]
    },
    {
     "name": "stdout",
     "output_type": "stream",
     "text": [
      "valid loss: 1.5991459972981557 - valid acc: 77.5\n",
      "Epoch: 77\n"
     ]
    },
    {
     "name": "stderr",
     "output_type": "stream",
     "text": [
      "\n",
      "80it [00:47,  1.69it/s]"
     ]
    },
    {
     "name": "stdout",
     "output_type": "stream",
     "text": [
      "train loss: 1.420573205887517 - train acc: 96.953125\n"
     ]
    },
    {
     "name": "stderr",
     "output_type": "stream",
     "text": [
      "\n",
      "640it [00:06, 99.69it/s] "
     ]
    },
    {
     "name": "stdout",
     "output_type": "stream",
     "text": [
      "valid loss: 1.6005272816790848 - valid acc: 77.5\n",
      "Epoch: 78\n"
     ]
    },
    {
     "name": "stderr",
     "output_type": "stream",
     "text": [
      "\n",
      "80it [00:46,  1.70it/s]"
     ]
    },
    {
     "name": "stdout",
     "output_type": "stream",
     "text": [
      "train loss: 1.4219415338733528 - train acc: 96.73828125\n"
     ]
    },
    {
     "name": "stderr",
     "output_type": "stream",
     "text": [
      "\n",
      "640it [00:06, 99.74it/s] "
     ]
    },
    {
     "name": "stdout",
     "output_type": "stream",
     "text": [
      "valid loss: 1.6013131729314025 - valid acc: 77.34375\n",
      "Epoch: 79\n"
     ]
    },
    {
     "name": "stderr",
     "output_type": "stream",
     "text": [
      "\n",
      "80it [00:47,  1.68it/s]"
     ]
    },
    {
     "name": "stdout",
     "output_type": "stream",
     "text": [
      "train loss: 1.4175496237187446 - train acc: 97.24609375\n"
     ]
    },
    {
     "name": "stderr",
     "output_type": "stream",
     "text": [
      "\n",
      "640it [00:06, 101.42it/s]"
     ]
    },
    {
     "name": "stdout",
     "output_type": "stream",
     "text": [
      "valid loss: 1.6011788908491298 - valid acc: 77.5\n",
      "Epoch: 80\n"
     ]
    },
    {
     "name": "stderr",
     "output_type": "stream",
     "text": [
      "\n",
      "80it [00:47,  1.68it/s]"
     ]
    },
    {
     "name": "stdout",
     "output_type": "stream",
     "text": [
      "train loss: 1.4187027155598508 - train acc: 97.16796875\n"
     ]
    },
    {
     "name": "stderr",
     "output_type": "stream",
     "text": [
      "\n",
      "640it [00:06, 101.08it/s]"
     ]
    },
    {
     "name": "stdout",
     "output_type": "stream",
     "text": [
      "valid loss: 1.5967511593455999 - valid acc: 77.96875\n",
      "Epoch: 81\n"
     ]
    },
    {
     "name": "stderr",
     "output_type": "stream",
     "text": [
      "\n",
      "80it [00:47,  1.69it/s]"
     ]
    },
    {
     "name": "stdout",
     "output_type": "stream",
     "text": [
      "train loss: 1.420144198816034 - train acc: 97.03125\n"
     ]
    },
    {
     "name": "stderr",
     "output_type": "stream",
     "text": [
      "\n",
      "640it [00:06, 100.35it/s]"
     ]
    },
    {
     "name": "stdout",
     "output_type": "stream",
     "text": [
      "valid loss: 1.6013815992501608 - valid acc: 77.1875\n",
      "Epoch: 82\n"
     ]
    },
    {
     "name": "stderr",
     "output_type": "stream",
     "text": [
      "\n",
      "80it [00:47,  1.69it/s]"
     ]
    },
    {
     "name": "stdout",
     "output_type": "stream",
     "text": [
      "train loss: 1.4207950438125223 - train acc: 96.953125\n"
     ]
    },
    {
     "name": "stderr",
     "output_type": "stream",
     "text": [
      "\n",
      "640it [00:06, 103.09it/s]"
     ]
    },
    {
     "name": "stdout",
     "output_type": "stream",
     "text": [
      "valid loss: 1.601949132850659 - valid acc: 77.34375\n",
      "Epoch: 83\n"
     ]
    },
    {
     "name": "stderr",
     "output_type": "stream",
     "text": [
      "\n",
      "80it [00:46,  1.70it/s]"
     ]
    },
    {
     "name": "stdout",
     "output_type": "stream",
     "text": [
      "train loss: 1.4192096915426133 - train acc: 97.109375\n"
     ]
    },
    {
     "name": "stderr",
     "output_type": "stream",
     "text": [
      "\n",
      "640it [00:06, 100.77it/s]"
     ]
    },
    {
     "name": "stdout",
     "output_type": "stream",
     "text": [
      "valid loss: 1.5997615062015158 - valid acc: 77.5\n",
      "Epoch: 84\n"
     ]
    },
    {
     "name": "stderr",
     "output_type": "stream",
     "text": [
      "\n",
      "80it [00:47,  1.70it/s]"
     ]
    },
    {
     "name": "stdout",
     "output_type": "stream",
     "text": [
      "train loss: 1.4203043149996408 - train acc: 97.05078125\n"
     ]
    },
    {
     "name": "stderr",
     "output_type": "stream",
     "text": [
      "\n",
      "640it [00:06, 100.60it/s]"
     ]
    },
    {
     "name": "stdout",
     "output_type": "stream",
     "text": [
      "valid loss: 1.5991149586690983 - valid acc: 77.5\n",
      "Epoch: 85\n"
     ]
    },
    {
     "name": "stderr",
     "output_type": "stream",
     "text": [
      "\n",
      "80it [00:46,  1.70it/s]"
     ]
    },
    {
     "name": "stdout",
     "output_type": "stream",
     "text": [
      "train loss: 1.4205871880808962 - train acc: 96.93359375\n"
     ]
    },
    {
     "name": "stderr",
     "output_type": "stream",
     "text": [
      "\n",
      "640it [00:06, 100.14it/s]"
     ]
    },
    {
     "name": "stdout",
     "output_type": "stream",
     "text": [
      "valid loss: 1.597681698478257 - valid acc: 78.28125\n",
      "Epoch: 86\n"
     ]
    },
    {
     "name": "stderr",
     "output_type": "stream",
     "text": [
      "\n",
      "80it [00:47,  1.69it/s]"
     ]
    },
    {
     "name": "stdout",
     "output_type": "stream",
     "text": [
      "train loss: 1.419021072266977 - train acc: 97.1484375\n"
     ]
    },
    {
     "name": "stderr",
     "output_type": "stream",
     "text": [
      "\n",
      "640it [00:06, 101.26it/s]"
     ]
    },
    {
     "name": "stdout",
     "output_type": "stream",
     "text": [
      "valid loss: 1.5967043821054259 - valid acc: 77.65625\n",
      "Epoch: 87\n"
     ]
    },
    {
     "name": "stderr",
     "output_type": "stream",
     "text": [
      "\n",
      "80it [00:46,  1.71it/s]"
     ]
    },
    {
     "name": "stdout",
     "output_type": "stream",
     "text": [
      "train loss: 1.4187976770763155 - train acc: 97.1875\n"
     ]
    },
    {
     "name": "stderr",
     "output_type": "stream",
     "text": [
      "\n",
      "640it [00:06, 99.39it/s] "
     ]
    },
    {
     "name": "stdout",
     "output_type": "stream",
     "text": [
      "valid loss: 1.6013662337510612 - valid acc: 77.34375\n",
      "Epoch: 88\n"
     ]
    },
    {
     "name": "stderr",
     "output_type": "stream",
     "text": [
      "\n",
      "80it [00:47,  1.69it/s]"
     ]
    },
    {
     "name": "stdout",
     "output_type": "stream",
     "text": [
      "train loss: 1.419468433042116 - train acc: 97.0703125\n"
     ]
    },
    {
     "name": "stderr",
     "output_type": "stream",
     "text": [
      "\n",
      "640it [00:06, 101.53it/s]"
     ]
    },
    {
     "name": "stdout",
     "output_type": "stream",
     "text": [
      "valid loss: 1.6050604604219607 - valid acc: 76.71875\n",
      "Epoch: 89\n"
     ]
    },
    {
     "name": "stderr",
     "output_type": "stream",
     "text": [
      "\n",
      "80it [00:47,  1.69it/s]"
     ]
    },
    {
     "name": "stdout",
     "output_type": "stream",
     "text": [
      "train loss: 1.4185548990587644 - train acc: 97.16796875\n"
     ]
    },
    {
     "name": "stderr",
     "output_type": "stream",
     "text": [
      "\n",
      "640it [00:06, 99.66it/s] "
     ]
    },
    {
     "name": "stdout",
     "output_type": "stream",
     "text": [
      "valid loss: 1.598641962139446 - valid acc: 77.1875\n",
      "Epoch: 90\n"
     ]
    },
    {
     "name": "stderr",
     "output_type": "stream",
     "text": [
      "\n",
      "80it [00:47,  1.70it/s]"
     ]
    },
    {
     "name": "stdout",
     "output_type": "stream",
     "text": [
      "train loss: 1.4191413619850255 - train acc: 97.109375\n"
     ]
    },
    {
     "name": "stderr",
     "output_type": "stream",
     "text": [
      "\n",
      "640it [00:06, 101.18it/s]"
     ]
    },
    {
     "name": "stdout",
     "output_type": "stream",
     "text": [
      "valid loss: 1.6011724220195287 - valid acc: 77.65625\n",
      "Epoch: 91\n"
     ]
    },
    {
     "name": "stderr",
     "output_type": "stream",
     "text": [
      "\n",
      "80it [00:47,  1.69it/s]"
     ]
    },
    {
     "name": "stdout",
     "output_type": "stream",
     "text": [
      "train loss: 1.420097508007967 - train acc: 97.0703125\n"
     ]
    },
    {
     "name": "stderr",
     "output_type": "stream",
     "text": [
      "\n",
      "640it [00:06, 100.16it/s]"
     ]
    },
    {
     "name": "stdout",
     "output_type": "stream",
     "text": [
      "valid loss: 1.596805946554563 - valid acc: 77.8125\n",
      "Epoch: 92\n"
     ]
    },
    {
     "name": "stderr",
     "output_type": "stream",
     "text": [
      "\n",
      "80it [00:47,  1.70it/s]"
     ]
    },
    {
     "name": "stdout",
     "output_type": "stream",
     "text": [
      "train loss: 1.418038170548934 - train acc: 97.1875\n"
     ]
    },
    {
     "name": "stderr",
     "output_type": "stream",
     "text": [
      "\n",
      "640it [00:06, 100.90it/s]"
     ]
    },
    {
     "name": "stdout",
     "output_type": "stream",
     "text": [
      "valid loss: 1.602883712226796 - valid acc: 77.03125\n",
      "Epoch: 93\n"
     ]
    },
    {
     "name": "stderr",
     "output_type": "stream",
     "text": [
      "\n",
      "80it [00:47,  1.70it/s]"
     ]
    },
    {
     "name": "stdout",
     "output_type": "stream",
     "text": [
      "train loss: 1.4206336615960808 - train acc: 96.953125\n"
     ]
    },
    {
     "name": "stderr",
     "output_type": "stream",
     "text": [
      "\n",
      "640it [00:06, 100.09it/s]"
     ]
    },
    {
     "name": "stdout",
     "output_type": "stream",
     "text": [
      "valid loss: 1.5998033236636429 - valid acc: 77.5\n",
      "Epoch: 94\n"
     ]
    },
    {
     "name": "stderr",
     "output_type": "stream",
     "text": [
      "\n",
      "80it [00:47,  1.69it/s]"
     ]
    },
    {
     "name": "stdout",
     "output_type": "stream",
     "text": [
      "train loss: 1.4191005501566054 - train acc: 97.12890625\n"
     ]
    },
    {
     "name": "stderr",
     "output_type": "stream",
     "text": [
      "\n",
      "640it [00:06, 99.78it/s] "
     ]
    },
    {
     "name": "stdout",
     "output_type": "stream",
     "text": [
      "valid loss: 1.6009830727077239 - valid acc: 77.1875\n",
      "Epoch: 95\n"
     ]
    },
    {
     "name": "stderr",
     "output_type": "stream",
     "text": [
      "\n",
      "80it [00:47,  1.70it/s]"
     ]
    },
    {
     "name": "stdout",
     "output_type": "stream",
     "text": [
      "train loss: 1.4196033070359049 - train acc: 97.05078125\n"
     ]
    },
    {
     "name": "stderr",
     "output_type": "stream",
     "text": [
      "\n",
      "640it [00:06, 100.73it/s]"
     ]
    },
    {
     "name": "stdout",
     "output_type": "stream",
     "text": [
      "valid loss: 1.6023520137968943 - valid acc: 77.5\n",
      "Epoch: 96\n"
     ]
    },
    {
     "name": "stderr",
     "output_type": "stream",
     "text": [
      "\n",
      "80it [00:47,  1.68it/s]"
     ]
    },
    {
     "name": "stdout",
     "output_type": "stream",
     "text": [
      "train loss: 1.4190250333351424 - train acc: 97.109375\n"
     ]
    },
    {
     "name": "stderr",
     "output_type": "stream",
     "text": [
      "\n",
      "640it [00:06, 99.90it/s] "
     ]
    },
    {
     "name": "stdout",
     "output_type": "stream",
     "text": [
      "valid loss: 1.600684747263113 - valid acc: 77.34375\n",
      "Epoch: 97\n"
     ]
    },
    {
     "name": "stderr",
     "output_type": "stream",
     "text": [
      "\n",
      "80it [00:47,  1.69it/s]"
     ]
    },
    {
     "name": "stdout",
     "output_type": "stream",
     "text": [
      "train loss: 1.4180674839623366 - train acc: 97.16796875\n"
     ]
    },
    {
     "name": "stderr",
     "output_type": "stream",
     "text": [
      "\n",
      "640it [00:06, 99.81it/s] "
     ]
    },
    {
     "name": "stdout",
     "output_type": "stream",
     "text": [
      "valid loss: 1.597421154356525 - valid acc: 77.65625\n",
      "Epoch: 98\n"
     ]
    },
    {
     "name": "stderr",
     "output_type": "stream",
     "text": [
      "\n",
      "80it [00:47,  1.69it/s]"
     ]
    },
    {
     "name": "stdout",
     "output_type": "stream",
     "text": [
      "train loss: 1.420101129556004 - train acc: 97.05078125\n"
     ]
    },
    {
     "name": "stderr",
     "output_type": "stream",
     "text": [
      "\n",
      "640it [00:06, 100.06it/s]"
     ]
    },
    {
     "name": "stdout",
     "output_type": "stream",
     "text": [
      "valid loss: 1.5985187545815172 - valid acc: 77.8125\n",
      "Epoch: 99\n"
     ]
    },
    {
     "name": "stderr",
     "output_type": "stream",
     "text": [
      "\n",
      "80it [00:47,  1.69it/s]"
     ]
    },
    {
     "name": "stdout",
     "output_type": "stream",
     "text": [
      "train loss: 1.4184245761436751 - train acc: 97.20703125\n"
     ]
    },
    {
     "name": "stderr",
     "output_type": "stream",
     "text": [
      "\n",
      "640it [00:06, 100.32it/s]"
     ]
    },
    {
     "name": "stdout",
     "output_type": "stream",
     "text": [
      "valid loss: 1.6002889056347531 - valid acc: 77.65625\n",
      "Best acuracy: 0.7828125 at epoch 85\n"
     ]
    },
    {
     "name": "stderr",
     "output_type": "stream",
     "text": [
      "\n"
     ]
    }
   ],
   "source": [
    "for e in range(epoch):\n",
    "    model.train()\n",
    "    print(f\"Epoch: {e}\")\n",
    "    batch_cnt = 0\n",
    "    total_loss = 0\n",
    "    correct = 0\n",
    "    for batch, (train_sig, train_label) in tqdm(enumerate(traindl)):\n",
    "        batch_cnt = batch\n",
    "        train_sig = train_sig.to(device)\n",
    "        train_label = train_label.to(device)\n",
    "        \n",
    "        pred = model(train_sig)\n",
    "        loss = loss_fn(pred, train_label)\n",
    "        \n",
    "        optimizer.zero_grad()\n",
    "        loss.backward()\n",
    "        optimizer.step()\n",
    "        \n",
    "        scheduler.step()\n",
    "        \n",
    "        total_loss += loss.item()\n",
    "        correct += (pred.argmax(1) == train_label).type(torch.float).sum().item()\n",
    "    \n",
    "    total_loss /= batch_cnt\n",
    "    correct /= len(traindl.dataset)\n",
    "    \n",
    "    print(f\"train loss: {total_loss} - train acc: {100*correct}\")\n",
    "    \n",
    "    batch_cnt = 0\n",
    "    val_total_loss = 0\n",
    "    val_correct = 0\n",
    "    model.eval()\n",
    "    with torch.no_grad():\n",
    "        for batch, (valid_sig, valid_label) in tqdm(enumerate(validdl)):\n",
    "            batch_cnt = batch\n",
    "            valid_sig = valid_sig.to(device)\n",
    "            valid_label = valid_label.to(device)\n",
    "            \n",
    "            pred = model(valid_sig)\n",
    "            loss = loss_fn(pred, valid_label)\n",
    "            \n",
    "            val_total_loss += loss.item()\n",
    "            val_correct += (pred.argmax(1) == valid_label).type(torch.float).sum().item()\n",
    "    \n",
    "        val_total_loss /= batch_cnt\n",
    "        val_correct /= len(validdl.dataset)\n",
    "        if val_correct > best_acc:\n",
    "            best_acc = val_correct\n",
    "            best_ep = e\n",
    "        \n",
    "        print(f\"valid loss: {val_total_loss} - valid acc: {100*val_correct}\")\n",
    "        \n",
    "print(f\"Best acuracy: {best_acc} at epoch {best_ep}\")"
   ]
  },
  {
   "cell_type": "markdown",
   "id": "4df57c6c",
   "metadata": {},
   "source": [
    "# Evaluation"
   ]
  }
 ],
 "metadata": {
  "kernelspec": {
   "display_name": "Python 3 (ipykernel)",
   "language": "python",
   "name": "python3"
  },
  "language_info": {
   "codemirror_mode": {
    "name": "ipython",
    "version": 3
   },
   "file_extension": ".py",
   "mimetype": "text/x-python",
   "name": "python",
   "nbconvert_exporter": "python",
   "pygments_lexer": "ipython3",
   "version": "3.10.7"
  }
 },
 "nbformat": 4,
 "nbformat_minor": 5
}
