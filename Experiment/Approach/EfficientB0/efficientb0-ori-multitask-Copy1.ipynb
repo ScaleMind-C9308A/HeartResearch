{
 "cells": [
  {
   "cell_type": "markdown",
   "id": "d6169743",
   "metadata": {},
   "source": [
    "# Setup"
   ]
  },
  {
   "cell_type": "code",
   "execution_count": 1,
   "id": "038e91c8",
   "metadata": {},
   "outputs": [],
   "source": [
    "import torch\n",
    "from torch import nn\n",
    "# from torch.utils.data import DataLoader\n",
    "from torchvision import datasets\n",
    "from torchvision.transforms import ToTensor\n",
    "from tqdm import tqdm\n",
    "import json\n",
    "\n",
    "from torchmetrics import Accuracy\n",
    "\n",
    "from sklearn.metrics import confusion_matrix, ConfusionMatrixDisplay\n",
    "from sklearn.metrics import classification_report\n",
    "from sklearn.metrics import roc_curve, auc\n",
    "from sklearn.metrics import roc_auc_score"
   ]
  },
  {
   "cell_type": "code",
   "execution_count": 2,
   "id": "7302e46c",
   "metadata": {},
   "outputs": [],
   "source": [
    "from IPython.display import clear_output\n",
    "import os, sys, shutil\n",
    "import pandas as pd\n",
    "import matplotlib.pyplot as plt\n",
    "import seaborn as sns\n",
    "import numpy as np\n",
    "# from tqdm import tqdm, trange\n",
    "from glob import glob\n",
    "import random\n",
    "\n",
    "import cv2 as cv"
   ]
  },
  {
   "cell_type": "code",
   "execution_count": 3,
   "id": "82a9d0eb",
   "metadata": {},
   "outputs": [
    {
     "name": "stdout",
     "output_type": "stream",
     "text": [
      "D:\\GitCloneProject\\HeartResearch\\Experiment\\Approach\\EfficientB0\n"
     ]
    }
   ],
   "source": [
    "print(os.getcwd())"
   ]
  },
  {
   "cell_type": "code",
   "execution_count": 4,
   "id": "7f58c040",
   "metadata": {},
   "outputs": [
    {
     "name": "stdout",
     "output_type": "stream",
     "text": [
      "D:\\GitCloneProject\\HeartResearch\n"
     ]
    }
   ],
   "source": [
    "for i in range(3):\n",
    "    os.chdir(\"..\")\n",
    "\n",
    "print(os.getcwd())"
   ]
  },
  {
   "cell_type": "code",
   "execution_count": 5,
   "id": "9c9ae6be",
   "metadata": {},
   "outputs": [
    {
     "name": "stdout",
     "output_type": "stream",
     "text": [
      "21958\n"
     ]
    }
   ],
   "source": [
    "# D:\\GitCloneProject\\HeartResearch\\Data set\\v4_data\\med_scaleogram_h256_w512_seglen1600_scl500\n",
    "main_data_dir = os.getcwd() + \"\\\\Data set\"\n",
    "\n",
    "label_csv_path = main_data_dir + \"\\\\\"\n",
    "\n",
    "lead = ['I','II','III','aVR','aVL','aVF','V1','V2','V3','V4','V5','V6']\n",
    "lead_to_onehot = {leads : torch.nn.functional.one_hot(torch.tensor([index])[0], num_classes = 12) for index, leads in enumerate(lead)}\n",
    "\n",
    "class_la = [1,2,3,4,5,6,7,8,9]\n",
    "class_to_onehot = {classes : torch.nn.functional.one_hot(torch.tensor([index])[0], num_classes = 9) for index, classes in enumerate(class_la)}\n",
    "\n",
    "img_data_dir = main_data_dir + \"\\\\Data_set_scale500\"\n",
    "img_data_list =  glob(img_data_dir + \"\\\\*\")\n",
    "\n",
    "print(len(os.listdir(img_data_dir)))"
   ]
  },
  {
   "cell_type": "code",
   "execution_count": null,
   "id": "3f41f5b0",
   "metadata": {},
   "outputs": [],
   "source": [
    "main_data_dir = os.getcwd() + \"\\Data set\"\n",
    "print(os.listdir(main_data_dir))\n",
    "data_set_list = glob.glob(main_data_dir + \"\\\\Data_set_scale{}\\\\*\".format(scale))\n",
    "label_list = []\n",
    "lead_list = []\n",
    "image_list = []\n",
    "for img_path in data_set_list:\n",
    "    img_name = img_path.split('\\\\')[-1].removesuffix('.png')\n",
    "    img_signal = img_name.split('_')[0]\n",
    "    img_lead = img_name.split('_')[1].replace('lead','')\n",
    "    label_list.append(label_df[label_df[\"Recording\"] == img_signal][\"First_label\"].values.tolist()[0])\n",
    "    lead_list.append(img_lead)\n",
    "    image_list.append(img_name)\n",
    "dataset_df = pd.DataFrame({\"Image\": image_list,\n",
    "                         \"Class\": label_list,\n",
    "                         \"Lead\": lead_list})\n",
    "dataset_df = dataset_df.sample(frac = 1)\n",
    "dataset_df.to_csv(main_data_dir + \"\\\\Data_set_scale{}\\\\dataset\".format(scale))"
   ]
  },
  {
   "cell_type": "code",
   "execution_count": 7,
   "id": "f1c533f3",
   "metadata": {},
   "outputs": [
    {
     "name": "stdout",
     "output_type": "stream",
     "text": [
      "D:\\GitCloneProject\\HeartResearch\\Data set\\Data_set_scale500\\A0001_leadaVF_seg4.png\n"
     ]
    }
   ],
   "source": [
    "print(img_data_list[0])"
   ]
  },
  {
   "cell_type": "code",
   "execution_count": 8,
   "id": "237a8291",
   "metadata": {},
   "outputs": [
    {
     "data": {
      "text/html": [
       "<div>\n",
       "<style scoped>\n",
       "    .dataframe tbody tr th:only-of-type {\n",
       "        vertical-align: middle;\n",
       "    }\n",
       "\n",
       "    .dataframe tbody tr th {\n",
       "        vertical-align: top;\n",
       "    }\n",
       "\n",
       "    .dataframe thead th {\n",
       "        text-align: right;\n",
       "    }\n",
       "</style>\n",
       "<table border=\"1\" class=\"dataframe\">\n",
       "  <thead>\n",
       "    <tr style=\"text-align: right;\">\n",
       "      <th></th>\n",
       "      <th>Unnamed: 0</th>\n",
       "      <th>Image</th>\n",
       "      <th>Class</th>\n",
       "      <th>Lead</th>\n",
       "    </tr>\n",
       "  </thead>\n",
       "  <tbody>\n",
       "    <tr>\n",
       "      <th>0</th>\n",
       "      <td>6967</td>\n",
       "      <td>A2265_leadV3_seg5</td>\n",
       "      <td>4</td>\n",
       "      <td>V3</td>\n",
       "    </tr>\n",
       "    <tr>\n",
       "      <th>1</th>\n",
       "      <td>8124</td>\n",
       "      <td>A2630_leadaVF_seg8</td>\n",
       "      <td>3</td>\n",
       "      <td>aVF</td>\n",
       "    </tr>\n",
       "    <tr>\n",
       "      <th>2</th>\n",
       "      <td>21408</td>\n",
       "      <td>A6700_leadV3_seg1</td>\n",
       "      <td>5</td>\n",
       "      <td>V3</td>\n",
       "    </tr>\n",
       "    <tr>\n",
       "      <th>3</th>\n",
       "      <td>12612</td>\n",
       "      <td>A3997_leadIII_seg6</td>\n",
       "      <td>7</td>\n",
       "      <td>III</td>\n",
       "    </tr>\n",
       "    <tr>\n",
       "      <th>4</th>\n",
       "      <td>12547</td>\n",
       "      <td>A3979_leadV2_seg3</td>\n",
       "      <td>8</td>\n",
       "      <td>V2</td>\n",
       "    </tr>\n",
       "  </tbody>\n",
       "</table>\n",
       "</div>"
      ],
      "text/plain": [
       "   Unnamed: 0               Image  Class Lead\n",
       "0        6967   A2265_leadV3_seg5      4   V3\n",
       "1        8124  A2630_leadaVF_seg8      3  aVF\n",
       "2       21408   A6700_leadV3_seg1      5   V3\n",
       "3       12612  A3997_leadIII_seg6      7  III\n",
       "4       12547   A3979_leadV2_seg3      8   V2"
      ]
     },
     "execution_count": 8,
     "metadata": {},
     "output_type": "execute_result"
    }
   ],
   "source": [
    "label_df = pd.read_csv(main_data_dir+\"\\\\dataset\")\n",
    "label_df.head()"
   ]
  },
  {
   "cell_type": "code",
   "execution_count": 9,
   "id": "825bb663",
   "metadata": {},
   "outputs": [
    {
     "data": {
      "text/plain": [
       "4"
      ]
     },
     "execution_count": 9,
     "metadata": {},
     "output_type": "execute_result"
    }
   ],
   "source": [
    "label_df[\"Class\"][0]"
   ]
  },
  {
   "cell_type": "markdown",
   "id": "189b94c0",
   "metadata": {},
   "source": [
    " # Data Loader"
   ]
  },
  {
   "cell_type": "code",
   "execution_count": 10,
   "id": "39c47eb6",
   "metadata": {},
   "outputs": [],
   "source": [
    "from torch.utils.data import Dataset, DataLoader\n",
    "from torchvision import transforms, utils\n",
    "from torch.nn.functional import one_hot"
   ]
  },
  {
   "cell_type": "code",
   "execution_count": 11,
   "id": "6be9ad2c",
   "metadata": {},
   "outputs": [
    {
     "data": {
      "text/plain": [
       "True"
      ]
     },
     "execution_count": 11,
     "metadata": {},
     "output_type": "execute_result"
    }
   ],
   "source": [
    "torch.cuda.is_available()"
   ]
  },
  {
   "cell_type": "code",
   "execution_count": 12,
   "id": "667ff10e",
   "metadata": {
    "scrolled": true
   },
   "outputs": [
    {
     "name": "stdout",
     "output_type": "stream",
     "text": [
      "17566\n",
      "2196\n",
      "2196\n",
      "(17566, 4)\n",
      "(2196, 4)\n",
      "(2196, 4)\n"
     ]
    }
   ],
   "source": [
    "ratio = [0.8, 0.1, 0.1]\n",
    "\n",
    "train_index = int(len(img_data_list)*ratio[0])\n",
    "valid_index = int(len(img_data_list)*(ratio[0]+ratio[1]))\n",
    "\n",
    "train_image_paths = img_data_list[:train_index]\n",
    "valid_image_paths = img_data_list[train_index:valid_index]\n",
    "test_image_paths = img_data_list[valid_index:]\n",
    "\n",
    "train_label = label_df.iloc[:train_index,:]\n",
    "valid_label = label_df.iloc[train_index:valid_index,:]\n",
    "test_label = label_df.iloc[valid_index:,:]\n",
    "\n",
    "print(len(train_image_paths))\n",
    "print(len(valid_image_paths))\n",
    "print(len(test_image_paths))\n",
    "\n",
    "print(train_label.shape)\n",
    "print(valid_label.shape)\n",
    "print(test_label.shape)"
   ]
  },
  {
   "cell_type": "code",
   "execution_count": 13,
   "id": "b5324d19",
   "metadata": {},
   "outputs": [
    {
     "data": {
      "text/plain": [
       "'D:\\\\GitCloneProject\\\\HeartResearch\\\\Data set\\\\Data_set_scale500\\\\A0001_leadaVF_seg4.png'"
      ]
     },
     "execution_count": 13,
     "metadata": {},
     "output_type": "execute_result"
    }
   ],
   "source": [
    "train_image_paths[0]"
   ]
  },
  {
   "cell_type": "code",
   "execution_count": 14,
   "id": "476c6e08",
   "metadata": {},
   "outputs": [
    {
     "data": {
      "text/html": [
       "<div>\n",
       "<style scoped>\n",
       "    .dataframe tbody tr th:only-of-type {\n",
       "        vertical-align: middle;\n",
       "    }\n",
       "\n",
       "    .dataframe tbody tr th {\n",
       "        vertical-align: top;\n",
       "    }\n",
       "\n",
       "    .dataframe thead th {\n",
       "        text-align: right;\n",
       "    }\n",
       "</style>\n",
       "<table border=\"1\" class=\"dataframe\">\n",
       "  <thead>\n",
       "    <tr style=\"text-align: right;\">\n",
       "      <th></th>\n",
       "      <th>Unnamed: 0</th>\n",
       "      <th>Image</th>\n",
       "      <th>Class</th>\n",
       "      <th>Lead</th>\n",
       "    </tr>\n",
       "  </thead>\n",
       "  <tbody>\n",
       "    <tr>\n",
       "      <th>0</th>\n",
       "      <td>6967</td>\n",
       "      <td>A2265_leadV3_seg5</td>\n",
       "      <td>4</td>\n",
       "      <td>V3</td>\n",
       "    </tr>\n",
       "    <tr>\n",
       "      <th>1</th>\n",
       "      <td>8124</td>\n",
       "      <td>A2630_leadaVF_seg8</td>\n",
       "      <td>3</td>\n",
       "      <td>aVF</td>\n",
       "    </tr>\n",
       "    <tr>\n",
       "      <th>2</th>\n",
       "      <td>21408</td>\n",
       "      <td>A6700_leadV3_seg1</td>\n",
       "      <td>5</td>\n",
       "      <td>V3</td>\n",
       "    </tr>\n",
       "    <tr>\n",
       "      <th>3</th>\n",
       "      <td>12612</td>\n",
       "      <td>A3997_leadIII_seg6</td>\n",
       "      <td>7</td>\n",
       "      <td>III</td>\n",
       "    </tr>\n",
       "    <tr>\n",
       "      <th>4</th>\n",
       "      <td>12547</td>\n",
       "      <td>A3979_leadV2_seg3</td>\n",
       "      <td>8</td>\n",
       "      <td>V2</td>\n",
       "    </tr>\n",
       "    <tr>\n",
       "      <th>...</th>\n",
       "      <td>...</td>\n",
       "      <td>...</td>\n",
       "      <td>...</td>\n",
       "      <td>...</td>\n",
       "    </tr>\n",
       "    <tr>\n",
       "      <th>17561</th>\n",
       "      <td>6767</td>\n",
       "      <td>A2202_leadV1_seg1</td>\n",
       "      <td>3</td>\n",
       "      <td>V1</td>\n",
       "    </tr>\n",
       "    <tr>\n",
       "      <th>17562</th>\n",
       "      <td>596</td>\n",
       "      <td>A0173_leadaVL_seg3</td>\n",
       "      <td>1</td>\n",
       "      <td>aVL</td>\n",
       "    </tr>\n",
       "    <tr>\n",
       "      <th>17563</th>\n",
       "      <td>11521</td>\n",
       "      <td>A3647_leadV6_seg5</td>\n",
       "      <td>6</td>\n",
       "      <td>V6</td>\n",
       "    </tr>\n",
       "    <tr>\n",
       "      <th>17564</th>\n",
       "      <td>5307</td>\n",
       "      <td>A1698_leadII_seg2</td>\n",
       "      <td>1</td>\n",
       "      <td>II</td>\n",
       "    </tr>\n",
       "    <tr>\n",
       "      <th>17565</th>\n",
       "      <td>19210</td>\n",
       "      <td>A6014_leadaVR_seg4</td>\n",
       "      <td>3</td>\n",
       "      <td>aVR</td>\n",
       "    </tr>\n",
       "  </tbody>\n",
       "</table>\n",
       "<p>17566 rows × 4 columns</p>\n",
       "</div>"
      ],
      "text/plain": [
       "       Unnamed: 0               Image  Class Lead\n",
       "0            6967   A2265_leadV3_seg5      4   V3\n",
       "1            8124  A2630_leadaVF_seg8      3  aVF\n",
       "2           21408   A6700_leadV3_seg1      5   V3\n",
       "3           12612  A3997_leadIII_seg6      7  III\n",
       "4           12547   A3979_leadV2_seg3      8   V2\n",
       "...           ...                 ...    ...  ...\n",
       "17561        6767   A2202_leadV1_seg1      3   V1\n",
       "17562         596  A0173_leadaVL_seg3      1  aVL\n",
       "17563       11521   A3647_leadV6_seg5      6   V6\n",
       "17564        5307   A1698_leadII_seg2      1   II\n",
       "17565       19210  A6014_leadaVR_seg4      3  aVR\n",
       "\n",
       "[17566 rows x 4 columns]"
      ]
     },
     "execution_count": 14,
     "metadata": {},
     "output_type": "execute_result"
    }
   ],
   "source": [
    "train_label"
   ]
  },
  {
   "cell_type": "code",
   "execution_count": 15,
   "id": "047a15b4",
   "metadata": {},
   "outputs": [],
   "source": [
    "class HeartData(Dataset):\n",
    "    def __init__(self, label_df, data_path):\n",
    "        self.label_df = label_df\n",
    "        self.data_path = data_path\n",
    "        \n",
    "#         self.onehot_label_class = one_hot(self.label_df['Class'])\n",
    "#         self.onehot_label_lead = one_hot(self.label_df['Lead'])\n",
    "    def __len__(self):\n",
    "        return len(self.data_path)\n",
    "        \n",
    "    def __getitem__(self, index):\n",
    "#         imgs = []\n",
    "#         labels = []\n",
    "#         labels.append(self.onehot_label_class)\n",
    "#         labels.append(self.onehot_label_lead)\n",
    "        class_label = self.label_df['Class'][index]\n",
    "        class_label = class_to_onehot[class_label]\n",
    "    \n",
    "        lead_label = self.label_df['Lead'][index]\n",
    "        lead_label = lead_to_onehot[lead_label]\n",
    "\n",
    "        data_img = cv.imread(self.data_path[index])\n",
    "        torch_img = torch.from_numpy(data_img).permute(-1, 0, 1)\n",
    "        \n",
    "#         lead_label = self.onehot_label_lead[index]\n",
    "#         class_label = self.onehot_label_class[index]\n",
    "        \n",
    "        return lead_label, class_label, torch_img"
   ]
  },
  {
   "cell_type": "code",
   "execution_count": 16,
   "id": "f3cd41b7",
   "metadata": {},
   "outputs": [
    {
     "name": "stdout",
     "output_type": "stream",
     "text": [
      "<class 'torch.Tensor'>\n",
      "<class 'torch.Tensor'>\n",
      "<class 'torch.Tensor'>\n",
      "torch.Size([3, 253, 506])\n"
     ]
    }
   ],
   "source": [
    "class_label = train_label['Class'][0]\n",
    "class_label = class_to_onehot[class_label]\n",
    "print(type(class_label))\n",
    "lead_label = train_label['Lead'][0]\n",
    "lead_label = lead_to_onehot[lead_label]\n",
    "print(type(lead_label))\n",
    "data_img = cv.imread(train_image_paths[1])\n",
    "torch_img = torch.from_numpy(data_img).permute(-1, 0, 1)\n",
    "print(type(torch_img))\n",
    "print(torch_img.shape)"
   ]
  },
  {
   "cell_type": "code",
   "execution_count": 17,
   "id": "e5b6f513",
   "metadata": {},
   "outputs": [],
   "source": [
    "train_dataset = HeartData(label_df, train_image_paths)\n",
    "valid_dataset = HeartData(label_df, valid_image_paths)\n",
    "test_dataset = HeartData(label_df, test_image_paths)"
   ]
  },
  {
   "cell_type": "code",
   "execution_count": 18,
   "id": "43f2e5e6",
   "metadata": {},
   "outputs": [
    {
     "data": {
      "text/plain": [
       "2196"
      ]
     },
     "execution_count": 18,
     "metadata": {},
     "output_type": "execute_result"
    }
   ],
   "source": [
    "len(valid_dataset)"
   ]
  },
  {
   "cell_type": "code",
   "execution_count": 19,
   "id": "32e7734c",
   "metadata": {},
   "outputs": [
    {
     "data": {
      "text/plain": [
       "(tensor([0, 0, 0, 0, 0, 0, 0, 0, 0, 0, 1, 0]),\n",
       " tensor([0, 0, 0, 1, 0, 0, 0, 0, 0]),\n",
       " tensor([[[128, 128, 128,  ..., 128, 128, 128],\n",
       "          [128, 128, 128,  ..., 128, 128, 132],\n",
       "          [132, 132, 128,  ..., 132, 137, 146],\n",
       "          ...,\n",
       "          [223, 255, 214,  ..., 227, 255, 250],\n",
       "          [232, 255, 218,  ..., 255, 255, 250],\n",
       "          [241, 200, 237,  ..., 255, 237, 255]],\n",
       " \n",
       "         [[  0,   0,   0,  ...,   0,   0,   0],\n",
       "          [  0,   0,   0,  ...,   0,   0,   0],\n",
       "          [  0,   0,   0,  ...,   0,   0,   0],\n",
       "          ...,\n",
       "          [  0,   0,   0,  ...,   0,  25,   0],\n",
       "          [  0,   0,   0,  ...,   0,   0,   0],\n",
       "          [  0,   0,   0,  ...,   0,   0,   1]],\n",
       " \n",
       "         [[  0,   0,   0,  ...,   0,   0,   0],\n",
       "          [  0,   0,   0,  ...,   0,   0,   0],\n",
       "          [  0,   0,   0,  ...,   0,   0,   0],\n",
       "          ...,\n",
       "          [  0,   0,   0,  ...,   0,   0,   0],\n",
       "          [  0,   0,   0,  ...,   0,   0,   0],\n",
       "          [  0,   0,   0,  ...,   0,   0,   0]]], dtype=torch.uint8))"
      ]
     },
     "execution_count": 19,
     "metadata": {},
     "output_type": "execute_result"
    }
   ],
   "source": [
    "valid_dataset[5]"
   ]
  },
  {
   "cell_type": "code",
   "execution_count": 20,
   "id": "474cc4f1",
   "metadata": {},
   "outputs": [],
   "source": [
    "train_dataloader = DataLoader(train_dataset, batch_size = 16, shuffle = True, pin_memory = True)\n",
    "valid_dataloader = DataLoader(valid_dataset, batch_size = 16, shuffle = True, pin_memory = True)\n",
    "test_dataloader = DataLoader(test_dataset, batch_size = 1, shuffle = True, pin_memory = True)"
   ]
  },
  {
   "cell_type": "code",
   "execution_count": 21,
   "id": "ba6674a6",
   "metadata": {},
   "outputs": [
    {
     "data": {
      "text/plain": [
       "1098"
      ]
     },
     "execution_count": 21,
     "metadata": {},
     "output_type": "execute_result"
    }
   ],
   "source": [
    "len(train_dataloader)"
   ]
  },
  {
   "cell_type": "code",
   "execution_count": 22,
   "id": "44078ad3",
   "metadata": {},
   "outputs": [],
   "source": [
    "# multi-task learning - efficient B0\n",
    "# data loader -> 2 labels: lead + disease\n",
    "# Model: 2 output: 1 vector for 12 leads (softmax) + 1 vector for disease\n",
    "# loss funct: loss lead + loss class => backward\n",
    "# random choice: notice: seed(python, numpy, torch) same\n",
    "        \n",
    "# multi-channel - efficient B2 - quite similar to video classification"
   ]
  },
  {
   "cell_type": "markdown",
   "id": "dad0e825",
   "metadata": {},
   "source": [
    "# Model "
   ]
  },
  {
   "cell_type": "code",
   "execution_count": 23,
   "id": "651dfeb8",
   "metadata": {
    "scrolled": true
   },
   "outputs": [],
   "source": [
    "from torchvision.models import efficientnet_b0, EfficientNet_B0_Weights\n",
    "from torch import nn\n",
    "\n",
    "ori_model = efficientnet_b0(weights = EfficientNet_B0_Weights.IMAGENET1K_V1)"
   ]
  },
  {
   "cell_type": "code",
   "execution_count": 24,
   "id": "29d7764a",
   "metadata": {},
   "outputs": [],
   "source": [
    "# ori_model"
   ]
  },
  {
   "cell_type": "code",
   "execution_count": 25,
   "id": "09e59aa1",
   "metadata": {},
   "outputs": [
    {
     "name": "stdout",
     "output_type": "stream",
     "text": [
      "HeartModel(\n",
      "  (ori_model): EfficientNet(\n",
      "    (features): Sequential(\n",
      "      (0): Conv2dNormActivation(\n",
      "        (0): Conv2d(3, 32, kernel_size=(3, 3), stride=(2, 2), padding=(1, 1), bias=False)\n",
      "        (1): BatchNorm2d(32, eps=1e-05, momentum=0.1, affine=True, track_running_stats=True)\n",
      "        (2): SiLU(inplace=True)\n",
      "      )\n",
      "      (1): Sequential(\n",
      "        (0): MBConv(\n",
      "          (block): Sequential(\n",
      "            (0): Conv2dNormActivation(\n",
      "              (0): Conv2d(32, 32, kernel_size=(3, 3), stride=(1, 1), padding=(1, 1), groups=32, bias=False)\n",
      "              (1): BatchNorm2d(32, eps=1e-05, momentum=0.1, affine=True, track_running_stats=True)\n",
      "              (2): SiLU(inplace=True)\n",
      "            )\n",
      "            (1): SqueezeExcitation(\n",
      "              (avgpool): AdaptiveAvgPool2d(output_size=1)\n",
      "              (fc1): Conv2d(32, 8, kernel_size=(1, 1), stride=(1, 1))\n",
      "              (fc2): Conv2d(8, 32, kernel_size=(1, 1), stride=(1, 1))\n",
      "              (activation): SiLU(inplace=True)\n",
      "              (scale_activation): Sigmoid()\n",
      "            )\n",
      "            (2): Conv2dNormActivation(\n",
      "              (0): Conv2d(32, 16, kernel_size=(1, 1), stride=(1, 1), bias=False)\n",
      "              (1): BatchNorm2d(16, eps=1e-05, momentum=0.1, affine=True, track_running_stats=True)\n",
      "            )\n",
      "          )\n",
      "          (stochastic_depth): StochasticDepth(p=0.0, mode=row)\n",
      "        )\n",
      "      )\n",
      "      (2): Sequential(\n",
      "        (0): MBConv(\n",
      "          (block): Sequential(\n",
      "            (0): Conv2dNormActivation(\n",
      "              (0): Conv2d(16, 96, kernel_size=(1, 1), stride=(1, 1), bias=False)\n",
      "              (1): BatchNorm2d(96, eps=1e-05, momentum=0.1, affine=True, track_running_stats=True)\n",
      "              (2): SiLU(inplace=True)\n",
      "            )\n",
      "            (1): Conv2dNormActivation(\n",
      "              (0): Conv2d(96, 96, kernel_size=(3, 3), stride=(2, 2), padding=(1, 1), groups=96, bias=False)\n",
      "              (1): BatchNorm2d(96, eps=1e-05, momentum=0.1, affine=True, track_running_stats=True)\n",
      "              (2): SiLU(inplace=True)\n",
      "            )\n",
      "            (2): SqueezeExcitation(\n",
      "              (avgpool): AdaptiveAvgPool2d(output_size=1)\n",
      "              (fc1): Conv2d(96, 4, kernel_size=(1, 1), stride=(1, 1))\n",
      "              (fc2): Conv2d(4, 96, kernel_size=(1, 1), stride=(1, 1))\n",
      "              (activation): SiLU(inplace=True)\n",
      "              (scale_activation): Sigmoid()\n",
      "            )\n",
      "            (3): Conv2dNormActivation(\n",
      "              (0): Conv2d(96, 24, kernel_size=(1, 1), stride=(1, 1), bias=False)\n",
      "              (1): BatchNorm2d(24, eps=1e-05, momentum=0.1, affine=True, track_running_stats=True)\n",
      "            )\n",
      "          )\n",
      "          (stochastic_depth): StochasticDepth(p=0.0125, mode=row)\n",
      "        )\n",
      "        (1): MBConv(\n",
      "          (block): Sequential(\n",
      "            (0): Conv2dNormActivation(\n",
      "              (0): Conv2d(24, 144, kernel_size=(1, 1), stride=(1, 1), bias=False)\n",
      "              (1): BatchNorm2d(144, eps=1e-05, momentum=0.1, affine=True, track_running_stats=True)\n",
      "              (2): SiLU(inplace=True)\n",
      "            )\n",
      "            (1): Conv2dNormActivation(\n",
      "              (0): Conv2d(144, 144, kernel_size=(3, 3), stride=(1, 1), padding=(1, 1), groups=144, bias=False)\n",
      "              (1): BatchNorm2d(144, eps=1e-05, momentum=0.1, affine=True, track_running_stats=True)\n",
      "              (2): SiLU(inplace=True)\n",
      "            )\n",
      "            (2): SqueezeExcitation(\n",
      "              (avgpool): AdaptiveAvgPool2d(output_size=1)\n",
      "              (fc1): Conv2d(144, 6, kernel_size=(1, 1), stride=(1, 1))\n",
      "              (fc2): Conv2d(6, 144, kernel_size=(1, 1), stride=(1, 1))\n",
      "              (activation): SiLU(inplace=True)\n",
      "              (scale_activation): Sigmoid()\n",
      "            )\n",
      "            (3): Conv2dNormActivation(\n",
      "              (0): Conv2d(144, 24, kernel_size=(1, 1), stride=(1, 1), bias=False)\n",
      "              (1): BatchNorm2d(24, eps=1e-05, momentum=0.1, affine=True, track_running_stats=True)\n",
      "            )\n",
      "          )\n",
      "          (stochastic_depth): StochasticDepth(p=0.025, mode=row)\n",
      "        )\n",
      "      )\n",
      "      (3): Sequential(\n",
      "        (0): MBConv(\n",
      "          (block): Sequential(\n",
      "            (0): Conv2dNormActivation(\n",
      "              (0): Conv2d(24, 144, kernel_size=(1, 1), stride=(1, 1), bias=False)\n",
      "              (1): BatchNorm2d(144, eps=1e-05, momentum=0.1, affine=True, track_running_stats=True)\n",
      "              (2): SiLU(inplace=True)\n",
      "            )\n",
      "            (1): Conv2dNormActivation(\n",
      "              (0): Conv2d(144, 144, kernel_size=(5, 5), stride=(2, 2), padding=(2, 2), groups=144, bias=False)\n",
      "              (1): BatchNorm2d(144, eps=1e-05, momentum=0.1, affine=True, track_running_stats=True)\n",
      "              (2): SiLU(inplace=True)\n",
      "            )\n",
      "            (2): SqueezeExcitation(\n",
      "              (avgpool): AdaptiveAvgPool2d(output_size=1)\n",
      "              (fc1): Conv2d(144, 6, kernel_size=(1, 1), stride=(1, 1))\n",
      "              (fc2): Conv2d(6, 144, kernel_size=(1, 1), stride=(1, 1))\n",
      "              (activation): SiLU(inplace=True)\n",
      "              (scale_activation): Sigmoid()\n",
      "            )\n",
      "            (3): Conv2dNormActivation(\n",
      "              (0): Conv2d(144, 40, kernel_size=(1, 1), stride=(1, 1), bias=False)\n",
      "              (1): BatchNorm2d(40, eps=1e-05, momentum=0.1, affine=True, track_running_stats=True)\n",
      "            )\n",
      "          )\n",
      "          (stochastic_depth): StochasticDepth(p=0.037500000000000006, mode=row)\n",
      "        )\n",
      "        (1): MBConv(\n",
      "          (block): Sequential(\n",
      "            (0): Conv2dNormActivation(\n",
      "              (0): Conv2d(40, 240, kernel_size=(1, 1), stride=(1, 1), bias=False)\n",
      "              (1): BatchNorm2d(240, eps=1e-05, momentum=0.1, affine=True, track_running_stats=True)\n",
      "              (2): SiLU(inplace=True)\n",
      "            )\n",
      "            (1): Conv2dNormActivation(\n",
      "              (0): Conv2d(240, 240, kernel_size=(5, 5), stride=(1, 1), padding=(2, 2), groups=240, bias=False)\n",
      "              (1): BatchNorm2d(240, eps=1e-05, momentum=0.1, affine=True, track_running_stats=True)\n",
      "              (2): SiLU(inplace=True)\n",
      "            )\n",
      "            (2): SqueezeExcitation(\n",
      "              (avgpool): AdaptiveAvgPool2d(output_size=1)\n",
      "              (fc1): Conv2d(240, 10, kernel_size=(1, 1), stride=(1, 1))\n",
      "              (fc2): Conv2d(10, 240, kernel_size=(1, 1), stride=(1, 1))\n",
      "              (activation): SiLU(inplace=True)\n",
      "              (scale_activation): Sigmoid()\n",
      "            )\n",
      "            (3): Conv2dNormActivation(\n",
      "              (0): Conv2d(240, 40, kernel_size=(1, 1), stride=(1, 1), bias=False)\n",
      "              (1): BatchNorm2d(40, eps=1e-05, momentum=0.1, affine=True, track_running_stats=True)\n",
      "            )\n",
      "          )\n",
      "          (stochastic_depth): StochasticDepth(p=0.05, mode=row)\n",
      "        )\n",
      "      )\n",
      "      (4): Sequential(\n",
      "        (0): MBConv(\n",
      "          (block): Sequential(\n",
      "            (0): Conv2dNormActivation(\n",
      "              (0): Conv2d(40, 240, kernel_size=(1, 1), stride=(1, 1), bias=False)\n",
      "              (1): BatchNorm2d(240, eps=1e-05, momentum=0.1, affine=True, track_running_stats=True)\n",
      "              (2): SiLU(inplace=True)\n",
      "            )\n",
      "            (1): Conv2dNormActivation(\n",
      "              (0): Conv2d(240, 240, kernel_size=(3, 3), stride=(2, 2), padding=(1, 1), groups=240, bias=False)\n",
      "              (1): BatchNorm2d(240, eps=1e-05, momentum=0.1, affine=True, track_running_stats=True)\n",
      "              (2): SiLU(inplace=True)\n",
      "            )\n",
      "            (2): SqueezeExcitation(\n",
      "              (avgpool): AdaptiveAvgPool2d(output_size=1)\n",
      "              (fc1): Conv2d(240, 10, kernel_size=(1, 1), stride=(1, 1))\n",
      "              (fc2): Conv2d(10, 240, kernel_size=(1, 1), stride=(1, 1))\n",
      "              (activation): SiLU(inplace=True)\n",
      "              (scale_activation): Sigmoid()\n",
      "            )\n",
      "            (3): Conv2dNormActivation(\n",
      "              (0): Conv2d(240, 80, kernel_size=(1, 1), stride=(1, 1), bias=False)\n",
      "              (1): BatchNorm2d(80, eps=1e-05, momentum=0.1, affine=True, track_running_stats=True)\n",
      "            )\n",
      "          )\n",
      "          (stochastic_depth): StochasticDepth(p=0.0625, mode=row)\n",
      "        )\n",
      "        (1): MBConv(\n",
      "          (block): Sequential(\n",
      "            (0): Conv2dNormActivation(\n",
      "              (0): Conv2d(80, 480, kernel_size=(1, 1), stride=(1, 1), bias=False)\n",
      "              (1): BatchNorm2d(480, eps=1e-05, momentum=0.1, affine=True, track_running_stats=True)\n",
      "              (2): SiLU(inplace=True)\n",
      "            )\n",
      "            (1): Conv2dNormActivation(\n",
      "              (0): Conv2d(480, 480, kernel_size=(3, 3), stride=(1, 1), padding=(1, 1), groups=480, bias=False)\n",
      "              (1): BatchNorm2d(480, eps=1e-05, momentum=0.1, affine=True, track_running_stats=True)\n",
      "              (2): SiLU(inplace=True)\n",
      "            )\n",
      "            (2): SqueezeExcitation(\n",
      "              (avgpool): AdaptiveAvgPool2d(output_size=1)\n",
      "              (fc1): Conv2d(480, 20, kernel_size=(1, 1), stride=(1, 1))\n",
      "              (fc2): Conv2d(20, 480, kernel_size=(1, 1), stride=(1, 1))\n",
      "              (activation): SiLU(inplace=True)\n",
      "              (scale_activation): Sigmoid()\n",
      "            )\n",
      "            (3): Conv2dNormActivation(\n",
      "              (0): Conv2d(480, 80, kernel_size=(1, 1), stride=(1, 1), bias=False)\n",
      "              (1): BatchNorm2d(80, eps=1e-05, momentum=0.1, affine=True, track_running_stats=True)\n",
      "            )\n",
      "          )\n",
      "          (stochastic_depth): StochasticDepth(p=0.07500000000000001, mode=row)\n",
      "        )\n",
      "        (2): MBConv(\n",
      "          (block): Sequential(\n",
      "            (0): Conv2dNormActivation(\n",
      "              (0): Conv2d(80, 480, kernel_size=(1, 1), stride=(1, 1), bias=False)\n",
      "              (1): BatchNorm2d(480, eps=1e-05, momentum=0.1, affine=True, track_running_stats=True)\n",
      "              (2): SiLU(inplace=True)\n",
      "            )\n",
      "            (1): Conv2dNormActivation(\n",
      "              (0): Conv2d(480, 480, kernel_size=(3, 3), stride=(1, 1), padding=(1, 1), groups=480, bias=False)\n",
      "              (1): BatchNorm2d(480, eps=1e-05, momentum=0.1, affine=True, track_running_stats=True)\n",
      "              (2): SiLU(inplace=True)\n",
      "            )\n",
      "            (2): SqueezeExcitation(\n",
      "              (avgpool): AdaptiveAvgPool2d(output_size=1)\n",
      "              (fc1): Conv2d(480, 20, kernel_size=(1, 1), stride=(1, 1))\n",
      "              (fc2): Conv2d(20, 480, kernel_size=(1, 1), stride=(1, 1))\n",
      "              (activation): SiLU(inplace=True)\n",
      "              (scale_activation): Sigmoid()\n",
      "            )\n",
      "            (3): Conv2dNormActivation(\n",
      "              (0): Conv2d(480, 80, kernel_size=(1, 1), stride=(1, 1), bias=False)\n",
      "              (1): BatchNorm2d(80, eps=1e-05, momentum=0.1, affine=True, track_running_stats=True)\n",
      "            )\n",
      "          )\n",
      "          (stochastic_depth): StochasticDepth(p=0.08750000000000001, mode=row)\n",
      "        )\n",
      "      )\n",
      "      (5): Sequential(\n",
      "        (0): MBConv(\n",
      "          (block): Sequential(\n",
      "            (0): Conv2dNormActivation(\n",
      "              (0): Conv2d(80, 480, kernel_size=(1, 1), stride=(1, 1), bias=False)\n",
      "              (1): BatchNorm2d(480, eps=1e-05, momentum=0.1, affine=True, track_running_stats=True)\n",
      "              (2): SiLU(inplace=True)\n",
      "            )\n",
      "            (1): Conv2dNormActivation(\n",
      "              (0): Conv2d(480, 480, kernel_size=(5, 5), stride=(1, 1), padding=(2, 2), groups=480, bias=False)\n",
      "              (1): BatchNorm2d(480, eps=1e-05, momentum=0.1, affine=True, track_running_stats=True)\n",
      "              (2): SiLU(inplace=True)\n",
      "            )\n",
      "            (2): SqueezeExcitation(\n",
      "              (avgpool): AdaptiveAvgPool2d(output_size=1)\n",
      "              (fc1): Conv2d(480, 20, kernel_size=(1, 1), stride=(1, 1))\n",
      "              (fc2): Conv2d(20, 480, kernel_size=(1, 1), stride=(1, 1))\n",
      "              (activation): SiLU(inplace=True)\n",
      "              (scale_activation): Sigmoid()\n",
      "            )\n",
      "            (3): Conv2dNormActivation(\n",
      "              (0): Conv2d(480, 112, kernel_size=(1, 1), stride=(1, 1), bias=False)\n",
      "              (1): BatchNorm2d(112, eps=1e-05, momentum=0.1, affine=True, track_running_stats=True)\n",
      "            )\n",
      "          )\n",
      "          (stochastic_depth): StochasticDepth(p=0.1, mode=row)\n",
      "        )\n",
      "        (1): MBConv(\n",
      "          (block): Sequential(\n",
      "            (0): Conv2dNormActivation(\n",
      "              (0): Conv2d(112, 672, kernel_size=(1, 1), stride=(1, 1), bias=False)\n",
      "              (1): BatchNorm2d(672, eps=1e-05, momentum=0.1, affine=True, track_running_stats=True)\n",
      "              (2): SiLU(inplace=True)\n",
      "            )\n",
      "            (1): Conv2dNormActivation(\n",
      "              (0): Conv2d(672, 672, kernel_size=(5, 5), stride=(1, 1), padding=(2, 2), groups=672, bias=False)\n",
      "              (1): BatchNorm2d(672, eps=1e-05, momentum=0.1, affine=True, track_running_stats=True)\n",
      "              (2): SiLU(inplace=True)\n",
      "            )\n",
      "            (2): SqueezeExcitation(\n",
      "              (avgpool): AdaptiveAvgPool2d(output_size=1)\n",
      "              (fc1): Conv2d(672, 28, kernel_size=(1, 1), stride=(1, 1))\n",
      "              (fc2): Conv2d(28, 672, kernel_size=(1, 1), stride=(1, 1))\n",
      "              (activation): SiLU(inplace=True)\n",
      "              (scale_activation): Sigmoid()\n",
      "            )\n",
      "            (3): Conv2dNormActivation(\n",
      "              (0): Conv2d(672, 112, kernel_size=(1, 1), stride=(1, 1), bias=False)\n",
      "              (1): BatchNorm2d(112, eps=1e-05, momentum=0.1, affine=True, track_running_stats=True)\n",
      "            )\n",
      "          )\n",
      "          (stochastic_depth): StochasticDepth(p=0.1125, mode=row)\n",
      "        )\n",
      "        (2): MBConv(\n",
      "          (block): Sequential(\n",
      "            (0): Conv2dNormActivation(\n",
      "              (0): Conv2d(112, 672, kernel_size=(1, 1), stride=(1, 1), bias=False)\n",
      "              (1): BatchNorm2d(672, eps=1e-05, momentum=0.1, affine=True, track_running_stats=True)\n",
      "              (2): SiLU(inplace=True)\n",
      "            )\n",
      "            (1): Conv2dNormActivation(\n",
      "              (0): Conv2d(672, 672, kernel_size=(5, 5), stride=(1, 1), padding=(2, 2), groups=672, bias=False)\n",
      "              (1): BatchNorm2d(672, eps=1e-05, momentum=0.1, affine=True, track_running_stats=True)\n",
      "              (2): SiLU(inplace=True)\n",
      "            )\n",
      "            (2): SqueezeExcitation(\n",
      "              (avgpool): AdaptiveAvgPool2d(output_size=1)\n",
      "              (fc1): Conv2d(672, 28, kernel_size=(1, 1), stride=(1, 1))\n",
      "              (fc2): Conv2d(28, 672, kernel_size=(1, 1), stride=(1, 1))\n",
      "              (activation): SiLU(inplace=True)\n",
      "              (scale_activation): Sigmoid()\n",
      "            )\n",
      "            (3): Conv2dNormActivation(\n",
      "              (0): Conv2d(672, 112, kernel_size=(1, 1), stride=(1, 1), bias=False)\n",
      "              (1): BatchNorm2d(112, eps=1e-05, momentum=0.1, affine=True, track_running_stats=True)\n",
      "            )\n",
      "          )\n",
      "          (stochastic_depth): StochasticDepth(p=0.125, mode=row)\n",
      "        )\n",
      "      )\n",
      "      (6): Sequential(\n",
      "        (0): MBConv(\n",
      "          (block): Sequential(\n",
      "            (0): Conv2dNormActivation(\n",
      "              (0): Conv2d(112, 672, kernel_size=(1, 1), stride=(1, 1), bias=False)\n",
      "              (1): BatchNorm2d(672, eps=1e-05, momentum=0.1, affine=True, track_running_stats=True)\n",
      "              (2): SiLU(inplace=True)\n",
      "            )\n",
      "            (1): Conv2dNormActivation(\n",
      "              (0): Conv2d(672, 672, kernel_size=(5, 5), stride=(2, 2), padding=(2, 2), groups=672, bias=False)\n",
      "              (1): BatchNorm2d(672, eps=1e-05, momentum=0.1, affine=True, track_running_stats=True)\n",
      "              (2): SiLU(inplace=True)\n",
      "            )\n",
      "            (2): SqueezeExcitation(\n",
      "              (avgpool): AdaptiveAvgPool2d(output_size=1)\n",
      "              (fc1): Conv2d(672, 28, kernel_size=(1, 1), stride=(1, 1))\n",
      "              (fc2): Conv2d(28, 672, kernel_size=(1, 1), stride=(1, 1))\n",
      "              (activation): SiLU(inplace=True)\n",
      "              (scale_activation): Sigmoid()\n",
      "            )\n",
      "            (3): Conv2dNormActivation(\n",
      "              (0): Conv2d(672, 192, kernel_size=(1, 1), stride=(1, 1), bias=False)\n",
      "              (1): BatchNorm2d(192, eps=1e-05, momentum=0.1, affine=True, track_running_stats=True)\n",
      "            )\n",
      "          )\n",
      "          (stochastic_depth): StochasticDepth(p=0.1375, mode=row)\n",
      "        )\n",
      "        (1): MBConv(\n",
      "          (block): Sequential(\n",
      "            (0): Conv2dNormActivation(\n",
      "              (0): Conv2d(192, 1152, kernel_size=(1, 1), stride=(1, 1), bias=False)\n",
      "              (1): BatchNorm2d(1152, eps=1e-05, momentum=0.1, affine=True, track_running_stats=True)\n",
      "              (2): SiLU(inplace=True)\n",
      "            )\n",
      "            (1): Conv2dNormActivation(\n",
      "              (0): Conv2d(1152, 1152, kernel_size=(5, 5), stride=(1, 1), padding=(2, 2), groups=1152, bias=False)\n",
      "              (1): BatchNorm2d(1152, eps=1e-05, momentum=0.1, affine=True, track_running_stats=True)\n",
      "              (2): SiLU(inplace=True)\n",
      "            )\n",
      "            (2): SqueezeExcitation(\n",
      "              (avgpool): AdaptiveAvgPool2d(output_size=1)\n",
      "              (fc1): Conv2d(1152, 48, kernel_size=(1, 1), stride=(1, 1))\n",
      "              (fc2): Conv2d(48, 1152, kernel_size=(1, 1), stride=(1, 1))\n",
      "              (activation): SiLU(inplace=True)\n",
      "              (scale_activation): Sigmoid()\n",
      "            )\n",
      "            (3): Conv2dNormActivation(\n",
      "              (0): Conv2d(1152, 192, kernel_size=(1, 1), stride=(1, 1), bias=False)\n",
      "              (1): BatchNorm2d(192, eps=1e-05, momentum=0.1, affine=True, track_running_stats=True)\n",
      "            )\n",
      "          )\n",
      "          (stochastic_depth): StochasticDepth(p=0.15000000000000002, mode=row)\n",
      "        )\n",
      "        (2): MBConv(\n",
      "          (block): Sequential(\n",
      "            (0): Conv2dNormActivation(\n",
      "              (0): Conv2d(192, 1152, kernel_size=(1, 1), stride=(1, 1), bias=False)\n",
      "              (1): BatchNorm2d(1152, eps=1e-05, momentum=0.1, affine=True, track_running_stats=True)\n",
      "              (2): SiLU(inplace=True)\n",
      "            )\n",
      "            (1): Conv2dNormActivation(\n",
      "              (0): Conv2d(1152, 1152, kernel_size=(5, 5), stride=(1, 1), padding=(2, 2), groups=1152, bias=False)\n",
      "              (1): BatchNorm2d(1152, eps=1e-05, momentum=0.1, affine=True, track_running_stats=True)\n",
      "              (2): SiLU(inplace=True)\n",
      "            )\n",
      "            (2): SqueezeExcitation(\n",
      "              (avgpool): AdaptiveAvgPool2d(output_size=1)\n",
      "              (fc1): Conv2d(1152, 48, kernel_size=(1, 1), stride=(1, 1))\n",
      "              (fc2): Conv2d(48, 1152, kernel_size=(1, 1), stride=(1, 1))\n",
      "              (activation): SiLU(inplace=True)\n",
      "              (scale_activation): Sigmoid()\n",
      "            )\n",
      "            (3): Conv2dNormActivation(\n",
      "              (0): Conv2d(1152, 192, kernel_size=(1, 1), stride=(1, 1), bias=False)\n",
      "              (1): BatchNorm2d(192, eps=1e-05, momentum=0.1, affine=True, track_running_stats=True)\n",
      "            )\n",
      "          )\n",
      "          (stochastic_depth): StochasticDepth(p=0.1625, mode=row)\n",
      "        )\n",
      "        (3): MBConv(\n",
      "          (block): Sequential(\n",
      "            (0): Conv2dNormActivation(\n",
      "              (0): Conv2d(192, 1152, kernel_size=(1, 1), stride=(1, 1), bias=False)\n",
      "              (1): BatchNorm2d(1152, eps=1e-05, momentum=0.1, affine=True, track_running_stats=True)\n",
      "              (2): SiLU(inplace=True)\n",
      "            )\n",
      "            (1): Conv2dNormActivation(\n",
      "              (0): Conv2d(1152, 1152, kernel_size=(5, 5), stride=(1, 1), padding=(2, 2), groups=1152, bias=False)\n",
      "              (1): BatchNorm2d(1152, eps=1e-05, momentum=0.1, affine=True, track_running_stats=True)\n",
      "              (2): SiLU(inplace=True)\n",
      "            )\n",
      "            (2): SqueezeExcitation(\n",
      "              (avgpool): AdaptiveAvgPool2d(output_size=1)\n",
      "              (fc1): Conv2d(1152, 48, kernel_size=(1, 1), stride=(1, 1))\n",
      "              (fc2): Conv2d(48, 1152, kernel_size=(1, 1), stride=(1, 1))\n",
      "              (activation): SiLU(inplace=True)\n",
      "              (scale_activation): Sigmoid()\n",
      "            )\n",
      "            (3): Conv2dNormActivation(\n",
      "              (0): Conv2d(1152, 192, kernel_size=(1, 1), stride=(1, 1), bias=False)\n",
      "              (1): BatchNorm2d(192, eps=1e-05, momentum=0.1, affine=True, track_running_stats=True)\n",
      "            )\n",
      "          )\n",
      "          (stochastic_depth): StochasticDepth(p=0.17500000000000002, mode=row)\n",
      "        )\n",
      "      )\n",
      "      (7): Sequential(\n",
      "        (0): MBConv(\n",
      "          (block): Sequential(\n",
      "            (0): Conv2dNormActivation(\n",
      "              (0): Conv2d(192, 1152, kernel_size=(1, 1), stride=(1, 1), bias=False)\n",
      "              (1): BatchNorm2d(1152, eps=1e-05, momentum=0.1, affine=True, track_running_stats=True)\n",
      "              (2): SiLU(inplace=True)\n",
      "            )\n",
      "            (1): Conv2dNormActivation(\n",
      "              (0): Conv2d(1152, 1152, kernel_size=(3, 3), stride=(1, 1), padding=(1, 1), groups=1152, bias=False)\n",
      "              (1): BatchNorm2d(1152, eps=1e-05, momentum=0.1, affine=True, track_running_stats=True)\n",
      "              (2): SiLU(inplace=True)\n",
      "            )\n",
      "            (2): SqueezeExcitation(\n",
      "              (avgpool): AdaptiveAvgPool2d(output_size=1)\n",
      "              (fc1): Conv2d(1152, 48, kernel_size=(1, 1), stride=(1, 1))\n",
      "              (fc2): Conv2d(48, 1152, kernel_size=(1, 1), stride=(1, 1))\n",
      "              (activation): SiLU(inplace=True)\n",
      "              (scale_activation): Sigmoid()\n",
      "            )\n",
      "            (3): Conv2dNormActivation(\n",
      "              (0): Conv2d(1152, 320, kernel_size=(1, 1), stride=(1, 1), bias=False)\n",
      "              (1): BatchNorm2d(320, eps=1e-05, momentum=0.1, affine=True, track_running_stats=True)\n",
      "            )\n",
      "          )\n",
      "          (stochastic_depth): StochasticDepth(p=0.1875, mode=row)\n",
      "        )\n",
      "      )\n",
      "      (8): Conv2dNormActivation(\n",
      "        (0): Conv2d(320, 1280, kernel_size=(1, 1), stride=(1, 1), bias=False)\n",
      "        (1): BatchNorm2d(1280, eps=1e-05, momentum=0.1, affine=True, track_running_stats=True)\n",
      "        (2): SiLU(inplace=True)\n",
      "      )\n",
      "    )\n",
      "    (avgpool): AdaptiveAvgPool2d(output_size=1)\n",
      "    (classifier): Sequential(\n",
      "      (0): Dropout(p=0.2, inplace=False)\n",
      "      (1): Linear(in_features=1280, out_features=21, bias=True)\n",
      "      (2): Softmax(dim=1)\n",
      "    )\n",
      "  )\n",
      ")\n"
     ]
    }
   ],
   "source": [
    "from torchvision.models import efficientnet_b0, EfficientNet_B0_Weights\n",
    "from torch import nn\n",
    "\n",
    "class HeartModel(nn.Module):\n",
    "    def __init__(self):\n",
    "        super().__init__()\n",
    "        self.ori_model = efficientnet_b0(weights = EfficientNet_B0_Weights.IMAGENET1K_V1)\n",
    "        del self.ori_model.classifier\n",
    "        self.ori_model.classifier = nn.Sequential(\n",
    "            nn.Dropout(0.2),\n",
    "            nn.Linear(1280, 21),\n",
    "            nn.Softmax(dim = 1)\n",
    "        )\n",
    "        \n",
    "    def forward(self, x):        \n",
    "        logits = self.ori_model(x)\n",
    "        \n",
    "        return (logits[:, :12], logits[:, 12:])\n",
    "\n",
    "device = torch.device(\"cuda\" if torch.cuda.is_available() else \"cpu\")\n",
    "model = HeartModel().to(device)\n",
    "print(model)"
   ]
  },
  {
   "cell_type": "markdown",
   "id": "8dbe4995",
   "metadata": {},
   "source": [
    "# Training"
   ]
  },
  {
   "cell_type": "code",
   "execution_count": 26,
   "id": "8989c016",
   "metadata": {},
   "outputs": [],
   "source": [
    "from datetime import datetime\n",
    "\n",
    "opt_mapping = {\n",
    "    \"Adam\" : torch.optim.Adam\n",
    "}\n",
    "\n",
    "loss_mapping = {\n",
    "    \"CCE\" : nn.CrossEntropyLoss()\n",
    "}\n",
    "\n",
    "class Training:\n",
    "    def __init__(self, \n",
    "                 device: str = \"cpu\",\n",
    "                 learning_rate:float = 0.0001,\n",
    "                 optimizer:str = \"Adam\",\n",
    "                 loss:str = \"CCE\",\n",
    "                 model = model,\n",
    "#                  batchsize:int = 32,\n",
    "                 epochs:int = 100,\n",
    "#                  label_df: pd.DataFrame = label_df, \n",
    "#                  root_dir: str = img_data_dir, \n",
    "#                  ratio: tuple = (0.8, 0.1, 0.1),\n",
    "#                  resize: tuple = None, #  (256, 512)\n",
    "#                  seed: int = 777\n",
    "                ):\n",
    "        \n",
    "        # Setup\n",
    "        self.device = device\n",
    "        self.model = model\n",
    "        self.model.to(self.device)\n",
    "        self.lr = learning_rate\n",
    "        self.optimizer = opt_mapping[optimizer](self.model.parameters(), lr=self.lr)\n",
    "        self.loss_fn = loss_mapping[loss]\n",
    "        self.ep = epochs\n",
    "        self.lead_accuracy = Accuracy(task=\"multiclass\", num_classes=12).to(self.device)\n",
    "        self.cls_accuracy = Accuracy(task=\"multiclass\", num_classes=9).to(self.device)\n",
    "        \n",
    "        # Data\n",
    "        self.train_data = train_dataloader\n",
    "        self.valid_data = valid_dataloader\n",
    "        self.test_data = test_dataloader\n",
    "    \n",
    "    train_losses = []\n",
    "    val_losses = []\n",
    "    \n",
    "    def __update__(self):\n",
    "        for e in range(self.ep):\n",
    "            train_class_acc = 0\n",
    "            train_lead_acc = 0\n",
    "            batch_cnt = 0\n",
    "            self.model.train()\n",
    "            for batch, (y1, y2, X) in tqdm(enumerate(self.train_data)):\n",
    "                batch_cnt = batch\n",
    "                y1, y2 = y1.to(self.device), y2.to(self.device)\n",
    "                pred1, pred2 = self.model((X/255).to(self.device))\n",
    "                l1 = self.loss_fn(pred1, y1.to(self.device, dtype = torch.float))\n",
    "                l2 = self.loss_fn(pred2, y2.to(self.device, dtype = torch.float))\n",
    "                train_loss = l1 + l2\n",
    "                train_losses.append(train_loss)\n",
    "                \n",
    "                self.optimizer.zero_grad()\n",
    "                loss.backward()\n",
    "                self.optimizer.step()\n",
    "                train_lead_acc += self.lead_accuracy(torch.argmax(pred1, dim = 1), torch.argmax(y1, dim = 1)).item()\n",
    "                train_class_acc += self.cls_accuracy(torch.argmax(pred2, dim = 1), torch.argmax(y2, dim = 1)).item()\n",
    "                        \n",
    "            mean_train_cls_acc = train_class_acc/(batch_cnt + 1)\n",
    "            mean_train_led_acc = train_lead_acc/(batch_cnt + 1)\n",
    "            # Show train_loss, train_acc, val_loss, val_acc\n",
    "            if e%10 == 0: \n",
    "                print(f\"Epoch: {e} - Train Loss: {loss.item()} - Train class acc: {mean_train_cls_acc} - Train lead acc: {mean_train_led_acc}\")\n",
    "#             \" - Val Loss: {val_loss.item()} - Val Acc: {val_acc.item()}\")\n",
    "\n",
    "            self.validation()\n",
    "        loss_plot(self, train_losses = train_losses, val_losses = val_losses, n_epochs = e + 1, check_folder = 'run_efficientB0')\n",
    "        self.evaluation()\n",
    "        \n",
    "    def validation(self):\n",
    "        self.model.eval()\n",
    "        valid_class_acc = 0\n",
    "        valid_lead_acc = 0\n",
    "        batch_cnt = 0\n",
    "        \n",
    "        with torch.no_grad():\n",
    "            valid_class_acc = 0\n",
    "            valid_lead_acc = 0\n",
    "            batch_cnt = 0\n",
    "            for batch, (y1, y2, X) in tqdm(enumerate(self.valid_data)):\n",
    "                batch_cnt = batch\n",
    "\n",
    "                y1, y2 = y1.to(self.device), y2.to(self.device)\n",
    "                pred1, pred2 = self.model((X/255).to(self.device))\n",
    "\n",
    "                l1 = self.loss_fn(pred1, y1.to(self.device, dtype = torch.float))\n",
    "                l2 = self.loss_fn(pred2, y2.to(self.device, dtype = torch.float))\n",
    "                val_loss = l1 + l2\n",
    "                val_losses.append(val_loss)\n",
    "\n",
    "                valid_lead_acc += self.lead_accuracy(torch.argmax(pred1, dim = 1), torch.argmax(y1, dim = 1)).item()\n",
    "                valid_class_acc += self.cls_accuracy(torch.argmax(pred2, dim = 1), torch.argmax(y2, dim = 1)).item()                \n",
    "\n",
    "            mean_valid_cls_acc = valid_class_acc/(batch_cnt + 1)\n",
    "            mean_valid_led_acc = valid_lead_acc/(batch_cnt + 1)\n",
    "\n",
    "            self.checkpoint(valid_lead_acc = mean_valid_cls_acc, \n",
    "                       valid_class_acc = mean_valid_led_acc, \n",
    "                       val_total_loss = loss,\n",
    "                       epoch = epoch, \n",
    "                       model = self.model,\n",
    "                       optimizer = self.optimizer,\n",
    "                       check_folder = 'run_efficientB0')\n",
    "\n",
    "            print(f\"Val_loss: {loss.item()} - Val class acc: {mean_valid_cls_acc} - Val lead acc: {mean_valid_led_acc}\")\n",
    "        \n",
    "        return val_loss, mean_valid_cls_acc, mean_valid_led_acc\n",
    "\n",
    "    def loss_plot(self, train_losses, val_losses, n_epochs, check_folder):\n",
    "        now = datetime.now().strftime(\"%m-%d-%Y - %H-%M-%S\")\n",
    "        run_dir = os.getcwd() + f\"/{check_folder}\"\n",
    "        if not os.path.exists(run_dir):\n",
    "            os.mkdir(run_dir)\n",
    "        save_dir = run_dir + f\"/{now}\"\n",
    "        if not os.path.exists(save_dir):\n",
    "            os.mkdir(save_dir)\n",
    "        save_loss_dir = save_dir + \"\\save_losses\"\n",
    "        if not os.path.exists(save_loss_dir):\n",
    "            os.mkdir(save_loss_dir)\n",
    "        save_fig_losses = os.path.join(save_loss_dir, 'plot_losses.png')  \n",
    "        \n",
    "        plt.figure()\n",
    "        plt.plot(range(1, n_epochs + 1), train_losses, label='Train Loss')\n",
    "        plt.plot(range(1, n_epochs + 1), val_losses, label='Validation Loss')\n",
    "        plt.xlabel('Epoch')\n",
    "        # plt.xticks()\n",
    "        plt.ylabel('Loss')\n",
    "        plt.title('Training and Validation Loss')\n",
    "        plt.legend()\n",
    "        plt.savefig(save_fig_losses)\n",
    "    \n",
    "    def checkpoint(self, valid_lead_acc, valid_class_acc, \n",
    "                   val_total_loss,\n",
    "                   epoch, \n",
    "                   model,\n",
    "                   optimizer,\n",
    "                   check_folder\n",
    "#                    logs\n",
    "                  ):\n",
    "        old_valid_lead_acc = 0\n",
    "        old_valid_class_acc = 0\n",
    "        old_valid_loss = 1e23\n",
    "        if valid_lead_acc >= old_valid_lead_acc and valid_class_acc >= old_valid_class_acc and val_total_loss <= old_valid_loss:\n",
    "            old_valid_lead_acc = valid_lead_acc\n",
    "            old_valid_class_acc = valid_class_acc\n",
    "            old_valid_loss = val_total_loss\n",
    "            save_dict = {\n",
    "                'epoch': epoch,\n",
    "                'model_state_dict': model.state_dict(),\n",
    "                'optimizer_state_dict': optimizer.state_dict(),\n",
    "                'loss': val_total_loss,\n",
    "                'val_lead_acc': valid_lead_acc,\n",
    "                'val_class_acc': valid_class_acc\n",
    "            }\n",
    "            \n",
    "         # Saving best model\n",
    "        now = datetime.now().strftime(\"%m-%d-%Y - %H-%M-%S\")\n",
    "        run_dir = os.getcwd() + f\"/{check_folder}\"\n",
    "        if not os.path.exists(run_dir):\n",
    "            os.mkdir(run_dir)\n",
    "        save_dir = run_dir + f\"/{now}\"\n",
    "        if not os.path.exists(save_dir):\n",
    "            os.mkdir(save_dir)\n",
    "        save_best_model_dir = save_dir + \"\\save_best_model\"\n",
    "        if not os.path.exists(save_best_model_dir):\n",
    "            os.mkdir(save_best_model_dir)\n",
    "        save_best_model_path = save_best_model_dir + f\"/{save_dict['loss']:>7f}_{save_dict['val_lead_acc']:>7f}_{save_dict['val_class_acc']:>7f}_{now}.pt\"\n",
    "        torch.save(save_dict, save_best_model_path)\n",
    "\n",
    "#         config_path = save_dir + '/config.json'\n",
    "#         with open(config_path, mode='w') as file:\n",
    "#             json.dump(vars(args), file)\n",
    "    \n",
    "    def evaluation(self):\n",
    "        \n",
    "        self.model.eval()\n",
    "        \n",
    "        y1_eval = [] \n",
    "        y2_eval = []\n",
    "        pred1_eval = []\n",
    "        pred2_eval = []\n",
    "        \n",
    "        with torch.no_grad():\n",
    "            for batch, (y1, y2, X) in tqdm(enumerate(self.test_data)):\n",
    "                batch_cnt = batch\n",
    "                \n",
    "                y1, y2 = y1.to(self.device), y2.to(self.device)\n",
    "                pred1, pred2 = self.model((X/255).to(self.device))\n",
    "                \n",
    "                y1_eval.append(torch.argmax(y1, dim=1)[0])\n",
    "                y2_eval.append(torch.argmax(y2, dim=1)[0])\n",
    "                pred1_eval.append(torch.argmax(pred1, dim=1)[0])\n",
    "                pred2_eval.append(torch.argmax(pred2, dim=1)[0])\n",
    "                \n",
    "            y1_eval = torch.stack(y1_eval)\n",
    "            y2_eval = torch.stack(y2_eval)\n",
    "            pred1_eval = torch.stack(pred1_eval)\n",
    "            pred2_eval = torch.stack(pred2_eval)\n",
    "                \n",
    "            pred1 = torch.nn.functional.one_hot(pred1_eval, num_classes = 12)\n",
    "            pred2 = torch.nn.functional.one_hot(pred2_eval, num_classes = 9)\n",
    "            y1 = torch.nn.functional.one_hot(y1_eval, num_classes = 12)\n",
    "            y2 = torch.nn.functional.one_hot(y2_eval, num_classes = 9)\n",
    "            print(y1)\n",
    "            print(y2)\n",
    "            print(pred1)\n",
    "            print(pred2)\n",
    "            print(y2_eval)\n",
    "            print(pred2_eval)\n",
    "            print(torch.argmax(y1, dim=1).cpu().numpy()[0].tolist())\n",
    "            print(torch.argmax(y1, dim=1).cpu().numpy().tolist())\n",
    "            \n",
    "            # Classification report\n",
    "            for i in range (len(class_la)):\n",
    "                class_la[i] = str(class_la[i])\n",
    "\n",
    "            # Classification report\n",
    "            print(classification_report(\n",
    "                torch.argmax(y1, dim=1).cpu().numpy().tolist(), \n",
    "                torch.argmax(pred1, dim=1).cpu().numpy().tolist(),\n",
    "                target_names=lead))    \n",
    "            \n",
    "\n",
    "            print(classification_report(\n",
    "                torch.argmax(y2, dim=1).cpu().numpy().tolist(), \n",
    "                torch.argmax(pred2, dim=1).cpu().numpy().tolist(), \n",
    "                target_names=class_la)) \n",
    "\n",
    "            # Confusion Matrix\n",
    "            ConfusionMatrixDisplay.from_predictions(torch.argmax(y1, dim=1).cpu().numpy().tolist(), torch.argmax(pred1, dim=1).cpu().numpy().tolist(), cmap = \"PuBuGn\")\n",
    "            plt.show()\n",
    "\n",
    "            ConfusionMatrixDisplay.from_predictions(torch.argmax(y2, dim=1).cpu().numpy().tolist(), torch.argmax(pred2, dim=1).cpu().numpy().tolist(), cmap = \"PuBuGn\")\n",
    "            plt.show()\n",
    "\n",
    "            # ROC Curve\n",
    "            for i in range(12):\n",
    "                r1 = roc_auc_score(y1[:, i].cpu(), pred1[:, i].cpu())\n",
    "                print(\"The ROC AUC score of \"+ lead[i] +\" is: \"+str(r1))\n",
    "\n",
    "            for i in range(9):\n",
    "                r2 = roc_auc_score(y2[:, i].cpu(), pred2[:, i].cpu())\n",
    "                print(\"The ROC AUC score of \"+ class_la[i] +\" is: \"+str(r2))\n",
    "\n",
    "            # Compute ROC curve and ROC area for each lead\n",
    "            lead_fpr = {}\n",
    "            lead_tpr = {}\n",
    "            roc_auc = {}\n",
    "            lead_roc_auc = dict()\n",
    "            for i in range(12):\n",
    "                lead_fpr[i], lead_tpr[i], _ = roc_curve(y1[:, i].cpu(), pred1[:, i].cpu(), drop_intermediate=False)\n",
    "                roc_auc[i] = auc(lead_fpr[i], lead_tpr[i])\n",
    "\n",
    "            plt.plot(lead_fpr[0], lead_tpr[0],'turquoise',label=f'I: ROC curve of {lead[0]} (area = %0.2f)' % roc_auc[0])\n",
    "            plt.plot(lead_fpr[1], lead_tpr[1],'peachpuff',label=f'II: ROC curve of {lead[1]} (area = %0.2f)' % roc_auc[1])\n",
    "            plt.plot(lead_fpr[2], lead_tpr[2],'paleturquoise',label=f'III: ROC curve of {lead[2]} (area = %0.2f)' % roc_auc[2])\n",
    "            plt.plot(lead_fpr[3], lead_tpr[3],'pink',label=f'aVR: ROC curve of {lead[3]} (area = %0.2f)' % roc_auc[3])\n",
    "            plt.plot(lead_fpr[4], lead_tpr[4],'lightcoral',label=f'aVL: ROC curve of {lead[4]} (area = %0.2f)' % roc_auc[4])\n",
    "            plt.plot(lead_fpr[5], lead_tpr[5],'peachpuff',label=f'aVF: ROC curve of {lead[5]} (area = %0.2f)' % roc_auc[5])\n",
    "            plt.plot(lead_fpr[6], lead_tpr[6],'steelblue',label=f'V1: ROC curve of {lead[6]} (area = %0.2f)' % roc_auc[6])\n",
    "            plt.plot(lead_fpr[7], lead_tpr[7],'forestgreen',label=f'V2: ROC curve of {lead[7]} (area = %0.2f)' % roc_auc[7])\n",
    "            plt.plot(lead_fpr[8], lead_tpr[8],'darkslategray',label=f'V3: ROC curve of {lead[8]} (area = %0.2f)' % roc_auc[8])\n",
    "            plt.plot(lead_fpr[9], lead_tpr[9],'orange',label=f'V4: ROC curve of {lead[9]} (area = %0.2f)' % roc_auc[9])\n",
    "            plt.plot(lead_fpr[10], lead_tpr[10],'maroon',label=f'V5: ROC curve of {lead[10]} (area = %0.2f)' % roc_auc[10])\n",
    "            plt.plot(lead_fpr[11], lead_tpr[11],'navy',label=f'V6: ROC curve of {lead[11]} (area = %0.2f)' % roc_auc[11])\n",
    "\n",
    "            plt.plot([0, 1], [0, 1], 'k--')\n",
    "            plt.xlim([-0.1, 1.1])\n",
    "            plt.ylim([-0.1, 1.1])\n",
    "            plt.xlabel('False Positive Rate')\n",
    "            plt.ylabel('True Positive Rate')\n",
    "            plt.title('Receiver operating characteristic of class')\n",
    "            plt.legend(loc=\"lower right\")\n",
    "            plt.show()\n",
    "\n",
    "            # Compute ROC curve and ROC area for each class\n",
    "            class_fpr = {}\n",
    "            class_tpr = {}\n",
    "            class_roc_auc = dict()\n",
    "            for i in range(9):\n",
    "                class_fpr[i], class_tpr[i], _ = roc_curve(y2[:, i].cpu(), pred2[:, i].cpu(), drop_intermediate=False)\n",
    "                roc_auc[i] = auc(class_fpr[i], class_tpr[i])\n",
    "\n",
    "            plt.plot(class_fpr[0], class_tpr[0],'turquoise',label='1: ROC curve of class 1 (area = %0.2f)' % roc_auc[0])\n",
    "            plt.plot(class_fpr[1], class_tpr[1],'peachpuff',label='2: ROC curve of class 2 (area = %0.2f)' % roc_auc[1])\n",
    "            plt.plot(class_fpr[2], class_tpr[2],'paleturquoise',label='3: ROC curve of class 3 (area = %0.2f)' % roc_auc[2])\n",
    "            plt.plot(class_fpr[3], class_tpr[3],'pink',label='4: ROC curve of class 4 (area = %0.2f)' % roc_auc[3])\n",
    "            plt.plot(class_fpr[4], class_tpr[4],'lightcoral',label='5: ROC curve of class 5 (area = %0.2f)' % roc_auc[4])\n",
    "            plt.plot(class_fpr[5], class_tpr[5],'peachpuff',label='6: ROC curve of class 6 (area = %0.2f)' % roc_auc[5])\n",
    "            plt.plot(class_fpr[6], class_tpr[6],'steelblue',label='7: ROC curve of class 7 (area = %0.2f)' % roc_auc[6])\n",
    "            plt.plot(class_fpr[7], class_tpr[7],'forestgreen',label='8: ROC curve of class 8 (area = %0.2f)' % roc_auc[6])\n",
    "            plt.plot(class_fpr[8], class_tpr[8],'darkslategray',label='9: ROC curve of class 9 (area = %0.2f)' % roc_auc[6])\n",
    "\n",
    "            plt.plot([0, 1], [0, 1], 'k--')\n",
    "            plt.xlim([-0.1, 1.1])\n",
    "            plt.ylim([-0.1, 1.1])\n",
    "            plt.xlabel('False Positive Rate')\n",
    "            plt.ylabel('True Positive Rate')\n",
    "            plt.title('Receiver operating characteristic of lead')\n",
    "            plt.legend(loc=\"lower right\")\n",
    "            plt.show()          "
   ]
  },
  {
   "cell_type": "code",
   "execution_count": 27,
   "id": "dafd1b07",
   "metadata": {},
   "outputs": [
    {
     "name": "stderr",
     "output_type": "stream",
     "text": [
      "1098it [03:50,  4.77it/s]\n"
     ]
    },
    {
     "name": "stdout",
     "output_type": "stream",
     "text": [
      "Epoch: 0 - Train Loss: 4.695856094360352 - Train class acc: 0.11568110851479359 - Train lead acc: 0.0860655737704918\n"
     ]
    },
    {
     "name": "stderr",
     "output_type": "stream",
     "text": [
      "1098it [03:47,  4.82it/s]\n"
     ]
    },
    {
     "name": "stdout",
     "output_type": "stream",
     "text": [
      "Epoch: 1 - Train Loss: 4.690061569213867 - Train class acc: 0.12467473328710688 - Train lead acc: 0.09409966172552066\n"
     ]
    },
    {
     "name": "stderr",
     "output_type": "stream",
     "text": [
      "1098it [03:48,  4.81it/s]\n"
     ]
    },
    {
     "name": "stdout",
     "output_type": "stream",
     "text": [
      "Epoch: 2 - Train Loss: 4.6933698654174805 - Train class acc: 0.12796805881113085 - Train lead acc: 0.0989380041663221\n"
     ]
    },
    {
     "name": "stderr",
     "output_type": "stream",
     "text": [
      "1098it [03:48,  4.81it/s]\n"
     ]
    },
    {
     "name": "stdout",
     "output_type": "stream",
     "text": [
      "Epoch: 3 - Train Loss: 4.662766456604004 - Train class acc: 0.13800253708234467 - Train lead acc: 0.10655737704918032\n"
     ]
    },
    {
     "name": "stderr",
     "output_type": "stream",
     "text": [
      "1098it [03:48,  4.81it/s]\n"
     ]
    },
    {
     "name": "stdout",
     "output_type": "stream",
     "text": [
      "Epoch: 4 - Train Loss: 4.706701755523682 - Train class acc: 0.14584146500420916 - Train lead acc: 0.11316842310985581\n"
     ]
    },
    {
     "name": "stderr",
     "output_type": "stream",
     "text": [
      "1098it [03:48,  4.81it/s]\n"
     ]
    },
    {
     "name": "stdout",
     "output_type": "stream",
     "text": [
      "Epoch: 5 - Train Loss: 4.72249698638916 - Train class acc: 0.15376170960768976 - Train lead acc: 0.12278005464480875\n"
     ]
    },
    {
     "name": "stderr",
     "output_type": "stream",
     "text": [
      "1098it [03:48,  4.80it/s]\n"
     ]
    },
    {
     "name": "stdout",
     "output_type": "stream",
     "text": [
      "Epoch: 6 - Train Loss: 4.685144424438477 - Train class acc: 0.16617063492645115 - Train lead acc: 0.13612412178179822\n"
     ]
    },
    {
     "name": "stderr",
     "output_type": "stream",
     "text": [
      "1098it [03:48,  4.81it/s]\n"
     ]
    },
    {
     "name": "stdout",
     "output_type": "stream",
     "text": [
      "Epoch: 7 - Train Loss: 4.591561317443848 - Train class acc: 0.18178343743031578 - Train lead acc: 0.15159868592827264\n"
     ]
    },
    {
     "name": "stderr",
     "output_type": "stream",
     "text": [
      "1098it [03:48,  4.81it/s]\n"
     ]
    },
    {
     "name": "stdout",
     "output_type": "stream",
     "text": [
      "Epoch: 8 - Train Loss: 4.536474704742432 - Train class acc: 0.198347645080589 - Train lead acc: 0.17016328389473084\n"
     ]
    },
    {
     "name": "stderr",
     "output_type": "stream",
     "text": [
      "1098it [03:48,  4.81it/s]\n"
     ]
    },
    {
     "name": "stdout",
     "output_type": "stream",
     "text": [
      "Epoch: 9 - Train Loss: 4.687395095825195 - Train class acc: 0.21774167317781726 - Train lead acc: 0.1850686312834639\n"
     ]
    },
    {
     "name": "stderr",
     "output_type": "stream",
     "text": [
      "1098it [03:48,  4.81it/s]\n"
     ]
    },
    {
     "name": "stdout",
     "output_type": "stream",
     "text": [
      "Epoch: 10 - Train Loss: 4.632169723510742 - Train class acc: 0.23771304970366272 - Train lead acc: 0.19977068697494235\n"
     ]
    },
    {
     "name": "stderr",
     "output_type": "stream",
     "text": [
      "1098it [03:48,  4.81it/s]\n"
     ]
    },
    {
     "name": "stdout",
     "output_type": "stream",
     "text": [
      "Epoch: 11 - Train Loss: 4.525282859802246 - Train class acc: 0.2590261514558167 - Train lead acc: 0.2186524199902034\n"
     ]
    },
    {
     "name": "stderr",
     "output_type": "stream",
     "text": [
      "1098it [03:48,  4.81it/s]\n"
     ]
    },
    {
     "name": "stdout",
     "output_type": "stream",
     "text": [
      "Epoch: 12 - Train Loss: 4.469931125640869 - Train class acc: 0.27394776217273026 - Train lead acc: 0.23197209212135095\n"
     ]
    },
    {
     "name": "stderr",
     "output_type": "stream",
     "text": [
      "1098it [03:48,  4.81it/s]\n"
     ]
    },
    {
     "name": "stdout",
     "output_type": "stream",
     "text": [
      "Epoch: 13 - Train Loss: 4.430507659912109 - Train class acc: 0.2900484647527201 - Train lead acc: 0.2465521727836197\n"
     ]
    },
    {
     "name": "stderr",
     "output_type": "stream",
     "text": [
      "1098it [03:48,  4.81it/s]\n"
     ]
    },
    {
     "name": "stdout",
     "output_type": "stream",
     "text": [
      "Epoch: 14 - Train Loss: 4.640477657318115 - Train class acc: 0.3081983476470077 - Train lead acc: 0.2540007806459411\n"
     ]
    },
    {
     "name": "stderr",
     "output_type": "stream",
     "text": [
      "1098it [03:48,  4.81it/s]\n"
     ]
    },
    {
     "name": "stdout",
     "output_type": "stream",
     "text": [
      "Epoch: 15 - Train Loss: 4.164031028747559 - Train class acc: 0.324063231873382 - Train lead acc: 0.26826372625940703\n"
     ]
    },
    {
     "name": "stderr",
     "output_type": "stream",
     "text": [
      "1098it [03:48,  4.80it/s]\n"
     ]
    },
    {
     "name": "stdout",
     "output_type": "stream",
     "text": [
      "Epoch: 16 - Train Loss: 4.314075469970703 - Train class acc: 0.33860265418805713 - Train lead acc: 0.2750943273523032\n"
     ]
    },
    {
     "name": "stderr",
     "output_type": "stream",
     "text": [
      "1098it [03:48,  4.81it/s]\n"
     ]
    },
    {
     "name": "stdout",
     "output_type": "stream",
     "text": [
      "Epoch: 17 - Train Loss: 4.529565811157227 - Train class acc: 0.35136124122555357 - Train lead acc: 0.28569802238125835\n"
     ]
    },
    {
     "name": "stderr",
     "output_type": "stream",
     "text": [
      "1098it [03:48,  4.81it/s]\n"
     ]
    },
    {
     "name": "stdout",
     "output_type": "stream",
     "text": [
      "Epoch: 18 - Train Loss: 4.273880958557129 - Train class acc: 0.3662909836065574 - Train lead acc: 0.2947160421661992\n"
     ]
    },
    {
     "name": "stderr",
     "output_type": "stream",
     "text": [
      "1098it [03:48,  4.81it/s]\n"
     ]
    },
    {
     "name": "stdout",
     "output_type": "stream",
     "text": [
      "Epoch: 19 - Train Loss: 4.49522066116333 - Train class acc: 0.3757643767909057 - Train lead acc: 0.30120511320445054\n"
     ]
    },
    {
     "name": "stderr",
     "output_type": "stream",
     "text": [
      "1098it [03:48,  4.80it/s]\n"
     ]
    },
    {
     "name": "stdout",
     "output_type": "stream",
     "text": [
      "Epoch: 20 - Train Loss: 4.227099418640137 - Train class acc: 0.3876366120218579 - Train lead acc: 0.3105809263654311\n"
     ]
    },
    {
     "name": "stderr",
     "output_type": "stream",
     "text": [
      "1098it [03:48,  4.81it/s]\n"
     ]
    },
    {
     "name": "stdout",
     "output_type": "stream",
     "text": [
      "Epoch: 21 - Train Loss: 4.218618392944336 - Train class acc: 0.4017857142973467 - Train lead acc: 0.31715131408529856\n"
     ]
    },
    {
     "name": "stderr",
     "output_type": "stream",
     "text": [
      "1098it [03:48,  4.80it/s]\n"
     ]
    },
    {
     "name": "stdout",
     "output_type": "stream",
     "text": [
      "Epoch: 22 - Train Loss: 4.438477516174316 - Train class acc: 0.40913674213630036 - Train lead acc: 0.32338017174373557\n"
     ]
    },
    {
     "name": "stderr",
     "output_type": "stream",
     "text": [
      "1098it [03:48,  4.81it/s]\n"
     ]
    },
    {
     "name": "stdout",
     "output_type": "stream",
     "text": [
      "Epoch: 23 - Train Loss: 4.258450508117676 - Train class acc: 0.4183011319359361 - Train lead acc: 0.33094262295081966\n"
     ]
    },
    {
     "name": "stderr",
     "output_type": "stream",
     "text": [
      "1098it [03:48,  4.81it/s]\n"
     ]
    },
    {
     "name": "stdout",
     "output_type": "stream",
     "text": [
      "Epoch: 24 - Train Loss: 4.327910423278809 - Train class acc: 0.4245218579234973 - Train lead acc: 0.33700884726638136\n"
     ]
    },
    {
     "name": "stderr",
     "output_type": "stream",
     "text": [
      "1098it [03:48,  4.81it/s]\n"
     ]
    },
    {
     "name": "stdout",
     "output_type": "stream",
     "text": [
      "Epoch: 25 - Train Loss: 4.125775337219238 - Train class acc: 0.43902875358181137 - Train lead acc: 0.33969229769185594\n"
     ]
    },
    {
     "name": "stderr",
     "output_type": "stream",
     "text": [
      "1098it [03:48,  4.81it/s]\n"
     ]
    },
    {
     "name": "stdout",
     "output_type": "stream",
     "text": [
      "Epoch: 26 - Train Loss: 4.397661209106445 - Train class acc: 0.44757513661202186 - Train lead acc: 0.34137555295923805\n"
     ]
    },
    {
     "name": "stderr",
     "output_type": "stream",
     "text": [
      "1098it [03:48,  4.80it/s]\n"
     ]
    },
    {
     "name": "stdout",
     "output_type": "stream",
     "text": [
      "Epoch: 27 - Train Loss: 4.285195350646973 - Train class acc: 0.45865860005979764 - Train lead acc: 0.3515889279286501\n"
     ]
    },
    {
     "name": "stderr",
     "output_type": "stream",
     "text": [
      "1098it [03:48,  4.80it/s]\n"
     ]
    },
    {
     "name": "stdout",
     "output_type": "stream",
     "text": [
      "Epoch: 28 - Train Loss: 4.051804065704346 - Train class acc: 0.4625943273523032 - Train lead acc: 0.35353239656906094\n"
     ]
    },
    {
     "name": "stderr",
     "output_type": "stream",
     "text": [
      "1098it [03:48,  4.80it/s]\n"
     ]
    },
    {
     "name": "stdout",
     "output_type": "stream",
     "text": [
      "Epoch: 29 - Train Loss: 4.127025127410889 - Train class acc: 0.47484061930783245 - Train lead acc: 0.35689890710382516\n"
     ]
    },
    {
     "name": "stderr",
     "output_type": "stream",
     "text": [
      "1098it [03:48,  4.81it/s]\n"
     ]
    },
    {
     "name": "stdout",
     "output_type": "stream",
     "text": [
      "Epoch: 30 - Train Loss: 4.306998252868652 - Train class acc: 0.48048399690070437 - Train lead acc: 0.3618104345621524\n"
     ]
    },
    {
     "name": "stderr",
     "output_type": "stream",
     "text": [
      "1098it [03:48,  4.81it/s]\n"
     ]
    },
    {
     "name": "stdout",
     "output_type": "stream",
     "text": [
      "Epoch: 31 - Train Loss: 4.004485607147217 - Train class acc: 0.4848181758964865 - Train lead acc: 0.3675432604735883\n"
     ]
    },
    {
     "name": "stderr",
     "output_type": "stream",
     "text": [
      "1098it [03:48,  4.80it/s]\n"
     ]
    },
    {
     "name": "stdout",
     "output_type": "stream",
     "text": [
      "Epoch: 32 - Train Loss: 4.214903831481934 - Train class acc: 0.4925920504852722 - Train lead acc: 0.36582747853627406\n"
     ]
    },
    {
     "name": "stderr",
     "output_type": "stream",
     "text": [
      "1098it [03:48,  4.80it/s]\n"
     ]
    },
    {
     "name": "stdout",
     "output_type": "stream",
     "text": [
      "Epoch: 33 - Train Loss: 4.1503448486328125 - Train class acc: 0.4995364949297167 - Train lead acc: 0.3719587561917001\n"
     ]
    },
    {
     "name": "stderr",
     "output_type": "stream",
     "text": [
      "1098it [03:48,  4.80it/s]\n"
     ]
    },
    {
     "name": "stdout",
     "output_type": "stream",
     "text": [
      "Epoch: 34 - Train Loss: 3.9217445850372314 - Train class acc: 0.5075787145691926 - Train lead acc: 0.3757969034608379\n"
     ]
    },
    {
     "name": "stderr",
     "output_type": "stream",
     "text": [
      "1098it [03:48,  4.80it/s]\n"
     ]
    },
    {
     "name": "stdout",
     "output_type": "stream",
     "text": [
      "Epoch: 35 - Train Loss: 4.083324909210205 - Train class acc: 0.5145719489981785 - Train lead acc: 0.37664259693335966\n"
     ]
    },
    {
     "name": "stderr",
     "output_type": "stream",
     "text": [
      "1098it [03:48,  4.80it/s]\n"
     ]
    },
    {
     "name": "stdout",
     "output_type": "stream",
     "text": [
      "Epoch: 36 - Train Loss: 4.314546585083008 - Train class acc: 0.5138157038849342 - Train lead acc: 0.37987086912430484\n"
     ]
    },
    {
     "name": "stderr",
     "output_type": "stream",
     "text": [
      "1098it [03:48,  4.81it/s]\n"
     ]
    },
    {
     "name": "stdout",
     "output_type": "stream",
     "text": [
      "Epoch: 37 - Train Loss: 4.118413925170898 - Train class acc: 0.5249072989968003 - Train lead acc: 0.384457129869739\n"
     ]
    },
    {
     "name": "stderr",
     "output_type": "stream",
     "text": [
      "1098it [03:48,  4.80it/s]\n"
     ]
    },
    {
     "name": "stdout",
     "output_type": "stream",
     "text": [
      "Epoch: 38 - Train Loss: 4.233880043029785 - Train class acc: 0.5284120479025258 - Train lead acc: 0.38418878480547763\n"
     ]
    },
    {
     "name": "stderr",
     "output_type": "stream",
     "text": [
      "1098it [03:48,  4.81it/s]\n"
     ]
    },
    {
     "name": "stdout",
     "output_type": "stream",
     "text": [
      "Epoch: 39 - Train Loss: 4.094294548034668 - Train class acc: 0.5356248373705181 - Train lead acc: 0.3929709862164461\n"
     ]
    },
    {
     "name": "stderr",
     "output_type": "stream",
     "text": [
      "1098it [03:48,  4.80it/s]\n"
     ]
    },
    {
     "name": "stdout",
     "output_type": "stream",
     "text": [
      "Epoch: 40 - Train Loss: 4.145437717437744 - Train class acc: 0.5368445875540457 - Train lead acc: 0.38886449389661815\n"
     ]
    },
    {
     "name": "stderr",
     "output_type": "stream",
     "text": [
      "1098it [03:48,  4.81it/s]\n"
     ]
    },
    {
     "name": "stdout",
     "output_type": "stream",
     "text": [
      "Epoch: 41 - Train Loss: 4.132613182067871 - Train class acc: 0.5438784803577676 - Train lead acc: 0.3961016783840235\n"
     ]
    },
    {
     "name": "stderr",
     "output_type": "stream",
     "text": [
      "1098it [03:48,  4.80it/s]\n"
     ]
    },
    {
     "name": "stdout",
     "output_type": "stream",
     "text": [
      "Epoch: 42 - Train Loss: 4.0817975997924805 - Train class acc: 0.543911007041271 - Train lead acc: 0.39524785324741146\n"
     ]
    },
    {
     "name": "stderr",
     "output_type": "stream",
     "text": [
      "1098it [03:48,  4.80it/s]\n"
     ]
    },
    {
     "name": "stdout",
     "output_type": "stream",
     "text": [
      "Epoch: 43 - Train Loss: 4.222622871398926 - Train class acc: 0.5484403460837887 - Train lead acc: 0.39506895655599883\n"
     ]
    },
    {
     "name": "stderr",
     "output_type": "stream",
     "text": [
      "1098it [03:48,  4.80it/s]\n"
     ]
    },
    {
     "name": "stdout",
     "output_type": "stream",
     "text": [
      "Epoch: 44 - Train Loss: 4.220801830291748 - Train class acc: 0.5577185792349727 - Train lead acc: 0.39467050482557986\n"
     ]
    },
    {
     "name": "stderr",
     "output_type": "stream",
     "text": [
      "1098it [03:48,  4.81it/s]\n"
     ]
    },
    {
     "name": "stdout",
     "output_type": "stream",
     "text": [
      "Epoch: 45 - Train Loss: 4.2428131103515625 - Train class acc: 0.5607760863985954 - Train lead acc: 0.4011189175162376\n"
     ]
    },
    {
     "name": "stderr",
     "output_type": "stream",
     "text": [
      "1098it [03:48,  4.81it/s]\n"
     ]
    },
    {
     "name": "stdout",
     "output_type": "stream",
     "text": [
      "Epoch: 46 - Train Loss: 4.061785697937012 - Train class acc: 0.5656469554957579 - Train lead acc: 0.4031599661800162\n"
     ]
    },
    {
     "name": "stderr",
     "output_type": "stream",
     "text": [
      "1098it [03:48,  4.81it/s]\n"
     ]
    },
    {
     "name": "stdout",
     "output_type": "stream",
     "text": [
      "Epoch: 47 - Train Loss: 3.9829697608947754 - Train class acc: 0.5669317590462922 - Train lead acc: 0.4016474759535277\n"
     ]
    },
    {
     "name": "stderr",
     "output_type": "stream",
     "text": [
      "1098it [03:48,  4.81it/s]\n"
     ]
    },
    {
     "name": "stdout",
     "output_type": "stream",
     "text": [
      "Epoch: 48 - Train Loss: 3.999824047088623 - Train class acc: 0.5756001171192836 - Train lead acc: 0.40720140515997977\n"
     ]
    },
    {
     "name": "stderr",
     "output_type": "stream",
     "text": [
      "1098it [03:48,  4.80it/s]\n"
     ]
    },
    {
     "name": "stdout",
     "output_type": "stream",
     "text": [
      "Epoch: 49 - Train Loss: 4.0117292404174805 - Train class acc: 0.5745673952641166 - Train lead acc: 0.40625\n"
     ]
    },
    {
     "name": "stderr",
     "output_type": "stream",
     "text": [
      "1098it [03:48,  4.81it/s]\n"
     ]
    },
    {
     "name": "stdout",
     "output_type": "stream",
     "text": [
      "Epoch: 50 - Train Loss: 4.115788459777832 - Train class acc: 0.5791211293260473 - Train lead acc: 0.407713700241947\n"
     ]
    },
    {
     "name": "stderr",
     "output_type": "stream",
     "text": [
      "1098it [03:48,  4.81it/s]\n"
     ]
    },
    {
     "name": "stdout",
     "output_type": "stream",
     "text": [
      "Epoch: 51 - Train Loss: 3.8480491638183594 - Train class acc: 0.5836423367316171 - Train lead acc: 0.40943761384335153\n"
     ]
    },
    {
     "name": "stderr",
     "output_type": "stream",
     "text": [
      "1098it [03:48,  4.80it/s]\n"
     ]
    },
    {
     "name": "stdout",
     "output_type": "stream",
     "text": [
      "Epoch: 52 - Train Loss: 4.081735134124756 - Train class acc: 0.5797553994507955 - Train lead acc: 0.40873829040588144\n"
     ]
    },
    {
     "name": "stderr",
     "output_type": "stream",
     "text": [
      "1098it [03:48,  4.80it/s]\n"
     ]
    },
    {
     "name": "stdout",
     "output_type": "stream",
     "text": [
      "Epoch: 53 - Train Loss: 4.069355487823486 - Train class acc: 0.5824469815403603 - Train lead acc: 0.4138693728896438\n"
     ]
    },
    {
     "name": "stderr",
     "output_type": "stream",
     "text": [
      "1098it [03:48,  4.80it/s]\n"
     ]
    },
    {
     "name": "stdout",
     "output_type": "stream",
     "text": [
      "Epoch: 54 - Train Loss: 3.882556915283203 - Train class acc: 0.5863176554930015 - Train lead acc: 0.4143328779599271\n"
     ]
    },
    {
     "name": "stderr",
     "output_type": "stream",
     "text": [
      "1098it [03:48,  4.80it/s]\n"
     ]
    },
    {
     "name": "stdout",
     "output_type": "stream",
     "text": [
      "Epoch: 55 - Train Loss: 3.864661693572998 - Train class acc: 0.5904892011526938 - Train lead acc: 0.4153818631432747\n"
     ]
    },
    {
     "name": "stderr",
     "output_type": "stream",
     "text": [
      "1098it [03:48,  4.80it/s]\n"
     ]
    },
    {
     "name": "stdout",
     "output_type": "stream",
     "text": [
      "Epoch: 56 - Train Loss: 4.166102409362793 - Train class acc: 0.5912454462659381 - Train lead acc: 0.4129342310714157\n"
     ]
    },
    {
     "name": "stderr",
     "output_type": "stream",
     "text": [
      "1098it [03:48,  4.80it/s]\n"
     ]
    },
    {
     "name": "stdout",
     "output_type": "stream",
     "text": [
      "Epoch: 57 - Train Loss: 3.9951305389404297 - Train class acc: 0.5938231850039546 - Train lead acc: 0.41637392662370576\n"
     ]
    },
    {
     "name": "stderr",
     "output_type": "stream",
     "text": [
      "1098it [03:48,  4.80it/s]\n"
     ]
    },
    {
     "name": "stdout",
     "output_type": "stream",
     "text": [
      "Epoch: 58 - Train Loss: 4.038705348968506 - Train class acc: 0.5952706219177212 - Train lead acc: 0.41467440801457195\n"
     ]
    },
    {
     "name": "stderr",
     "output_type": "stream",
     "text": [
      "1098it [03:48,  4.80it/s]\n"
     ]
    },
    {
     "name": "stdout",
     "output_type": "stream",
     "text": [
      "Epoch: 59 - Train Loss: 4.246471405029297 - Train class acc: 0.6022313296903461 - Train lead acc: 0.41641458497129935\n"
     ]
    },
    {
     "name": "stderr",
     "output_type": "stream",
     "text": [
      "1098it [03:48,  4.80it/s]\n"
     ]
    },
    {
     "name": "stdout",
     "output_type": "stream",
     "text": [
      "Epoch: 60 - Train Loss: 4.152160167694092 - Train class acc: 0.6012961878856892 - Train lead acc: 0.41763433515482695\n"
     ]
    },
    {
     "name": "stderr",
     "output_type": "stream",
     "text": [
      "1098it [03:48,  4.80it/s]\n"
     ]
    },
    {
     "name": "stdout",
     "output_type": "stream",
     "text": [
      "Epoch: 61 - Train Loss: 3.980001449584961 - Train class acc: 0.6027436247723132 - Train lead acc: 0.421626984150249\n"
     ]
    },
    {
     "name": "stderr",
     "output_type": "stream",
     "text": [
      "1098it [03:48,  4.80it/s]\n"
     ]
    },
    {
     "name": "stdout",
     "output_type": "stream",
     "text": [
      "Epoch: 62 - Train Loss: 4.089389801025391 - Train class acc: 0.607020882146606 - Train lead acc: 0.4227328909822283\n"
     ]
    },
    {
     "name": "stderr",
     "output_type": "stream",
     "text": [
      "1098it [03:48,  4.81it/s]\n"
     ]
    },
    {
     "name": "stdout",
     "output_type": "stream",
     "text": [
      "Epoch: 63 - Train Loss: 3.9048643112182617 - Train class acc: 0.6042561149988018 - Train lead acc: 0.4225702576189962\n"
     ]
    },
    {
     "name": "stderr",
     "output_type": "stream",
     "text": [
      "1098it [03:48,  4.80it/s]\n"
     ]
    },
    {
     "name": "stdout",
     "output_type": "stream",
     "text": [
      "Epoch: 64 - Train Loss: 3.979703903198242 - Train class acc: 0.6069720921077798 - Train lead acc: 0.4247820713100972\n"
     ]
    },
    {
     "name": "stderr",
     "output_type": "stream",
     "text": [
      "1098it [03:48,  4.80it/s]\n"
     ]
    },
    {
     "name": "stdout",
     "output_type": "stream",
     "text": [
      "Epoch: 65 - Train Loss: 4.013266086578369 - Train class acc: 0.608793585732552 - Train lead acc: 0.42667674993882415\n"
     ]
    },
    {
     "name": "stderr",
     "output_type": "stream",
     "text": [
      "1098it [03:48,  4.80it/s]\n"
     ]
    },
    {
     "name": "stdout",
     "output_type": "stream",
     "text": [
      "Epoch: 66 - Train Loss: 3.9829869270324707 - Train class acc: 0.611298139466614 - Train lead acc: 0.42347287276729206\n"
     ]
    },
    {
     "name": "stderr",
     "output_type": "stream",
     "text": [
      "1098it [03:48,  4.80it/s]\n"
     ]
    },
    {
     "name": "stdout",
     "output_type": "stream",
     "text": [
      "Epoch: 67 - Train Loss: 3.904879093170166 - Train class acc: 0.6167788836691115 - Train lead acc: 0.42667674993882415\n"
     ]
    },
    {
     "name": "stderr",
     "output_type": "stream",
     "text": [
      "1098it [03:48,  4.80it/s]\n"
     ]
    },
    {
     "name": "stdout",
     "output_type": "stream",
     "text": [
      "Epoch: 68 - Train Loss: 3.9290287494659424 - Train class acc: 0.6154371584699454 - Train lead acc: 0.4282705568604999\n"
     ]
    },
    {
     "name": "stderr",
     "output_type": "stream",
     "text": [
      "1098it [03:48,  4.80it/s]\n"
     ]
    },
    {
     "name": "stdout",
     "output_type": "stream",
     "text": [
      "Epoch: 69 - Train Loss: 3.960993528366089 - Train class acc: 0.6144369633254241 - Train lead acc: 0.42201730418943534\n"
     ]
    },
    {
     "name": "stderr",
     "output_type": "stream",
     "text": [
      "1098it [03:48,  4.80it/s]\n"
     ]
    },
    {
     "name": "stdout",
     "output_type": "stream",
     "text": [
      "Epoch: 70 - Train Loss: 3.9168765544891357 - Train class acc: 0.6196818891335923 - Train lead acc: 0.4321412308131411\n"
     ]
    },
    {
     "name": "stderr",
     "output_type": "stream",
     "text": [
      "1098it [03:48,  4.81it/s]\n"
     ]
    },
    {
     "name": "stdout",
     "output_type": "stream",
     "text": [
      "Epoch: 71 - Train Loss: 4.0152177810668945 - Train class acc: 0.6211374577385914 - Train lead acc: 0.42788836848540385\n"
     ]
    },
    {
     "name": "stderr",
     "output_type": "stream",
     "text": [
      "1098it [03:48,  4.80it/s]\n"
     ]
    },
    {
     "name": "stdout",
     "output_type": "stream",
     "text": [
      "Epoch: 72 - Train Loss: 3.9107718467712402 - Train class acc: 0.6175026021259947 - Train lead acc: 0.43077511059456186\n"
     ]
    },
    {
     "name": "stderr",
     "output_type": "stream",
     "text": [
      "1098it [03:48,  4.81it/s]\n"
     ]
    },
    {
     "name": "stdout",
     "output_type": "stream",
     "text": [
      "Epoch: 73 - Train Loss: 3.912292003631592 - Train class acc: 0.6206739526411658 - Train lead acc: 0.4310678506375228\n"
     ]
    },
    {
     "name": "stderr",
     "output_type": "stream",
     "text": [
      "1098it [03:48,  4.80it/s]\n"
     ]
    },
    {
     "name": "stdout",
     "output_type": "stream",
     "text": [
      "Epoch: 74 - Train Loss: 4.056413650512695 - Train class acc: 0.6235281681211051 - Train lead acc: 0.43101906065298123\n"
     ]
    },
    {
     "name": "stderr",
     "output_type": "stream",
     "text": [
      "1098it [03:48,  4.80it/s]\n"
     ]
    },
    {
     "name": "stdout",
     "output_type": "stream",
     "text": [
      "Epoch: 75 - Train Loss: 4.020152568817139 - Train class acc: 0.6242600182149363 - Train lead acc: 0.43264539423101805\n"
     ]
    },
    {
     "name": "stderr",
     "output_type": "stream",
     "text": [
      "1098it [03:48,  4.80it/s]\n"
     ]
    },
    {
     "name": "stdout",
     "output_type": "stream",
     "text": [
      "Epoch: 76 - Train Loss: 4.057284355163574 - Train class acc: 0.625365925074058 - Train lead acc: 0.4348490762444576\n"
     ]
    },
    {
     "name": "stderr",
     "output_type": "stream",
     "text": [
      "1098it [03:48,  4.81it/s]\n"
     ]
    },
    {
     "name": "stdout",
     "output_type": "stream",
     "text": [
      "Epoch: 77 - Train Loss: 3.9101409912109375 - Train class acc: 0.6259758001793929 - Train lead acc: 0.4335236143870432\n"
     ]
    },
    {
     "name": "stderr",
     "output_type": "stream",
     "text": [
      "1098it [03:48,  4.81it/s]\n"
     ]
    },
    {
     "name": "stdout",
     "output_type": "stream",
     "text": [
      "Epoch: 78 - Train Loss: 3.9869863986968994 - Train class acc: 0.6283746421988544 - Train lead acc: 0.43197046578581866\n"
     ]
    },
    {
     "name": "stderr",
     "output_type": "stream",
     "text": [
      "1098it [03:48,  4.81it/s]\n"
     ]
    },
    {
     "name": "stdout",
     "output_type": "stream",
     "text": [
      "Epoch: 79 - Train Loss: 3.9981322288513184 - Train class acc: 0.6285860655737705 - Train lead acc: 0.4323607858521474\n"
     ]
    },
    {
     "name": "stderr",
     "output_type": "stream",
     "text": [
      "1098it [03:48,  4.81it/s]\n"
     ]
    },
    {
     "name": "stdout",
     "output_type": "stream",
     "text": [
      "Epoch: 80 - Train Loss: 3.8533551692962646 - Train class acc: 0.6281632188239384 - Train lead acc: 0.4325559458988829\n"
     ]
    },
    {
     "name": "stderr",
     "output_type": "stream",
     "text": [
      "1098it [03:48,  4.80it/s]\n"
     ]
    },
    {
     "name": "stdout",
     "output_type": "stream",
     "text": [
      "Epoch: 81 - Train Loss: 3.9823646545410156 - Train class acc: 0.6368153135416069 - Train lead acc: 0.4327755009107468\n"
     ]
    },
    {
     "name": "stderr",
     "output_type": "stream",
     "text": [
      "1098it [03:48,  4.80it/s]\n"
     ]
    },
    {
     "name": "stdout",
     "output_type": "stream",
     "text": [
      "Epoch: 82 - Train Loss: 4.111393451690674 - Train class acc: 0.6311963309952905 - Train lead acc: 0.4321981524889152\n"
     ]
    },
    {
     "name": "stderr",
     "output_type": "stream",
     "text": [
      "1098it [03:48,  4.81it/s]\n"
     ]
    },
    {
     "name": "stdout",
     "output_type": "stream",
     "text": [
      "Epoch: 83 - Train Loss: 3.930532455444336 - Train class acc: 0.6356118267134022 - Train lead acc: 0.43400338278550704\n"
     ]
    },
    {
     "name": "stderr",
     "output_type": "stream",
     "text": [
      "1098it [03:48,  4.81it/s]\n"
     ]
    },
    {
     "name": "stdout",
     "output_type": "stream",
     "text": [
      "Epoch: 84 - Train Loss: 3.989490270614624 - Train class acc: 0.6368559718892005 - Train lead acc: 0.4345238095315645\n"
     ]
    },
    {
     "name": "stderr",
     "output_type": "stream",
     "text": [
      "1098it [03:48,  4.82it/s]\n"
     ]
    },
    {
     "name": "stdout",
     "output_type": "stream",
     "text": [
      "Epoch: 85 - Train Loss: 4.112631797790527 - Train class acc: 0.6365469685180591 - Train lead acc: 0.4368169398907104\n"
     ]
    },
    {
     "name": "stderr",
     "output_type": "stream",
     "text": [
      "1098it [03:48,  4.81it/s]\n"
     ]
    },
    {
     "name": "stdout",
     "output_type": "stream",
     "text": [
      "Epoch: 86 - Train Loss: 3.926300048828125 - Train class acc: 0.6392304189435337 - Train lead acc: 0.4335236143870432\n"
     ]
    },
    {
     "name": "stderr",
     "output_type": "stream",
     "text": [
      "1098it [03:48,  4.81it/s]\n"
     ]
    },
    {
     "name": "stdout",
     "output_type": "stream",
     "text": [
      "Epoch: 87 - Train Loss: 3.9648640155792236 - Train class acc: 0.6361159901041368 - Train lead acc: 0.43725604996872297\n"
     ]
    },
    {
     "name": "stderr",
     "output_type": "stream",
     "text": [
      "1098it [03:48,  4.82it/s]\n"
     ]
    },
    {
     "name": "stdout",
     "output_type": "stream",
     "text": [
      "Epoch: 88 - Train Loss: 3.9182634353637695 - Train class acc: 0.6360102784438212 - Train lead acc: 0.4357842180626857\n"
     ]
    },
    {
     "name": "stderr",
     "output_type": "stream",
     "text": [
      "1098it [03:48,  4.82it/s]\n"
     ]
    },
    {
     "name": "stdout",
     "output_type": "stream",
     "text": [
      "Epoch: 89 - Train Loss: 3.8425607681274414 - Train class acc: 0.6383440671505607 - Train lead acc: 0.4386872235271666\n"
     ]
    },
    {
     "name": "stderr",
     "output_type": "stream",
     "text": [
      "1098it [03:48,  4.82it/s]\n"
     ]
    },
    {
     "name": "stdout",
     "output_type": "stream",
     "text": [
      "Epoch: 90 - Train Loss: 3.931861400604248 - Train class acc: 0.6410275175488929 - Train lead acc: 0.43867909186307635\n"
     ]
    },
    {
     "name": "stderr",
     "output_type": "stream",
     "text": [
      "1098it [03:48,  4.81it/s]\n"
     ]
    },
    {
     "name": "stdout",
     "output_type": "stream",
     "text": [
      "Epoch: 91 - Train Loss: 3.8962244987487793 - Train class acc: 0.6428896695212588 - Train lead acc: 0.4368169398907104\n"
     ]
    },
    {
     "name": "stderr",
     "output_type": "stream",
     "text": [
      "1098it [03:48,  4.80it/s]\n"
     ]
    },
    {
     "name": "stdout",
     "output_type": "stream",
     "text": [
      "Epoch: 92 - Train Loss: 3.887518882751465 - Train class acc: 0.6405152224669257 - Train lead acc: 0.440459927140255\n"
     ]
    },
    {
     "name": "stderr",
     "output_type": "stream",
     "text": [
      "1098it [03:48,  4.81it/s]\n"
     ]
    },
    {
     "name": "stdout",
     "output_type": "stream",
     "text": [
      "Epoch: 93 - Train Loss: 4.029315948486328 - Train class acc: 0.642946591197033 - Train lead acc: 0.43810174344124475\n"
     ]
    },
    {
     "name": "stderr",
     "output_type": "stream",
     "text": [
      "1098it [03:47,  4.82it/s]\n"
     ]
    },
    {
     "name": "stdout",
     "output_type": "stream",
     "text": [
      "Epoch: 94 - Train Loss: 3.914442777633667 - Train class acc: 0.6405802758339324 - Train lead acc: 0.4385245901639344\n"
     ]
    },
    {
     "name": "stderr",
     "output_type": "stream",
     "text": [
      "1098it [03:47,  4.82it/s]\n"
     ]
    },
    {
     "name": "stdout",
     "output_type": "stream",
     "text": [
      "Epoch: 95 - Train Loss: 3.9309186935424805 - Train class acc: 0.6434182279314066 - Train lead acc: 0.4394434686675532\n"
     ]
    },
    {
     "name": "stderr",
     "output_type": "stream",
     "text": [
      "1098it [03:48,  4.82it/s]\n"
     ]
    },
    {
     "name": "stdout",
     "output_type": "stream",
     "text": [
      "Epoch: 96 - Train Loss: 3.9445018768310547 - Train class acc: 0.6459797033412427 - Train lead acc: 0.44112672392136415\n"
     ]
    },
    {
     "name": "stderr",
     "output_type": "stream",
     "text": [
      "1098it [03:48,  4.81it/s]\n"
     ]
    },
    {
     "name": "stdout",
     "output_type": "stream",
     "text": [
      "Epoch: 97 - Train Loss: 3.979365110397339 - Train class acc: 0.6458252016692431 - Train lead acc: 0.43965489201532687\n"
     ]
    },
    {
     "name": "stderr",
     "output_type": "stream",
     "text": [
      "1098it [03:48,  4.81it/s]\n"
     ]
    },
    {
     "name": "stdout",
     "output_type": "stream",
     "text": [
      "Epoch: 98 - Train Loss: 3.978222131729126 - Train class acc: 0.6450852198841793 - Train lead acc: 0.439784998722198\n"
     ]
    },
    {
     "name": "stderr",
     "output_type": "stream",
     "text": [
      "1098it [03:48,  4.81it/s]\n"
     ]
    },
    {
     "name": "stdout",
     "output_type": "stream",
     "text": [
      "Epoch: 99 - Train Loss: 4.056270599365234 - Train class acc: 0.6505334374031734 - Train lead acc: 0.44328974760078127\n"
     ]
    },
    {
     "name": "stderr",
     "output_type": "stream",
     "text": [
      "138it [00:13, 10.37it/s]\n"
     ]
    },
    {
     "name": "stdout",
     "output_type": "stream",
     "text": [
      "Val_loss: 4.574581623077393 - Train class acc: 0.12047101449275362 - Train lead acc: 0.08605072463768115\n"
     ]
    },
    {
     "name": "stderr",
     "output_type": "stream",
     "text": [
      "138it [00:13, 10.43it/s]\n"
     ]
    },
    {
     "name": "stdout",
     "output_type": "stream",
     "text": [
      "Val_loss: 4.606259822845459 - Train class acc: 0.11639492753623189 - Train lead acc: 0.07653985507246377\n"
     ]
    },
    {
     "name": "stderr",
     "output_type": "stream",
     "text": [
      "138it [00:13, 10.47it/s]\n"
     ]
    },
    {
     "name": "stdout",
     "output_type": "stream",
     "text": [
      "Val_loss: 4.336701393127441 - Train class acc: 0.12273550724637682 - Train lead acc: 0.08695652173913043\n"
     ]
    },
    {
     "name": "stderr",
     "output_type": "stream",
     "text": [
      "138it [00:13, 10.48it/s]\n"
     ]
    },
    {
     "name": "stdout",
     "output_type": "stream",
     "text": [
      "Val_loss: 4.633018493652344 - Train class acc: 0.12681159420289856 - Train lead acc: 0.08831521739130435\n"
     ]
    },
    {
     "name": "stderr",
     "output_type": "stream",
     "text": [
      "138it [00:13, 10.46it/s]\n"
     ]
    },
    {
     "name": "stdout",
     "output_type": "stream",
     "text": [
      "Val_loss: 4.820884704589844 - Train class acc: 0.12001811594202899 - Train lead acc: 0.08288043478260869\n"
     ]
    },
    {
     "name": "stderr",
     "output_type": "stream",
     "text": [
      "138it [00:13, 10.44it/s]\n"
     ]
    },
    {
     "name": "stdout",
     "output_type": "stream",
     "text": [
      "Val_loss: 4.822043418884277 - Train class acc: 0.11775362318840579 - Train lead acc: 0.08152173913043478\n"
     ]
    },
    {
     "name": "stderr",
     "output_type": "stream",
     "text": [
      "138it [00:13, 10.42it/s]\n"
     ]
    },
    {
     "name": "stdout",
     "output_type": "stream",
     "text": [
      "Val_loss: 4.824358940124512 - Train class acc: 0.11367753623188406 - Train lead acc: 0.07155797101449275\n"
     ]
    },
    {
     "name": "stderr",
     "output_type": "stream",
     "text": [
      "138it [00:13, 10.50it/s]\n"
     ]
    },
    {
     "name": "stdout",
     "output_type": "stream",
     "text": [
      "Val_loss: 4.8188629150390625 - Train class acc: 0.11820652173913043 - Train lead acc: 0.0756340579710145\n"
     ]
    },
    {
     "name": "stderr",
     "output_type": "stream",
     "text": [
      "138it [00:13, 10.46it/s]\n"
     ]
    },
    {
     "name": "stdout",
     "output_type": "stream",
     "text": [
      "Val_loss: 4.853749752044678 - Train class acc: 0.11458333333333333 - Train lead acc: 0.08514492753623189\n"
     ]
    },
    {
     "name": "stderr",
     "output_type": "stream",
     "text": [
      "138it [00:13, 10.45it/s]\n"
     ]
    },
    {
     "name": "stdout",
     "output_type": "stream",
     "text": [
      "Val_loss: 4.831048011779785 - Train class acc: 0.11096014492753623 - Train lead acc: 0.08650362318840579\n"
     ]
    },
    {
     "name": "stderr",
     "output_type": "stream",
     "text": [
      "138it [00:13, 10.47it/s]\n"
     ]
    },
    {
     "name": "stdout",
     "output_type": "stream",
     "text": [
      "Val_loss: 4.5980987548828125 - Train class acc: 0.12364130434782608 - Train lead acc: 0.08152173913043478\n"
     ]
    },
    {
     "name": "stderr",
     "output_type": "stream",
     "text": [
      "138it [00:13, 10.49it/s]\n"
     ]
    },
    {
     "name": "stdout",
     "output_type": "stream",
     "text": [
      "Val_loss: 4.34398078918457 - Train class acc: 0.11639492753623189 - Train lead acc: 0.08016304347826086\n"
     ]
    },
    {
     "name": "stderr",
     "output_type": "stream",
     "text": [
      "138it [00:13, 10.48it/s]\n"
     ]
    },
    {
     "name": "stdout",
     "output_type": "stream",
     "text": [
      "Val_loss: 4.830263137817383 - Train class acc: 0.11548913043478261 - Train lead acc: 0.0792572463768116\n"
     ]
    },
    {
     "name": "stderr",
     "output_type": "stream",
     "text": [
      "138it [00:13, 10.51it/s]\n"
     ]
    },
    {
     "name": "stdout",
     "output_type": "stream",
     "text": [
      "Val_loss: 4.83612060546875 - Train class acc: 0.11458333333333333 - Train lead acc: 0.07971014492753623\n"
     ]
    },
    {
     "name": "stderr",
     "output_type": "stream",
     "text": [
      "138it [00:13, 10.46it/s]\n"
     ]
    },
    {
     "name": "stdout",
     "output_type": "stream",
     "text": [
      "Val_loss: 4.571996688842773 - Train class acc: 0.11684782608695653 - Train lead acc: 0.08605072463768115\n"
     ]
    },
    {
     "name": "stderr",
     "output_type": "stream",
     "text": [
      "138it [00:13, 10.50it/s]\n"
     ]
    },
    {
     "name": "stdout",
     "output_type": "stream",
     "text": [
      "Val_loss: 4.77191686630249 - Train class acc: 0.12092391304347826 - Train lead acc: 0.08016304347826086\n"
     ]
    },
    {
     "name": "stderr",
     "output_type": "stream",
     "text": [
      "138it [00:13, 10.51it/s]\n"
     ]
    },
    {
     "name": "stdout",
     "output_type": "stream",
     "text": [
      "Val_loss: 4.807890892028809 - Train class acc: 0.11548913043478261 - Train lead acc: 0.07653985507246377\n"
     ]
    },
    {
     "name": "stderr",
     "output_type": "stream",
     "text": [
      "138it [00:13, 10.49it/s]\n"
     ]
    },
    {
     "name": "stdout",
     "output_type": "stream",
     "text": [
      "Val_loss: 4.749703407287598 - Train class acc: 0.11277173913043478 - Train lead acc: 0.07880434782608696\n"
     ]
    },
    {
     "name": "stderr",
     "output_type": "stream",
     "text": [
      "138it [00:13, 10.48it/s]\n"
     ]
    },
    {
     "name": "stdout",
     "output_type": "stream",
     "text": [
      "Val_loss: 4.823996543884277 - Train class acc: 0.1082427536231884 - Train lead acc: 0.08831521739130435\n"
     ]
    },
    {
     "name": "stderr",
     "output_type": "stream",
     "text": [
      "138it [00:13, 10.46it/s]\n"
     ]
    },
    {
     "name": "stdout",
     "output_type": "stream",
     "text": [
      "Val_loss: 4.56158447265625 - Train class acc: 0.11367753623188406 - Train lead acc: 0.07789855072463768\n"
     ]
    },
    {
     "name": "stderr",
     "output_type": "stream",
     "text": [
      "138it [00:13, 10.46it/s]\n"
     ]
    },
    {
     "name": "stdout",
     "output_type": "stream",
     "text": [
      "Val_loss: 4.785001754760742 - Train class acc: 0.1213768115942029 - Train lead acc: 0.08197463768115942\n"
     ]
    },
    {
     "name": "stderr",
     "output_type": "stream",
     "text": [
      "138it [00:13, 10.51it/s]\n"
     ]
    },
    {
     "name": "stdout",
     "output_type": "stream",
     "text": [
      "Val_loss: 4.617214202880859 - Train class acc: 0.11458333333333333 - Train lead acc: 0.08242753623188406\n"
     ]
    },
    {
     "name": "stderr",
     "output_type": "stream",
     "text": [
      "138it [00:13, 10.47it/s]\n"
     ]
    },
    {
     "name": "stdout",
     "output_type": "stream",
     "text": [
      "Val_loss: 4.577235221862793 - Train class acc: 0.11367753623188406 - Train lead acc: 0.0806159420289855\n"
     ]
    },
    {
     "name": "stderr",
     "output_type": "stream",
     "text": [
      "138it [00:13, 10.39it/s]\n"
     ]
    },
    {
     "name": "stdout",
     "output_type": "stream",
     "text": [
      "Val_loss: 4.557035446166992 - Train class acc: 0.12092391304347826 - Train lead acc: 0.08106884057971014\n"
     ]
    },
    {
     "name": "stderr",
     "output_type": "stream",
     "text": [
      "138it [00:13, 10.27it/s]\n"
     ]
    },
    {
     "name": "stdout",
     "output_type": "stream",
     "text": [
      "Val_loss: 4.819301605224609 - Train class acc: 0.12001811594202899 - Train lead acc: 0.07744565217391304\n"
     ]
    },
    {
     "name": "stderr",
     "output_type": "stream",
     "text": [
      "138it [00:13, 10.34it/s]\n"
     ]
    },
    {
     "name": "stdout",
     "output_type": "stream",
     "text": [
      "Val_loss: 4.833948135375977 - Train class acc: 0.11865942028985507 - Train lead acc: 0.08378623188405797\n"
     ]
    },
    {
     "name": "stderr",
     "output_type": "stream",
     "text": [
      "138it [00:13, 10.20it/s]\n"
     ]
    },
    {
     "name": "stdout",
     "output_type": "stream",
     "text": [
      "Val_loss: 4.833835601806641 - Train class acc: 0.12001811594202899 - Train lead acc: 0.08288043478260869\n"
     ]
    },
    {
     "name": "stderr",
     "output_type": "stream",
     "text": [
      "138it [00:13, 10.18it/s]\n"
     ]
    },
    {
     "name": "stdout",
     "output_type": "stream",
     "text": [
      "Val_loss: 4.807353496551514 - Train class acc: 0.11639492753623189 - Train lead acc: 0.07835144927536232\n"
     ]
    },
    {
     "name": "stderr",
     "output_type": "stream",
     "text": [
      "138it [00:13, 10.34it/s]\n"
     ]
    },
    {
     "name": "stdout",
     "output_type": "stream",
     "text": [
      "Val_loss: 4.8187737464904785 - Train class acc: 0.12273550724637682 - Train lead acc: 0.08197463768115942\n"
     ]
    },
    {
     "name": "stderr",
     "output_type": "stream",
     "text": [
      "138it [00:13, 10.10it/s]\n"
     ]
    },
    {
     "name": "stdout",
     "output_type": "stream",
     "text": [
      "Val_loss: 4.829333305358887 - Train class acc: 0.11458333333333333 - Train lead acc: 0.08378623188405797\n"
     ]
    },
    {
     "name": "stderr",
     "output_type": "stream",
     "text": [
      "138it [00:13, 10.08it/s]\n"
     ]
    },
    {
     "name": "stdout",
     "output_type": "stream",
     "text": [
      "Val_loss: 4.8153462409973145 - Train class acc: 0.11096014492753623 - Train lead acc: 0.08242753623188406\n"
     ]
    },
    {
     "name": "stderr",
     "output_type": "stream",
     "text": [
      "138it [00:13, 10.09it/s]\n"
     ]
    },
    {
     "name": "stdout",
     "output_type": "stream",
     "text": [
      "Val_loss: 4.812661170959473 - Train class acc: 0.11503623188405797 - Train lead acc: 0.07472826086956522\n"
     ]
    },
    {
     "name": "stderr",
     "output_type": "stream",
     "text": [
      "138it [00:13, 10.05it/s]\n"
     ]
    },
    {
     "name": "stdout",
     "output_type": "stream",
     "text": [
      "Val_loss: 4.810508728027344 - Train class acc: 0.11458333333333333 - Train lead acc: 0.08469202898550725\n"
     ]
    },
    {
     "name": "stderr",
     "output_type": "stream",
     "text": [
      "138it [00:13, 10.15it/s]\n"
     ]
    },
    {
     "name": "stdout",
     "output_type": "stream",
     "text": [
      "Val_loss: 4.806291580200195 - Train class acc: 0.12454710144927536 - Train lead acc: 0.07835144927536232\n"
     ]
    },
    {
     "name": "stderr",
     "output_type": "stream",
     "text": [
      "138it [00:13, 10.07it/s]\n"
     ]
    },
    {
     "name": "stdout",
     "output_type": "stream",
     "text": [
      "Val_loss: 4.811516761779785 - Train class acc: 0.12228260869565218 - Train lead acc: 0.07789855072463768\n"
     ]
    },
    {
     "name": "stderr",
     "output_type": "stream",
     "text": [
      "138it [00:13, 10.36it/s]\n"
     ]
    },
    {
     "name": "stdout",
     "output_type": "stream",
     "text": [
      "Val_loss: 4.710035800933838 - Train class acc: 0.10960144927536232 - Train lead acc: 0.08378623188405797\n"
     ]
    },
    {
     "name": "stderr",
     "output_type": "stream",
     "text": [
      "138it [00:13, 10.34it/s]\n"
     ]
    },
    {
     "name": "stdout",
     "output_type": "stream",
     "text": [
      "Val_loss: 4.841067314147949 - Train class acc: 0.11865942028985507 - Train lead acc: 0.08106884057971014\n"
     ]
    },
    {
     "name": "stderr",
     "output_type": "stream",
     "text": [
      "138it [00:13, 10.40it/s]\n"
     ]
    },
    {
     "name": "stdout",
     "output_type": "stream",
     "text": [
      "Val_loss: 4.771915435791016 - Train class acc: 0.12092391304347826 - Train lead acc: 0.08605072463768115\n"
     ]
    },
    {
     "name": "stderr",
     "output_type": "stream",
     "text": [
      "138it [00:13, 10.38it/s]\n"
     ]
    },
    {
     "name": "stdout",
     "output_type": "stream",
     "text": [
      "Val_loss: 4.666519641876221 - Train class acc: 0.12273550724637682 - Train lead acc: 0.08514492753623189\n"
     ]
    },
    {
     "name": "stderr",
     "output_type": "stream",
     "text": [
      "138it [00:13, 10.41it/s]\n"
     ]
    },
    {
     "name": "stdout",
     "output_type": "stream",
     "text": [
      "Val_loss: 4.8432464599609375 - Train class acc: 0.11639492753623189 - Train lead acc: 0.08016304347826086\n"
     ]
    },
    {
     "name": "stderr",
     "output_type": "stream",
     "text": [
      "138it [00:13, 10.40it/s]\n"
     ]
    },
    {
     "name": "stdout",
     "output_type": "stream",
     "text": [
      "Val_loss: 4.720327377319336 - Train class acc: 0.11865942028985507 - Train lead acc: 0.08106884057971014\n"
     ]
    },
    {
     "name": "stderr",
     "output_type": "stream",
     "text": [
      "138it [00:13, 10.34it/s]\n"
     ]
    },
    {
     "name": "stdout",
     "output_type": "stream",
     "text": [
      "Val_loss: 4.8266167640686035 - Train class acc: 0.12318840579710146 - Train lead acc: 0.0806159420289855\n"
     ]
    },
    {
     "name": "stderr",
     "output_type": "stream",
     "text": [
      "138it [00:13, 10.36it/s]\n"
     ]
    },
    {
     "name": "stdout",
     "output_type": "stream",
     "text": [
      "Val_loss: 4.807552337646484 - Train class acc: 0.11594202898550725 - Train lead acc: 0.0792572463768116\n"
     ]
    },
    {
     "name": "stderr",
     "output_type": "stream",
     "text": [
      "138it [00:13, 10.35it/s]\n"
     ]
    },
    {
     "name": "stdout",
     "output_type": "stream",
     "text": [
      "Val_loss: 4.820444107055664 - Train class acc: 0.12228260869565218 - Train lead acc: 0.08378623188405797\n"
     ]
    },
    {
     "name": "stderr",
     "output_type": "stream",
     "text": [
      "138it [00:13, 10.37it/s]\n"
     ]
    },
    {
     "name": "stdout",
     "output_type": "stream",
     "text": [
      "Val_loss: 4.821518421173096 - Train class acc: 0.11277173913043478 - Train lead acc: 0.07880434782608696\n"
     ]
    },
    {
     "name": "stderr",
     "output_type": "stream",
     "text": [
      "138it [00:13, 10.34it/s]\n"
     ]
    },
    {
     "name": "stdout",
     "output_type": "stream",
     "text": [
      "Val_loss: 4.686455726623535 - Train class acc: 0.10914855072463768 - Train lead acc: 0.07427536231884058\n"
     ]
    },
    {
     "name": "stderr",
     "output_type": "stream",
     "text": [
      "138it [00:13, 10.24it/s]\n"
     ]
    },
    {
     "name": "stdout",
     "output_type": "stream",
     "text": [
      "Val_loss: 4.833013534545898 - Train class acc: 0.11277173913043478 - Train lead acc: 0.08695652173913043\n"
     ]
    },
    {
     "name": "stderr",
     "output_type": "stream",
     "text": [
      "138it [00:13, 10.16it/s]\n"
     ]
    },
    {
     "name": "stdout",
     "output_type": "stream",
     "text": [
      "Val_loss: 4.821903228759766 - Train class acc: 0.11865942028985507 - Train lead acc: 0.08242753623188406\n"
     ]
    },
    {
     "name": "stderr",
     "output_type": "stream",
     "text": [
      "138it [00:13, 10.08it/s]\n"
     ]
    },
    {
     "name": "stdout",
     "output_type": "stream",
     "text": [
      "Val_loss: 4.586543083190918 - Train class acc: 0.1105072463768116 - Train lead acc: 0.0806159420289855\n"
     ]
    },
    {
     "name": "stderr",
     "output_type": "stream",
     "text": [
      "138it [00:13, 10.04it/s]\n"
     ]
    },
    {
     "name": "stdout",
     "output_type": "stream",
     "text": [
      "Val_loss: 4.839303016662598 - Train class acc: 0.11322463768115942 - Train lead acc: 0.08967391304347826\n"
     ]
    },
    {
     "name": "stderr",
     "output_type": "stream",
     "text": [
      "138it [00:13, 10.06it/s]\n"
     ]
    },
    {
     "name": "stdout",
     "output_type": "stream",
     "text": [
      "Val_loss: 4.584647178649902 - Train class acc: 0.11865942028985507 - Train lead acc: 0.08469202898550725\n"
     ]
    },
    {
     "name": "stderr",
     "output_type": "stream",
     "text": [
      "138it [00:13, 10.08it/s]\n"
     ]
    },
    {
     "name": "stdout",
     "output_type": "stream",
     "text": [
      "Val_loss: 4.535461902618408 - Train class acc: 0.11141304347826086 - Train lead acc: 0.08469202898550725\n"
     ]
    },
    {
     "name": "stderr",
     "output_type": "stream",
     "text": [
      "138it [00:13, 10.06it/s]\n"
     ]
    },
    {
     "name": "stdout",
     "output_type": "stream",
     "text": [
      "Val_loss: 4.779496192932129 - Train class acc: 0.11775362318840579 - Train lead acc: 0.08242753623188406\n"
     ]
    },
    {
     "name": "stderr",
     "output_type": "stream",
     "text": [
      "138it [00:13, 10.06it/s]\n"
     ]
    },
    {
     "name": "stdout",
     "output_type": "stream",
     "text": [
      "Val_loss: 4.832435131072998 - Train class acc: 0.12545289855072464 - Train lead acc: 0.0769927536231884\n"
     ]
    },
    {
     "name": "stderr",
     "output_type": "stream",
     "text": [
      "138it [00:13, 10.07it/s]\n"
     ]
    },
    {
     "name": "stdout",
     "output_type": "stream",
     "text": [
      "Val_loss: 4.791201114654541 - Train class acc: 0.10960144927536232 - Train lead acc: 0.07744565217391304\n"
     ]
    },
    {
     "name": "stderr",
     "output_type": "stream",
     "text": [
      "138it [00:13, 10.07it/s]\n"
     ]
    },
    {
     "name": "stdout",
     "output_type": "stream",
     "text": [
      "Val_loss: 4.316123962402344 - Train class acc: 0.12771739130434784 - Train lead acc: 0.08378623188405797\n"
     ]
    },
    {
     "name": "stderr",
     "output_type": "stream",
     "text": [
      "138it [00:13, 10.07it/s]\n"
     ]
    },
    {
     "name": "stdout",
     "output_type": "stream",
     "text": [
      "Val_loss: 4.7215657234191895 - Train class acc: 0.11775362318840579 - Train lead acc: 0.08469202898550725\n"
     ]
    },
    {
     "name": "stderr",
     "output_type": "stream",
     "text": [
      "138it [00:13, 10.08it/s]\n"
     ]
    },
    {
     "name": "stdout",
     "output_type": "stream",
     "text": [
      "Val_loss: 4.352872371673584 - Train class acc: 0.11367753623188406 - Train lead acc: 0.08106884057971014\n"
     ]
    },
    {
     "name": "stderr",
     "output_type": "stream",
     "text": [
      "138it [00:13, 10.07it/s]\n"
     ]
    },
    {
     "name": "stdout",
     "output_type": "stream",
     "text": [
      "Val_loss: 4.81077241897583 - Train class acc: 0.11865942028985507 - Train lead acc: 0.07382246376811594\n"
     ]
    },
    {
     "name": "stderr",
     "output_type": "stream",
     "text": [
      "138it [00:13, 10.07it/s]\n"
     ]
    },
    {
     "name": "stdout",
     "output_type": "stream",
     "text": [
      "Val_loss: 4.732839107513428 - Train class acc: 0.10507246376811594 - Train lead acc: 0.08106884057971014\n"
     ]
    },
    {
     "name": "stderr",
     "output_type": "stream",
     "text": [
      "138it [00:13, 10.06it/s]\n"
     ]
    },
    {
     "name": "stdout",
     "output_type": "stream",
     "text": [
      "Val_loss: 4.367093086242676 - Train class acc: 0.12681159420289856 - Train lead acc: 0.0769927536231884\n"
     ]
    },
    {
     "name": "stderr",
     "output_type": "stream",
     "text": [
      "138it [00:13, 10.10it/s]\n"
     ]
    },
    {
     "name": "stdout",
     "output_type": "stream",
     "text": [
      "Val_loss: 4.645939826965332 - Train class acc: 0.11503623188405797 - Train lead acc: 0.08197463768115942\n"
     ]
    },
    {
     "name": "stderr",
     "output_type": "stream",
     "text": [
      "138it [00:13, 10.05it/s]\n"
     ]
    },
    {
     "name": "stdout",
     "output_type": "stream",
     "text": [
      "Val_loss: 4.79890251159668 - Train class acc: 0.11458333333333333 - Train lead acc: 0.07201086956521739\n"
     ]
    },
    {
     "name": "stderr",
     "output_type": "stream",
     "text": [
      "138it [00:13, 10.05it/s]\n"
     ]
    },
    {
     "name": "stdout",
     "output_type": "stream",
     "text": [
      "Val_loss: 4.834334850311279 - Train class acc: 0.10869565217391304 - Train lead acc: 0.07880434782608696\n"
     ]
    },
    {
     "name": "stderr",
     "output_type": "stream",
     "text": [
      "138it [00:13, 10.04it/s]\n"
     ]
    },
    {
     "name": "stdout",
     "output_type": "stream",
     "text": [
      "Val_loss: 4.8183088302612305 - Train class acc: 0.12092391304347826 - Train lead acc: 0.08152173913043478\n"
     ]
    },
    {
     "name": "stderr",
     "output_type": "stream",
     "text": [
      "138it [00:13, 10.04it/s]\n"
     ]
    },
    {
     "name": "stdout",
     "output_type": "stream",
     "text": [
      "Val_loss: 4.699804782867432 - Train class acc: 0.12817028985507245 - Train lead acc: 0.08288043478260869\n"
     ]
    },
    {
     "name": "stderr",
     "output_type": "stream",
     "text": [
      "138it [00:13, 10.04it/s]\n"
     ]
    },
    {
     "name": "stdout",
     "output_type": "stream",
     "text": [
      "Val_loss: 4.584238052368164 - Train class acc: 0.11865942028985507 - Train lead acc: 0.08967391304347826\n"
     ]
    },
    {
     "name": "stderr",
     "output_type": "stream",
     "text": [
      "138it [00:13, 10.10it/s]\n"
     ]
    },
    {
     "name": "stdout",
     "output_type": "stream",
     "text": [
      "Val_loss: 4.837332725524902 - Train class acc: 0.11503623188405797 - Train lead acc: 0.07246376811594203\n"
     ]
    },
    {
     "name": "stderr",
     "output_type": "stream",
     "text": [
      "138it [00:13, 10.04it/s]\n"
     ]
    },
    {
     "name": "stdout",
     "output_type": "stream",
     "text": [
      "Val_loss: 4.80863094329834 - Train class acc: 0.11775362318840579 - Train lead acc: 0.07789855072463768\n"
     ]
    },
    {
     "name": "stderr",
     "output_type": "stream",
     "text": [
      "138it [00:13, 10.10it/s]\n"
     ]
    },
    {
     "name": "stdout",
     "output_type": "stream",
     "text": [
      "Val_loss: 4.763397216796875 - Train class acc: 0.11684782608695653 - Train lead acc: 0.09103260869565218\n"
     ]
    },
    {
     "name": "stderr",
     "output_type": "stream",
     "text": [
      "138it [00:13, 10.06it/s]\n"
     ]
    },
    {
     "name": "stdout",
     "output_type": "stream",
     "text": [
      "Val_loss: 4.820364952087402 - Train class acc: 0.11005434782608696 - Train lead acc: 0.07880434782608696\n"
     ]
    },
    {
     "name": "stderr",
     "output_type": "stream",
     "text": [
      "138it [00:13, 10.10it/s]\n"
     ]
    },
    {
     "name": "stdout",
     "output_type": "stream",
     "text": [
      "Val_loss: 4.666993141174316 - Train class acc: 0.12001811594202899 - Train lead acc: 0.08922101449275362\n"
     ]
    },
    {
     "name": "stderr",
     "output_type": "stream",
     "text": [
      "138it [00:13, 10.04it/s]\n"
     ]
    },
    {
     "name": "stdout",
     "output_type": "stream",
     "text": [
      "Val_loss: 4.58866548538208 - Train class acc: 0.11548913043478261 - Train lead acc: 0.08288043478260869\n"
     ]
    },
    {
     "name": "stderr",
     "output_type": "stream",
     "text": [
      "138it [00:13, 10.09it/s]\n"
     ]
    },
    {
     "name": "stdout",
     "output_type": "stream",
     "text": [
      "Val_loss: 4.809725761413574 - Train class acc: 0.11639492753623189 - Train lead acc: 0.0756340579710145\n"
     ]
    },
    {
     "name": "stderr",
     "output_type": "stream",
     "text": [
      "138it [00:13, 10.08it/s]\n"
     ]
    },
    {
     "name": "stdout",
     "output_type": "stream",
     "text": [
      "Val_loss: 4.572225570678711 - Train class acc: 0.12590579710144928 - Train lead acc: 0.08288043478260869\n"
     ]
    },
    {
     "name": "stderr",
     "output_type": "stream",
     "text": [
      "138it [00:13, 10.07it/s]\n"
     ]
    },
    {
     "name": "stdout",
     "output_type": "stream",
     "text": [
      "Val_loss: 4.550709247589111 - Train class acc: 0.12454710144927536 - Train lead acc: 0.0792572463768116\n"
     ]
    },
    {
     "name": "stderr",
     "output_type": "stream",
     "text": [
      "138it [00:13, 10.07it/s]\n"
     ]
    },
    {
     "name": "stdout",
     "output_type": "stream",
     "text": [
      "Val_loss: 4.322709083557129 - Train class acc: 0.12047101449275362 - Train lead acc: 0.08378623188405797\n"
     ]
    },
    {
     "name": "stderr",
     "output_type": "stream",
     "text": [
      "138it [00:13, 10.08it/s]\n"
     ]
    },
    {
     "name": "stdout",
     "output_type": "stream",
     "text": [
      "Val_loss: 4.592555046081543 - Train class acc: 0.11503623188405797 - Train lead acc: 0.07246376811594203\n"
     ]
    },
    {
     "name": "stderr",
     "output_type": "stream",
     "text": [
      "138it [00:13, 10.02it/s]\n"
     ]
    },
    {
     "name": "stdout",
     "output_type": "stream",
     "text": [
      "Val_loss: 4.80733585357666 - Train class acc: 0.11775362318840579 - Train lead acc: 0.07835144927536232\n"
     ]
    },
    {
     "name": "stderr",
     "output_type": "stream",
     "text": [
      "138it [00:13, 10.10it/s]\n"
     ]
    },
    {
     "name": "stdout",
     "output_type": "stream",
     "text": [
      "Val_loss: 4.816065788269043 - Train class acc: 0.1118659420289855 - Train lead acc: 0.0806159420289855\n"
     ]
    },
    {
     "name": "stderr",
     "output_type": "stream",
     "text": [
      "138it [00:13, 10.08it/s]\n"
     ]
    },
    {
     "name": "stdout",
     "output_type": "stream",
     "text": [
      "Val_loss: 4.826256275177002 - Train class acc: 0.11503623188405797 - Train lead acc: 0.0806159420289855\n"
     ]
    },
    {
     "name": "stderr",
     "output_type": "stream",
     "text": [
      "138it [00:13, 10.04it/s]\n"
     ]
    },
    {
     "name": "stdout",
     "output_type": "stream",
     "text": [
      "Val_loss: 4.544350624084473 - Train class acc: 0.12228260869565218 - Train lead acc: 0.07880434782608696\n"
     ]
    },
    {
     "name": "stderr",
     "output_type": "stream",
     "text": [
      "138it [00:13, 10.06it/s]\n"
     ]
    },
    {
     "name": "stdout",
     "output_type": "stream",
     "text": [
      "Val_loss: 4.830343723297119 - Train class acc: 0.11639492753623189 - Train lead acc: 0.08242753623188406\n"
     ]
    },
    {
     "name": "stderr",
     "output_type": "stream",
     "text": [
      "138it [00:13, 10.07it/s]\n"
     ]
    },
    {
     "name": "stdout",
     "output_type": "stream",
     "text": [
      "Val_loss: 4.62584114074707 - Train class acc: 0.11684782608695653 - Train lead acc: 0.08333333333333333\n"
     ]
    },
    {
     "name": "stderr",
     "output_type": "stream",
     "text": [
      "138it [00:13, 10.04it/s]\n"
     ]
    },
    {
     "name": "stdout",
     "output_type": "stream",
     "text": [
      "Val_loss: 4.8322954177856445 - Train class acc: 0.10461956521739131 - Train lead acc: 0.08469202898550725\n"
     ]
    },
    {
     "name": "stderr",
     "output_type": "stream",
     "text": [
      "138it [00:13, 10.09it/s]\n"
     ]
    },
    {
     "name": "stdout",
     "output_type": "stream",
     "text": [
      "Val_loss: 4.82757568359375 - Train class acc: 0.11684782608695653 - Train lead acc: 0.07246376811594203\n"
     ]
    },
    {
     "name": "stderr",
     "output_type": "stream",
     "text": [
      "138it [00:13, 10.05it/s]\n"
     ]
    },
    {
     "name": "stdout",
     "output_type": "stream",
     "text": [
      "Val_loss: 4.810920715332031 - Train class acc: 0.11594202898550725 - Train lead acc: 0.08378623188405797\n"
     ]
    },
    {
     "name": "stderr",
     "output_type": "stream",
     "text": [
      "138it [00:13, 10.25it/s]\n"
     ]
    },
    {
     "name": "stdout",
     "output_type": "stream",
     "text": [
      "Val_loss: 4.793731689453125 - Train class acc: 0.12001811594202899 - Train lead acc: 0.07291666666666667\n"
     ]
    },
    {
     "name": "stderr",
     "output_type": "stream",
     "text": [
      "138it [00:13, 10.33it/s]\n"
     ]
    },
    {
     "name": "stdout",
     "output_type": "stream",
     "text": [
      "Val_loss: 4.678591728210449 - Train class acc: 0.12182971014492754 - Train lead acc: 0.08423913043478261\n"
     ]
    },
    {
     "name": "stderr",
     "output_type": "stream",
     "text": [
      "138it [00:13, 10.37it/s]\n"
     ]
    },
    {
     "name": "stdout",
     "output_type": "stream",
     "text": [
      "Val_loss: 4.598047256469727 - Train class acc: 0.11096014492753623 - Train lead acc: 0.08423913043478261\n"
     ]
    },
    {
     "name": "stderr",
     "output_type": "stream",
     "text": [
      "138it [00:13, 10.37it/s]\n"
     ]
    },
    {
     "name": "stdout",
     "output_type": "stream",
     "text": [
      "Val_loss: 4.6815338134765625 - Train class acc: 0.12364130434782608 - Train lead acc: 0.08786231884057971\n"
     ]
    },
    {
     "name": "stderr",
     "output_type": "stream",
     "text": [
      "138it [00:13, 10.38it/s]\n"
     ]
    },
    {
     "name": "stdout",
     "output_type": "stream",
     "text": [
      "Val_loss: 4.810561180114746 - Train class acc: 0.12228260869565218 - Train lead acc: 0.07835144927536232\n"
     ]
    },
    {
     "name": "stderr",
     "output_type": "stream",
     "text": [
      "138it [00:13, 10.37it/s]\n"
     ]
    },
    {
     "name": "stdout",
     "output_type": "stream",
     "text": [
      "Val_loss: 4.742879867553711 - Train class acc: 0.12545289855072464 - Train lead acc: 0.08152173913043478\n"
     ]
    },
    {
     "name": "stderr",
     "output_type": "stream",
     "text": [
      "138it [00:13, 10.38it/s]\n"
     ]
    },
    {
     "name": "stdout",
     "output_type": "stream",
     "text": [
      "Val_loss: 4.8277435302734375 - Train class acc: 0.11458333333333333 - Train lead acc: 0.08378623188405797\n"
     ]
    },
    {
     "name": "stderr",
     "output_type": "stream",
     "text": [
      "138it [00:13, 10.36it/s]\n"
     ]
    },
    {
     "name": "stdout",
     "output_type": "stream",
     "text": [
      "Val_loss: 4.812850475311279 - Train class acc: 0.11684782608695653 - Train lead acc: 0.08469202898550725\n"
     ]
    },
    {
     "name": "stderr",
     "output_type": "stream",
     "text": [
      "138it [00:13, 10.41it/s]\n"
     ]
    },
    {
     "name": "stdout",
     "output_type": "stream",
     "text": [
      "Val_loss: 4.818743705749512 - Train class acc: 0.10914855072463768 - Train lead acc: 0.08423913043478261\n"
     ]
    },
    {
     "name": "stderr",
     "output_type": "stream",
     "text": [
      "138it [00:13, 10.34it/s]\n"
     ]
    },
    {
     "name": "stdout",
     "output_type": "stream",
     "text": [
      "Val_loss: 4.50168514251709 - Train class acc: 0.11911231884057971 - Train lead acc: 0.07291666666666667\n"
     ]
    },
    {
     "name": "stderr",
     "output_type": "stream",
     "text": [
      "138it [00:13, 10.23it/s]\n"
     ]
    },
    {
     "name": "stdout",
     "output_type": "stream",
     "text": [
      "Val_loss: 4.471813201904297 - Train class acc: 0.11639492753623189 - Train lead acc: 0.0806159420289855\n"
     ]
    },
    {
     "name": "stderr",
     "output_type": "stream",
     "text": [
      "138it [00:13, 10.09it/s]\n"
     ]
    },
    {
     "name": "stdout",
     "output_type": "stream",
     "text": [
      "Val_loss: 4.8250274658203125 - Train class acc: 0.11865942028985507 - Train lead acc: 0.08423913043478261\n"
     ]
    },
    {
     "name": "stderr",
     "output_type": "stream",
     "text": [
      "138it [00:13, 10.07it/s]\n"
     ]
    },
    {
     "name": "stdout",
     "output_type": "stream",
     "text": [
      "Val_loss: 4.738649368286133 - Train class acc: 0.11730072463768115 - Train lead acc: 0.07971014492753623\n"
     ]
    },
    {
     "name": "stderr",
     "output_type": "stream",
     "text": [
      "2196it [00:30, 72.52it/s]\n",
      "d:\\gitcloneproject\\heartresearch\\.env\\lib\\site-packages\\sklearn\\metrics\\_classification.py:1344: UndefinedMetricWarning: Precision and F-score are ill-defined and being set to 0.0 in labels with no predicted samples. Use `zero_division` parameter to control this behavior.\n",
      "  _warn_prf(average, modifier, msg_start, len(result))\n",
      "d:\\gitcloneproject\\heartresearch\\.env\\lib\\site-packages\\sklearn\\metrics\\_classification.py:1344: UndefinedMetricWarning: Precision and F-score are ill-defined and being set to 0.0 in labels with no predicted samples. Use `zero_division` parameter to control this behavior.\n",
      "  _warn_prf(average, modifier, msg_start, len(result))\n",
      "d:\\gitcloneproject\\heartresearch\\.env\\lib\\site-packages\\sklearn\\metrics\\_classification.py:1344: UndefinedMetricWarning: Precision and F-score are ill-defined and being set to 0.0 in labels with no predicted samples. Use `zero_division` parameter to control this behavior.\n",
      "  _warn_prf(average, modifier, msg_start, len(result))\n"
     ]
    },
    {
     "name": "stdout",
     "output_type": "stream",
     "text": [
      "tensor([[0, 0, 1,  ..., 0, 0, 0],\n",
      "        [0, 0, 0,  ..., 0, 0, 0],\n",
      "        [0, 0, 0,  ..., 0, 0, 0],\n",
      "        ...,\n",
      "        [0, 1, 0,  ..., 0, 0, 0],\n",
      "        [0, 0, 0,  ..., 0, 0, 1],\n",
      "        [0, 0, 0,  ..., 0, 0, 0]], device='cuda:0')\n",
      "tensor([[0, 0, 0,  ..., 0, 0, 0],\n",
      "        [1, 0, 0,  ..., 0, 0, 0],\n",
      "        [0, 0, 0,  ..., 1, 0, 0],\n",
      "        ...,\n",
      "        [0, 0, 0,  ..., 0, 1, 0],\n",
      "        [0, 1, 0,  ..., 0, 0, 0],\n",
      "        [1, 0, 0,  ..., 0, 0, 0]], device='cuda:0')\n",
      "tensor([[0, 0, 0,  ..., 0, 0, 0],\n",
      "        [0, 0, 0,  ..., 1, 0, 0],\n",
      "        [0, 0, 0,  ..., 0, 1, 0],\n",
      "        ...,\n",
      "        [0, 0, 0,  ..., 1, 0, 0],\n",
      "        [0, 1, 0,  ..., 0, 0, 0],\n",
      "        [0, 0, 0,  ..., 0, 0, 0]], device='cuda:0')\n",
      "tensor([[0, 0, 0,  ..., 0, 0, 1],\n",
      "        [0, 0, 0,  ..., 0, 0, 1],\n",
      "        [0, 0, 0,  ..., 0, 0, 0],\n",
      "        ...,\n",
      "        [0, 0, 0,  ..., 0, 1, 0],\n",
      "        [0, 0, 0,  ..., 0, 1, 0],\n",
      "        [0, 0, 0,  ..., 0, 0, 0]], device='cuda:0')\n",
      "tensor([3, 0, 6,  ..., 7, 1, 0], device='cuda:0')\n",
      "tensor([8, 8, 3,  ..., 7, 7, 3], device='cuda:0')\n",
      "2\n",
      "[2, 7, 4, 1, 10, 6, 0, 3, 2, 1, 4, 1, 4, 4, 7, 0, 3, 1, 0, 2, 0, 0, 8, 5, 5, 6, 1, 7, 4, 2, 2, 4, 9, 1, 3, 2, 5, 9, 5, 1, 4, 10, 5, 3, 5, 9, 0, 4, 4, 8, 10, 10, 9, 5, 10, 0, 9, 1, 3, 5, 0, 8, 5, 5, 0, 9, 11, 9, 9, 8, 2, 4, 9, 5, 10, 9, 3, 4, 11, 3, 4, 6, 8, 5, 2, 4, 7, 7, 0, 3, 9, 9, 1, 3, 4, 4, 11, 11, 5, 3, 7, 2, 10, 1, 0, 8, 3, 9, 7, 9, 3, 5, 3, 6, 3, 0, 1, 10, 11, 2, 9, 0, 9, 9, 8, 11, 5, 11, 4, 10, 2, 0, 2, 6, 6, 2, 4, 3, 5, 3, 11, 2, 8, 8, 1, 9, 6, 10, 2, 11, 4, 2, 10, 4, 3, 1, 9, 11, 5, 8, 1, 11, 2, 0, 4, 5, 8, 10, 10, 11, 6, 9, 7, 3, 2, 7, 9, 4, 5, 11, 4, 0, 11, 1, 6, 4, 2, 0, 0, 9, 5, 9, 9, 5, 1, 11, 5, 0, 6, 7, 10, 8, 3, 11, 7, 2, 6, 6, 4, 1, 5, 3, 1, 11, 1, 9, 7, 5, 4, 1, 5, 1, 5, 3, 11, 7, 10, 0, 2, 3, 1, 2, 10, 10, 5, 7, 1, 2, 0, 11, 3, 6, 7, 9, 2, 11, 6, 7, 1, 8, 7, 5, 11, 11, 9, 9, 10, 9, 6, 8, 4, 4, 4, 3, 0, 5, 8, 4, 5, 7, 0, 0, 3, 11, 6, 8, 10, 6, 6, 8, 7, 11, 10, 4, 5, 6, 5, 10, 0, 2, 9, 1, 5, 6, 10, 2, 5, 11, 2, 8, 1, 1, 10, 8, 5, 10, 8, 0, 7, 10, 0, 2, 5, 9, 10, 9, 9, 2, 11, 1, 6, 7, 1, 3, 5, 11, 10, 4, 1, 4, 11, 9, 1, 7, 5, 1, 11, 9, 5, 1, 8, 8, 11, 10, 1, 6, 4, 7, 2, 3, 7, 4, 9, 4, 3, 9, 8, 1, 2, 5, 7, 8, 5, 10, 7, 3, 11, 11, 10, 2, 2, 0, 1, 1, 3, 10, 10, 3, 9, 11, 1, 11, 8, 6, 9, 6, 1, 1, 5, 8, 7, 0, 7, 11, 7, 8, 4, 6, 11, 0, 8, 7, 0, 7, 2, 11, 8, 6, 7, 11, 0, 11, 0, 1, 5, 11, 10, 3, 2, 3, 3, 1, 2, 3, 2, 0, 6, 7, 0, 10, 7, 10, 5, 5, 1, 6, 6, 5, 8, 1, 11, 0, 11, 10, 11, 3, 8, 7, 2, 1, 8, 10, 4, 5, 7, 6, 11, 3, 1, 6, 6, 9, 7, 6, 3, 2, 3, 3, 8, 2, 8, 6, 2, 7, 3, 5, 10, 2, 2, 4, 0, 7, 2, 7, 10, 4, 4, 3, 2, 0, 7, 1, 7, 8, 7, 6, 8, 6, 4, 1, 6, 4, 6, 9, 2, 1, 11, 2, 10, 8, 5, 1, 0, 6, 2, 4, 11, 4, 2, 5, 11, 4, 1, 3, 10, 3, 2, 3, 6, 8, 4, 4, 1, 11, 2, 3, 7, 6, 4, 10, 10, 9, 1, 8, 0, 7, 10, 3, 7, 5, 8, 1, 1, 5, 1, 2, 7, 10, 7, 2, 4, 6, 1, 7, 0, 10, 4, 9, 2, 2, 8, 0, 9, 3, 9, 4, 8, 3, 9, 9, 3, 2, 3, 9, 6, 5, 5, 1, 6, 1, 4, 2, 0, 2, 2, 6, 3, 2, 3, 10, 5, 2, 7, 1, 4, 8, 6, 2, 6, 4, 11, 8, 8, 10, 5, 9, 4, 9, 6, 0, 5, 0, 9, 3, 11, 5, 10, 8, 8, 0, 6, 4, 11, 10, 5, 7, 6, 10, 4, 7, 8, 1, 2, 0, 0, 7, 3, 10, 2, 2, 6, 0, 0, 4, 9, 2, 8, 1, 8, 7, 8, 0, 1, 2, 2, 2, 5, 8, 2, 10, 1, 10, 10, 2, 5, 11, 1, 0, 6, 0, 4, 0, 10, 10, 11, 7, 3, 3, 1, 0, 10, 9, 7, 4, 10, 5, 11, 1, 1, 8, 10, 9, 6, 6, 3, 0, 5, 6, 7, 6, 9, 4, 5, 6, 8, 5, 7, 0, 7, 3, 5, 10, 10, 7, 3, 1, 5, 5, 7, 0, 5, 7, 4, 2, 3, 4, 8, 9, 4, 4, 7, 1, 3, 5, 5, 1, 5, 4, 0, 9, 10, 7, 7, 4, 1, 9, 1, 5, 1, 3, 1, 8, 0, 8, 11, 10, 6, 5, 11, 4, 3, 3, 7, 10, 8, 5, 0, 0, 1, 11, 4, 2, 3, 2, 9, 6, 1, 6, 0, 6, 2, 10, 9, 2, 2, 11, 11, 2, 1, 5, 3, 6, 9, 6, 6, 0, 0, 7, 10, 9, 9, 11, 3, 10, 11, 8, 4, 7, 3, 4, 8, 3, 11, 11, 6, 3, 6, 3, 11, 9, 7, 10, 7, 6, 10, 10, 10, 6, 10, 7, 9, 8, 6, 4, 9, 6, 9, 9, 1, 4, 11, 2, 3, 8, 0, 3, 9, 1, 9, 4, 0, 4, 3, 5, 4, 3, 0, 9, 4, 7, 7, 6, 10, 5, 0, 3, 0, 2, 0, 8, 11, 11, 5, 0, 4, 3, 4, 3, 11, 3, 0, 7, 6, 7, 0, 2, 8, 4, 6, 4, 6, 5, 4, 11, 6, 9, 9, 9, 9, 5, 4, 4, 11, 4, 5, 9, 1, 6, 5, 8, 9, 1, 2, 10, 8, 10, 4, 7, 2, 2, 7, 8, 3, 7, 1, 5, 8, 7, 9, 4, 5, 1, 2, 8, 1, 5, 6, 7, 6, 6, 0, 6, 8, 0, 7, 1, 7, 1, 5, 7, 1, 0, 1, 5, 11, 3, 6, 8, 10, 5, 1, 9, 1, 10, 9, 7, 0, 6, 6, 0, 3, 0, 4, 4, 5, 7, 6, 11, 4, 7, 9, 4, 3, 5, 8, 6, 8, 8, 10, 4, 8, 7, 9, 5, 5, 1, 4, 5, 4, 4, 2, 6, 4, 8, 5, 4, 8, 11, 8, 8, 9, 9, 8, 1, 1, 1, 11, 2, 8, 3, 1, 0, 11, 5, 9, 7, 6, 11, 2, 8, 6, 2, 3, 3, 1, 0, 1, 1, 6, 6, 4, 8, 4, 2, 10, 6, 4, 8, 1, 10, 4, 10, 6, 0, 2, 5, 7, 9, 10, 0, 3, 0, 8, 9, 5, 8, 11, 6, 11, 9, 6, 6, 4, 9, 3, 5, 8, 6, 3, 10, 5, 4, 9, 10, 0, 6, 9, 9, 1, 2, 11, 5, 5, 8, 11, 0, 10, 9, 10, 0, 10, 10, 3, 2, 6, 0, 0, 1, 1, 0, 7, 3, 0, 10, 5, 6, 6, 4, 10, 9, 3, 8, 1, 0, 3, 11, 5, 3, 1, 6, 0, 7, 2, 1, 6, 4, 10, 3, 4, 4, 7, 8, 6, 2, 10, 1, 8, 6, 4, 2, 1, 2, 6, 11, 9, 6, 8, 1, 9, 10, 9, 0, 1, 6, 0, 3, 9, 11, 1, 0, 10, 9, 1, 6, 7, 3, 0, 1, 2, 3, 11, 9, 5, 5, 1, 4, 0, 10, 4, 9, 0, 2, 11, 6, 3, 1, 7, 0, 10, 7, 3, 10, 5, 8, 5, 3, 8, 8, 0, 0, 3, 9, 11, 9, 9, 4, 6, 4, 3, 5, 8, 5, 1, 9, 1, 6, 0, 9, 5, 9, 3, 4, 5, 0, 7, 10, 2, 8, 5, 8, 9, 8, 0, 3, 10, 2, 5, 0, 2, 7, 10, 8, 11, 5, 10, 5, 2, 7, 5, 7, 5, 1, 6, 11, 7, 3, 5, 3, 9, 9, 10, 4, 10, 4, 10, 9, 4, 3, 0, 1, 3, 11, 0, 7, 5, 8, 9, 6, 11, 0, 1, 0, 7, 7, 1, 8, 1, 5, 10, 8, 3, 9, 9, 3, 5, 4, 6, 0, 7, 2, 9, 7, 1, 5, 7, 2, 2, 9, 0, 6, 8, 3, 5, 6, 7, 6, 6, 0, 0, 7, 1, 8, 11, 7, 9, 11, 10, 11, 7, 5, 11, 5, 11, 4, 7, 10, 4, 7, 3, 1, 3, 4, 4, 7, 10, 1, 5, 1, 0, 8, 8, 0, 2, 0, 1, 3, 0, 9, 11, 9, 11, 5, 11, 0, 1, 5, 4, 7, 3, 3, 4, 1, 5, 10, 11, 7, 9, 8, 9, 1, 1, 2, 10, 8, 10, 11, 9, 4, 6, 9, 2, 9, 2, 0, 2, 11, 3, 3, 1, 10, 3, 7, 1, 0, 8, 6, 7, 9, 4, 6, 6, 7, 8, 5, 5, 7, 0, 4, 1, 2, 7, 3, 6, 0, 8, 3, 1, 5, 8, 7, 0, 4, 11, 0, 9, 4, 4, 5, 4, 3, 10, 7, 9, 9, 11, 4, 11, 1, 0, 11, 6, 0, 9, 1, 1, 8, 10, 10, 1, 8, 3, 2, 9, 10, 8, 5, 10, 2, 3, 6, 10, 1, 7, 1, 2, 11, 11, 0, 5, 11, 2, 8, 10, 4, 9, 2, 10, 1, 10, 5, 0, 3, 0, 11, 10, 4, 10, 7, 7, 8, 0, 0, 6, 7, 11, 3, 8, 3, 2, 7, 11, 11, 6, 5, 3, 10, 9, 5, 0, 7, 4, 6, 3, 4, 5, 3, 0, 11, 8, 9, 0, 7, 2, 10, 10, 7, 0, 1, 5, 6, 1, 1, 3, 6, 7, 2, 1, 2, 9, 11, 6, 3, 3, 11, 9, 6, 11, 5, 1, 10, 2, 0, 6, 0, 4, 5, 0, 3, 0, 6, 7, 6, 6, 11, 0, 5, 8, 6, 10, 5, 10, 2, 2, 10, 10, 5, 8, 1, 4, 5, 7, 8, 2, 10, 2, 2, 7, 5, 9, 10, 8, 6, 0, 1, 1, 0, 6, 3, 0, 11, 0, 1, 6, 6, 11, 4, 10, 0, 4, 8, 7, 9, 4, 5, 9, 4, 8, 10, 5, 5, 7, 0, 6, 6, 8, 4, 5, 8, 6, 11, 8, 3, 8, 6, 6, 3, 10, 11, 4, 4, 0, 9, 3, 7, 10, 0, 2, 4, 4, 2, 0, 6, 5, 0, 10, 10, 10, 10, 2, 11, 10, 2, 10, 9, 0, 0, 9, 0, 10, 6, 10, 10, 3, 1, 0, 8, 6, 3, 5, 5, 2, 10, 2, 8, 3, 8, 9, 8, 6, 6, 5, 10, 1, 1, 8, 8, 2, 10, 4, 4, 6, 2, 8, 0, 4, 5, 11, 3, 9, 3, 6, 11, 11, 10, 8, 0, 4, 3, 7, 9, 2, 9, 1, 8, 7, 8, 3, 9, 1, 9, 7, 9, 9, 11, 5, 11, 6, 4, 11, 8, 6, 0, 8, 11, 11, 6, 10, 9, 10, 9, 4, 9, 4, 8, 6, 3, 6, 11, 8, 7, 11, 3, 3, 11, 2, 1, 5, 0, 8, 5, 9, 6, 2, 2, 4, 3, 6, 0, 0, 3, 8, 1, 1, 10, 10, 6, 8, 11, 3, 9, 10, 7, 3, 8, 2, 7, 4, 10, 3, 6, 0, 1, 6, 6, 9, 3, 0, 4, 6, 9, 0, 8, 9, 3, 0, 8, 1, 5, 2, 3, 1, 8, 4, 10, 0, 1, 0, 1, 1, 6, 7, 3, 8, 3, 0, 2, 0, 3, 4, 10, 2, 11, 11, 1, 4, 9, 8, 9, 4, 8, 6, 7, 0, 7, 11, 8, 0, 7, 11, 8, 6, 10, 1, 11, 6, 4, 0, 3, 1, 5, 10, 0, 9, 6, 1, 3, 6, 2, 8, 2, 2, 11, 0, 0, 0, 3, 8, 1, 8, 9, 5, 4, 6, 10, 10, 0, 1, 0, 10, 9, 7, 8, 3, 6, 11, 3, 2, 8, 6, 1, 8, 1, 3, 7, 11, 4, 2, 3, 7, 10, 8, 3, 3, 9, 3, 9, 4, 2, 1, 4, 3, 6, 3, 7, 7, 5, 6, 10, 7, 10, 9, 9, 2, 7, 4, 4, 6, 2, 1, 11, 0, 2, 11, 4, 4, 7, 9, 0, 6, 5, 8, 5, 2, 4, 2, 1, 4, 4, 1, 11, 9, 2, 2, 8, 0, 9, 2, 10, 5, 0, 9, 10, 6, 5, 0, 3, 10, 3, 8, 3, 11, 8, 6, 4, 2, 2, 0, 6, 11, 6, 1, 4, 1, 11, 7, 4, 2, 0, 1, 1, 6, 6, 8, 8, 8, 11, 3, 3, 1, 8, 3, 6, 3, 4, 0, 4, 10, 6, 2, 6, 1, 6, 2, 4, 6, 7, 7, 11, 3, 10, 11, 4, 1, 0, 10, 3, 6, 11, 7, 7, 6, 7, 3, 1, 5, 7, 7, 6, 3, 9, 0, 2, 9, 6, 9, 4, 7, 2, 1, 11, 5, 7, 1, 1, 2, 0, 6, 1, 11, 4, 0, 0, 5, 4, 3, 11, 6, 1, 11, 5, 0, 2, 2, 10, 8, 5, 5, 0, 9, 1, 10, 4, 8, 3, 4, 1, 4, 5, 11, 0, 8, 1, 2, 8, 4, 2, 6, 2, 0, 4, 4, 3, 2, 11, 8, 4, 7, 0, 5, 11, 5, 10, 11, 10, 2, 3, 7, 5, 3, 10, 2, 1, 7, 10, 1, 7, 10, 10, 7, 6, 8, 11, 9, 3, 3, 10, 5, 8, 9, 6, 4, 5, 0, 1, 11, 8]\n",
      "              precision    recall  f1-score   support\n",
      "\n",
      "           I       0.10      0.18      0.13       198\n",
      "          II       0.09      0.12      0.10       197\n",
      "         III       0.09      0.10      0.09       173\n",
      "         aVR       0.04      0.04      0.04       191\n",
      "         aVL       0.09      0.10      0.09       190\n",
      "         aVF       0.08      0.07      0.07       180\n",
      "          V1       0.07      0.04      0.05       198\n",
      "          V2       0.04      0.02      0.03       170\n",
      "          V3       0.07      0.06      0.06       179\n",
      "          V4       0.06      0.07      0.06       176\n",
      "          V5       0.05      0.08      0.06       182\n",
      "          V6       0.00      0.00      0.00       162\n",
      "\n",
      "    accuracy                           0.07      2196\n",
      "   macro avg       0.06      0.07      0.07      2196\n",
      "weighted avg       0.07      0.07      0.07      2196\n",
      "\n",
      "              precision    recall  f1-score   support\n",
      "\n",
      "           1       0.06      0.06      0.06       236\n",
      "           2       0.03      0.03      0.03       228\n",
      "           3       0.09      0.10      0.10       236\n",
      "           4       0.11      0.08      0.09       233\n",
      "           5       0.16      0.17      0.17       242\n",
      "           6       0.09      0.09      0.09       243\n",
      "           7       0.16      0.16      0.16       283\n",
      "           8       0.12      0.14      0.13       255\n",
      "           9       0.10      0.11      0.11       240\n",
      "\n",
      "    accuracy                           0.11      2196\n",
      "   macro avg       0.10      0.10      0.10      2196\n",
      "weighted avg       0.11      0.11      0.11      2196\n",
      "\n"
     ]
    },
    {
     "data": {
      "image/png": "[encoded data removed]",
      "text/plain": [
       "<Figure size 640x480 with 2 Axes>"
      ]
     },
     "metadata": {},
     "output_type": "display_data"
    },
    {
     "data": {
      "image/png": "[encoded data removed]",
      "text/plain": [
       "<Figure size 640x480 with 2 Axes>"
      ]
     },
     "metadata": {},
     "output_type": "display_data"
    },
    {
     "name": "stdout",
     "output_type": "stream",
     "text": [
      "The ROC AUC score of I is: 0.5105560105560105\n",
      "The ROC AUC score of II is: 0.5006335655137213\n",
      "The ROC AUC score of III is: 0.5041502490149409\n",
      "The ROC AUC score of aVR is: 0.47667872204305994\n",
      "The ROC AUC score of aVL is: 0.5008973080757727\n",
      "The ROC AUC score of aVF is: 0.4979166666666667\n",
      "The ROC AUC score of V1 is: 0.49390299390299386\n",
      "The ROC AUC score of V2 is: 0.4927820684048545\n",
      "The ROC AUC score of V3 is: 0.4966984542007462\n",
      "The ROC AUC score of V4 is: 0.4853285328532853\n",
      "The ROC AUC score of V5 is: 0.46697840391981404\n",
      "The ROC AUC score of V6 is: 0.5\n",
      "The ROC AUC score of 1 is: 0.4743817018332757\n",
      "The ROC AUC score of 2 is: 0.46615586221651695\n",
      "The ROC AUC score of 3 is: 0.49217398823936354\n",
      "The ROC AUC score of 4 is: 0.5019480562072154\n",
      "The ROC AUC score of 5 is: 0.5299703088388303\n",
      "The ROC AUC score of 6 is: 0.4866397375357949\n",
      "The ROC AUC score of 7 is: 0.518344819433336\n",
      "The ROC AUC score of 8 is: 0.501909264478589\n",
      "The ROC AUC score of 9 is: 0.49643404907975464\n"
     ]
    },
    {
     "data": {
      "image/png": "[encoded data removed]",
      "text/plain": [
       "<Figure size 640x480 with 1 Axes>"
      ]
     },
     "metadata": {},
     "output_type": "display_data"
    },
    {
     "data": {
      "image/png": "[encoded data removed]",
      "text/plain": [
       "<Figure size 640x480 with 1 Axes>"
      ]
     },
     "metadata": {},
     "output_type": "display_data"
    }
   ],
   "source": [
    "# Metadata\n",
    "\n",
    "# Training Setup\n",
    "device = \"cuda\"\n",
    "learning_rate = 0.0001\n",
    "optimizer = \"Adam\"\n",
    "loss = \"CCE\"\n",
    "# batchsize = 128\n",
    "epochs = 100\n",
    "# ratio = (0.8, 0.1, 0.1)\n",
    "\n",
    "# Data\n",
    "\n",
    "monitor = Training(device = device,\n",
    "                   learning_rate = learning_rate,\n",
    "                   optimizer = optimizer,\n",
    "                   loss = loss,\n",
    "                   model = model,\n",
    "#                    batchsize = batchsize,\n",
    "                   epochs = epochs)\n",
    "#                    label_df = label_df, \n",
    "#                    root_dir = img_data_dir, \n",
    "#                    ratio = ratio)\n",
    "monitor.__update__()"
   ]
  },
  {
   "cell_type": "code",
   "execution_count": 28,
   "id": "d7d181ac",
   "metadata": {},
   "outputs": [],
   "source": [
    "# Unitest\n",
    "\n",
    "# monitor.get_sample_count()"
   ]
  },
  {
   "cell_type": "code",
   "execution_count": 29,
   "id": "99c51f72",
   "metadata": {},
   "outputs": [],
   "source": [
    "# monitor.update()"
   ]
  },
  {
   "cell_type": "markdown",
   "id": "4df57c6c",
   "metadata": {},
   "source": [
    "# Evaluation"
   ]
  },
  {
   "cell_type": "code",
   "execution_count": 30,
   "id": "1b71e558",
   "metadata": {},
   "outputs": [],
   "source": [
    "# monitor.evaluation()"
   ]
  },
  {
   "cell_type": "markdown",
   "id": "99cbcfa8",
   "metadata": {},
   "source": [
    "# Clear Buffer"
   ]
  },
  {
   "cell_type": "code",
   "execution_count": 31,
   "id": "05eaee66",
   "metadata": {},
   "outputs": [],
   "source": [
    "# monitor.clear_buffer()"
   ]
  }
 ],
 "metadata": {
  "kernelspec": {
   "display_name": "Python 3 (ipykernel)",
   "language": "python",
   "name": "python3"
  },
  "language_info": {
   "codemirror_mode": {
    "name": "ipython",
    "version": 3
   },
   "file_extension": ".py",
   "mimetype": "text/x-python",
   "name": "python",
   "nbconvert_exporter": "python",
   "pygments_lexer": "ipython3",
   "version": "3.9.5"
  }
 },
 "nbformat": 4,
 "nbformat_minor": 5
}
