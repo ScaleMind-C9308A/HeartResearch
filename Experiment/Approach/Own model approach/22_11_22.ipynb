{
 "cells": [
  {
   "cell_type": "code",
   "execution_count": 1,
   "id": "86bf0e2c",
   "metadata": {},
   "outputs": [],
   "source": [
    "import pandas as pd\n",
    "import numpy as np\n",
    "import os\n",
    "import tensorflow as tf\n",
    "import datetime\n",
    "import cv2\n",
    "from keras import backend as K\n",
    "from keras.layers import Layer,InputSpec\n",
    "from keras import layers\n",
    "import keras.layers as kl\n",
    "from glob import glob\n",
    "from sklearn.metrics import roc_curve, auc\n",
    "from keras.preprocessing import image\n",
    "from tensorflow.keras.models import Sequential\n",
    "from sklearn.metrics import roc_auc_score\n",
    "from sklearn import preprocessing\n",
    "from tensorflow.keras import callbacks \n",
    "from tensorflow.keras.callbacks import ModelCheckpoint, EarlyStopping, ReduceLROnPlateau\n",
    "from  matplotlib import pyplot as plt\n",
    "from tensorflow.keras import Model\n",
    "from tensorflow.keras.layers import concatenate, Dense, Conv2D, MaxPooling2D, Flatten, Input, Activation, add, AveragePooling2D, BatchNormalization, Dropout\n",
    "%matplotlib inline\n",
    "import shutil\n",
    "import scipy.io\n",
    "from sklearn.metrics import  precision_score, recall_score, accuracy_score,classification_report ,confusion_matrix\n",
    "from tensorflow.python.platform import build_info as tf_build_info\n",
    "from tensorflow.keras.preprocessing.image import ImageDataGenerator\n",
    "from sklearn.model_selection import train_test_split\n",
    "\n",
    "from PIL import ImageFile\n",
    "ImageFile.LOAD_TRUNCATED_IMAGES = True"
   ]
  },
  {
   "cell_type": "code",
   "execution_count": 2,
   "id": "6d415215",
   "metadata": {},
   "outputs": [
    {
     "data": {
      "text/plain": [
       "[]"
      ]
     },
     "execution_count": 2,
     "metadata": {},
     "output_type": "execute_result"
    }
   ],
   "source": [
    "tf.config.list_physical_devices('GPU')"
   ]
  },
  {
   "cell_type": "code",
   "execution_count": 3,
   "id": "2f7ffff7",
   "metadata": {},
   "outputs": [
    {
     "name": "stdout",
     "output_type": "stream",
     "text": [
      "/Users/hoangminhthao/Documents/GitHub/HeartResearch/Experiment/Approach/Own model approach\n",
      "/Users/hoangminhthao/Documents/GitHub/HeartResearch\n"
     ]
    }
   ],
   "source": [
    "print(os.getcwd())\n",
    "for x in range(3):\n",
    "    os.chdir(\"..\")\n",
    "print(os.getcwd())"
   ]
  },
  {
   "cell_type": "code",
   "execution_count": 4,
   "id": "ead4bcf4",
   "metadata": {},
   "outputs": [
    {
     "name": "stdout",
     "output_type": "stream",
     "text": [
      "['.DS_Store', 'README.md', 'Label.csv', 'Output.png', 'TrainingSet3']\n"
     ]
    }
   ],
   "source": [
    "main_data_dir = os.getcwd() + \"/Data set\"\n",
    "print(os.listdir(main_data_dir))"
   ]
  },
  {
   "cell_type": "code",
   "execution_count": 5,
   "id": "90421496",
   "metadata": {},
   "outputs": [
    {
     "name": "stdout",
     "output_type": "stream",
     "text": [
      "<class 'str'>\n",
      "/Users/hoangminhthao/Documents/GitHub/HeartResearch/Data set/TrainingSet3/A6442.mat\n"
     ]
    }
   ],
   "source": [
    "data_mat_files = glob(main_data_dir + \"/TrainingSet*/*\")\n",
    "print(type(data_mat_files[0]))\n",
    "print(data_mat_files[0])"
   ]
  },
  {
   "cell_type": "code",
   "execution_count": 6,
   "id": "048006e8",
   "metadata": {
    "scrolled": true
   },
   "outputs": [
    {
     "data": {
      "text/html": [
       "<div>\n",
       "<style scoped>\n",
       "    .dataframe tbody tr th:only-of-type {\n",
       "        vertical-align: middle;\n",
       "    }\n",
       "\n",
       "    .dataframe tbody tr th {\n",
       "        vertical-align: top;\n",
       "    }\n",
       "\n",
       "    .dataframe thead th {\n",
       "        text-align: right;\n",
       "    }\n",
       "</style>\n",
       "<table border=\"1\" class=\"dataframe\">\n",
       "  <thead>\n",
       "    <tr style=\"text-align: right;\">\n",
       "      <th></th>\n",
       "      <th>Recording</th>\n",
       "      <th>First_label</th>\n",
       "      <th>Second_label</th>\n",
       "      <th>Third_label</th>\n",
       "    </tr>\n",
       "  </thead>\n",
       "  <tbody>\n",
       "    <tr>\n",
       "      <th>0</th>\n",
       "      <td>A0001</td>\n",
       "      <td>5</td>\n",
       "      <td>NaN</td>\n",
       "      <td>NaN</td>\n",
       "    </tr>\n",
       "    <tr>\n",
       "      <th>1</th>\n",
       "      <td>A0002</td>\n",
       "      <td>1</td>\n",
       "      <td>NaN</td>\n",
       "      <td>NaN</td>\n",
       "    </tr>\n",
       "    <tr>\n",
       "      <th>2</th>\n",
       "      <td>A0003</td>\n",
       "      <td>2</td>\n",
       "      <td>NaN</td>\n",
       "      <td>NaN</td>\n",
       "    </tr>\n",
       "    <tr>\n",
       "      <th>3</th>\n",
       "      <td>A0004</td>\n",
       "      <td>2</td>\n",
       "      <td>NaN</td>\n",
       "      <td>NaN</td>\n",
       "    </tr>\n",
       "    <tr>\n",
       "      <th>4</th>\n",
       "      <td>A0005</td>\n",
       "      <td>7</td>\n",
       "      <td>NaN</td>\n",
       "      <td>NaN</td>\n",
       "    </tr>\n",
       "  </tbody>\n",
       "</table>\n",
       "</div>"
      ],
      "text/plain": [
       "  Recording  First_label  Second_label  Third_label\n",
       "0     A0001            5           NaN          NaN\n",
       "1     A0002            1           NaN          NaN\n",
       "2     A0003            2           NaN          NaN\n",
       "3     A0004            2           NaN          NaN\n",
       "4     A0005            7           NaN          NaN"
      ]
     },
     "execution_count": 6,
     "metadata": {},
     "output_type": "execute_result"
    }
   ],
   "source": [
    "label_path = main_data_dir + \"/Label.csv\"\n",
    "label_df = pd.read_csv(label_path)\n",
    "label_df.head()"
   ]
  },
  {
   "cell_type": "code",
   "execution_count": 15,
   "id": "3a3c0612",
   "metadata": {},
   "outputs": [
    {
     "name": "stdout",
     "output_type": "stream",
     "text": [
      "[1 2 3 4 5 6 7 8 9]\n"
     ]
    }
   ],
   "source": [
    "print(np.unique(label_df['First_label'].values))"
   ]
  },
  {
   "cell_type": "code",
   "execution_count": 7,
   "id": "a8953e8e",
   "metadata": {},
   "outputs": [
    {
     "name": "stdout",
     "output_type": "stream",
     "text": [
      "{'__header__': b'MATLAB 5.0 MAT-file, Platform: PCWIN64, Created on: Tue Dec 19 15:31:52 2017', '__version__': '1.0', '__globals__': [], 'ECG': array([[(array(['Female'], dtype='<U6'), array([[62]], dtype=uint8), array([[-0.02172756, -0.03226859, -0.02439572, ..., -0.04939739,\n",
      "                -0.04311943, -0.07330249],\n",
      "               [-0.06569242, -0.09713388, -0.08775478, ..., -0.09506198,\n",
      "                -0.09508135, -0.10501402],\n",
      "               [-0.04396486, -0.06486529, -0.06335906, ..., -0.04566459,\n",
      "                -0.05196191, -0.03171153],\n",
      "               ...,\n",
      "               [-0.09784493, -0.13342814, -0.1202063 , ..., -0.10746858,\n",
      "                -0.10505069, -0.10856059],\n",
      "               [-0.07737291, -0.10661326, -0.1001836 , ..., -0.10885306,\n",
      "                -0.10040558, -0.1077501 ],\n",
      "               [-0.12013434, -0.17354123, -0.17562855, ..., -0.07852785,\n",
      "                -0.07429978, -0.07726881]]))                                                                                         ]],\n",
      "      dtype=[('sex', 'O'), ('age', 'O'), ('data', 'O')])}\n"
     ]
    }
   ],
   "source": [
    "mat = scipy.io.loadmat(data_mat_files[0])\n",
    "print(mat)"
   ]
  },
  {
   "cell_type": "code",
   "execution_count": 8,
   "id": "bd3069a9",
   "metadata": {},
   "outputs": [
    {
     "name": "stdout",
     "output_type": "stream",
     "text": [
      "<class 'str'>\n"
     ]
    }
   ],
   "source": [
    " for signal in data_mat_files:\n",
    "        print(type(signal))\n",
    "        break"
   ]
  },
  {
   "cell_type": "code",
   "execution_count": 9,
   "id": "74accfca",
   "metadata": {},
   "outputs": [
    {
     "data": {
      "text/plain": [
       "7"
      ]
     },
     "execution_count": 9,
     "metadata": {},
     "output_type": "execute_result"
    }
   ],
   "source": [
    "label_df[label_df['Recording'] == 'A0005']['First_label'].values[0]"
   ]
  },
  {
   "cell_type": "code",
   "execution_count": 21,
   "id": "4e27b21c",
   "metadata": {},
   "outputs": [],
   "source": [
    "def data_extract(signal_raw_list, label_raw, min_len = 3000):\n",
    "    signal_list = []\n",
    "    label_list = []\n",
    "    \n",
    "    for signal in signal_raw_list:\n",
    "        mat = scipy.io.loadmat(signal)\n",
    "        signal_list.append(mat['ECG'][0][0][2][:,:min_len])\n",
    "        \n",
    "        signal_number = signal.split('/')[-1].split('.')[0]\n",
    "        label_list.append(label_raw[label_raw['Recording'] == signal_number]['First_label'].values[0])\n",
    "    \n",
    "    le = preprocessing.LabelEncoder()\n",
    "    le.fit(label_list)\n",
    "    labels = le.transform(label_list)\n",
    "    print(labels)\n",
    "    labels = tf.keras.utils.to_categorical(labels)\n",
    "    print(labels)\n",
    "    return (np.array(signal_list), np.array(labels))"
   ]
  },
  {
   "cell_type": "code",
   "execution_count": 22,
   "id": "ddb60f49",
   "metadata": {},
   "outputs": [
    {
     "name": "stdout",
     "output_type": "stream",
     "text": [
      "[7 5 4 ... 4 1 4]\n",
      "[[0. 0. 0. ... 0. 1. 0.]\n",
      " [0. 0. 0. ... 0. 0. 0.]\n",
      " [0. 0. 0. ... 0. 0. 0.]\n",
      " ...\n",
      " [0. 0. 0. ... 0. 0. 0.]\n",
      " [0. 1. 0. ... 0. 0. 0.]\n",
      " [0. 0. 0. ... 0. 0. 0.]]\n"
     ]
    }
   ],
   "source": [
    "signal, label = data_extract(data_mat_files, label_df)"
   ]
  },
  {
   "cell_type": "code",
   "execution_count": 18,
   "id": "4f792d9c",
   "metadata": {},
   "outputs": [
    {
     "name": "stdout",
     "output_type": "stream",
     "text": [
      "(2407, 12, 3000)\n",
      "(2407, 9)\n"
     ]
    }
   ],
   "source": [
    "print(signal.shape)\n",
    "print(label.shape)"
   ]
  },
  {
   "cell_type": "code",
   "execution_count": null,
   "id": "175877e8",
   "metadata": {},
   "outputs": [],
   "source": []
  }
 ],
 "metadata": {
  "kernelspec": {
   "display_name": "Python 3 (ipykernel)",
   "language": "python",
   "name": "python3"
  },
  "language_info": {
   "codemirror_mode": {
    "name": "ipython",
    "version": 3
   },
   "file_extension": ".py",
   "mimetype": "text/x-python",
   "name": "python",
   "nbconvert_exporter": "python",
   "pygments_lexer": "ipython3",
   "version": "3.9.6"
  }
 },
 "nbformat": 4,
 "nbformat_minor": 5
}
