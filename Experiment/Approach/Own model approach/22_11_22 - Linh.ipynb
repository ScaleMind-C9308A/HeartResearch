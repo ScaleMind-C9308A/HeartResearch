{
 "cells": [
  {
   "cell_type": "code",
   "execution_count": 28,
   "id": "86bf0e2c",
   "metadata": {},
   "outputs": [],
   "source": [
    "import pandas as pd\n",
    "import numpy as np\n",
    "import os\n",
    "import tensorflow as tf\n",
    "import datetime\n",
    "import cv2\n",
    "from keras import backend as K\n",
    "from keras.layers import Layer,InputSpec\n",
    "from keras import layers\n",
    "import keras.layers as kl\n",
    "from glob import glob\n",
    "from sklearn.metrics import roc_curve, auc\n",
    "from keras.preprocessing import image\n",
    "from tensorflow.keras.models import Sequential\n",
    "from sklearn.metrics import roc_auc_score\n",
    "from sklearn import preprocessing\n",
    "from tensorflow.keras import callbacks \n",
    "from tensorflow.keras.callbacks import ModelCheckpoint, EarlyStopping, ReduceLROnPlateau\n",
    "from  matplotlib import pyplot as plt\n",
    "from tensorflow.keras import Model\n",
    "from tensorflow.keras.layers import concatenate, Dense, Conv2D, MaxPooling2D, Flatten, Input, Activation, add, AveragePooling2D, BatchNormalization, Dropout\n",
    "%matplotlib inline\n",
    "import shutil\n",
    "import scipy.io\n",
    "from sklearn.metrics import  precision_score, recall_score, accuracy_score,classification_report ,confusion_matrix\n",
    "from tensorflow.python.platform import build_info as tf_build_info\n",
    "from tensorflow.keras.preprocessing.image import ImageDataGenerator\n",
    "from sklearn.model_selection import train_test_split\n",
    "from sklearn.metrics import classification_report, confusion_matrix\n",
    "import seaborn as sns\n",
    "\n",
    "from PIL import ImageFile\n",
    "ImageFile.LOAD_TRUNCATED_IMAGES = True\n"
   ]
  },
  {
   "cell_type": "code",
   "execution_count": 2,
   "id": "6d415215",
   "metadata": {},
   "outputs": [
    {
     "data": {
      "text/plain": [
       "[]"
      ]
     },
     "execution_count": 2,
     "metadata": {},
     "output_type": "execute_result"
    }
   ],
   "source": [
    "tf.config.list_physical_devices('GPU')"
   ]
  },
  {
   "cell_type": "code",
   "execution_count": 3,
   "id": "2f7ffff7",
   "metadata": {},
   "outputs": [
    {
     "name": "stdout",
     "output_type": "stream",
     "text": [
      "e:\\git\\HeartResearch\\Experiment\\Approach\\Own model approach\n",
      "e:\\git\\HeartResearch\n"
     ]
    }
   ],
   "source": [
    "print(os.getcwd())\n",
    "for x in range(3):\n",
    "    os.chdir(\"..\")\n",
    "print(os.getcwd())"
   ]
  },
  {
   "cell_type": "code",
   "execution_count": 4,
   "id": "ead4bcf4",
   "metadata": {},
   "outputs": [
    {
     "name": "stdout",
     "output_type": "stream",
     "text": [
      "['Label.csv', 'Output', 'Output.png', 'README.md', 'TrainingSet1', 'TrainingSet2', 'TrainingSet3']\n"
     ]
    }
   ],
   "source": [
    "main_data_dir = os.getcwd() + \"\\\\Data set\"\n",
    "print(os.listdir(main_data_dir))"
   ]
  },
  {
   "cell_type": "code",
   "execution_count": 5,
   "id": "90421496",
   "metadata": {},
   "outputs": [
    {
     "name": "stdout",
     "output_type": "stream",
     "text": [
      "<class 'str'>\n",
      "['e:', 'git', 'HeartResearch', 'Data set', 'TrainingSet1', 'A0001.mat']\n"
     ]
    }
   ],
   "source": [
    "data_mat_files = glob(main_data_dir + \"/TrainingSet*/*\")\n",
    "print(type(data_mat_files[0]))\n",
    "print(data_mat_files[0].split('\\\\'))"
   ]
  },
  {
   "cell_type": "code",
   "execution_count": 6,
   "id": "048006e8",
   "metadata": {
    "scrolled": true
   },
   "outputs": [
    {
     "name": "stdout",
     "output_type": "stream",
     "text": [
      "     Recording  First_label  Second_label  Third_label\n",
      "0        A0001            5           NaN          NaN\n",
      "1        A0002            1           NaN          NaN\n",
      "2        A0003            2           NaN          NaN\n",
      "3        A0004            2           NaN          NaN\n",
      "4        A0005            7           NaN          NaN\n",
      "...        ...          ...           ...          ...\n",
      "6872     A6873            3           NaN          NaN\n",
      "6873     A6874            8           NaN          NaN\n",
      "6874     A6875            4           NaN          NaN\n",
      "6875     A6876            2           NaN          NaN\n",
      "6876     A6877            7           NaN          NaN\n",
      "\n",
      "[6877 rows x 4 columns]\n"
     ]
    }
   ],
   "source": [
    "label_path = main_data_dir + \"/Label.csv\"\n",
    "label_df = pd.read_csv(label_path)\n",
    "# label_df['First_label'].isnull().any()\n",
    "print(label_df)"
   ]
  },
  {
   "cell_type": "code",
   "execution_count": 7,
   "id": "3a3c0612",
   "metadata": {},
   "outputs": [
    {
     "name": "stdout",
     "output_type": "stream",
     "text": [
      "[1 2 3 4 5 6 7 8 9]\n"
     ]
    }
   ],
   "source": [
    "print(np.unique(label_df['First_label'].values))"
   ]
  },
  {
   "cell_type": "code",
   "execution_count": 8,
   "id": "a8953e8e",
   "metadata": {},
   "outputs": [
    {
     "name": "stdout",
     "output_type": "stream",
     "text": [
      "{'__header__': b'MATLAB 5.0 MAT-file, Platform: PCWIN64, Created on: Tue Dec 19 16:06:41 2017', '__version__': '1.0', '__globals__': [], 'ECG': array([[(array(['Male'], dtype='<U4'), array([[74]], dtype=uint8), array([[ 0.0282288 ,  0.0392288 ,  0.0452288 , ...,  0.2582288 ,\n",
      "         0.2592288 ,  0.2592288 ],\n",
      "       [ 0.00672947,  0.01072947,  0.01472947, ...,  0.24772947,\n",
      "         0.24872947,  0.24972947],\n",
      "       [-0.02149933, -0.02849933, -0.03049933, ..., -0.01049933,\n",
      "        -0.01049933, -0.00949933],\n",
      "       ...,\n",
      "       [-0.11200653, -0.11000653, -0.10800653, ...,  0.19399347,\n",
      "         0.19399347,  0.19499347],\n",
      "       [-0.5959572 , -0.5899572 , -0.5819572 , ...,  0.3070428 ,\n",
      "         0.3070428 ,  0.3070428 ],\n",
      "       [-0.01558507, -0.00658507,  0.00241493, ...,  0.21341493,\n",
      "         0.21441493,  0.21441493]]))]],\n",
      "      dtype=[('sex', 'O'), ('age', 'O'), ('data', 'O')])}\n"
     ]
    }
   ],
   "source": [
    "mat = scipy.io.loadmat(data_mat_files[0])\n",
    "print(mat)"
   ]
  },
  {
   "cell_type": "code",
   "execution_count": 9,
   "id": "bd3069a9",
   "metadata": {},
   "outputs": [
    {
     "name": "stdout",
     "output_type": "stream",
     "text": [
      "<class 'str'>\n"
     ]
    }
   ],
   "source": [
    "for signal in data_mat_files:\n",
    "        print(type(signal))\n",
    "        break"
   ]
  },
  {
   "cell_type": "code",
   "execution_count": 10,
   "id": "74accfca",
   "metadata": {},
   "outputs": [
    {
     "data": {
      "text/plain": [
       "7"
      ]
     },
     "execution_count": 10,
     "metadata": {},
     "output_type": "execute_result"
    }
   ],
   "source": [
    "label_df[label_df['Recording'] == 'A0005']['First_label'].values[0]"
   ]
  },
  {
   "cell_type": "code",
   "execution_count": 11,
   "id": "4e27b21c",
   "metadata": {},
   "outputs": [],
   "source": [
    "def data_extract(signal_raw_list, label_raw, min_len = 3000):\n",
    "    signal_list = []\n",
    "    label_list = []\n",
    "    \n",
    "    for signal in signal_raw_list:\n",
    "        mat = scipy.io.loadmat(signal)\n",
    "        signal_list.append(mat['ECG'][0][0][2][:,:min_len])\n",
    "        \n",
    "        signal_number = signal.split('\\\\')[-1].split('.')[0]\n",
    "        label_list.append(label_raw[label_raw['Recording'] == signal_number]['First_label'].values[0])\n",
    "    \n",
    "    le = preprocessing.LabelEncoder()\n",
    "    le.fit(label_list)\n",
    "    labels = le.transform(label_list)\n",
    "    labels = tf.keras.utils.to_categorical(labels)\n",
    "    return (np.array(signal_list), np.array(labels))"
   ]
  },
  {
   "cell_type": "code",
   "execution_count": 12,
   "id": "ddb60f49",
   "metadata": {},
   "outputs": [],
   "source": [
    "signal, label = data_extract(data_mat_files, label_df)"
   ]
  },
  {
   "cell_type": "code",
   "execution_count": 13,
   "id": "4f792d9c",
   "metadata": {},
   "outputs": [
    {
     "name": "stdout",
     "output_type": "stream",
     "text": [
      "[[ 0.0282288   0.0392288   0.0452288  ...  0.1672288   0.1762288\n",
      "   0.1842288 ]\n",
      " [ 0.00672947  0.01072947  0.01472947 ...  0.20672947  0.21272947\n",
      "   0.21572947]\n",
      " [-0.02149933 -0.02849933 -0.03049933 ...  0.03950067  0.03650067\n",
      "   0.03150067]\n",
      " ...\n",
      " [-0.11200653 -0.11000653 -0.10800653 ...  0.33999347  0.34299347\n",
      "   0.34599347]\n",
      " [-0.5959572  -0.5899572  -0.5819572  ...  0.3370428   0.3430428\n",
      "   0.3460428 ]\n",
      " [-0.01558507 -0.00658507  0.00241493 ...  0.62641493  0.63141493\n",
      "   0.63841493]]\n",
      "<class 'numpy.ndarray'>\n"
     ]
    }
   ],
   "source": [
    "print(signal[0])\n",
    "print(type(label))"
   ]
  },
  {
   "cell_type": "code",
   "execution_count": 14,
   "id": "ea312325",
   "metadata": {},
   "outputs": [],
   "source": [
    "train_signal = signal[:80]\n",
    "train_label = label[:80]\n",
    "\n",
    "test_signal = signal[80:]\n",
    "test_label = label[80:]"
   ]
  },
  {
   "cell_type": "code",
   "execution_count": 15,
   "id": "45449b94",
   "metadata": {},
   "outputs": [],
   "source": [
    "class Model1_LSTM(tf.keras.Model):\n",
    "    def __init__(self, activation, rate, units_LSTM, units_dense, recurrent_dropout, dropout):\n",
    "        super(Model1_LSTM, self).__init__()\n",
    "        unit_dense1, unit_dense2 = units_dense\n",
    "        act1, act2 = activation\n",
    "        self.LSTM = layers.LSTM(units=units_LSTM, \n",
    "                                activation='tanh', \n",
    "                                recurrent_activation='hard_sigmoid', \n",
    "                                recurrent_dropout=recurrent_dropout,\n",
    "                                dropout=dropout)\n",
    "        self.dense1 = Dense(units=unit_dense1, \n",
    "                            activation=act1)\n",
    "        self.drop = Dropout(rate)\n",
    "        self.dense2 = Dense(units=unit_dense2,\n",
    "                            activation=act2)\n",
    "\n",
    "    def call(self, input):\n",
    "        x = self.LSTM(input)\n",
    "        x = self.dense1(x)\n",
    "        x = self.drop(x)\n",
    "        x = self.dense2(x)\n",
    "\n",
    "        return x"
   ]
  },
  {
   "cell_type": "code",
   "execution_count": 16,
   "id": "d0af085b",
   "metadata": {},
   "outputs": [
    {
     "name": "stdout",
     "output_type": "stream",
     "text": [
      "Model: \"model\"\n",
      "_________________________________________________________________\n",
      " Layer (type)                Output Shape              Param #   \n",
      "=================================================================\n",
      " input_1 (InputLayer)        [(None, 12, 3000)]        0         \n",
      "                                                                 \n",
      " model1_lstm (Model1_LSTM)   (None, 9)                 789385    \n",
      "                                                                 \n",
      "=================================================================\n",
      "Total params: 789,385\n",
      "Trainable params: 789,385\n",
      "Non-trainable params: 0\n",
      "_________________________________________________________________\n"
     ]
    }
   ],
   "source": [
    "basemodel = Model1_LSTM(units_dense = (64, 9), \n",
    "                        activation = ('relu', 'softmax'), \n",
    "                        rate = 0.5, \n",
    "                        units_LSTM= 64, \n",
    "                        recurrent_dropout= 0.2, \n",
    "                        dropout=0.2)\n",
    "                        \n",
    "Input = tf.keras.Input(shape= (12,3000))\n",
    "# input = train_signal\n",
    "output = basemodel(Input)\n",
    "model = tf.keras.Model(Input, output)\n",
    "model.summary()"
   ]
  },
  {
   "cell_type": "code",
   "execution_count": 17,
   "id": "c68438d8",
   "metadata": {},
   "outputs": [],
   "source": [
    "model.compile(optimizer='adam', loss = tf.keras.losses.CategoricalCrossentropy(from_logits=False), metrics = 'accuracy')"
   ]
  },
  {
   "cell_type": "code",
   "execution_count": 18,
   "id": "842a4377",
   "metadata": {},
   "outputs": [
    {
     "name": "stdout",
     "output_type": "stream",
     "text": [
      "Epoch 1/10\n",
      "3/3 [==============================] - 4s 81ms/step - loss: 2.2084 - accuracy: 0.1500\n",
      "Epoch 2/10\n",
      "3/3 [==============================] - 0s 77ms/step - loss: 1.9321 - accuracy: 0.4000\n",
      "Epoch 3/10\n",
      "3/3 [==============================] - 0s 72ms/step - loss: 1.7644 - accuracy: 0.5125\n",
      "Epoch 4/10\n",
      "3/3 [==============================] - 0s 70ms/step - loss: 1.5454 - accuracy: 0.6625\n",
      "Epoch 5/10\n",
      "3/3 [==============================] - 0s 71ms/step - loss: 1.4174 - accuracy: 0.6625\n",
      "Epoch 6/10\n",
      "3/3 [==============================] - 0s 70ms/step - loss: 1.2785 - accuracy: 0.8000\n",
      "Epoch 7/10\n",
      "3/3 [==============================] - 0s 71ms/step - loss: 1.1364 - accuracy: 0.8500\n",
      "Epoch 8/10\n",
      "3/3 [==============================] - 0s 71ms/step - loss: 1.0275 - accuracy: 0.8875\n",
      "Epoch 9/10\n",
      "3/3 [==============================] - 0s 80ms/step - loss: 0.9124 - accuracy: 0.8250\n",
      "Epoch 10/10\n",
      "3/3 [==============================] - 0s 72ms/step - loss: 0.8010 - accuracy: 0.9500\n"
     ]
    },
    {
     "data": {
      "text/plain": [
       "<keras.callbacks.History at 0x21508eadc10>"
      ]
     },
     "execution_count": 18,
     "metadata": {},
     "output_type": "execute_result"
    }
   ],
   "source": [
    "model.fit(train_signal, train_label, epochs=10, )"
   ]
  },
  {
   "cell_type": "code",
   "execution_count": 19,
   "id": "fc347cc6",
   "metadata": {},
   "outputs": [],
   "source": [
    "prediction = model.predict(test_signal)"
   ]
  },
  {
   "cell_type": "code",
   "execution_count": 20,
   "id": "6ee60d36",
   "metadata": {},
   "outputs": [
    {
     "data": {
      "text/plain": [
       "numpy.ndarray"
      ]
     },
     "execution_count": 20,
     "metadata": {},
     "output_type": "execute_result"
    }
   ],
   "source": [
    "type(prediction)"
   ]
  },
  {
   "cell_type": "code",
   "execution_count": 21,
   "id": "420b5db9",
   "metadata": {},
   "outputs": [
    {
     "data": {
      "text/plain": [
       "array([0.10871869, 0.17655358, 0.04541639, 0.04207508, 0.24635339,\n",
       "       0.09159508, 0.07616662, 0.14797081, 0.06515024], dtype=float32)"
      ]
     },
     "execution_count": 21,
     "metadata": {},
     "output_type": "execute_result"
    }
   ],
   "source": [
    "prediction[0]\n"
   ]
  },
  {
   "cell_type": "code",
   "execution_count": 22,
   "id": "70669c89",
   "metadata": {},
   "outputs": [
    {
     "data": {
      "text/plain": [
       "array([0., 0., 0., 1., 0., 0., 0., 0., 0.], dtype=float32)"
      ]
     },
     "execution_count": 22,
     "metadata": {},
     "output_type": "execute_result"
    }
   ],
   "source": [
    "test_label[0]"
   ]
  },
  {
   "cell_type": "code",
   "execution_count": 23,
   "id": "8b3d20f8",
   "metadata": {},
   "outputs": [
    {
     "name": "stdout",
     "output_type": "stream",
     "text": [
      "              precision    recall  f1-score   support\n",
      "\n",
      "           0       0.15      0.03      0.05       907\n",
      "           1       0.15      0.17      0.16      1086\n",
      "           2       0.20      0.01      0.02       701\n",
      "           3       0.05      0.03      0.04       202\n",
      "           4       0.24      0.37      0.29      1679\n",
      "           5       0.05      0.01      0.01       569\n",
      "           6       0.10      0.13      0.11       645\n",
      "           7       0.12      0.19      0.14       815\n",
      "           8       0.06      0.13      0.08       193\n",
      "\n",
      "    accuracy                           0.16      6797\n",
      "   macro avg       0.12      0.12      0.10      6797\n",
      "weighted avg       0.15      0.16      0.14      6797\n",
      "\n"
     ]
    }
   ],
   "source": [
    "print(classification_report(np.argmax(test_label,axis=1),np.argmax(prediction, axis=1)))"
   ]
  },
  {
   "cell_type": "code",
   "execution_count": 26,
   "id": "8856848d",
   "metadata": {},
   "outputs": [
    {
     "data": {
      "image/png": "[encoded data removed]",
      "text/plain": [
       "<Figure size 640x480 with 1 Axes>"
      ]
     },
     "metadata": {},
     "output_type": "display_data"
    }
   ],
   "source": [
    "disp = ConfusionMatrixDisplay.from_predictions(np.argmax(test_label,axis=1),np.argmax(prediction, axis=1), colorbar=None, cmap='Blues')"
   ]
  },
  {
   "cell_type": "code",
   "execution_count": null,
   "id": "1557ed82",
   "metadata": {},
   "outputs": [],
   "source": [
    "targetnames = ['akiec', 'bcc', 'bkl', 'df', 'mel', 'nv', 'vasc']\n",
    "sns.set(font_scale=2)\n",
    "from sklearn.metrics import multilabel_confusion_matrix\n",
    "from sklearn.metrics import confusion_matrix\n",
    "# multi_cm = multilabel_confusion_matrix(y_true, y_pred)\n",
    "cm = confusion_matrix(y_true, prediction)\n",
    "df_cm = pd.DataFrame(cm, index = targetnames, columns = targetnames)\n",
    "plt.figure(figsize = (15,15))\n",
    "sns.heatmap(df_cm, annot=True, cmap = \"Blues\")"
   ]
  },
  {
   "cell_type": "code",
   "execution_count": null,
   "id": "778c7016",
   "metadata": {},
   "outputs": [],
   "source": []
  }
 ],
 "metadata": {
  "kernelspec": {
   "display_name": "Python 3 (ipykernel)",
   "language": "python",
   "name": "python3"
  },
  "language_info": {
   "codemirror_mode": {
    "name": "ipython",
    "version": 3
   },
   "file_extension": ".py",
   "mimetype": "text/x-python",
   "name": "python",
   "nbconvert_exporter": "python",
   "pygments_lexer": "ipython3",
   "version": "3.9.6"
  },
  "vscode": {
   "interpreter": {
    "hash": "4e452ee330f6d751e1dd180b1e70bd0d390f5cf9a616fc37fafdccabf65d1ea1"
   }
  }
 },
 "nbformat": 4,
 "nbformat_minor": 5
}
