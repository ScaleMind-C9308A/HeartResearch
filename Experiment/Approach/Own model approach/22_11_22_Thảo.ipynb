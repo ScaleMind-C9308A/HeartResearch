{
 "cells": [
  {
   "cell_type": "code",
   "execution_count": 1,
   "id": "86bf0e2c",
   "metadata": {},
   "outputs": [],
   "source": [
    "import pandas as pd\n",
    "import numpy as np\n",
    "import os\n",
    "import tensorflow as tf\n",
    "import datetime\n",
    "import cv2\n",
    "from keras import backend as K\n",
    "from keras.layers import Layer,InputSpec\n",
    "from keras import layers\n",
    "import keras.layers as kl\n",
    "from glob import glob\n",
    "from sklearn.metrics import roc_curve, auc\n",
    "from keras.preprocessing import image\n",
    "from tensorflow.keras.models import Sequential\n",
    "from sklearn.metrics import roc_auc_score\n",
    "from sklearn import preprocessing\n",
    "from tensorflow.keras import callbacks \n",
    "from tensorflow.keras.callbacks import ModelCheckpoint, EarlyStopping, ReduceLROnPlateau\n",
    "from  matplotlib import pyplot as plt\n",
    "from tensorflow.keras import Model\n",
    "from tensorflow.keras.layers import concatenate, Dense, Conv2D, MaxPooling2D, Flatten, Input, Activation, add, AveragePooling2D, BatchNormalization, Dropout\n",
    "%matplotlib inline\n",
    "import shutil\n",
    "import scipy.io\n",
    "from sklearn.metrics import  precision_score, recall_score, accuracy_score,classification_report ,confusion_matrix\n",
    "from tensorflow.python.platform import build_info as tf_build_info\n",
    "from tensorflow.keras.preprocessing.image import ImageDataGenerator\n",
    "from sklearn.model_selection import train_test_split\n",
    "\n",
    "from PIL import ImageFile\n",
    "ImageFile.LOAD_TRUNCATED_IMAGES = True"
   ]
  },
  {
   "cell_type": "code",
   "execution_count": 2,
   "id": "6d415215",
   "metadata": {},
   "outputs": [
    {
     "data": {
      "text/plain": [
       "[]"
      ]
     },
     "execution_count": 2,
     "metadata": {},
     "output_type": "execute_result"
    }
   ],
   "source": [
    "tf.config.list_physical_devices('GPU')"
   ]
  },
  {
   "cell_type": "code",
   "execution_count": 5,
   "id": "2f7ffff7",
   "metadata": {},
   "outputs": [
    {
     "name": "stdout",
     "output_type": "stream",
     "text": [
      "/Users/hoangminhthao/Documents/GitHub/HeartResearch\n"
     ]
    }
   ],
   "source": [
    "os.getcwd()\n",
    "for x in range(3):\n",
    "    os.chdir('..')\n",
    "print (os.getcwd())"
   ]
  },
  {
   "cell_type": "code",
   "execution_count": 6,
   "id": "ead4bcf4",
   "metadata": {},
   "outputs": [
    {
     "name": "stdout",
     "output_type": "stream",
     "text": [
      "['.DS_Store', 'README.md', 'Label.csv', 'Output.png', 'TrainingSet3']\n"
     ]
    }
   ],
   "source": [
    "main_data_dir = os.getcwd() + \"/Data set\"\n",
    "print(os.listdir(main_data_dir))"
   ]
  },
  {
   "cell_type": "code",
   "execution_count": 7,
   "id": "90421496",
   "metadata": {},
   "outputs": [
    {
     "name": "stdout",
     "output_type": "stream",
     "text": [
      "<class 'str'>\n",
      "['/Users/hoangminhthao/Documents/GitHub/HeartResearch/Data set/TrainingSet3/A6442.mat']\n"
     ]
    }
   ],
   "source": [
    "data_mat_files = glob(main_data_dir + \"/TrainingSet*/*\")\n",
    "print(type(data_mat_files[0]))\n",
    "print(data_mat_files[0].split('\\\\'))"
   ]
  },
  {
   "cell_type": "code",
   "execution_count": 8,
   "id": "048006e8",
   "metadata": {
    "scrolled": true
   },
   "outputs": [
    {
     "name": "stdout",
     "output_type": "stream",
     "text": [
      "     Recording  First_label  Second_label  Third_label\n",
      "0        A0001            5           NaN          NaN\n",
      "1        A0002            1           NaN          NaN\n",
      "2        A0003            2           NaN          NaN\n",
      "3        A0004            2           NaN          NaN\n",
      "4        A0005            7           NaN          NaN\n",
      "...        ...          ...           ...          ...\n",
      "6872     A6873            3           NaN          NaN\n",
      "6873     A6874            8           NaN          NaN\n",
      "6874     A6875            4           NaN          NaN\n",
      "6875     A6876            2           NaN          NaN\n",
      "6876     A6877            7           NaN          NaN\n",
      "\n",
      "[6877 rows x 4 columns]\n"
     ]
    }
   ],
   "source": [
    "label_path = main_data_dir + \"/Label.csv\"\n",
    "label_df = pd.read_csv(label_path)\n",
    "# label_df['First_label'].isnull().any()\n",
    "print(label_df)"
   ]
  },
  {
   "cell_type": "code",
   "execution_count": 9,
   "id": "3a3c0612",
   "metadata": {},
   "outputs": [
    {
     "name": "stdout",
     "output_type": "stream",
     "text": [
      "[1 2 3 4 5 6 7 8 9]\n"
     ]
    }
   ],
   "source": [
    "print(np.unique(label_df['First_label'].values))"
   ]
  },
  {
   "cell_type": "code",
   "execution_count": 10,
   "id": "a8953e8e",
   "metadata": {},
   "outputs": [
    {
     "name": "stdout",
     "output_type": "stream",
     "text": [
      "{'__header__': b'MATLAB 5.0 MAT-file, Platform: PCWIN64, Created on: Tue Dec 19 15:31:52 2017', '__version__': '1.0', '__globals__': [], 'ECG': array([[(array(['Female'], dtype='<U6'), array([[62]], dtype=uint8), array([[-0.02172756, -0.03226859, -0.02439572, ..., -0.04939739,\n",
      "                -0.04311943, -0.07330249],\n",
      "               [-0.06569242, -0.09713388, -0.08775478, ..., -0.09506198,\n",
      "                -0.09508135, -0.10501402],\n",
      "               [-0.04396486, -0.06486529, -0.06335906, ..., -0.04566459,\n",
      "                -0.05196191, -0.03171153],\n",
      "               ...,\n",
      "               [-0.09784493, -0.13342814, -0.1202063 , ..., -0.10746858,\n",
      "                -0.10505069, -0.10856059],\n",
      "               [-0.07737291, -0.10661326, -0.1001836 , ..., -0.10885306,\n",
      "                -0.10040558, -0.1077501 ],\n",
      "               [-0.12013434, -0.17354123, -0.17562855, ..., -0.07852785,\n",
      "                -0.07429978, -0.07726881]]))                                                                                         ]],\n",
      "      dtype=[('sex', 'O'), ('age', 'O'), ('data', 'O')])}\n"
     ]
    }
   ],
   "source": [
    "mat = scipy.io.loadmat(data_mat_files[0])\n",
    "print(mat)"
   ]
  },
  {
   "cell_type": "code",
   "execution_count": 11,
   "id": "bd3069a9",
   "metadata": {},
   "outputs": [
    {
     "name": "stdout",
     "output_type": "stream",
     "text": [
      "<class 'str'>\n"
     ]
    }
   ],
   "source": [
    "for signal in data_mat_files:\n",
    "        print(type(signal))\n",
    "        break"
   ]
  },
  {
   "cell_type": "code",
   "execution_count": 12,
   "id": "74accfca",
   "metadata": {},
   "outputs": [
    {
     "data": {
      "text/plain": [
       "7"
      ]
     },
     "execution_count": 12,
     "metadata": {},
     "output_type": "execute_result"
    }
   ],
   "source": [
    "label_df[label_df['Recording'] == 'A0005']['First_label'].values[0]"
   ]
  },
  {
   "cell_type": "code",
   "execution_count": 16,
   "id": "4e27b21c",
   "metadata": {},
   "outputs": [],
   "source": [
    "def data_extract(signal_raw_list, label_raw, min_len = 3000):\n",
    "    signal_list = []\n",
    "    label_list = []\n",
    "    \n",
    "    for signal in signal_raw_list:\n",
    "        mat = scipy.io.loadmat(signal)\n",
    "        signal_list.append(mat['ECG'][0][0][2][:,:min_len])\n",
    "        \n",
    "        signal_number = signal.split('/')[-1].split('.')[0]\n",
    "        label_list.append(label_raw[label_raw['Recording'] == signal_number]['First_label'].values[0])\n",
    "    \n",
    "    le = preprocessing.LabelEncoder()\n",
    "    le.fit(label_list)\n",
    "    labels = le.transform(label_list)\n",
    "    labels = tf.keras.utils.to_categorical(labels)\n",
    "    return (np.array(signal_list), np.array(labels))"
   ]
  },
  {
   "cell_type": "code",
   "execution_count": 17,
   "id": "ddb60f49",
   "metadata": {},
   "outputs": [],
   "source": [
    "signal, label = data_extract(data_mat_files, label_df)"
   ]
  },
  {
   "cell_type": "code",
   "execution_count": 18,
   "id": "4f792d9c",
   "metadata": {},
   "outputs": [
    {
     "name": "stdout",
     "output_type": "stream",
     "text": [
      "(2407, 12, 3000)\n",
      "(2407, 9)\n"
     ]
    }
   ],
   "source": [
    "print(signal.shape)\n",
    "print(label.shape)"
   ]
  },
  {
   "cell_type": "code",
   "execution_count": 19,
   "id": "ea312325",
   "metadata": {},
   "outputs": [],
   "source": [
    "train_signal = signal[:80]\n",
    "train_label = label[:80]\n",
    "\n",
    "test_signal = signal[80:]\n",
    "test_label = label[80:]"
   ]
  },
  {
   "cell_type": "code",
   "execution_count": 20,
   "id": "45449b94",
   "metadata": {},
   "outputs": [],
   "source": [
    "class Model1_LSTM(tf.keras.Model):\n",
    "    def __init__(self, activation, rate, units_LSTM, units_dense, recurrent_dropout, dropout):\n",
    "        super(Model1_LSTM, self).__init__()\n",
    "        unit_dense1, unit_dense2 = units_dense\n",
    "        act1, act2 = activation\n",
    "        self.LSTM = layers.LSTM(units=units_LSTM, \n",
    "                                activation='tanh', \n",
    "                                recurrent_activation='hard_sigmoid', \n",
    "                                recurrent_dropout=recurrent_dropout,\n",
    "                                dropout=dropout)\n",
    "        self.dense1 = Dense(units=unit_dense1, \n",
    "                            activation=act1)\n",
    "        self.drop = Dropout(rate)\n",
    "        self.dense2 = Dense(units=unit_dense2,\n",
    "                            activation=act2)\n",
    "\n",
    "    def call(self, input):\n",
    "        x = self.LSTM(input)\n",
    "        x = self.dense1(x)\n",
    "        x = self.drop(x)\n",
    "        x = self.dense2(x)\n",
    "\n",
    "        return x"
   ]
  },
  {
   "cell_type": "code",
   "execution_count": 21,
   "id": "d0af085b",
   "metadata": {},
   "outputs": [
    {
     "name": "stdout",
     "output_type": "stream",
     "text": [
      "Model: \"model\"\n",
      "_________________________________________________________________\n",
      " Layer (type)                Output Shape              Param #   \n",
      "=================================================================\n",
      " input_1 (InputLayer)        [(None, 12, 3000)]        0         \n",
      "                                                                 \n",
      " model1_lstm (Model1_LSTM)   (None, 9)                 789385    \n",
      "                                                                 \n",
      "=================================================================\n",
      "Total params: 789,385\n",
      "Trainable params: 789,385\n",
      "Non-trainable params: 0\n",
      "_________________________________________________________________\n"
     ]
    }
   ],
   "source": [
    "basemodel = Model1_LSTM(units_dense = (64, 9), \n",
    "                        activation = ('relu', 'softmax'), \n",
    "                        rate = 0.5, \n",
    "                        units_LSTM= 64, \n",
    "                        recurrent_dropout= 0.2, \n",
    "                        dropout=0.2)\n",
    "                        \n",
    "Input = tf.keras.Input(shape= (12,3000))\n",
    "# input = train_signal\n",
    "output = basemodel(Input)\n",
    "model = tf.keras.Model(Input, output)\n",
    "model.summary()"
   ]
  },
  {
   "cell_type": "code",
   "execution_count": 24,
   "id": "c68438d8",
   "metadata": {},
   "outputs": [],
   "source": [
    "model.compile(optimizer='adam', loss = tf.keras.lo)"
   ]
  },
  {
   "cell_type": "code",
   "execution_count": 23,
   "id": "842a4377",
   "metadata": {},
   "outputs": [
    {
     "name": "stderr",
     "output_type": "stream",
     "text": [
      "2022-11-26 13:58:23.164948: W tensorflow/core/platform/profile_utils/cpu_utils.cc:128] Failed to get CPU frequency: 0 Hz\n"
     ]
    },
    {
     "ename": "ValueError",
     "evalue": "in user code:\n\n    File \"/Library/Frameworks/Python.framework/Versions/3.9/lib/python3.9/site-packages/keras/engine/training.py\", line 1160, in train_function  *\n        return step_function(self, iterator)\n    File \"/Library/Frameworks/Python.framework/Versions/3.9/lib/python3.9/site-packages/keras/engine/training.py\", line 1146, in step_function  **\n        outputs = model.distribute_strategy.run(run_step, args=(data,))\n    File \"/Library/Frameworks/Python.framework/Versions/3.9/lib/python3.9/site-packages/keras/engine/training.py\", line 1135, in run_step  **\n        outputs = model.train_step(data)\n    File \"/Library/Frameworks/Python.framework/Versions/3.9/lib/python3.9/site-packages/keras/engine/training.py\", line 995, in train_step\n        self._validate_target_and_loss(y, loss)\n    File \"/Library/Frameworks/Python.framework/Versions/3.9/lib/python3.9/site-packages/keras/engine/training.py\", line 959, in _validate_target_and_loss\n        raise ValueError(\n\n    ValueError: No loss found. You may have forgotten to provide a `loss` argument in the `compile()` method.\n",
     "output_type": "error",
     "traceback": [
      "\u001b[0;31m---------------------------------------------------------------------------\u001b[0m",
      "\u001b[0;31mValueError\u001b[0m                                Traceback (most recent call last)",
      "Cell \u001b[0;32mIn [23], line 1\u001b[0m\n\u001b[0;32m----> 1\u001b[0m \u001b[43mmodel\u001b[49m\u001b[38;5;241;43m.\u001b[39;49m\u001b[43mfit\u001b[49m\u001b[43m(\u001b[49m\u001b[43mtrain_signal\u001b[49m\u001b[43m,\u001b[49m\u001b[43m \u001b[49m\u001b[43mtrain_label\u001b[49m\u001b[43m)\u001b[49m\n",
      "File \u001b[0;32m/Library/Frameworks/Python.framework/Versions/3.9/lib/python3.9/site-packages/keras/utils/traceback_utils.py:70\u001b[0m, in \u001b[0;36mfilter_traceback.<locals>.error_handler\u001b[0;34m(*args, **kwargs)\u001b[0m\n\u001b[1;32m     67\u001b[0m     filtered_tb \u001b[38;5;241m=\u001b[39m _process_traceback_frames(e\u001b[38;5;241m.\u001b[39m__traceback__)\n\u001b[1;32m     68\u001b[0m     \u001b[38;5;66;03m# To get the full stack trace, call:\u001b[39;00m\n\u001b[1;32m     69\u001b[0m     \u001b[38;5;66;03m# `tf.debugging.disable_traceback_filtering()`\u001b[39;00m\n\u001b[0;32m---> 70\u001b[0m     \u001b[38;5;28;01mraise\u001b[39;00m e\u001b[38;5;241m.\u001b[39mwith_traceback(filtered_tb) \u001b[38;5;28;01mfrom\u001b[39;00m \u001b[38;5;28mNone\u001b[39m\n\u001b[1;32m     71\u001b[0m \u001b[38;5;28;01mfinally\u001b[39;00m:\n\u001b[1;32m     72\u001b[0m     \u001b[38;5;28;01mdel\u001b[39;00m filtered_tb\n",
      "File \u001b[0;32m/var/folders/k_/d2nkydtj1k3ft4r8qf5_tq_w0000gn/T/__autograph_generated_filexk5xunkk.py:15\u001b[0m, in \u001b[0;36mouter_factory.<locals>.inner_factory.<locals>.tf__train_function\u001b[0;34m(iterator)\u001b[0m\n\u001b[1;32m     13\u001b[0m \u001b[38;5;28;01mtry\u001b[39;00m:\n\u001b[1;32m     14\u001b[0m     do_return \u001b[38;5;241m=\u001b[39m \u001b[38;5;28;01mTrue\u001b[39;00m\n\u001b[0;32m---> 15\u001b[0m     retval_ \u001b[38;5;241m=\u001b[39m ag__\u001b[38;5;241m.\u001b[39mconverted_call(ag__\u001b[38;5;241m.\u001b[39mld(step_function), (ag__\u001b[38;5;241m.\u001b[39mld(\u001b[38;5;28mself\u001b[39m), ag__\u001b[38;5;241m.\u001b[39mld(iterator)), \u001b[38;5;28;01mNone\u001b[39;00m, fscope)\n\u001b[1;32m     16\u001b[0m \u001b[38;5;28;01mexcept\u001b[39;00m:\n\u001b[1;32m     17\u001b[0m     do_return \u001b[38;5;241m=\u001b[39m \u001b[38;5;28;01mFalse\u001b[39;00m\n",
      "\u001b[0;31mValueError\u001b[0m: in user code:\n\n    File \"/Library/Frameworks/Python.framework/Versions/3.9/lib/python3.9/site-packages/keras/engine/training.py\", line 1160, in train_function  *\n        return step_function(self, iterator)\n    File \"/Library/Frameworks/Python.framework/Versions/3.9/lib/python3.9/site-packages/keras/engine/training.py\", line 1146, in step_function  **\n        outputs = model.distribute_strategy.run(run_step, args=(data,))\n    File \"/Library/Frameworks/Python.framework/Versions/3.9/lib/python3.9/site-packages/keras/engine/training.py\", line 1135, in run_step  **\n        outputs = model.train_step(data)\n    File \"/Library/Frameworks/Python.framework/Versions/3.9/lib/python3.9/site-packages/keras/engine/training.py\", line 995, in train_step\n        self._validate_target_and_loss(y, loss)\n    File \"/Library/Frameworks/Python.framework/Versions/3.9/lib/python3.9/site-packages/keras/engine/training.py\", line 959, in _validate_target_and_loss\n        raise ValueError(\n\n    ValueError: No loss found. You may have forgotten to provide a `loss` argument in the `compile()` method.\n"
     ]
    }
   ],
   "source": [
    "model.fit(train_signal, train_label)"
   ]
  },
  {
   "cell_type": "code",
   "execution_count": null,
   "id": "a6096514",
   "metadata": {},
   "outputs": [],
   "source": []
  },
  {
   "cell_type": "code",
   "execution_count": null,
   "id": "8b68acbe",
   "metadata": {},
   "outputs": [],
   "source": []
  }
 ],
 "metadata": {
  "kernelspec": {
   "display_name": "Python 3 (ipykernel)",
   "language": "python",
   "name": "python3"
  },
  "language_info": {
   "codemirror_mode": {
    "name": "ipython",
    "version": 3
   },
   "file_extension": ".py",
   "mimetype": "text/x-python",
   "name": "python",
   "nbconvert_exporter": "python",
   "pygments_lexer": "ipython3",
   "version": "3.9.6"
  },
  "vscode": {
   "interpreter": {
    "hash": "4e452ee330f6d751e1dd180b1e70bd0d390f5cf9a616fc37fafdccabf65d1ea1"
   }
  }
 },
 "nbformat": 4,
 "nbformat_minor": 5
}
