{
 "cells": [
  {
   "cell_type": "code",
   "execution_count": 2,
   "metadata": {},
   "outputs": [],
   "source": [
    "import pandas as pd\n",
    "import scipy.io\n",
    "import scipy.signal as ss\n",
    "import pywt\n",
    "import glob\n",
    "import matplotlib.pyplot as plt\n",
    "import scaleogram as scg\n",
    "from scaleogram import cws\n",
    "import numpy as np\n",
    "from math import *\n",
    "import os"
   ]
  },
  {
   "cell_type": "code",
   "execution_count": 3,
   "metadata": {},
   "outputs": [
    {
     "name": "stdout",
     "output_type": "stream",
     "text": [
      "e:\\git\\HeartResearch\\Data Preprocessing\n"
     ]
    }
   ],
   "source": [
    "print(os.getcwd())\n",
    "os.chdir(\"..\")"
   ]
  },
  {
   "cell_type": "code",
   "execution_count": 4,
   "metadata": {},
   "outputs": [
    {
     "name": "stdout",
     "output_type": "stream",
     "text": [
      "['Label.csv', 'Median_Filter', 'Output', 'Output.png', 'README.md', 'Scaleogram_512_256', 'TrainingSet1', 'TrainingSet2', 'TrainingSet3']\n"
     ]
    }
   ],
   "source": [
    "main_data_dir = os.getcwd() + \"\\Data set\"\n",
    "print(os.listdir(main_data_dir))"
   ]
  },
  {
   "cell_type": "code",
   "execution_count": 5,
   "metadata": {},
   "outputs": [],
   "source": [
    "data_mat_files = glob.glob(main_data_dir + \"/TrainingSet*/*\")\n",
    "label_path = main_data_dir + \"/Label.csv\"\n",
    "label_df = pd.read_csv(label_path)"
   ]
  },
  {
   "cell_type": "code",
   "execution_count": 6,
   "metadata": {},
   "outputs": [
    {
     "name": "stdout",
     "output_type": "stream",
     "text": [
      "(6877, 12, 3000)\n"
     ]
    }
   ],
   "source": [
    "def data_extract(signal_raw_list, min_len = 3000):\n",
    "    signal_list = []\n",
    "    signal_number_list = []\n",
    "    \n",
    "    for signal in signal_raw_list:\n",
    "        mat = scipy.io.loadmat(signal)\n",
    "        signal_list.append(mat['ECG'][0][0][2][:,:min_len])\n",
    "        signal_number = signal.split('\\\\')[-1].split('.')[0]\n",
    "        signal_number_list.append(signal_number)\n",
    "\n",
    "    return (np.array(signal_list), signal_number_list)\n",
    "\n",
    "signal_list, signal_number = data_extract(data_mat_files)\n",
    "print(signal_list.shape)"
   ]
  },
  {
   "cell_type": "code",
   "execution_count": 6,
   "metadata": {},
   "outputs": [],
   "source": [
    "def median_filter(signal_raw_list):\n",
    "    median_fil_list = []\n",
    "\n",
    "    for signal in signal_raw_list:\n",
    "        median_fil = ss.medfilt(signal)\n",
    "        median_fil_list.append(median_fil)    \n",
    "    return median_fil_list\n",
    "    \n",
    "median_fil_list = median_filter(signal_list)"
   ]
  },
  {
   "cell_type": "code",
   "execution_count": 22,
   "metadata": {},
   "outputs": [],
   "source": [
    "def save_data_filter(data, signal_number, folder):\n",
    "    for i in range(len(data)):\n",
    "        save_dic_data = {\"ECG\": data[i]}\n",
    "        scipy.io.savemat(\"E:\\git\\HeartResearch\\Data set\\{}\\{}.mat\".format(folder,signal_number[i]), save_dic_data)"
   ]
  },
  {
   "cell_type": "code",
   "execution_count": 8,
   "metadata": {},
   "outputs": [],
   "source": [
    "folder = \"Median_Filter\"\n",
    "save_data_filter(median_fil_list, signal_number)"
   ]
  },
  {
   "cell_type": "code",
   "execution_count": 9,
   "metadata": {},
   "outputs": [],
   "source": [
    "output_path = \"E:\\git\\HeartResearch\\Data set\\Scaleogram_512_256\\Median_Filter\\{}_{}\"\n",
    "scg.set_default_wavelet('morl')\n",
    "px = 1/plt.rcParams['figure.dpi']\n",
    "lead = ['I','II','III','aVR','aVL','aVF','V1','V2','V3','V4','V5','V6']\n",
    "\n",
    "def scaleogram(data):\n",
    "    for i in range(len(data)):\n",
    "        for j in range(len(lead)):\n",
    "\n",
    "            signal_length = 400\n",
    "            # range of scales to perform the transform\n",
    "            scales = scg.periods2scales(np.arange(1, signal_length+1))\n",
    "            x_values_wvt_arr = range(0,len(data[i][j]),1)\n",
    "\n",
    "            # plot the signal \n",
    "            fig1, ax1 = plt.subplots(1, 1, figsize=(9, 3.5));  \n",
    "            ax1.plot(x_values_wvt_arr, data[i][j], linewidth=3, color='blue')\n",
    "            ax1.set_xlim(0, signal_length)\n",
    "            # ax1.set_title(\"ECG\")\n",
    "\n",
    "            # the scaleogram\n",
    "            fig = cws(data[i][j][:signal_length], scales=scales, figsize=(512*px, 256*px), coi = False)\n",
    "            print(fig)\n",
    "            plt.axis('off')\n",
    "            plt.savefig(output_path.format(signal_number[i],lead[j]), bbox_inches='tight', pad_inches = 0)"
   ]
  },
  {
   "cell_type": "code",
   "execution_count": null,
   "metadata": {},
   "outputs": [],
   "source": [
    "scaleogram(median_fil_list[:1])"
   ]
  },
  {
   "cell_type": "code",
   "execution_count": 7,
   "metadata": {},
   "outputs": [],
   "source": [
    "def gaussian_filter(signal_raw_list, std):\n",
    "    gauss_filt = []\n",
    "    n_bins = signal_raw_list.shape[2]\n",
    "    M = n_bins - 1 if n_bins % 2 == 0 else n_bins\n",
    "    window = ss.gaussian(M, std = std)\n",
    "\n",
    "    for signal in signal_raw_list:\n",
    "        for i in range(signal.shape[0]):\n",
    "            gauss_filter = ss.convolve(signal[i], window, mode='same', method='auto')\n",
    "            gauss_filt.append(gauss_filter)    \n",
    "    return gauss_filt"
   ]
  },
  {
   "cell_type": "code",
   "execution_count": 8,
   "metadata": {},
   "outputs": [],
   "source": [
    "gauss_filt = gaussian_filter(signal_list, std=1)"
   ]
  },
  {
   "cell_type": "code",
   "execution_count": 17,
   "metadata": {},
   "outputs": [],
   "source": [
    "gauss_filt_array = (np.array(gauss_filt)).reshape(6877,12,3000)\n",
    "gauss_filt_list = []\n",
    "for i in range(gauss_filt_array.shape[0]):\n",
    "    gauss_filt_list.append(gauss_filt_array[i])"
   ]
  },
  {
   "cell_type": "code",
   "execution_count": 23,
   "metadata": {},
   "outputs": [],
   "source": [
    "folder = \"Gaussian_Filter\"\n",
    "save_data_filter(gauss_filt_list, signal_number, folder)"
   ]
  }
 ],
 "metadata": {
  "kernelspec": {
   "display_name": "Python 3 (ipykernel)",
   "language": "python",
   "name": "python3"
  },
  "language_info": {
   "codemirror_mode": {
    "name": "ipython",
    "version": 3
   },
   "file_extension": ".py",
   "mimetype": "text/x-python",
   "name": "python",
   "nbconvert_exporter": "python",
   "pygments_lexer": "ipython3",
   "version": "3.9.6"
  },
  "vscode": {
   "interpreter": {
    "hash": "4e452ee330f6d751e1dd180b1e70bd0d390f5cf9a616fc37fafdccabf65d1ea1"
   }
  }
 },
 "nbformat": 4,
 "nbformat_minor": 2
}
