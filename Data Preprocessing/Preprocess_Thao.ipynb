{
 "cells": [
  {
   "cell_type": "code",
   "execution_count": 1,
   "metadata": {},
   "outputs": [],
   "source": [
    "import pandas as pd\n",
    "import numpy as np\n",
    "import os\n",
    "import tensorflow as tf\n",
    "import datetime\n",
    "import cv2\n",
    "from keras import backend as K\n",
    "from keras.layers import Layer,InputSpec\n",
    "from keras import layers\n",
    "import keras.layers as kl\n",
    "from glob import glob\n",
    "from sklearn.metrics import roc_curve, auc\n",
    "from keras.preprocessing import image\n",
    "from tensorflow.keras.models import Sequential\n",
    "from sklearn.metrics import roc_auc_score\n",
    "from sklearn import preprocessing\n",
    "from tensorflow.keras import callbacks \n",
    "from tensorflow.keras.callbacks import ModelCheckpoint, EarlyStopping, ReduceLROnPlateau\n",
    "from  matplotlib import pyplot as plt\n",
    "from tensorflow.keras import Model\n",
    "from tensorflow.keras.layers import concatenate, Dense, Conv2D, MaxPooling2D, Flatten, Input, Activation, add, AveragePooling2D, BatchNormalization, Dropout\n",
    "%matplotlib inline\n",
    "import shutil\n",
    "import scipy.io\n",
    "from sklearn.metrics import  precision_score, recall_score, accuracy_score,classification_report ,confusion_matrix\n",
    "from tensorflow.python.platform import build_info as tf_build_info\n",
    "from tensorflow.keras.preprocessing.image import ImageDataGenerator\n",
    "from sklearn.model_selection import train_test_split\n",
    "from sklearn.metrics import classification_report, confusion_matrix, ConfusionMatrixDisplay\n",
    "import seaborn as sns\n",
    "from sklearn.model_selection import train_test_split\n",
    "import matplotlib.pyplot as plt\n",
    "import scipy.io\n",
    "from scipy import signal\n",
    "import numpy as np\n",
    "import pywt\n",
    "import scaleogram as scg\n",
    "\n",
    "from PIL import ImageFile\n",
    "ImageFile.LOAD_TRUNCATED_IMAGES = True"
   ]
  },
  {
   "cell_type": "code",
   "execution_count": 2,
   "metadata": {},
   "outputs": [
    {
     "data": {
      "text/plain": [
       "[]"
      ]
     },
     "execution_count": 2,
     "metadata": {},
     "output_type": "execute_result"
    }
   ],
   "source": [
    "tf.config.list_physical_devices('GPU')"
   ]
  },
  {
   "cell_type": "code",
   "execution_count": 3,
   "metadata": {},
   "outputs": [
    {
     "name": "stdout",
     "output_type": "stream",
     "text": [
      "/Users/hoangminhthao/Documents/GitHub/HeartResearch/Data Preprocessing\n",
      "/Users/hoangminhthao/Documents/GitHub/HeartResearch\n"
     ]
    }
   ],
   "source": [
    "print(os.getcwd())\n",
    "for x in range(1):\n",
    "    os.chdir('..')\n",
    "print (os.getcwd())"
   ]
  },
  {
   "cell_type": "code",
   "execution_count": 4,
   "metadata": {},
   "outputs": [
    {
     "name": "stdout",
     "output_type": "stream",
     "text": [
      "['.DS_Store', 'TrainingSet1', 'README.md', 'Label.csv', 'Output.png', 'TrainingSet3', 'TrainingSet2']\n"
     ]
    }
   ],
   "source": [
    "main_data_dir = os.getcwd() + \"/Data set\"\n",
    "print(os.listdir(main_data_dir))"
   ]
  },
  {
   "cell_type": "code",
   "execution_count": 5,
   "metadata": {},
   "outputs": [],
   "source": [
    "data_mat_files = glob(main_data_dir + \"/TrainingSet*/*\")"
   ]
  },
  {
   "cell_type": "code",
   "execution_count": 6,
   "metadata": {},
   "outputs": [
    {
     "name": "stdout",
     "output_type": "stream",
     "text": [
      "{'__header__': b'MATLAB 5.0 MAT-file, Platform: PCWIN64, Created on: Tue Dec 19 15:30:07 2017', '__version__': '1.0', '__globals__': [], 'ECG': array([[(array(['Female'], dtype='<U6'), array([[34]], dtype=uint8), array([[ 1.73768069e-02,  1.71725761e-02,  6.27266857e-03, ...,\n",
      "                 5.66224605e-04, -3.98646404e-03, -4.72333344e-03],\n",
      "               [ 2.73954729e-02,  1.91244035e-02,  8.96867281e-03, ...,\n",
      "                 5.90927328e-02,  5.88357940e-02,  5.63322547e-02],\n",
      "               [ 1.00186659e-02,  1.95182742e-03,  2.69600424e-03, ...,\n",
      "                 5.85265082e-02,  6.28222581e-02,  6.10555882e-02],\n",
      "               ...,\n",
      "               [ 1.55362648e-01,  2.27003440e-01,  2.08681742e-01, ...,\n",
      "                -1.75072873e-02, -2.21225776e-02, -2.85125191e-02],\n",
      "               [ 4.89187271e-01,  6.99974197e-01,  6.39584023e-01, ...,\n",
      "                 1.08587053e-01,  9.61002216e-02,  1.01143936e-01],\n",
      "               [ 1.14240268e+00,  1.61560312e+00,  1.44965444e+00, ...,\n",
      "                 4.10399917e-03, -6.90227878e-04, -4.96566348e-05]]))                                                               ]],\n",
      "      dtype=[('sex', 'O'), ('age', 'O'), ('data', 'O')])}\n"
     ]
    }
   ],
   "source": [
    "mat = scipy.io.loadmat(data_mat_files[0])\n",
    "print(mat)"
   ]
  },
  {
   "cell_type": "code",
   "execution_count": 17,
   "metadata": {},
   "outputs": [],
   "source": [
    "def data_extract(signal_raw_list, min_len = 3000):\n",
    "    signal_list = []\n",
    "    file_name_list = []\n",
    "    \n",
    "    for signal in signal_raw_list:\n",
    "        mat = scipy.io.loadmat(signal)\n",
    "        signal_list.append(mat['ECG'][0][0][2][:,:min_len])\n",
    "        \n",
    "        file_name = signal.split('/')[-1].split('.')[0]\n",
    "        file_name_list.append(file_name)\n",
    "    \n",
    "    return signal_list, file_name_list\n",
    "\n",
    "signal_list, file_name_list = data_extract(data_mat_files)"
   ]
  },
  {
   "cell_type": "code",
   "execution_count": 20,
   "metadata": {},
   "outputs": [
    {
     "name": "stdout",
     "output_type": "stream",
     "text": [
      "[ 0.01737681  0.01717258  0.00627267 ... -0.05160239 -0.05733572\n",
      " -0.0608992 ]\n",
      "6877\n"
     ]
    }
   ],
   "source": [
    "print(signal_list[0][0])\n",
    "print(len(file_name_list))"
   ]
  },
  {
   "cell_type": "code",
   "execution_count": null,
   "metadata": {},
   "outputs": [],
   "source": []
  }
 ],
 "metadata": {
  "kernelspec": {
   "display_name": "Python 3 (ipykernel)",
   "language": "python",
   "name": "python3"
  },
  "language_info": {
   "codemirror_mode": {
    "name": "ipython",
    "version": 3
   },
   "file_extension": ".py",
   "mimetype": "text/x-python",
   "name": "python",
   "nbconvert_exporter": "python",
   "pygments_lexer": "ipython3",
   "version": "3.9.6"
  },
  "vscode": {
   "interpreter": {
    "hash": "aee8b7b246df8f9039afb4144a1f6fd8d2ca17a180786b69acc140d282b71a49"
   }
  }
 },
 "nbformat": 4,
 "nbformat_minor": 2
}
