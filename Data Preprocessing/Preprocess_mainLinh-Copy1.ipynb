{
 "cells": [
  {
   "cell_type": "code",
   "execution_count": null,
   "metadata": {},
   "outputs": [],
   "source": [
    "import pandas as pd\n",
    "import scipy.io\n",
    "import scipy.signal as ss\n",
    "# import pywt\n",
    "import glob\n",
    "import matplotlib.pyplot as plt\n",
    "import scaleogram as scg\n",
    "from scaleogram import cws\n",
    "import numpy as np\n",
    "from math import *\n",
    "import os\n",
    "import cv2\n",
    "from scipy.io import loadmat\n",
    "import random"
   ]
  },
  {
   "cell_type": "code",
   "execution_count": null,
   "metadata": {},
   "outputs": [],
   "source": [
    "print(os.getcwd())\n",
    "os.chdir(\"..\")"
   ]
  },
  {
   "cell_type": "code",
   "execution_count": null,
   "metadata": {},
   "outputs": [],
   "source": [
    "main_data_dir = os.getcwd() + \"\\Data set\"\n",
    "print(os.listdir(main_data_dir))"
   ]
  },
  {
   "cell_type": "code",
   "execution_count": null,
   "metadata": {},
   "outputs": [],
   "source": [
    "data_mat_files = glob.glob(main_data_dir + \"\\TrainingSet*\\*\")\n",
    "label_path = main_data_dir + \"\\Label.csv\"\n",
    "label_df = pd.read_csv(label_path)"
   ]
  },
  {
   "cell_type": "code",
   "execution_count": null,
   "metadata": {},
   "outputs": [],
   "source": [
    "label_df.drop(['Second_label', 'Third_label'], axis=1)"
   ]
  },
  {
   "cell_type": "code",
   "execution_count": null,
   "metadata": {},
   "outputs": [],
   "source": [
    "label_df[label_df[\"Recording\"] == \"A0001\"][\"First_label\"].values.tolist()[0]"
   ]
  },
  {
   "cell_type": "code",
   "execution_count": null,
   "metadata": {},
   "outputs": [],
   "source": [
    "label = label_df['First_label'].tolist()"
   ]
  },
  {
   "cell_type": "code",
   "execution_count": null,
   "metadata": {},
   "outputs": [],
   "source": [
    "def data_extract(signal_raw_list, start_point):\n",
    "    signal_list = []\n",
    "    signal_number_list = []\n",
    "    \n",
    "    for signal in signal_raw_list:\n",
    "        mat = scipy.io.loadmat(signal)\n",
    "        signal_list.append(mat['ECG'][0][0][2][:,start_point:])\n",
    "        signal_number = signal.split('\\\\')[-1].split('.')[0]\n",
    "        signal_number_list.append(signal_number)\n",
    "\n",
    "    return (signal_list, signal_number_list)\n",
    "\n",
    "signal_list, signal_number = data_extract(data_mat_files, 300)"
   ]
  },
  {
   "cell_type": "code",
   "execution_count": null,
   "metadata": {},
   "outputs": [],
   "source": [
    "def median_filter(signal_raw_list):\n",
    "    median_fil_list = []\n",
    "\n",
    "    for i in range(len(signal_raw_list)):\n",
    "        for j in range(12):\n",
    "            median_fil = ss.medfilt(signal_raw_list[i][j])\n",
    "            median_fil_list.append(median_fil)    \n",
    "    return median_fil_list\n",
    "    \n",
    "median_fil_list = median_filter(signal_list)"
   ]
  },
  {
   "cell_type": "code",
   "execution_count": null,
   "metadata": {},
   "outputs": [],
   "source": [
    "#Segmentation\n",
    "def segmentation(signal_filt_list, seg_len, scale,\n",
    "                sample_num_class1 = int, sample_num_class2 = int, sample_num_class3 = int, \n",
    "                sample_num_class4 = int, sample_num_class5 = int, sample_num_class6 = int,\n",
    "                sample_num_class7 = int, sample_num_class8 = int, sample_num_class9 = int):\n",
    "    count = 0\n",
    "    lead = ['I','II','III','aVR','aVL','aVF','V1','V2','V3','V4','V5','V6']\n",
    "    scg.set_default_wavelet('morl')\n",
    "    px = 1/plt.rcParams['figure.dpi']\n",
    "    \n",
    "#     for i in range(len(signal_filt_list)):\n",
    "#         sig_len = len(signal_filt_list[i])\n",
    "#         seg_num = ceil(sig_len/seg_len)\n",
    "#         for w in range(1,seg_num+1):\n",
    "#             x = floor((sig_len-seg_len)/(seg_num-1)*(w-1))\n",
    "#             segment = signal_filt_list[i][x:x+1600]\n",
    "#             seg_label = label[floor(i/12)]\n",
    "#             save_dic_seg = {\"ECG_segment\": segment}\n",
    "            \n",
    "#             # Create folder of each class\n",
    "#             class_dir = main_data_dir + \"\\Segmentation_class_{}\".format(seg_label)\n",
    "#             if not os.path.exists(class_dir):\n",
    "#                 os.mkdir(class_dir)\n",
    "#             seg_path = class_dir + \"\\{}_lead{}_seg{}.mat\" \n",
    "#             # Save segment to each class\n",
    "#             scipy.io.savemat(seg_path.format(signal_number[floor(i/12)], lead[count], w), save_dic_seg)\n",
    "            \n",
    "#             if count == 11:\n",
    "#                 count = 0\n",
    "#             else:\n",
    "#                 count += 1\n",
    "\n",
    "    # Scaleogram dataset\n",
    "#     sample_num_class_list = [sample_num_class1, sample_num_class2, sample_num_class3, \n",
    "#                             sample_num_class4, sample_num_class5, sample_num_class6,\n",
    "#                             sample_num_class7, sample_num_class8, sample_num_class9]\n",
    "    for classes in range(9):\n",
    "        for leads in lead:\n",
    "            sample_list = random.sample(glob.glob(main_data_dir + \"\\\\Segmentation_class_{}\\\\*_lead{}_*.mat\".format(classes+1, leads)), \n",
    "                                        2)\n",
    "            savefig_folder = main_data_dir + \"\\\\Data_set_scale{}\".format(scale)\n",
    "            for segment in sample_list:\n",
    "                read = scipy.io.loadmat(segment)['ECG_segment'][0]\n",
    "                fig_name = segment.split('\\\\')[-1].removesuffix('.mat') \n",
    "\n",
    "                if not os.path.exists(savefig_folder):\n",
    "                    os.mkdir(savefig_folder)\n",
    "                savefig_path = savefig_folder + \"\\\\{}\"\n",
    "                scales = scg.periods2scales(np.arange(1, scale))\n",
    "                fig, ax = cws(read, scales=scales, figsize=(654*px, 329*px), coi = False)\n",
    "                plt.axis('off')\n",
    "                plt.savefig(savefig_path.format(fig_name), \n",
    "                            bbox_inches='tight', \n",
    "                            pad_inches = 0)\n",
    "                fig.clear()\n",
    "                plt.close(fig)\n",
    "                ax.clear()\n",
    "                plt.cla()\n",
    "                plt.close(\"all\")\n",
    "\n",
    "    # Make csv\n",
    "    data_set_list = glob.glob(main_data_dir + \"\\\\Data_set_scale{}\\\\*\".format(scale))\n",
    "    label_list = []\n",
    "    lead_list = []\n",
    "    for img_path in data_set_list:\n",
    "        img_name = img_path.split('\\\\')[-1].removesuffix('.png')\n",
    "        img_signal = img_name.split('_')[0]\n",
    "        img_lead = img_name.split('_')[1][-1]\n",
    "        label_list.append(label_df[label_df[\"Recording\"] == img_signal][\"First_label\"].values.tolist()[0])\n",
    "        lead_list.append(img_lead)\n",
    "    dataset_df = pd.DataFrame({\"Image\": data_set_list,\n",
    "                             \"Class\": label_list,\n",
    "                             \"Lead\": lead_list})\n",
    "    dataset_df = dataset_df.sample(frac = 1)\n",
    "    dataset_df.to_csv(main_data_dir + \"\\\\Data_set_scale{}\\\\dataset\".format(scale))"
   ]
  },
  {
   "cell_type": "code",
   "execution_count": null,
   "metadata": {},
   "outputs": [],
   "source": [
    "segmentation(signal_filt_list = median_fil_list, seg_len = 1600, scale = 500,\n",
    "                sample_num_class1 = 10, sample_num_class2 = 10, sample_num_class3 = 10, \n",
    "                sample_num_class4 = 10, sample_num_class5 = 10, sample_num_class6 = 10,\n",
    "                sample_num_class7 = 10, sample_num_class8 = 10, sample_num_class9 = 10)"
   ]
  },
  {
   "cell_type": "code",
   "execution_count": null,
   "metadata": {},
   "outputs": [],
   "source": [
    "lists = [0,1,2]\n",
    "df = pd.DataFrame({\"A\":lists, \"B\":[2,5,8], \"C\":[3,6,9]})\n",
    "print(df)"
   ]
  },
  {
   "cell_type": "code",
   "execution_count": null,
   "metadata": {},
   "outputs": [],
   "source": [
    "\"lead1\"[-2]"
   ]
  },
  {
   "cell_type": "code",
   "execution_count": null,
   "metadata": {},
   "outputs": [],
   "source": [
    "label_df[label_df[\"Recording\"] == \"A0001\"][\"First_label\"].values.tolist()[0]"
   ]
  }
 ],
 "metadata": {
  "kernelspec": {
   "display_name": "Python 3 (ipykernel)",
   "language": "python",
   "name": "python3"
  },
  "language_info": {
   "codemirror_mode": {
    "name": "ipython",
    "version": 3
   },
   "file_extension": ".py",
   "mimetype": "text/x-python",
   "name": "python",
   "nbconvert_exporter": "python",
   "pygments_lexer": "ipython3",
   "version": "3.9.5"
  },
  "vscode": {
   "interpreter": {
    "hash": "4e452ee330f6d751e1dd180b1e70bd0d390f5cf9a616fc37fafdccabf65d1ea1"
   }
  }
 },
 "nbformat": 4,
 "nbformat_minor": 2
}
