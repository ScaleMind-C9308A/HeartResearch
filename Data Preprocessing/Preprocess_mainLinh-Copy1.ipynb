{
 "cells": [
  {
   "cell_type": "code",
   "execution_count": 1,
   "metadata": {},
   "outputs": [],
   "source": [
    "import pandas as pd\n",
    "import scipy.io\n",
    "import scipy.signal as ss\n",
    "# import pywt\n",
    "import glob\n",
    "import matplotlib.pyplot as plt\n",
    "import scaleogram as scg\n",
    "from scaleogram import cws\n",
    "import numpy as np\n",
    "from math import *\n",
    "import os\n",
    "import cv2\n",
    "from scipy.io import loadmat\n",
    "import random"
   ]
  },
  {
   "cell_type": "code",
   "execution_count": 2,
   "metadata": {},
   "outputs": [
    {
     "name": "stdout",
     "output_type": "stream",
     "text": [
      "D:\\GitCloneProject\\HeartResearch\\Data Preprocessing\n"
     ]
    }
   ],
   "source": [
    "print(os.getcwd())\n",
    "os.chdir(\"..\")"
   ]
  },
  {
   "cell_type": "code",
   "execution_count": 3,
   "metadata": {},
   "outputs": [
    {
     "name": "stdout",
     "output_type": "stream",
     "text": [
      "['CPSC0236 (1)', 'Data_set_scale500', 'Gaussian_Filter', 'Label.csv', 'Median_Filter', 'Output.png', 'README.md', 'Scaleogram_512_256', 'Segmentation', 'Segmentation_class_1', 'Segmentation_class_2', 'Segmentation_class_3', 'Segmentation_class_4', 'Segmentation_class_5', 'Segmentation_class_6', 'Segmentation_class_7', 'Segmentation_class_8', 'Segmentation_class_9', 'Segment_filter_label', 'TrainingSet1', 'TrainingSet2', 'TrainingSet3', 'v4_data']\n"
     ]
    }
   ],
   "source": [
    "main_data_dir = os.getcwd() + \"\\Data set\"\n",
    "print(os.listdir(main_data_dir))"
   ]
  },
  {
   "cell_type": "code",
   "execution_count": 4,
   "metadata": {},
   "outputs": [],
   "source": [
    "data_mat_files = glob.glob(main_data_dir + \"\\TrainingSet*\\*\")\n",
    "label_path = main_data_dir + \"\\Label.csv\"\n",
    "label_df = pd.read_csv(label_path)"
   ]
  },
  {
   "cell_type": "code",
   "execution_count": 5,
   "metadata": {},
   "outputs": [
    {
     "data": {
      "text/html": [
       "<div>\n",
       "<style scoped>\n",
       "    .dataframe tbody tr th:only-of-type {\n",
       "        vertical-align: middle;\n",
       "    }\n",
       "\n",
       "    .dataframe tbody tr th {\n",
       "        vertical-align: top;\n",
       "    }\n",
       "\n",
       "    .dataframe thead th {\n",
       "        text-align: right;\n",
       "    }\n",
       "</style>\n",
       "<table border=\"1\" class=\"dataframe\">\n",
       "  <thead>\n",
       "    <tr style=\"text-align: right;\">\n",
       "      <th></th>\n",
       "      <th>Recording</th>\n",
       "      <th>First_label</th>\n",
       "    </tr>\n",
       "  </thead>\n",
       "  <tbody>\n",
       "    <tr>\n",
       "      <th>0</th>\n",
       "      <td>A0001</td>\n",
       "      <td>5</td>\n",
       "    </tr>\n",
       "    <tr>\n",
       "      <th>1</th>\n",
       "      <td>A0002</td>\n",
       "      <td>1</td>\n",
       "    </tr>\n",
       "    <tr>\n",
       "      <th>2</th>\n",
       "      <td>A0003</td>\n",
       "      <td>2</td>\n",
       "    </tr>\n",
       "    <tr>\n",
       "      <th>3</th>\n",
       "      <td>A0004</td>\n",
       "      <td>2</td>\n",
       "    </tr>\n",
       "    <tr>\n",
       "      <th>4</th>\n",
       "      <td>A0005</td>\n",
       "      <td>7</td>\n",
       "    </tr>\n",
       "    <tr>\n",
       "      <th>...</th>\n",
       "      <td>...</td>\n",
       "      <td>...</td>\n",
       "    </tr>\n",
       "    <tr>\n",
       "      <th>6872</th>\n",
       "      <td>A6873</td>\n",
       "      <td>3</td>\n",
       "    </tr>\n",
       "    <tr>\n",
       "      <th>6873</th>\n",
       "      <td>A6874</td>\n",
       "      <td>8</td>\n",
       "    </tr>\n",
       "    <tr>\n",
       "      <th>6874</th>\n",
       "      <td>A6875</td>\n",
       "      <td>4</td>\n",
       "    </tr>\n",
       "    <tr>\n",
       "      <th>6875</th>\n",
       "      <td>A6876</td>\n",
       "      <td>2</td>\n",
       "    </tr>\n",
       "    <tr>\n",
       "      <th>6876</th>\n",
       "      <td>A6877</td>\n",
       "      <td>7</td>\n",
       "    </tr>\n",
       "  </tbody>\n",
       "</table>\n",
       "<p>6877 rows × 2 columns</p>\n",
       "</div>"
      ],
      "text/plain": [
       "     Recording  First_label\n",
       "0        A0001            5\n",
       "1        A0002            1\n",
       "2        A0003            2\n",
       "3        A0004            2\n",
       "4        A0005            7\n",
       "...        ...          ...\n",
       "6872     A6873            3\n",
       "6873     A6874            8\n",
       "6874     A6875            4\n",
       "6875     A6876            2\n",
       "6876     A6877            7\n",
       "\n",
       "[6877 rows x 2 columns]"
      ]
     },
     "execution_count": 5,
     "metadata": {},
     "output_type": "execute_result"
    }
   ],
   "source": [
    "label_df.drop(['Second_label', 'Third_label'], axis=1)"
   ]
  },
  {
   "cell_type": "code",
   "execution_count": 6,
   "metadata": {},
   "outputs": [
    {
     "data": {
      "text/plain": [
       "5"
      ]
     },
     "execution_count": 6,
     "metadata": {},
     "output_type": "execute_result"
    }
   ],
   "source": [
    "label_df[label_df[\"Recording\"] == \"A0001\"][\"First_label\"].values.tolist()[0]"
   ]
  },
  {
   "cell_type": "code",
   "execution_count": 7,
   "metadata": {},
   "outputs": [],
   "source": [
    "label = label_df['First_label'].tolist()"
   ]
  },
  {
   "cell_type": "code",
   "execution_count": 8,
   "metadata": {},
   "outputs": [],
   "source": [
    "def data_extract(signal_raw_list, start_point):\n",
    "    signal_list = []\n",
    "    signal_number_list = []\n",
    "    \n",
    "    for signal in signal_raw_list:\n",
    "        mat = scipy.io.loadmat(signal)\n",
    "        signal_list.append(mat['ECG'][0][0][2][:,start_point:])\n",
    "        signal_number = signal.split('\\\\')[-1].split('.')[0]\n",
    "        signal_number_list.append(signal_number)\n",
    "\n",
    "    return (signal_list, signal_number_list)\n",
    "\n",
    "signal_list, signal_number = data_extract(data_mat_files, 300)"
   ]
  },
  {
   "cell_type": "code",
   "execution_count": 9,
   "metadata": {},
   "outputs": [],
   "source": [
    "def median_filter(signal_raw_list):\n",
    "    median_fil_list = []\n",
    "\n",
    "    for i in range(len(signal_raw_list)):\n",
    "        for j in range(12):\n",
    "            median_fil = ss.medfilt(signal_raw_list[i][j])\n",
    "            median_fil_list.append(median_fil)    \n",
    "    return median_fil_list\n",
    "    \n",
    "median_fil_list = median_filter(signal_list)"
   ]
  },
  {
   "cell_type": "code",
   "execution_count": 10,
   "metadata": {},
   "outputs": [],
   "source": [
    "#Segmentation\n",
    "def segmentation(signal_filt_list, seg_len, scale,\n",
    "                sample_num_class1 = int, sample_num_class2 = int, sample_num_class3 = int, \n",
    "                sample_num_class4 = int, sample_num_class5 = int, sample_num_class6 = int,\n",
    "                sample_num_class7 = int, sample_num_class8 = int, sample_num_class9 = int):\n",
    "    count = 0\n",
    "    lead = ['I','II','III','aVR','aVL','aVF','V1','V2','V3','V4','V5','V6']\n",
    "    scg.set_default_wavelet('morl')\n",
    "    px = 1/plt.rcParams['figure.dpi']\n",
    "    \n",
    "#     for i in range(len(signal_filt_list)):\n",
    "#         sig_len = len(signal_filt_list[i])\n",
    "#         seg_num = ceil(sig_len/seg_len)\n",
    "#         for w in range(1,seg_num+1):\n",
    "#             x = floor((sig_len-seg_len)/(seg_num-1)*(w-1))\n",
    "#             segment = signal_filt_list[i][x:x+1600]\n",
    "#             seg_label = label[floor(i/12)]\n",
    "#             save_dic_seg = {\"ECG_segment\": segment}\n",
    "            \n",
    "#             # Create folder of each class\n",
    "#             class_dir = main_data_dir + \"\\Segmentation_class_{}\".format(seg_label)\n",
    "#             if not os.path.exists(class_dir):\n",
    "#                 os.mkdir(class_dir)\n",
    "#             seg_path = class_dir + \"\\{}_lead{}_seg{}.mat\" \n",
    "#             # Save segment to each class\n",
    "#             scipy.io.savemat(seg_path.format(signal_number[floor(i/12)], lead[count], w), save_dic_seg)\n",
    "            \n",
    "#             if count == 11:\n",
    "#                 count = 0\n",
    "#             else:\n",
    "#                 count += 1\n",
    "\n",
    "    # Scaleogram dataset\n",
    "    sample_num_class_list = [sample_num_class1, sample_num_class2, sample_num_class3, \n",
    "                            sample_num_class4, sample_num_class5, sample_num_class6,\n",
    "                            sample_num_class7, sample_num_class8, sample_num_class9]\n",
    "    for classes in range(9):\n",
    "        for leads in lead:\n",
    "            sample_list = random.sample(glob.glob(main_data_dir + \"\\\\Segmentation_class_{}\\\\*_lead{}_*.mat\".format(classes+1, leads)), \n",
    "                                        900)\n",
    "            savefig_folder = main_data_dir + \"\\\\Data_set_scale{}\".format(scale)\n",
    "            for segment in sample_list:\n",
    "                read = scipy.io.loadmat(segment)['ECG_segment'][0]\n",
    "                fig_name = segment.split('\\\\')[-1].removesuffix('.mat') \n",
    "\n",
    "                if not os.path.exists(savefig_folder):\n",
    "                    os.mkdir(savefig_folder)\n",
    "                savefig_path = savefig_folder + \"\\\\{}\"\n",
    "                scales = scg.periods2scales(np.arange(1, scale))\n",
    "                cws(read, scales=scales, figsize=(628*px, 315*px), coi = False)\n",
    "                plt.axis('off')\n",
    "                plt.savefig(savefig_path.format(fig_name), \n",
    "                            bbox_inches='tight', \n",
    "                            pad_inches = 0)\n",
    "                plt.figure().clear()\n",
    "                plt.close(\"all\")\n",
    "                plt.cla()\n",
    "                plt.clf()\n",
    "\n",
    "    # Make csv\n",
    "    data_set_list = glob.glob(main_data_dir + \"\\\\Data_set_scale{}\\\\*\".format(scale))\n",
    "    label_list = []\n",
    "    lead_list = []\n",
    "    for img_path in data_set_list:\n",
    "        img_name = img_path.split('\\\\')[-1].removesuffix('.png')\n",
    "        img_signal = img_name.split('_')[0]\n",
    "        img_lead = img_name.split('_')[1][-1]\n",
    "        label_list.append(label_df[label_df[\"Recording\"] == img_signal][\"First_label\"].values.tolist()[0])\n",
    "        lead_list.append(img_lead)\n",
    "    dataset_df = pd.DataFrame({\"Image\": data_set_list,\n",
    "                             \"Class\": label_list,\n",
    "                             \"Lead\": lead_list})\n",
    "    dataset_df = dataset_df.sample(frac = 1)\n",
    "    dataset_df.to_csv(main_data_dir + \"\\\\Data_set_scale{}\\\\dataset\".format(scale))"
   ]
  },
  {
   "cell_type": "code",
   "execution_count": 28,
   "metadata": {},
   "outputs": [
    {
     "name": "stdout",
     "output_type": "stream",
     "text": [
      "[-0.00036987 -0.00036987 -0.00036987 ...  0.05363013  0.05263013\n",
      "  0.05163013]\n"
     ]
    }
   ],
   "source": [
    "sample_list = random.sample(glob.glob(main_data_dir + \"\\\\Segmentation_class_1\\\\*\"), \n",
    "                                        10)\n",
    "# signal = sample_list[0]  \n",
    "# read = scipy.io.loadmat(signal)['ECG_segment'][0]\n",
    "# print(read)\n",
    "print(sample_list)"
   ]
  },
  {
   "cell_type": "code",
   "execution_count": null,
   "metadata": {},
   "outputs": [],
   "source": [
    "segmentation(signal_filt_list = median_fil_list, seg_len = 1600, scale = 500,\n",
    "                sample_num_class1 = 10, sample_num_class2 = 10, sample_num_class3 = 10, \n",
    "                sample_num_class4 = 10, sample_num_class5 = 10, sample_num_class6 = 10,\n",
    "                sample_num_class7 = 10, sample_num_class8 = 10, sample_num_class9 = 10)"
   ]
  },
  {
   "cell_type": "code",
   "execution_count": 18,
   "metadata": {},
   "outputs": [
    {
     "name": "stdout",
     "output_type": "stream",
     "text": [
      "   A  B  C\n",
      "0  0  2  3\n",
      "1  1  5  6\n",
      "2  2  8  9\n"
     ]
    }
   ],
   "source": [
    "lists = [0,1,2]\n",
    "df = pd.DataFrame({\"A\":lists, \"B\":[2,5,8], \"C\":[3,6,9]})\n",
    "print(df)"
   ]
  },
  {
   "cell_type": "code",
   "execution_count": 21,
   "metadata": {},
   "outputs": [
    {
     "data": {
      "text/plain": [
       "'d'"
      ]
     },
     "execution_count": 21,
     "metadata": {},
     "output_type": "execute_result"
    }
   ],
   "source": [
    "\"lead1\"[-2]"
   ]
  },
  {
   "cell_type": "code",
   "execution_count": null,
   "metadata": {},
   "outputs": [],
   "source": [
    "label_df[label_df[\"Recording\"] == \"A0001\"][\"First_label\"].values.tolist()[0]"
   ]
  }
 ],
 "metadata": {
  "kernelspec": {
   "display_name": "Python 3 (ipykernel)",
   "language": "python",
   "name": "python3"
  },
  "language_info": {
   "codemirror_mode": {
    "name": "ipython",
    "version": 3
   },
   "file_extension": ".py",
   "mimetype": "text/x-python",
   "name": "python",
   "nbconvert_exporter": "python",
   "pygments_lexer": "ipython3",
   "version": "3.9.5"
  },
  "vscode": {
   "interpreter": {
    "hash": "4e452ee330f6d751e1dd180b1e70bd0d390f5cf9a616fc37fafdccabf65d1ea1"
   }
  }
 },
 "nbformat": 4,
 "nbformat_minor": 2
}
