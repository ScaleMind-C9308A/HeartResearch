{
 "cells": [
  {
   "cell_type": "code",
   "execution_count": 1,
   "id": "c62791f4",
   "metadata": {},
   "outputs": [],
   "source": [
    "from audiomentations import *\n",
    "import pandas as pd\n",
    "import scipy.io\n",
    "import scipy.signal as ss\n",
    "# import pywt\n",
    "import glob\n",
    "import matplotlib.pyplot as plt\n",
    "import scaleogram as scg\n",
    "from scaleogram import cws\n",
    "import numpy as np\n",
    "from math import *\n",
    "import os\n",
    "import cv2\n",
    "from scipy.io import loadmat\n",
    "import random\n",
    "from zipfile import ZipFile"
   ]
  },
  {
   "cell_type": "code",
   "execution_count": 2,
   "id": "6aab01a1",
   "metadata": {},
   "outputs": [
    {
     "name": "stdout",
     "output_type": "stream",
     "text": [
      "/home/linhpika/git/HeartResearch/Data Preprocessing\n"
     ]
    }
   ],
   "source": [
    "print(os.getcwd())"
   ]
  },
  {
   "cell_type": "code",
   "execution_count": 3,
   "id": "2f9d1449",
   "metadata": {},
   "outputs": [],
   "source": [
    "os.chdir(\"..\")"
   ]
  },
  {
   "cell_type": "code",
   "execution_count": 4,
   "id": "5302c353",
   "metadata": {},
   "outputs": [],
   "source": [
    "main_data_dir = os.getcwd() + \"/Data set\""
   ]
  },
  {
   "cell_type": "code",
   "execution_count": 5,
   "id": "055233d3",
   "metadata": {},
   "outputs": [
    {
     "data": {
      "text/html": [
       "<div>\n",
       "<style scoped>\n",
       "    .dataframe tbody tr th:only-of-type {\n",
       "        vertical-align: middle;\n",
       "    }\n",
       "\n",
       "    .dataframe tbody tr th {\n",
       "        vertical-align: top;\n",
       "    }\n",
       "\n",
       "    .dataframe thead th {\n",
       "        text-align: right;\n",
       "    }\n",
       "</style>\n",
       "<table border=\"1\" class=\"dataframe\">\n",
       "  <thead>\n",
       "    <tr style=\"text-align: right;\">\n",
       "      <th></th>\n",
       "      <th>Recording</th>\n",
       "      <th>First_label</th>\n",
       "    </tr>\n",
       "  </thead>\n",
       "  <tbody>\n",
       "    <tr>\n",
       "      <th>0</th>\n",
       "      <td>A0001</td>\n",
       "      <td>5</td>\n",
       "    </tr>\n",
       "    <tr>\n",
       "      <th>1</th>\n",
       "      <td>A0002</td>\n",
       "      <td>1</td>\n",
       "    </tr>\n",
       "    <tr>\n",
       "      <th>2</th>\n",
       "      <td>A0003</td>\n",
       "      <td>2</td>\n",
       "    </tr>\n",
       "    <tr>\n",
       "      <th>3</th>\n",
       "      <td>A0004</td>\n",
       "      <td>2</td>\n",
       "    </tr>\n",
       "    <tr>\n",
       "      <th>4</th>\n",
       "      <td>A0005</td>\n",
       "      <td>7</td>\n",
       "    </tr>\n",
       "    <tr>\n",
       "      <th>...</th>\n",
       "      <td>...</td>\n",
       "      <td>...</td>\n",
       "    </tr>\n",
       "    <tr>\n",
       "      <th>6872</th>\n",
       "      <td>A6873</td>\n",
       "      <td>3</td>\n",
       "    </tr>\n",
       "    <tr>\n",
       "      <th>6873</th>\n",
       "      <td>A6874</td>\n",
       "      <td>8</td>\n",
       "    </tr>\n",
       "    <tr>\n",
       "      <th>6874</th>\n",
       "      <td>A6875</td>\n",
       "      <td>4</td>\n",
       "    </tr>\n",
       "    <tr>\n",
       "      <th>6875</th>\n",
       "      <td>A6876</td>\n",
       "      <td>2</td>\n",
       "    </tr>\n",
       "    <tr>\n",
       "      <th>6876</th>\n",
       "      <td>A6877</td>\n",
       "      <td>7</td>\n",
       "    </tr>\n",
       "  </tbody>\n",
       "</table>\n",
       "<p>6877 rows × 2 columns</p>\n",
       "</div>"
      ],
      "text/plain": [
       "     Recording  First_label\n",
       "0        A0001            5\n",
       "1        A0002            1\n",
       "2        A0003            2\n",
       "3        A0004            2\n",
       "4        A0005            7\n",
       "...        ...          ...\n",
       "6872     A6873            3\n",
       "6873     A6874            8\n",
       "6874     A6875            4\n",
       "6875     A6876            2\n",
       "6876     A6877            7\n",
       "\n",
       "[6877 rows x 2 columns]"
      ]
     },
     "execution_count": 5,
     "metadata": {},
     "output_type": "execute_result"
    }
   ],
   "source": [
    "label_path = main_data_dir + \"/Label.csv\"\n",
    "label_df = pd.read_csv(label_path)\n",
    "label_df.drop(['Second_label', 'Third_label'], axis=1)"
   ]
  },
  {
   "cell_type": "code",
   "execution_count": 6,
   "id": "dee6e1ab",
   "metadata": {},
   "outputs": [
    {
     "name": "stdout",
     "output_type": "stream",
     "text": [
      "5\n"
     ]
    }
   ],
   "source": [
    "print(label_df[label_df[\"Recording\"] == \"A0001\"][\"First_label\"].values.tolist()[0])"
   ]
  },
  {
   "cell_type": "code",
   "execution_count": null,
   "id": "0a54a055",
   "metadata": {},
   "outputs": [],
   "source": [
    "# mat_data_path = main_data_dir + \"/ecgraw.zip\"\n",
    "# # glob.glob(main_data_dir + \"/TrainingSet*/*\")\n",
    "# with ZipFile(mat_data_path, 'r') as zip:\n",
    "#     # printing all the contents of the zip file\n",
    "# #     zip.printdir()\n",
    "  \n",
    "#     # extracting all the files\n",
    "#     zip.extractall()"
   ]
  },
  {
   "cell_type": "code",
   "execution_count": 7,
   "id": "0d563e27",
   "metadata": {},
   "outputs": [
    {
     "data": {
      "text/plain": [
       "6877"
      ]
     },
     "execution_count": 7,
     "metadata": {},
     "output_type": "execute_result"
    }
   ],
   "source": [
    "data_mat_files = glob.glob(main_data_dir + \"/TrainingSet*/*\")\n",
    "len(data_mat_files)"
   ]
  },
  {
   "cell_type": "code",
   "execution_count": 13,
   "id": "9bd617c4",
   "metadata": {},
   "outputs": [],
   "source": [
    "def data_extract(signal_raw_list, start_point):\n",
    "    signal_list = []\n",
    "    signal_number_list = []\n",
    "    \n",
    "    for signal in signal_raw_list:\n",
    "        mat = scipy.io.loadmat(signal)\n",
    "        signal_list.append(mat['ECG'][0][0][2][:,start_point:])\n",
    "        signal_number = signal.split('/')[-1].split('.')[0]\n",
    "        signal_number_list.append(signal_number)\n",
    "\n",
    "    return (signal_list, signal_number_list)\n",
    "\n",
    "signal_list, signal_number = data_extract(data_mat_files, 300)"
   ]
  },
  {
   "cell_type": "code",
   "execution_count": 14,
   "id": "440eb5ea",
   "metadata": {},
   "outputs": [
    {
     "data": {
      "text/plain": [
       "'A6594'"
      ]
     },
     "execution_count": 14,
     "metadata": {},
     "output_type": "execute_result"
    }
   ],
   "source": [
    "signal_number[0]"
   ]
  },
  {
   "cell_type": "code",
   "execution_count": 15,
   "id": "12159beb",
   "metadata": {},
   "outputs": [],
   "source": [
    "augment = Compose([\n",
    "    AddGaussianNoise(min_amplitude=0.001, max_amplitude=0.015, p=0.2),\n",
    "    AddGaussianSNR(min_snr_db=5.0, max_snr_db=20.0, p=0.2),\n",
    "    Gain(min_gain_db = -15.0, max_gain_db = 15.0, p =0.2),\n",
    "    GainTransition(min_gain_db = -15.0, max_gain_db = 15.0, \n",
    "                   min_duration = 50, max_duration = 200, duration_unit = \"samples\", \n",
    "                   p = 0.2),\n",
    "    TimeStretch(min_rate=0.8, max_rate=1.25, p=0.2),\n",
    "    PitchShift(min_semitones=-4, max_semitones=4, p=0.2),\n",
    "    Shift(min_fraction=-0.5, max_fraction=0.5, p=0.2),\n",
    "])"
   ]
  },
  {
   "cell_type": "code",
   "execution_count": 16,
   "id": "8539660e",
   "metadata": {},
   "outputs": [
    {
     "data": {
      "text/plain": [
       "array([[ 0.0122288 ,  0.0142288 ,  0.0152288 , ...,  0.2582288 ,\n",
       "         0.2592288 ,  0.2592288 ],\n",
       "       [ 0.07172947,  0.07572947,  0.07972947, ...,  0.24772947,\n",
       "         0.24872947,  0.24972947],\n",
       "       [ 0.05950067,  0.06150067,  0.06450067, ..., -0.01049933,\n",
       "        -0.01049933, -0.00949933],\n",
       "       ...,\n",
       "       [ 0.17999347,  0.18799347,  0.19499347, ...,  0.19399347,\n",
       "         0.19399347,  0.19499347],\n",
       "       [ 0.2050428 ,  0.2150428 ,  0.2240428 , ...,  0.3070428 ,\n",
       "         0.3070428 ,  0.3070428 ],\n",
       "       [ 0.36841493,  0.38041493,  0.39241493, ...,  0.21341493,\n",
       "         0.21441493,  0.21441493]])"
      ]
     },
     "execution_count": 16,
     "metadata": {},
     "output_type": "execute_result"
    }
   ],
   "source": [
    "# files_path = main_data_dir + \"/A0001.mat\"\n",
    "# mat = scipy.io.loadmat(files_path)['ECG'][0][0][2][:,300:]\n",
    "# mat"
   ]
  },
  {
   "cell_type": "code",
   "execution_count": null,
   "id": "b0716cb2",
   "metadata": {},
   "outputs": [],
   "source": [
    "count = 0\n",
    "lead = ['I','II','III','aVR','aVL','aVF','V1','V2','V3','V4','V5','V6']\n",
    "\n",
    "save_aug_dir = main_data_dir + \"/Augmentation_data\"\n",
    "if not os.path.exists(save_aug_dir):\n",
    "    os.mkdir(save_aug_dir)\n",
    "save_aug_path = save_aug_dir + \"/Augment_{}_lead{}_class{}.mat\"\n",
    "\n",
    "save_aug_plot_dir = main_data_dir + \"/Plot_augmentation\"\n",
    "if not os.path.exists(save_aug_plot_dir):\n",
    "    os.mkdir(save_aug_plot_dir)\n",
    "\n",
    "\n",
    "for i in range(len(signal_list)):\n",
    "    for j in range(12):\n",
    "        samples = signal_list[i][j]\n",
    "        augmented_samples = augment(samples=samples, sample_rate=500)\n",
    "        sample_name = signal_number[floor(i/12)]\n",
    "        sample_lead = lead[j]\n",
    "        sample_class = label_df[label_df[\"Recording\"] == sample_name][\"First_label\"].values.tolist()[0]\n",
    "        scipy.io.savemat(save_aug_path.format(sample_name, sample_lead, sample_class), \n",
    "                         mdict = {\"Sample name\": sample_name, \"Lead\": sample_lead, \"Class\": sample_class}\n",
    "                       )\n",
    "        if i % 100 == 0:\n",
    "            \n",
    "            plt.figure(figsize = (30, 12))\n",
    "#             plt.plot(samples)\n",
    "            plt.title(f\"Ori_{sample_name}_lead{j}\")\n",
    "            plt.savefig(save_aug_plot_dir + f\"/Ori_{sample_name}_lead{j}.png\")\n",
    "            \n",
    "            plt.figure(figsize = (30, 12))        \n",
    "#             plt.plot(augmented_samples)\n",
    "            plt.title(f\"Augment_{sample_name}_lead{j}\")\n",
    "            plt.savefig(save_aug_plot_dir + f\"/Augment_{sample_name}_lead{j}.png\")\n",
    "        "
   ]
  }
 ],
 "metadata": {
  "kernelspec": {
   "display_name": "Python 3 (ipykernel)",
   "language": "python",
   "name": "python3"
  },
  "language_info": {
   "codemirror_mode": {
    "name": "ipython",
    "version": 3
   },
   "file_extension": ".py",
   "mimetype": "text/x-python",
   "name": "python",
   "nbconvert_exporter": "python",
   "pygments_lexer": "ipython3",
   "version": "3.10.7"
  }
 },
 "nbformat": 4,
 "nbformat_minor": 5
}
