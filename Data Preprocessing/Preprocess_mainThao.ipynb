{
 "cells": [
  {
   "cell_type": "code",
   "execution_count": 1,
   "metadata": {},
   "outputs": [],
   "source": [
    "import pandas as pd\n",
    "import scipy.io\n",
    "import scipy.signal as ss\n",
    "import pywt\n",
    "import glob\n",
    "import matplotlib.pyplot as plt\n",
    "import scaleogram as scg\n",
    "from scaleogram import cws\n",
    "import numpy as np\n",
    "from math import *\n",
    "import os\n",
    "import cv2\n",
    "from scipy.io import loadmat\n"
   ]
  },
  {
   "cell_type": "code",
   "execution_count": 2,
   "metadata": {},
   "outputs": [
    {
     "name": "stdout",
     "output_type": "stream",
     "text": [
      "/Users/hoangminhthao/Documents/GitHub/HeartResearch/Data Preprocessing\n"
     ]
    }
   ],
   "source": [
    "print(os.getcwd())\n",
    "os.chdir(\"..\")"
   ]
  },
  {
   "cell_type": "code",
   "execution_count": 4,
   "metadata": {},
   "outputs": [
    {
     "name": "stdout",
     "output_type": "stream",
     "text": [
      "['.DS_Store', 'Gaussian_Filter', 'TrainingSet1', 'Median_Filter', 'Segmentation', 'README.md', 'Label.csv', 'Scaleogram_512_256', 'Output.png', 'TrainingSet3', 'TrainingSet2']\n"
     ]
    }
   ],
   "source": [
    "main_data_dir = os.getcwd() + \"/Data set\"\n",
    "print(os.listdir(main_data_dir))"
   ]
  },
  {
   "cell_type": "code",
   "execution_count": 22,
   "metadata": {},
   "outputs": [],
   "source": [
    "data_mat_files = glob.glob(main_data_dir + \"/TrainingSet*/*\")\n",
    "data_mat_files.sort()\n",
    "label_path = main_data_dir + \"/Label.csv\"\n",
    "label_df = pd.read_csv(label_path)"
   ]
  },
  {
   "cell_type": "code",
   "execution_count": 23,
   "metadata": {},
   "outputs": [],
   "source": [
    "label_df.drop(['Second_label', 'Third_label'], axis=1)\n",
    "label = label_df['First_label'].tolist()"
   ]
  },
  {
   "cell_type": "code",
   "execution_count": 24,
   "metadata": {},
   "outputs": [],
   "source": [
    "def data_extract(signal_raw_list, start_point):\n",
    "    signal_list = []\n",
    "    signal_number_list = []\n",
    "    \n",
    "    for signal in signal_raw_list:\n",
    "        mat = scipy.io.loadmat(signal)\n",
    "        signal_list.append(mat['ECG'][0][0][2][:,start_point:])\n",
    "        signal_number = signal.split('/')[-1].split('.')[0]\n",
    "        signal_number_list.append(signal_number)\n",
    "\n",
    "    return (signal_list, signal_number_list)\n",
    "\n",
    "signal_list, signal_number = data_extract(data_mat_files, 300)"
   ]
  },
  {
   "cell_type": "code",
   "execution_count": 8,
   "metadata": {},
   "outputs": [],
   "source": [
    "def median_filter(signal_raw_list):\n",
    "    median_fil_list = []\n",
    "\n",
    "    for i in range(len(signal_raw_list)):\n",
    "        for j in range(12):\n",
    "            median_fil = ss.medfilt(signal_raw_list[i][j])\n",
    "            median_fil_list.append(median_fil)    \n",
    "    return median_fil_list\n",
    "    \n",
    "median_fil_list = median_filter(signal_list)"
   ]
  },
  {
   "cell_type": "code",
   "execution_count": null,
   "metadata": {},
   "outputs": [],
   "source": [
    "#Segmentation\n",
    "list_class_dir = [\"\\Segmentation\\Segmentation_class_1\", \n",
    "                  \"\\Segmentation\\Segmentation_class_2\", \n",
    "                  \"\\Segmentation\\Segmentation_class_3\", \n",
    "                  \"\\Segmentation\\Segmentation_class_4\", \n",
    "                  \"\\Segmentation\\Segmentation_class_5\", \n",
    "                  \"\\Segmentation\\Segmentation_class_6\", \n",
    "                  \"\\Segmentation\\Segmentation_class_7\", \n",
    "                  \"\\Segmentation\\Segmentation_class_8\", \n",
    "                  \"\\Segmentation\\Segmentation_class_9\"]\n",
    "\n",
    "for class_dir in list_class_dir:\n",
    "    os.makedirs(main_data_dir + class_dir)\n",
    "\n",
    "# seg_class_1_path = class_1_path + \"\\{}_lead{}_seg{}.mat\"\n",
    "# seg_class_2_path = class_2_path + \"\\{}_lead{}_seg{}.mat\"\n",
    "# seg_class_3_path = class_3_path + \"\\{}_lead{}_seg{}.mat\"\n",
    "# seg_class_4_path = class_4_path + \"\\{}_lead{}_seg{}.mat\"\n",
    "# seg_class_5_path = class_5_path + \"\\{}_lead{}_seg{}.mat\"\n",
    "# seg_class_6_path = class_6_path + \"\\{}_lead{}_seg{}.mat\"\n",
    "# seg_class_7_path = class_7_path + \"\\{}_lead{}_seg{}.mat\"\n",
    "# seg_class_8_path = class_8_path + \"\\{}_lead{}_seg{}.mat\"\n",
    "# seg_class_9_path = class_9_path + \"\\{}_lead{}_seg{}.mat\"\n",
    "\n",
    "# class_1_dir = main_data_dir + \"\\Segmentation_class_1\\{}_lead{}_seg{}.mat\"\n",
    "\n",
    "lead = ['I','II','III','aVR','aVL','aVF','V1','V2','V3','V4','V5','V6']\n",
    "\n",
    "def segmentation(signal_filt_list, seg_len):\n",
    "    count = 0\n",
    "    \n",
    "    for i in range(len(signal_filt_list)):\n",
    "        #split\n",
    "        sig_len = len(signal_filt_list[i])\n",
    "        seg_num = ceil(sig_len/seg_len)\n",
    "        for w in range(1,seg_num+1):\n",
    "            x = floor((sig_len-seg_len)/(seg_num-1)*(w-1))\n",
    "            segment = signal_filt_list[i][x:x+1600]\n",
    "            seg_label = label[((i+1)/12)-1]\n",
    "            save_dic_seg = {\"ECG_segment\": segment}\n",
    "            \n",
    "            class_dir = main_data_dir + \"\\Segmentation_class_{}\".format(seg_label)\n",
    "            if not os.path.exists(class_dir):\n",
    "                os.mkdir(class_dir)\n",
    "            seg_path = class_dir + \"\\{}_lead{}_seg{}.mat\" \n",
    "            scipy.io.savemat(seg_path.format(signal_number[floor((i+1)/12)], lead[count], w), save_dic_seg)\n",
    "            \n",
    "        if count == 11:\n",
    "            count = 0\n",
    "        else:\n",
    "            count += 1\n",
    "        \n",
    "            \n",
    "segmentation(median_fil_list, 1600)"
   ]
  },
  {
   "cell_type": "code",
   "execution_count": null,
   "metadata": {},
   "outputs": [],
   "source": [
    "        #scaleogram\n",
    "    \n",
    "fig, ax = cws(segment, \n",
    "        scales=scg.periods2scales(np.arange(1, scale)),\n",
    "        figsize=(img_size[1]*px, img_size[0]*px), coi = False)\n",
    "plt.axis('off')\n",
    "plt.savefig(scaleogram_save_path.format(signal_filename, idx, w), \n",
    "            bbox_inches='tight', \n",
    "            # format = 'jpg', \n",
    "            pad_inches = 0)\n",
    "fig.clear()\n",
    "plt.close(fig)\n",
    "ax.clear()\n",
    "plt.cla()\n",
    "plt.close(\"all\")\n",
    "        "
   ]
  },
  {
   "cell_type": "code",
   "execution_count": null,
   "metadata": {},
   "outputs": [],
   "source": [
    "# segment_list, seg_label_df = segmentation_and_filter_scaleogram(median_fil_list, 1600, folder = 'Median_Filter')"
   ]
  },
  {
   "cell_type": "code",
   "execution_count": null,
   "metadata": {},
   "outputs": [],
   "source": [
    "# seg_label_df.to_csv(main_data_dir + \"\\Segment_filter_label\\Segment_Median_label.csv\")"
   ]
  },
  {
   "cell_type": "code",
   "execution_count": null,
   "metadata": {},
   "outputs": [],
   "source": [
    "# segment_file_name = \"{}_lead{}_seg{}.mat\"\n",
    "# segment_list = []\n",
    "# segment_name_list = []\n",
    "# label_list = []\n",
    "\n",
    "# def segmentation_and_filter_scaleogram1(signal_filt_list, seg_len, folder):\n",
    "#     output_path = main_data_dir + \"\\Scaleogram_512_256\\{}\\{}_{}_lead{}_seg{}\"\n",
    "#     scg.set_default_wavelet('morl')\n",
    "#     px = 1/plt.rcParams['figure.dpi']\n",
    "#     lead = ['I','II','III','aVR','aVL','aVF','V1','V2','V3','V4','V5','V6']\n",
    "#     count = 0\n",
    "    \n",
    "#     for i in range(len(signal_filt_list)):\n",
    "#         sig_len = len(signal_filt_list[i])\n",
    "#         seg_num = ceil(sig_len/seg_len)\n",
    "#         for w in range(1,seg_num+1):\n",
    "#             x = floor((sig_len-seg_len)/(seg_num-1)*(w-1))\n",
    "#             segment = signal_filt_list[i][x:x+1600]\n",
    "#             segment_list.append(segment)\n",
    "#             save_dic_data = {\"ECG_segment\": segment}\n",
    "#             label_list.append(label[floor(i/12)])\n",
    "#             segment_name_list.append(segment_file_name.format(signal_number[floor(i/12)], count+1, w))\n",
    "# #             scipy.io.savemat(main_data_dir + \"\\Segmentation\\{}_lead{}_seg{}.mat\".format(signal_number[floor(i/12)], count+1, w), save_dic_data)\n",
    "            \n",
    "#             scales = scg.periods2scales(np.arange(1, seg_len+1))\n",
    "#             x_values_wvt_arr = range(0,sig_len,1)\n",
    "#             for segment in segment_list:\n",
    "#                 fig = cws(segment, scales=scales, figsize=(512*px, 256*px), coi = False)\n",
    "# #           print(fig)\n",
    "#                 plt.axis('off')\n",
    "#                 plt.savefig(output_path.format(folder, folder, signal_number[floor(i/12)],count+1, w), bbox_inches='tight', pad_inches = 0)\n",
    "        \n",
    "#         if count == 11:\n",
    "#             count = 0\n",
    "#         else:\n",
    "#             count += 1\n",
    "#     seg_label_df = pd.DataFrame(list(zip(segment_name_list, label_list)), columns = ['Segment', 'Label'])  \n",
    "    \n",
    "#     return segment_list, seg_label_df"
   ]
  },
  {
   "cell_type": "code",
   "execution_count": null,
   "metadata": {},
   "outputs": [],
   "source": [
    "# segmentation_and_filter_scaleogram1(median_fil_list[:1], 1600, folder = 'Median_Filter')"
   ]
  },
  {
   "cell_type": "code",
   "execution_count": null,
   "metadata": {},
   "outputs": [],
   "source": []
  },
  {
   "cell_type": "code",
   "execution_count": null,
   "metadata": {},
   "outputs": [],
   "source": [
    "# # LINH 3/1\n",
    "# output_path = main_data_dir + \"\\Scaleogram_512_256\\{}_{}_{}\"\n",
    "# scg.set_default_wavelet('morl')\n",
    "# px = 1/plt.rcParams['figure.dpi']\n",
    "# lead = ['I','II','III','aVR','aVL','aVF','V1','V2','V3','V4','V5','V6']\n",
    "\n",
    "# def scaleogram(data, folder):\n",
    "# #     count = 0\n",
    "#     for i in range(len(data)):\n",
    "#             signal_length = 1600\n",
    "#             # range of scales to perform the transform\n",
    "#             scales = scg.periods2scales(np.arange(1, signal_length+1))\n",
    "#             x_values_wvt_arr = range(0,len(data[i]),1)\n",
    "\n",
    "#             # plot the signal \n",
    "# #             fig1, ax1 = plt.subplots(1, 1, figsize=(9, 3.5));  \n",
    "# #             ax1.plot(x_values_wvt_arr, data[i][j], linewidth=3, color='blue')\n",
    "# #             ax1.set_xlim(0, signal_length)\n",
    "# #             ax1.set_title(\"ECG\")\n",
    "\n",
    "#             # the scaleogram\n",
    "#             fig = cws(data[i][:signal_length], scales=scales, figsize=(512*px, 256*px), coi = False)\n",
    "# #             print(fig)\n",
    "#             plt.axis('off')\n",
    "#             plt.savefig(output_path.format(folder, signal_number[i],lead[j]), bbox_inches='tight', pad_inches = 0)"
   ]
  },
  {
   "cell_type": "code",
   "execution_count": null,
   "metadata": {},
   "outputs": [],
   "source": [
    "# scaleogram(segment_list, folder = \"Median_Filter\")"
   ]
  },
  {
   "cell_type": "code",
   "execution_count": null,
   "metadata": {},
   "outputs": [],
   "source": [
    "# segment_file_name = \"{}_lead{}_seg{}.mat\"\n",
    "# # segment_list = []\n",
    "# segment_name_list = []\n",
    "# label_list = []\n",
    "\n",
    "# def segmentation(signal_list, seg_len):\n",
    "#     for i in range(len(signal_list)):\n",
    "#         for j in range(12):\n",
    "#             sig_len = len(signal_list[i][j])\n",
    "#             seg_num = ceil(sig_len/seg_len)\n",
    "#             for w in range(1,seg_num+1):\n",
    "#                 x = floor((sig_len-seg_len)/(seg_num-1)*(w-1))\n",
    "#                 segment = signal_list[i][j][x:x+1600]\n",
    "#                 save_dic_data = {\"ECG_segment\": segment}\n",
    "# #                 segment_list.append(segment)\n",
    "#                 label_list.append(label[i])\n",
    "#                 segment_name_list.append(segment_file_name.format(signal_number[i], j+1, w))\n",
    "# #                 scipy.io.savemat(main_data_dir + \"\\Segmentation\\{}_lead{}_seg{}.mat\".format(signal_number[i], j+1, w), save_dic_data)\n",
    "#     seg_label_df = pd.DataFrame(list(zip(segment_name_list, label_list)), columns = ['Segment', 'Label'])  \n",
    "#     return seg_label_df"
   ]
  },
  {
   "cell_type": "code",
   "execution_count": null,
   "metadata": {},
   "outputs": [],
   "source": [
    "# seg_label_df = segmentation(signal_list,1600)"
   ]
  },
  {
   "cell_type": "code",
   "execution_count": null,
   "metadata": {},
   "outputs": [],
   "source": [
    "# seg_label_df.to_csv(main_data_dir + \"\\Segment_label.csv\")"
   ]
  },
  {
   "cell_type": "code",
   "execution_count": null,
   "metadata": {},
   "outputs": [],
   "source": [
    "# def save_data_filter(data, signal_number, folder):\n",
    "# #     for i in range(len(data)):\n",
    "#         save_dic_data = {\"ECG\": data[i]}\n",
    "#         scipy.io.savemat(\"E:\\git\\HeartResearch\\Data set\\{}\\{}.mat\".format(folder,signal_number[i]), save_dic_data)"
   ]
  },
  {
   "cell_type": "code",
   "execution_count": null,
   "metadata": {},
   "outputs": [],
   "source": [
    "# save_data_filter(median_fil_list, signal_number, folder = \"Median_Filter\")"
   ]
  },
  {
   "cell_type": "code",
   "execution_count": null,
   "metadata": {},
   "outputs": [],
   "source": [
    "# output_path = main_data_dir + \"\\Scaleogram_512_256\\{}_{}_{}\"\n",
    "# scg.set_default_wavelet('morl')\n",
    "# px = 1/plt.rcParams['figure.dpi']\n",
    "# lead = ['I','II','III','aVR','aVL','aVF','V1','V2','V3','V4','V5','V6']\n",
    "\n",
    "# def scaleogram(data, folder, signal_length):\n",
    "#     for i in range(len(data)):\n",
    "#         for j in range(len(lead)):\n",
    "            \n",
    "# #             signal_length = 1600\n",
    "#             # range of scales to perform the transform\n",
    "#             scales = scg.periods2scales(np.arange(1, signal_length+1))\n",
    "#             x_values_wvt_arr = range(0,len(data[i][j]),1)\n",
    "\n",
    "#             # plot the signal \n",
    "#             fig1, ax1 = plt.subplots(1, 1, figsize=(9, 3.5));  \n",
    "#             ax1.plot(x_values_wvt_arr, data[i][j], linewidth=3, color='blue')\n",
    "#             ax1.set_xlim(0, signal_length)\n",
    "#             ax1.set_title(\"ECG\")\n",
    "\n",
    "#             # the scaleogram\n",
    "#             fig = cws(data[i][j][:signal_length], scales=scales, figsize=(512*px, 256*px), coi = False)\n",
    "#             print(fig)\n",
    "#             plt.axis('off')\n",
    "# #             plt.savefig(output_path.format(folder, signal_number[i],lead[j]), bbox_inches='tight', pad_inches = 0)"
   ]
  },
  {
   "cell_type": "code",
   "execution_count": null,
   "metadata": {},
   "outputs": [],
   "source": [
    "# scaleogram(median_fil_list[60:61], folder = \"Median_Filter\", signal_length=1650)"
   ]
  },
  {
   "cell_type": "code",
   "execution_count": null,
   "metadata": {},
   "outputs": [],
   "source": [
    "# def gaussian_filter(signal_raw_list, std):\n",
    "#     gauss_filt = []\n",
    "#     n_bins = signal_raw_list.shape[2]\n",
    "#     M = n_bins - 1 if n_bins % 2 == 0 else n_bins\n",
    "#     window = ss.gaussian(M, std = std)\n",
    "\n",
    "#     for signal in signal_raw_list:\n",
    "#         for i in range(signal.shape[0]):\n",
    "#             gauss_filter = ss.convolve(signal[i], window, mode='same', method='auto')\n",
    "#             gauss_filt.append(gauss_filter)    \n",
    "#     return gauss_filt"
   ]
  },
  {
   "cell_type": "code",
   "execution_count": null,
   "metadata": {},
   "outputs": [],
   "source": [
    "gauss_filt = gaussian_filter(signal_list, std=1)"
   ]
  },
  {
   "cell_type": "code",
   "execution_count": null,
   "metadata": {},
   "outputs": [],
   "source": [
    "gauss_filt_array = (np.array(gauss_filt)).reshape(6877,12,3000)\n",
    "gauss_filt_list = []\n",
    "for i in range(gauss_filt_array.shape[0]):\n",
    "    gauss_filt_list.append(gauss_filt_array[i])"
   ]
  },
  {
   "cell_type": "code",
   "execution_count": null,
   "metadata": {},
   "outputs": [],
   "source": [
    "folder = \"Gaussian_Filter\"\n",
    "save_data_filter(gauss_filt_list, signal_number, folder)"
   ]
  },
  {
   "cell_type": "code",
   "execution_count": null,
   "metadata": {},
   "outputs": [],
   "source": [
    "(np.array(signal_list).shape"
   ]
  },
  {
   "cell_type": "code",
   "execution_count": null,
   "metadata": {},
   "outputs": [],
   "source": [
    "plt.figure(figsize=(20,10))\n",
    "plt.plot(signal_list[0][4])\n",
    "print(signal_list[0][4])\n",
    "print(type(signal_list[0][4]))"
   ]
  },
  {
   "cell_type": "code",
   "execution_count": null,
   "metadata": {},
   "outputs": [],
   "source": [
    "plt.figure(figsize=(20,10))\n",
    "y = ss.medfilt(signal_list[0][4], 17)\n",
    "plt.plot(y)\n",
    "print(y)"
   ]
  }
 ],
 "metadata": {
  "kernelspec": {
   "display_name": "Python 3 (ipykernel)",
   "language": "python",
   "name": "python3"
  },
  "language_info": {
   "codemirror_mode": {
    "name": "ipython",
    "version": 3
   },
   "file_extension": ".py",
   "mimetype": "text/x-python",
   "name": "python",
   "nbconvert_exporter": "python",
   "pygments_lexer": "ipython3",
   "version": "3.9.6"
  },
  "vscode": {
   "interpreter": {
    "hash": "4e452ee330f6d751e1dd180b1e70bd0d390f5cf9a616fc37fafdccabf65d1ea1"
   }
  }
 },
 "nbformat": 4,
 "nbformat_minor": 2
}
