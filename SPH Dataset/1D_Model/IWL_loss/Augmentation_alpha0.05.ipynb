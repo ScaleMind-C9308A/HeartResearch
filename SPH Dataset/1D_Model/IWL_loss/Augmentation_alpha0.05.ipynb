{
 "cells": [
  {
   "cell_type": "code",
   "execution_count": 1,
   "id": "44ddf287-4125-4d02-a3db-09a4f358b8f3",
   "metadata": {},
   "outputs": [],
   "source": [
    "import os\n",
    "import pandas as pd\n",
    "import matplotlib.pyplot as plt\n",
    "import numpy as np\n",
    "import seaborn as sns\n",
    "\n",
    "import random\n",
    "from glob import glob\n",
    "from tqdm import tqdm\n",
    "from scipy.io import loadmat\n",
    "\n",
    "import torch\n",
    "from torch import nn\n",
    "from torch.optim import Adam\n",
    "from torch.optim.lr_scheduler import CosineAnnealingLR\n",
    "from torch.utils.data import Dataset, DataLoader\n",
    "import torch.nn.functional as F\n",
    "from audiomentations import *\n",
    "import warnings\n",
    "from sklearn.metrics import classification_report\n",
    "from sklearn.metrics import roc_curve, auc\n",
    "from sklearn.metrics import roc_auc_score\n",
    "from sklearn import metrics\n",
    "from datetime import datetime\n",
    "import json\n",
    "\n",
    "import h5py"
   ]
  },
  {
   "cell_type": "code",
   "execution_count": 2,
   "id": "e2868d4b-ebc6-40e5-8242-80fdb12670df",
   "metadata": {},
   "outputs": [
    {
     "name": "stdout",
     "output_type": "stream",
     "text": [
      "['metadata.csv', 'data_df.csv', 'data_df_no1.csv', 'records']\n"
     ]
    }
   ],
   "source": [
    "data_dir = \"/media/mountHDD3/data_storage/biomedical_data/ecg_data/SPH\"\n",
    "print(os.listdir(data_dir))"
   ]
  },
  {
   "cell_type": "code",
   "execution_count": 3,
   "id": "2f3c37b5-d09e-467c-8ee3-c2bb3fce5555",
   "metadata": {},
   "outputs": [
    {
     "data": {
      "text/html": [
       "<div>\n",
       "<style scoped>\n",
       "    .dataframe tbody tr th:only-of-type {\n",
       "        vertical-align: middle;\n",
       "    }\n",
       "\n",
       "    .dataframe tbody tr th {\n",
       "        vertical-align: top;\n",
       "    }\n",
       "\n",
       "    .dataframe thead th {\n",
       "        text-align: right;\n",
       "    }\n",
       "</style>\n",
       "<table border=\"1\" class=\"dataframe\">\n",
       "  <thead>\n",
       "    <tr style=\"text-align: right;\">\n",
       "      <th></th>\n",
       "      <th>Unnamed: 0</th>\n",
       "      <th>File name</th>\n",
       "      <th>Label</th>\n",
       "      <th>New Label</th>\n",
       "    </tr>\n",
       "  </thead>\n",
       "  <tbody>\n",
       "    <tr>\n",
       "      <th>0</th>\n",
       "      <td>0</td>\n",
       "      <td>A00002</td>\n",
       "      <td>1</td>\n",
       "      <td>0</td>\n",
       "    </tr>\n",
       "    <tr>\n",
       "      <th>1</th>\n",
       "      <td>1</td>\n",
       "      <td>A00003</td>\n",
       "      <td>1</td>\n",
       "      <td>0</td>\n",
       "    </tr>\n",
       "    <tr>\n",
       "      <th>2</th>\n",
       "      <td>2</td>\n",
       "      <td>A00004</td>\n",
       "      <td>23</td>\n",
       "      <td>3</td>\n",
       "    </tr>\n",
       "    <tr>\n",
       "      <th>3</th>\n",
       "      <td>3</td>\n",
       "      <td>A00005</td>\n",
       "      <td>146</td>\n",
       "      <td>19</td>\n",
       "    </tr>\n",
       "    <tr>\n",
       "      <th>4</th>\n",
       "      <td>4</td>\n",
       "      <td>A00006</td>\n",
       "      <td>1</td>\n",
       "      <td>0</td>\n",
       "    </tr>\n",
       "    <tr>\n",
       "      <th>...</th>\n",
       "      <td>...</td>\n",
       "      <td>...</td>\n",
       "      <td>...</td>\n",
       "      <td>...</td>\n",
       "    </tr>\n",
       "    <tr>\n",
       "      <th>20787</th>\n",
       "      <td>20787</td>\n",
       "      <td>A25765</td>\n",
       "      <td>1</td>\n",
       "      <td>0</td>\n",
       "    </tr>\n",
       "    <tr>\n",
       "      <th>20788</th>\n",
       "      <td>20788</td>\n",
       "      <td>A25766</td>\n",
       "      <td>146</td>\n",
       "      <td>19</td>\n",
       "    </tr>\n",
       "    <tr>\n",
       "      <th>20789</th>\n",
       "      <td>20789</td>\n",
       "      <td>A25767</td>\n",
       "      <td>23</td>\n",
       "      <td>3</td>\n",
       "    </tr>\n",
       "    <tr>\n",
       "      <th>20790</th>\n",
       "      <td>20790</td>\n",
       "      <td>A25768</td>\n",
       "      <td>147</td>\n",
       "      <td>20</td>\n",
       "    </tr>\n",
       "    <tr>\n",
       "      <th>20791</th>\n",
       "      <td>20791</td>\n",
       "      <td>A25770</td>\n",
       "      <td>23</td>\n",
       "      <td>3</td>\n",
       "    </tr>\n",
       "  </tbody>\n",
       "</table>\n",
       "<p>20792 rows × 4 columns</p>\n",
       "</div>"
      ],
      "text/plain": [
       "       Unnamed: 0 File name  Label  New Label\n",
       "0               0    A00002      1          0\n",
       "1               1    A00003      1          0\n",
       "2               2    A00004     23          3\n",
       "3               3    A00005    146         19\n",
       "4               4    A00006      1          0\n",
       "...           ...       ...    ...        ...\n",
       "20787       20787    A25765      1          0\n",
       "20788       20788    A25766    146         19\n",
       "20789       20789    A25767     23          3\n",
       "20790       20790    A25768    147         20\n",
       "20791       20791    A25770     23          3\n",
       "\n",
       "[20792 rows x 4 columns]"
      ]
     },
     "execution_count": 3,
     "metadata": {},
     "output_type": "execute_result"
    }
   ],
   "source": [
    "main_df = pd.read_csv(data_dir + \"/data_df.csv\")\n",
    "main_df"
   ]
  },
  {
   "cell_type": "code",
   "execution_count": 4,
   "id": "a4f1e0f7-99a0-4a5a-8ba5-7cab7e5d354b",
   "metadata": {},
   "outputs": [],
   "source": [
    "single_fns = main_df[\"File name\"].values.tolist()\n",
    "single_mat_paths = [data_dir + f\"/records/{x}.h5\" for x in single_fns]"
   ]
  },
  {
   "cell_type": "code",
   "execution_count": 5,
   "id": "7c439e8c-8f9c-4237-9e6a-c0939efe403b",
   "metadata": {},
   "outputs": [],
   "source": [
    "# single_main_df.to_csv(data_dir + \"/single_label.csv\")"
   ]
  },
  {
   "cell_type": "code",
   "execution_count": 6,
   "id": "069eddeb-73ab-40de-8a4f-2b4cae764db6",
   "metadata": {},
   "outputs": [],
   "source": [
    "ratio = [0.9, 0.1]\n",
    "\n",
    "train_index = int(len(single_mat_paths)*ratio[0])\n",
    "\n",
    "train_mat_paths = single_mat_paths[:train_index]\n",
    "valid_mat_paths = single_mat_paths[train_index:]\n"
   ]
  },
  {
   "cell_type": "code",
   "execution_count": 7,
   "id": "7978703e-8bd0-464d-a4d5-08abc919c38a",
   "metadata": {},
   "outputs": [
    {
     "name": "stdout",
     "output_type": "stream",
     "text": [
      "torch.Size([1, 12, 32])\n"
     ]
    }
   ],
   "source": [
    "sample_sig = torch.randn(1, 12, 32)\n",
    "conv_test = nn.Conv1d(12, 12, 3, 1, 1)\n",
    "print(conv_test(sample_sig).shape)"
   ]
  },
  {
   "cell_type": "code",
   "execution_count": 8,
   "id": "b553864b-76e1-4a92-aa92-ecb7410840ac",
   "metadata": {},
   "outputs": [],
   "source": [
    "# len_lst = [loadmat(x)['ECG'][0][0][2].shape[1] for x in single_mat_paths]\n",
    "# print(f\"MAX: {max(len_lst)}\")\n",
    "# print(f\"MIN: {min(len_lst)}\")\n",
    "# print(f\"AVG: {sum(len_lst)/len(len_lst)}\")"
   ]
  },
  {
   "cell_type": "code",
   "execution_count": 9,
   "id": "949a0ef3-5be8-4e8e-b087-fa05e95f6fb8",
   "metadata": {},
   "outputs": [],
   "source": [
    "class BasicBlock(nn.Module):\n",
    "    def __init__(self, channel_num):\n",
    "        super(BasicBlock, self).__init__()\n",
    "        self.conv_block1 = nn.Sequential(\n",
    "\t\t\tnn.Conv1d(channel_num, channel_num, 3, padding=1),\n",
    "\t\t\tnn.BatchNorm1d(channel_num),\n",
    "\t\t\tnn.LeakyReLU(0.2),\n",
    "\t\t)\n",
    "        self.conv_block2 = nn.Sequential(\n",
    "\t\t\tnn.Conv1d(channel_num, channel_num, 3, padding=1),\n",
    "\t\t\tnn.BatchNorm1d(channel_num),\n",
    "\t\t)\n",
    "        self.relu = nn.LeakyReLU(0.2)\n",
    "        torch.nn.init.kaiming_normal_(self.conv_block1[0].weight)\n",
    "        torch.nn.init.kaiming_normal_(self.conv_block2[0].weight)\n",
    "        \n",
    "    def forward(self, x):\n",
    "        residual = x\n",
    "        x = self.conv_block1(x)\n",
    "        x = self.conv_block2(x)\n",
    "        x = x + residual\n",
    "        out = self.relu(x)\n",
    "        return out"
   ]
  },
  {
   "cell_type": "code",
   "execution_count": 10,
   "id": "dbdfa702-b20a-4fe3-80e6-e28fa4ac0e6f",
   "metadata": {},
   "outputs": [
    {
     "name": "stdout",
     "output_type": "stream",
     "text": [
      "torch.Size([1, 2, 32])\n"
     ]
    }
   ],
   "source": [
    "test_basic_block = BasicBlock(2)\n",
    "sample_sig = torch.randn(1, 2, 32)\n",
    "print(test_basic_block(sample_sig).shape)"
   ]
  },
  {
   "cell_type": "code",
   "execution_count": 11,
   "id": "e07a7549-965d-49b4-b498-ff00f4014167",
   "metadata": {},
   "outputs": [],
   "source": [
    "class ResNet(nn.Module):\n",
    "    def __init__(self, in_channels = 12, type = 18, num_classes = 31):\n",
    "        super(ResNet, self).__init__()\n",
    "        self.struc_dict = {\n",
    "            18: {\n",
    "                \"num_channels\" : [64, 128, 256, 512],\n",
    "                \"counts\" : [2, 2, 2, 2]\n",
    "            }\n",
    "        }\n",
    "        self.conv1 = nn.Conv1d(in_channels=in_channels, out_channels=64, kernel_size=7, stride=2)\n",
    "        torch.nn.init.kaiming_normal_(self.conv1.weight)\n",
    "        self.max1 = nn.MaxPool1d(kernel_size=3, stride=2)\n",
    "        self.main = nn.Sequential()\n",
    "        for idx, struc in enumerate(\n",
    "            zip(\n",
    "                self.struc_dict[type][\"num_channels\"], \n",
    "                self.struc_dict[type][\"counts\"]\n",
    "            )\n",
    "        ):\n",
    "            num_channel, cnt = struc\n",
    "            for i in range(cnt):\n",
    "                self.main.add_module(f\"conv{idx+1}_{i}\", BasicBlock(num_channel))\n",
    "            if idx < len(self.struc_dict[type][\"num_channels\"]) - 1:\n",
    "                self.main.add_module(f\"ext_{idx}\", nn.Conv1d(num_channel, self.struc_dict[type][\"num_channels\"][idx+1], 3, 1))\n",
    "                self.main.add_module(f\"extbn_{idx}\", nn.BatchNorm1d(self.struc_dict[type][\"num_channels\"][idx+1]))\n",
    "                                     \n",
    "        self.avg = torch.nn.AdaptiveAvgPool1d((1))\n",
    "        self.lin = nn.Linear(self.struc_dict[type][\"num_channels\"][-1], num_classes)\n",
    "        torch.nn.init.kaiming_normal_(self.lin.weight)\n",
    "    def forward(self, x):\n",
    "        x = self.conv1(x)\n",
    "        x = self.max1(x)\n",
    "        x = self.main(x)\n",
    "        x = self.avg(x)\n",
    "        x = x.reshape(x.shape[0], -1)\n",
    "        x = self.lin(x)\n",
    "        return x"
   ]
  },
  {
   "cell_type": "code",
   "execution_count": 12,
   "id": "182b31c1-94b6-4c83-837e-f8aa593a1324",
   "metadata": {},
   "outputs": [
    {
     "data": {
      "text/plain": [
       "torch.Size([1, 31])"
      ]
     },
     "execution_count": 12,
     "metadata": {},
     "output_type": "execute_result"
    }
   ],
   "source": [
    "model = ResNet()\n",
    "sample_sig = torch.randn(1, 12, 3000)\n",
    "model(sample_sig).shape"
   ]
  },
  {
   "cell_type": "code",
   "execution_count": 13,
   "id": "c7dd7940-7c95-4edf-b39e-0de905f24dc5",
   "metadata": {},
   "outputs": [],
   "source": [
    "class ECG(Dataset):\n",
    "    def __init__(self, data_paths, train):\n",
    "        self.data_paths = data_paths\n",
    "        random.shuffle(self.data_paths)\n",
    "\n",
    "        self.train = train\n",
    "\n",
    "    def __getitem__(self, idx):\n",
    "        augment = Compose([\n",
    "            AddGaussianNoise(min_amplitude=0.001, max_amplitude=0.01, p=0.2),\n",
    "            AddGaussianSNR(min_snr_db=3.0, max_snr_db=12.0, p=0.2),\n",
    "            Gain(min_gain_db = -10.0, max_gain_db = 10.0, p =0.2),\n",
    "            GainTransition(min_gain_db = -15.0, max_gain_db = 15.0, \n",
    "                           min_duration = 50, max_duration = 200, duration_unit = \"samples\", \n",
    "                           p = 0.2),\n",
    "            TimeStretch(min_rate=0.8, max_rate=1.25, p=0.2),\n",
    "            PitchShift(min_semitones=-4, max_semitones=4, p=0.2),\n",
    "            Shift(min_shift=-0.5, max_shift=0.5, shift_unit = \"fraction\", p=0.2),\n",
    "        ])\n",
    "        \n",
    "        data_path = self.data_paths[idx]        \n",
    "\n",
    "        filename = data_path.split(\"/\")[-1].split(\".\")[0]\n",
    "        label = main_df[main_df[\"File name\"] == filename][\"New Label\"].values.item()\n",
    "          \n",
    "        tensor_lst = []\n",
    "        for i in range(12):\n",
    "            a = h5py.File(data_path, 'r')\n",
    "            data_h5 = a['ecg']\n",
    "            data = np.array(data_h5)\n",
    "            clip_data = data[i][300:]\n",
    "            desired_length = 2500\n",
    "            if self.train == True:\n",
    "                pad_length = max(desired_length - len(clip_data), 0)\n",
    "                if pad_length == 0:\n",
    "                    padded_augment = clip_data[:desired_length]\n",
    "                else:\n",
    "                    padded_augment = np.pad(clip_data, (0, pad_length), mode='constant')\n",
    "\n",
    "            else:\n",
    "                augmented_samples = augment(samples=clip_data, sample_rate=500)\n",
    "                pad_length = max(desired_length - len(augmented_samples), 0)\n",
    "                if pad_length == 0:\n",
    "                    padded_augment = augmented_samples[:desired_length]\n",
    "                else:\n",
    "                    padded_augment = np.pad(clip_data, (0, pad_length), mode='constant')\n",
    "\n",
    "            augment_signal_tensor = torch.tensor(padded_augment).float()\n",
    "            tensor_lst.append(augment_signal_tensor)\n",
    "            \n",
    "        n = torch.stack(tensor_lst, 0).float()\n",
    "\n",
    "        return n, label\n",
    "\n",
    "    def __len__(self):\n",
    "        return len(self.data_paths)"
   ]
  },
  {
   "cell_type": "code",
   "execution_count": 14,
   "id": "4e01d387-99b1-416e-83a7-cb1d3a664179",
   "metadata": {},
   "outputs": [],
   "source": [
    "# check_ds = ECG(data_paths=single_mat_paths, label_df=single_main_df)\n",
    "# sample, lbl = check_ds[0]\n",
    "# print(sample.shape, lbl)"
   ]
  },
  {
   "cell_type": "code",
   "execution_count": 15,
   "id": "68e75806-1788-4302-a883-2a1e6401ea00",
   "metadata": {},
   "outputs": [],
   "source": [
    "train_ds = ECG(train_mat_paths, train = True)\n",
    "valid_ds = ECG(valid_mat_paths, train = False)"
   ]
  },
  {
   "cell_type": "code",
   "execution_count": 16,
   "id": "701f345f-bc5e-434d-ab2f-ece864f14b99",
   "metadata": {},
   "outputs": [
    {
     "name": "stdout",
     "output_type": "stream",
     "text": [
      "585\n",
      "2080\n"
     ]
    }
   ],
   "source": [
    "# device = torch.device(\"cuda\" if torch.cuda.is_available() else \"cpu\", index = 0)\n",
    "device = torch.device( \"cpu\", index = 0)\n",
    "batch_size = 32\n",
    "\n",
    "traindl = DataLoader(\n",
    "    train_ds,\n",
    "    batch_size=batch_size, \n",
    "    shuffle=True, \n",
    "    pin_memory=True, \n",
    "    num_workers=os.cpu_count()//2\n",
    ")\n",
    "\n",
    "validdl = DataLoader(\n",
    "    valid_ds,\n",
    "    batch_size=1, \n",
    "    shuffle=True, \n",
    "    pin_memory=True, \n",
    "    num_workers=os.cpu_count()//2\n",
    ")\n",
    "\n",
    "print(len(traindl))\n",
    "print(len(validdl))"
   ]
  },
  {
   "cell_type": "code",
   "execution_count": 17,
   "id": "f4565336",
   "metadata": {},
   "outputs": [],
   "source": [
    "class FocalClassifierV0(nn.Module):\n",
    "    def __init__(self, gamma=0.3): #Change gamma value here in order to acquire other results\n",
    "        super().__init__()\n",
    "        \n",
    "        self.gamma = gamma\n",
    "        self.act = nn.LogSoftmax(dim=1)\n",
    "\n",
    "    \n",
    "    def forward(self, pred, target):\n",
    "\n",
    "        logits = self.act(pred)\n",
    "\n",
    "        B, C = tuple(logits.size())\n",
    "\n",
    "        entropy = torch.pow(1 - logits, self.gamma) * logits * F.one_hot(target, num_classes=C).float()\n",
    "\n",
    "        return (-1 / B) * torch.sum(entropy)\n",
    "\n",
    "focalloss_fn = FocalClassifierV0()"
   ]
  },
  {
   "cell_type": "code",
   "execution_count": 18,
   "id": "0e3fd1ae-3394-4ecb-9681-c34210dcbd05",
   "metadata": {},
   "outputs": [],
   "source": [
    "epoch = 150\n",
    "lr = 0.0005\n",
    "best_acc = 0\n",
    "best_ep = 0\n",
    "\n",
    "model.to(device)\n",
    "optimizer = Adam(model.parameters(), lr=lr)\n",
    "scheduler = CosineAnnealingLR(optimizer=optimizer, T_max=epoch*len(traindl))\n",
    "loss_fn = nn.CrossEntropyLoss()"
   ]
  },
  {
   "cell_type": "code",
   "execution_count": 19,
   "id": "d172aded-4332-40ad-9206-d2ea45c5b545",
   "metadata": {},
   "outputs": [
    {
     "name": "stdout",
     "output_type": "stream",
     "text": [
      "Epoch: 0\n"
     ]
    },
    {
     "name": "stderr",
     "output_type": "stream",
     "text": [
      "585it [09:34,  1.02it/s]"
     ]
    },
    {
     "name": "stdout",
     "output_type": "stream",
     "text": [
      "train loss: 1.0012748044443458 - train acc: 72.25309961522018\n"
     ]
    },
    {
     "name": "stderr",
     "output_type": "stream",
     "text": [
      "\n",
      "0it [00:01, ?it/s]\n"
     ]
    },
    {
     "ename": "NotImplementedError",
     "evalue": "Caught NotImplementedError in DataLoader worker process 0.\nOriginal Traceback (most recent call last):\n  File \"/media/mountHDD2/thao/git/.env/lib/python3.10/site-packages/torch/utils/data/_utils/worker.py\", line 308, in _worker_loop\n    data = fetcher.fetch(index)\n  File \"/media/mountHDD2/thao/git/.env/lib/python3.10/site-packages/torch/utils/data/_utils/fetch.py\", line 51, in fetch\n    data = [self.dataset[idx] for idx in possibly_batched_index]\n  File \"/media/mountHDD2/thao/git/.env/lib/python3.10/site-packages/torch/utils/data/_utils/fetch.py\", line 51, in <listcomp>\n    data = [self.dataset[idx] for idx in possibly_batched_index]\n  File \"/tmp/ipykernel_766773/1458598755.py\", line 41, in __getitem__\n    augmented_samples = augment(samples=clip_data, sample_rate=500)\n  File \"/media/mountHDD2/thao/git/.env/lib/python3.10/site-packages/audiomentations/core/composition.py\", line 91, in __call__\n    samples = transform(samples, sample_rate)\n  File \"/media/mountHDD2/thao/git/.env/lib/python3.10/site-packages/audiomentations/core/transforms_interface.py\", line 93, in __call__\n    return self.apply(samples, sample_rate)\n  File \"/media/mountHDD2/thao/git/.env/lib/python3.10/site-packages/audiomentations/augmentations/time_stretch.py\", line 41, in apply\n    time_stretched_samples = librosa.effects.time_stretch(\n  File \"/media/mountHDD2/thao/git/.env/lib/python3.10/site-packages/librosa/effects.py\", line 398, in time_stretch\n    y_stretch = core.istft(stft_stretch, dtype=y.dtype, length=len_stretch, **kwargs)\n  File \"/media/mountHDD2/thao/git/.env/lib/python3.10/site-packages/librosa/core/spectrum.py\", line 571, in istft\n    __overlap_add(head_buffer, ytmp, hop_length)\n  File \"/media/mountHDD2/thao/git/.env/lib/python3.10/site-packages/numba/core/dispatcher.py\", line 442, in _compile_for_args\n    raise e\n  File \"/media/mountHDD2/thao/git/.env/lib/python3.10/site-packages/numba/core/dispatcher.py\", line 375, in _compile_for_args\n    return_val = self.compile(tuple(argtypes))\n  File \"/media/mountHDD2/thao/git/.env/lib/python3.10/site-packages/numba/core/dispatcher.py\", line 905, in compile\n    cres = self._compiler.compile(args, return_type)\n  File \"/media/mountHDD2/thao/git/.env/lib/python3.10/site-packages/numba/core/dispatcher.py\", line 80, in compile\n    status, retval = self._compile_cached(args, return_type)\n  File \"/media/mountHDD2/thao/git/.env/lib/python3.10/site-packages/numba/core/dispatcher.py\", line 94, in _compile_cached\n    retval = self._compile_core(args, return_type)\n  File \"/media/mountHDD2/thao/git/.env/lib/python3.10/site-packages/numba/core/dispatcher.py\", line 107, in _compile_core\n    cres = compiler.compile_extra(self.targetdescr.typing_context,\n  File \"/media/mountHDD2/thao/git/.env/lib/python3.10/site-packages/numba/core/compiler.py\", line 744, in compile_extra\n    return pipeline.compile_extra(func)\n  File \"/media/mountHDD2/thao/git/.env/lib/python3.10/site-packages/numba/core/compiler.py\", line 438, in compile_extra\n    return self._compile_bytecode()\n  File \"/media/mountHDD2/thao/git/.env/lib/python3.10/site-packages/numba/core/compiler.py\", line 506, in _compile_bytecode\n    return self._compile_core()\n  File \"/media/mountHDD2/thao/git/.env/lib/python3.10/site-packages/numba/core/compiler.py\", line 481, in _compile_core\n    raise e\n  File \"/media/mountHDD2/thao/git/.env/lib/python3.10/site-packages/numba/core/compiler.py\", line 472, in _compile_core\n    pm.run(self.state)\n  File \"/media/mountHDD2/thao/git/.env/lib/python3.10/site-packages/numba/core/compiler_machinery.py\", line 364, in run\n    raise e\n  File \"/media/mountHDD2/thao/git/.env/lib/python3.10/site-packages/numba/core/compiler_machinery.py\", line 356, in run\n    self._runPass(idx, pass_inst, state)\n  File \"/media/mountHDD2/thao/git/.env/lib/python3.10/site-packages/numba/core/compiler_lock.py\", line 35, in _acquire_compile_lock\n    return func(*args, **kwargs)\n  File \"/media/mountHDD2/thao/git/.env/lib/python3.10/site-packages/numba/core/compiler_machinery.py\", line 311, in _runPass\n    mutated |= check(pss.run_pass, internal_state)\n  File \"/media/mountHDD2/thao/git/.env/lib/python3.10/site-packages/numba/core/compiler_machinery.py\", line 273, in check\n    mangled = func(compiler_state)\n  File \"/media/mountHDD2/thao/git/.env/lib/python3.10/site-packages/numba/core/typed_passes.py\", line 468, in run_pass\n    lower.lower()\n  File \"/media/mountHDD2/thao/git/.env/lib/python3.10/site-packages/numba/core/lowering.py\", line 187, in lower\n    self.lower_normal_function(self.fndesc)\n  File \"/media/mountHDD2/thao/git/.env/lib/python3.10/site-packages/numba/core/lowering.py\", line 222, in lower_normal_function\n    self.setup_function(fndesc)\n  File \"/media/mountHDD2/thao/git/.env/lib/python3.10/site-packages/numba/core/lowering.py\", line 297, in setup_function\n    self.function = self.context.declare_function(self.module, fndesc)\n  File \"/media/mountHDD2/thao/git/.env/lib/python3.10/site-packages/numba/core/base.py\", line 413, in declare_function\n    fnty = self.call_conv.get_function_type(fndesc.restype, fndesc.argtypes)\n  File \"/media/mountHDD2/thao/git/.env/lib/python3.10/site-packages/numba/core/callconv.py\", line 805, in get_function_type\n    arginfo = self._get_arg_packer(argtypes)\n  File \"/media/mountHDD2/thao/git/.env/lib/python3.10/site-packages/numba/core/callconv.py\", line 165, in _get_arg_packer\n    return self.context.get_arg_packer(argtypes)\n  File \"/media/mountHDD2/thao/git/.env/lib/python3.10/site-packages/numba/core/base.py\", line 320, in get_arg_packer\n    return datamodel.ArgPacker(self.data_model_manager, fe_args)\n  File \"/media/mountHDD2/thao/git/.env/lib/python3.10/site-packages/numba/core/datamodel/packer.py\", line 81, in __init__\n    dm = self._dmm.lookup(ty)\n  File \"/media/mountHDD2/thao/git/.env/lib/python3.10/site-packages/numba/core/datamodel/manager.py\", line 37, in lookup\n    model = self._cache[fetype] = handler(self, fetype)\n  File \"/media/mountHDD2/thao/git/.env/lib/python3.10/site-packages/numba/core/datamodel/models.py\", line 885, in __init__\n    super(ArrayModel, self).__init__(dmm, fe_type, members)\n  File \"/media/mountHDD2/thao/git/.env/lib/python3.10/site-packages/numba/core/datamodel/models.py\", line 524, in __init__\n    self._models = tuple([self._dmm.lookup(t) for t in self._members])\n  File \"/media/mountHDD2/thao/git/.env/lib/python3.10/site-packages/numba/core/datamodel/models.py\", line 524, in <listcomp>\n    self._models = tuple([self._dmm.lookup(t) for t in self._members])\n  File \"/media/mountHDD2/thao/git/.env/lib/python3.10/site-packages/numba/core/datamodel/manager.py\", line 37, in lookup\n    model = self._cache[fetype] = handler(self, fetype)\n  File \"/media/mountHDD2/thao/git/.env/lib/python3.10/site-packages/numba/core/datamodel/models.py\", line 377, in __init__\n    self._pointee_model = dmm.lookup(fe_type.dtype)\n  File \"/media/mountHDD2/thao/git/.env/lib/python3.10/site-packages/numba/core/datamodel/manager.py\", line 37, in lookup\n    model = self._cache[fetype] = handler(self, fetype)\n  File \"/media/mountHDD2/thao/git/.env/lib/python3.10/site-packages/numba/core/datamodel/models.py\", line 370, in __init__\n    raise NotImplementedError(fe_type)\nNotImplementedError: float16\n",
     "output_type": "error",
     "traceback": [
      "\u001b[0;31m---------------------------------------------------------------------------\u001b[0m",
      "\u001b[0;31mNotImplementedError\u001b[0m                       Traceback (most recent call last)",
      "Cell \u001b[0;32mIn[19], line 36\u001b[0m\n\u001b[1;32m     34\u001b[0m model\u001b[38;5;241m.\u001b[39meval()\n\u001b[1;32m     35\u001b[0m \u001b[38;5;28;01mwith\u001b[39;00m torch\u001b[38;5;241m.\u001b[39mno_grad():\n\u001b[0;32m---> 36\u001b[0m     \u001b[38;5;28;01mfor\u001b[39;00m batch, (valid_sig, valid_label) \u001b[38;5;129;01min\u001b[39;00m tqdm(\u001b[38;5;28menumerate\u001b[39m(validdl)):\n\u001b[1;32m     37\u001b[0m         batch_cnt \u001b[38;5;241m=\u001b[39m batch\n\u001b[1;32m     38\u001b[0m         valid_sig \u001b[38;5;241m=\u001b[39m valid_sig\u001b[38;5;241m.\u001b[39mto(device)\n",
      "File \u001b[0;32m~/git/.env/lib/python3.10/site-packages/tqdm/std.py:1178\u001b[0m, in \u001b[0;36mtqdm.__iter__\u001b[0;34m(self)\u001b[0m\n\u001b[1;32m   1175\u001b[0m time \u001b[38;5;241m=\u001b[39m \u001b[38;5;28mself\u001b[39m\u001b[38;5;241m.\u001b[39m_time\n\u001b[1;32m   1177\u001b[0m \u001b[38;5;28;01mtry\u001b[39;00m:\n\u001b[0;32m-> 1178\u001b[0m     \u001b[38;5;28;01mfor\u001b[39;00m obj \u001b[38;5;129;01min\u001b[39;00m iterable:\n\u001b[1;32m   1179\u001b[0m         \u001b[38;5;28;01myield\u001b[39;00m obj\n\u001b[1;32m   1180\u001b[0m         \u001b[38;5;66;03m# Update and possibly print the progressbar.\u001b[39;00m\n\u001b[1;32m   1181\u001b[0m         \u001b[38;5;66;03m# Note: does not call self.update(1) for speed optimisation.\u001b[39;00m\n",
      "File \u001b[0;32m~/git/.env/lib/python3.10/site-packages/torch/utils/data/dataloader.py:633\u001b[0m, in \u001b[0;36m_BaseDataLoaderIter.__next__\u001b[0;34m(self)\u001b[0m\n\u001b[1;32m    630\u001b[0m \u001b[38;5;28;01mif\u001b[39;00m \u001b[38;5;28mself\u001b[39m\u001b[38;5;241m.\u001b[39m_sampler_iter \u001b[38;5;129;01mis\u001b[39;00m \u001b[38;5;28;01mNone\u001b[39;00m:\n\u001b[1;32m    631\u001b[0m     \u001b[38;5;66;03m# TODO(https://github.com/pytorch/pytorch/issues/76750)\u001b[39;00m\n\u001b[1;32m    632\u001b[0m     \u001b[38;5;28mself\u001b[39m\u001b[38;5;241m.\u001b[39m_reset()  \u001b[38;5;66;03m# type: ignore[call-arg]\u001b[39;00m\n\u001b[0;32m--> 633\u001b[0m data \u001b[38;5;241m=\u001b[39m \u001b[38;5;28;43mself\u001b[39;49m\u001b[38;5;241;43m.\u001b[39;49m\u001b[43m_next_data\u001b[49m\u001b[43m(\u001b[49m\u001b[43m)\u001b[49m\n\u001b[1;32m    634\u001b[0m \u001b[38;5;28mself\u001b[39m\u001b[38;5;241m.\u001b[39m_num_yielded \u001b[38;5;241m+\u001b[39m\u001b[38;5;241m=\u001b[39m \u001b[38;5;241m1\u001b[39m\n\u001b[1;32m    635\u001b[0m \u001b[38;5;28;01mif\u001b[39;00m \u001b[38;5;28mself\u001b[39m\u001b[38;5;241m.\u001b[39m_dataset_kind \u001b[38;5;241m==\u001b[39m _DatasetKind\u001b[38;5;241m.\u001b[39mIterable \u001b[38;5;129;01mand\u001b[39;00m \\\n\u001b[1;32m    636\u001b[0m         \u001b[38;5;28mself\u001b[39m\u001b[38;5;241m.\u001b[39m_IterableDataset_len_called \u001b[38;5;129;01mis\u001b[39;00m \u001b[38;5;129;01mnot\u001b[39;00m \u001b[38;5;28;01mNone\u001b[39;00m \u001b[38;5;129;01mand\u001b[39;00m \\\n\u001b[1;32m    637\u001b[0m         \u001b[38;5;28mself\u001b[39m\u001b[38;5;241m.\u001b[39m_num_yielded \u001b[38;5;241m>\u001b[39m \u001b[38;5;28mself\u001b[39m\u001b[38;5;241m.\u001b[39m_IterableDataset_len_called:\n",
      "File \u001b[0;32m~/git/.env/lib/python3.10/site-packages/torch/utils/data/dataloader.py:1345\u001b[0m, in \u001b[0;36m_MultiProcessingDataLoaderIter._next_data\u001b[0;34m(self)\u001b[0m\n\u001b[1;32m   1343\u001b[0m \u001b[38;5;28;01melse\u001b[39;00m:\n\u001b[1;32m   1344\u001b[0m     \u001b[38;5;28;01mdel\u001b[39;00m \u001b[38;5;28mself\u001b[39m\u001b[38;5;241m.\u001b[39m_task_info[idx]\n\u001b[0;32m-> 1345\u001b[0m     \u001b[38;5;28;01mreturn\u001b[39;00m \u001b[38;5;28;43mself\u001b[39;49m\u001b[38;5;241;43m.\u001b[39;49m\u001b[43m_process_data\u001b[49m\u001b[43m(\u001b[49m\u001b[43mdata\u001b[49m\u001b[43m)\u001b[49m\n",
      "File \u001b[0;32m~/git/.env/lib/python3.10/site-packages/torch/utils/data/dataloader.py:1371\u001b[0m, in \u001b[0;36m_MultiProcessingDataLoaderIter._process_data\u001b[0;34m(self, data)\u001b[0m\n\u001b[1;32m   1369\u001b[0m \u001b[38;5;28mself\u001b[39m\u001b[38;5;241m.\u001b[39m_try_put_index()\n\u001b[1;32m   1370\u001b[0m \u001b[38;5;28;01mif\u001b[39;00m \u001b[38;5;28misinstance\u001b[39m(data, ExceptionWrapper):\n\u001b[0;32m-> 1371\u001b[0m     \u001b[43mdata\u001b[49m\u001b[38;5;241;43m.\u001b[39;49m\u001b[43mreraise\u001b[49m\u001b[43m(\u001b[49m\u001b[43m)\u001b[49m\n\u001b[1;32m   1372\u001b[0m \u001b[38;5;28;01mreturn\u001b[39;00m data\n",
      "File \u001b[0;32m~/git/.env/lib/python3.10/site-packages/torch/_utils.py:644\u001b[0m, in \u001b[0;36mExceptionWrapper.reraise\u001b[0;34m(self)\u001b[0m\n\u001b[1;32m    640\u001b[0m \u001b[38;5;28;01mexcept\u001b[39;00m \u001b[38;5;167;01mTypeError\u001b[39;00m:\n\u001b[1;32m    641\u001b[0m     \u001b[38;5;66;03m# If the exception takes multiple arguments, don't try to\u001b[39;00m\n\u001b[1;32m    642\u001b[0m     \u001b[38;5;66;03m# instantiate since we don't know how to\u001b[39;00m\n\u001b[1;32m    643\u001b[0m     \u001b[38;5;28;01mraise\u001b[39;00m \u001b[38;5;167;01mRuntimeError\u001b[39;00m(msg) \u001b[38;5;28;01mfrom\u001b[39;00m \u001b[38;5;28;01mNone\u001b[39;00m\n\u001b[0;32m--> 644\u001b[0m \u001b[38;5;28;01mraise\u001b[39;00m exception\n",
      "\u001b[0;31mNotImplementedError\u001b[0m: Caught NotImplementedError in DataLoader worker process 0.\nOriginal Traceback (most recent call last):\n  File \"/media/mountHDD2/thao/git/.env/lib/python3.10/site-packages/torch/utils/data/_utils/worker.py\", line 308, in _worker_loop\n    data = fetcher.fetch(index)\n  File \"/media/mountHDD2/thao/git/.env/lib/python3.10/site-packages/torch/utils/data/_utils/fetch.py\", line 51, in fetch\n    data = [self.dataset[idx] for idx in possibly_batched_index]\n  File \"/media/mountHDD2/thao/git/.env/lib/python3.10/site-packages/torch/utils/data/_utils/fetch.py\", line 51, in <listcomp>\n    data = [self.dataset[idx] for idx in possibly_batched_index]\n  File \"/tmp/ipykernel_766773/1458598755.py\", line 41, in __getitem__\n    augmented_samples = augment(samples=clip_data, sample_rate=500)\n  File \"/media/mountHDD2/thao/git/.env/lib/python3.10/site-packages/audiomentations/core/composition.py\", line 91, in __call__\n    samples = transform(samples, sample_rate)\n  File \"/media/mountHDD2/thao/git/.env/lib/python3.10/site-packages/audiomentations/core/transforms_interface.py\", line 93, in __call__\n    return self.apply(samples, sample_rate)\n  File \"/media/mountHDD2/thao/git/.env/lib/python3.10/site-packages/audiomentations/augmentations/time_stretch.py\", line 41, in apply\n    time_stretched_samples = librosa.effects.time_stretch(\n  File \"/media/mountHDD2/thao/git/.env/lib/python3.10/site-packages/librosa/effects.py\", line 398, in time_stretch\n    y_stretch = core.istft(stft_stretch, dtype=y.dtype, length=len_stretch, **kwargs)\n  File \"/media/mountHDD2/thao/git/.env/lib/python3.10/site-packages/librosa/core/spectrum.py\", line 571, in istft\n    __overlap_add(head_buffer, ytmp, hop_length)\n  File \"/media/mountHDD2/thao/git/.env/lib/python3.10/site-packages/numba/core/dispatcher.py\", line 442, in _compile_for_args\n    raise e\n  File \"/media/mountHDD2/thao/git/.env/lib/python3.10/site-packages/numba/core/dispatcher.py\", line 375, in _compile_for_args\n    return_val = self.compile(tuple(argtypes))\n  File \"/media/mountHDD2/thao/git/.env/lib/python3.10/site-packages/numba/core/dispatcher.py\", line 905, in compile\n    cres = self._compiler.compile(args, return_type)\n  File \"/media/mountHDD2/thao/git/.env/lib/python3.10/site-packages/numba/core/dispatcher.py\", line 80, in compile\n    status, retval = self._compile_cached(args, return_type)\n  File \"/media/mountHDD2/thao/git/.env/lib/python3.10/site-packages/numba/core/dispatcher.py\", line 94, in _compile_cached\n    retval = self._compile_core(args, return_type)\n  File \"/media/mountHDD2/thao/git/.env/lib/python3.10/site-packages/numba/core/dispatcher.py\", line 107, in _compile_core\n    cres = compiler.compile_extra(self.targetdescr.typing_context,\n  File \"/media/mountHDD2/thao/git/.env/lib/python3.10/site-packages/numba/core/compiler.py\", line 744, in compile_extra\n    return pipeline.compile_extra(func)\n  File \"/media/mountHDD2/thao/git/.env/lib/python3.10/site-packages/numba/core/compiler.py\", line 438, in compile_extra\n    return self._compile_bytecode()\n  File \"/media/mountHDD2/thao/git/.env/lib/python3.10/site-packages/numba/core/compiler.py\", line 506, in _compile_bytecode\n    return self._compile_core()\n  File \"/media/mountHDD2/thao/git/.env/lib/python3.10/site-packages/numba/core/compiler.py\", line 481, in _compile_core\n    raise e\n  File \"/media/mountHDD2/thao/git/.env/lib/python3.10/site-packages/numba/core/compiler.py\", line 472, in _compile_core\n    pm.run(self.state)\n  File \"/media/mountHDD2/thao/git/.env/lib/python3.10/site-packages/numba/core/compiler_machinery.py\", line 364, in run\n    raise e\n  File \"/media/mountHDD2/thao/git/.env/lib/python3.10/site-packages/numba/core/compiler_machinery.py\", line 356, in run\n    self._runPass(idx, pass_inst, state)\n  File \"/media/mountHDD2/thao/git/.env/lib/python3.10/site-packages/numba/core/compiler_lock.py\", line 35, in _acquire_compile_lock\n    return func(*args, **kwargs)\n  File \"/media/mountHDD2/thao/git/.env/lib/python3.10/site-packages/numba/core/compiler_machinery.py\", line 311, in _runPass\n    mutated |= check(pss.run_pass, internal_state)\n  File \"/media/mountHDD2/thao/git/.env/lib/python3.10/site-packages/numba/core/compiler_machinery.py\", line 273, in check\n    mangled = func(compiler_state)\n  File \"/media/mountHDD2/thao/git/.env/lib/python3.10/site-packages/numba/core/typed_passes.py\", line 468, in run_pass\n    lower.lower()\n  File \"/media/mountHDD2/thao/git/.env/lib/python3.10/site-packages/numba/core/lowering.py\", line 187, in lower\n    self.lower_normal_function(self.fndesc)\n  File \"/media/mountHDD2/thao/git/.env/lib/python3.10/site-packages/numba/core/lowering.py\", line 222, in lower_normal_function\n    self.setup_function(fndesc)\n  File \"/media/mountHDD2/thao/git/.env/lib/python3.10/site-packages/numba/core/lowering.py\", line 297, in setup_function\n    self.function = self.context.declare_function(self.module, fndesc)\n  File \"/media/mountHDD2/thao/git/.env/lib/python3.10/site-packages/numba/core/base.py\", line 413, in declare_function\n    fnty = self.call_conv.get_function_type(fndesc.restype, fndesc.argtypes)\n  File \"/media/mountHDD2/thao/git/.env/lib/python3.10/site-packages/numba/core/callconv.py\", line 805, in get_function_type\n    arginfo = self._get_arg_packer(argtypes)\n  File \"/media/mountHDD2/thao/git/.env/lib/python3.10/site-packages/numba/core/callconv.py\", line 165, in _get_arg_packer\n    return self.context.get_arg_packer(argtypes)\n  File \"/media/mountHDD2/thao/git/.env/lib/python3.10/site-packages/numba/core/base.py\", line 320, in get_arg_packer\n    return datamodel.ArgPacker(self.data_model_manager, fe_args)\n  File \"/media/mountHDD2/thao/git/.env/lib/python3.10/site-packages/numba/core/datamodel/packer.py\", line 81, in __init__\n    dm = self._dmm.lookup(ty)\n  File \"/media/mountHDD2/thao/git/.env/lib/python3.10/site-packages/numba/core/datamodel/manager.py\", line 37, in lookup\n    model = self._cache[fetype] = handler(self, fetype)\n  File \"/media/mountHDD2/thao/git/.env/lib/python3.10/site-packages/numba/core/datamodel/models.py\", line 885, in __init__\n    super(ArrayModel, self).__init__(dmm, fe_type, members)\n  File \"/media/mountHDD2/thao/git/.env/lib/python3.10/site-packages/numba/core/datamodel/models.py\", line 524, in __init__\n    self._models = tuple([self._dmm.lookup(t) for t in self._members])\n  File \"/media/mountHDD2/thao/git/.env/lib/python3.10/site-packages/numba/core/datamodel/models.py\", line 524, in <listcomp>\n    self._models = tuple([self._dmm.lookup(t) for t in self._members])\n  File \"/media/mountHDD2/thao/git/.env/lib/python3.10/site-packages/numba/core/datamodel/manager.py\", line 37, in lookup\n    model = self._cache[fetype] = handler(self, fetype)\n  File \"/media/mountHDD2/thao/git/.env/lib/python3.10/site-packages/numba/core/datamodel/models.py\", line 377, in __init__\n    self._pointee_model = dmm.lookup(fe_type.dtype)\n  File \"/media/mountHDD2/thao/git/.env/lib/python3.10/site-packages/numba/core/datamodel/manager.py\", line 37, in lookup\n    model = self._cache[fetype] = handler(self, fetype)\n  File \"/media/mountHDD2/thao/git/.env/lib/python3.10/site-packages/numba/core/datamodel/models.py\", line 370, in __init__\n    raise NotImplementedError(fe_type)\nNotImplementedError: float16\n"
     ]
    }
   ],
   "source": [
    "for e in range(epoch):\n",
    "    model.train()\n",
    "    print(f\"Epoch: {e}\")\n",
    "    y_true_list = [] \n",
    "    pred_list = []\n",
    "    batch_cnt = 0\n",
    "    total_loss = 0\n",
    "    correct = 0\n",
    "    for batch, (train_sig, train_label) in tqdm(enumerate(traindl)):\n",
    "        batch_cnt = batch\n",
    "        train_sig = train_sig.to(device)\n",
    "        train_label = train_label.to(device)\n",
    "        \n",
    "        pred = model(train_sig)\n",
    "        loss = loss_fn(pred, train_label)\n",
    "        \n",
    "        optimizer.zero_grad()\n",
    "        loss.backward()\n",
    "        optimizer.step()\n",
    "        \n",
    "        scheduler.step()\n",
    "        \n",
    "        total_loss += loss.item()\n",
    "        correct += (pred.argmax(1) == train_label).type(torch.float).sum().item()\n",
    "    \n",
    "    total_loss /= batch_cnt\n",
    "    correct /= len(traindl.dataset)\n",
    "    \n",
    "    print(f\"train loss: {total_loss} - train acc: {100*correct}\")\n",
    "    \n",
    "    batch_cnt = 0\n",
    "    val_total_loss = 0\n",
    "    val_correct = 0\n",
    "    model.eval()\n",
    "    with torch.no_grad():\n",
    "        for batch, (valid_sig, valid_label) in tqdm(enumerate(validdl)):\n",
    "            batch_cnt = batch\n",
    "            valid_sig = valid_sig.to(device)\n",
    "            valid_label = valid_label.to(device)\n",
    "            \n",
    "            pred = model(valid_sig)\n",
    "            \n",
    "            pred_pos = pred.argmax(1)\n",
    "            y_true_list.append(valid_label)\n",
    "            pred_list.append(pred_pos)\n",
    "            \n",
    "            loss = loss_fn(pred, valid_label)\n",
    "            \n",
    "            val_total_loss += loss.item()\n",
    "            val_correct += (pred.argmax(1) == valid_label).type(torch.float).sum().item()\n",
    "    \n",
    "        val_total_loss /= batch_cnt\n",
    "        val_correct /= len(validdl.dataset)\n",
    "        if val_correct > best_acc:\n",
    "            best_acc = val_correct\n",
    "            best_ep = e\n",
    "        \n",
    "        print(f\"valid loss: {val_total_loss} - valid acc: {100*val_correct}\")\n",
    "        \n",
    "y_true = torch.cat(y_true_list).cpu().numpy()\n",
    "pred = torch.cat(pred_list).cpu().numpy()\n",
    "\n",
    "reports = classification_report(y_true, pred, output_dict=True) \n",
    "\n",
    "print(reports)\n",
    "print(f\"Best acuracy: {best_acc} at epoch {best_ep}\")"
   ]
  }
 ],
 "metadata": {
  "kernelspec": {
   "display_name": "Python 3 (ipykernel)",
   "language": "python",
   "name": "python3"
  },
  "language_info": {
   "codemirror_mode": {
    "name": "ipython",
    "version": 3
   },
   "file_extension": ".py",
   "mimetype": "text/x-python",
   "name": "python",
   "nbconvert_exporter": "python",
   "pygments_lexer": "ipython3",
   "version": "3.10.7"
  },
  "widgets": {
   "application/vnd.jupyter.widget-state+json": {
    "state": {},
    "version_major": 2,
    "version_minor": 0
   }
  }
 },
 "nbformat": 4,
 "nbformat_minor": 5
}
