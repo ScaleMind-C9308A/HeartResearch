{
 "cells": [
  {
   "cell_type": "code",
   "execution_count": 1,
   "metadata": {},
   "outputs": [],
   "source": [
    "import glob\n",
    "import scipy.io as si"
   ]
  },
  {
   "cell_type": "code",
   "execution_count": 5,
   "metadata": {},
   "outputs": [
    {
     "name": "stdout",
     "output_type": "stream",
     "text": [
      "8078.592810842663\n"
     ]
    }
   ],
   "source": [
    "length = 0\n",
    "for name in glob.glob('E:\\LAB\\ScaleMind\\Data_ECG\\TrainingSet*\\*\\*'):\n",
    "    mat = si.loadmat(name)\n",
    "    x = mat.get(\"ECG\")\n",
    "    a = x[0][0]\n",
    "    length = length + len(a[2][1])\n",
    "print(length/6788)   "
   ]
  },
  {
   "cell_type": "code",
   "execution_count": 6,
   "metadata": {},
   "outputs": [
    {
     "data": {
      "text/plain": [
       "'E:\\\\LAB\\\\ScaleMind\\\\Data_ECG\\\\TrainingSet1\\\\TrainingSet1\\\\A0001.mat'"
      ]
     },
     "execution_count": 6,
     "metadata": {},
     "output_type": "execute_result"
    }
   ],
   "source": [
    "path_test = glob.glob('E:\\LAB\\ScaleMind\\Data_ECG\\TrainingSet*\\*\\*')\n",
    "path_test[0]"
   ]
  },
  {
   "cell_type": "code",
   "execution_count": 43,
   "metadata": {},
   "outputs": [
    {
     "data": {
      "text/plain": [
       "(array(['Male'], dtype='<U4'), array([[74]], dtype=uint8), array([[ 0.0282288 ,  0.0392288 ,  0.0452288 , ...,  0.2582288 ,\n",
       "         0.2592288 ,  0.2592288 ],\n",
       "       [ 0.00672947,  0.01072947,  0.01472947, ...,  0.24772947,\n",
       "         0.24872947,  0.24972947],\n",
       "       [-0.02149933, -0.02849933, -0.03049933, ..., -0.01049933,\n",
       "        -0.01049933, -0.00949933],\n",
       "       ...,\n",
       "       [-0.11200653, -0.11000653, -0.10800653, ...,  0.19399347,\n",
       "         0.19399347,  0.19499347],\n",
       "       [-0.5959572 , -0.5899572 , -0.5819572 , ...,  0.3070428 ,\n",
       "         0.3070428 ,  0.3070428 ],\n",
       "       [-0.01558507, -0.00658507,  0.00241493, ...,  0.21341493,\n",
       "         0.21441493,  0.21441493]]))"
      ]
     },
     "execution_count": 43,
     "metadata": {},
     "output_type": "execute_result"
    }
   ],
   "source": [
    "mat = si.loadmat(path_test[0])\n",
    "x = mat.get(\"ECG\")\n",
    "a = x[0][0]\n",
    "a"
   ]
  },
  {
   "cell_type": "code",
   "execution_count": 9,
   "metadata": {},
   "outputs": [
    {
     "data": {
      "text/plain": [
       "array([[ 0.0282288 ,  0.0392288 ,  0.0452288 , ...,  0.2582288 ,\n",
       "         0.2592288 ,  0.2592288 ],\n",
       "       [ 0.00672947,  0.01072947,  0.01472947, ...,  0.24772947,\n",
       "         0.24872947,  0.24972947],\n",
       "       [-0.02149933, -0.02849933, -0.03049933, ..., -0.01049933,\n",
       "        -0.01049933, -0.00949933],\n",
       "       ...,\n",
       "       [-0.11200653, -0.11000653, -0.10800653, ...,  0.19399347,\n",
       "         0.19399347,  0.19499347],\n",
       "       [-0.5959572 , -0.5899572 , -0.5819572 , ...,  0.3070428 ,\n",
       "         0.3070428 ,  0.3070428 ],\n",
       "       [-0.01558507, -0.00658507,  0.00241493, ...,  0.21341493,\n",
       "         0.21441493,  0.21441493]])"
      ]
     },
     "execution_count": 9,
     "metadata": {},
     "output_type": "execute_result"
    }
   ],
   "source": [
    "test = a[2][:, -72000: ]\n",
    "test"
   ]
  },
  {
   "cell_type": "code",
   "execution_count": 10,
   "metadata": {},
   "outputs": [
    {
     "name": "stdout",
     "output_type": "stream",
     "text": [
      "7500\n",
      "7500\n",
      "7500\n",
      "7500\n",
      "7500\n",
      "7500\n",
      "7500\n",
      "7500\n",
      "7500\n",
      "7500\n",
      "7500\n",
      "7500\n"
     ]
    }
   ],
   "source": [
    "for x in test:\n",
    "    print(len(x))"
   ]
  },
  {
   "cell_type": "code",
   "execution_count": 11,
   "metadata": {},
   "outputs": [
    {
     "data": {
      "text/plain": [
       "array([[ 0.0282288 ,  0.00672947, -0.02149933, ..., -0.11200653,\n",
       "        -0.5959572 , -0.01558507],\n",
       "       [ 0.0392288 ,  0.01072947, -0.02849933, ..., -0.11000653,\n",
       "        -0.5899572 , -0.00658507],\n",
       "       [ 0.0452288 ,  0.01472947, -0.03049933, ..., -0.10800653,\n",
       "        -0.5819572 ,  0.00241493],\n",
       "       ...,\n",
       "       [ 0.2582288 ,  0.24772947, -0.01049933, ...,  0.19399347,\n",
       "         0.3070428 ,  0.21341493],\n",
       "       [ 0.2592288 ,  0.24872947, -0.01049933, ...,  0.19399347,\n",
       "         0.3070428 ,  0.21441493],\n",
       "       [ 0.2592288 ,  0.24972947, -0.00949933, ...,  0.19499347,\n",
       "         0.3070428 ,  0.21441493]])"
      ]
     },
     "execution_count": 11,
     "metadata": {},
     "output_type": "execute_result"
    }
   ],
   "source": [
    "test.T"
   ]
  },
  {
   "cell_type": "code",
   "execution_count": 76,
   "metadata": {},
   "outputs": [
    {
     "data": {
      "text/plain": [
       "array([[ 0.0282288 ,  0.0392288 ,  0.0452288 ],\n",
       "       [ 0.00672947,  0.01072947,  0.01472947],\n",
       "       [-0.02149933, -0.02849933, -0.03049933],\n",
       "       [-0.01749067, -0.02449067, -0.02949067]])"
      ]
     },
     "execution_count": 76,
     "metadata": {},
     "output_type": "execute_result"
    }
   ],
   "source": [
    "a[2][:4,:3]"
   ]
  },
  {
   "cell_type": "code",
   "execution_count": 77,
   "metadata": {},
   "outputs": [
    {
     "data": {
      "text/plain": [
       "array([[False, False, False, ..., False, False, False],\n",
       "       [False, False, False, ..., False, False, False],\n",
       "       [False, False, False, ..., False, False, False],\n",
       "       ...,\n",
       "       [False, False, False, ..., False, False, False],\n",
       "       [False, False, False, ..., False, False, False],\n",
       "       [False, False, False, ..., False, False, False]])"
      ]
     },
     "execution_count": 77,
     "metadata": {},
     "output_type": "execute_result"
    }
   ],
   "source": [
    "a[2]>3"
   ]
  },
  {
   "cell_type": "code",
   "execution_count": 79,
   "metadata": {},
   "outputs": [
    {
     "name": "stdout",
     "output_type": "stream",
     "text": [
      "[[0 1 2]\n",
      " [3 4 5]]\n"
     ]
    },
    {
     "data": {
      "text/plain": [
       "array([[0, 1],\n",
       "       [0, 2],\n",
       "       [1, 0],\n",
       "       [1, 1],\n",
       "       [1, 2]], dtype=int64)"
      ]
     },
     "execution_count": 79,
     "metadata": {},
     "output_type": "execute_result"
    }
   ],
   "source": [
    "import numpy as np\n",
    "x=np.arange(6).reshape(2,3)\n",
    "print(x)\n",
    "np.argwhere(x)"
   ]
  },
  {
   "cell_type": "code",
   "execution_count": 88,
   "metadata": {},
   "outputs": [
    {
     "name": "stdout",
     "output_type": "stream",
     "text": [
      "[[  16]\n",
      " [  17]\n",
      " [  18]\n",
      " ...\n",
      " [7497]\n",
      " [7498]\n",
      " [7499]]\n"
     ]
    }
   ],
   "source": [
    "y = a[2][0]\n",
    "b = np.argwhere(np.abs(y)>0.1)\n",
    "b = b[:,0]\n",
    "print(b)"
   ]
  }
 ],
 "metadata": {
  "kernelspec": {
   "display_name": "Python 3.10.4 64-bit",
   "language": "python",
   "name": "python3"
  },
  "language_info": {
   "codemirror_mode": {
    "name": "ipython",
    "version": 3
   },
   "file_extension": ".py",
   "mimetype": "text/x-python",
   "name": "python",
   "nbconvert_exporter": "python",
   "pygments_lexer": "ipython3",
   "version": "3.10.4"
  },
  "orig_nbformat": 4,
  "vscode": {
   "interpreter": {
    "hash": "213524bb45a1aeaf737b1d8c77d7b8db5d425938d9dffc5f4bc6fe6dd3324700"
   }
  }
 },
 "nbformat": 4,
 "nbformat_minor": 2
}
