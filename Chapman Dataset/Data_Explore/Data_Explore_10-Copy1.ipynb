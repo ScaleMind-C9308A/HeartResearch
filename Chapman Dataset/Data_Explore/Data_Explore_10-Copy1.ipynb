{
 "cells": [
  {
   "cell_type": "code",
   "execution_count": 8,
   "metadata": {},
   "outputs": [],
   "source": [
    "import scipy.io\n",
    "import torch\n",
    "import pandas as pd\n",
    "import matplotlib.pyplot as plt\n",
    "import torch.nn.functional as F\n",
    "import os\n",
    "import numpy as np"
   ]
  },
  {
   "cell_type": "code",
   "execution_count": 2,
   "metadata": {},
   "outputs": [
    {
     "name": "stdout",
     "output_type": "stream",
     "text": [
      "/media/mountHDD2/thao/git/HeartResearch/Chapman Dataset/Data_Explore\n",
      "['Data_Explore', 'Diagnostics.xlsx', '.ipynb_checkpoints', '2D_model', '1D_Model', '2D_Loss']\n"
     ]
    }
   ],
   "source": [
    "print(os.getcwd())\n",
    "os.chdir(\"..\")\n",
    "main_dir = os.getcwd() \n",
    "main_data_dir =  \"/media/mountHDD2\"\n",
    "print(os.listdir(main_dir))"
   ]
  },
  {
   "cell_type": "code",
   "execution_count": 16,
   "metadata": {},
   "outputs": [],
   "source": [
    "data_dir_45 = \"/media/mountHDD3/data_storage/biomedical_data/ecg_data\" + \"/ECGDataDenoised\"\n",
    "# label_file = main_dir + \"/Diagnostics.xlsx\""
   ]
  },
  {
   "cell_type": "code",
   "execution_count": 4,
   "metadata": {},
   "outputs": [],
   "source": [
    "data_df = pd.read_csv(data_dir_45 + \"/MUSE_20180209_121900_35000.csv\", header = None)\n",
    "label_df = pd.read_excel(label_file)\n",
    "label_df = label_df[['FileName', 'Rhythm']]"
   ]
  },
  {
   "cell_type": "code",
   "execution_count": 5,
   "metadata": {},
   "outputs": [
    {
     "data": {
      "text/plain": [
       "(10646, 2)"
      ]
     },
     "execution_count": 5,
     "metadata": {},
     "output_type": "execute_result"
    }
   ],
   "source": [
    "label_df.shape"
   ]
  },
  {
   "cell_type": "code",
   "execution_count": 6,
   "metadata": {},
   "outputs": [
    {
     "name": "stdout",
     "output_type": "stream",
     "text": [
      "                         FileName Rhythm\n",
      "0      MUSE_20180120_121711_19000     SA\n",
      "1      MUSE_20180120_121704_86000     SA\n",
      "2      MUSE_20180113_125357_13000     SA\n",
      "3      MUSE_20180113_134825_04000     SB\n",
      "4      MUSE_20180115_123455_79000     SB\n",
      "...                           ...    ...\n",
      "10641  MUSE_20181222_204246_47000    SVT\n",
      "10642  MUSE_20180115_120332_79000     SA\n",
      "10643  MUSE_20180712_152507_30000     AF\n",
      "10644  MUSE_20180118_181350_17000     SA\n",
      "10645  MUSE_20180116_121646_28000     ST\n",
      "\n",
      "[10646 rows x 2 columns]\n"
     ]
    }
   ],
   "source": [
    "print(label_df)"
   ]
  },
  {
   "cell_type": "code",
   "execution_count": 9,
   "metadata": {},
   "outputs": [],
   "source": [
    "x = np.array(label_df['Rhythm'])\n",
    "t = np.unique(x)\n",
    "t = list(t)"
   ]
  },
  {
   "cell_type": "code",
   "execution_count": 10,
   "metadata": {},
   "outputs": [],
   "source": [
    "d = dict(enumerate(t))"
   ]
  },
  {
   "cell_type": "code",
   "execution_count": 11,
   "metadata": {},
   "outputs": [],
   "source": [
    "new_labels = []\n",
    "\n",
    "for t in label_df['Rhythm']:\n",
    "    new_label = list(d.keys())[list(d.values()).index(t)]\n",
    "    new_labels.append(new_label)"
   ]
  },
  {
   "cell_type": "code",
   "execution_count": 12,
   "metadata": {},
   "outputs": [],
   "source": [
    "new_label = {'New Label' : new_labels}"
   ]
  },
  {
   "cell_type": "code",
   "execution_count": 14,
   "metadata": {},
   "outputs": [
    {
     "name": "stdout",
     "output_type": "stream",
     "text": [
      "                         FileName Rhythm  New Label\n",
      "0      MUSE_20180120_121711_19000     SA          5\n",
      "1      MUSE_20180120_121704_86000     SA          5\n",
      "2      MUSE_20180113_125357_13000     SA          5\n",
      "3      MUSE_20180113_134825_04000     SB          7\n",
      "4      MUSE_20180115_123455_79000     SB          7\n",
      "...                           ...    ...        ...\n",
      "10641  MUSE_20181222_204246_47000    SVT         10\n",
      "10642  MUSE_20180115_120332_79000     SA          5\n",
      "10643  MUSE_20180712_152507_30000     AF          0\n",
      "10644  MUSE_20180118_181350_17000     SA          5\n",
      "10645  MUSE_20180116_121646_28000     ST          9\n",
      "\n",
      "[10646 rows x 3 columns]\n"
     ]
    }
   ],
   "source": [
    "new_label_df = pd.DataFrame(new_label)\n",
    "# print(new_label_df)\n",
    "data_df_new = pd.concat([label_df, new_label_df], axis=1)\n",
    "print(data_df_new)"
   ]
  },
  {
   "cell_type": "code",
   "execution_count": 17,
   "metadata": {},
   "outputs": [],
   "source": [
    "data_df_dir = data_dir_45 + \"/data_10_df.csv\"\n",
    "data_df_new.to_csv(data_df_dir) "
   ]
  },
  {
   "cell_type": "code",
   "execution_count": null,
   "metadata": {},
   "outputs": [],
   "source": [
    "x.shape"
   ]
  },
  {
   "cell_type": "code",
   "execution_count": null,
   "metadata": {},
   "outputs": [],
   "source": [
    "a = x[0][0]"
   ]
  },
  {
   "cell_type": "code",
   "execution_count": null,
   "metadata": {},
   "outputs": [],
   "source": [
    "type(a)"
   ]
  },
  {
   "cell_type": "code",
   "execution_count": null,
   "metadata": {},
   "outputs": [],
   "source": [
    "a[0]"
   ]
  },
  {
   "cell_type": "code",
   "execution_count": null,
   "metadata": {},
   "outputs": [],
   "source": [
    "a"
   ]
  },
  {
   "cell_type": "code",
   "execution_count": null,
   "metadata": {},
   "outputs": [],
   "source": [
    "a[2].shape\n"
   ]
  },
  {
   "cell_type": "code",
   "execution_count": null,
   "metadata": {},
   "outputs": [],
   "source": [
    "print(len(a[2][1]))"
   ]
  },
  {
   "cell_type": "code",
   "execution_count": null,
   "metadata": {},
   "outputs": [],
   "source": [
    "def plots(i):\n",
    "    plt.figure(figsize = (15,2))\n",
    "    plt.plot(a[2][i][:4500])\n",
    "\n",
    "for i in range(12):\n",
    "    if i % 1 ==0:\n",
    "        plots(i)\n",
    "# save_dir =         \n",
    "# plt.savefig()\n"
   ]
  },
  {
   "cell_type": "code",
   "execution_count": null,
   "metadata": {},
   "outputs": [],
   "source": [
    "## Grayscale\n",
    "data = scipy.io.loadmat(\"/media/mountHDD2/khoibaocon/alldata/A0011.mat\")['ECG'][0][0][2]\n",
    "clip_data = data[:, 500:2500]\n",
    "clip_data = torch.tensor(clip_data, dtype=torch.float32)\n",
    "normalized_data = (clip_data - clip_data.min()) / (clip_data.max() - clip_data.min())\n",
    "grayscale_images = (normalized_data * 255)\n",
    "grayscale_images = grayscale_images.unsqueeze(0).unsqueeze(0) # (1, 1, h, w)\n",
    "resized_images = F.interpolate(grayscale_images, size=(12*4,2500), mode='bilinear', align_corners=True)\n",
    "resized_images = resized_images.squeeze(0).squeeze(0)\n",
    "print(resized_images.shape)\n",
    "torch_data = resized_images.unsqueeze(0).repeat(3, 1, 1)\n",
    "plt.figure(figsize=(25, 25))\n",
    "plt.imshow(resized_images, cmap='gray', vmin=0, vmax=255)\n",
    "plt.show()"
   ]
  },
  {
   "cell_type": "code",
   "execution_count": null,
   "metadata": {},
   "outputs": [],
   "source": [
    "fig, axs = plt.subplots(5, 1)\n",
    "axs[0].plot(a[2][2][500:3000], 'tab:blue')\n",
    "axs[0].set_title('Lead III',x=1.075,y = 0.25)\n",
    "axs[1].plot(a[2][3][500:3000], 'tab:blue')\n",
    "axs[1].set_title('Lead aVR',x=1.095,y = 0.25)\n",
    "axs[2].plot(a[2][4][500:3000], 'tab:blue')\n",
    "axs[2].set_title('Lead aVL',x=1.09,y = 0.25)\n",
    "axs[3].plot(a[2][9][500:3000]/10, 'tab:blue')\n",
    "axs[3].set_title('Lead V3',x=1.08,y = 0.25)\n",
    "axs[4].plot(a[2][11][500:3000]/10, 'tab:blue')\n",
    "axs[4].set_title('Lead V6',x=1.08,y = 0.25)\n",
    "axs[0].axes.get_xaxis().set_ticks([])\n",
    "axs[1].axes.get_xaxis().set_ticks([])\n",
    "axs[2].axes.get_xaxis().set_ticks([])\n",
    "axs[3].axes.get_xaxis().set_ticks([])\n",
    "axs[4].axes.get_xaxis().set_ticks([])\n",
    "plt.tight_layout(pad = 3, h_pad = 1, w_pad = 1)\n",
    "bbox_inches='tight'\n",
    "plt.savefig(\"/home/thaobeo/git/HeartResearch/ECGsig.pdf\", format = 'pdf', dpi = 300)"
   ]
  },
  {
   "cell_type": "code",
   "execution_count": null,
   "metadata": {},
   "outputs": [],
   "source": []
  }
 ],
 "metadata": {
  "kernelspec": {
   "display_name": "Python 3 (ipykernel)",
   "language": "python",
   "name": "python3"
  },
  "language_info": {
   "codemirror_mode": {
    "name": "ipython",
    "version": 3
   },
   "file_extension": ".py",
   "mimetype": "text/x-python",
   "name": "python",
   "nbconvert_exporter": "python",
   "pygments_lexer": "ipython3",
   "version": "3.10.7"
  },
  "vscode": {
   "interpreter": {
    "hash": "213524bb45a1aeaf737b1d8c77d7b8db5d425938d9dffc5f4bc6fe6dd3324700"
   }
  }
 },
 "nbformat": 4,
 "nbformat_minor": 4
}
