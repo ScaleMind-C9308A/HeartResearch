{
 "cells": [
  {
   "cell_type": "code",
   "execution_count": 1,
   "metadata": {},
   "outputs": [],
   "source": [
    "import scipy.io\n",
    "import torch\n",
    "import pandas as pd\n",
    "import matplotlib.pyplot as plt\n",
    "import torch.nn.functional as F\n",
    "import os"
   ]
  },
  {
   "cell_type": "code",
   "execution_count": 2,
   "metadata": {},
   "outputs": [
    {
     "name": "stdout",
     "output_type": "stream",
     "text": [
      "/media/mountHDD2/linh/git/HeartResearch/Chapman Dataset/Data_Explore\n",
      "['Data_Explore', 'Diagnostics.xlsx', '.ipynb_checkpoints', '2D_model', '1D_Model', '2D_Loss']\n"
     ]
    }
   ],
   "source": [
    "print(os.getcwd())\n",
    "os.chdir(\"..\")\n",
    "main_dir = os.getcwd() \n",
    "main_data_dir =  \"/media/mountHDD2\"\n",
    "print(os.listdir(main_dir))"
   ]
  },
  {
   "cell_type": "code",
   "execution_count": 3,
   "metadata": {},
   "outputs": [],
   "source": [
    "data_dir_45 = main_data_dir + \"/ECGDataDenoised\"\n",
    "label_file = main_dir + \"/Diagnostics.xlsx\""
   ]
  },
  {
   "cell_type": "code",
   "execution_count": 4,
   "metadata": {},
   "outputs": [],
   "source": [
    "data_df = pd.read_csv(data_dir_45 + \"/MUSE_20180209_121900_35000.csv\", header = None)\n",
    "label_df = pd.read_excel(label_file)\n",
    "label_df = label_df[['FileName', 'Rhythm']]"
   ]
  },
  {
   "cell_type": "code",
   "execution_count": 5,
   "metadata": {},
   "outputs": [
    {
     "data": {
      "text/plain": [
       "(10646, 2)"
      ]
     },
     "execution_count": 5,
     "metadata": {},
     "output_type": "execute_result"
    }
   ],
   "source": [
    "label_df.shape"
   ]
  },
  {
   "cell_type": "code",
   "execution_count": 6,
   "metadata": {},
   "outputs": [
    {
     "name": "stdout",
     "output_type": "stream",
     "text": [
      "                         FileName Rhythm\n",
      "0      MUSE_20180120_121711_19000     SA\n",
      "1      MUSE_20180120_121704_86000     SA\n",
      "2      MUSE_20180113_125357_13000     SA\n",
      "3      MUSE_20180113_134825_04000     SB\n",
      "4      MUSE_20180115_123455_79000     SB\n",
      "...                           ...    ...\n",
      "10641  MUSE_20181222_204246_47000    SVT\n",
      "10642  MUSE_20180115_120332_79000     SA\n",
      "10643  MUSE_20180712_152507_30000     AF\n",
      "10644  MUSE_20180118_181350_17000     SA\n",
      "10645  MUSE_20180116_121646_28000     ST\n",
      "\n",
      "[10646 rows x 2 columns]\n"
     ]
    }
   ],
   "source": [
    "print(label_df)"
   ]
  },
  {
   "cell_type": "code",
   "execution_count": 7,
   "metadata": {},
   "outputs": [
    {
     "data": {
      "text/html": [
       "<div>\n",
       "<style scoped>\n",
       "    .dataframe tbody tr th:only-of-type {\n",
       "        vertical-align: middle;\n",
       "    }\n",
       "\n",
       "    .dataframe tbody tr th {\n",
       "        vertical-align: top;\n",
       "    }\n",
       "\n",
       "    .dataframe thead th {\n",
       "        text-align: right;\n",
       "    }\n",
       "</style>\n",
       "<table border=\"1\" class=\"dataframe\">\n",
       "  <thead>\n",
       "    <tr style=\"text-align: right;\">\n",
       "      <th></th>\n",
       "      <th>0</th>\n",
       "      <th>1</th>\n",
       "      <th>2</th>\n",
       "      <th>3</th>\n",
       "      <th>4</th>\n",
       "      <th>5</th>\n",
       "      <th>6</th>\n",
       "      <th>7</th>\n",
       "      <th>8</th>\n",
       "      <th>9</th>\n",
       "      <th>10</th>\n",
       "      <th>11</th>\n",
       "    </tr>\n",
       "  </thead>\n",
       "  <tbody>\n",
       "    <tr>\n",
       "      <th>0</th>\n",
       "      <td>49.133</td>\n",
       "      <td>61.211</td>\n",
       "      <td>6.7647</td>\n",
       "      <td>-53.822</td>\n",
       "      <td>12.169</td>\n",
       "      <td>41.707</td>\n",
       "      <td>36.713</td>\n",
       "      <td>106.81</td>\n",
       "      <td>106.290</td>\n",
       "      <td>100.370</td>\n",
       "      <td>41.429</td>\n",
       "      <td>78.141</td>\n",
       "    </tr>\n",
       "    <tr>\n",
       "      <th>1</th>\n",
       "      <td>53.844</td>\n",
       "      <td>67.199</td>\n",
       "      <td>8.2796</td>\n",
       "      <td>-60.076</td>\n",
       "      <td>14.350</td>\n",
       "      <td>44.977</td>\n",
       "      <td>38.227</td>\n",
       "      <td>106.72</td>\n",
       "      <td>106.090</td>\n",
       "      <td>99.129</td>\n",
       "      <td>44.492</td>\n",
       "      <td>81.059</td>\n",
       "    </tr>\n",
       "    <tr>\n",
       "      <th>2</th>\n",
       "      <td>58.234</td>\n",
       "      <td>72.618</td>\n",
       "      <td>9.5449</td>\n",
       "      <td>-65.685</td>\n",
       "      <td>16.438</td>\n",
       "      <td>47.840</td>\n",
       "      <td>40.240</td>\n",
       "      <td>106.45</td>\n",
       "      <td>105.800</td>\n",
       "      <td>97.971</td>\n",
       "      <td>47.131</td>\n",
       "      <td>83.570</td>\n",
       "    </tr>\n",
       "    <tr>\n",
       "      <th>3</th>\n",
       "      <td>62.223</td>\n",
       "      <td>77.106</td>\n",
       "      <td>10.2790</td>\n",
       "      <td>-70.287</td>\n",
       "      <td>18.493</td>\n",
       "      <td>49.983</td>\n",
       "      <td>42.918</td>\n",
       "      <td>106.05</td>\n",
       "      <td>105.550</td>\n",
       "      <td>97.157</td>\n",
       "      <td>49.222</td>\n",
       "      <td>85.496</td>\n",
       "    </tr>\n",
       "    <tr>\n",
       "      <th>4</th>\n",
       "      <td>66.146</td>\n",
       "      <td>80.723</td>\n",
       "      <td>10.2060</td>\n",
       "      <td>-74.030</td>\n",
       "      <td>20.816</td>\n",
       "      <td>51.318</td>\n",
       "      <td>45.883</td>\n",
       "      <td>105.75</td>\n",
       "      <td>105.620</td>\n",
       "      <td>97.085</td>\n",
       "      <td>51.001</td>\n",
       "      <td>86.947</td>\n",
       "    </tr>\n",
       "    <tr>\n",
       "      <th>...</th>\n",
       "      <td>...</td>\n",
       "      <td>...</td>\n",
       "      <td>...</td>\n",
       "      <td>...</td>\n",
       "      <td>...</td>\n",
       "      <td>...</td>\n",
       "      <td>...</td>\n",
       "      <td>...</td>\n",
       "      <td>...</td>\n",
       "      <td>...</td>\n",
       "      <td>...</td>\n",
       "      <td>...</td>\n",
       "    </tr>\n",
       "    <tr>\n",
       "      <th>4995</th>\n",
       "      <td>66.517</td>\n",
       "      <td>46.546</td>\n",
       "      <td>-11.8740</td>\n",
       "      <td>-56.454</td>\n",
       "      <td>34.361</td>\n",
       "      <td>15.131</td>\n",
       "      <td>-21.945</td>\n",
       "      <td>126.45</td>\n",
       "      <td>96.536</td>\n",
       "      <td>134.020</td>\n",
       "      <td>1184.500</td>\n",
       "      <td>94.408</td>\n",
       "    </tr>\n",
       "    <tr>\n",
       "      <th>4996</th>\n",
       "      <td>75.808</td>\n",
       "      <td>51.847</td>\n",
       "      <td>-15.8850</td>\n",
       "      <td>-63.682</td>\n",
       "      <td>41.002</td>\n",
       "      <td>16.090</td>\n",
       "      <td>-23.573</td>\n",
       "      <td>130.09</td>\n",
       "      <td>73.827</td>\n",
       "      <td>140.160</td>\n",
       "      <td>1193.900</td>\n",
       "      <td>98.023</td>\n",
       "    </tr>\n",
       "    <tr>\n",
       "      <th>4997</th>\n",
       "      <td>85.068</td>\n",
       "      <td>58.026</td>\n",
       "      <td>-18.9890</td>\n",
       "      <td>-71.638</td>\n",
       "      <td>47.391</td>\n",
       "      <td>17.946</td>\n",
       "      <td>-24.573</td>\n",
       "      <td>134.78</td>\n",
       "      <td>59.682</td>\n",
       "      <td>147.040</td>\n",
       "      <td>1202.900</td>\n",
       "      <td>99.660</td>\n",
       "    </tr>\n",
       "    <tr>\n",
       "      <th>4998</th>\n",
       "      <td>93.443</td>\n",
       "      <td>64.698</td>\n",
       "      <td>-20.7140</td>\n",
       "      <td>-79.696</td>\n",
       "      <td>52.901</td>\n",
       "      <td>20.743</td>\n",
       "      <td>-24.774</td>\n",
       "      <td>141.01</td>\n",
       "      <td>54.285</td>\n",
       "      <td>154.780</td>\n",
       "      <td>1212.100</td>\n",
       "      <td>99.929</td>\n",
       "    </tr>\n",
       "    <tr>\n",
       "      <th>4999</th>\n",
       "      <td>100.960</td>\n",
       "      <td>71.547</td>\n",
       "      <td>-21.4020</td>\n",
       "      <td>-87.592</td>\n",
       "      <td>57.628</td>\n",
       "      <td>24.152</td>\n",
       "      <td>-24.433</td>\n",
       "      <td>148.49</td>\n",
       "      <td>54.170</td>\n",
       "      <td>163.180</td>\n",
       "      <td>1221.700</td>\n",
       "      <td>99.653</td>\n",
       "    </tr>\n",
       "  </tbody>\n",
       "</table>\n",
       "<p>5000 rows × 12 columns</p>\n",
       "</div>"
      ],
      "text/plain": [
       "           0       1        2       3       4       5       6       7   \\\n",
       "0      49.133  61.211   6.7647 -53.822  12.169  41.707  36.713  106.81   \n",
       "1      53.844  67.199   8.2796 -60.076  14.350  44.977  38.227  106.72   \n",
       "2      58.234  72.618   9.5449 -65.685  16.438  47.840  40.240  106.45   \n",
       "3      62.223  77.106  10.2790 -70.287  18.493  49.983  42.918  106.05   \n",
       "4      66.146  80.723  10.2060 -74.030  20.816  51.318  45.883  105.75   \n",
       "...       ...     ...      ...     ...     ...     ...     ...     ...   \n",
       "4995   66.517  46.546 -11.8740 -56.454  34.361  15.131 -21.945  126.45   \n",
       "4996   75.808  51.847 -15.8850 -63.682  41.002  16.090 -23.573  130.09   \n",
       "4997   85.068  58.026 -18.9890 -71.638  47.391  17.946 -24.573  134.78   \n",
       "4998   93.443  64.698 -20.7140 -79.696  52.901  20.743 -24.774  141.01   \n",
       "4999  100.960  71.547 -21.4020 -87.592  57.628  24.152 -24.433  148.49   \n",
       "\n",
       "           8        9         10      11  \n",
       "0     106.290  100.370    41.429  78.141  \n",
       "1     106.090   99.129    44.492  81.059  \n",
       "2     105.800   97.971    47.131  83.570  \n",
       "3     105.550   97.157    49.222  85.496  \n",
       "4     105.620   97.085    51.001  86.947  \n",
       "...       ...      ...       ...     ...  \n",
       "4995   96.536  134.020  1184.500  94.408  \n",
       "4996   73.827  140.160  1193.900  98.023  \n",
       "4997   59.682  147.040  1202.900  99.660  \n",
       "4998   54.285  154.780  1212.100  99.929  \n",
       "4999   54.170  163.180  1221.700  99.653  \n",
       "\n",
       "[5000 rows x 12 columns]"
      ]
     },
     "execution_count": 7,
     "metadata": {},
     "output_type": "execute_result"
    }
   ],
   "source": [
    "data_df"
   ]
  },
  {
   "cell_type": "code",
   "execution_count": 8,
   "metadata": {},
   "outputs": [
    {
     "name": "stdout",
     "output_type": "stream",
     "text": [
      "[[  49.133    53.844    58.234  ...   85.068    93.443   100.96  ]\n",
      " [  61.211    67.199    72.618  ...   58.026    64.698    71.547 ]\n",
      " [   6.7647    8.2796    9.5449 ...  -18.989   -20.714   -21.402 ]\n",
      " ...\n",
      " [ 100.37     99.129    97.971  ...  147.04    154.78    163.18  ]\n",
      " [  41.429    44.492    47.131  ... 1202.9    1212.1    1221.7   ]\n",
      " [  78.141    81.059    83.57   ...   99.66     99.929    99.653 ]]\n",
      "(12, 5000)\n"
     ]
    }
   ],
   "source": [
    "array = data_df.values.T\n",
    "print(array)\n",
    "print(array.shape)"
   ]
  },
  {
   "cell_type": "code",
   "execution_count": 17,
   "metadata": {},
   "outputs": [
    {
     "name": "stdout",
     "output_type": "stream",
     "text": [
      "591.73\n",
      "950.34\n"
     ]
    },
    {
     "data": {
      "image/png": "[encoded data removed]",
      "text/plain": [
       "<Figure size 1500x200 with 1 Axes>"
      ]
     },
     "metadata": {},
     "output_type": "display_data"
    },
    {
     "data": {
      "image/png": "[encoded data removed]",
      "text/plain": [
       "<Figure size 1500x200 with 1 Axes>"
      ]
     },
     "metadata": {},
     "output_type": "display_data"
    }
   ],
   "source": [
    "def plots(i):\n",
    "    plt.figure(figsize = (15,2))\n",
    "    plt.plot(array[i][:4000])\n",
    "\n",
    "for i in range(7,9):\n",
    "    if i % 1 ==0:\n",
    "        print(array[i][100])\n",
    "        plots(i)"
   ]
  },
  {
   "cell_type": "code",
   "execution_count": 11,
   "metadata": {},
   "outputs": [
    {
     "name": "stdout",
     "output_type": "stream",
     "text": [
      "[[-25.21  -24.454 -23.956 ... -33.912 -34.002 -34.152]\n",
      " [-13.491 -13.634 -13.866 ... -37.281 -37.663 -37.89 ]\n",
      " [ 26.816  25.443  24.326 ...  11.855  11.697  11.7  ]\n",
      " ...\n",
      " [-65.937 -63.111 -60.854 ... -59.356 -57.939 -56.604]\n",
      " [-75.807 -72.79  -70.342 ... -66.931 -65.499 -64.099]\n",
      " [-38.527 -37.49  -36.667 ... -37.371 -37.172 -36.942]]\n",
      "(12, 2500)\n"
     ]
    }
   ],
   "source": [
    "clip_data = array[:, 500:3000]\n",
    "print(clip_data)\n",
    "print(clip_data.shape)"
   ]
  },
  {
   "cell_type": "code",
   "execution_count": 9,
   "metadata": {},
   "outputs": [
    {
     "ename": "NameError",
     "evalue": "name 'x' is not defined",
     "output_type": "error",
     "traceback": [
      "\u001b[0;31m---------------------------------------------------------------------------\u001b[0m",
      "\u001b[0;31mNameError\u001b[0m                                 Traceback (most recent call last)",
      "Cell \u001b[0;32mIn[9], line 1\u001b[0m\n\u001b[0;32m----> 1\u001b[0m \u001b[38;5;28mtype\u001b[39m(\u001b[43mx\u001b[49m)\n",
      "\u001b[0;31mNameError\u001b[0m: name 'x' is not defined"
     ]
    }
   ],
   "source": [
    "type(x)"
   ]
  },
  {
   "cell_type": "code",
   "execution_count": null,
   "metadata": {},
   "outputs": [],
   "source": [
    "x"
   ]
  },
  {
   "cell_type": "code",
   "execution_count": null,
   "metadata": {},
   "outputs": [],
   "source": [
    "x.shape"
   ]
  },
  {
   "cell_type": "code",
   "execution_count": null,
   "metadata": {},
   "outputs": [],
   "source": [
    "a = x[0][0]"
   ]
  },
  {
   "cell_type": "code",
   "execution_count": null,
   "metadata": {},
   "outputs": [],
   "source": [
    "type(a)"
   ]
  },
  {
   "cell_type": "code",
   "execution_count": null,
   "metadata": {},
   "outputs": [],
   "source": [
    "a[0]"
   ]
  },
  {
   "cell_type": "code",
   "execution_count": null,
   "metadata": {},
   "outputs": [],
   "source": [
    "a"
   ]
  },
  {
   "cell_type": "code",
   "execution_count": null,
   "metadata": {},
   "outputs": [],
   "source": [
    "a[2].shape\n"
   ]
  },
  {
   "cell_type": "code",
   "execution_count": null,
   "metadata": {},
   "outputs": [],
   "source": [
    "print(len(a[2][1]))"
   ]
  },
  {
   "cell_type": "code",
   "execution_count": null,
   "metadata": {},
   "outputs": [],
   "source": [
    "def plots(i):\n",
    "    plt.figure(figsize = (15,2))\n",
    "    plt.plot(a[2][i][:4500])\n",
    "\n",
    "for i in range(12):\n",
    "    if i % 1 ==0:\n",
    "        plots(i)\n",
    "# save_dir =         \n",
    "# plt.savefig()\n"
   ]
  },
  {
   "cell_type": "code",
   "execution_count": null,
   "metadata": {},
   "outputs": [],
   "source": [
    "## Grayscale\n",
    "data = scipy.io.loadmat(\"/media/mountHDD2/khoibaocon/alldata/A0011.mat\")['ECG'][0][0][2]\n",
    "clip_data = data[:, 500:2500]\n",
    "clip_data = torch.tensor(clip_data, dtype=torch.float32)\n",
    "normalized_data = (clip_data - clip_data.min()) / (clip_data.max() - clip_data.min())\n",
    "grayscale_images = (normalized_data * 255)\n",
    "grayscale_images = grayscale_images.unsqueeze(0).unsqueeze(0) # (1, 1, h, w)\n",
    "resized_images = F.interpolate(grayscale_images, size=(12*4,2500), mode='bilinear', align_corners=True)\n",
    "resized_images = resized_images.squeeze(0).squeeze(0)\n",
    "print(resized_images.shape)\n",
    "torch_data = resized_images.unsqueeze(0).repeat(3, 1, 1)\n",
    "plt.figure(figsize=(25, 25))\n",
    "plt.imshow(resized_images, cmap='gray', vmin=0, vmax=255)\n",
    "plt.show()"
   ]
  },
  {
   "cell_type": "code",
   "execution_count": null,
   "metadata": {},
   "outputs": [],
   "source": [
    "fig, axs = plt.subplots(5, 1)\n",
    "axs[0].plot(a[2][2][500:3000], 'tab:blue')\n",
    "axs[0].set_title('Lead III',x=1.075,y = 0.25)\n",
    "axs[1].plot(a[2][3][500:3000], 'tab:blue')\n",
    "axs[1].set_title('Lead aVR',x=1.095,y = 0.25)\n",
    "axs[2].plot(a[2][4][500:3000], 'tab:blue')\n",
    "axs[2].set_title('Lead aVL',x=1.09,y = 0.25)\n",
    "axs[3].plot(a[2][9][500:3000]/10, 'tab:blue')\n",
    "axs[3].set_title('Lead V3',x=1.08,y = 0.25)\n",
    "axs[4].plot(a[2][11][500:3000]/10, 'tab:blue')\n",
    "axs[4].set_title('Lead V6',x=1.08,y = 0.25)\n",
    "axs[0].axes.get_xaxis().set_ticks([])\n",
    "axs[1].axes.get_xaxis().set_ticks([])\n",
    "axs[2].axes.get_xaxis().set_ticks([])\n",
    "axs[3].axes.get_xaxis().set_ticks([])\n",
    "axs[4].axes.get_xaxis().set_ticks([])\n",
    "plt.tight_layout(pad = 3, h_pad = 1, w_pad = 1)\n",
    "bbox_inches='tight'\n",
    "plt.savefig(\"/home/thaobeo/git/HeartResearch/ECGsig.pdf\", format = 'pdf', dpi = 300)"
   ]
  },
  {
   "cell_type": "code",
   "execution_count": null,
   "metadata": {},
   "outputs": [],
   "source": []
  }
 ],
 "metadata": {
  "kernelspec": {
   "display_name": "Python 3 (ipykernel)",
   "language": "python",
   "name": "python3"
  },
  "language_info": {
   "codemirror_mode": {
    "name": "ipython",
    "version": 3
   },
   "file_extension": ".py",
   "mimetype": "text/x-python",
   "name": "python",
   "nbconvert_exporter": "python",
   "pygments_lexer": "ipython3",
   "version": "3.10.7"
  },
  "vscode": {
   "interpreter": {
    "hash": "213524bb45a1aeaf737b1d8c77d7b8db5d425938d9dffc5f4bc6fe6dd3324700"
   }
  }
 },
 "nbformat": 4,
 "nbformat_minor": 4
}
