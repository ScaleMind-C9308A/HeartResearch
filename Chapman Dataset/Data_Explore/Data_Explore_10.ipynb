{
 "cells": [
  {
   "cell_type": "code",
   "execution_count": 1,
   "metadata": {},
   "outputs": [],
   "source": [
    "import scipy.io\n",
    "import torch\n",
    "import pandas as pd\n",
    "import matplotlib.pyplot as plt\n",
    "import torch.nn.functional as F\n",
    "import os\n",
    "from glob import glob\n",
    "import numpy as np"
   ]
  },
  {
   "cell_type": "code",
   "execution_count": 2,
   "metadata": {},
   "outputs": [
    {
     "name": "stdout",
     "output_type": "stream",
     "text": [
      "/media/mountHDD2/thao/git/HeartResearch/Chapman Dataset/Data_Explore\n",
      "['Data_Explore', 'Diagnostics.xlsx', '.ipynb_checkpoints', '2D_model', '1D_Model', '2D_Loss']\n"
     ]
    }
   ],
   "source": [
    "print(os.getcwd())\n",
    "os.chdir(\"..\")\n",
    "main_dir = os.getcwd() \n",
    "main_data_dir =  \"/media/mountHDD2\"\n",
    "print(os.listdir(main_dir))"
   ]
  },
  {
   "cell_type": "code",
   "execution_count": 3,
   "metadata": {},
   "outputs": [],
   "source": [
    "data_dir = \"/media/mountHDD3/data_storage/biomedical_data/ecg_data/ECGDataDenoised\"\n",
    "# data_df = pd.read_csv(data_dir)\n",
    "label_file = main_dir + \"/Diagnostics.xlsx\""
   ]
  },
  {
   "cell_type": "code",
   "execution_count": 4,
   "metadata": {},
   "outputs": [],
   "source": [
    "label_df = pd.read_excel(label_file)\n",
    "label_df = label_df[['FileName', 'Rhythm']]"
   ]
  },
  {
   "cell_type": "code",
   "execution_count": 5,
   "metadata": {},
   "outputs": [
    {
     "data": {
      "text/plain": [
       "(10646, 2)"
      ]
     },
     "execution_count": 5,
     "metadata": {},
     "output_type": "execute_result"
    }
   ],
   "source": [
    "label_df.shape"
   ]
  },
  {
   "cell_type": "code",
   "execution_count": 6,
   "metadata": {},
   "outputs": [
    {
     "name": "stdout",
     "output_type": "stream",
     "text": [
      "                         FileName Rhythm\n",
      "0      MUSE_20180120_121711_19000     SA\n",
      "1      MUSE_20180120_121704_86000     SA\n",
      "2      MUSE_20180113_125357_13000     SA\n",
      "3      MUSE_20180113_134825_04000     SB\n",
      "4      MUSE_20180115_123455_79000     SB\n",
      "...                           ...    ...\n",
      "10641  MUSE_20181222_204246_47000    SVT\n",
      "10642  MUSE_20180115_120332_79000     SA\n",
      "10643  MUSE_20180712_152507_30000     AF\n",
      "10644  MUSE_20180118_181350_17000     SA\n",
      "10645  MUSE_20180116_121646_28000     ST\n",
      "\n",
      "[10646 rows x 2 columns]\n"
     ]
    }
   ],
   "source": [
    "print(label_df)"
   ]
  },
  {
   "cell_type": "code",
   "execution_count": 7,
   "metadata": {},
   "outputs": [],
   "source": [
    "# data_df"
   ]
  },
  {
   "cell_type": "code",
   "execution_count": 8,
   "metadata": {},
   "outputs": [],
   "source": [
    "# array = data_df.values.T\n",
    "# print(array)\n",
    "# print(array.shape)"
   ]
  },
  {
   "cell_type": "code",
   "execution_count": 9,
   "metadata": {},
   "outputs": [],
   "source": [
    "# def plots(i):\n",
    "#     plt.figure(figsize = (15,2))\n",
    "#     plt.plot(array[i][:4000])\n",
    "\n",
    "# for i in range(7,9):\n",
    "#     if i % 1 ==0:\n",
    "#         print(array[i][100])\n",
    "#         plots(i)"
   ]
  },
  {
   "cell_type": "code",
   "execution_count": 10,
   "metadata": {},
   "outputs": [],
   "source": [
    "# clip_data = array[:, 500:3000]\n",
    "# print(clip_data)\n",
    "# print(clip_data.shape)"
   ]
  },
  {
   "cell_type": "code",
   "execution_count": 11,
   "metadata": {},
   "outputs": [
    {
     "name": "stdout",
     "output_type": "stream",
     "text": [
      "(5000, 12)\n",
      "(5000, 12)\n",
      "[[ -25.883   -26.096   -26.166  ...   23.986    21.187    17.897 ]\n",
      " [ -33.342   -31.674   -29.694  ...   25.434    22.215    18.86  ]\n",
      " [ -18.343   -16.401   -14.291  ...    2.0346    1.6076    1.5363]\n",
      " ...\n",
      " [ -71.49    -70.931   -70.277  ...   19.458    17.915    17.044 ]\n",
      " [-201.85   -199.96   -198.01   ...   29.761    26.684    23.461 ]\n",
      " [ -18.011   -17.844   -17.704  ...   15.243    15.339    15.62  ]]\n",
      "(12, 5000)\n",
      "<class 'numpy.ndarray'>\n"
     ]
    }
   ],
   "source": [
    "data_df =  pd.read_csv(glob(data_dir + \"/*\")[1], header= None)\n",
    "print(data_df.shape)\n",
    "print(data_df.values.shape)\n",
    "print(data_df.values.T)\n",
    "print(data_df.values.T.shape)\n",
    "print(type(data_df.values.T))"
   ]
  },
  {
   "cell_type": "code",
   "execution_count": 12,
   "metadata": {},
   "outputs": [
    {
     "data": {
      "text/plain": [
       "12    5646\n",
       "dtype: int64"
      ]
     },
     "execution_count": 12,
     "metadata": {},
     "output_type": "execute_result"
    }
   ],
   "source": [
    "ls = []\n",
    "for file in glob(data_dir + \"/*\")[5000:10646]:\n",
    "    data_df =  pd.read_csv(file, header= None)\n",
    "    ls.append(data_df.shape[1])\n",
    "ls_list = pd.Series(ls)\n",
    "ls_list.value_counts()\n",
    "# print(ls_list)"
   ]
  },
  {
   "cell_type": "code",
   "execution_count": 16,
   "metadata": {
    "scrolled": true
   },
   "outputs": [
    {
     "name": "stdout",
     "output_type": "stream",
     "text": [
      "/media/mountHDD3/data_storage/biomedical_data/ecg_data/ECGDataDenoised/MUSE_20180113_124215_52000.csv\n"
     ]
    },
    {
     "name": "stderr",
     "output_type": "stream",
     "text": [
      "/tmp/ipykernel_1313298/863931603.py:7: FutureWarning: The default dtype for empty Series will be 'object' instead of 'float64' in a future version. Specify a dtype explicitly to silence this warning.\n",
      "  ls_list = pd.Series(ls)\n"
     ]
    },
    {
     "data": {
      "text/plain": [
       "Series([], dtype: int64)"
      ]
     },
     "execution_count": 16,
     "metadata": {},
     "output_type": "execute_result"
    }
   ],
   "source": [
    "ls = []\n",
    "for file in glob(data_dir + \"/*\"):\n",
    "    data_df =  pd.read_csv(file, header= None)\n",
    "    t = data_df.shape[0]\n",
    "    if t == 1926:\n",
    "        print(file)\n",
    "ls_list = pd.Series(ls)\n",
    "ls_list.value_counts()"
   ]
  },
  {
   "cell_type": "code",
   "execution_count": 17,
   "metadata": {},
   "outputs": [],
   "source": [
    "# data_df =  pd.read_csv(\"/media/mountHDD3/data_storage/biomedical_data/ecg_data/ECGDataDenoised/MUSE_20180113_124215_52000.csv\", header= None)"
   ]
  },
  {
   "cell_type": "code",
   "execution_count": 18,
   "metadata": {},
   "outputs": [
    {
     "data": {
      "text/html": [
       "<div>\n",
       "<style scoped>\n",
       "    .dataframe tbody tr th:only-of-type {\n",
       "        vertical-align: middle;\n",
       "    }\n",
       "\n",
       "    .dataframe tbody tr th {\n",
       "        vertical-align: top;\n",
       "    }\n",
       "\n",
       "    .dataframe thead th {\n",
       "        text-align: right;\n",
       "    }\n",
       "</style>\n",
       "<table border=\"1\" class=\"dataframe\">\n",
       "  <thead>\n",
       "    <tr style=\"text-align: right;\">\n",
       "      <th></th>\n",
       "      <th>0</th>\n",
       "      <th>1</th>\n",
       "      <th>2</th>\n",
       "      <th>3</th>\n",
       "      <th>4</th>\n",
       "      <th>5</th>\n",
       "      <th>6</th>\n",
       "      <th>7</th>\n",
       "      <th>8</th>\n",
       "      <th>9</th>\n",
       "      <th>10</th>\n",
       "      <th>11</th>\n",
       "    </tr>\n",
       "  </thead>\n",
       "  <tbody>\n",
       "    <tr>\n",
       "      <th>0</th>\n",
       "      <td>61.10300</td>\n",
       "      <td>37.5210</td>\n",
       "      <td>-26.6400</td>\n",
       "      <td>-47.9590</td>\n",
       "      <td>51.881000</td>\n",
       "      <td>6.3059</td>\n",
       "      <td>1.8689</td>\n",
       "      <td>55.2110</td>\n",
       "      <td>29.09100</td>\n",
       "      <td>11.56200</td>\n",
       "      <td>24.8030</td>\n",
       "      <td>-7.7427</td>\n",
       "    </tr>\n",
       "    <tr>\n",
       "      <th>1</th>\n",
       "      <td>47.68100</td>\n",
       "      <td>36.0800</td>\n",
       "      <td>-14.4570</td>\n",
       "      <td>-41.2910</td>\n",
       "      <td>39.054000</td>\n",
       "      <td>12.4480</td>\n",
       "      <td>-2.6609</td>\n",
       "      <td>50.7420</td>\n",
       "      <td>25.20900</td>\n",
       "      <td>9.65770</td>\n",
       "      <td>20.9110</td>\n",
       "      <td>1.9899</td>\n",
       "    </tr>\n",
       "    <tr>\n",
       "      <th>2</th>\n",
       "      <td>34.12400</td>\n",
       "      <td>32.7300</td>\n",
       "      <td>-4.0495</td>\n",
       "      <td>-33.4790</td>\n",
       "      <td>27.012000</td>\n",
       "      <td>16.5790</td>\n",
       "      <td>-6.6083</td>\n",
       "      <td>45.9500</td>\n",
       "      <td>21.53900</td>\n",
       "      <td>7.19830</td>\n",
       "      <td>16.3570</td>\n",
       "      <td>9.3735</td>\n",
       "    </tr>\n",
       "    <tr>\n",
       "      <th>3</th>\n",
       "      <td>20.80700</td>\n",
       "      <td>26.6480</td>\n",
       "      <td>3.3857</td>\n",
       "      <td>-24.2100</td>\n",
       "      <td>16.486000</td>\n",
       "      <td>17.5660</td>\n",
       "      <td>-9.4085</td>\n",
       "      <td>40.9140</td>\n",
       "      <td>18.34300</td>\n",
       "      <td>4.11060</td>\n",
       "      <td>11.1230</td>\n",
       "      <td>12.7210</td>\n",
       "    </tr>\n",
       "    <tr>\n",
       "      <th>4</th>\n",
       "      <td>8.54860</td>\n",
       "      <td>18.6550</td>\n",
       "      <td>7.8520</td>\n",
       "      <td>-14.2790</td>\n",
       "      <td>7.845600</td>\n",
       "      <td>15.7880</td>\n",
       "      <td>-10.8290</td>\n",
       "      <td>36.0080</td>\n",
       "      <td>15.76400</td>\n",
       "      <td>0.74617</td>\n",
       "      <td>5.8018</td>\n",
       "      <td>11.5970</td>\n",
       "    </tr>\n",
       "    <tr>\n",
       "      <th>...</th>\n",
       "      <td>...</td>\n",
       "      <td>...</td>\n",
       "      <td>...</td>\n",
       "      <td>...</td>\n",
       "      <td>...</td>\n",
       "      <td>...</td>\n",
       "      <td>...</td>\n",
       "      <td>...</td>\n",
       "      <td>...</td>\n",
       "      <td>...</td>\n",
       "      <td>...</td>\n",
       "      <td>...</td>\n",
       "    </tr>\n",
       "    <tr>\n",
       "      <th>1921</th>\n",
       "      <td>0.58720</td>\n",
       "      <td>-8.7281</td>\n",
       "      <td>-1.3245</td>\n",
       "      <td>3.2506</td>\n",
       "      <td>-0.091394</td>\n",
       "      <td>-7.1624</td>\n",
       "      <td>3.6304</td>\n",
       "      <td>1.6450</td>\n",
       "      <td>-1.62060</td>\n",
       "      <td>-5.61300</td>\n",
       "      <td>-9.7905</td>\n",
       "      <td>13.2840</td>\n",
       "    </tr>\n",
       "    <tr>\n",
       "      <th>1922</th>\n",
       "      <td>-0.87697</td>\n",
       "      <td>-9.8012</td>\n",
       "      <td>-2.3854</td>\n",
       "      <td>4.3261</td>\n",
       "      <td>-0.473400</td>\n",
       "      <td>-8.2190</td>\n",
       "      <td>3.7173</td>\n",
       "      <td>2.8417</td>\n",
       "      <td>-0.64573</td>\n",
       "      <td>-4.89760</td>\n",
       "      <td>-9.1505</td>\n",
       "      <td>12.8660</td>\n",
       "    </tr>\n",
       "    <tr>\n",
       "      <th>1923</th>\n",
       "      <td>-2.18820</td>\n",
       "      <td>-10.8140</td>\n",
       "      <td>-3.6230</td>\n",
       "      <td>5.3473</td>\n",
       "      <td>-0.696510</td>\n",
       "      <td>-9.2740</td>\n",
       "      <td>3.6878</td>\n",
       "      <td>3.8957</td>\n",
       "      <td>0.25739</td>\n",
       "      <td>-4.31850</td>\n",
       "      <td>-8.5834</td>\n",
       "      <td>12.4400</td>\n",
       "    </tr>\n",
       "    <tr>\n",
       "      <th>1924</th>\n",
       "      <td>-3.21890</td>\n",
       "      <td>-11.7040</td>\n",
       "      <td>-4.9301</td>\n",
       "      <td>6.2476</td>\n",
       "      <td>-0.709250</td>\n",
       "      <td>-10.2200</td>\n",
       "      <td>3.5540</td>\n",
       "      <td>4.7740</td>\n",
       "      <td>1.07030</td>\n",
       "      <td>-3.88790</td>\n",
       "      <td>-8.1427</td>\n",
       "      <td>11.8790</td>\n",
       "    </tr>\n",
       "    <tr>\n",
       "      <th>1925</th>\n",
       "      <td>-3.91180</td>\n",
       "      <td>-12.4370</td>\n",
       "      <td>-6.1580</td>\n",
       "      <td>6.9786</td>\n",
       "      <td>-0.530000</td>\n",
       "      <td>NaN</td>\n",
       "      <td>NaN</td>\n",
       "      <td>NaN</td>\n",
       "      <td>NaN</td>\n",
       "      <td>NaN</td>\n",
       "      <td>NaN</td>\n",
       "      <td>NaN</td>\n",
       "    </tr>\n",
       "  </tbody>\n",
       "</table>\n",
       "<p>1926 rows × 12 columns</p>\n",
       "</div>"
      ],
      "text/plain": [
       "            0        1        2        3          4        5        6   \\\n",
       "0     61.10300  37.5210 -26.6400 -47.9590  51.881000   6.3059   1.8689   \n",
       "1     47.68100  36.0800 -14.4570 -41.2910  39.054000  12.4480  -2.6609   \n",
       "2     34.12400  32.7300  -4.0495 -33.4790  27.012000  16.5790  -6.6083   \n",
       "3     20.80700  26.6480   3.3857 -24.2100  16.486000  17.5660  -9.4085   \n",
       "4      8.54860  18.6550   7.8520 -14.2790   7.845600  15.7880 -10.8290   \n",
       "...        ...      ...      ...      ...        ...      ...      ...   \n",
       "1921   0.58720  -8.7281  -1.3245   3.2506  -0.091394  -7.1624   3.6304   \n",
       "1922  -0.87697  -9.8012  -2.3854   4.3261  -0.473400  -8.2190   3.7173   \n",
       "1923  -2.18820 -10.8140  -3.6230   5.3473  -0.696510  -9.2740   3.6878   \n",
       "1924  -3.21890 -11.7040  -4.9301   6.2476  -0.709250 -10.2200   3.5540   \n",
       "1925  -3.91180 -12.4370  -6.1580   6.9786  -0.530000      NaN      NaN   \n",
       "\n",
       "           7         8         9        10       11  \n",
       "0     55.2110  29.09100  11.56200  24.8030  -7.7427  \n",
       "1     50.7420  25.20900   9.65770  20.9110   1.9899  \n",
       "2     45.9500  21.53900   7.19830  16.3570   9.3735  \n",
       "3     40.9140  18.34300   4.11060  11.1230  12.7210  \n",
       "4     36.0080  15.76400   0.74617   5.8018  11.5970  \n",
       "...       ...       ...       ...      ...      ...  \n",
       "1921   1.6450  -1.62060  -5.61300  -9.7905  13.2840  \n",
       "1922   2.8417  -0.64573  -4.89760  -9.1505  12.8660  \n",
       "1923   3.8957   0.25739  -4.31850  -8.5834  12.4400  \n",
       "1924   4.7740   1.07030  -3.88790  -8.1427  11.8790  \n",
       "1925      NaN       NaN       NaN      NaN      NaN  \n",
       "\n",
       "[1926 rows x 12 columns]"
      ]
     },
     "execution_count": 18,
     "metadata": {},
     "output_type": "execute_result"
    }
   ],
   "source": [
    "# data_df"
   ]
  },
  {
   "cell_type": "code",
   "execution_count": null,
   "metadata": {},
   "outputs": [],
   "source": [
    "type(a)"
   ]
  },
  {
   "cell_type": "code",
   "execution_count": null,
   "metadata": {},
   "outputs": [],
   "source": [
    "a[0]"
   ]
  },
  {
   "cell_type": "code",
   "execution_count": null,
   "metadata": {},
   "outputs": [],
   "source": [
    "a"
   ]
  },
  {
   "cell_type": "code",
   "execution_count": null,
   "metadata": {},
   "outputs": [],
   "source": [
    "a[2].shape\n"
   ]
  },
  {
   "cell_type": "code",
   "execution_count": null,
   "metadata": {},
   "outputs": [],
   "source": [
    "print(len(a[2][1]))"
   ]
  },
  {
   "cell_type": "code",
   "execution_count": null,
   "metadata": {},
   "outputs": [],
   "source": [
    "def plots(i):\n",
    "    plt.figure(figsize = (15,2))\n",
    "    plt.plot(a[2][i][:4500])\n",
    "\n",
    "for i in range(12):\n",
    "    if i % 1 ==0:\n",
    "        plots(i)\n",
    "# save_dir =         \n",
    "# plt.savefig()\n"
   ]
  },
  {
   "cell_type": "code",
   "execution_count": null,
   "metadata": {},
   "outputs": [],
   "source": [
    "## Grayscale\n",
    "data = scipy.io.loadmat(\"/media/mountHDD2/khoibaocon/alldata/A0011.mat\")['ECG'][0][0][2]\n",
    "clip_data = data[:, 500:2500]\n",
    "clip_data = torch.tensor(clip_data, dtype=torch.float32)\n",
    "normalized_data = (clip_data - clip_data.min()) / (clip_data.max() - clip_data.min())\n",
    "grayscale_images = (normalized_data * 255)\n",
    "grayscale_images = grayscale_images.unsqueeze(0).unsqueeze(0) # (1, 1, h, w)\n",
    "resized_images = F.interpolate(grayscale_images, size=(12*4,2500), mode='bilinear', align_corners=True)\n",
    "resized_images = resized_images.squeeze(0).squeeze(0)\n",
    "print(resized_images.shape)\n",
    "torch_data = resized_images.unsqueeze(0).repeat(3, 1, 1)\n",
    "plt.figure(figsize=(25, 25))\n",
    "plt.imshow(resized_images, cmap='gray', vmin=0, vmax=255)\n",
    "plt.show()"
   ]
  },
  {
   "cell_type": "code",
   "execution_count": null,
   "metadata": {},
   "outputs": [],
   "source": [
    "fig, axs = plt.subplots(5, 1)\n",
    "axs[0].plot(a[2][2][500:3000], 'tab:blue')\n",
    "axs[0].set_title('Lead III',x=1.075,y = 0.25)\n",
    "axs[1].plot(a[2][3][500:3000], 'tab:blue')\n",
    "axs[1].set_title('Lead aVR',x=1.095,y = 0.25)\n",
    "axs[2].plot(a[2][4][500:3000], 'tab:blue')\n",
    "axs[2].set_title('Lead aVL',x=1.09,y = 0.25)\n",
    "axs[3].plot(a[2][9][500:3000]/10, 'tab:blue')\n",
    "axs[3].set_title('Lead V3',x=1.08,y = 0.25)\n",
    "axs[4].plot(a[2][11][500:3000]/10, 'tab:blue')\n",
    "axs[4].set_title('Lead V6',x=1.08,y = 0.25)\n",
    "axs[0].axes.get_xaxis().set_ticks([])\n",
    "axs[1].axes.get_xaxis().set_ticks([])\n",
    "axs[2].axes.get_xaxis().set_ticks([])\n",
    "axs[3].axes.get_xaxis().set_ticks([])\n",
    "axs[4].axes.get_xaxis().set_ticks([])\n",
    "plt.tight_layout(pad = 3, h_pad = 1, w_pad = 1)\n",
    "bbox_inches='tight'\n",
    "plt.savefig(\"/home/thaobeo/git/HeartResearch/ECGsig.pdf\", format = 'pdf', dpi = 300)"
   ]
  },
  {
   "cell_type": "code",
   "execution_count": null,
   "metadata": {},
   "outputs": [],
   "source": []
  }
 ],
 "metadata": {
  "kernelspec": {
   "display_name": "Python 3 (ipykernel)",
   "language": "python",
   "name": "python3"
  },
  "language_info": {
   "codemirror_mode": {
    "name": "ipython",
    "version": 3
   },
   "file_extension": ".py",
   "mimetype": "text/x-python",
   "name": "python",
   "nbconvert_exporter": "python",
   "pygments_lexer": "ipython3",
   "version": "3.10.7"
  },
  "vscode": {
   "interpreter": {
    "hash": "213524bb45a1aeaf737b1d8c77d7b8db5d425938d9dffc5f4bc6fe6dd3324700"
   }
  }
 },
 "nbformat": 4,
 "nbformat_minor": 4
}
