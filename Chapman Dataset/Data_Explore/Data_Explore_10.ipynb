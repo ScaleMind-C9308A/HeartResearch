{
 "cells": [
  {
   "cell_type": "code",
   "execution_count": 5,
   "metadata": {},
   "outputs": [],
   "source": [
    "import scipy.io\n",
    "import torch\n",
    "import pandas as pd\n",
    "import matplotlib.pyplot as plt\n",
    "import torch.nn.functional as F\n",
    "import os\n",
    "from glob import glob\n",
    "import numpy as np"
   ]
  },
  {
   "cell_type": "code",
   "execution_count": 14,
   "metadata": {},
   "outputs": [
    {
     "name": "stdout",
     "output_type": "stream",
     "text": [
      "/media/mountHDD2/thao\n",
      "['lost+found', 'duong', 'protector', 'zeus', 'auver', 'cupid', 'SPH', 'auverngo', '.Trash-1002', '.Trash-1000', 'huyen', 'SPHdata_df.csv', 'lamluuduc', 'chuyenmt', 'ly', 'khoidh', 'minh', 'thinhnq', 'trang', 'thao_old', 'nahuyen', 'README.md', 'linh', 'venus', 'hieu', 'thao']\n"
     ]
    }
   ],
   "source": [
    "print(os.getcwd())\n",
    "os.chdir(\"..\")\n",
    "main_dir = os.getcwd() \n",
    "# main_data_dir =  \"/media/mountHDD2\"\n",
    "print(os.listdir(main_dir))"
   ]
  },
  {
   "cell_type": "code",
   "execution_count": 15,
   "metadata": {},
   "outputs": [],
   "source": [
    "data_dir = \"/media/mountHDD3/data_storage/biomedical_data/ecg_data/ECGDataDenoised\"\n",
    "# data_df = pd.read_csv(data_dir)\n",
    "label_file = main_dir + \"/Diagnostics.xlsx\""
   ]
  },
  {
   "cell_type": "code",
   "execution_count": 8,
   "metadata": {},
   "outputs": [
    {
     "ename": "FileNotFoundError",
     "evalue": "[Errno 2] No such file or directory: '/media/mountHDD2/thao/git/HeartResearch/Diagnostics.xlsx'",
     "output_type": "error",
     "traceback": [
      "\u001b[0;31m---------------------------------------------------------------------------\u001b[0m",
      "\u001b[0;31mFileNotFoundError\u001b[0m                         Traceback (most recent call last)",
      "Cell \u001b[0;32mIn[8], line 1\u001b[0m\n\u001b[0;32m----> 1\u001b[0m label_df \u001b[38;5;241m=\u001b[39m \u001b[43mpd\u001b[49m\u001b[38;5;241;43m.\u001b[39;49m\u001b[43mread_excel\u001b[49m\u001b[43m(\u001b[49m\u001b[43mlabel_file\u001b[49m\u001b[43m)\u001b[49m\n\u001b[1;32m      2\u001b[0m label_df \u001b[38;5;241m=\u001b[39m label_df[[\u001b[38;5;124m'\u001b[39m\u001b[38;5;124mFileName\u001b[39m\u001b[38;5;124m'\u001b[39m, \u001b[38;5;124m'\u001b[39m\u001b[38;5;124mRhythm\u001b[39m\u001b[38;5;124m'\u001b[39m]]\n",
      "File \u001b[0;32m~/git/.env/lib/python3.10/site-packages/pandas/util/_decorators.py:311\u001b[0m, in \u001b[0;36mdeprecate_nonkeyword_arguments.<locals>.decorate.<locals>.wrapper\u001b[0;34m(*args, **kwargs)\u001b[0m\n\u001b[1;32m    305\u001b[0m \u001b[38;5;28;01mif\u001b[39;00m \u001b[38;5;28mlen\u001b[39m(args) \u001b[38;5;241m>\u001b[39m num_allow_args:\n\u001b[1;32m    306\u001b[0m     warnings\u001b[38;5;241m.\u001b[39mwarn(\n\u001b[1;32m    307\u001b[0m         msg\u001b[38;5;241m.\u001b[39mformat(arguments\u001b[38;5;241m=\u001b[39marguments),\n\u001b[1;32m    308\u001b[0m         \u001b[38;5;167;01mFutureWarning\u001b[39;00m,\n\u001b[1;32m    309\u001b[0m         stacklevel\u001b[38;5;241m=\u001b[39mstacklevel,\n\u001b[1;32m    310\u001b[0m     )\n\u001b[0;32m--> 311\u001b[0m \u001b[38;5;28;01mreturn\u001b[39;00m \u001b[43mfunc\u001b[49m\u001b[43m(\u001b[49m\u001b[38;5;241;43m*\u001b[39;49m\u001b[43margs\u001b[49m\u001b[43m,\u001b[49m\u001b[43m \u001b[49m\u001b[38;5;241;43m*\u001b[39;49m\u001b[38;5;241;43m*\u001b[39;49m\u001b[43mkwargs\u001b[49m\u001b[43m)\u001b[49m\n",
      "File \u001b[0;32m~/git/.env/lib/python3.10/site-packages/pandas/io/excel/_base.py:457\u001b[0m, in \u001b[0;36mread_excel\u001b[0;34m(io, sheet_name, header, names, index_col, usecols, squeeze, dtype, engine, converters, true_values, false_values, skiprows, nrows, na_values, keep_default_na, na_filter, verbose, parse_dates, date_parser, thousands, decimal, comment, skipfooter, convert_float, mangle_dupe_cols, storage_options)\u001b[0m\n\u001b[1;32m    455\u001b[0m \u001b[38;5;28;01mif\u001b[39;00m \u001b[38;5;129;01mnot\u001b[39;00m \u001b[38;5;28misinstance\u001b[39m(io, ExcelFile):\n\u001b[1;32m    456\u001b[0m     should_close \u001b[38;5;241m=\u001b[39m \u001b[38;5;28;01mTrue\u001b[39;00m\n\u001b[0;32m--> 457\u001b[0m     io \u001b[38;5;241m=\u001b[39m \u001b[43mExcelFile\u001b[49m\u001b[43m(\u001b[49m\u001b[43mio\u001b[49m\u001b[43m,\u001b[49m\u001b[43m \u001b[49m\u001b[43mstorage_options\u001b[49m\u001b[38;5;241;43m=\u001b[39;49m\u001b[43mstorage_options\u001b[49m\u001b[43m,\u001b[49m\u001b[43m \u001b[49m\u001b[43mengine\u001b[49m\u001b[38;5;241;43m=\u001b[39;49m\u001b[43mengine\u001b[49m\u001b[43m)\u001b[49m\n\u001b[1;32m    458\u001b[0m \u001b[38;5;28;01melif\u001b[39;00m engine \u001b[38;5;129;01mand\u001b[39;00m engine \u001b[38;5;241m!=\u001b[39m io\u001b[38;5;241m.\u001b[39mengine:\n\u001b[1;32m    459\u001b[0m     \u001b[38;5;28;01mraise\u001b[39;00m \u001b[38;5;167;01mValueError\u001b[39;00m(\n\u001b[1;32m    460\u001b[0m         \u001b[38;5;124m\"\u001b[39m\u001b[38;5;124mEngine should not be specified when passing \u001b[39m\u001b[38;5;124m\"\u001b[39m\n\u001b[1;32m    461\u001b[0m         \u001b[38;5;124m\"\u001b[39m\u001b[38;5;124man ExcelFile - ExcelFile already has the engine set\u001b[39m\u001b[38;5;124m\"\u001b[39m\n\u001b[1;32m    462\u001b[0m     )\n",
      "File \u001b[0;32m~/git/.env/lib/python3.10/site-packages/pandas/io/excel/_base.py:1376\u001b[0m, in \u001b[0;36mExcelFile.__init__\u001b[0;34m(self, path_or_buffer, engine, storage_options)\u001b[0m\n\u001b[1;32m   1374\u001b[0m     ext \u001b[38;5;241m=\u001b[39m \u001b[38;5;124m\"\u001b[39m\u001b[38;5;124mxls\u001b[39m\u001b[38;5;124m\"\u001b[39m\n\u001b[1;32m   1375\u001b[0m \u001b[38;5;28;01melse\u001b[39;00m:\n\u001b[0;32m-> 1376\u001b[0m     ext \u001b[38;5;241m=\u001b[39m \u001b[43minspect_excel_format\u001b[49m\u001b[43m(\u001b[49m\n\u001b[1;32m   1377\u001b[0m \u001b[43m        \u001b[49m\u001b[43mcontent_or_path\u001b[49m\u001b[38;5;241;43m=\u001b[39;49m\u001b[43mpath_or_buffer\u001b[49m\u001b[43m,\u001b[49m\u001b[43m \u001b[49m\u001b[43mstorage_options\u001b[49m\u001b[38;5;241;43m=\u001b[39;49m\u001b[43mstorage_options\u001b[49m\n\u001b[1;32m   1378\u001b[0m \u001b[43m    \u001b[49m\u001b[43m)\u001b[49m\n\u001b[1;32m   1379\u001b[0m     \u001b[38;5;28;01mif\u001b[39;00m ext \u001b[38;5;129;01mis\u001b[39;00m \u001b[38;5;28;01mNone\u001b[39;00m:\n\u001b[1;32m   1380\u001b[0m         \u001b[38;5;28;01mraise\u001b[39;00m \u001b[38;5;167;01mValueError\u001b[39;00m(\n\u001b[1;32m   1381\u001b[0m             \u001b[38;5;124m\"\u001b[39m\u001b[38;5;124mExcel file format cannot be determined, you must specify \u001b[39m\u001b[38;5;124m\"\u001b[39m\n\u001b[1;32m   1382\u001b[0m             \u001b[38;5;124m\"\u001b[39m\u001b[38;5;124man engine manually.\u001b[39m\u001b[38;5;124m\"\u001b[39m\n\u001b[1;32m   1383\u001b[0m         )\n",
      "File \u001b[0;32m~/git/.env/lib/python3.10/site-packages/pandas/io/excel/_base.py:1250\u001b[0m, in \u001b[0;36minspect_excel_format\u001b[0;34m(content_or_path, storage_options)\u001b[0m\n\u001b[1;32m   1247\u001b[0m \u001b[38;5;28;01mif\u001b[39;00m \u001b[38;5;28misinstance\u001b[39m(content_or_path, \u001b[38;5;28mbytes\u001b[39m):\n\u001b[1;32m   1248\u001b[0m     content_or_path \u001b[38;5;241m=\u001b[39m BytesIO(content_or_path)\n\u001b[0;32m-> 1250\u001b[0m \u001b[38;5;28;01mwith\u001b[39;00m \u001b[43mget_handle\u001b[49m\u001b[43m(\u001b[49m\n\u001b[1;32m   1251\u001b[0m \u001b[43m    \u001b[49m\u001b[43mcontent_or_path\u001b[49m\u001b[43m,\u001b[49m\u001b[43m \u001b[49m\u001b[38;5;124;43m\"\u001b[39;49m\u001b[38;5;124;43mrb\u001b[39;49m\u001b[38;5;124;43m\"\u001b[39;49m\u001b[43m,\u001b[49m\u001b[43m \u001b[49m\u001b[43mstorage_options\u001b[49m\u001b[38;5;241;43m=\u001b[39;49m\u001b[43mstorage_options\u001b[49m\u001b[43m,\u001b[49m\u001b[43m \u001b[49m\u001b[43mis_text\u001b[49m\u001b[38;5;241;43m=\u001b[39;49m\u001b[38;5;28;43;01mFalse\u001b[39;49;00m\n\u001b[1;32m   1252\u001b[0m \u001b[43m\u001b[49m\u001b[43m)\u001b[49m \u001b[38;5;28;01mas\u001b[39;00m handle:\n\u001b[1;32m   1253\u001b[0m     stream \u001b[38;5;241m=\u001b[39m handle\u001b[38;5;241m.\u001b[39mhandle\n\u001b[1;32m   1254\u001b[0m     stream\u001b[38;5;241m.\u001b[39mseek(\u001b[38;5;241m0\u001b[39m)\n",
      "File \u001b[0;32m~/git/.env/lib/python3.10/site-packages/pandas/io/common.py:795\u001b[0m, in \u001b[0;36mget_handle\u001b[0;34m(path_or_buf, mode, encoding, compression, memory_map, is_text, errors, storage_options)\u001b[0m\n\u001b[1;32m    786\u001b[0m         handle \u001b[38;5;241m=\u001b[39m \u001b[38;5;28mopen\u001b[39m(\n\u001b[1;32m    787\u001b[0m             handle,\n\u001b[1;32m    788\u001b[0m             ioargs\u001b[38;5;241m.\u001b[39mmode,\n\u001b[0;32m   (...)\u001b[0m\n\u001b[1;32m    791\u001b[0m             newline\u001b[38;5;241m=\u001b[39m\u001b[38;5;124m\"\u001b[39m\u001b[38;5;124m\"\u001b[39m,\n\u001b[1;32m    792\u001b[0m         )\n\u001b[1;32m    793\u001b[0m     \u001b[38;5;28;01melse\u001b[39;00m:\n\u001b[1;32m    794\u001b[0m         \u001b[38;5;66;03m# Binary mode\u001b[39;00m\n\u001b[0;32m--> 795\u001b[0m         handle \u001b[38;5;241m=\u001b[39m \u001b[38;5;28;43mopen\u001b[39;49m\u001b[43m(\u001b[49m\u001b[43mhandle\u001b[49m\u001b[43m,\u001b[49m\u001b[43m \u001b[49m\u001b[43mioargs\u001b[49m\u001b[38;5;241;43m.\u001b[39;49m\u001b[43mmode\u001b[49m\u001b[43m)\u001b[49m\n\u001b[1;32m    796\u001b[0m     handles\u001b[38;5;241m.\u001b[39mappend(handle)\n\u001b[1;32m    798\u001b[0m \u001b[38;5;66;03m# Convert BytesIO or file objects passed with an encoding\u001b[39;00m\n",
      "\u001b[0;31mFileNotFoundError\u001b[0m: [Errno 2] No such file or directory: '/media/mountHDD2/thao/git/HeartResearch/Diagnostics.xlsx'"
     ]
    }
   ],
   "source": [
    "label_df = pd.read_excel(label_file)\n",
    "label_df = label_df[['FileName', 'Rhythm']]"
   ]
  },
  {
   "cell_type": "code",
   "execution_count": null,
   "metadata": {},
   "outputs": [],
   "source": [
    "label_df.shape"
   ]
  },
  {
   "cell_type": "code",
   "execution_count": 6,
   "metadata": {},
   "outputs": [
    {
     "name": "stdout",
     "output_type": "stream",
     "text": [
      "                         FileName Rhythm\n",
      "0      MUSE_20180120_121711_19000     SA\n",
      "1      MUSE_20180120_121704_86000     SA\n",
      "2      MUSE_20180113_125357_13000     SA\n",
      "3      MUSE_20180113_134825_04000     SB\n",
      "4      MUSE_20180115_123455_79000     SB\n",
      "...                           ...    ...\n",
      "10641  MUSE_20181222_204246_47000    SVT\n",
      "10642  MUSE_20180115_120332_79000     SA\n",
      "10643  MUSE_20180712_152507_30000     AF\n",
      "10644  MUSE_20180118_181350_17000     SA\n",
      "10645  MUSE_20180116_121646_28000     ST\n",
      "\n",
      "[10646 rows x 2 columns]\n"
     ]
    }
   ],
   "source": [
    "print(label_df)"
   ]
  },
  {
   "cell_type": "code",
   "execution_count": 7,
   "metadata": {},
   "outputs": [],
   "source": [
    "# label_df['Rhythm'].valuecount()"
   ]
  },
  {
   "cell_type": "code",
   "execution_count": 8,
   "metadata": {},
   "outputs": [],
   "source": [
    "# array = data_df.values.T\n",
    "# print(array)\n",
    "# print(array.shape)"
   ]
  },
  {
   "cell_type": "code",
   "execution_count": 9,
   "metadata": {},
   "outputs": [],
   "source": [
    "# def plots(i):\n",
    "#     plt.figure(figsize = (15,2))\n",
    "#     plt.plot(array[i][:4000])\n",
    "\n",
    "# for i in range(7,9):\n",
    "#     if i % 1 ==0:\n",
    "#         print(array[i][100])\n",
    "#         plots(i)"
   ]
  },
  {
   "cell_type": "code",
   "execution_count": 10,
   "metadata": {},
   "outputs": [],
   "source": [
    "# clip_data = array[:, 500:3000]\n",
    "# print(clip_data)\n",
    "# print(clip_data.shape)"
   ]
  },
  {
   "cell_type": "code",
   "execution_count": 11,
   "metadata": {},
   "outputs": [
    {
     "name": "stdout",
     "output_type": "stream",
     "text": [
      "(5000, 12)\n",
      "(5000, 12)\n",
      "[[ -25.883   -26.096   -26.166  ...   23.986    21.187    17.897 ]\n",
      " [ -33.342   -31.674   -29.694  ...   25.434    22.215    18.86  ]\n",
      " [ -18.343   -16.401   -14.291  ...    2.0346    1.6076    1.5363]\n",
      " ...\n",
      " [ -71.49    -70.931   -70.277  ...   19.458    17.915    17.044 ]\n",
      " [-201.85   -199.96   -198.01   ...   29.761    26.684    23.461 ]\n",
      " [ -18.011   -17.844   -17.704  ...   15.243    15.339    15.62  ]]\n",
      "(12, 5000)\n",
      "<class 'numpy.ndarray'>\n"
     ]
    }
   ],
   "source": [
    "data_df =  pd.read_csv(glob(data_dir + \"/*\")[1], header= None)\n",
    "print(data_df.shape)\n",
    "print(data_df.values.shape)\n",
    "print(data_df.values.T)\n",
    "print(data_df.values.T.shape)\n",
    "print(type(data_df.values.T))"
   ]
  },
  {
   "cell_type": "code",
   "execution_count": 12,
   "metadata": {},
   "outputs": [],
   "source": [
    "# ls = []\n",
    "# for file in glob(data_dir + \"/*\"):\n",
    "#     data_df =  pd.read_csv(file, header= None)\n",
    "#     ls.append(data_df.shape[1])\n",
    "# ls_list = pd.Series(ls)\n",
    "# ls_list.value_counts()\n",
    "# # print(ls_list)"
   ]
  },
  {
   "cell_type": "code",
   "execution_count": 13,
   "metadata": {},
   "outputs": [],
   "source": [
    "# ls = []\n",
    "# for file in glob(data_dir + \"/*\"):\n",
    "#     data_df =  pd.read_csv(file, header= None)\n",
    "#     ls.append(data_df.shape[0])\n",
    "# ls_list = pd.Series(ls)\n",
    "# ls_list.value_counts()\n",
    "# # print(ls_list)"
   ]
  },
  {
   "cell_type": "code",
   "execution_count": 14,
   "metadata": {},
   "outputs": [],
   "source": [
    "# ls = []\n",
    "# for file in glob(data_dir + \"/*\"):\n",
    "#     data_df =  pd.read_csv(file, header= None)\n",
    "#     data_df = data_df.values.T\n",
    "#     ls.append(data_df.shape[1])\n",
    "# ls_list = pd.Series(ls)\n",
    "# ls_list.value_counts()"
   ]
  },
  {
   "cell_type": "code",
   "execution_count": 15,
   "metadata": {},
   "outputs": [],
   "source": [
    "# for file in glob(data_dir + \"/*\"):\n",
    "#     data_df =  pd.read_csv(file, header= None)\n",
    "#     result = data_df.applymap(lambda x: isinstance(x, str))\n",
    "\n",
    "#     if result.any().any():\n",
    "#         print(\"There is at least one string in the DataFrame.\")"
   ]
  },
  {
   "cell_type": "code",
   "execution_count": 16,
   "metadata": {},
   "outputs": [],
   "source": [
    "# ls = []\n",
    "# for file in glob(data_dir + \"/*\"):\n",
    "#     data_df =  pd.read_csv(file, header= None)\n",
    "#     data_df = data_df.values.T\n",
    "#     ls.append(data_df.shape[0])\n",
    "# ls_list = pd.Series(ls)\n",
    "# ls_list.value_counts()"
   ]
  },
  {
   "cell_type": "code",
   "execution_count": null,
   "metadata": {},
   "outputs": [
    {
     "name": "stdout",
     "output_type": "stream",
     "text": [
      "MUSE_20180119_174843_24000\n",
      "MUSE_20180712_152022_92000\n",
      "MUSE_20180712_152024_00000\n",
      "MUSE_20180712_151353_58000\n",
      "MUSE_20180114_080214_06000\n"
     ]
    }
   ],
   "source": [
    "for file in glob(data_dir + \"/*\"):\n",
    "    data_df =  pd.read_csv(file, header= None)\n",
    "    filename = file.split(\"/\")[-1].split(\".\")[0]\n",
    "    if data_df.isna().values.any() == True:\n",
    "        print(f\"{filename}\")"
   ]
  },
  {
   "cell_type": "code",
   "execution_count": null,
   "metadata": {},
   "outputs": [],
   "source": [
    "for file in glob(data_dir + \"/*\"):\n",
    "    data_df =  pd.read_csv(file, header= None)\n",
    "    print(data_df)"
   ]
  },
  {
   "cell_type": "code",
   "execution_count": null,
   "metadata": {},
   "outputs": [],
   "source": [
    "data = pd.read_csv(data_dir +\"/MUSE_20180119_174843_24000.csv\", header= None)\n",
    "a = data.values.T\n",
    "# print(a[7][0])\n",
    "def plots(i):\n",
    "    plt.figure(figsize = (15,2))\n",
    "    plt.plot(a[i][300:3000])\n",
    "\n",
    "for i in range(12):\n",
    "        plots(i)"
   ]
  },
  {
   "cell_type": "code",
   "execution_count": null,
   "metadata": {
    "scrolled": true
   },
   "outputs": [],
   "source": [
    "# ls = []\n",
    "# for file in glob(data_dir + \"/*\"):\n",
    "#     data_df =  pd.read_csv(file, header= None)\n",
    "#     t = data_df.shape[0]\n",
    "#     if t == 1926:\n",
    "#         print(file)\n",
    "# ls_list = pd.Series(ls)\n",
    "# ls_list.value_counts()"
   ]
  },
  {
   "cell_type": "code",
   "execution_count": null,
   "metadata": {},
   "outputs": [],
   "source": [
    "# data_df =  pd.read_csv(\"/media/mountHDD3/data_storage/biomedical_data/ecg_data/ECGDataDenoised/MUSE_20180113_124215_52000.csv\", header= None)"
   ]
  },
  {
   "cell_type": "code",
   "execution_count": null,
   "metadata": {},
   "outputs": [],
   "source": [
    "# data_df"
   ]
  },
  {
   "cell_type": "code",
   "execution_count": null,
   "metadata": {},
   "outputs": [],
   "source": [
    "type(a)"
   ]
  },
  {
   "cell_type": "code",
   "execution_count": null,
   "metadata": {},
   "outputs": [],
   "source": [
    "a[0]"
   ]
  },
  {
   "cell_type": "code",
   "execution_count": null,
   "metadata": {},
   "outputs": [],
   "source": [
    "a"
   ]
  },
  {
   "cell_type": "code",
   "execution_count": null,
   "metadata": {},
   "outputs": [],
   "source": [
    "a[2].shape\n"
   ]
  },
  {
   "cell_type": "code",
   "execution_count": null,
   "metadata": {},
   "outputs": [],
   "source": [
    "print(len(a[2][1]))"
   ]
  },
  {
   "cell_type": "code",
   "execution_count": null,
   "metadata": {},
   "outputs": [],
   "source": [
    "def plots(i):\n",
    "    plt.figure(figsize = (15,2))\n",
    "    plt.plot(a[2][i][:4500])\n",
    "\n",
    "for i in range(12):\n",
    "    if i % 1 ==0:\n",
    "        plots(i)\n",
    "# save_dir =         \n",
    "# plt.savefig()\n"
   ]
  },
  {
   "cell_type": "code",
   "execution_count": null,
   "metadata": {},
   "outputs": [],
   "source": [
    "## Grayscale\n",
    "data = scipy.io.loadmat(\"/media/mountHDD2/khoibaocon/alldata/A0011.mat\")['ECG'][0][0][2]\n",
    "clip_data = data[:, 500:2500]\n",
    "clip_data = torch.tensor(clip_data, dtype=torch.float32)\n",
    "normalized_data = (clip_data - clip_data.min()) / (clip_data.max() - clip_data.min())\n",
    "grayscale_images = (normalized_data * 255)\n",
    "grayscale_images = grayscale_images.unsqueeze(0).unsqueeze(0) # (1, 1, h, w)\n",
    "resized_images = F.interpolate(grayscale_images, size=(12*4,2500), mode='bilinear', align_corners=True)\n",
    "resized_images = resized_images.squeeze(0).squeeze(0)\n",
    "print(resized_images.shape)\n",
    "torch_data = resized_images.unsqueeze(0).repeat(3, 1, 1)\n",
    "plt.figure(figsize=(25, 25))\n",
    "plt.imshow(resized_images, cmap='gray', vmin=0, vmax=255)\n",
    "plt.show()"
   ]
  },
  {
   "cell_type": "code",
   "execution_count": null,
   "metadata": {},
   "outputs": [],
   "source": [
    "fig, axs = plt.subplots(5, 1)\n",
    "axs[0].plot(a[2][2][500:3000], 'tab:blue')\n",
    "axs[0].set_title('Lead III',x=1.075,y = 0.25)\n",
    "axs[1].plot(a[2][3][500:3000], 'tab:blue')\n",
    "axs[1].set_title('Lead aVR',x=1.095,y = 0.25)\n",
    "axs[2].plot(a[2][4][500:3000], 'tab:blue')\n",
    "axs[2].set_title('Lead aVL',x=1.09,y = 0.25)\n",
    "axs[3].plot(a[2][9][500:3000]/10, 'tab:blue')\n",
    "axs[3].set_title('Lead V3',x=1.08,y = 0.25)\n",
    "axs[4].plot(a[2][11][500:3000]/10, 'tab:blue')\n",
    "axs[4].set_title('Lead V6',x=1.08,y = 0.25)\n",
    "axs[0].axes.get_xaxis().set_ticks([])\n",
    "axs[1].axes.get_xaxis().set_ticks([])\n",
    "axs[2].axes.get_xaxis().set_ticks([])\n",
    "axs[3].axes.get_xaxis().set_ticks([])\n",
    "axs[4].axes.get_xaxis().set_ticks([])\n",
    "plt.tight_layout(pad = 3, h_pad = 1, w_pad = 1)\n",
    "bbox_inches='tight'\n",
    "plt.savefig(\"/home/thaobeo/git/HeartResearch/ECGsig.pdf\", format = 'pdf', dpi = 300)"
   ]
  },
  {
   "cell_type": "code",
   "execution_count": null,
   "metadata": {},
   "outputs": [],
   "source": []
  }
 ],
 "metadata": {
  "kernelspec": {
   "display_name": "Python 3 (ipykernel)",
   "language": "python",
   "name": "python3"
  },
  "language_info": {
   "codemirror_mode": {
    "name": "ipython",
    "version": 3
   },
   "file_extension": ".py",
   "mimetype": "text/x-python",
   "name": "python",
   "nbconvert_exporter": "python",
   "pygments_lexer": "ipython3",
   "version": "3.10.12"
  },
  "vscode": {
   "interpreter": {
    "hash": "213524bb45a1aeaf737b1d8c77d7b8db5d425938d9dffc5f4bc6fe6dd3324700"
   }
  }
 },
 "nbformat": 4,
 "nbformat_minor": 4
}
