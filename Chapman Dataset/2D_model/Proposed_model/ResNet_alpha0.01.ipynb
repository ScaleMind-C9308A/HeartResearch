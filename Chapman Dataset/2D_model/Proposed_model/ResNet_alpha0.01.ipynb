{
 "cells": [
  {
   "cell_type": "code",
   "execution_count": 1,
   "id": "44ddf287-4125-4d02-a3db-09a4f358b8f3",
   "metadata": {},
   "outputs": [],
   "source": [
    "import os\n",
    "import pandas as pd\n",
    "import matplotlib.pyplot as plt\n",
    "import numpy as np\n",
    "import seaborn as sns\n",
    "\n",
    "import random\n",
    "from glob import glob\n",
    "from tqdm import tqdm\n",
    "from scipy.io import loadmat\n",
    "\n",
    "import torch\n",
    "from torch import nn\n",
    "from torch.optim import Adam\n",
    "from torch.optim.lr_scheduler import CosineAnnealingLR\n",
    "from torch.utils.data import Dataset, DataLoader\n",
    "import torch.nn.functional as F\n",
    "from datetime import datetime\n",
    "from sklearn.metrics import classification_report\n",
    "from sklearn.metrics import roc_curve, auc\n",
    "from sklearn.metrics import roc_auc_score\n",
    "from sklearn import metrics\n",
    "import json\n",
    "from sklearn.preprocessing import LabelEncoder"
   ]
  },
  {
   "cell_type": "code",
   "execution_count": 2,
   "id": "f0b945ff-10be-4cf9-a413-cb9161f783de",
   "metadata": {},
   "outputs": [
    {
     "name": "stdout",
     "output_type": "stream",
     "text": [
      "/media/mountHDD2/linh/git/HeartResearch/Chapman Dataset/2D_model/Proposed_model\n",
      "['Data_Explore', 'Diagnostics.xlsx', '.ipynb_checkpoints', '2D_model', '1D_Model', '2D_Loss']\n",
      "/media/mountHDD2/linh/git/HeartResearch/Chapman Dataset/2D_model/Proposed_model\n"
     ]
    }
   ],
   "source": [
    "print(os.getcwd())\n",
    "save_dir = os.getcwd()\n",
    "os.chdir(\"..\")\n",
    "os.chdir(\"..\")\n",
    "main_dir = os.getcwd() \n",
    "print(os.listdir(main_dir))\n",
    "print(save_dir)"
   ]
  },
  {
   "cell_type": "code",
   "execution_count": 3,
   "id": "e2868d4b-ebc6-40e5-8242-80fdb12670df",
   "metadata": {},
   "outputs": [],
   "source": [
    "# data_dir = \"/media/mountHDD2/khoibaocon\"\n",
    "# print(os.listdir(data_dir))\n",
    "data_dir = \"/media/mountHDD3/data_storage/biomedical_data/ecg_data/ECGDataDenoised\"\n",
    "label_file = main_dir + \"/Diagnostics.xlsx\""
   ]
  },
  {
   "cell_type": "code",
   "execution_count": 4,
   "id": "2f3c37b5-d09e-467c-8ee3-c2bb3fce5555",
   "metadata": {},
   "outputs": [
    {
     "name": "stdout",
     "output_type": "stream",
     "text": [
      "                         FileName  Rhythm\n",
      "0      MUSE_20180120_121711_19000       5\n",
      "1      MUSE_20180120_121704_86000       5\n",
      "2      MUSE_20180113_125357_13000       5\n",
      "3      MUSE_20180113_134825_04000       7\n",
      "4      MUSE_20180115_123455_79000       7\n",
      "...                           ...     ...\n",
      "10641  MUSE_20181222_204246_47000      10\n",
      "10642  MUSE_20180115_120332_79000       5\n",
      "10643  MUSE_20180712_152507_30000       0\n",
      "10644  MUSE_20180118_181350_17000       5\n",
      "10645  MUSE_20180116_121646_28000       9\n",
      "\n",
      "[10646 rows x 2 columns]\n"
     ]
    },
    {
     "name": "stderr",
     "output_type": "stream",
     "text": [
      "/tmp/ipykernel_1258781/3850325221.py:5: SettingWithCopyWarning: \n",
      "A value is trying to be set on a copy of a slice from a DataFrame.\n",
      "Try using .loc[row_indexer,col_indexer] = value instead\n",
      "\n",
      "See the caveats in the documentation: https://pandas.pydata.org/pandas-docs/stable/user_guide/indexing.html#returning-a-view-versus-a-copy\n",
      "  single_main_df['Rhythm'] = label_encoder.fit_transform(single_main_df['Rhythm'])\n"
     ]
    }
   ],
   "source": [
    "main_df = pd.read_excel(label_file)\n",
    "main_df.shape\n",
    "single_main_df = main_df[['FileName', 'Rhythm']]\n",
    "label_encoder = LabelEncoder()\n",
    "single_main_df['Rhythm'] = label_encoder.fit_transform(single_main_df['Rhythm'])\n",
    "print(single_main_df)"
   ]
  },
  {
   "cell_type": "code",
   "execution_count": 5,
   "id": "a4f1e0f7-99a0-4a5a-8ba5-7cab7e5d354b",
   "metadata": {},
   "outputs": [],
   "source": [
    "# main_df.head()"
   ]
  },
  {
   "cell_type": "code",
   "execution_count": 6,
   "id": "e460e120-cf80-48b0-b2d6-cfbfc30cc08c",
   "metadata": {},
   "outputs": [],
   "source": [
    "# main_df[\"First_label\"].value_counts()"
   ]
  },
  {
   "cell_type": "code",
   "execution_count": 7,
   "id": "946947c7-a713-4ba1-8184-2fef44eba6cc",
   "metadata": {},
   "outputs": [],
   "source": [
    "# main_df[\"Second_label\"].value_counts()"
   ]
  },
  {
   "cell_type": "code",
   "execution_count": 8,
   "id": "982de563-1cc2-44d7-8ff8-f8096b9e7115",
   "metadata": {},
   "outputs": [],
   "source": [
    "# main_df[\"Third_label\"].value_counts()"
   ]
  },
  {
   "cell_type": "code",
   "execution_count": 9,
   "id": "e55bab59-4461-434b-9f39-ca1413ae7ed6",
   "metadata": {},
   "outputs": [],
   "source": [
    "\n",
    "# single_main_df = main_df[main_df[\"Second_label\"].isnull()]\n",
    "# single_main_df.shape"
   ]
  },
  {
   "cell_type": "code",
   "execution_count": 10,
   "id": "069eddeb-73ab-40de-8a4f-2b4cae764db6",
   "metadata": {},
   "outputs": [
    {
     "name": "stdout",
     "output_type": "stream",
     "text": [
      "10647\n"
     ]
    }
   ],
   "source": [
    "mat_files = glob(data_dir + \"/*\")\n",
    "print(len(mat_files))"
   ]
  },
  {
   "cell_type": "code",
   "execution_count": 11,
   "id": "6235c55f-7003-4eba-9dc7-a7c107721c22",
   "metadata": {},
   "outputs": [
    {
     "name": "stdout",
     "output_type": "stream",
     "text": [
      "10646\n"
     ]
    }
   ],
   "source": [
    "single_fns = single_main_df[\"FileName\"].values.tolist()\n",
    "print(len(single_fns))"
   ]
  },
  {
   "cell_type": "code",
   "execution_count": 12,
   "id": "cf74da3f-b040-4514-b9e3-642b8c501dba",
   "metadata": {},
   "outputs": [
    {
     "name": "stdout",
     "output_type": "stream",
     "text": [
      "True\n"
     ]
    }
   ],
   "source": [
    "single_mat_paths = [data_dir + f\"/{x}.csv\" for x in single_fns]\n",
    "print(os.path.exists(single_mat_paths[0]))"
   ]
  },
  {
   "cell_type": "code",
   "execution_count": 13,
   "id": "bb59505a-ddb3-4835-8673-354e15b764e9",
   "metadata": {},
   "outputs": [],
   "source": [
    "# sample_data = loadmat(single_mat_paths[0])\n",
    "# sample_data.keys()"
   ]
  },
  {
   "cell_type": "code",
   "execution_count": 14,
   "id": "db6cff39-d48b-49d3-80c7-e9d6888b62dd",
   "metadata": {},
   "outputs": [],
   "source": [
    "# sample_signal_data = sample_data['ECG'][0][0][2]\n",
    "# sample_signal_data.shape"
   ]
  },
  {
   "cell_type": "code",
   "execution_count": 15,
   "id": "7978703e-8bd0-464d-a4d5-08abc919c38a",
   "metadata": {},
   "outputs": [],
   "source": [
    "# sample_sig = torch.randn(1, 12, 32)\n",
    "# conv_test = nn.Conv1d(12, 12, 3, 1, 1)\n",
    "# print(conv_test(sample_sig).shape)"
   ]
  },
  {
   "cell_type": "code",
   "execution_count": 16,
   "id": "949a0ef3-5be8-4e8e-b087-fa05e95f6fb8",
   "metadata": {},
   "outputs": [],
   "source": [
    "class BasicBlock(nn.Module):\n",
    "    def __init__(self, channel_num):\n",
    "        super(BasicBlock, self).__init__()\n",
    "        self.conv_block1 = nn.Sequential(\n",
    "\t\t\tnn.Conv1d(channel_num, channel_num, 3, padding=1),\n",
    "\t\t\tnn.BatchNorm1d(channel_num),\n",
    "\t\t\tnn.ReLU(),\n",
    "\t\t)\n",
    "        self.conv_block2 = nn.Sequential(\n",
    "\t\t\tnn.Conv1d(channel_num, channel_num, 3, padding=1),\n",
    "\t\t\tnn.BatchNorm1d(channel_num),\n",
    "\t\t)\n",
    "        self.relu = nn.ReLU()\n",
    "        torch.nn.init.kaiming_normal_(self.conv_block1[0].weight)\n",
    "        torch.nn.init.kaiming_normal_(self.conv_block2[0].weight)\n",
    "        \n",
    "    def forward(self, x):\n",
    "        residual = x\n",
    "        x = self.conv_block1(x)\n",
    "        x = self.conv_block2(x)\n",
    "        x = x + residual\n",
    "        out = self.relu(x)\n",
    "        return out"
   ]
  },
  {
   "cell_type": "code",
   "execution_count": 17,
   "id": "dbdfa702-b20a-4fe3-80e6-e28fa4ac0e6f",
   "metadata": {},
   "outputs": [
    {
     "name": "stdout",
     "output_type": "stream",
     "text": [
      "torch.Size([1, 2, 32])\n"
     ]
    }
   ],
   "source": [
    "test_basic_block = BasicBlock(2)\n",
    "sample_sig = torch.randn(1, 2, 32)\n",
    "print(test_basic_block(sample_sig).shape)"
   ]
  },
  {
   "cell_type": "code",
   "execution_count": 18,
   "id": "e07a7549-965d-49b4-b498-ff00f4014167",
   "metadata": {},
   "outputs": [],
   "source": [
    "class ResNet(nn.Module):\n",
    "    def __init__(self, in_channels = 12, type = 18, num_classes = 11):\n",
    "        super(ResNet, self).__init__()\n",
    "        self.struc_dict = {\n",
    "            18: {\n",
    "                \"num_channels\" : [64, 128, 256, 512],\n",
    "                \"counts\" : [2, 2, 2, 2]\n",
    "            }\n",
    "        }\n",
    "        self.conv1 = nn.Conv1d(in_channels=in_channels, out_channels=64, kernel_size=7, stride=2)\n",
    "        torch.nn.init.kaiming_normal_(self.conv1.weight)\n",
    "        self.max1 = nn.MaxPool1d(kernel_size=3, stride=2)\n",
    "        self.main = nn.Sequential()\n",
    "        for idx, struc in enumerate(\n",
    "            zip(\n",
    "                self.struc_dict[type][\"num_channels\"], \n",
    "                self.struc_dict[type][\"counts\"]\n",
    "            )\n",
    "        ):\n",
    "            num_channel, cnt = struc\n",
    "            for i in range(cnt):\n",
    "                self.main.add_module(f\"conv{idx+1}_{i}\", BasicBlock(num_channel))\n",
    "            if idx < len(self.struc_dict[type][\"num_channels\"]) - 1:\n",
    "                self.main.add_module(f\"ext_{idx}\", nn.Conv1d(num_channel, self.struc_dict[type][\"num_channels\"][idx+1], 3, 1))\n",
    "                self.main.add_module(f\"extbn_{idx}\", nn.BatchNorm1d(self.struc_dict[type][\"num_channels\"][idx+1]))\n",
    "                                     \n",
    "        self.avg = torch.nn.AdaptiveAvgPool1d((1))\n",
    "        self.lin = nn.Linear(self.struc_dict[type][\"num_channels\"][-1], num_classes)\n",
    "        torch.nn.init.kaiming_normal_(self.lin.weight)\n",
    "    def forward(self, x):\n",
    "        x = self.conv1(x)\n",
    "        x = self.max1(x)\n",
    "        x = self.main(x)\n",
    "        x = self.avg(x)\n",
    "        x = x.reshape(x.shape[0], -1)\n",
    "        x = self.lin(x)\n",
    "        return x"
   ]
  },
  {
   "cell_type": "code",
   "execution_count": 19,
   "id": "182b31c1-94b6-4c83-837e-f8aa593a1324",
   "metadata": {},
   "outputs": [
    {
     "data": {
      "text/plain": [
       "torch.Size([1, 11])"
      ]
     },
     "execution_count": 19,
     "metadata": {},
     "output_type": "execute_result"
    }
   ],
   "source": [
    "model = ResNet()\n",
    "sample_sig = torch.randn(1, 12, 3000)\n",
    "model(sample_sig).shape"
   ]
  },
  {
   "cell_type": "code",
   "execution_count": 20,
   "id": "c7dd7940-7c95-4edf-b39e-0de905f24dc5",
   "metadata": {},
   "outputs": [],
   "source": [
    "class ECG(Dataset):\n",
    "    def __init__(self, data_paths, label_df):\n",
    "        self.data_paths = data_paths\n",
    "        random.shuffle(self.data_paths)\n",
    "        self.label_df = label_df\n",
    "\n",
    "    def __getitem__(self, idx):\n",
    "        data_path = self.data_paths[idx]        \n",
    "        data = pd.read_csv(data_path, header = None)\n",
    "        data = data.values.T\n",
    "        clip_data = data[:, 0:1600]\n",
    "\n",
    "        filename = data_path.split(\"/\")[-1].split(\".\")[0]\n",
    "        label = self.label_df[self.label_df[\"FileName\"] == filename][\"Rhythm\"].values.item()\n",
    "\n",
    "        torch_data = torch.from_numpy(clip_data)\n",
    "\n",
    "        return torch_data.float(), label\n",
    "\n",
    "    def __len__(self):\n",
    "        return len(self.data_paths)"
   ]
  },
  {
   "cell_type": "code",
   "execution_count": 21,
   "id": "4e01d387-99b1-416e-83a7-cb1d3a664179",
   "metadata": {},
   "outputs": [],
   "source": [
    "# check_ds = ECG(data_paths=single_mat_paths, label_df=single_main_df)\n",
    "# sample, lbl = check_ds[0]\n",
    "# print(sample.shape, lbl)"
   ]
  },
  {
   "cell_type": "code",
   "execution_count": 22,
   "id": "68e75806-1788-4302-a883-2a1e6401ea00",
   "metadata": {},
   "outputs": [],
   "source": [
    "# model(sample.unsqueeze(dim=0)).shape"
   ]
  },
  {
   "cell_type": "code",
   "execution_count": 23,
   "id": "07cf3c4b-a69a-4c74-8d60-a841345c04a0",
   "metadata": {},
   "outputs": [
    {
     "name": "stdout",
     "output_type": "stream",
     "text": [
      "0->445\n",
      "1->1780\n",
      "2->121\n",
      "3->16\n",
      "4->8\n",
      "5->399\n",
      "6->7\n",
      "7->3889\n",
      "8->1826\n",
      "9->1568\n",
      "10->587\n"
     ]
    }
   ],
   "source": [
    "data_dict = {\n",
    "    idx : [] for idx in range(11)\n",
    "}\n",
    "\n",
    "for data_path in single_mat_paths:\n",
    "    filename = data_path.split(\"/\")[-1].split(\".\")[0]\n",
    "    _cls = single_main_df[single_main_df[\"FileName\"] == filename][\"Rhythm\"].values.item()\n",
    "\n",
    "    data_dict[_cls].append(data_path)\n",
    "\n",
    "for key in data_dict:\n",
    "    print(f\"{key}->{len(data_dict[key])}\")"
   ]
  },
  {
   "cell_type": "code",
   "execution_count": 24,
   "id": "ef039dff-5ef3-4f80-9d7b-df982fe4b0f5",
   "metadata": {},
   "outputs": [
    {
     "name": "stdout",
     "output_type": "stream",
     "text": [
      "0->356--45\n",
      "1->1424--178\n",
      "2->96--13\n",
      "3->12--2\n",
      "4->6--1\n",
      "5->319--40\n",
      "6->5--1\n",
      "7->3111--389\n",
      "8->1460--183\n",
      "9->1254--157\n",
      "10->469--59\n"
     ]
    }
   ],
   "source": [
    "train_data_dict = {\n",
    "    _cls : data_dict[_cls][:int(0.8*len(data_dict[_cls]))] for _cls in data_dict\n",
    "}\n",
    "\n",
    "valid_data_dict = {\n",
    "    _cls : data_dict[_cls][int(0.9*len(data_dict[_cls])):] for _cls in data_dict\n",
    "}\n",
    "\n",
    "for key in train_data_dict:\n",
    "    print(f\"{key}->{len(train_data_dict[key])}--{len(valid_data_dict[key])}\")"
   ]
  },
  {
   "cell_type": "code",
   "execution_count": 25,
   "id": "4fa08ec9-2dc6-4690-ab1b-f653d3a8d10d",
   "metadata": {},
   "outputs": [
    {
     "name": "stdout",
     "output_type": "stream",
     "text": [
      "8512\n",
      "1068\n"
     ]
    }
   ],
   "source": [
    "train_data_paths = []\n",
    "for key in train_data_dict:\n",
    "    train_data_paths.extend(train_data_dict[key])\n",
    "valid_data_paths = []\n",
    "for key in valid_data_dict:\n",
    "    valid_data_paths.extend(valid_data_dict[key])\n",
    "print(len(train_data_paths))\n",
    "print(len(valid_data_paths))"
   ]
  },
  {
   "cell_type": "code",
   "execution_count": 26,
   "id": "5e92b032-fb47-4b7c-b675-9ea3ae5d8a45",
   "metadata": {},
   "outputs": [
    {
     "name": "stdout",
     "output_type": "stream",
     "text": [
      "8512\n",
      "1068\n"
     ]
    }
   ],
   "source": [
    "train_ds = ECG(train_data_paths, single_main_df)\n",
    "valid_ds = ECG(valid_data_paths, single_main_df)\n",
    "\n",
    "print(len(train_ds))\n",
    "print(len(valid_ds))"
   ]
  },
  {
   "cell_type": "code",
   "execution_count": 27,
   "id": "701f345f-bc5e-434d-ab2f-ece864f14b99",
   "metadata": {},
   "outputs": [
    {
     "name": "stdout",
     "output_type": "stream",
     "text": [
      "133\n",
      "1068\n"
     ]
    }
   ],
   "source": [
    "device = torch.device(\"cuda\" if torch.cuda.is_available() else \"cpu\", index = 1)\n",
    "# batch_size = 32\n",
    "batch_size = 64\n",
    "\n",
    "traindl = DataLoader(\n",
    "    train_ds,\n",
    "    batch_size=batch_size, \n",
    "    shuffle=True, \n",
    "    pin_memory=True, \n",
    "    num_workers=os.cpu_count()//2\n",
    "    # num_workers = 0\n",
    ")\n",
    "\n",
    "validdl = DataLoader(\n",
    "    valid_ds,\n",
    "    batch_size=1, \n",
    "    shuffle=True, \n",
    "    pin_memory=True, \n",
    "    num_workers=os.cpu_count()//2\n",
    "    # num_workers = 0\n",
    ")\n",
    "\n",
    "print(len(traindl))\n",
    "print(len(validdl))"
   ]
  },
  {
   "cell_type": "code",
   "execution_count": 28,
   "id": "6c1d1750",
   "metadata": {},
   "outputs": [],
   "source": [
    "class FocalClassifierV0(nn.Module):\n",
    "    def __init__(self, gamma=0.1): #Change gamma value here in order to acquire other results\n",
    "        super().__init__()\n",
    "        \n",
    "        self.gamma = gamma\n",
    "        self.act = nn.LogSoftmax(dim=1)\n",
    "\n",
    "    \n",
    "    def forward(self, pred, target):\n",
    "\n",
    "        logits = self.act(pred)\n",
    "\n",
    "        B, C = tuple(logits.size())\n",
    "\n",
    "        entropy = torch.pow(1 - logits, self.gamma) * logits * F.one_hot(target, num_classes=C).float()\n",
    "\n",
    "        return (-1 / B) * torch.sum(entropy)\n",
    "\n",
    "focalloss_fn = FocalClassifierV0()"
   ]
  },
  {
   "cell_type": "code",
   "execution_count": 29,
   "id": "0e3fd1ae-3394-4ecb-9681-c34210dcbd05",
   "metadata": {},
   "outputs": [],
   "source": [
    "epoch = 150\n",
    "lr = 0.0005\n",
    "model.to(device)\n",
    "optimizer = Adam(model.parameters(), lr=lr)\n",
    "scheduler = CosineAnnealingLR(optimizer=optimizer, T_max=epoch)\n",
    "loss_fn = nn.CrossEntropyLoss()\n",
    "best_acc = 0\n",
    "best_ep = 0"
   ]
  },
  {
   "cell_type": "code",
   "execution_count": 30,
   "id": "d172aded-4332-40ad-9206-d2ea45c5b545",
   "metadata": {},
   "outputs": [
    {
     "name": "stdout",
     "output_type": "stream",
     "text": [
      "Epoch: 0\n"
     ]
    },
    {
     "name": "stderr",
     "output_type": "stream",
     "text": [
      "133it [00:12, 11.03it/s]"
     ]
    },
    {
     "name": "stdout",
     "output_type": "stream",
     "text": [
      "train loss: nan - train acc: 4.182330827067669\n"
     ]
    },
    {
     "name": "stderr",
     "output_type": "stream",
     "text": [
      "\n",
      "1068it [00:03, 288.43it/s]"
     ]
    },
    {
     "name": "stdout",
     "output_type": "stream",
     "text": [
      "valid loss: nan - valid acc: 4.213483146067416\n",
      "Epoch: 1\n"
     ]
    },
    {
     "name": "stderr",
     "output_type": "stream",
     "text": [
      "\n",
      "133it [00:11, 11.52it/s]"
     ]
    },
    {
     "name": "stdout",
     "output_type": "stream",
     "text": [
      "train loss: nan - train acc: 4.182330827067669\n"
     ]
    },
    {
     "name": "stderr",
     "output_type": "stream",
     "text": [
      "\n",
      "359it [00:02, 136.55it/s]\n"
     ]
    },
    {
     "ename": "KeyboardInterrupt",
     "evalue": "",
     "output_type": "error",
     "traceback": [
      "\u001b[0;31m---------------------------------------------------------------------------\u001b[0m",
      "\u001b[0;31mKeyboardInterrupt\u001b[0m                         Traceback (most recent call last)",
      "Cell \u001b[0;32mIn[30], line 37\u001b[0m\n\u001b[1;32m     35\u001b[0m batch_cnt \u001b[38;5;241m=\u001b[39m batch\n\u001b[1;32m     36\u001b[0m valid_sig \u001b[38;5;241m=\u001b[39m valid_sig\u001b[38;5;241m.\u001b[39mto(device)\n\u001b[0;32m---> 37\u001b[0m valid_label \u001b[38;5;241m=\u001b[39m \u001b[43mvalid_label\u001b[49m\u001b[38;5;241;43m.\u001b[39;49m\u001b[43mto\u001b[49m\u001b[43m(\u001b[49m\u001b[43mdevice\u001b[49m\u001b[43m)\u001b[49m\n\u001b[1;32m     39\u001b[0m pred \u001b[38;5;241m=\u001b[39m model(valid_sig)\n\u001b[1;32m     40\u001b[0m loss \u001b[38;5;241m=\u001b[39m loss_fn(pred, valid_label)\n",
      "\u001b[0;31mKeyboardInterrupt\u001b[0m: "
     ]
    }
   ],
   "source": [
    "for e in range(epoch):\n",
    "    model.train()\n",
    "    print(f\"Epoch: {e}\")\n",
    "    batch_cnt = 0\n",
    "    total_loss = 0\n",
    "    correct = 0\n",
    "    for batch, (train_sig, train_label) in tqdm(enumerate(traindl)):\n",
    "        batch_cnt = batch\n",
    "        train_sig = train_sig.to(device)\n",
    "        train_label = train_label.to(device)\n",
    "        \n",
    "        pred = model(train_sig)\n",
    "        loss = focalloss_fn(pred, train_label)\n",
    "        \n",
    "        optimizer.zero_grad()\n",
    "        loss.backward()\n",
    "        optimizer.step()\n",
    "        \n",
    "        scheduler.step()\n",
    "        \n",
    "        total_loss += loss.item()\n",
    "        correct += (pred.argmax(1) == train_label).type(torch.float).sum().item()\n",
    "    \n",
    "    total_loss /= batch_cnt\n",
    "    correct /= len(traindl.dataset)\n",
    "    \n",
    "    print(f\"train loss: {total_loss} - train acc: {100*correct}\")\n",
    "    \n",
    "    batch_cnt = 0\n",
    "    val_total_loss = 0\n",
    "    val_correct = 0\n",
    "    model.eval()\n",
    "    with torch.no_grad():\n",
    "        for batch, (valid_sig, valid_label) in tqdm(enumerate(validdl)):\n",
    "            batch_cnt = batch\n",
    "            valid_sig = valid_sig.to(device)\n",
    "            valid_label = valid_label.to(device)\n",
    "            \n",
    "            pred = model(valid_sig)\n",
    "            loss = loss_fn(pred, valid_label)\n",
    "            \n",
    "            val_total_loss += loss.item()\n",
    "            val_correct += (pred.argmax(1) == valid_label).type(torch.float).sum().item()\n",
    "    \n",
    "        val_total_loss /= batch_cnt\n",
    "        val_correct /= len(validdl.dataset)\n",
    "        \n",
    "        if val_correct > best_acc:\n",
    "            best_acc = val_correct\n",
    "            best_ep = e\n",
    "        \n",
    "        print(f\"valid loss: {val_total_loss} - valid acc: {100*val_correct}\")\n",
    "        \n",
    "print(f\"Best acuracy: {best_acc} at epoch {best_ep}\")"
   ]
  },
  {
   "cell_type": "code",
   "execution_count": null,
   "id": "95dc7b2b-0734-482b-8c82-ccd61d2c93c1",
   "metadata": {},
   "outputs": [],
   "source": []
  }
 ],
 "metadata": {
  "kernelspec": {
   "display_name": "Python 3 (ipykernel)",
   "language": "python",
   "name": "python3"
  },
  "language_info": {
   "codemirror_mode": {
    "name": "ipython",
    "version": 3
   },
   "file_extension": ".py",
   "mimetype": "text/x-python",
   "name": "python",
   "nbconvert_exporter": "python",
   "pygments_lexer": "ipython3",
   "version": "3.10.7"
  },
  "widgets": {
   "application/vnd.jupyter.widget-state+json": {
    "state": {},
    "version_major": 2,
    "version_minor": 0
   }
  }
 },
 "nbformat": 4,
 "nbformat_minor": 5
}
